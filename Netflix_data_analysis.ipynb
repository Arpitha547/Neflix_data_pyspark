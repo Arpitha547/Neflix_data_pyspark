{
 "cells": [
  {
   "cell_type": "code",
   "execution_count": 0,
   "metadata": {
    "application/vnd.databricks.v1+cell": {
     "cellMetadata": {
      "byteLimit": 2048000,
      "rowLimit": 10000
     },
     "inputWidgets": {},
     "nuid": "d52de00a-eb66-4c6e-8b60-77b98c81e83c",
     "showTitle": false,
     "tableResultSettingsMap": {},
     "title": ""
    }
   },
   "outputs": [],
   "source": [
    "from pyspark.sql import SparkSession\n",
    "from pyspark.sql.types import*\n",
    "from pyspark.sql.window import Window\n",
    "from pyspark.sql.functions import*\n",
    "spark=SparkSession.builder.appName('Neflix_data').getOrCreate()\n"
   ]
  },
  {
   "cell_type": "code",
   "execution_count": 0,
   "metadata": {
    "application/vnd.databricks.v1+cell": {
     "cellMetadata": {
      "byteLimit": 2048000,
      "rowLimit": 10000
     },
     "inputWidgets": {},
     "nuid": "f11eb3e1-fe68-4dec-a611-84739f5c2104",
     "showTitle": false,
     "tableResultSettingsMap": {},
     "title": ""
    }
   },
   "outputs": [],
   "source": [
    "raw_titles_schema = StructType([\n",
    "    StructField(\"id\", StringType(), True),                    # Unique ID (String)\n",
    "    StructField(\"title\", StringType(), True),                 # Title of the media (String)\n",
    "    StructField(\"type\", StringType(), True),                  # Type of content (e.g., Movie, Series) (String)\n",
    "    StructField(\"release_year\", IntegerType(), True),         # Release year (Integer)\n",
    "    StructField(\"age_certification\", StringType(), True),     # Age rating (String)\n",
    "    StructField(\"runtime\", IntegerType(), True),              # Runtime in minutes (Integer)\n",
    "    StructField(\"genres\", StringType(), True),                # Genres as comma-separated values (String)\n",
    "    StructField(\"production_countries\", StringType(), True),  # Production countries as comma-separated values (String)\n",
    "    StructField(\"seasons\", IntegerType(), True),              # Number of seasons (Integer, for series)\n",
    "    StructField(\"imdb_id\", StringType(), True),               # IMDb ID (String)\n",
    "    StructField(\"imdb_score\", DecimalType(3, 1), True),       # IMDb score (Decimal with precision 3, scale 1)\n",
    "    StructField(\"imdb_votes\", IntegerType(), True)            # Number of IMDb votes (Integer)\n",
    "])\n",
    "raw_titles_df=spark.read.format(\"csv\").schema(raw_titles_schema).option(\"header\",True).load(\"/FileStore/tables/raw_titles.csv\")\n",
    "#raw_titles_df.show()\n",
    "\n"
   ]
  },
  {
   "cell_type": "code",
   "execution_count": 0,
   "metadata": {
    "application/vnd.databricks.v1+cell": {
     "cellMetadata": {
      "byteLimit": 2048000,
      "rowLimit": 10000
     },
     "inputWidgets": {},
     "nuid": "d19c4280-8915-4ddc-aa2a-3e555eaf72e8",
     "showTitle": false,
     "tableResultSettingsMap": {},
     "title": ""
    }
   },
   "outputs": [],
   "source": [
    "raw_credits_schema=StructType([\n",
    "    StructField(\"person_id\", IntegerType(), True),  # Unique person ID (Integer)\n",
    "    StructField(\"id\", StringType(), True),         # Associated content ID (String)\n",
    "    StructField(\"name\", StringType(), True),       # Person's name (String)\n",
    "    StructField(\"character\", StringType(), True),  # Character played (String)\n",
    "    StructField(\"role\", StringType(), True)        # Role (e.g., Actor, Director) (String)\n",
    "])\n",
    "\n",
    "raw_credits_df=spark.read.format(\"csv\").schema(raw_credits_schema).option(\"header\",True).load(\"/FileStore/tables/raw_credits.csv\")"
   ]
  },
  {
   "cell_type": "code",
   "execution_count": 0,
   "metadata": {
    "application/vnd.databricks.v1+cell": {
     "cellMetadata": {
      "byteLimit": 2048000,
      "rowLimit": 10000
     },
     "inputWidgets": {},
     "nuid": "3acd20ec-2e09-4fe7-84e0-df8cb1eb6f29",
     "showTitle": false,
     "tableResultSettingsMap": {},
     "title": ""
    }
   },
   "outputs": [],
   "source": [
    "best_shows_schema=StructType([\n",
    "    StructField(\"title\", StringType(), True),               # Title of the media (String)\n",
    "    StructField(\"release_year\", IntegerType(), True),       # Release year (Integer, used in place of YearType)\n",
    "    StructField(\"score\", DecimalType(4, 2), True),          # Score (Decimal with precision 4, scale 2)\n",
    "    StructField(\"number_of_votes\", IntegerType(), True),    # Number of votes (Integer)\n",
    "    StructField(\"duration\", IntegerType(), True),           # Duration in minutes (Integer)\n",
    "    StructField(\"number_of_seasons\", IntegerType(), True),  # Number of seasons (Integer, for series)\n",
    "    StructField(\"main_genre\", StringType(), True),          # Main genre (String)\n",
    "    StructField(\"main_production\", StringType(), True)      # Main production country (String)\n",
    "])\n",
    "\n",
    "best_shows_df=spark.read.format(\"csv\").schema(best_shows_schema).option(\"header\",True).load(\"/FileStore/tables/Best_Shows_Netflix.csv\")"
   ]
  },
  {
   "cell_type": "code",
   "execution_count": 0,
   "metadata": {
    "application/vnd.databricks.v1+cell": {
     "cellMetadata": {
      "byteLimit": 2048000,
      "rowLimit": 10000
     },
     "inputWidgets": {},
     "nuid": "18ffa5a7-edda-49af-9172-06aeff7a5ee4",
     "showTitle": false,
     "tableResultSettingsMap": {},
     "title": ""
    }
   },
   "outputs": [],
   "source": [
    "best_show_by_year_schema=StructType([\n",
    "    StructField(\"title\", StringType(), True),               # Title of the media (String)\n",
    "    StructField(\"release_year\", IntegerType(), True),       # Release year (Integer, used in place of YearType)\n",
    "    StructField(\"score\", DecimalType(4, 2), True),          # Score (Decimal with precision 4, scale 2)\n",
    "    StructField(\"number_of_seasons\", IntegerType(), True),  # Number of seasons (Integer, nullable for movies)\n",
    "    StructField(\"main_genre\", StringType(), True),          # Main genre (String)\n",
    "    StructField(\"main_production\", StringType(), True)      # Main production country (String)\n",
    "])\n",
    "\n",
    "best_show_by_year_df=spark.read.format(\"csv\").schema(best_show_by_year_schema).option(\"header\",True).load(\"/FileStore/tables/Best_Show_by_Year_Netflix.csv\")"
   ]
  },
  {
   "cell_type": "code",
   "execution_count": 0,
   "metadata": {
    "application/vnd.databricks.v1+cell": {
     "cellMetadata": {
      "byteLimit": 2048000,
      "rowLimit": 10000
     },
     "inputWidgets": {},
     "nuid": "2ab92e2c-5d3f-484e-a6ed-ebb80b28c1f5",
     "showTitle": false,
     "tableResultSettingsMap": {},
     "title": ""
    }
   },
   "outputs": [],
   "source": [
    "best_movies_schema=StructType([\n",
    "    StructField(\"title\", StringType(), True),               # Title of the media (String)\n",
    "    StructField(\"release_year\", IntegerType(), True),       # Release year (Integer, used in place of YearType)\n",
    "    StructField(\"score\", DecimalType(4, 2), True),          # Score (Decimal with precision 4, scale 2)\n",
    "    StructField(\"number_of_votes\", IntegerType(), True),    # Number of votes (Integer)\n",
    "    StructField(\"duration\", IntegerType(), True),           # Duration in minutes (Integer)\n",
    "    StructField(\"main_genre\", StringType(), True),          # Main genre (String)\n",
    "    StructField(\"main_production\", StringType(), True)      # Main production country (String)\n",
    "])\n",
    "best_movies_df=spark.read.format(\"csv\").schema(best_movies_schema).option(\"header\",True).load(\"/FileStore/tables/Best_Movies_Netflix.csv\")"
   ]
  },
  {
   "cell_type": "code",
   "execution_count": 0,
   "metadata": {
    "application/vnd.databricks.v1+cell": {
     "cellMetadata": {
      "byteLimit": 2048000,
      "rowLimit": 10000
     },
     "inputWidgets": {},
     "nuid": "fb070a2a-bac9-4957-8cc1-c2d6339ac712",
     "showTitle": false,
     "tableResultSettingsMap": {},
     "title": ""
    }
   },
   "outputs": [],
   "source": [
    "best_movie_by_year_schema=StructType([\n",
    "    StructField(\"title\", StringType(), True),               # Title of the media (String)\n",
    "    StructField(\"release_year\", IntegerType(), True),       # Release year (Integer, used in place of YearType)\n",
    "    StructField(\"score\", DecimalType(4, 2), True),          # Score (Decimal with precision 4, scale 2)\n",
    "    StructField(\"main_genre\", StringType(), True),          # Main genre (String)\n",
    "    StructField(\"main_production\", StringType(), True)      # Main production country (String)\n",
    "])\n",
    "\n",
    "best_movie_by_year_df=spark.read.format(\"csv\").schema(best_movie_by_year_schema).option(\"header\",True).load(\"/FileStore/tables/Best_Movie_by_Year_Netflix.csv\")"
   ]
  },
  {
   "cell_type": "code",
   "execution_count": 0,
   "metadata": {
    "application/vnd.databricks.v1+cell": {
     "cellMetadata": {
      "byteLimit": 2048000,
      "rowLimit": 10000
     },
     "inputWidgets": {},
     "nuid": "119f784a-93fe-4b88-9b12-d2e087e2fc38",
     "showTitle": false,
     "tableResultSettingsMap": {},
     "title": ""
    }
   },
   "outputs": [
    {
     "output_type": "stream",
     "name": "stdout",
     "output_type": "stream",
     "text": [
      "+---------------+----------+\n|main_production|main_genre|\n+---------------+----------+\n|             US|     drama|\n+---------------+----------+\n\n"
     ]
    }
   ],
   "source": [
    "best_movie_by_year_df=best_movie_by_year_df.dropDuplicates(['release_year'])\n",
    "# finding top production with best movies and top genre\n",
    "top_production_and_genre_df=best_movie_by_year_df.groupBy(\"main_production\").count().orderBy(col(\"count\").desc()).select(\"main_production\").limit(1)\n",
    "top_genre=best_movie_by_year_df.groupBy(\"main_genre\").count().orderBy(col(\"count\").desc()).select(\"main_genre\").limit(1)\n",
    "top_production_and_genre_df=top_production_and_genre_df.crossJoin(top_genre)\n",
    "\n",
    "top_production_and_genre_df.show()"
   ]
  },
  {
   "cell_type": "code",
   "execution_count": 0,
   "metadata": {
    "application/vnd.databricks.v1+cell": {
     "cellMetadata": {
      "byteLimit": 2048000,
      "rowLimit": 10000
     },
     "inputWidgets": {},
     "nuid": "fd75b3b7-4ce2-4ac4-8780-6ef7e54937ce",
     "showTitle": false,
     "tableResultSettingsMap": {},
     "title": ""
    }
   },
   "outputs": [
    {
     "output_type": "display_data",
     "data": {
      "text/html": [
       "<style scoped>\n",
       "  .table-result-container {\n",
       "    max-height: 300px;\n",
       "    overflow: auto;\n",
       "  }\n",
       "  table, th, td {\n",
       "    border: 1px solid black;\n",
       "    border-collapse: collapse;\n",
       "  }\n",
       "  th, td {\n",
       "    padding: 5px;\n",
       "  }\n",
       "  th {\n",
       "    text-align: left;\n",
       "  }\n",
       "</style><div class='table-result-container'><table class='table-result'><thead style='background-color: white'><tr><th>title</th><th>release_year</th><th>score</th><th>number_of_votes</th><th>duration</th><th>main_genre</th><th>main_production</th></tr></thead><tbody><tr><td>13th</td><td>2016</td><td>8.20</td><td>34914</td><td>100</td><td>documentary</td><td>US</td></tr><tr><td>A Monster Calls</td><td>2016</td><td>7.50</td><td>86614</td><td>108</td><td>fantasy</td><td>ES</td></tr><tr><td>A Silent Voice: The Movie</td><td>2016</td><td>8.10</td><td>75132</td><td>130</td><td>romance</td><td>JP</td></tr><tr><td>Amanda Knox</td><td>2016</td><td>6.90</td><td>23969</td><td>92</td><td>crime</td><td>DK</td></tr><tr><td>Blue Jay</td><td>2016</td><td>7.30</td><td>17033</td><td>81</td><td>romance</td><td>US</td></tr><tr><td>Bo Burnham: Make Happy</td><td>2016</td><td>8.40</td><td>14356</td><td>60</td><td>comedy</td><td>US</td></tr><tr><td>Christine</td><td>2016</td><td>6.90</td><td>14977</td><td>115</td><td>drama</td><td>US</td></tr><tr><td>Dangal</td><td>2016</td><td>8.40</td><td>180247</td><td>161</td><td>action</td><td>IN</td></tr><tr><td>Gantz:O</td><td>2016</td><td>7.10</td><td>14501</td><td>95</td><td>animation</td><td>JP</td></tr><tr><td>Hell or High Water</td><td>2016</td><td>7.60</td><td>224900</td><td>102</td><td>western</td><td>US</td></tr><tr><td>Hunt for the Wilderpeople</td><td>2016</td><td>7.80</td><td>125720</td><td>101</td><td>comedy</td><td>NZ</td></tr><tr><td>Kapoor & Sons</td><td>2016</td><td>7.70</td><td>25792</td><td>132</td><td>romance</td><td>IN</td></tr><tr><td>Kung Fu Panda 3</td><td>2016</td><td>7.10</td><td>152791</td><td>95</td><td>comedy</td><td>US</td></tr><tr><td>Loving</td><td>2016</td><td>7.00</td><td>34139</td><td>123</td><td>drama</td><td>GB</td></tr><tr><td>Nocturnal Animals</td><td>2016</td><td>7.50</td><td>264884</td><td>115</td><td>drama</td><td>US</td></tr><tr><td>Raman Raghav 2.0</td><td>2016</td><td>7.40</td><td>14380</td><td>134</td><td>thriller</td><td>IN</td></tr><tr><td>Raw</td><td>2016</td><td>7.00</td><td>72460</td><td>98</td><td>horror</td><td>BE</td></tr><tr><td>Te3n</td><td>2016</td><td>7.30</td><td>12816</td><td>136</td><td>thriller</td><td>IN</td></tr><tr><td>The Conjuring 2</td><td>2016</td><td>7.30</td><td>260693</td><td>134</td><td>thriller</td><td>US</td></tr><tr><td>The Distinguished Citizen</td><td>2016</td><td>7.50</td><td>11495</td><td>118</td><td>comedy</td><td>AR</td></tr><tr><td>The Edge of Seventeen</td><td>2016</td><td>7.30</td><td>120488</td><td>104</td><td>comedy</td><td>US</td></tr><tr><td>The Fundamentals of Caring</td><td>2016</td><td>7.30</td><td>70542</td><td>97</td><td>drama</td><td>US</td></tr><tr><td>The Siege of Jadotville</td><td>2016</td><td>7.20</td><td>38308</td><td>108</td><td>thriller</td><td>IE</td></tr><tr><td>Udta Punjab</td><td>2016</td><td>7.80</td><td>29819</td><td>148</td><td>crime</td><td>IN</td></tr><tr><td>War Dogs</td><td>2016</td><td>7.10</td><td>208185</td><td>114</td><td>crime</td><td>US</td></tr><tr><td>Wazir</td><td>2016</td><td>7.20</td><td>18681</td><td>103</td><td>thriller</td><td>IN</td></tr></tbody></table></div>"
      ]
     },
     "metadata": {
      "application/vnd.databricks.v1+output": {
       "addedWidgets": {},
       "aggData": [],
       "aggError": "",
       "aggOverflow": false,
       "aggSchema": [],
       "aggSeriesLimitReached": false,
       "aggType": "",
       "arguments": {},
       "columnCustomDisplayInfos": {},
       "data": [
        [
         "13th",
         2016,
         "8.20",
         34914,
         100,
         "documentary",
         "US"
        ],
        [
         "A Monster Calls",
         2016,
         "7.50",
         86614,
         108,
         "fantasy",
         "ES"
        ],
        [
         "A Silent Voice: The Movie",
         2016,
         "8.10",
         75132,
         130,
         "romance",
         "JP"
        ],
        [
         "Amanda Knox",
         2016,
         "6.90",
         23969,
         92,
         "crime",
         "DK"
        ],
        [
         "Blue Jay",
         2016,
         "7.30",
         17033,
         81,
         "romance",
         "US"
        ],
        [
         "Bo Burnham: Make Happy",
         2016,
         "8.40",
         14356,
         60,
         "comedy",
         "US"
        ],
        [
         "Christine",
         2016,
         "6.90",
         14977,
         115,
         "drama",
         "US"
        ],
        [
         "Dangal",
         2016,
         "8.40",
         180247,
         161,
         "action",
         "IN"
        ],
        [
         "Gantz:O",
         2016,
         "7.10",
         14501,
         95,
         "animation",
         "JP"
        ],
        [
         "Hell or High Water",
         2016,
         "7.60",
         224900,
         102,
         "western",
         "US"
        ],
        [
         "Hunt for the Wilderpeople",
         2016,
         "7.80",
         125720,
         101,
         "comedy",
         "NZ"
        ],
        [
         "Kapoor & Sons",
         2016,
         "7.70",
         25792,
         132,
         "romance",
         "IN"
        ],
        [
         "Kung Fu Panda 3",
         2016,
         "7.10",
         152791,
         95,
         "comedy",
         "US"
        ],
        [
         "Loving",
         2016,
         "7.00",
         34139,
         123,
         "drama",
         "GB"
        ],
        [
         "Nocturnal Animals",
         2016,
         "7.50",
         264884,
         115,
         "drama",
         "US"
        ],
        [
         "Raman Raghav 2.0",
         2016,
         "7.40",
         14380,
         134,
         "thriller",
         "IN"
        ],
        [
         "Raw",
         2016,
         "7.00",
         72460,
         98,
         "horror",
         "BE"
        ],
        [
         "Te3n",
         2016,
         "7.30",
         12816,
         136,
         "thriller",
         "IN"
        ],
        [
         "The Conjuring 2",
         2016,
         "7.30",
         260693,
         134,
         "thriller",
         "US"
        ],
        [
         "The Distinguished Citizen",
         2016,
         "7.50",
         11495,
         118,
         "comedy",
         "AR"
        ],
        [
         "The Edge of Seventeen",
         2016,
         "7.30",
         120488,
         104,
         "comedy",
         "US"
        ],
        [
         "The Fundamentals of Caring",
         2016,
         "7.30",
         70542,
         97,
         "drama",
         "US"
        ],
        [
         "The Siege of Jadotville",
         2016,
         "7.20",
         38308,
         108,
         "thriller",
         "IE"
        ],
        [
         "Udta Punjab",
         2016,
         "7.80",
         29819,
         148,
         "crime",
         "IN"
        ],
        [
         "War Dogs",
         2016,
         "7.10",
         208185,
         114,
         "crime",
         "US"
        ],
        [
         "Wazir",
         2016,
         "7.20",
         18681,
         103,
         "thriller",
         "IN"
        ]
       ],
       "datasetInfos": [],
       "dbfsResultPath": null,
       "isJsonSchema": true,
       "metadata": {},
       "overflow": false,
       "plotOptions": {
        "customPlotOptions": {},
        "displayType": "table",
        "pivotAggregation": null,
        "pivotColumns": null,
        "xColumns": null,
        "yColumns": null
       },
       "removedWidgets": [],
       "schema": [
        {
         "metadata": "{}",
         "name": "title",
         "type": "\"string\""
        },
        {
         "metadata": "{}",
         "name": "release_year",
         "type": "\"integer\""
        },
        {
         "metadata": "{}",
         "name": "score",
         "type": "\"decimal(4,2)\""
        },
        {
         "metadata": "{}",
         "name": "number_of_votes",
         "type": "\"integer\""
        },
        {
         "metadata": "{}",
         "name": "duration",
         "type": "\"integer\""
        },
        {
         "metadata": "{}",
         "name": "main_genre",
         "type": "\"string\""
        },
        {
         "metadata": "{}",
         "name": "main_production",
         "type": "\"string\""
        }
       ],
       "type": "table"
      }
     },
     "output_type": "display_data"
    }
   ],
   "source": [
    "# checking for duplicates and removing them\n",
    "window=Window.partitionBy(\"title\",\"release_year\").orderBy(\"release_year\")\n",
    "best_movies_check_duplicates_df=best_movies_df.withColumn(\"rn\",row_number().over(window))\n",
    "best_movies_df=best_movies_check_duplicates_df.select(\"title\",\"release_year\",\"score\",\"number_of_votes\",\"duration\",\"main_genre\",\"main_production\").filter(col(\"rn\")==1)\n",
    "display(best_movies_df.filter(col(\"release_year\")==2016))"
   ]
  },
  {
   "cell_type": "code",
   "execution_count": 0,
   "metadata": {
    "application/vnd.databricks.v1+cell": {
     "cellMetadata": {
      "byteLimit": 2048000,
      "rowLimit": 10000
     },
     "inputWidgets": {},
     "nuid": "433ebee5-6d34-42bb-bfb4-59bbcb61f093",
     "showTitle": false,
     "tableResultSettingsMap": {},
     "title": ""
    }
   },
   "outputs": [
    {
     "output_type": "display_data",
     "data": {
      "text/html": [
       "<style scoped>\n",
       "  .table-result-container {\n",
       "    max-height: 300px;\n",
       "    overflow: auto;\n",
       "  }\n",
       "  table, th, td {\n",
       "    border: 1px solid black;\n",
       "    border-collapse: collapse;\n",
       "  }\n",
       "  th, td {\n",
       "    padding: 5px;\n",
       "  }\n",
       "  th {\n",
       "    text-align: left;\n",
       "  }\n",
       "</style><div class='table-result-container'><table class='table-result'><thead style='background-color: white'><tr><th>id</th><th>title</th><th>release_year</th><th>duration</th><th>imdb_id</th><th>imdb_score</th><th>number_of_votes</th><th>genres</th><th>main_production</th><th>age_certification</th><th>cast_&_crew</th></tr></thead><tbody><tr><td>tm853783</td><td>David Attenborough: A Life on Our Planet</td><td>2020</td><td>83</td><td>tt11989890</td><td>9.0</td><td>31180</td><td>['documentation']</td><td>GB</td><td>PG</td><td>Map(ACTOR -> Max Hughes, David Attenborough, DIRECTOR -> Alastair Fothergill, Jonathan Hughes, Keith Scholey)</td></tr><tr><td>tm122434</td><td>Forrest Gump</td><td>1994</td><td>142</td><td>tt0109830</td><td>8.8</td><td>1994599</td><td>['drama', 'romance', 'comedy']</td><td>US</td><td>PG-13</td><td>Map(ACTOR -> Michael Oliver, Jim Hanks, Tyler Long, W. Benson Terry, Bob Harks, Jeffrey Winner, Kurt Russell, Mary Ellen Trainor, Robb Skyler, William Shipman, Brendan Shanahan, Jacqueline Lovell, Aaron Michael Lacey, Zach Hanner, Bryan Hanna, Troy Christian, Greg Brown, Bob Penny, Timothy McNeil, Charles Boswell, Michael Mattison, Hallie D'Amore, Nora Dunfee, Matt Rebenkoff, Lazarus Jackson, Joe Alaskey, Marla Sucharetza, Tiffany Salerno, Dick Cavett, Emily Carey, Vanessa Roth, Geoffrey Blake, Michael Jace, Kevin Davis, Richard D'Alessandro, Isabel Rose, John William Galt, Stephen Bridgewater, Steve DeRelian, Byron Minns, Michael McFall, Steven Griffith, Michael Burgess, Daniel J. Gillooly, John Voldstad, Michael Kemmerling, Mike Jolly, Matt Wallace, Don Fischer, Jed Gillin, Joe Washington, Al Harrington, Mark Matheisen, Kitty K. Green, Marlena Smalls, Kirk Ward, David Brisbin, Daniel C. Striepeke, Brett Rice, Kevin Mangan, Christopher Jones, Margo Moorer, Sam Anderson, George Kelly, Sonny Shroyer, Peter Dobson, Afemo Omilami, Siobhan Fallon Hogan, Haley Joel Osment, Hanna Hall, Michael Conner Humphreys, Sally Field, Mykelti Williamson, Gary Sinise, Robin Wright, Tom Hanks, DIRECTOR -> Robert Zemeckis)</td></tr><tr><td>tm92641</td><td>Inception</td><td>2010</td><td>148</td><td>tt1375666</td><td>8.8</td><td>2268288</td><td>['scifi', 'music', 'thriller', 'action']</td><td>GB</td><td>PG-13</td><td>Map(ACTOR -> Daniel Girondeaud, Shannon Welles, Lisa Reynolds, Andrew Pleavin, Felix Scott, Michael Gaston, Peter Basham, Nicole Pulliam, Alex Lombard, Jill Maddrell, Carl Gilliard, Natasha Beaumont, Jack Murray, Adam Cole, Mark Fleischmann, Helena Cullinan, Magnus Nolan, Tai-Li Lee, Marc Raducci, Jean-Michel Dagory, Nicolas Clerc, Virgile Bramly, Silvie Laguna, Coralie Dedykere, Tim Kelleher, Russ Fega, Miranda Nolan, Ryan Hayward, Earl Cameron, Yuji Okumoto, Johnathan Geare, Claire Geare, Taylor Geare, Tohoru Masamune, Talulah Riley, Lukas Haas, Michael Caine, Pete Postlethwaite, Marion Cotillard, Tom Berenger, Cillian Murphy, Dileep Rao, Elliot Page, Tom Hardy, Ken Watanabe, Joseph Gordon-Levitt, Leonardo DiCaprio, DIRECTOR -> Christopher Nolan)</td></tr><tr><td>tm1038686</td><td>Bo Burnham: Inside</td><td>2021</td><td>87</td><td>tt14545352</td><td>8.7</td><td>44074</td><td>['comedy', 'drama', 'music', 'reality']</td><td>US</td><td>R</td><td>Map(ACTOR -> Bo Burnham, DIRECTOR -> Bo Burnham)</td></tr><tr><td>tm129763</td><td>Anbe Sivam</td><td>2003</td><td>160</td><td>tt0367495</td><td>8.7</td><td>20595</td><td>['comedy', 'drama']</td><td>IN</td><td>null</td><td>Map(ACTOR -> Madhan, Krishnamoorthy, Kalairani, Poovilangu Mohan, Benjamin, Nellai Siva, Pasi Sathya, Uma Riyaz Khan, Muthukalai, Ilavarasu, Balu Anand, Vichu Vishwanath, R.S. Shivaji, Yugi Sethu, Seema, Santhana Bharathi, Kiran Rathod, Nassar, R. Madhavan, Kamal Haasan, DIRECTOR -> Sundar C)</td></tr><tr><td>tm57554</td><td>Saving Private Ryan</td><td>1998</td><td>169</td><td>tt0120815</td><td>8.6</td><td>1346020</td><td>['drama', 'war']</td><td>US</td><td>R</td><td>Map(ACTOR -> Vincent Ventresca, Leo Stransky, Derek Lea, Mac Steinmeier, Nina Muschallik, Thomas Gizbert, Rob Freeman, Kathleen Byron, Harrison Young, Amanda Boxer, Valerie Colgan, Eric Loren, David Wohl, Bryan Cranston, Dale Dye, Harve Presnell, Dorothy Grumbar, John Walters, Nick Brooks, Ryan Hurst, David Vegh, Leland Orser, Nathan Fillion, Anna Maguire, Stephane Cornicard, Stephan Grothgar, Tilo Keiner, Erich Redman, Sam Ellis, Nigel Whitmey, Raffaello Degruttola, Martin Hub, Crofton Hardester, Glenn Wrage, John Sharian, Grahame Wood, Vincent Walsh, Matthew Sharp, Andrew Scott, Lee Aaron Rosen, Mark Phillips, Martin McDougall, Laird Macintosh, Shane Johnson, Paul Hickey, Paschal Friel, Aiden Condron, Maclean Burke, John Barnett, Loclann Aiken, Corey Johnson, Rolf Saxon, Adam Shaw, Ronald Longridge, Seamus McQuade, Paul Garcia, Peter Miles, Neil Finnighan, Markus Napier, Marc Cass, William Marsh, Steve Griffin, Julian Spencer, Gary Sefton, Ian Porter, Demetri Goritsas, Daniel Cerqueira, Dylan Bruno, Max Martini, Joerg Stadler, Dennis Farina, Paul Giamatti, Jeremy Davies, Ted Danson, Giovanni Ribisi, Vin Diesel, Adam Goldberg, Barry Pepper, Matt Damon, Edward Burns, Tom Sizemore, Tom Hanks, DIRECTOR -> Steven Spielberg)</td></tr><tr><td>tm104880</td><td>Louis C.K.: Hilarious</td><td>2010</td><td>84</td><td>tt1421373</td><td>8.4</td><td>11973</td><td>['comedy']</td><td>US</td><td>null</td><td>Map(ACTOR -> Louis C.K., DIRECTOR -> Louis C.K.)</td></tr><tr><td>tm142564</td><td>3 Idiots</td><td>2009</td><td>170</td><td>tt1187043</td><td>8.4</td><td>385782</td><td>['comedy', 'drama']</td><td>IN</td><td>PG-13</td><td>Map(ACTOR -> Arun Bali, Ali Fazal, Javed Jaffrey, Rahul Kumar, Supriya Shukla, Rajeev Ravindranathan, Atul Tiwari, Akhil Mishra, Jayant Kripalani, Chaitali Bose, Achyut Potdar, Olivier Lafont, Mona Singh, Mukund Bhatt, Amardeep Jha, Parikshat Sahni, Farida Dadi, Omi Vaidya, Boman Irani, Kareena Kapoor Khan, R. Madhavan, Sharman Joshi, Aamir Khan, DIRECTOR -> Rajkumar Hirani)</td></tr><tr><td>tm242736</td><td>Bo Burnham: Make Happy</td><td>2016</td><td>60</td><td>tt5777636</td><td>8.4</td><td>14356</td><td>['comedy', 'music', 'documentation']</td><td>US</td><td>null</td><td>Map(ACTOR -> Lorene Scafaria, Bo Burnham, DIRECTOR -> Bo Burnham, Christopher Storer)</td></tr><tr><td>tm245671</td><td>Dangal</td><td>2016</td><td>161</td><td>tt5074352</td><td>8.4</td><td>180247</td><td>['action', 'drama', 'sport']</td><td>IN</td><td>PG</td><td>Map(ACTOR -> Gurpreet Toti, Shishir Sharma, Ansh Rathore, Meenu Prajapati, Sumit Khanna, Olamilekan Akanbi Jason, Jagbir, Badrul Islam, Ishika Gagneja, Karamveer Choudhary, Anmol Charan, Mahesh Balraj, Anurag Arora, Ravi Aneja, Ritwik Sahore, Vivan Bhatena, Girish Kulkarni, Suhani Bhatnagar, Zaira Wasim, Aparshakti Khurana, Sakshi Tanwar, Sanya Malhotra, Fatima Sana Shaikh, Aamir Khan, DIRECTOR -> Nitesh Tiwari)</td></tr><tr><td>tm283581</td><td>Super Deluxe</td><td>2019</td><td>176</td><td>tt7019942</td><td>8.4</td><td>13680</td><td>['thriller', 'action', 'comedy', 'crime', 'drama']</td><td>IN</td><td>NC-17</td><td>Map(ACTOR -> Abdool Lee, Kavin Jay Babu, Mirnalini Ravi, Jayanth, Noble K. James, Vijay Ram, Ashwanth Ashokkumar, Manushyaputhiran, Bagavathi Perumal, Gayathrie Shankar, Mysskin, Ramya Krishnan, Samantha Ruth Prabhu, Fahadh Faasil, Vijay Sethupathi, DIRECTOR -> Thiagarajan Kumararaja)</td></tr><tr><td>tm41792</td><td>Django Unchained</td><td>2012</td><td>165</td><td>tt1853728</td><td>8.4</td><td>1472668</td><td>['western', 'drama']</td><td>US</td><td>R</td><td>Map(ACTOR -> Fatimah Taliah, Russ Tamblyn, Misty Upham, Mark Ulano, Belinda Owino, Johnny Otto, Cindy Mah, Elton LeBlanc, Skipper Landry, Kasey James, Sandra Linz, Justin Hall, Gary Grubbs, Mike DeMille, Jordon Michael Corbin, Edward J. Clare, Kesha Bullard, Glen Warner, Richie J. Ladner, David G. Baker, Seth Bailey, Gregory Allen Gabroy, Ross P. Cook, Carl Bailey, Tenaj L. Jackson, Kimberley Drummond, Takara Clark, Deborah Ayorinde, Catherine Lambert, Marsha Stephanie Blake, Monica Rene'e Anderson, Mark Amos, John McConnell, Ashley Toman, Carl Singleton, Jakel Marshall, Keniaryn Mitchell, Lewis Smith, Todd Allen, Jamal Duff, Kerry Sims, Edrick Browne, Jarrod Bunch, Nicholas Dashnaw, Ritchie Montgomery, Brian Brown, Craig Stark, Evan Parke, Omar J. Dorsey, Jon Eyez, Danièle Watts, Dave Coennen, Ned Bellamy, Ronan Hice, Michael Bacall, Rex Linn, J.D. Evermore, Dane Rhodes, Kim Collins, Christopher Berry, Sharon Pierre-Louis, Grace Collins, Victoria Thomas, Jack Lucarelli, Shannon Hazlett, Shana Stein, Kim Robillard, Louise Stratten, Kinetic, Lil Chuuch, Marcus Henderson, Keith Jefferson, Amari Cheatom, Quentin Tarantino, John Jarratt, Michael Parks, Tom Savini, James Parks, Ted Neeley, Jake Garber, Robert Carradine, Michael Bowen, Zoë Bell, Lee Horsley, Jonah Hill, Doc Duhame, Cooper Huckabee, M.C. Gainey, Bruce Dern, Amber Tamblyn, Don Stroud, Tom Wopat, James Russo, Franco Nero, Don Johnson, Miriam F. Glover, Escalante Lundy, Clay Donahue Fontenot, Sammi Rotibi, Ato Essandoh, Laura Cayouette, Nichole Galicia, Dana Gourrier, David Steen, James Remar, Dennis Christopher, Walton Goggins, Samuel L. Jackson, Kerry Washington, Leonardo DiCaprio, Christoph Waltz, Jamie Foxx, DIRECTOR -> Quentin Tarantino)</td></tr><tr><td>tm827142</td><td>Dave Chappelle: Sticks & Stones</td><td>2019</td><td>65</td><td>tt10810424</td><td>8.4</td><td>25687</td><td>['comedy']</td><td>US</td><td>R</td><td>Map(ACTOR -> Dave Chappelle, DIRECTOR -> Stan Lathan)</td></tr><tr><td>tm86051</td><td>Black Friday</td><td>2004</td><td>143</td><td>tt0400234</td><td>8.4</td><td>20611</td><td>['crime', 'action', 'drama', 'history']</td><td>IN</td><td>R</td><td>Map(ACTOR -> Anurag Kashyap, Asif Basra, Savi Sidhu, Aliya Curmally, Sharad Ponkshe, Goutam Maitra, Prakash Jais, Pranay Narayan, Sujata Sehgal, Anil Yadav, Murali Sharma, Ashraf Ul Haq, Raj Singh Chaudhary, Ragesh Asthana, Vijay Maurya, Nawazuddin Siddiqui, Pratima Kazmi, Pankaj Jha, Imtiaz Ali, Zakir Hussain, Gajraj Rao, Kishore Kadam, Dibyendu Bhattacharya, Aditya Srivastava, Pavan Malhotra, Kay Kay Menon, DIRECTOR -> Anurag Kashyap)</td></tr><tr><td>tm162271</td><td>Bo Burnham: What.</td><td>2013</td><td>60</td><td>tt3210258</td><td>8.3</td><td>11488</td><td>['comedy', 'music', 'documentation']</td><td>US</td><td>null</td><td>Map(ACTOR -> Bo Burnham, DIRECTOR -> Bo Burnham, Christopher Storer)</td></tr><tr><td>tm180542</td><td>Once Upon a Time in America</td><td>1984</td><td>229</td><td>tt0087843</td><td>8.3</td><td>342335</td><td>['drama', 'crime', 'european']</td><td>US</td><td>R</td><td>Map(ACTOR -> Louise Fletcher, Maria Pia Monicelli, Mark Frazer, Susan Spafford, Alex Serra, Gianni Sanjust, Nicola Roberto, Ryan Paris, Ron Nummi, Chuck Low, Francesca Leone, Ole Jorgensen, Dario Iori, Nelson Camp, Nunzio Giuliani, Matteo Cafiso, Scott Coffey, Greg Anthony, Salvatore Billa, Jay Zeely, Massimo Liti, Mort Freeman, Bruce Bahrenburg, Paul Farentino, Cliff Cudney, Alexander Godfrey, Gerritt Debeer, Estelle Harris, Marty Licata, Arnon Milchan, Baxter Harris, Richard Zobel, Tandy Cronyn, Linda Ipanema, Joey Faye, Ann Neville, Marvin Scott, Joey Marzella, Frankie Caserta, Karen Shallo, Amy Ryder, Robert Harper, Dutch Miller, Gerard Murphy, Marcia Jean Kurtz, Angelo Florio, Mario Brega, Richard Foronjy, Ray Dittrich, Bruno Bilotta, Bruno Iannone, Paul Herman, Margherita Pace, Sandra Solberg, Mike Gendel, Jerry Strivelli, Frank Sisto, Clem Caserta, James Russo, Noah Moazezi, Julie Cohen, Adrian Curran, Mike Monetti, Brian Bloom, Rusty Jacobs, Scott Schutzman Tiler, Jennifer Connelly, Frank Gio, Olga Karlatos, Larry Rapp, Darlanne Fluegel, William Forsythe, James Hayden, Richard Bright, Danny Aiello, Treat Williams, Burt Young, Tuesday Weld, Joe Pesci, Elizabeth McGovern, James Woods, Robert De Niro, DIRECTOR -> Sergio Leone)</td></tr><tr><td>tm220594</td><td>Winter on Fire: Ukraine's Fight for Freedom</td><td>2015</td><td>98</td><td>tt4908644</td><td>8.3</td><td>17710</td><td>['documentation']</td><td>UA</td><td>null</td><td>Map(ACTOR -> Said Ismagilov, Timur Ibragimov, Dmytro Holubnychy, Natan Hazin, Mykhailo Havryliuk, Kurganskyi Eduard, Bogdan Dubas, Valery Dovgiy, Pavlo Dobryanskyy, Kristina Berdinskikh, Serhii Averchenko, Catherine Ashton, Bishop Agapit, Cissy Jones, DIRECTOR -> Evgeny Afineevsky)</td></tr><tr><td>tm22327</td><td>Full Metal Jacket</td><td>1987</td><td>116</td><td>tt0093058</td><td>8.3</td><td>723306</td><td>['drama', 'war']</td><td>GB</td><td>R</td><td>Map(ACTOR -> David George, John Ward, David Palffy, Stanley Kubrick, Vivian Kubrick, Tony Carey, John Wilson, Michael Anthony Williams, Gary Smith, Chris Maybach, John Curtis, Steve Hudson, Robert E. Hartenberger, Philip Bailey, Gil Kopel, Herbert Norville, Peter Merrill, Keith Hodiak, Costas Dino Chimona, Marcus D'Amico, Tan Hung Francione, Ngoc Le, Papillon Soo, Sal Lopez, Gary Landon Mills, Ian Tyler, Kirk Taylor, Peter Edmund, Tim Colceri, Jon Stafford, Kieron Jecchinis, Bruce Boa, John Terry, Ed O'Ross, Kevyn Major Howard, Arliss Howard, Dorian Harewood, R. Lee Ermey, Vincent D'Onofrio, Adam Baldwin, Matthew Modine, DIRECTOR -> Stanley Kubrick)</td></tr><tr><td>tm83786</td><td>Like Stars on Earth</td><td>2007</td><td>165</td><td>tt0986264</td><td>8.3</td><td>188234</td><td>['drama', 'family']</td><td>IN</td><td>PG</td><td>Map(ACTOR -> M. K. Raina, Meghna Malik, Ravi Khanvilkar, Lalita Lajmi, Shankar Sachdev, Bugs Bhargava, Girija Oak, Sachet Engineer, Tanay Chheda, Vipin Sharma, Tisca Chopra, Aamir Khan, Darsheel Safary, DIRECTOR -> Aamir Khan)</td></tr><tr><td>tm84618</td><td>Taxi Driver</td><td>1976</td><td>113</td><td>tt0075314</td><td>8.3</td><td>795222</td><td>['crime', 'drama']</td><td>US</td><td>R</td><td>Map(ACTOR -> Charles Scorsese, Catherine Scorsese, Billie Perkins, Nat Grant, Garth Avery, Copper Cunningham, Don Stroud, Debbi Morgan, Mary-Pat Green, Carson Grant, Annie Gagen, Ralph S. Singleton, Nicholas Shields, Peter Savage, Steven Prince, Harlan Cary Poe, Harry Northup, Norman Matlock, Brenda Dickson, Robinson Frank Adu, Joe Spinell, Victor Argo, Bob Maroff, Bill Minkin, Richard Higgs, Murray Moston, Martin Scorsese, Gino Ardito, Diahnne Abbott, Leonard Harris, Peter Boyle, Cybill Shepherd, Harvey Keitel, Albert Brooks, Jodie Foster, Robert De Niro, DIRECTOR -> Martin Scorsese)</td></tr><tr><td>tm127384</td><td>Monty Python and the Holy Grail</td><td>1975</td><td>91</td><td>tt0071853</td><td>8.2</td><td>530877</td><td>['comedy', 'fantasy']</td><td>GB</td><td>PG</td><td>Map(ACTOR -> Maggie Weston, John Thornton, Roy Forge Smith, Brian Ross, Tom Raeburn, Terry Jones, William Palin, Scott Mike, Zack Matalon, Margarita Doyle, Julian Doyle, Sylvia Taylor, Gloria Graham, Mary Allen, Joyce Pollner, Tracy Sneddon, Judy Lamb, Fiona Gordon, Daphne Darling, Yvonne Dick, Vivienne MacDonald, Sally Coombe, Anna Lanski, Loraine Ward, Alison Walker, Joni Flynn, Romilly Squire, Sandy Rose, Sandy Johnson, Mitsuko Forstater, Elspeth Cameron, Mark Zycon, Sally Kinghorn, Avril Stewart, Rita Davies, John Young, Bee Duffell, Neil Innes, Carol Cleveland, Connie Booth, Michael Palin, Terry Jones, Terry Gilliam, Eric Idle, John Cleese, Graham Chapman, DIRECTOR -> Terry Gilliam, Terry Jones)</td></tr><tr><td>tm138431</td><td>Virunga</td><td>2014</td><td>90</td><td>tt3455224</td><td>8.2</td><td>11403</td><td>['war', 'documentation']</td><td>CD</td><td>null</td><td>Map(ACTOR -> Vianney Kazarama, Rodrigue Mugaruka Katembo, Mélanie Gouby, Emmanuel de Merode, André Bauma, DIRECTOR -> Orlando von Einsiedel)</td></tr><tr><td>tm147913</td><td>PK</td><td>2014</td><td>153</td><td>tt2338151</td><td>8.2</td><td>178012</td><td>['comedy', 'drama', 'romance', 'fantasy', 'scifi']</td><td>IN</td><td>PG-13</td><td>Map(ACTOR -> Rajiv Gupta, Plabita Borthakur, Amardeep Jha, Anil Mange, Maanvi Gagroo, Karim Hajee, Sai Gundewar, Ranbir Kapoor, Rohitash Gaud, Ram Sethi, Brijendra Kala, Sachin Parikh, Rukhsar Rehman, Reema Debnath, Saurabh Shukla, Parikshat Sahni, Sanjay Dutt, Boman Irani, Sushant Singh Rajput, Anushka Sharma, Aamir Khan, DIRECTOR -> Rajkumar Hirani)</td></tr><tr><td>tm151716</td><td>Cowspiracy: The Sustainability Secret</td><td>2014</td><td>90</td><td>tt4344904</td><td>8.2</td><td>24845</td><td>['documentation']</td><td>US</td><td>null</td><td>Map(DIRECTOR -> Keegan Kuhn)</td></tr><tr><td>tm156811</td><td>Queen</td><td>2014</td><td>146</td><td>tt3322420</td><td>8.2</td><td>64805</td><td>['drama', 'comedy']</td><td>IN</td><td>PG-13</td><td>Map(ACTOR -> Marco Canadea, Alka Badola Kaushal, Yogendra Tiku, Jeffrey Ho, Mish Boyko, Lisa Haydon, Rajkummar Rao, Kangana Ranaut, DIRECTOR -> Vikas Bahl)</td></tr><tr><td>tm166548</td><td>Warrior</td><td>2011</td><td>140</td><td>tt1291584</td><td>8.2</td><td>463276</td><td>['drama', 'action', 'sport']</td><td>US</td><td>PG-13</td><td>Map(ACTOR -> Gavin O'Connor, Thomas McCue, Tracy Campbell, Jaime Sinue Aguirre, Francesca Ortenzio, Sandy Notaro, Etta Cox, Tammy Townsend, Kevin P. Hanley, James Dreussi, Adam Christian Stanley, Armon York Williams, Jeff Hochendoner, Jack Fisher, Tim Bickel, Michelle Dawn Mooney, Stephan Bonnar, Rashad Evans, Jonathan Matthew Anik, Roman Vasylyshyn, Lambert R. Strayer, Raymond Rowe, Aaron Kleiber, James Houk, Andre' Mason, Richard Fike, Jake Digman, Jace Jeanes, Jimmy Cvetic, Anthony Tambakis, Amir Perets, Yves Edwards, Hans Marrero, Panuvat Anthony Nanakornpanom, Daniel Stevens, Roan Carneiro, Nate Marquardt, Anthony Johnson, Erik Apple, Kurt Angle, Josh Rosenthal, Julia Stockstad, \"Timothy \"\"Skyskrape\"\" Katz\", Dan Caldwell, Noah Emmerich, Lexi Cowan, Capri Thomas, Laura Chinn, Nick Lehane, Carlos Miranda, Vanessa Martinez, Jake McLaughlin, Fernando Chien, Sam Sheridan, Maximiliano Hernández, Kevin Dunn, Bryan Callen, Denzel Whitaker, Nick Nolte, Frank Grillo, Jennifer Morrison, Tom Hardy, Joel Edgerton, DIRECTOR -> Gavin O'Connor)</td></tr><tr><td>tm218052</td><td>Drishyam</td><td>2015</td><td>163</td><td>tt4430212</td><td>8.2</td><td>79075</td><td>['thriller', 'crime', 'drama']</td><td>IN</td><td>R</td><td>Map(ACTOR -> Sandeep Pandey, Prasanna Ketkar, Rishab Chadha, Prathamesh Parab, Kamlesh Sawant, Mrunal Jadhav, Ishita Dutta, Rajat Kapoor, Shriya Saran, Tabu, Ajay Devgn, DIRECTOR -> Nishikant Kamat)</td></tr><tr><td>tm221953</td><td>Bāhubali 2: The Conclusion</td><td>2017</td><td>168</td><td>tt4849438</td><td>8.2</td><td>91560</td><td>['fantasy', 'action', 'drama']</td><td>IN</td><td>null</td><td>Map(ACTOR -> Kalpalatha, Bharani Shankar, Tanikella Bharani, Ashrita Vemuganti, Rohini, Prudhviraj, Tamanna Bhatia, Subbaraju, Ramya Krishnan, Nassar, Anushka Shetty, Sathyaraj, Rana Daggubati, Prabhas, DIRECTOR -> S.S. Rajamouli)</td></tr><tr><td>tm244788</td><td>13th</td><td>2016</td><td>100</td><td>tt5895028</td><td>8.2</td><td>34914</td><td>['documentation', 'history', 'crime']</td><td>US</td><td>null</td><td>Map(ACTOR -> Assata Shakur, Bernie Sanders, Michael Dukakis, Gerald Ford, Ronald Reagan, Nancy Reagan, Richard Nixon, Lyndon B. Johnson, Malcolm X, Martin Luther King Jr., Hillary Clinton, George H. W. Bush, Donald Trump, George W. Bush, Jimmy Carter, Bill Clinton, Barack Obama, Van Jones, John Hagan, Nicholas Turner, Bryan Stevenson, James Kilgore, David Keene, Gina Clayton, Michael Hough, Marie Gottschalk, Cory Booker, Michelle Alexander, Henry Louis Gates, Jr., Angela Davis, Jelani Cobb, DIRECTOR -> Ava DuVernay)</td></tr><tr><td>tm35700</td><td>Paan Singh Tomar</td><td>2012</td><td>135</td><td>tt1620933</td><td>8.2</td><td>35888</td><td>['drama', 'sport', 'thriller', 'action', 'crime']</td><td>IN</td><td>PG</td><td>Map(ACTOR -> Rajiv Gupta, Sitaram Panchal, Ravi Sah, Ashraf Ul Haq, Khan Jahangir Khan, Brijendra Kala, Rajendra Gupta, Zakir Hussain, Imran Hasnee, Nawazuddin Siddiqui, Vipin Sharma, Mahie Gill, Irrfan Khan, DIRECTOR -> Tigmanshu Dhulia)</td></tr><tr><td>tm423373</td><td>Andhadhun</td><td>2018</td><td>139</td><td>tt8303792</td><td>8.2</td><td>88359</td><td>['thriller', 'music', 'drama', 'comedy', 'crime']</td><td>IN</td><td>R</td><td>Map(ACTOR -> Raash Pabri, Chhaya Kadam, Gopal Singh, Manav Vij, Ashwini Kalsekar, Zakir Hussain, Rashmi Agdekar, Anil Dhawan, Tabu, Radhika Apte, Ayushmann Khurrana, DIRECTOR -> Sriram Raghavan)</td></tr><tr><td>tm678851</td><td>Article 15</td><td>2019</td><td>130</td><td>tt10324144</td><td>8.2</td><td>32336</td><td>['crime', 'drama', 'thriller']</td><td>IN</td><td>null</td><td>Map(ACTOR -> Shankar Yadav, Shashank Shende, Namashi Chakraborty, Prarthana Behere, Ashish Verma, Mohammed Zeeshan Ayyub, Ronjini Chakraborty, Nassar, Manoj Pahwa, Kumud Mishra, Sayani Gupta, Isha Talwar, Ayushmann Khurrana, DIRECTOR -> Anubhav Sinha)</td></tr><tr><td>tm812998</td><td>Miracle in Cell No. 7</td><td>2019</td><td>132</td><td>tt10431500</td><td>8.2</td><td>46939</td><td>['drama']</td><td>TR</td><td>null</td><td>Map(ACTOR -> Botan Aslan, Mustafa Dok, Celile Toyon Uysal, Mert Zaim, Özgür Avşar, Basri Albayrak, Serhat Üstündağ, Cankat Aydos, Özgür Dereli, Nadi Güler, Hayal Köseoğlu, Serdar Akülker, Gülçin Kültür Şahin, Serhan Onat, Emre Yetim, Doğukan Polat, Ferit Kaya, Deniz Celiloğlu, Deniz Baysal, Sarp Akkaya, Yurdaer Okur, Yıldıray Şahinler, Mesut Akusta, İlker Aksum, Nisa Sofiya Aksongur, Aras Bulut İynemli, DIRECTOR -> Mehmet Ada Öztekin)</td></tr><tr><td>tm1018890</td><td>Seaspiracy</td><td>2021</td><td>80</td><td>tt14152756</td><td>8.1</td><td>29604</td><td>['documentation']</td><td>US</td><td>null</td><td>Map(ACTOR -> Michael Klaper, George Monbiot, Jonathan Balcombe, Lucy Tabrizi, Paul de Gelder, Richard O'Barry, Sylvia Earle, Ali Tabrizi, DIRECTOR -> Ali Tabrizi)</td></tr><tr><td>tm103732</td><td>Udaan</td><td>2010</td><td>138</td><td>tt1639426</td><td>8.1</td><td>44556</td><td>['drama']</td><td>IN</td><td>R</td><td>Map(ACTOR -> Anand Tiwari, Manjot Singh, Ram Kapoor, Aayan Boradia, Rajat Barmecha, Ronit Roy, DIRECTOR -> Vikramaditya Motwane)</td></tr><tr><td>tm1086874</td><td>Minnal Murali</td><td>2021</td><td>158</td><td>tt7268738</td><td>8.1</td><td>24681</td><td>['action', 'comedy', 'drama', 'fantasy', 'scifi']</td><td>IN</td><td>null</td><td>Map(ACTOR -> Geethi Sangeetha, Aliyar, Thennal Abhilash, Arya Salim, Sudheesh, Devi Chandana, Shelly Kishore, Vasisht Umesh, Rajesh Madhavan, Mamukkoya, P Balachandran, Jude Anthany Joseph, Bijukuttan, Sneha Babu, Femina George, Baiju Santhosh, Aju Varghese, Harisree Ashokan, Guru Somasundaram, Tovino Thomas, DIRECTOR -> Basil Joseph)</td></tr><tr><td>tm111075</td><td>Stand by Me</td><td>1986</td><td>89</td><td>tt0092005</td><td>8.1</td><td>392790</td><td>['drama']</td><td>US</td><td>R</td><td>Map(ACTOR -> Jason Naylor, Chance Quinn, Kent W. Luttrell, Rick Elliott, Korey Scott Pollard, Susan Thorpe, John Hodges, Kenneth Hodges, Charlie Owens, O.B. Babbs, Dick Durock, Andy Lindberg, Matt Williams, Art Burke, Geanette Bobst, Popeye, Madeleine Swift, John Cusack, Richard Dreyfuss, Scott Beach, William Bronder, Bruce Kirby, Frances Lee McCain, Marshall Bell, Jason Oliver, Bradley Gregg, Gary Riley, Casey Siemaszko, Kiefer Sutherland, Jerry O'Connell, Corey Feldman, River Phoenix, Wil Wheaton, DIRECTOR -> Rob Reiner)</td></tr><tr><td>tm114504</td><td>The Legend of Bhagat Singh</td><td>2002</td><td>155</td><td>tt0319736</td><td>8.1</td><td>16225</td><td>['drama', 'history', 'action']</td><td>IN</td><td>null</td><td>Map(ACTOR -> Swaroop Kumar, Santosh Dhanoa, Sitaram Panchal, Mukesh Tiwari, Farida Jalal, Raj Babbar, D. Santosh, Akhilendra Mishra, Sushant Singh, Amrita Rao, Ajay Devgn, DIRECTOR -> Rajkumar Santoshi)</td></tr><tr><td>tm12876</td><td>Bombay</td><td>1995</td><td>141</td><td>tt0112553</td><td>8.1</td><td>12512</td><td>['romance', 'drama']</td><td>IN</td><td>null</td><td>Map(ACTOR -> Priya, M. V. Vasudeva Rao, Rohini, Nagendra Prasad, Sonali Bendre, Master Hridhay, Master Harsha, Tinnu Anand, Kitty, Nassar, Prakash Raj, Manisha Koirala, Arvind Swamy, DIRECTOR -> Mani Ratnam)</td></tr><tr><td>tm148910</td><td>Haider</td><td>2014</td><td>150</td><td>tt3390572</td><td>8.1</td><td>54001</td><td>['drama', 'action', 'crime', 'thriller']</td><td>IN</td><td>PG-13</td><td>Map(ACTOR -> Mohommed Ali Shah, Ashwath Bhatt, Aamir Bashir, Ashish Vidhyarthi, Lalit Parimoo, Kulbhushan Kharbanda, Narendra Jha, Irrfan Khan, Kay Kay Menon, Shraddha Kapoor, Tabu, Shahid Kapoor, DIRECTOR -> Vishal Bhardwaj)</td></tr><tr><td>tm176864</td><td>Rush</td><td>2013</td><td>123</td><td>tt1979320</td><td>8.1</td><td>465254</td><td>['drama', 'action', 'sport', 'european']</td><td>US</td><td>R</td><td>Map(ACTOR -> Daniel Chapple, Joanna Finata, Niki Lauda, Michael Vardian, Lee Nicholas Harris, Eddie Bagayawa, Mark Wright, Jeremy Wolfe, Anthony Wolfe, Matthew Watkinson, Scott Hopkins, Cristian Stelluti, Marco Napoli, Luca Naddeo, Morris Morrison, Francesco Fronte, Paulo Barone, Rob Cavazos, Masashi Fujimoto, Marcello Walton, Erich Redman, Philippe Spall, Jay Simpson, Demetri Goritsas, Eiji Mihara, Marco Canadea, Christian Feist, Bob Constanduros, Joe Ferrera, Alan Bayer, Alastair Caldwell, Luca Zizzari, Raffaello Degruttola, Vanda Dadras, Roger Nevares, Jochen Kolenda, Andreas Engelmann, Folker Banik, Klaus D. Mund, Akira Koieyama, Zack Eisaku Niizato, Val Jobara, Xavier Laurent, Vanessa Zachos, Hans-Eckart Eckhardt, Lisa McAllister, Hannah Britland, Brooke Johnston, Polly Furnival, Douglas Reith, Julien Vialon, Geoffrey Streatfeild, Joséphine de la Baume, James Norton, Cristian Solimeno, Tom Wlaschiha, Rob Austin, Simon Taylor, Jamie Sives, Martin Savage, Vincent Riotta, Patrick Baladi, Ilario Calvo, Augusto Dall'Ara, Jamie de Courcey, Julian Rhind-Tutt, Colin Stinton, Alistair Petrie, Christian McKay, Stephen Mangan, Natalie Dormer, David Calder, Pierfrancesco Favino, Alexandra Maria Lara, Olivia Wilde, Daniel Brühl, Chris Hemsworth, DIRECTOR -> Ron Howard)</td></tr><tr><td>tm182125</td><td>Zindagi Na Milegi Dobara</td><td>2011</td><td>166</td><td>tt1562872</td><td>8.1</td><td>75801</td><td>['comedy', 'drama']</td><td>IN</td><td>PG</td><td>Map(ACTOR -> Suhel Seth, Anisa, Deepti Naval, Ariadna Cabrol, Naseeruddin Shah, Kalki Koechlin, Katrina Kaif, Abhay Deol, Farhan Akhtar, Hrithik Roshan, DIRECTOR -> Zoya Akhtar)</td></tr><tr><td>tm190788</td><td>The Exorcist</td><td>1973</td><td>133</td><td>tt0070047</td><td>8.1</td><td>391942</td><td>['horror']</td><td>US</td><td>R</td><td>Map(ACTOR -> Gerard F. Yates, Vincent Russell, John Nicola, Ann Miles, Barton Lane, Don LaBonte, Yvonne Jones, Beatrice Hunter, Bernard Eismann, Joanne Dusseau, Eileen Dietz, Toni Darnay, Mason Curry, Mary Boylan, William Peter Blatty, Elinore Blair, Paul Bateson, Mercedes McCambridge, Robert Gerringer, Roy Cooper, Donna Mitchell, Ron Faber, Wallace Rooney, John Mahon, Titos Vandis, Vasiliki Maliaros, Thomas Bermingham, Arthur Storch, Robert Symonds, Gina Petrushka, Rudolf Schündler, Peter Masterson, Barton Heyman, William O'Malley, Jason Miller, Jack MacGowran, Kitty Winn, Lee J. Cobb, Max von Sydow, Linda Blair, Ellen Burstyn, DIRECTOR -> William Friedkin)</td></tr><tr><td>tm219817</td><td>Talvar</td><td>2015</td><td>132</td><td>tt4934950</td><td>8.1</td><td>34659</td><td>['thriller', 'crime', 'drama']</td><td>IN</td><td>PG</td><td>Map(ACTOR -> Kiran Khoje, Shishir Sharma, Prakash Belawadi, Sumit Gulati, Tabu, Ayesha Parveen, Gajraj Rao, Atul Kumar, Sohum Shah, Neeraj Kabi, Konkona Sen Sharma, Irrfan Khan, DIRECTOR -> Meghna Gulzar)</td></tr><tr><td>tm233425</td><td>A Silent Voice: The Movie</td><td>2016</td><td>130</td><td>tt5323662</td><td>8.1</td><td>75132</td><td>['romance', 'animation', 'drama', 'family']</td><td>JP</td><td>PG-13</td><td>Map(ACTOR -> Akiko Hiramatsu, Satsuki Yukino, Takuya Masumoto, Ryo Nishitani, Ryunosuke Watanuki, Ayano Hamaguchi, Erena Kamata, Ikuko Tani, Fuminori Komatsu, Hana Takeda, Sachiko Kojima, Mayu Matsuoka, Toshiyuki Toyonaga, Megumi Han, Yui Ishikawa, Yuki Kaneko, Kensho Ono, Aoi Yuki, Saori Hayami, Miyu Irino, DIRECTOR -> Naoko Yamada)</td></tr><tr><td>tm320817</td><td>Mersal</td><td>2017</td><td>169</td><td>tt6485666</td><td>8.1</td><td>32573</td><td>['thriller', 'action']</td><td>IN</td><td>null</td><td>Map(ACTOR -> Abdool Lee, Senthikumari, Kaali Venkat, Mamilla Shailaja Priya, M.Kamaraj, Boxer Dheena, Sangili Murugan, Surekha Vani, Devadarshini, Kaali Venkat, Rajendran, Yogi Babu, Misha Ghoshal, Hareesh Peradi, Kovai Sarala, Sathyan Sivakumar, Vadivelu, Sathyaraj, S. J. Suryah, Kajal Agarwal, Nithya Menen, Samantha Ruth Prabhu, Vijay, DIRECTOR -> Atlee)</td></tr><tr><td>tm32885</td><td>Rang De Basanti</td><td>2006</td><td>157</td><td>tt0460895</td><td>8.1</td><td>118092</td><td>['comedy', 'drama', 'history', 'crime']</td><td>IN</td><td>PG-13</td><td>Map(ACTOR -> Mohan Agashe, Lekh Tandon, Chandan Roy Sanyal, Mohan Agashe, Cyrus Sahukar, Om Puri, Anupam Kher, Steven Mackintosh, Kirron Kher, Sharman Joshi, Waheeda Rehman, R. Madhavan, Alice Patten, Soha Ali Khan, Kunal Kapoor, Atul Kulkarni, Siddharth, Aamir Khan, DIRECTOR -> Rakeysh Omprakash Mehra)</td></tr><tr><td>tm375883</td><td>Klaus</td><td>2019</td><td>97</td><td>tt4729430</td><td>8.1</td><td>141480</td><td>['comedy', 'family', 'animation', 'european']</td><td>ES</td><td>PG</td><td>Map(ACTOR -> Hudson West, Matthew McCann, Reiulf Aleksandersen, Ayden Soria, Bailey Rae Fenderson, Leo Miller, Evan Agos, Jaeden Bettencourt, Emma Yarovinsky, Lucian Perez, Finn Carr, Amanda Philipson, Tucker Meek, Sky Alexis, Kendall Joy Hall, Emma Shannon, Julian Zane, Teddy Blum, Sydney Brower, Neda Margrethe Labba, Mila Brener, Sergio Pablos, Will Sasso, Norm Macdonald, Joan Cusack, Rashida Jones, J.K. Simmons, Jason Schwartzman, DIRECTOR -> Sergio Pablos)</td></tr><tr><td>tm420274</td><td>Hannah Gadsby: Nanette</td><td>2018</td><td>69</td><td>tt8465676</td><td>8.1</td><td>12035</td><td>['comedy', 'documentation']</td><td>AU</td><td>null</td><td>Map(ACTOR -> Hannah Gadsby, DIRECTOR -> Jon Olb, Madeleine Parry)</td></tr><tr><td>tm43399</td><td>Lagaan: Once Upon a Time in India</td><td>2001</td><td>224</td><td>tt0169102</td><td>8.1</td><td>111053</td><td>['drama', 'romance', 'sport']</td><td>IN</td><td>PG</td><td>Map(ACTOR -> Jon House, Simon Holmes, Chris England, Pramatesh Mehta, Amin Gazi, Raja Awasthi, Daya Shankar Pandey, Suhasini Mulay, Ben Nealon, Amitabh Bachchan, David Gant, Pradeep Ram Singh Rawat, Howard Lee, Jeremy Child, John Rowe, Anupam Shyam, A.K. Hangal, Javed Khan, Raghubir Yadav, Shri Vallabh Vyas, Rajendra Gupta, Akhilendra Mishra, Aditya Lakhia, Amin Hajee, Yashpal Sharma, Rajesh Vivek, Rajendranath Zutshi, Kulbhushan Kharbanda, Paul Blackthorne, Rachel Shelley, Gracy Singh, Aamir Khan, DIRECTOR -> Ashutosh Gowariker)</td></tr><tr><td>tm47171</td><td>OMG: Oh My God!</td><td>2012</td><td>125</td><td>tt2283748</td><td>8.1</td><td>57449</td><td>['fantasy', 'drama', 'comedy']</td><td>IN</td><td>G</td><td>Map(ACTOR -> Poonam Jhawer, Apoorva Arora, Puja Gupta, Mahesh Manjrekar, Om Puri, Mithun Chakraborty, Akshay Kumar, Paresh Rawal, DIRECTOR -> Umesh Shukla)</td></tr><tr><td>tm61056</td><td>Dil Chahta Hai</td><td>2001</td><td>183</td><td>tt0292490</td><td>8.1</td><td>71167</td><td>['drama', 'comedy', 'romance']</td><td>IN</td><td>G</td><td>Map(ACTOR -> Suhasini Mulay, Rakesh Pandey, Mandala Tayde, Samantha Tremayne, Ayub Khan, Suchitra Pillai, Rajat Kapoor, Dimple Kapadia, Sonali Kulkarni, Preity Zinta, Akshaye Khanna, Saif Ali Khan, Aamir Khan, DIRECTOR -> Farhan Akhtar)</td></tr><tr><td>tm68436</td><td>Barfi!</td><td>2012</td><td>151</td><td>tt2082197</td><td>8.1</td><td>80643</td><td>['drama', 'comedy', 'romance']</td><td>IN</td><td>G</td><td>Map(ACTOR -> Archana Dani, Purva Parag, Subhankar Ghosh, Bhagyashree Dembla, Rahul Malhothra, Apurva Pranjape, Nirmala D. Thappa, Rajeev Mishra, Neeraj Khetrapal, Kenneth Desai, Preiti Mamgain, Uday Tikekar, Arun Bali, Jisshu Sengupta, Bholaraj Sapkota, Shreya Ghoshal, Haradhan Bandopadhyay, Roopa Ganguly, Ashish Vidhyarthi, Sujata Sehgal, Akash Khurana, Sumona Chakravarti, Saurabh Shukla, Ileana D'Cruz, Priyanka Chopra Jonas, Ranbir Kapoor, DIRECTOR -> Anurag Basu)</td></tr><tr><td>tm76066</td><td>Into the Wild</td><td>2007</td><td>140</td><td>tt0758758</td><td>8.1</td><td>611379</td><td>['drama']</td><td>US</td><td>R</td><td>Map(ACTOR -> Bart the Bear II, Haley Sweet, Timothy Levine, Parris Mosteller, J. Nathan Simmons, Carine McCandless, Sharon Olds, Denise Sitton, Matt Contreras, Leonard Knight, John Jabaley, \"Everett \"\"Insane Wayne\"\" Smith\", Merritt Wever, Haley Ramm, R. D. Call, Cheryl Francis Harrington, Jim Davis, Bryce Walters, Floyd Wall, Steven Wiig, Candice Campos, Robin Mathews, Terry Waldner, Jerry Hofer, John Hofer, John Decker, Jim Beidler, Craig Mutsch, Zach Galifianakis, Paul Knauls, Malinda McCollum, James J. O'Neill, Jim Gallien, Signe Egholm Olsen, Thure Lindhardt, Hal Holbrook, Kristen Stewart, Vince Vaughn, Catherine Keener, Brian H. Dierker, Jena Malone, William Hurt, Marcia Gay Harden, Emile Hirsch, DIRECTOR -> Sean Penn)</td></tr><tr><td>tm827216</td><td>Bill Burr: Paper Tiger</td><td>2019</td><td>67</td><td>tt10847306</td><td>8.1</td><td>10649</td><td>['comedy']</td><td>GB</td><td>null</td><td>Map(ACTOR -> Bill Burr, DIRECTOR -> Mike Binder)</td></tr><tr><td>tm82765</td><td>Swades</td><td>2004</td><td>189</td><td>tt0367110</td><td>8.1</td><td>89085</td><td>['drama', 'european']</td><td>IN</td><td>G</td><td>Map(ACTOR -> Makrand Deshpande, Peter Rawley, Shreyas Pandit, Bachan Pachera, Rajesh Balwani, Rahul Vohra, Bhim Vakani, Vishwa S. Badola, Raja Awasthi, Vishnudutt Gaur, Farrukh Jaffar, Daya Shankar Pandey, Rajesh Vivek, Lekh Tandon, Smith Seth, Kishori Balal, Gayatri Joshi, Shah Rukh Khan, DIRECTOR -> Ashutosh Gowariker)</td></tr><tr><td>tm863808</td><td>My Octopus Teacher</td><td>2020</td><td>84</td><td>tt12888462</td><td>8.1</td><td>51232</td><td>['documentation']</td><td>ZA</td><td>null</td><td>Map(ACTOR -> Tom Foster, Craig Foster, DIRECTOR -> James Reed, Philippa Ehrlich)</td></tr><tr><td>tm87484</td><td>How to Train Your Dragon</td><td>2010</td><td>98</td><td>tt0892769</td><td>8.1</td><td>719717</td><td>['fantasy', 'animation', 'action', 'comedy', 'family', 'drama']</td><td>US</td><td>PG</td><td>Map(ACTOR -> Kieron Elliott, Philip McGrade, Robin Atkin Downes, Ashley Jensen, David Tennant, Kristen Wiig, T. J. Miller, Christopher Mintz-Plasse, Jonah Hill, America Ferrera, Craig Ferguson, Gerard Butler, Jay Baruchel, DIRECTOR -> Dean DeBlois, Chris Sanders)</td></tr><tr><td>tm1025493</td><td>Dasvi</td><td>2022</td><td>125</td><td>tt14107554</td><td>8.0</td><td>13140</td><td>['drama', 'comedy']</td><td>IN</td><td>null</td><td>Map(ACTOR -> Sumit Shekhar Rai, Aditi Vats, Sarthak Gambhir, Shrikant Verma, Sachin Shroff, Rohit Tiwari, Abhimanyu Yadav, Dhanveer Singh, Arun Kushwah, Shivankit Singh Parihar, Danish Husain, Chittaranjan Tripathy, Manu Rishi Chadha, Nimrat Kaur, Yami Gautam, Abhishek Bachchan, DIRECTOR -> Tushar Jalota)</td></tr><tr><td>tm1108321</td><td>Dave Chappelle: The Closer</td><td>2021</td><td>72</td><td>tt15523010</td><td>8.0</td><td>24903</td><td>['comedy']</td><td>US</td><td>null</td><td>Map(ACTOR -> Dave Chappelle, DIRECTOR -> Stan Lathan)</td></tr><tr><td>tm137002</td><td>Bāhubali: The Beginning</td><td>2015</td><td>159</td><td>tt2631186</td><td>8.0</td><td>117333</td><td>['drama', 'action', 'fantasy']</td><td>IN</td><td>PG-13</td><td>Map(ACTOR -> John Kokken, Kalpalatha, Bharani Shankar, Gabriela Bertante, Nora Fatehi, Scarlett Mellish Wilson, Charandeep, S.S. Rajamouli, Ramakrishna Meka, Rakesh Varre, Rohini, Prabhakar, Tanikella Bharani, Adivi Sesh, Sudeep, Sathyaraj, Nassar, Ramya Krishnan, Anushka Shetty, Tamanna Bhatia, Rana Daggubati, Prabhas, DIRECTOR -> S.S. Rajamouli)</td></tr><tr><td>tm139658</td><td>Big Fish</td><td>2003</td><td>125</td><td>tt0319061</td><td>8.0</td><td>435503</td><td>['drama', 'fantasy', 'romance']</td><td>US</td><td>PG-13</td><td>Map(ACTOR -> Will Thomas, L.C. Holt, Jake Brake, Daniel Wallace, Trevor Gagnon, Joanne Pankow, Bonnie Johnson, Jeff Campbell, Zach Hanner, Greg Hohn, David Ramsey, Don Young, Charles McLawhorn, Sallie Hedrick, Russell Hodgkinson, James DeForest Parker, Billy Redden, Frank Hoyt Taylor, John Lowell, Zac Gardner, Karla Droege, Miley Cyrus, Grayson Stone, R. Keith Harris, Hailey Anne Nelson, Perry Walston, Ada Tai, Arlene Tai, Matthew McGrory, Deep Roy, Loudon Wainwright III, Missi Pyle, David Denman, Danny DeVito, Steve Buscemi, Marion Cotillard, Robert Guillaume, Alison Lohman, Helena Bonham Carter, Jessica Lange, Billy Crudup, Albert Finney, Ewan McGregor, DIRECTOR -> Tim Burton)</td></tr><tr><td>tm140877</td><td>The Imitation Game</td><td>2014</td><td>113</td><td>tt2084970</td><td>8.0</td><td>748654</td><td>['thriller', 'drama', 'war']</td><td>US</td><td>PG-13</td><td>Map(ACTOR -> Lee Asquith-Coe, Josh Wichard, Nicola-Jayne Wells, Mark Underwood, Alice Tapfield, David G. Robinson, John Redmann, Harry Leonard Parkinson, Joseph Oliveira, Adam Nowell, Samantha Moran, Amber-Rose May, Stuart Matthews, Debra Leigh-Taylor, Denis Koroshko, Vincent Idearson, Vera Horton, Luke Hope, Oscar Hatton, Benjamin Hardie, Guna Gultniece, James Gard, Hannah Flynn, Mike Firth, Ben Farrow, Sam Exley, Esther Eden, Leigh Dent, Alexander Cooper, Lisa Colquhoun, Daniel Chapple, Richard Campbell, Grace Calder, Alex Corbet Burcher, Ancuta Breaban, Jack Brash, Nicholas Blatt, Ingrid Benussi, Hayley Joanne Bacon, Bartosz Wandrykow, Tim Steed, Miranda Bell, Viv Weatherall, Tim van Eyken, Laurence Kennedy, Andrew Havill, Victoria Wicks, David Charkham, Charlie Manton, James G. Nunn, Dominik Charman, Tuppence Middleton, Jack Bannon, Alex Lawther, Jack Tarlton, Ilan Goodman, Steven Waddington, Tom Goodman-Hill, James Northcote, Mark Strong, Charles Dance, Matthew Beard, Allen Leech, Rory Kinnear, Matthew Goode, Keira Knightley, Benedict Cumberbatch, DIRECTOR -> Morten Tyldum)</td></tr><tr><td>tm158302</td><td>Ankhon Dekhi</td><td>2014</td><td>104</td><td>tt3620858</td><td>8.0</td><td>11330</td><td>['drama', 'comedy']</td><td>IN</td><td>null</td><td>Map(ACTOR -> Ranvir Shorey, Shrikant Varma, Mansi Nirmal Jain, Bitoo Chhabra, Majid Khan, Vidya Bhushan, Sohan Kumar Jha, Pratik Chandarana, Yadvinder Singh Brar, Javed Khan, Mukesh Kumar, Jiya Bhardwaj, Munish Bhardwaj, Sandip Chowdry, Suman Chowdry, Naresh Gosain, Shivam Sethi, Chetan Sharma, Chaitanya Mahawar, Yogendra Tiku, Danish Hussain, Saurabh Shukla, Dhruv Uday Singh, Manish Karnatak, Anil Chaudhary, Mahesh Sharma, Manu Rishi Chadha, Alka Chawla, Brijendra Kala, Namit Das, Chandrachoor Rai, Maya Sarao, Taranjit Kaur, Rajat Kapoor, Seema Pahwa, Sanjay Mishra, DIRECTOR -> Rajat Kapoor)</td></tr><tr><td>tm169422</td><td>Her</td><td>2013</td><td>126</td><td>tt1798709</td><td>8.0</td><td>586679</td><td>['drama', 'romance', 'scifi']</td><td>US</td><td>R</td><td>Map(ACTOR -> Samantha Morton, Wendy Leon, Laura Kai Chen, Claudia Choi, Gracie Prewitt, Samantha Sarakanti, James Ozasky, Nicole Grother, Dane White, Steve Zissis, Melanie Seacat, Guy Lewis, David Azar, May Lindstrom, Gabe Gomez, Lisa Renee Pitts, Lynn Adrianna, Lil Buck, Evelyn Edwards, Pramod Kumar, Sam Jaeger, Luka Jones, Brian Cox, SoKo, Artt Butler, Kristen Wiig, Bill Hader, Spike Jonze, Portia Doubleday, Matt Letscher, Chris Pratt, Olivia Wilde, Rooney Mara, Amy Adams, Scarlett Johansson, Joaquin Phoenix, DIRECTOR -> Spike Jonze)</td></tr><tr><td>tm175812</td><td>Special 26</td><td>2013</td><td>144</td><td>tt2377938</td><td>8.0</td><td>55489</td><td>['thriller', 'crime', 'drama']</td><td>IN</td><td>null</td><td>Map(ACTOR -> Mukesh Bhatt, Vikas Shrivastav, Gurpal Singh, Tiku Talsania, Bhagwan Tiwari, Ujjwal Chopra, Rajesh Sharma, Divya Dutta, Kishore Kadam, Neeru Bajwa, Kajal Agarwal, Anupam Kher, Manoj Bajpayee, Jimmy Shergill, Akshay Kumar, DIRECTOR -> Neeraj Pandey)</td></tr><tr><td>tm182586</td><td>Silenced</td><td>2011</td><td>125</td><td>tt2070649</td><td>8.0</td><td>15889</td><td>['drama']</td><td>KR</td><td>null</td><td>Map(ACTOR -> Heo Jae-ho, Hong Suk-youn, Jang So-yeon, Park Kyoung-hee, Nam Myung-ryeol, Jong-goo Lee, Uhm Ji-sung, Kim Ji-young, Kim Ji-young, Park Hye-jin, Uhm Hyo-seop, Kwon Hong-suk, Choi Jin-ho, Jeon Kuk-hwan, Lim Hyun-sung, Kim Min-sang, Kim Joo-ryoung, Jang Gwang, Baek Seung-hwan, Jung In-seo, Kim Hyun-soo, Jung Yu-mi, Gong Yoo, DIRECTOR -> Hwang Dong-hyuk)</td></tr><tr><td>tm190835</td><td>Neon Genesis Evangelion: The End of Evangelion</td><td>1997</td><td>87</td><td>tt0169858</td><td>8.0</td><td>51938</td><td>['scifi', 'action', 'drama', 'fantasy', 'animation']</td><td>JP</td><td>null</td><td>Map(ACTOR -> Mugihito, Akira Ishida, Motomu Kiyokawa, Yuriko Yamaguchi, Hiro Yuuki, Takehito Koyasu, Miki Nagasawa, Fumihiko Tachiki, Yuko Miyamura, Kotono Mitsuishi, Megumi Hayashibara, Megumi Ogata, DIRECTOR -> Kazuya Tsurumaki, Hideaki Anno)</td></tr><tr><td>tm239091</td><td>Blade Runner 2049</td><td>2017</td><td>164</td><td>tt1856101</td><td>8.0</td><td>539864</td><td>['scifi', 'thriller', 'action', 'drama']</td><td>CA</td><td>R</td><td>Map(ACTOR -> Samuel Brown, Ferenc Györgyi, Konstantin Pál, Zoltán Béres, Joshua Tersoo Allagh, Pál Nyári, István Göz, André Lukács Molnár, Kincsö Sánta, Vilma Szécsi, Stephen Triffitt, Suzie Kennedy, Ellie Wright, Kingston Taylor, David Benson, Elarica Johnson, Krista Kosonen, Mark Arnold, Loren Peta, Sean Young, Sallie Harmsen, Tómas Lemarquis, Edward James Olmos, Wood Harris, Hiam Abbass, Barkhad Abdi, David Dastmalchian, Dave Bautista, Lennie James, Carla Juri, Jared Leto, Mackenzie Davis, Robin Wright, Sylvia Hoeks, Ana de Armas, Harrison Ford, Ryan Gosling, DIRECTOR -> Denis Villeneuve)</td></tr><tr><td>tm267401</td><td>The Invisible Guest</td><td>2017</td><td>107</td><td>tt4857264</td><td>8.0</td><td>170351</td><td>['thriller', 'crime', 'drama', 'european']</td><td>ES</td><td>R</td><td>Map(ACTOR -> Helena Resano, Susana Molina, Sandra Golpe, Betsy Túrnez, Cristian Valencia, Laia Alberch, Annick Weerts, Jordi Llordella, Ruth Llopis, Martina Hurtado, Robert González, Jordi Brunet, Pere Brasó, Blanca Martínez, Manel Dueso, San Yélamos, Iñigo Gastesi, David Selvas, Paco Tous, Francesc Orella, Bárbara Lennie, Jose Coronado, Ana Wagener, Mario Casas, DIRECTOR -> Oriol Paulo)</td></tr><tr><td>tm30205</td><td>Ip Man</td><td>2008</td><td>108</td><td>tt1220719</td><td>8.0</td><td>221095</td><td>['drama', 'fantasy', 'action', 'history']</td><td>HK</td><td>R</td><td>Map(ACTOR -> Li Peize, Xu-Feng Yang, Wang Zheng, Mei-Fang Lu, Li Qi-Long, Zhong Han-Hao, Liu Ming-Zhe, Tony Leung Siu-Hung, Lu Kai, Jin Gang, Zhang Bo, Zhou Zhong, Shi De Quiang, Li Ze, Tenma Shibuya, Chen Zhihui, Calvin Cheng, Dennis To Yue-Hong, You-Nam Wong, Xing Yu, Siu-Wong Fan, Gordon Lam, Hiroyuki Ikeuchi, Lynn Hung, Simon Yam, Donnie Yen, DIRECTOR -> Wilson Yip)</td></tr><tr><td>tm32919</td><td>Blood Diamond</td><td>2006</td><td>143</td><td>tt0450259</td><td>8.0</td><td>536858</td><td>['thriller', 'drama']</td><td>US</td><td>R</td><td>Map(ACTOR -> Vanessa Haywood, Zenzo Ngqobe, Nathaniel Ramabulana, Mduduzi Mabaso, Tyrone Keogh, Adetokumboh M'Cormack, Grant Swanby, Klemens Becker, Percy Matsemela, David S. Lee, Ato Essandoh, Ntare Guma Mbaho Mwine, Stephen Collins, Marius Weyers, Michael Sheen, Jimi Mistry, Basil Wallace, David Harewood, Anointing Lukola, Benu Mabhena, Antony Coleman, Arnold Vosloo, Kagiso Kuypers, Jennifer Connelly, Djimon Hounsou, Leonardo DiCaprio, DIRECTOR -> Edward Zwick)</td></tr><tr><td>tm39030</td><td>Casino Royale</td><td>2006</td><td>139</td><td>tt0381061</td><td>8.0</td><td>644336</td><td>['thriller', 'action', 'european']</td><td>GB</td><td>null</td><td>Map(ACTOR -> Alexander Hathaway, Greg Bennett, Simona Roman, Ben Cooke, Tara Cardinal, Martin Campbell, Richard Branson, Ivan G'Vera, Vlastina Svátková, Alessandra Ambrosio, Phil Meheux, Valentine Nonyela, Michael G. Wilson, Michaela Ochotská, Félicité Du Jeu, Robert G. Slade, Peter Brooke, Rebecca Gethings, Crispin Bonham-Carter, Paul Bhattacharjee, Leo Stransky, Diane Hartford, John Gold, Jürgen Tarrach, Christina Cole, Carlos Leal, Andreas Daniel, Tom So, Charlie Levi Leroy, Veruschka von Lehndorff, Lazar Ristovski, Tsai Chin, Urbano Barberini, Ade, Tom Chadbon, Emmanuel Avena, Clemens Schick, Darwin Shaw, Joseph Millson, Ludger Pistor, Richard Sammel, Malcolm Sinclair, Sébastien Foucan, Claudio Santamaria, Tobias Menzies, Ivana Miličević, Jesper Christensen, Isaach De Bankolé, Simon Abkarian, Caterina Murino, Giancarlo Giannini, Jeffrey Wright, Judi Dench, Mads Mikkelsen, Eva Green, Daniel Craig, DIRECTOR -> Martin Campbell)</td></tr><tr><td>tm51493</td><td>Vizontele</td><td>2001</td><td>110</td><td>tt0270053</td><td>8.0</td><td>36291</td><td>['comedy', 'drama']</td><td>TR</td><td>null</td><td>Map(ACTOR -> Erkan Can, Mesut Çakarlı, Tuncer Salman, Erdal Tosun, Zeynep Tokuş, Cezmi Baskın, Tolga Çevik, Şafak Sezer, Cem Yılmaz, Altan Erkekli, Demet Akbağ, Yılmaz Erdoğan, DIRECTOR -> Yılmaz Erdoğan)</td></tr><tr><td>tm70993</td><td>Life of Brian</td><td>1979</td><td>94</td><td>tt0079470</td><td>8.0</td><td>392419</td><td>['comedy']</td><td>GB</td><td>R</td><td>Map(ACTOR -> George Harrison, Spike Milligan, Bernard McKenna, Andrew MacLachlan, Chris Langham, John Case, Peter Brett, Sue Jones-Davies, Gwen Taylor, John Young, Charles McKeown, Neil Innes, Kenneth Colley, Carol Cleveland, Terence Bayler, Michael Palin, Terry Jones, Eric Idle, Terry Gilliam, John Cleese, Graham Chapman, DIRECTOR -> Terry Jones)</td></tr><tr><td>tm79442</td><td>The Bourne Ultimatum</td><td>2007</td><td>115</td><td>tt0440963</td><td>8.0</td><td>627009</td><td>['thriller', 'action']</td><td>DE</td><td>PG-13</td><td>Map(ACTOR -> Ben Youcef, Chris Wilson, John Warman, Paul Thornton, Brian Smyj, James Schram, Mark Mottram, Luis Mottola, Sebastian Feldman, James Ciccone, Glynis Brooks, Michael Ahl, Kai Martin, Michael Wildman, William H. Burns, Omar Hernandez, Uriel Emil Pollack, Jeffrey Lee Gibson, Albert Jones, Trevor St. John, Laurentiu Possa, Branko Tomović, Scott Adkins, Charles Venn, Sinead O'Keefe, Mark Bazeley, Russ Huards, John Roberson, Arkie Reece, Bryan Reents, Lucy Liemann, Dan Fredenburgh, Colin Stinton, Joey Ansah, Daniel Brühl, Corey Johnson, Tom Gallop, Joan Allen, Albert Finney, Edgar Ramírez, Paddy Considine, Scott Glenn, David Strathairn, Julia Stiles, Matt Damon, DIRECTOR -> Paul Greengrass)</td></tr><tr><td>tm82718</td><td>G.O.R.A.</td><td>2004</td><td>127</td><td>tt0384116</td><td>8.0</td><td>61797</td><td>['scifi', 'comedy']</td><td>TR</td><td>PG-13</td><td>Map(ACTOR -> Ayumi Takano, Engin Günaydın, Erdem Uygan, Cenk Durmazel, Muhittin Korkmaz, İdil Fırat, Cezmi Baskın, Erdal Tosun, Şafak Sezer, Rasim Öztekin, Ozan Güven, Özkan Uğur, Özge Özberk, Cem Yılmaz, DIRECTOR -> Ömer Faruk Sorak)</td></tr><tr><td>tm1115392</td><td>Shyam Singha Roy</td><td>2021</td><td>157</td><td>tt13349716</td><td>7.9</td><td>10903</td><td>['drama', 'romance', 'horror', 'thriller']</td><td>IN</td><td>null</td><td>Map(ACTOR -> Manish Wadhwa, Anurag Kulkarni, Subhalekha Sudhakar, Jisshu Sengupta, Leela Samson, Ankith Koyya, Abhinav Gomatam, Rahul Ravindran, Murali Sharma, Madonna Sebastian, Krithi Shetty, Sai Pallavi, Nani, DIRECTOR -> Rahul Sankrityan)</td></tr><tr><td>tm134407</td><td>Dev.D</td><td>2009</td><td>144</td><td>tt1327035</td><td>7.9</td><td>30389</td><td>['drama', 'romance', 'comedy']</td><td>IN</td><td>PG-13</td><td>Map(ACTOR -> Binnu Dhillon, Sunil Grover, Nawazuddin Siddiqui, Shena Gamat, Satwant Kaur, Aseem Sharma, Sanjay Kumar, Gurkirtan, Kuldeep Singh, Parakh Madan, Kalki Koechlin, Mahie Gill, Abhay Deol, DIRECTOR -> Anurag Kashyap)</td></tr><tr><td>tm144345</td><td>Kal Ho Naa Ho</td><td>2003</td><td>186</td><td>tt0347304</td><td>7.9</td><td>68028</td><td>['drama', 'comedy', 'romance']</td><td>IN</td><td>PG</td><td>Map(ACTOR -> Uday Chopra, Rani Mukerji, Kajol, Sanjay Kapoor, Sonali Bendre, Farah Khan, Sulabha Arya, Anaita Shroff Adajania, Dara Singh, Kamini Khanna, Jhanak Shukla, Athit Naik, Sushma Seth, Ketki Dave, Shoma Anand, Satish Shah, Rajpal Yadav, Simone Singh, Lillete Dubey, Delnaaz Irani, Reema Lagoo, Sonali Bendre, Jaya Bachchan, Saif Ali Khan, Preity Zinta, Shah Rukh Khan, DIRECTOR -> Nikkhil Advani)</td></tr><tr><td>tm151860</td><td>Free to Play</td><td>2014</td><td>75</td><td>tt3203290</td><td>7.9</td><td>13308</td><td>['documentation', 'action']</td><td>UA</td><td>null</td><td>Map(ACTOR -> Clinton Loomis, Danil Ishutin, Benedict Lim, DIRECTOR -> Valve Company)</td></tr><tr><td>tm270895</td><td>I Am Not Your Negro</td><td>2017</td><td>93</td><td>tt5804038</td><td>7.9</td><td>21632</td><td>['documentation', 'history', 'european']</td><td>BE</td><td>R</td><td>Map(ACTOR -> Ray Charles, Sidney Poitier, Leander Perez, Bob Dylan, H. Rap Brown, Dick Cavett, Paul Weiss, Harry Belafonte, Robert F. Kennedy, Medgar Evers, Malcolm X, Martin Luther King Jr., James Baldwin, Samuel L. Jackson, DIRECTOR -> Raoul Peck)</td></tr><tr><td>tm307776</td><td>Secret Superstar</td><td>2017</td><td>150</td><td>tt6108090</td><td>7.9</td><td>24046</td><td>['drama', 'music']</td><td>IN</td><td>null</td><td>Map(ACTOR -> Manuj Sharma, Shaan Mukherjee, Monali Thakur, Tirth Sharma, Raj Arjun, Meher Vij, Aamir Khan, Zaira Wasim)</td></tr><tr><td>tm311815</td><td>Icarus</td><td>2017</td><td>121</td><td>tt6333060</td><td>7.9</td><td>48672</td><td>['documentation', 'thriller', 'sport']</td><td>US</td><td>null</td><td>Map(ACTOR -> Jim Walden, Jacques Rogge, David Howman, Dan Cogan, Vitaliy Mutko, Sebastian Coe, Thomas Bach, Nikita Kamaev, Richard McLaren, Richard Pound, Ben Stone, Scott Brandt, Grigory Rodchenkov, Don Catlin, Dave Zabriskie, Bryan Fogel, DIRECTOR -> Bryan Fogel)</td></tr><tr><td>tm313424</td><td>Pad Man</td><td>2018</td><td>140</td><td>tt7218518</td><td>7.9</td><td>25269</td><td>['comedy', 'drama']</td><td>IN</td><td>PG-13</td><td>Map(ACTOR -> Suneel Sinha, Amitabh Bachchan, Urmila Mahanta, Soumya Vyas, Mrinmayee Godbole, Jyoti Subhash, Sonam Kapoor, Radhika Apte, Akshay Kumar, DIRECTOR -> R. Balki)</td></tr><tr><td>tm375912</td><td>Ricky Gervais: Humanity</td><td>2018</td><td>79</td><td>tt7830574</td><td>7.9</td><td>18523</td><td>['comedy']</td><td>GB</td><td>R</td><td>Map(ACTOR -> Ricky Gervais, DIRECTOR -> John L. Spencer)</td></tr><tr><td>tm403709</td><td>Marriage Story</td><td>2019</td><td>136</td><td>tt7653254</td><td>7.9</td><td>290643</td><td>['drama', 'romance', 'comedy']</td><td>GB</td><td>R</td><td>Map(ACTOR -> Bill Blair, Peter Oliver, Mary Hollis Inboden, Rich Fulcher, Jeremy Barber, Connie Marie Flores, Juan Alfonso, Amir Talai, Andrew Steven Hernandez, Emily Cass McDonnell, Pilar Holland, Kyle Bornheimer, Justin Claiborne, Jordyn Curet, Tunde Adebimpe, Annie Hamilton, Lucas Neff, Erin Evans, Ayden Mayeri, Vinny Chhibber, Bashir Salahuddin, Dean Wareham, Sarah Jones, Carlos Jacott, Amanda Rovner, Robert Smigel, Santiago Mallan, Roslyn Ruff, McKinley Belcher III, Hannah Dunne, Brooke Bloom, Becca Blackwell, Matthew Shear, Irene Choi, Pete Simpson, Mary Wiseman, Raymond J. Lee, David Turner, Motell Gyn Foster, Gideon Glick, Jasmine Cephas Jones, Mickey Sumner, Eric Berryman, Matthew Maher, Julia Greer, Mark O'Brien, Martha Kelly, Wallace Shawn, Azhy Robertson, Merritt Wever, Julie Hagerty, Ray Liotta, Alan Alda, Laura Dern, Scarlett Johansson, Adam Driver, DIRECTOR -> Noah Baumbach)</td></tr><tr><td>tm62924</td><td>Monty Python Live at the Hollywood Bowl</td><td>1982</td><td>77</td><td>tt0084352</td><td>7.9</td><td>15186</td><td>['comedy', 'documentation']</td><td>GB</td><td>R</td><td>Map(ACTOR -> Carol Cleveland, Neil Innes, Michael Palin, Terry Jones, Eric Idle, Graham Chapman, John Cleese, Terry Gilliam, DIRECTOR -> Ian MacNaughton, Terry Hughes)</td></tr><tr><td>tm76835</td><td>Jab We Met</td><td>2007</td><td>138</td><td>tt1093370</td><td>7.9</td><td>51945</td><td>['comedy', 'drama', 'romance']</td><td>IN</td><td>PG-13</td><td>Map(ACTOR -> Asif Basra, Brijendra Kala, Wamiqa Gabbi, Saumya Tandon, Divya Shah, Kiran Juneja, Pavan Malhotra, Dara Singh, Tarun Arora, Kareena Kapoor Khan, Shahid Kapoor, DIRECTOR -> Imtiaz Ali)</td></tr><tr><td>tm1119272</td><td>14 Peaks: Nothing Is Impossible</td><td>2021</td><td>101</td><td>tt14079374</td><td>7.8</td><td>22858</td><td>['documentation', 'sport']</td><td>US</td><td>null</td><td>Map(ACTOR -> Conrad Anker, Klára Kolouchová, Reinhold Messner, Jimmy Chin, Nirmal Purja, DIRECTOR -> Torquil Jones)</td></tr><tr><td>tm130301</td><td>Gangaajal</td><td>2003</td><td>157</td><td>tt0373856</td><td>7.8</td><td>17029</td><td>['drama', 'crime', 'action']</td><td>IN</td><td>null</td><td>Map(ACTOR -> Manyata Dutt, Mohan Agashe, Ayub Khan, Mukesh Tiwari, Akhilendra Mishra, Yashpal Sharma, Mohan Joshi, Gracy Singh, Ajay Devgn, DIRECTOR -> Prakash Jha)</td></tr><tr><td>tm134967</td><td>How to Train Your Dragon 2</td><td>2014</td><td>102</td><td>tt1646971</td><td>7.8</td><td>327565</td><td>['fantasy', 'comedy', 'family', 'animation', 'action']</td><td>US</td><td>PG</td><td>Map(ACTOR -> Julian Stone, Randy Thom, Simon Kassianides, Gideon Emery, Andrew Ableson, Philip McGrade, Kieron Elliott, Kit Harington, Djimon Hounsou, Kristen Wiig, T. J. Miller, Christopher Mintz-Plasse, Jonah Hill, America Ferrera, Craig Ferguson, Gerard Butler, Cate Blanchett, Jay Baruchel, DIRECTOR -> Dean DeBlois)</td></tr><tr><td>tm138905</td><td>The Hateful Eight</td><td>2015</td><td>188</td><td>tt3460252</td><td>7.8</td><td>570138</td><td>['western', 'crime', 'drama', 'thriller']</td><td>US</td><td>R</td><td>Map(ACTOR -> Quentin Tarantino, Channing Tatum, Belinda Owino, Craig Stark, Keith Jefferson, Gene Jones, Lee Horsley, Zoë Bell, Dana Gourrier, James Parks, Bruce Dern, Michael Madsen, Tim Roth, Demián Bichir, Walton Goggins, Jennifer Jason Leigh, Kurt Russell, Samuel L. Jackson, DIRECTOR -> Quentin Tarantino)</td></tr><tr><td>tm142086</td><td>The Last Samurai</td><td>2003</td><td>154</td><td>tt0325710</td><td>7.8</td><td>429097</td><td>['drama', 'history', 'war', 'action']</td><td>NZ</td><td>R</td><td>Map(ACTOR -> Ryoichi Noguchi, Ryoichiro Yonekura, Hisao Takeda, Shinji Suzuki, Takeru Shimizu, Lee Murayama, Seiji Morita, Takeshi Maya, Shane Kosugi, Takashi Kora, Shimpei Horinouchi, Makoto Hashiba, Koji Fujii, Kenta Daibo, Hiroaki Amano, Yusuke Myochin, Hiroshi Watanabe, Jiro Wada, Mitsuyuki Oishi, Yuki Matsuzaki, Sven Toorvald, Noguchi Takayuki, Takashi Noguchi, Kosaburo Nomura IV, Shoji Yoshihara, Seizô Fukumoto, Aoi Minato, Sosuke Ikematsu, Shun Sugata, Shintaro Wada, Satoshi Nikaido, John Koyama, Masashi Odate, Ray Godshall Sr., Scott Wilson, Chad Lindberg, William Atherton, Masato Harada, Shichinosuke Nakamura, Togo Igawa, Billy Connolly, Shin Koyamada, Koyuki, Hiroyuki Sanada, Tony Goldwyn, Timothy Spall, Ken Watanabe, Tom Cruise, DIRECTOR -> Edward Zwick)</td></tr><tr><td>tm145608</td><td>Awakenings</td><td>1990</td><td>120</td><td>tt0099077</td><td>7.8</td><td>137549</td><td>['drama', 'european']</td><td>US</td><td>PG-13</td><td>Map(ACTOR -> Jack Mulcahy, Harry L. Seddon, Joan E. MacIntosh, Buck Smith, Oliver Block, Anthony J. Nici, Adam Bryant, Tomislav Novakovic, Michael Hyde, Libby Titus, Howard Feller, Vincent Pastore, Leonard Tepper, Paul Montgomery, Anthony McGowen, Byron Utley, Max Rabinowitz, Vin Diesel, Debra Kovner-Zaks, Chris Carolan, Mel Gorham, Rico Elias, Gary Tacon, Judy Jacksina, Linda Burns, Christina Huertes, Charles Keating, Waheedah Ahmad, Shane Fistell, Peter Stormare, Tanya Berezin, Harvey Miller, Tiger Haynes, Steve Vinovich, Gwyllum Evans, Gloria Harper, Steven Randazzo, Yusef Bulos, Le Clanché du Rand, Jayne Haynes, Mary Catherine Wright, John Christopher Jones, Bradley Whitford, Keith Diamond, Mary Alice, Judith Malina, Barton Heyman, Laura Esterman, Richard Libertini, Alice Drummond, George Martin, Dexter Gordon, Anne Meara, Max von Sydow, Ruth Nelson, Penelope Ann Miller, Julie Kavner, John Heard, Robin Williams, Robert De Niro, DIRECTOR -> Penny Marshall)</td></tr><tr><td>tm151663</td><td>Nightcrawler</td><td>2014</td><td>118</td><td>tt2872718</td><td>7.8</td><td>523686</td><td>['crime', 'thriller', 'drama']</td><td>US</td><td>R</td><td>Map(ACTOR -> Bill Blair, Emily Dahm, Stephanie D'Abruzzo, Viviana Chavez, Myra Turley, Kathleen York, Dale Shane, Christopher Wolfe, Manuel Lujan, Lisa Remillard, Juan Fernandez, Merritt Bailey, Dig Wayne, Jamie McShane, Christina De Leon, Kiff VandenHeuvel, Eric Lange, Kevin Dunigan, Nick Chacon, Holly Hannula, Bill Seward, Leah Fredkin, James Huang, Rick Garcia, Pat Harvey, Rick Chambers, Jonny Coyne, Michael Papajohn, Marco Rodríguez, Carolyn Gilroy, Ann Cusack, Sharon Tay, Kent Shocknek, Price Carson, Michael Hyatt, Kevin Rahm, Bill Paxton, Riz Ahmed, Rene Russo, Jake Gyllenhaal, DIRECTOR -> Dan Gilroy)</td></tr><tr><td>tm161802</td><td>The Girl with the Dragon Tattoo</td><td>2011</td><td>158</td><td>tt1568346</td><td>7.8</td><td>454917</td><td>['crime', 'thriller', 'drama']</td><td>NO</td><td>R</td><td>Map(ACTOR -> Mike Zehr, Yasmine Vine, Britt Soderberg, Annica Bejhed, Ian Kitzmiller, Shaun R.L. King, Maja Kin, Patrick Holland, Bern Collaço, Mitcho Batalov, Lennart B. Sandelin, Denise Wessman, Malin Toverud, Sahlima, Christopher Maleki, Darri Ingolfsson, Henry Hereford, Laurence Fuller, Jenifer Brougham, George Gerdes, Leah Shaw, Karen E. Wright, Joel Kinnaman, Embeth Davidtz, Andreas Björklund, Anna Charlotta Gunnarson, Élodie Yung, Bengt Wallgren, Joyce Giraud, Peter Hottinger, Christine Adams, Werner Biermeier, Christian Heller, Fredrik Dolk, Yvonne Åstrand, Anna Carlson, Martina Lotun, Marco Albrecht, Leo Bill, Anne-Li Norberg, Matthew Wolf, Lena Strömdahl, Jan Abramson, Peter Carlberg, Julia Rose, Alan Dale, Alastair Duncan, Tess Panzer, Pierre Sjö Östergren, Arly Jover, Sandra Andreis, Kalle Josephson, Jürgen Klein, Anders Jansson, Mats Andersson, Anders Berg, Reza Dehban, Inga Landgré, Martin Jarvis, Mathias Palmér, Mathilda von Essen, Marcus Johansson, David Dencik, Simon Reithner, Gustaf Hammarsten, Anna Björk, Julian Sands, Sarah Appelberg, Maya Hansson-Bergqvist, Moa Garpendal, Eva Fritjofson, Josefin Asplund, Per Myrberg, Tony Way, Bengt C.W. Carlsson, Ulf Friberg, Donald Sumpter, Goran Visnjic, Geraldine James, Joely Richardson, Yorick van Wageningen, Robin Wright, Steven Berkoff, Stellan Skarsgård, Christopher Plummer, Rooney Mara, Daniel Craig, DIRECTOR -> David Fincher)</td></tr><tr><td>tm172027</td><td>The Butterfly's Dream</td><td>2013</td><td>138</td><td>tt2882532</td><td>7.8</td><td>21882</td><td>['drama', 'history', 'romance']</td><td>TR</td><td>PG-13</td><td>Map(ACTOR -> Oğuz Okul, Salih Kalyon, İpek Bilgin, Taner Birsel, Ahmet Mümtaz Taylan, Yılmaz Erdoğan, Farah Zeynep Abdullah, Belçim Bilgin, Mert Fırat, Kıvanç Tatlıtuğ, DIRECTOR -> Yılmaz Erdoğan)</td></tr><tr><td>tm182322</td><td>Kai Po Che!</td><td>2013</td><td>126</td><td>tt2213054</td><td>7.8</td><td>36512</td><td>['drama', 'sport']</td><td>IN</td><td>null</td><td>Map(ACTOR -> Ajay Jadeja, Tahir Raj Bhasin, Manav Kaul, Asif Basra, Amrita Puri, Amit Sadh, Rajkummar Rao, Sushant Singh Rajput, DIRECTOR -> Abhishek Kapoor)</td></tr><tr><td>tm185072</td><td>My Fair Lady</td><td>1964</td><td>170</td><td>tt0058385</td><td>7.8</td><td>94121</td><td>['drama', 'music', 'romance', 'family']</td><td>US</td><td>G</td><td>Map(ACTOR -> Brendan Dillon, Henry Daniell, Lillian Kemble-Cooper, William Beckley, Al Bain, Marni Nixon, Arthur Tovey, Betty Blythe, Marjorie Bennett, Frank Baker, Bert Stevens, Colin Kenny, John Holland, Isobel Elsom, Mona Washbourne, Theodore Bikel, Jeremy Brett, Gladys Cooper, Wilfrid Hyde-White, Stanley Holloway, Rex Harrison, Audrey Hepburn, DIRECTOR -> George Cukor)</td></tr><tr><td>tm192405</td><td>Gattaca</td><td>1997</td><td>106</td><td>tt0119177</td><td>7.8</td><td>298168</td><td>['thriller', 'drama', 'scifi']</td><td>US</td><td>PG-13</td><td>Map(ACTOR -> Greg Sestero, Lindsey Ginter, Steve Bessen, George Marshall Ruge, Russell Milton, Dean Norris, Gabrielle Reece, Cynthia Martells, Ken Marino, Grace Sullivan, Carlton Benbry, Clarence Graham, Chad Christ, Vincent Nielson, Mason Gamble, Elizabeth Dennehy, Maya Rudolph, Elias Koteas, Una Damon, William Lee Scott, Jayne Brook, Xander Berkeley, Blair Underwood, Ernest Borgnine, Tony Shalhoub, Gore Vidal, Loren Dean, Alan Arkin, Jude Law, Uma Thurman, Ethan Hawke, DIRECTOR -> Andrew Niccol)</td></tr><tr><td>tm232579</td><td>Hunt for the Wilderpeople</td><td>2016</td><td>101</td><td>tt4698684</td><td>7.8</td><td>125720</td><td>['comedy', 'drama', 'action']</td><td>NZ</td><td>PG-13</td><td>Map(ACTOR -> Finn, Tuss, Selina Woulfe, Stu Giles, Timothy Herbert, Sonia Spyve, Mabelle Dennison, Selena Wolfe, Lloyd Scott, Taika Waititi, Hamish Parkinson, Mike Minogue, Stan Walker, Cohen Holloway, Troy Kingi, Tioreore Ngatai-Melbourne, Oscar Kightley, Rhys Darby, Rachel House, Rima Te Wiata, Julian Dennison, Sam Neill, DIRECTOR -> Taika Waititi)</td></tr><tr><td>tm232797</td><td>Dunkirk</td><td>2017</td><td>107</td><td>tt5013056</td><td>7.8</td><td>619645</td><td>['drama', 'history', 'thriller', 'war', 'action', 'european']</td><td>US</td><td>PG-13</td><td>Map(ACTOR -> Johnny Otto, Michael Caine, Eric Richard, Harry Collett, Jack Riddiford, Bill Milner, John Nolan, Tom Gill, Charley Palmer Rothwell, Calam Lynch, Kim Hartman, Richard Sanderson, Johnny Gibbon, Jochum ten Haaf, Harry Richardson, Kevin Guthrie, Elliott Tittensor, Brian Vernel, Michael Fox, Brett Lorenzini, Jack Cutmore-Scott, Bradley Hall, Miranda Nolan, Adam Long, Matthew Marsh, James D'Arcy, Tom Nolan, Will Attenborough, Bobby Lockwood, Dean Ridge, Callum Blake, Mikey Collins, Billy Howle, Constantin Balsan, Michel Biel, Luke Thompson, Jack Lowden, Tom Glynn-Carney, James Bloor, Lee Armstrong, Damien Bonnard, Aneurin Barnard, Harry Styles, Barry Keoghan, Cillian Murphy, Kenneth Branagh, Mark Rylance, Tom Hardy, Fionn Whitehead, DIRECTOR -> Christopher Nolan)</td></tr><tr><td>tm233544</td><td>Marco Polo: One Hundred Eyes</td><td>2015</td><td>28</td><td>tt5248968</td><td>7.8</td><td>10742</td><td>['action', 'history', 'drama']</td><td>US</td><td>null</td><td>Map(ACTOR -> Michelle Yeoh, Benedict Wong, Masayoshi Haneda, Tom Wu, DIRECTOR -> Alik Sakharov)</td></tr><tr><td>tm240162</td><td>Udta Punjab</td><td>2016</td><td>148</td><td>tt4434004</td><td>7.8</td><td>29819</td><td>['crime', 'action', 'drama']</td><td>IN</td><td>R</td><td>Map(ACTOR -> Harrdy Sandhu, Ishaan Khattar, Mahabir Bhullar, Prabhjhyot Singh, Suhail Nayyar, Vansh Bhardwaj, Manav Vij, Satish Kaushik, Diljit Dosanjh, Alia Bhatt, Kareena Kapoor Khan, Shahid Kapoor, DIRECTOR -> Abhishek Chaubey)</td></tr><tr><td>tm244149</td><td>The Irishman</td><td>2019</td><td>209</td><td>tt1302006</td><td>7.8</td><td>371209</td><td>['drama', 'crime', 'history', 'thriller']</td><td>US</td><td>R</td><td>Map(ACTOR -> Rick Bolander, Michael Cullum, Tommy Bayiokos, Vanessa Mitchell, Dean Ciallella, Michael Iacono, Fidel Castro, John F. Kennedy, Jacqueline Kennedy, Craig 'Radioman' Castaldo, Amelia Brain, Kevin Kane, Bill McHugh, Ernest L. Sanders Jr., Thomas J. McDonald, Bill Timoney, Stanley Burns, David Aaron Baker, Alfred Nittoli, Patrick Borriello, Joe Passaro, Johnny Potenza, Mario Corry, Saint Marino, Tracy J. Everitt, Barbara Eyland, Jeremy Luke, Joseph Russo, Clark Carmichael, Nina Lafarga, Anne Horak, Michael Romeo Ruocco, Lucia Giannetta, Robin Kerbis, Gino Cafarelli, Stephen Mailer, Peter J. Fernandez, Matt Walton, Tim Neff, Jill Brown, Blaise Corrigan, Mark Fairchild, Jeff DeHart, Logan Crawford, Samantha Coppola, Nicholas Chrysan, Lori Arkin, Siena Marino, Margaret Anne Florence, John Bianco, Michael Bottari, Lou Martini Jr., Erick Zamora, Dominick LaRuffa Jr., Cilda Shaur, Paul Pearlman, Giacomino J. Matra, James D. Forsha, Brent Langdon, Luke Smith, Steve Witting, Thomas J. Jenkins, John Scurti, Jack Caruso, John Garrett Greer, Kelley Rae O'Donnell, Lauren Aparicio, Diana Agostini, Joe Giorgio, Alfred Sauchelli Jr., Steve Beauchamp, Vincenzo DelRiccio, Cliff Moylan, Matthew F. O'Connor, Eugene Bunge, Michael Gongora, Charles DelGatto, Peter Claymore, Fernando Vera, Steve Routman, John Rue, Ken Wulf Clark, Rebecca Faulkenberry, Lawrence Smith, Vince Maritato, Robert C. Kirk, Jeffrey Paul, James Lorinz, Aldo Sergi, Meghan Rafferty, Marco Greco, Ron Castellano, James Ciccone, Mike Massimino, Veronica Alicino, James Licata, Steven Maglio, Paul Borghese, Jon Bruno, Ira Drukier, Craig DiFrancia, Larry Mazza, Vito Picone, Richard V. Licata, Samantha Soule, Patrick Murney, Johnny T. Sollitto, Frank Aquilino, Frank Pietrangolare, Garry Pastore, Al Linea, James P. Harkins, Michael C. Brennan, Jason A. Iannacone, Tony Suriano, Philip Suriano, Bernie Martin, Kate Arrington, Jordyn DiNatale, India Ennenga, Jennifer Mudge, Tess Price, Robert Funaro, Rich Reilly, Robert Mladinich, John Cenatiempo, Thomas E. Sullivan, Vinny Vella, Joseph Riccobene, John Polce, Craig Vincent, Louis Vanaria, Jamil Antonio Stefan, Joseph Bono, J. C. MacKenzie, Anthony J. Gallo, Danny A. Abeckaser, Barry Primus, Jake Hoffman, James Martin, Patrick Gallo, Paul Ben-Victor, Glenn Cunningham, Action Bronson, Kevin O'Rourke, Billy Smith, Jim Norton, Daniel Jenkins, Aleksa Palladino, Bo Dietl, Dascha Polanco, Jonathan Morris, Lucy Gallina, Steven Van Zandt, Sebastian Maniscalco, Marin Ireland, Gary Basaraba, Louis Cancelmi, Paul Herman, Domenick Lombardozzi, Jack Huston, Jesse Plemons, Welker White, Kathrine Narducci, Stephanie Kurtzuba, Anna Paquin, Bobby Cannavale, Harvey Keitel, Ray Romano, Stephen Graham, Joe Pesci, Al Pacino, Robert De Niro, DIRECTOR -> Martin Scorsese)</td></tr><tr><td>tm325325</td><td>The Game Changers</td><td>2019</td><td>88</td><td>tt7455754</td><td>7.8</td><td>19708</td><td>['documentation']</td><td>US</td><td>null</td><td>Map(ACTOR -> Tia Blanco, Dotsie Bausch, Scott Jurek, Patrik Baboumian, Arnold Schwarzenegger, James Wilks, DIRECTOR -> Louie Psihoyos)</td></tr><tr><td>tm441050</td><td>The Gentlemen</td><td>2019</td><td>113</td><td>tt8367814</td><td>7.8</td><td>314049</td><td>['comedy', 'crime', 'action']</td><td>US</td><td>R</td><td>Map(ACTOR -> Bugzy Malone, Jason Lines, Geraldine Somerville, Tom Wu, Elle Black, James Warren, Lyne Renee, Eugenia Kuzmina, Jack Jones, Togo Igawa, Danny Griffin, Bruce Chong, Max Bennett, Jordan Long, Steve Barnett, Russell Balogh, Chloe Arrowsmith, Eliot Sumner, Christopher Evangelou, Mike Bodnar, Jordan Long, Jason Wong, Brittany Ashworth, Simon R. Barker, Chidi Ajufo, Eddie Marsan, Hugh Grant, Colin Farrell, Jeremy Strong, Michelle Dockery, Henry Golding, Charlie Hunnam, Matthew McConaughey, DIRECTOR -> Guy Ritchie)</td></tr><tr><td>tm447439</td><td>System Crasher</td><td>2019</td><td>118</td><td>tt8535968</td><td>7.8</td><td>12699</td><td>['drama', 'european']</td><td>DE</td><td>null</td><td>Map(ACTOR -> Sashiko Hara, Samantha Hanses, Louis von Klipstein, Asad Schwarz, Fine Belger, Helena Gutscha, Marie von der Groeben, Mathilda Florczyk, Moritz Thiel, Jannes Kupsch, Noah Lakmes, Cederic Mardon, Gennaro Trama, Ida Goetzev, Bruno Thiel, Stella Brückner, Julia Becker, Till Butterbach, Bärbel Schwarz, Steffi Kühnert, Hanife Sylejmani, Barbara Philipp, Roland Bonjour, Peter Schneider, Jana Julia Roth, Victoria Trauttmansdorff, Imke Büchel, Axel Werner, Gisa Flake, Tedros Teclebrhan, Matthias Brenner, Melanie Straub, Maryam Zaree, Lisa Hagmeister, Gabriela Maria Schmeide, Albrecht Schuch, Helena Zengel, DIRECTOR -> Nora Fingscheidt)</td></tr><tr><td>tm458328</td><td>Badla</td><td>2019</td><td>120</td><td>tt8130968</td><td>7.8</td><td>27130</td><td>['thriller', 'crime', 'drama']</td><td>IN</td><td>PG-13</td><td>Map(ACTOR -> Tariqsafdar Hussain, Paul Ellard, Begonia Villalba, Shome Makhija, Maram Kamal, Selina Hotwani, Jason Hetherington, Rachel Flynn, April Agarwal-Aplin, Denzil Smith, Tanveer Ghani, Manav Kaul, Amrita Singh, Tony Luke, Taapsee Pannu, Amitabh Bachchan, DIRECTOR -> Sujoy Ghosh)</td></tr><tr><td>tm86803</td><td>The Social Network</td><td>2010</td><td>121</td><td>tt1285016</td><td>7.8</td><td>681286</td><td>['drama']</td><td>US</td><td>PG-13</td><td>Map(ACTOR -> Cooper Conley-Currier, Georgina Tolentino, Rebecca Tilney, Adrienne Rusk, Alexandra Ruddy, Jeff Rosick, Tia Robinson, Miriam Pultro, Riley Voelkel, Naina Michaud, Eric La Barr, Kandis Mak, Sara Murphy, Eli Jane, Jessica Franz, Bryan Forrest, Carlos Foglia, Jason Flemyng, Vincent Rivera, Tony DeSean, Calvin Dean, Chad Davis, Tatum Miranda, Kristen Clement, Patrick Michael Strange, Nathan Dean Snyder, Brett A. Newton, Elliott Ehlers, Tony Calle, Mike Bash, David Broyles, Jesse Heiman, Noah Baron, Inbal Amirav, Andrew Thacher, Franco Vega, Caleb Landry Jones, Jeff Martineau, Cherilyn Wilson, Lacey Beeman, Darin Cooper, Cayman Grant, Monique Edwards, Alex Reznik, Christopher Khai, Kyle Fain, Aaron Sorkin, Nancy Linari, Cali Fredrichs, Brett Leigh, Brian Palermo, Pamela Roylance, Carrie Armstrong, Randy Evans, Marcella Lentz-Pope, Scotty Crowe, Robert Dastoli, James Dastoli, Toby Meuli, Chris Gouchoe, Dustin Fitzsimons, Trevor Wright, Peter Holden, Amy Ferguson, Felisha Terrell, Adina Porter, Jared Hillman, Caitlin Gerard, Scott Lawrence, Oliver Muirhead, James Shanklin, John Hayden, Emma Fitzpatrick, Inger Tudor, Cedric Sanders, Mark Saul, Mariah Bonner, Abhi Sinha, Shelby Young, Barry Livingston, Bryan Barter, Melise, Dakota Johnson, Patrick Mapel, Wallace Langham, Joseph Mazzello, Douglas Urbanski, Josh Pence, Denise Grayson, David Selby, John Getz, Rashida Jones, Brenda Song, Rooney Mara, Max Minghella, Armie Hammer, Justin Timberlake, Andrew Garfield, Jesse Eisenberg, DIRECTOR -> David Fincher)</td></tr><tr><td>tm96595</td><td>Lakshya</td><td>2004</td><td>186</td><td>tt0323013</td><td>7.8</td><td>23076</td><td>['drama', 'romance', 'war', 'action']</td><td>IN</td><td>G</td><td>Map(ACTOR -> M. K. Raina, Amit Behl, Aditya Srivastava, Arav Chowdhary, Nawab Shah, Vipul Gupta, Vishal Vijay Kumar, Surendra Pal, Amrish Puri, Abhimanyu Singh, Kushal Punjabi, Abir Goswami, Lillete Dubey, Parmeet Sethi, Ranvir Shorey, Boman Irani, Rajendranath Zutshi, Om Puri, Sushant Singh, Amitabh Bachchan, Preity Zinta, Hrithik Roshan, DIRECTOR -> Farhan Akhtar)</td></tr><tr><td>tm105329</td><td>Road to Perdition</td><td>2002</td><td>117</td><td>tt0257044</td><td>7.7</td><td>263212</td><td>['thriller', 'documentation', 'crime', 'drama']</td><td>US</td><td>R</td><td>Map(ACTOR -> Paul Turner, Anthony LaPaglia, James Greene, Peggy Roeder, Harry Groener, Diane Dorsey, Maureen Gallagher, Rob Maxey, Ian Barford, Kerry Rossall, John Judd, Nicolas Cade, Lance Baker, Heidi Jayne Netzley, Mina Badie, Lara Phillips, Keith Kupferer, Roderick Peeples, Michael Sassone, Duane Sharp, Kurt Naebig, Doug Spinuzza, Kevin Chamberlin, David Darlow, Ciarán Hinds, Dylan Baker, Liam Aiken, Tyler Hoechlin, Daniel Craig, Stanley Tucci, Jennifer Jason Leigh, Jude Law, Paul Newman, Tom Hanks, DIRECTOR -> Sam Mendes)</td></tr><tr><td>tm119281</td><td>Bonnie and Clyde</td><td>1967</td><td>110</td><td>tt0061418</td><td>7.7</td><td>111189</td><td>['drama', 'crime', 'action']</td><td>US</td><td>R</td><td>Map(ACTOR -> Ken Mayer, Ann Palmer, Russ Marker, Clyde Howdy, Owen Bush, Patrick Cranshaw, Mabel Cavitt, Gene Wilder, Evans Evans, Dub Taylor, Denver Pyle, Estelle Parsons, Gene Hackman, Michael J. Pollard, Faye Dunaway, Warren Beatty, DIRECTOR -> Arthur Penn)</td></tr><tr><td>tm136257</td><td>Beasts of No Nation</td><td>2015</td><td>137</td><td>tt1365050</td><td>7.7</td><td>80129</td><td>['war', 'drama']</td><td>US</td><td>R</td><td>Map(ACTOR -> David Dontoh, Nataliah Andoh, Emmary Brown, Grace Nortey, Fred Nii Amugi, Francis Weddey, Andrew Adote, Nana Mensah, Ernest Abbeyquaye, Ricky Adelayitor, Jude Akuwudike, Kurt Egyiawan, John Arthur, Kobina Amissah-Sam, Ama K. Abebrese, Richard Pepple, Emmanuel Affadzi, Opeyemi Fagbohungbe, Emmanuel Nii Adom Quaye, Idris Elba, Abraham Attah, DIRECTOR -> Cary Joji Fukunaga)</td></tr><tr><td>tm138875</td><td>When Harry Met Sally...</td><td>1989</td><td>96</td><td>tt0098635</td><td>7.7</td><td>212913</td><td>['romance', 'comedy', 'drama']</td><td>US</td><td>R</td><td>Map(ACTOR -> Anthony Welch, Terry Vaughan, John Speredakos, Marilyn Spanier, Larry Sherman, Stanley Moore, Randy James, Nicholas Glaeser, Jeff Dlugolecki, Bob Ader, Jane Chung, Peter Pan, Dona Hardy, Aldo Rossi, Rose Wright, Bernie Hern, Frances Chaney, Katherine Squire, Kuno Sponholz, Connie Sawyer, John Arceri, Estelle Reiner, Stacey Katzin, Kimberley LaMarque, Kyle T. Heffner, Tracy Reiner, Franc Luz, Kevin Rooney, Joseph Hunt, Harley Jane Kozak, Joe Viviani, David Burdick, Robert Alan Beuth, Gretchen Palmer, Michelle Nicastro, Lisa Jane Persky, Steven Ford, Bruno Kirby, Carrie Fisher, Meg Ryan, Billy Crystal, DIRECTOR -> Rob Reiner)</td></tr><tr><td>tm14873</td><td>Dirty Harry</td><td>1971</td><td>102</td><td>tt0066999</td><td>7.7</td><td>153463</td><td>['thriller', 'crime', 'action']</td><td>US</td><td>R</td><td>Map(ACTOR -> Diane Darnell, Sean Maley, Derek Jue, Richard Samuelson, Pamela Tanimura, Janet Wisely, Gordon Chapli, Marc Hertsens, Tony Dario, Kristoffer Tabori, Don Siegel, Debralee Scott, Victor Paul, Angela Paton, Kathleen O'Malley, Ann Noland, Laurie Mock, Richard Lawson, Raymond Johnson, Chuck Hicks, Bob Harris, Kate Harper, Scott Hale, Don Haggerty, David Gilliam, James W. Gavin, Eddie Garrett, Christopher Pray, John Garber, Max Gail, Lois Foraker, George Fargo, Larry Duran, Al Dunlap, Chuck Dorsett, Vince Deadrick Sr., Diana Davidson, Bill Couch, Joy Carlin, Albert Popwell, Craig Kelly, Jo De Winter, Maurice Argent, James Nolan, William Paterson, Josef Sommer, Woodrow Parfrey, Ruth Kobart, Lyn Edgington, Mae Mercer, John Mitchum, John Larch, Andrew Robinson, John Vernon, Reni Santoni, Harry Guardino, Clint Eastwood, DIRECTOR -> Don Siegel)</td></tr><tr><td>tm164877</td><td>Midnight in Paris</td><td>2011</td><td>94</td><td>tt1605783</td><td>7.7</td><td>413541</td><td>['fantasy', 'romance', 'comedy']</td><td>US</td><td>PG-13</td><td>Map(ACTOR -> Kenneth Edelson, Michel Vuillermoz, Marianne Basler, François Rostain, Olivier Rabourdin, Vincent Menjou Cortes, Catherine Benguigui, Karine Vanasse, Sava Lolov, Laurent Claret, Yves-Antoine Spoto, Atmen Kelif, David Lowe, Gad Elmaleh, Serge Bagdassarian, Adrien de Van, Tom Cordier, Adrien Brody, Emmanuelle Uzan, Marcial Di Fonzo Bo, Kathy Bates, Thérèse Bourou-Rubinsztein, Laurent Spielvogel, Daniel Lundh, Corey Stoll, Sonia Rolland, Tom Hiddleston, Alison Pill, Yves Heck, Marie-Sohna Conde, Audrey Fleurot, Guillaume Gouix, Thierry Hancisse, Maurice Sonnenberg, Carla Bruni, Léa Seydoux, Marion Cotillard, Nina Arianda, Michael Sheen, Mimi Kennedy, Kurt Fuller, Rachel McAdams, Owen Wilson, DIRECTOR -> Woody Allen)</td></tr><tr><td>tm177958</td><td>Pyaar Ka Punchnama</td><td>2011</td><td>149</td><td>tt1926313</td><td>7.7</td><td>21204</td><td>['romance', 'comedy', 'drama', 'european']</td><td>IN</td><td>PG-13</td><td>Map(DIRECTOR -> Esen Işık)</td></tr><tr><td>tm183002</td><td>Madras Cafe</td><td>2013</td><td>130</td><td>tt2855648</td><td>7.7</td><td>24319</td><td>['thriller', 'action', 'drama']</td><td>IN</td><td>PG-13</td><td>Map(ACTOR -> Swaroopa Ghosh, Malini Sathappan, Kanan Arunachalam, Udhayabanu Mageswaran, Leena Maria Paul, Dinesh Prabhakar, Avijit Dutt, Piyush Pandey, Prakash Belawadi, Ajay Rathnam, Siddhartha Basu, Raashii Khanna, Nargis Fakhri, John Abraham, DIRECTOR -> Shoojit Sircar)</td></tr><tr><td>tm191989</td><td>Donnie Brasco</td><td>1997</td><td>127</td><td>tt0119008</td><td>7.7</td><td>300073</td><td>['thriller', 'drama', 'crime']</td><td>US</td><td>R</td><td>Map(ACTOR -> Larry Tobias, Dale Resteghini, Garry Pastore, Antone Pagán, Peter O'Hara, Jim Lavin, Barry Hirschberg, Teresa Giudice, Mark Todd Bruner, Frank Bonsangue, Flint Beverage, Caleb, Pat Vecchio, Carmelo Musacchia, Gaetano LoGiudice, Edward Black, Tony Ray Rossi, Richard Zavaglia, John Di Benedetto, Randy Jurgensen, Frank Pesce, Joyce Stovall, Sandy Barber, LaJuan Carter, Dan Brennan, John Horton, Elaine del Valle, Denise Faye, Elle Alexander, Doreen Murphy, Laura Cahill, Billy Capucilli, Sal Jenco, Joe Francis, Rocco Musacchia, Keenan Shimizu, Andrew Parks, James Bulleit, James McCauley, Larry Romano, Sara Gold, Katie Sagona, Delanie Fitzpatrick, Madison Arnold, Val Avery, George Angelica, Tony Lip, Terry Serpico, Ronnie Farer, Walt MacPherson, Tim Blake Nelson, Gretchen Mol, Paul Giamatti, Robert Miano, Gerry Becker, Zach Grenier, Rocco Sisto, Brian Tarantina, Zeljko Ivanek, Anne Heche, James Russo, Bruno Kirby, Michael Madsen, Al Pacino, Johnny Depp, DIRECTOR -> Mike Newell)</td></tr><tr><td>tm193211</td><td>Mucize</td><td>2015</td><td>136</td><td>tt6876670</td><td>7.7</td><td>12395</td><td>['drama', 'comedy', 'romance', 'documentation', 'european']</td><td>TR</td><td>PG-13</td><td>Map(ACTOR -> Billur Yılmaz, Berivan Karaman, Talat Bulut, Serpil Gül, Erol Demiröz, Büşra Pekin, Ali Sürmeli, Seda Tosun, Meral Çetinkaya, Mahsun Kırmızıgül, Mert Turak, DIRECTOR -> Mahsun Kırmızıgül)</td></tr><tr><td>tm233344</td><td>Kapoor & Sons</td><td>2016</td><td>132</td><td>tt4900716</td><td>7.7</td><td>25792</td><td>['romance', 'comedy', 'drama', 'family']</td><td>IN</td><td>PG-13</td><td>Map(ACTOR -> Edward Sonnenblick, Rupa Kamath, Arbaaz Kadwani, Elena Roxana Maria Fernandes, Aakriti Dobhal, Anuradha Chandan, Aditya Gunavanthe, Sukant Goel, Aalekh Kapoor, Niti Apurva Patel, Vikram Kapadia, Anahita Oberoi, Rajat Kapoor, Rishi Kapoor, Ratna Pathak, Alia Bhatt, Fawad Khan, Sidharth Malhotra, DIRECTOR -> Shakun Batra)</td></tr><tr><td>tm244259</td><td>Wind River</td><td>2017</td><td>106</td><td>tt6185846</td><td>7.7</td><td>240408</td><td>['thriller', 'crime', 'drama', 'western']</td><td>FR</td><td>R</td><td>Map(ACTOR -> Tara Karsian, Teresa Duran-Norvick, David Cardona, Dana Anquoe, Ian Roylance, Norman Lehnert, Blake Robbins, Chris Romrell, Mason D. Davis, Gabe Casdorph, Ian Bohen, Austin R. Grant, Dallin Tusieseina, Shayne J. Cullen, Tyler Laracca, Tokala Black Elk, Althea Sam, Apesanahkwat, Graham Greene, Jon Bernthal, Martin Sensmeier, Eric Lange, James Jordan, Julia Jones, Hugh Dillon, Matthew Del Negro, Tantoo Cardinal, Teo Briones, Kelsey Asbille, Gil Birmingham, Elizabeth Olsen, Jeremy Renner, DIRECTOR -> Taylor Sheridan)</td></tr><tr><td>tm288499</td><td>Roma</td><td>2018</td><td>135</td><td>tt6155172</td><td>7.7</td><td>153508</td><td>['drama', 'european']</td><td>MX</td><td>R</td><td>Map(ACTOR -> Kjartan Halvorsen, Nicolás Peréz Taylor Félix, Enoc Leaño, Clementina Guadarrama, Edwin Mendoza Ramírez, José Luis López Gómez, Zarela Lizbeth Chinolla Arellano, Victor Manuel Resendiz Ruiz, Andy Cortés, José Manuel Guerrero Mendoza, Jorge Antonio Guerrero, Fernando Grediaga, Verónica García, Nancy García García, Daniela Demesa, Marco Graf, Carlos Peralta, Diego Cortina Autrey, Marina de Tavira, Yalitza Aparicio, DIRECTOR -> Alfonso Cuarón)</td></tr><tr><td>tm349803</td><td>Jim & Andy: The Great Beyond - Featuring a Very Special, Contractually Obligated Mention of Tony Clifton</td><td>2017</td><td>94</td><td>tt7214762</td><td>7.7</td><td>25593</td><td>['comedy', 'documentation']</td><td>US</td><td>null</td><td>Map(ACTOR -> Andy Kaufman, Bob Zmuda, Michael Stipe, George Shapiro, Courtney Love, Carol Kane, Lynne Margulies, Jon Lovitz, David Letterman, Jerry Lawler, Carol Kane, Elton John, Hugh Hefner, Paul Giamatti, Andy Dick, Randall Carver, Peter Bonerz, Judd Hirsch, Miloš Forman, Danny DeVito, Jim Carrey, DIRECTOR -> Chris Smith)</td></tr><tr><td>tm351201</td><td>In the Family</td><td>2017</td><td>124</td><td>tt7642818</td><td>7.7</td><td>23297</td><td>['comedy']</td><td>TR</td><td>PG-13</td><td>Map(ACTOR -> Erdal Cindoruk, Ünal Yeter, Arif Erkin Güzelbeyoğlu, Rıza Akın, Devin Özgür Çınar, Deniz Hamzaoğlu, Ayta Sözeri, Su Kutlu, Derya Karadaş, Gülse Birsel, Şevket Çoruh, Fatih Artman, Devrim Yakut, Erdal Özyağcılar, Demet Evgar, Engin Günaydın, DIRECTOR -> Ozan Açıktan)</td></tr><tr><td>tm366590</td><td>Sanju</td><td>2018</td><td>161</td><td>tt6452574</td><td>7.7</td><td>52227</td><td>['drama', 'comedy']</td><td>IN</td><td>null</td><td>Map(ACTOR -> Ashnoor Kaur, Sanjay Dutt, Arshad Warsi, Tabu, Sayaji Shinde, Jim Sarbh, Karishma Tanna, Boman Irani, Sonam Kapoor, Manisha Koirala, Dia Mirza, Anushka Sharma, Vicky Kaushal, Paresh Rawal, Ranbir Kapoor, DIRECTOR -> Rajkumar Hirani)</td></tr><tr><td>tm37945</td><td>Rock On!!</td><td>2008</td><td>144</td><td>tt1230165</td><td>7.7</td><td>21963</td><td>['drama', 'music']</td><td>IN</td><td>null</td><td>Map(ACTOR -> Anu Malik, Suraj Jagan, Dalip Tahil, Monica Dogra, Nicolette Bird, Koel Purie, Shahana Goswami, Prachi Desai, Luke Kenny, Purab Kohli, Arjun Rampal, Farhan Akhtar, DIRECTOR -> Abhishek Kapoor)</td></tr><tr><td>tm38064</td><td>Berserk: The Golden Age Arc II - The Battle for Doldrey</td><td>2012</td><td>80</td><td>tt2358911</td><td>7.7</td><td>10257</td><td>['fantasy', 'drama', 'horror', 'animation', 'action']</td><td>JP</td><td>R</td><td>Map(ACTOR -> Kazuki Yao, Kenta Miyake, Yoshiro Matsumoto, Rikiya Koyama, Minako Kotobuki, Yuki Kaji, Takahiro Fujiwara, Toa Yukinari, Takahiro Sakurai, Hiroaki Iwanaga, DIRECTOR -> Toshiyuki Kubooka)</td></tr><tr><td>tm43179</td><td>Oye Lucky! Lucky Oye!</td><td>2008</td><td>126</td><td>tt1292703</td><td>7.7</td><td>17411</td><td>['comedy', 'drama', 'action', 'crime']</td><td>IN</td><td>null</td><td>Map(ACTOR -> Rajendra Sethi, Kamlesh Gill, Manjot Singh, Vishal Malhotra, Rajeev Khandelwal, Manu Rishi Chadha, Richa Chadha, Archana Puran Singh, Neetu Chandra, Paresh Rawal, Abhay Deol, DIRECTOR -> Dibakar Banerjee)</td></tr><tr><td>tm59428</td><td>Silver Linings Playbook</td><td>2012</td><td>122</td><td>tt1045658</td><td>7.7</td><td>697481</td><td>['drama', 'romance', 'comedy']</td><td>US</td><td>R</td><td>Map(ACTOR -> Carsen Warner, Mike Wilson, Brian Anthony Wilson, Jen Weissenberg, Ryan Tygh, Ryan Shank, Thomas Walton, Vincent Riviezzo, Charles Pendelton, Jeni Miller, Montana Marks, Raymond Mamrak, David Kneeream, Andrea Havens, Matthew James Gulbranson, Marty Krzywonos, Jae Greene, Shawn Gonzalez, Liam Ferguson, Luisa Diaz, Lindsay Schnebly, Joe Cappelletti, Jeffrey Mowery, Robert Bizik, Lavonne Nichols, Carol Anne Mueller, Jaclyn McHugh, Traci Law, Todd Anthony, Lana Rossi, Dicky Eklund Jr., Tiffany E. Green, Mihir Pathak, Sanjay Shende, Pete Postiglione, Madhu Narula, Ted Barba, Samantha Gelnaw, Jeff Reim, Patsy Meck, Anthony Lawton, Mary Regency Boies, Phillip Chorba, Patrick McDade, Cheryl Williams, Matthew Russell, Paul Herman, Brea Bee, Bonnie Aarons, John Ortiz, Anupam Kher, Dash Mihok, Shea Whigham, Julia Stiles, Chris Tucker, Jacki Weaver, Robert De Niro, Jennifer Lawrence, Bradley Cooper, DIRECTOR -> David O. Russell)</td></tr><tr><td>tm60292</td><td>Argo</td><td>2012</td><td>120</td><td>tt1024648</td><td>7.7</td><td>600392</td><td>['drama', 'thriller']</td><td>US</td><td>R</td><td>Map(ACTOR -> Jimmy Carter, Philip Baker Hall, Matt McColm, Taylor Schilling, Michael Chieffo, Deborah Deimel Bean, Ken Edling, Maz Siam, Nancy Stelle, Yan Feldman, Alex Schemmer, John Hans Tester, Brandon Tabassi, Fahim Fazli, Annie Little, Puya Abbassi, Saba Sarem, Sam Sheikholeslami, Bahram Khosraviani, Cas Anvar, Baris Deli, Amir K, Tehmina Sunny, Fanshen Cox, Danilo Di Julio, Larry Sullivan, Tim Quill, Lindsey Ginter, Leyla Beysulen, Asghar Allah Veirdi Zadeh, Muhammed Cangören, Sahm McGlynn, Ali Farkhonde, Peter Henry Schroeder, Houshang Touzie, Dorianne Pahlavan, Hovik Gharibian, Soheil Tasbihchi, Mehrdad Sarlak, Ray Haratian, Bobby Naderi, Allegra Carpenter, Rafi Pitts, Taies Farzan, Ali Fiori, Amitis Frances Ariano, Andrew Varenhorst, Joseph S. Griffo, Daston Kalili, Bill Blair, Scott Elrod, Mark Rhino Smith, Kelly Curran, Nelson Franklin, Tom Lenk, Adrienne Barbeau, Eric Scott Cooper, Michael Parks, Danielle Barbosa, Stephen J. Lattanzi, Ray Porter, Rob Tepper, Ashley Wood, Scott Anthony Leet, Araz Vahid Ebrahim Nia, Ali Saam, Barry Livingston, Aidan Sussman, Nikka Far, Yuriy Sardarov, John Boyd, Michael Cassidy, Jean Carol, David Sullivan, Rob Brownstein, Bill Kalmenson, J.R. Cacia, Matt Nolan, Victor McCay, Bobby Zegar, Sharareh Sedghi, Michael Woolston, Ruty Rutenberg, Alborz Basiratmand, Jon Woodward Kirby, Christopher Stanley, Roberto Garcia, Matthew Glave, Jamie McShane, Bill Tangradi, Ryan Ahern, Karina Logue, Sheila Vand, Farshad Farahat, Page Leong, Omid Abtahi, Richard Dillane, Richard Kind, Bob Gunton, Keith Szarabajka, Titus Welliver, Zeljko Ivanek, Chris Messina, Kyle Chandler, Kerry Bishé, Christopher Denham, Rory Cochrane, Scoot McNairy, Clea DuVall, Tate Donovan, Victor Garber, John Goodman, Alan Arkin, Bryan Cranston, Ben Affleck, DIRECTOR -> Ben Affleck)</td></tr><tr><td>tm72587</td><td>Guru</td><td>2007</td><td>166</td><td>tt0499375</td><td>7.7</td><td>23541</td><td>['romance', 'documentation', 'drama', 'european']</td><td>IN</td><td>PG-13</td><td>Map(ACTOR -> Elina Wadiwala, Sudhir Pandey, Sanjay Mishra, Sarita Joshi, Darshan Jariwala, Rajendra Gupta, Mukesh Bhatt, Arjan Bajwa, Roshan Seth, Nina Kulkarni, Dhritiman Chatterjee, Manoj Joshi, Sachin Khedekar, Prathap Pothan, Mallika Sherawat, Arya Babbar, Vidya Balan, R. Madhavan, Mithun Chakraborty, Aishwarya Rai Bachchan, Abhishek Bachchan, DIRECTOR -> Mani Ratnam)</td></tr><tr><td>tm840196</td><td>The Trial of the Chicago 7</td><td>2020</td><td>130</td><td>tt1070874</td><td>7.7</td><td>170728</td><td>['drama', 'history', 'thriller']</td><td>US</td><td>R</td><td>Map(ACTOR -> Lex Elle, Elizabeth Holder, Michael A. Dean, Thomas John Gallagher, Keeley Morris, Dan MacDonald, Brendan Brown, Maria Jacobson, Jeffrey Yonkus, Shane Skidmore, Allison Trumbo, Ashley Trumbo, Hana Chew, Marlee Mendelson, Sam Nelson Harris, David Fierro, Alex Henderson, Ed Flynn, Gabriel Franken, Ben Kass, Marco Lama, Steven Komito, Jessica Wood, Blair Lewin, Edward Fletcher, Kate Miller, John Quilty, Julian Hester, Shawn Parsons, Michael Bassett, Max Adler, Christian Litke, Matt LeFevour, Kathleen Garrett, Tony Lawry, Michelle Hurst, Gabrielle Perrea, Calvin Ticknor-Swanson, Brandon Fierro, Vic Kuligoski, James Pravasilis, Mike Brunlieb, Mike Geraghty, Larry Mitchell, John F. Carpenter, Madison Nichols, Steve Routman, Tiffany Denise Hobbs, Gavin Haag, Kevin O'Donnell, John Gawlik, Alan Metoskie, Tah von Allmen, Brendan Burke, Juliette Angelo, Meghan Rafferty, Brady Jenness, C.J. Wilson, Damian Young, Wayne Duvall, John Doman, J. C. MacKenzie, Alice Kremelberg, Caitlin Fitzgerald, Kelvin Harrison Jr., Ben Shenkman, Danny Flaherty, Noah Robbins, Jeremy Strong, Yahya Abdul-Mateen II, Alex Sharp, Mark Rylance, John Carroll Lynch, Frank Langella, Michael Keaton, Joseph Gordon-Levitt, Sacha Baron Cohen, Eddie Redmayne, DIRECTOR -> Aaron Sorkin)</td></tr><tr><td>tm133374</td><td>The Blind Side</td><td>2009</td><td>129</td><td>tt0878804</td><td>7.6</td><td>323939</td><td>['drama', 'sport']</td><td>US</td><td>PG-13</td><td>Map(ACTOR -> Tommy Tuberville, Nick Saban, \"Franklin \"\"Pepper\"\" Rodgers\", Ed Orgeron, Houston Nutt, Tom Lemming, Lou Holtz, Phillip Fulmer, Lamont Koonce, Michael Fisher, Joe Chrest, John Henry Hancock, John Newberg, Ben Keen, Jaye Tyroff, April Rich, Destiny Long, Omid Soltani, Trey Best, Matthew Atkinson, Preston Wigasi Brant, Kevin Nichols, Brett Rice, L. Warren Young, James Donadio, Jody Thompson, Brandon Rivers, Rachel St. Gelais, Brian Sutherin, Whitney Branan, Robert Pralgo, Kelly Johns, Catherine Combs, David Dwyer, Eric Benson, Patrick G. Keenan, Maria Howell, Afemo Omilami, Elizabeth Omilami, Stacey Turner, Ashley LeConte Campbell, Eaddy Mays, Rhoda Griffis, Hampton Fluker, Irone Singleton, Paul Amadi, Omar J. Dorsey, Sharon Conley, Melody Weintraub, Brian Hollan, Libby Whittemore, Tom Nowicki, Andy Stahl, Catherine Dyer, Kathy Bates, Adriane Lenox, Kim Dickens, Ray McKinnon, Lily Collins, Jae Head, Quinton Aaron, Tim McGraw, Sandra Bullock, DIRECTOR -> John Lee Hancock)</td></tr><tr><td>tm133767</td><td>Love Actually</td><td>2003</td><td>139</td><td>tt0314331</td><td>7.6</td><td>474176</td><td>['drama', 'comedy', 'romance']</td><td>GB</td><td>R</td><td>Map(ACTOR -> Richard Wills-Cotton, Anne Reid, Richard Curtis, Frances de la Tour, Jeanne Moreau, Emma Buckley, Raul Atalaia, Arturo Venegas, Ruby Turner, Margery Mason, Colin Coull, William Wadham, Michael FitzGerald, Meg Wynn Owen, Michael Parkinson, Brian Bovell, Jo Whiley, Elisabeth Margoni, Nancy Sorrell, Laura Rees, Bill Moody, Joanna Bacon, Declan Donnelly, Anthony McPartlin, Marcus Brigstocke, Ivana Miličević, Richard Hawley, Caroline John, Edward Hardwicke, Julia Davis, Jont Whittington, Lynden David Hall, Jill Raymond, Frank Moorey, Tim Hatwell, Carla Vasconcelos, Rory MacGregor, Sheila Allen, Dan Fredenburgh, Sienna Guillory, Olivia Olson, Lulu Popplewell, Claudia Schiffer, Billy Bob Thornton, Nina Sosanya, Denise Richards, Shannon Elizabeth, January Jones, Elisha Cuthbert, Adam Godley, Kris Marshall, Joanna Page, Gregor Fisher, Lúcia Moniz, Heike Makatsch, Rodrigo Santoro, Thomas Brodie-Sangster, Rowan Atkinson, Martin Freeman, Chiwetel Ejiofor, Andrew Lincoln, Keira Knightley, Martine McCutcheon, Colin Firth, Laura Linney, Bill Nighy, Emma Thompson, Alan Rickman, Liam Neeson, Hugh Grant, DIRECTOR -> Richard Curtis)</td></tr><tr><td>tm135451</td><td>Gifted Hands: The Ben Carson Story</td><td>2009</td><td>86</td><td>tt1295085</td><td>7.6</td><td>10210</td><td>['drama']</td><td>US</td><td>null</td><td>Map(ACTOR -> Matthew Winne, Armon York Williams, Alan Wilder, Joseph Victor, Sarana VerLin, Steve Swanson, Morris Lee Sullivan, Tom Stewart, Joe Sacksteder, Grace Anne Rowan, Ray Daniel Rogers, Steven Proehl, Mark Nunez, Kathi J. Moore, Curtis Matzke, Michael Marx, McKenna Martin, Alisa Martin, Runako Marshall, Lawrence W. Leach, Diane M. Leach, Candace M. Laferle, Doug Kolbicz, Dave Kilgore, David Gibson, Penny Gibbs, Lisa Gaulzetti, William C. Fox, Ryan Falcheck, Shawntay Dalon, Courtney Benjamin, Reuben Yabuku, Matthew Elijah Webb, Guy Van Swearingen, Aileen Uytuico, Rick Uecker, Casey Tutton, Danielle Teasley-Bailey, Emily Sutton-Smith, Alan Stefan, Scott Stangland, Jacquelyn Ritz, Ashley L. Richardson, Jimmy Rhoades, Asanté Ramone, Jacqueline Pruder, Cheyenne Pinson, Yasen Peyankov, Dennis North, Gordon Michaels, Erick Michael, Mary Mac, Alondra Lozano, Ellington King, Sam Logan Khaleghi, Duncan Hursley, John Hoogenakker, Gus Hoffman, John Hickman, Maestro Harrell, Alecia Hamilton, Danny Goldring, Erin Renee Frankfort, Michael Fitch, Jaishon Fisher, Ithamar Enriquez, Zac Douglass, Gregory Dockery, Angela Dawe, Ron Coden, Jesse Christian, Lesley Bevan, Tajh Bellow, Geoffrey Beauchamp, Loren Bass, Ele Bardha, Harron Atkins, Aunjanue Ellis, Kimberly Elise, Cuba Gooding Jr., DIRECTOR -> Thomas Carter)</td></tr><tr><td>tm145243</td><td>Wake Up Sid</td><td>2009</td><td>138</td><td>tt1324059</td><td>7.6</td><td>30818</td><td>['comedy', 'drama', 'romance']</td><td>IN</td><td>null</td><td>Map(ACTOR -> Kainaz Motivala, Shruti Bapna, Kashmira Shah, Shikha Talsania, Namit Das, Supriya Pathak, Anupam Kher, Rahul Khanna, Konkona Sen Sharma, Ranbir Kapoor, DIRECTOR -> Ayan Mukerji)</td></tr><tr><td>tm147082</td><td>What Happened, Miss Simone?</td><td>2015</td><td>101</td><td>tt5108670</td><td>7.6</td><td>13703</td><td>['music', 'documentation']</td><td>US</td><td>null</td><td>Map(ACTOR -> Ilyasah Shabazz, Elisabeth Henry-Macari, Stanley Crouch, Dick Gregory, Lisa Simone, Nina Simone, DIRECTOR -> Liz Garbus)</td></tr><tr><td>tm154187</td><td>Sherlock Holmes</td><td>2009</td><td>129</td><td>tt0988045</td><td>7.6</td><td>620154</td><td>['crime', 'action', 'thriller']</td><td>GB</td><td>PG-13</td><td>Map(ACTOR -> Rocco Ritchie, Peter Miles, Guy Williams, Timothy O'Hara, Michael Jenn, Chris Sunley, Ben Cartwright, David Emmings, James Greene, Amanda Grace Johnson, Martin Ewens, Ned Dennehy, Andrew Greenough, Marn Davies, Miles Jupp, Jefferson Hall, Joe Egan, Ed Tolputt, Bronagh Gallagher, Terence Taplin, James A. Stephens, Jonathan Gabriel Robbins, Sebastian Abineri, John Kearney, Tom Watt, Andrew Brooke, Ky Discala, David Garrick, Oran Gurel, Clive Russell, William Hope, James Fox, Hans Matheson, William Houston, Kelly Reilly, Geraldine James, Robert Maillet, Eddie Marsan, Mark Strong, Rachel McAdams, Jude Law, Robert Downey Jr., DIRECTOR -> Guy Ritchie)</td></tr><tr><td>tm155291</td><td>Highway</td><td>2014</td><td>133</td><td>tt2980794</td><td>7.6</td><td>28370</td><td>['drama', 'crime', 'romance']</td><td>IN</td><td>PG-13</td><td>Map(ACTOR -> Hemant Mahaur, Mohit Choudhary, Shakeel Khan, Saharsh Kumar Shukla, Pradeep Nagar, Durgesh Kumar, Alia Bhatt, Randeep Hooda, DIRECTOR -> Imtiaz Ali)</td></tr><tr><td>tm177258</td><td>Delhi Belly</td><td>2011</td><td>102</td><td>tt1934231</td><td>7.6</td><td>29578</td><td>['comedy', 'action', 'crime', 'thriller']</td><td>IN</td><td>null</td><td>Map(ACTOR -> Aamir Khan, Anusha Dhandekar, Kim Bodnia, Rajendra Sethi, Rahul Singh, Paresh Ganatra, Vijay Raaz, Raju Kher, Poorna Jagannathan, Shenaz Treasury, Vir Das, Kunaal Roy Kapur, Imran Khan, DIRECTOR -> Abhinay Deo)</td></tr><tr><td>tm184502</td><td>Kabhi Haan Kabhi Naa</td><td>1994</td><td>158</td><td>tt0110222</td><td>7.6</td><td>18224</td><td>['comedy', 'drama', 'music', 'romance']</td><td>IN</td><td>G</td><td>Map(ACTOR -> Juhi Chawla, Aanjjan Srivastav, Veerendra Saxena, Goga Kapoor, Kurush Deboo, Aditya Lakhia, Sadiya Siddiqui, Anita Kanwal, Shashi Sahay, Ravi Baswani, Rita Bhaduri, Ajit Vachani, Tiku Talsania, Naseeruddin Shah, Satish Shah, Deepak Tijori, Suchitra Krishnamoorthi, Shah Rukh Khan, DIRECTOR -> Kundan Shah)</td></tr><tr><td>tm20712</td><td>Eddie Murphy Raw</td><td>1987</td><td>93</td><td>tt0092948</td><td>7.6</td><td>19646</td><td>['comedy', 'documentation']</td><td>US</td><td>R</td><td>Map(ACTOR -> Geri Gibson, Michelle Davison, Jody Jones, Leonard Jackson, Clebert Ford, Birdie M. Hale, Eyde Byrde, Tiger Haynes, James Brown III, J. D. Hall, Barbara Harris, Deon Richmond, Samuel L. Jackson, Billie Allen, Tatyana Ali, Eddie Murphy, DIRECTOR -> Robert Townsend)</td></tr><tr><td>tm243100</td><td>Hell or High Water</td><td>2016</td><td>102</td><td>tt2582782</td><td>7.6</td><td>224900</td><td>['western', 'thriller', 'action', 'crime', 'drama']</td><td>US</td><td>R</td><td>Map(ACTOR -> Danny Winn, J. Nathan Simmons, Terry Dale Parks, Martin Palmer, Lora Martinez-Cunningham, Ricky Lee, Crystal Gonzales, Richard Beal, Christopher W. Garcia, Heidi Sulzman, Dick Christie, Nicole Brady, Dylan Kenin, Kevin Wiggins, John-Paul Howard, Ivan Brutsche, Margaret Bowman, Alma Sisneros, Kim Gleason, Melanie Papalia, Gregory Cruz, Jim Burleson, Marie A. Kohl, Ariel Holmes, Nathaniel Augustson, Paul Howard Smith, Debrianna Mansini, Howard Ferguson Jr., Taylor Sheridan, Joe Berryman, Jackamoe Buzzell, Amber Midthunder, Keith Meriweather, Buck Taylor, Katy Mixon, Kristen Berg, William Sterchi, Dale Dickey, Kevin Rankin, Marin Ireland, Gil Birmingham, Ben Foster, Chris Pine, Jeff Bridges, DIRECTOR -> David Mackenzie)</td></tr><tr><td>tm320255</td><td>Bad Genius</td><td>2017</td><td>130</td><td>tt6788942</td><td>7.6</td><td>20430</td><td>['thriller', 'comedy', 'crime', 'drama']</td><td>TH</td><td>PG-13</td><td>Map(ACTOR -> Suquan Bulakul, Sahajak Boonthanakit, Sarinrat Thomas, Ego Mikitas, Pasin Kuansataporn, Thaneth Warakulnukroh, Chanon Santinatornkul, Teeradon Supapunpinyo, Eisaya Hosuwan, Chutimon Chuengcharoensukying, DIRECTOR -> Nattawut Poonpiriya)</td></tr><tr><td>tm326704</td><td>Parmanu: The Story of Pokhran</td><td>2018</td><td>129</td><td>tt6826438</td><td>7.6</td><td>23771</td><td>['drama', 'history', 'action']</td><td>IN</td><td>null</td><td>Map(ACTOR -> Anuja Sathe, Vikas Kumar, Yogendra Tiku, Mark Bennington, Zachary Coffin, Boman Irani, Diana Penty, John Abraham, DIRECTOR -> Abhishek Sharma)</td></tr><tr><td>tm363488</td><td>RBG</td><td>2018</td><td>98</td><td>tt7689964</td><td>7.6</td><td>14037</td><td>['documentation']</td><td>US</td><td>PG</td><td>Map(ACTOR -> Joseph McCarthy, Samuel Alito, John G. Roberts Jr., Harry A. Blackmun, Stephen Breyer, John Paul Stevens, Clarence Thomas, David H. Souter, Sandra Day O'Connor, Jimmy Carter, Anthony M. Kennedy, George W. Bush, Barack Obama, Donald Trump, Joe Biden, Stephen Wiesenfeld, Lilly Ledbetter, Orrin Hatch, Sharron Frontiero, Bill Clinton, Gloria Steinem, Clara Spera, Nina Totenberg, James Steven Ginsburg, Jane C. Ginsburg, Ruth Bader Ginsburg, DIRECTOR -> Betsy West, Julie Cohen)</td></tr><tr><td>tm370144</td><td>The Mitchells vs. the Machines</td><td>2021</td><td>113</td><td>tt7979580</td><td>7.6</td><td>100787</td><td>['animation', 'comedy', 'family', 'scifi']</td><td>US</td><td>PG</td><td>Map(ACTOR -> Lisa Wilhoit, Juan Pacheco, Jim Pirri, Justin Shenkarow, Michelle Ruff, Ashley Peldon, Illya Owens, Lex Lang, Griffin McElroy, Doug the Pug, Madeleine McGraw, Alison Rich, Will Allegra, Grey DeLisle, Zeno Robinson, Jeff Rowe, Natalie Canizares, Jay Pharoah, Alex Hirsch, Elle Mills, Sasheer Zamata, Ellen Wightman, Doug Nicholas, Melissa Sturm, Conan O'Brien, Blake Griffin, Charlyne Yi, John Legend, Chrissy Teigen, Beck Bennett, Fred Armisen, Eric André, Michael Rianda, Olivia Colman, Maya Rudolph, Danny McBride, Abbi Jacobson, DIRECTOR -> Michael Rianda)</td></tr><tr><td>tm422715</td><td>Stree</td><td>2018</td><td>128</td><td>tt8108202</td><td>7.6</td><td>32814</td><td>['horror', 'comedy']</td><td>IN</td><td>null</td><td>Map(ACTOR -> Yury Nikolaenko, Aleksey Matoshin, Anna Zaytseva, DIRECTOR -> Anna Zaytseva)</td></tr><tr><td>tm435520</td><td>The Two Popes</td><td>2019</td><td>125</td><td>tt8404614</td><td>7.6</td><td>120871</td><td>['drama', 'comedy', 'history']</td><td>US</td><td>PG-13</td><td>Map(ACTOR -> Pope Francis, Pope Benedict XVI, Miguel Ángel Tarditti, Marcela Serli, Matthew T. Reynolds, Katherine Wilson, Alessandro Piavani, Lorenzo Vigevano, Simon Hempe, Joaquin Rotzait, Alan Nicolás Gómez, Lucas Posse, Pablo Trimarchi, Ramiro Vayo, Juan Manuel Correa, Leon Barra, Ricardo Larrama, Rafael Fernandez, Federico Falasco, Facundo Cardosi, Luciano Borges, Daniel Hernandez, Sergio Nicolai, Bonilla Del Valle, Adalid Paredes Blanco, Olivia Sandy Torres, Cristobal Mamani, Thomas D. Williams, Roberto Olivieri, Natalia Constanza Salmoral, Walter Fabian Andrade, Francesco di Teodoro, Luciano Kaczer, Abril Chiara Castelli, Hernan Acentares, Maria Florencia Larrea Arias, Cecilia Dazzi, Sergio Santana, Nicola Acunzo, Guido Nicolas Losantos, Andres Carlos Zurita, Luis Alfredo Huerga Reyna, Josello Bella, Daniel Juan di Cocco, Juan Miguel Arias, Martina Sammarco, Vincent Riotta, Sofia Mayra Cessak, Willie Jonah, Libero De Rienzo, Lisandro Fiks, Germán de Silva, Federico Torre, Achille Brugnini, Sidney Cole, Renato Scarpa, María Ucedo, Cristina Banegas, Luis Gnecco, Juan Minujín, Jonathan Pryce, Anthony Hopkins, DIRECTOR -> Fernando Meirelles)</td></tr><tr><td>tm449195</td><td>The Boy Who Harnessed the Wind</td><td>2019</td><td>113</td><td>tt7533152</td><td>7.6</td><td>36805</td><td>['drama', 'history']</td><td>MW</td><td>null</td><td>Map(ACTOR -> Grace Msiska, Rodgers Wagawa, Edward Khomamphero, Gospel Thawale, Owen Chikanken, Ian Chisekula, Beatus Ble Msamange, Fiskan Makawa, Kelvin Maxwell Ngoma, Rophium Banda, Raymond Ofula, Felix Lemburgo, Robert Agengo, Noma Dumezweni, Philbert Falakeza, Lemogang Tsipa, Joseph Marcell, Lily Banda, Aïssa Maïga, Chiwetel Ejiofor, Maxwell Simba, DIRECTOR -> Chiwetel Ejiofor)</td></tr><tr><td>tm49865</td><td>Aamir</td><td>2008</td><td>99</td><td>tt1241195</td><td>7.6</td><td>11241</td><td>['thriller', 'action', 'crime', 'drama']</td><td>IN</td><td>NC-17</td><td>Map(ACTOR -> Aishwarya Bhaskar, Rohitash Gaud, Gajraj Rao, Vasan Bala, Amar Kaushik, Rajeev Khandelwal, DIRECTOR -> Raj Kumar Gupta)</td></tr><tr><td>tm55303</td><td>I Am Sam</td><td>2001</td><td>132</td><td>tt0277027</td><td>7.6</td><td>149082</td><td>['drama']</td><td>US</td><td>PG-13</td><td>Map(ACTOR -> Molly Gordon, Russ Fega, Elle Fanning, R. D. Call, David Poynter, Dennis Fanning, Steven Maines, Katie McGloin, Janet Adderley, Kathleen Robertson, David Nathan Schwartz, Brent Spiner, Pamela Dunlap, Emiko Parise, Rafer Weigel, Chase MacKenzie Bebak, Kimberly Scott, Kit McDonough, Scott Paulin, Mason Lucero, Wendy Phillips, Ken Jenkins, Rosalind Chao, Michael B. Silver, Eileen Ryan, Mary Steenburgen, Bobby Cooper, Doug Hutchison, Stanley DeSantis, Joseph Rosenberg, Brad Silverman, Laura Dern, Marin Hinkle, Loretta Devine, Richard Schiff, Dakota Fanning, Dianne Wiest, Michelle Pfeiffer, Sean Penn, DIRECTOR -> Jessie Nelson)</td></tr><tr><td>tm67635</td><td>Kuch Kuch Hota Hai</td><td>1998</td><td>185</td><td>tt0172684</td><td>7.6</td><td>51640</td><td>['drama', 'romance', 'comedy']</td><td>IN</td><td>G</td><td>Map(ACTOR -> Nikkhil Advani, Manish Malhotra, Farah Khan, Geeta Kapoor, Neelam Kothari, Parzaan Dastur, Sana Saeed, Reema Lagoo, Anupam Kher, Johnny Lever, Himani Shivpuri, Archana Puran Singh, Farida Jalal, Salman Khan, Rani Mukerji, Kajol, Shah Rukh Khan, DIRECTOR -> Karan Johar)</td></tr><tr><td>tm69778</td><td>Lupin the Third: The Castle of Cagliostro</td><td>1979</td><td>100</td><td>tt0079833</td><td>7.6</td><td>30277</td><td>['comedy', 'animation', 'action', 'fantasy', 'family']</td><td>JP</td><td>PG</td><td>Map(ACTOR -> Makio Inoue, Yoko Yamaoka, Tadamichi Tsuneizumi, Shozo Hirabayashi, Shigeharu Matsuda, Osamu Saka, Minoru Midorikawa, Mikio Terashima, Kōhei Miyauchi, Kinpei Azusa, Junkichi Yarita, Ichirō Nagai, Eken Mine, Akio Nojima, Tarô Ishida, Sumi Shimamoto, Gorō Naya, Kiyoshi Kobayashi, Eiko Masuyama, Yasuo Yamada, DIRECTOR -> Hayao Miyazaki)</td></tr><tr><td>tm828317</td><td>Tell Me Who I Am</td><td>2019</td><td>85</td><td>tt10915286</td><td>7.6</td><td>14215</td><td>['thriller', 'drama', 'documentation']</td><td>GB</td><td>null</td><td>Map(ACTOR -> Evan Milton, Luke Mulhurn, Thomas Mulhurn, Andrew Caley, Marcus Lewis, Alex Lewis, Laura Obiols, DIRECTOR -> Ed Perkins)</td></tr><tr><td>tm847085</td><td>The Social Dilemma</td><td>2020</td><td>94</td><td>tt11464826</td><td>7.6</td><td>79674</td><td>['drama', 'documentation']</td><td>US</td><td>PG-13</td><td>Map(ACTOR -> Jaron Lanier, Laura Obiols, Vic Alejandro, Chris Grundy, Barbara Gehring, Catalina Garayoa, Sophia Hammons, Tristan Harris, Vincent Kartheiser, Kara Hayward, Skyler Gisondo, DIRECTOR -> Jeff Orlowski)</td></tr><tr><td>tm847805</td><td>Ludo</td><td>2020</td><td>150</td><td>tt7212754</td><td>7.6</td><td>37528</td><td>['crime', 'action', 'comedy', 'drama']</td><td>IN</td><td>PG-13</td><td>Map(ACTOR -> Anurag Basu, Amitabh Bachchan, Ishtiyak Khan, Shalini Vatsa, Bhanu Uday, Asha Negi, Inayat Verma, Pearle Maaney, Rohit Saraf, Sanya Malhotra, Fatima Sana Shaikh, Pankaj Tripathi, Rajkummar Rao, Aditya Roy Kapur, Abhishek Bachchan, DIRECTOR -> Anurag Basu)</td></tr><tr><td>tm84906</td><td>Stardust</td><td>2007</td><td>122</td><td>tt0486655</td><td>7.6</td><td>269043</td><td>['fantasy', 'romance', 'family']</td><td>US</td><td>PG-13</td><td>Map(ACTOR -> Spencer Wilding, Jordan Long, Adam Fogerty, Elwin 'Chopper' David, Carlos Besse Peres, Rab Affleck, Mark Burns, Geoff Bell, Terry Murphy, Eliot Sumner, Olivia Grant, Grant Burgin, Jake Curran, George Innes, Julian Rhind-Tutt, Struan Rodger, Frank Ellis, Darby Hawker, Ben Barnes, Alastair MacIntosh, Bimbo Hart, Adam Buxton, Mark Williams, Mark Heap, David Walliams, Henry Cavill, Dexter Fletcher, Nathaniel Parker, David Kelly, Kate Magowan, Joanna Scanlan, Melanie Hill, Sarah Alexander, Rupert Everett, Peter O'Toole, Ian McKellen, Mark Strong, Jason Flemyng, Ricky Gervais, Sienna Miller, Robert De Niro, Michelle Pfeiffer, Charlie Cox, Claire Danes, DIRECTOR -> Matthew Vaughn)</td></tr><tr><td>tm881162</td><td>Athlete A</td><td>2020</td><td>104</td><td>tt11905462</td><td>7.6</td><td>10544</td><td>['documentation', 'crime', 'sport']</td><td>US</td><td>PG-13</td><td>Map(ACTOR -> Jen Sey, Tracee Talavera, Géza Poszar, Rachael Denhollander, Mark Alesia, Jamie Dantzscher, Maggie Nichols, DIRECTOR -> Jon Shenk, Bonni Cohen)</td></tr><tr><td>tm90190</td><td>True Grit</td><td>2010</td><td>110</td><td>tt1403865</td><td>7.6</td><td>333378</td><td>['western', 'drama']</td><td>US</td><td>PG-13</td><td>Map(ACTOR -> Ruben Nakai Campana, Brandon Sanderson, Maggie A. Goodman, Jonathan Joss, Scott Sowers, Ty Mitchell, Orlando Smart, David Lipman, Joe Stevens, Peter Leung, Candyce Hinkle, J.K. Simmons, Jarlath Conroy, James Brolin, Don Pirl, Jake Walker, Leon Russom, Ruth Morris, Elizabeth Marvel, Ed Corbin, Dakin Matthews, Nicholas Sadler, Paul Rae, Bruce Green, Domhnall Gleeson, Barry Pepper, Josh Brolin, Matt Damon, Jeff Bridges, Hailee Steinfeld, DIRECTOR -> Joel Coen, Ethan Coen)</td></tr><tr><td>tm998033</td><td>Doctor</td><td>2021</td><td>150</td><td>tt11374902</td><td>7.6</td><td>14590</td><td>['thriller', 'comedy', 'crime', 'action']</td><td>IN</td><td>null</td><td>Map(ACTOR -> Bjorn Surrao, Sreeja Ravi, Zaara Vineeth, Raghu Ram, Rajiv Laxman, Shiva Aravind, Sunil Reddy, Redin Kingsley, Deepa Shankar, Arun Alexander, Milind Soman, Ilavarasu, Archana Chandhoke, Yogi Babu, Priyanka Arul Mohan, Vinay Rai, Sivakarthikeyan, DIRECTOR -> Nelson Dilipkumar)</td></tr><tr><td>tm103095</td><td>Ip Man 2</td><td>2010</td><td>108</td><td>tt1386932</td><td>7.5</td><td>103673</td><td>['drama', 'history', 'sport', 'action']</td><td>CN</td><td>R</td><td>Map(ACTOR -> Charles Mayer, Mei-Fang Lu, Stefan Morawietz, Tian Rui, Tomer Oz, Hark-On Fung, Ashton Chen, Christian Kang Bachini, Xiaoming Huang, Lo Meng, Siu-Wong Fan, Dennis To Yue-Hong, Darren Shahlavi, Kent Cheng, Lynn Hung, Simon Yam, Sammo Hung, Donnie Yen, DIRECTOR -> Wilson Yip)</td></tr><tr><td>tm1031976</td><td>Dhamaka</td><td>2021</td><td>104</td><td>tt13510660</td><td>7.5</td><td>39620</td><td>['thriller', 'crime', 'drama', 'action']</td><td>IN</td><td>null</td><td>Map(ACTOR -> Aeklavya Tomer, Priya Tandon, Anuj Gurwara, Vishwajeet Pradhan, Vikas Kumar, Soham Majumdar, Mrunal Thakur, Amruta Subhash, Kartik Aaryan, DIRECTOR -> Ram Madhvani)</td></tr><tr><td>tm117873</td><td>Hum Aapke Hain Koun..!</td><td>1994</td><td>206</td><td>tt0110076</td><td>7.5</td><td>20986</td><td>['romance', 'comedy', 'drama']</td><td>IN</td><td>null</td><td>Map(ACTOR -> Dinesh Hingoo, Dilip Joshi, Ajit Vachani, Himani Shivpuri, Bindu, Satish Shah, Alok Nath, Priya Arun, Laxmikant Berde, Reema Lagoo, Anupam Kher, Renuka Shahane, Mohnish Behl, Madhuri Dixit, Salman Khan, DIRECTOR -> Sooraj Barjatya)</td></tr><tr><td>tm143642</td><td>Who Am I</td><td>2014</td><td>105</td><td>tt4426376</td><td>7.5</td><td>55044</td><td>['thriller', 'european', 'drama', 'scifi', 'crime']</td><td>DE</td><td>null</td><td>Map(ACTOR -> Harald Geil, Stephanie Puls, Marc Bator, Barbara Hahlweg, Katja Wagner, Björn Susen, Max Hopp, Alexander Hauff, Nils Borghardt, Matthias Neukirch, Rosa Schrehardt, Alica Hubiak, Mike Davies, David Masterson, Lena Dörrie, Agnes Thi-Mai, Antonia Putiloff, Leonard Carow, Marten Borgwardt, Katharina Matz, Leopold Hornung, Stephan Kampwirth, Trine Dyrholm, Hannah Herzsprung, Antoine Monot Jr., Wotan Wilke Möhring, Elyas M'Barek, Tom Schilling, DIRECTOR -> Baran bo Odar)</td></tr><tr><td>tm157461</td><td>Coming Soon</td><td>2014</td><td>134</td><td>tt3698408</td><td>7.5</td><td>33714</td><td>['drama', 'comedy', 'romance']</td><td>TR</td><td>PG</td><td>Map(ACTOR -> Muhittin Korkmaz, Tansu Biçer, Nurgül Yeşilçay, Bahtiyar Engin, Mazhar Alanson, Yılmaz Erdoğan, Sunay Akın, Sarp Akkaya, Orçun Iynemli, Ata Berk Mutlu, Metin Coşkun, Emin Gürsoy, Can Yılmaz, Tuğrul Tülek, Ülkü Duru, Ayşen Gruda, Zerrin Tekindor, Cengiz Bozkurt, Hare Sürel, Çağlar Çorumlu, Zafer Algöz, Özkan Uğur, Ozan Güven, Tülin Özen, Cem Yılmaz, DIRECTOR -> Cem Yılmaz)</td></tr><tr><td>tm160621</td><td>The Conjuring</td><td>2013</td><td>107</td><td>tt1457767</td><td>7.5</td><td>491048</td><td>['thriller', 'horror']</td><td>US</td><td>R</td><td>Map(ACTOR -> Tony Spera, Arnell Powell, Lorraine Warren, Nate Seman, Desi Domo, George T. Zervos, Sean Flynn, Kymoura Kennedy, Ashley White, Steve Coulter, Carmella Gioio, Christof Veillon, James D. Nelson, Rose Bachtel, Zach Pappas, Amy Tipton, Morganna Bridgers, Marion Guyot, Joseph Bishara, John Brotherton, Shannon Kook, Shanley Caswell, Kyla Deaver, Sterling Jerins, Hayley McFarland, Joey King, Mackenzie Foy, Ron Livingston, Lili Taylor, Patrick Wilson, Vera Farmiga, DIRECTOR -> James Wan)</td></tr><tr><td>tm16479</td><td>White Christmas</td><td>1954</td><td>115</td><td>tt0047673</td><td>7.5</td><td>42373</td><td>['romance', 'comedy', 'music']</td><td>US</td><td>null</td><td>Map(ACTOR -> Robert Crosson, Herb Vigran, Grady Sutton, Sig Ruman, I. Stanford Jolley, Percy Helton, Johnny Grant, Gavin Gordon, Bess Flowers, Franklyn Farnum, Lorinne Crawford, Barrie Chase, George Chakiris, Glen Cargyle, Frank Baker, Bea Allen, Anne Whitfield, John Brascia, Mary Wickes, Dean Jagger, Vera-Ellen, Rosemary Clooney, Danny Kaye, Bing Crosby, DIRECTOR -> Michael Curtiz)</td></tr><tr><td>tm169719</td><td>42</td><td>2013</td><td>128</td><td>tt0453562</td><td>7.5</td><td>93314</td><td>['drama', 'sport']</td><td>US</td><td>PG-13</td><td>Map(ACTOR -> Hunter Clowdus, Richard Tavernaro, David Thoms, Todd Wilson, Gary Miller, Dennis A. Spears, Andrew C. Mullins, Wayne Hickey, Steve Hicks, Jimmie L. Coleman, Andrew B. Roberts, Barry Suttle, Dwight Houser, Ercell A. Grimes Jr., Tobias Michael Finn, Jud Tylor, Kelley Jakle, Christopher Harvey, Jeremy Ray Taylor, Jayson Warner Smith, Dax Griffin, Janet Metzger, Michael H. Cole, Peter Jurasik, Denise Moyé, William Flaman, Ari Blinder, Danny Vinson, Jackson Walker, Marc Gowan, Jon Kohler, Dan Mengini, Holden Hansen, Henry Friedman, Maury Covington, Daniel Fenlon, Rhoda Griffis, David Sweeney, Kenny Cook, Mark Harelik, Joe Knezevich, Ross Hughes, Lou Criscuolo, Anthony S. Goolsby, Aaron Farb, James Rackley, Scott Callaway, C.J. Nitkowski, Karole Foreman, Monnae Michaell, Joe Inscoe, Peter MacKenzie, Matt Clark, Thomas Helgeland, Linc Hand, Friedel Pinkston, Cherise Boothe, Dusan Brown, Clint O'Brien, Johnny Knight, Blake Sanders, Jamie Ruehling, Derek Phillips, Jamey Holliday, Jesse Luken, Brett Cullen, Gino Anthony Pesi, James Pickens Jr., Brad Beyer, Max Gail, Toby Huss, John C. McGinley, T.R. Knight, Hamish Linklater, Alan Tudyk, André Holland, Lucas Black, Ryan Merriman, Christopher Meloni, Nicole Beharie, Harrison Ford, Chadwick Boseman, DIRECTOR -> Brian Helgeland)</td></tr><tr><td>tm182275</td><td>Omar</td><td>2013</td><td>96</td><td>tt2852406</td><td>7.5</td><td>14230</td><td>['thriller', 'war', 'crime', 'drama', 'romance']</td><td>PS</td><td>null</td><td>Map(ACTOR -> Doraid Liddawi, Eyad Hourani, Samer Bisharat, Leem Lubany, Waleed Zuaiter, Adam Bakri, DIRECTOR -> Hany Abu-Assad)</td></tr><tr><td>tm189764</td><td>Menace II Society</td><td>1993</td><td>97</td><td>tt0107554</td><td>7.5</td><td>57399</td><td>['drama', 'crime', 'thriller']</td><td>US</td><td>R</td><td>Map(ACTOR -> Anthony Johnson, Yolanda Whittaker, Daniel Villarreal, Samuel Monroe Jr., Tony Valentino, Clifton Collins Jr., Rolando Molina, Charles J. Grube, Charles S. Dutton, Erin Wiley Sands, Martin Davis, Robert Gonzales, Bill Duke, Alvin Mears, Ian Davids, Dwayne L. Barnes, Stacy Arnell, Christopher M. Brown, Too $hort, Clifton Powell, Joy Matthews, Garen Holman, Cynthia Calhoun, Ryan Williams, Vonte Sweet, MC Eiht, Pooh Man, Saafir, Arnold Johnson, Marilyn Coleman, Nancy Cheryll Davis, James Pickens Jr., Eugene Lee, Brandon Hammond, Jullian Roy Doster, Khandi Alexander, Reginald Ballard, Toshi Toda, June Kyoto Lu, Samuel L. Jackson, Jada Pinkett Smith, Glenn Plummer, Larenz Tate, Tyrin Turner, DIRECTOR -> Allen Hughes, Albert Hughes)</td></tr><tr><td>tm191848</td><td>The Devil's Advocate</td><td>1997</td><td>144</td><td>tt0118971</td><td>7.5</td><td>361422</td><td>['horror', 'thriller', 'drama']</td><td>DE</td><td>null</td><td>Map(ACTOR -> Delroy Lindo, Paul Benedict, Gloria Lynne Henry, Monica Keena, Franci Leary, Benny Nieves, Vincent Laresca, Novella Nelson, Gino Lucci, Fenja Klaus, Nicki Cochrane, Mohammed Ghaffari, Harsh Nayyar, James Saito, Susan Kellermann, Rocco Musacchia, Ray Garvey, Don King, Caprice Benedetti, Kim Chan, Daniel Oreskes, Brian Poteat, Alan Manson, George O. Gore II, Rony Clanton, Mark Deakins, Eddie Aldridge, Neal Jones, Bill Moor, Leo Burmester, Murphy Guyer, Heather Matarazzo, Jonathan Cavallary, Connie Embesi, Chris Bauer, George Wyner, Pamela Gray, Laura Harrington, Vyto Ruginis, Debra Monk, Ruben Santiago-Hudson, Tamara Tunie, Craig T. Nelson, Connie Nielsen, Judith Ivey, Jeffrey Jones, Charlize Theron, Al Pacino, Keanu Reeves, DIRECTOR -> Taylor Hackford)</td></tr><tr><td>tm196296</td><td>A Monster Calls</td><td>2016</td><td>108</td><td>tt3416532</td><td>7.5</td><td>86614</td><td>['fantasy', 'drama', 'thriller', 'animation', 'family', 'european']</td><td>ES</td><td>PG-13</td><td>Map(ACTOR -> Tessa Wood, Witney White, John Leader, Jonathan Holby, Georgia Frost, Matt Costain, Selina Cadell, Nandi Bhebhe, Hammed Animashaun, Felix Hayes, Stuart Goodwin, Marianne Oldham, Matthew Tennyson, DIRECTOR -> Sally Cookson)</td></tr><tr><td>tm239727</td><td>Nocturnal Animals</td><td>2016</td><td>115</td><td>tt4551306</td><td>7.5</td><td>264884</td><td>['drama', 'thriller']</td><td>US</td><td>R</td><td>Map(ACTOR -> Maria Zyrianova, Jackie Zane, Jack Wallace, Chelsea Taylor, Brian Stivale, Errol Sack, Tonia Marie Rosée, Christopher Pinkalla, Carson Nicely, Kerstin Lechner, Nick Hounslow, Alizee Gaillard, Jonathan Fredrick, Joshua D. Eads, Amanda Fields, Brianna Barnes, Moose Ali Khan, Piper Major, Peggy Fields Richardson, Lori Jean Wilson, Michele Dunn, Janet Song, Evan Bittencourt, Sydney Schafer, Kristin Bauer van Straten, Lee Benton, Jena Malone, Neil Jackson, Graham Beckel, Beth Ditto, Evie Pree, Zawe Ashton, Franco Vega, Imogen Waterhouse, Bobbi Salvör Menuez, Michael Sheen, Andrea Riseborough, Laura Linney, Robert Aramayo, Karl Glusman, Armie Hammer, Ellie Bamber, Isla Fisher, Aaron Taylor-Johnson, Michael Shannon, Jake Gyllenhaal, Amy Adams, DIRECTOR -> Tom Ford)</td></tr><tr><td>tm244507</td><td>The Distinguished Citizen</td><td>2016</td><td>118</td><td>tt4562518</td><td>7.5</td><td>11495</td><td>['comedy', 'drama', 'european']</td><td>AR</td><td>null</td><td>Map(ACTOR -> Francisco Cortes, Patricia March, Juan Travnik, Franco Peralta, Ariel Fiorenza, Pilar Dutari, Pedro Roth, Leonardo Murija, Alexis López Costa, Daniel Kargieman, Nicolás de Tracy, Emma Rivera, Julián Larquier Tellarini, Gustavo Garzón, Marcelo D'Andrea, Iván Steinhardt, Manuel Vicente, Nora Navas, Belén Chavanne, Andrea Frigerio, Dady Brieva, Oscar Martínez, DIRECTOR -> Gastón Duprat, Mariano Cohn)</td></tr><tr><td>tm29269</td><td>Jodhaa Akbar</td><td>2008</td><td>213</td><td>tt0449994</td><td>7.5</td><td>32188</td><td>['romance', 'history', 'war', 'action', 'drama']</td><td>IN</td><td>PG-13</td><td>Map(ACTOR -> Rucha Vaidya, Manava Naik, Surendra Pal, Yuri Suri, Digvijay Purohit, Poonam Sinha, Nikitin Dheer, Disha Vakani, Amitabh Bachchan, Surendra Pal, Ila Arun, Pramod Moutho, Rajesh Vivek, Raza Murad, Suhasini Mulay, Kulbhushan Kharbanda, Sonu Sood, Aishwarya Rai Bachchan, Hrithik Roshan, DIRECTOR -> Ashutosh Gowariker)</td></tr><tr><td>tm298084</td><td>On Body and Soul</td><td>2017</td><td>116</td><td>tt5607714</td><td>7.5</td><td>27003</td><td>['fantasy', 'drama', 'romance']</td><td>HU</td><td>null</td><td>Map(ACTOR -> Júlia Nyakó, Nóra Rainer-Micsinyei, Zsuzsa Járó, Pál Mácsai, Éva Bata, Itala Békés, Tamás Jordán, Zoltán Schneider, Ervin Nagy, Réka Tenki, Morcsányi Géza, Alexandra Borbély, DIRECTOR -> Ildikó Enyedi)</td></tr><tr><td>tm327708</td><td>Bareilly Ki Barfi</td><td>2017</td><td>123</td><td>tt6967980</td><td>7.5</td><td>23011</td><td>['romance', 'comedy']</td><td>IN</td><td>null</td><td>Map(ACTOR -> Sapna Sand, Naila Grewal, Javed Akhtar, Semwal Swati, Rohit Choudhary, Seema Pahwa, Pankaj Tripathi, Rajkummar Rao, Kriti Sanon, Ayushmann Khurrana, DIRECTOR -> Ashwiny Iyer Tiwari)</td></tr><tr><td>tm32982</td><td>Les Misérables</td><td>2012</td><td>157</td><td>tt1707386</td><td>7.5</td><td>325132</td><td>['drama', 'romance', 'history', 'war']</td><td>GB</td><td>PG-13</td><td>Map(ACTOR -> Ian Waller, Aaron Sillis, Claire Piquemal, Clinten Pearce, Gemma Payne, Ian Parsons, Vanessa Lee Hicks, Steve Kirkham, Nicholas Keegan, Lynn Jezzard, Nigel Garton, Edward Lewis French, Vicky Evans, Jennifer Essex, Josephine Darvill-Mills, Annette Yeo, Mischa Purnell, Brenda Moore, Claire Machin, Ella Hunt, Sophie Huchinson, Samuel J. Weir, Jos Slovick, Matt Seadon Young, Jonny Purchase, Stevee Davies, David Roberts, Joseph Peters, Jamie Muscato, Chris Milford, Rhidian Marc, Jonathan Dudley, Andy Coxon, Matthew Corner, Dominic Applewhite, Julie Stark, Joyce Springer, Phil Philmar, Perry Millward, Georgina Jackson, Matt Harrop, Spike Grimsey, Valerie Cutko, Sean Buckley, Juliet Alderice, Simon Shorten, Adam Searles, Jeff Nicholson, Sally Mates, Martin Marquez, Terence Keely, Alison Jiear, Chris Howell, Nick Holder, James Greene, Kelly-Anne Gower, Sarah Flind, Simon Fisher-Becker, Kerry Ellis, Richard Colson, Michael Cahill, Tony Bignell, Gerard Bentall, Tabitha Webb, Rebecca Sutherland, Nancy Sullivan, Rachel Stanley, Robyn Miranda Simpson, Olivia Rose-Aaron, Amy Ellen Richardson, Gemma O'Duffy, Luisa Lazzaro, Alexia Khadime, Amanda Henderson, Fania Grigoriou, Amy Griffiths, Holly Dale Spencer, Sonya Cullingford, Mary Cormack, Antonia Clarke, Lorna Brown, Rachael Archer, Caroline Sheen, Amelia Scaramucci, Mary Roscoe, Sara Pelosi, Jackie Marks, Charlotte Hope, Mandy Holliday, Tricia Deighton, Helen Cotterill, Bessie Carter, Phil Zimmerman, Sebastian Sykes, Peter Saracen, Stephen Matthews, Emma Dukes, Eleanor Bruce, Alexander Brooks, Richard Bremmer, Freya Parks, Mike Sarne, John Warnaby, Kerry Ingram, Jessica Duncan, Andrea Deck, Lisa Hull, Katie Hall, Gina Beck, Gemma Wardle, Linzi Hateley, Hadley Fraser, Katy Secombe, Iwan Lewis, Alistair Brammer, Stuart Neal, Hugh Skinner, George Blagden, Gabriel Vick, Fra Fee, Killian Donnelly, Richard Cordery, Chris Barnes, Amelia Jefford, Jacqueline Dankworth, Joel Phillimore, Joseph West, Alfie Davis, Cameron Strefford, Miles Roughley, Paul Leonard, Mark Roper, Patrick Godfrey, Norma Atallah, Robyn North, Dianne Pilkington, Jack Chissick, Peter Mair, Leighton Rafferty, Lewis Kirk, Mark Donovan, Sam Parks, Lottie Steer, Hadrian Delacey, Phil Snowden, Natalya Wallace, Isabelle Allen, Marc Pickering, Julian Bleach, Adam Pearce, Ian Pirie, Polly Kemp, James Simmons, David Cann, John Surman, Ashley Artus, Keith Dunphy, Julia Worsley, Charlotte Spencer, Lynne Wilmot, Frances Ruffelle, Adrian Scarborough, Jaygann Ayeh, Ross McCormack, David Stoller, Daniel Evans, Nicola Sloane, Dick Ward, Andrew Havill, Tim Downie, Bertie Carvel, John Albasiny, Cathy Breeze, Marilyn Cutts, Alison Tennant, Alice Fearn, Jenna Boyd, Kirsty Hoiles, Clare Foster, Hannah Waddingham, Kate Fleetwood, Michael Jibson, Stephen Tate, Paul Howell, Paul Thornley, Heather Chasen, Georgie Glen, Colm Wilkinson, Stephen Bent, Andy Beckwith, Richard Dixon, Tony Rohr, John Barr, Adam Jones, David Hawley, Josef Altin, Cavin Cornwall, Daniel Huttlestone, Samantha Barks, Aaron Tveit, Eddie Redmayne, Helena Bonham Carter, Sacha Baron Cohen, Amanda Seyfried, Anne Hathaway, Russell Crowe, Hugh Jackman, DIRECTOR -> Tom Hooper)</td></tr><tr><td>tm35463</td><td>Blow</td><td>2001</td><td>124</td><td>tt0221027</td><td>7.5</td><td>255099</td><td>['drama', 'crime']</td><td>US</td><td>R</td><td>Map(ACTOR -> Anna de Cardi, Jo Price, Janine Foster, Nick Cassavetes, Greg Bronson, Twyla Banks, Pamela Walker, Santiago Verdu, Julia Vera, Dale Snowberger, Leslie Schirrmacher, Bert Rosario, Elizabeth Rodriguez, Matt Robinson, Raoul N. Rizik, Michael Ralph, Jack Polick, Tony Perez, Randy Mulkey, Alan James Morgan, Carlos Mendoza, Mauricio Mendoza, Gonzalo Menendez, Jodie Mann, Lydell M. Cheshier, Roberto Lopez, Richard LaGravenese, Skip O'Brien, Ajgie Kirkland, Ralph Kampshoff, Patrick Husted, Brad Hunt, Josh Herman, Brian Goodman, Lazaro Galarraga, Jean-Carlos Felix, Crystal Erickson, The Dawk, Sophie Tsimel, Meriah Nelson, Kathleen Mullan, Genevieve Maylam, Dorothy Lyman, Kristina Jung, Faith Hoover, Elif Guertin, Vanessa Grayson, Tracy Falco, Daniel Escobar, Ted Demme, Kevin Chapman, Brantley Bush, Jimmy Burke, John Harrington Bland, Pamela Abdy, Charles Noland, Jaime King, Jennifer Gimenez, Lola Glaudini, Monet Mazur, Michael Tucci, Miguel Pérez, Bobcat Goldthwait, Dan Ferro, Emma Roberts, Jesse James, Tony Amendola, Kevin Gage, Ray Liotta, Ethan Suplee, Miguel Sandoval, Max Perlich, Cliff Curtis, Jordi Mollà, Paul Reubens, Rachel Griffiths, Franka Potente, Penélope Cruz, Johnny Depp, DIRECTOR -> Ted Demme)</td></tr><tr><td>tm410742</td><td>Happy as Lazzaro</td><td>2018</td><td>125</td><td>tt6752992</td><td>7.5</td><td>17716</td><td>['fantasy', 'drama', 'european']</td><td>IT</td><td>PG-13</td><td>Map(ACTOR -> Antonio Salines, David Bennent, Anita Crucitti, Lucia Centoscudi, Cinzia de Luca, Silvia Lucarini, Sofia Stangherlin, Nicola Sorci, Marco Donno, Marcello Duranti, Giuseppe Corsini, Annibale De Luca, Luciano Vergaro, Elisabetta Rocchetti, Daria Deflorian, Carlo Tarmati, Pasqualina Scuncia, Leonardo Nigro, Davide Denci, Alessandro Genovesi, Annunziata Capretto, Giulia Caccavello, Maddalena Baiocco, Daria Pascal Attolini, Carlo Massimino, Nicoletta Braschi, Natalino Balasso, Tommaso Ragno, Sergi López, Alba Rohrwacher, Luca Chikovani, Agnese Graziani, Adriano Tardiolo, DIRECTOR -> Alice Rohrwacher)</td></tr><tr><td>tm44204</td><td>The Guns of Navarone</td><td>1961</td><td>158</td><td>tt0054953</td><td>7.5</td><td>50150</td><td>['war', 'action', 'drama']</td><td>US</td><td>null</td><td>Map(ACTOR -> William Hoehne Jr., Christopher Rhodes, Nicholas Papakonstantinou, Kleo Skouloudi, Norman Wooland, Albert Lieven, Tutte Lemkow, Walter Gotell, George Mikell, Percy Herbert, Michael Trubshawe, Allan Cuthbertson, Bryan Forbes, Richard Harris, James Robertson Justice, Gia Scala, Irene Papas, James Darren, Anthony Quayle, Stanley Baker, Anthony Quinn, David Niven, Gregory Peck, DIRECTOR -> J. Lee Thompson)</td></tr><tr><td>tm469991</td><td>I Lost My Body</td><td>2019</td><td>81</td><td>tt9806192</td><td>7.5</td><td>31531</td><td>['fantasy', 'drama', 'animation', 'romance', 'european']</td><td>FR</td><td>null</td><td>Map(ACTOR -> Guillaume Desmarchellier, Raymond Hosni, Jocelyn Veluire, Bruno Hausler, Pascal Rocher, Deborah Grall, Céline Ronté, Quentin Baillot, Nicole Favart, Maud Le Guenedal, Bellamine Abdelmalek, Myriam Loucif, Hichem Mesbah, Alfonso Arfi, Patrick d'Assumçao, Victoire Du Bois, Hakim Faris, DIRECTOR -> Jérémy Clapin)</td></tr><tr><td>tm55100</td><td>Dil Se..</td><td>1998</td><td>163</td><td>tt0164538</td><td>7.5</td><td>28409</td><td>['drama', 'romance']</td><td>IN</td><td>PG-13</td><td>Map(ACTOR -> Ishitha, Suhail Nayyar, Avtar Sahani, Rajiv Gupta, Alka, R K Nair, Karan Nath, B Chintu Mohapatra, Sameer Chanda, Vanitha Malik, Hemant Mishra, Raza Murad, Mohan Joshi, Deepak Shirke, Vikram Gokhale, Wasiq Khan, Shaad Ali, Tigmanshu Dhulia, Malaika Arora, Priya Parulekar, Gajraj Rao, Piyush Mishra, Sheeba Chaddha, Manjit Bawa, Krisn Kant, Anupam Shyam, Sanjay Mishra, Aditya Srivastava, Sabyasachi Chakraborty, Janagaraj, Zohra Sehgal, Raghubir Yadav, Arundathi Nag, Mita Vasisht, Preity Zinta, Manisha Koirala, Shah Rukh Khan, DIRECTOR -> Mani Ratnam)</td></tr><tr><td>tm60844</td><td>Berserk: The Golden Age Arc I - The Egg of the King</td><td>2012</td><td>76</td><td>tt2311238</td><td>7.5</td><td>12278</td><td>['fantasy', 'war', 'animation', 'action', 'drama', 'horror']</td><td>JP</td><td>NC-17</td><td>Map(ACTOR -> Kendo Kobayashi, Hochu Otsuka, Hiroshi Arikawa, Rikiya Koyama, Nobuyuki Katsube, Kenta Miyake, Aki Toyosaki, Kazuki Yao, Minako Kotobuki, Yoshiro Matsumoto, Toa Yukinari, Takahiro Fujiwara, Yuki Kaji, Takahiro Sakurai, Hiroaki Iwanaga, DIRECTOR -> Toshiyuki Kubooka)</td></tr><tr><td>tm70222</td><td>Sivaji: The Boss</td><td>2007</td><td>189</td><td>tt0479751</td><td>7.5</td><td>19556</td><td>['drama', 'crime', 'thriller', 'action']</td><td>IN</td><td>PG-13</td><td>Map(ACTOR -> Kaniha, Andreanne Nouyrigat, Livingston, Ilavarasu, Kanal Kannan, Dhamu, Chinni Jayanth, Mayilsamy, Nayanthara, Swaminathan, Bose Venkat, A. C. Murali Mohan, Pyramid Natarajan, Pithamagan Mahadevan, Pattimandram Raja, Uma Padmanabhan, M. S. Bhaskar, Vadivukarasi, Solomon Pappaiah, Manivannan, Cochin Haneefa, Raghuvaran, Vivek, Shriya Saran, Suman Talwar, Rajinikanth, DIRECTOR -> Shankar)</td></tr><tr><td>tm844250</td><td>Ala Vaikunthapurramuloo</td><td>2020</td><td>165</td><td>tt9537292</td><td>7.5</td><td>14839</td><td>['drama', 'action', 'comedy']</td><td>IN</td><td>PG-13</td><td>Map(ACTOR -> Easwari Rao, Hyper Adhi, Sirisha, Kalyani Natarajan, Ananth Babu, Pammi Sai, Tarzan, Vaishnavi Chaitanya, Chammak Chandra, Govind Padmasoorya, Rohini, Tanikella Bharani, Ajay, Brahmanandam, Vennela Kishore, Sachin Khedekar, Harshavardhan, Brahmaji, Rahul Ramakrishna, Rajendra Prasad, Sunil Varma, Navdeep, Tabu, Samuthirakani, Nivetha Pethuraj, Sushanth, Jayaram, Murali Sharma, Pooja Hegde, Allu Arjun, DIRECTOR -> Trivikram Srinivas)</td></tr><tr><td>tm979026</td><td>tick, tick... BOOM!</td><td>2021</td><td>121</td><td>tt8721424</td><td>7.5</td><td>96418</td><td>['drama']</td><td>US</td><td>PG-13</td><td>Map(ACTOR -> Jonathan Larson, Ken Holmes, Stephen Sondheim, Lin-Manuel Miranda, Alexia Belrose, Melody Rose, Victoria Caban, Dwany Guzman, Adriel Flete, Jacob Patrick Wasson, Noah Lentini, Erin Monteleone, Purdie Baumann, Christine Seinicki, Maira Barriga Toyama, Chloe N. Crade, Ehizoje Azike, Spencer Clark, Taeler Cyrus, Erin N. Moore, Kyle Richard Robinson, Callan Bergmann, Carlos Gonzalez, Austin Goodwin, Christopher Grant, Sean Ryan, Kyle McIntire, Lane Napper, Keisha 'Sparkle' Hughes, Marie Rose Baramoski, Ilia Jessica Castro, Gaby Diaz, Stephanie Crousillat, Lucy Struever, Ayo Janeen Jackson, Lauren Yalango-Grant, Jennifer Laroche, Emily Juean Stillings, Roger Bart, James C. Nicola, Barbara Ames, Javiel Sellas, Mason Versaw, Derrick Delgado, Charles Conforti, Debbie Tjong, Bryndon Cook, Victoria Theodore, Sean McDaniel, Stephen Trask, Jeanine Tesori, Shaina Taub, Georgia Stitt, Matthew Sklar, Marc Shaiman, Stephen Schwartz, Helen Park, Grace McLean, Matthew McCollum, Dave Malloy, Jaime Lozano, Steven Levenson, Alex Lacamoire, Tom Kitt, Joe Iconis, Quiara Alegría Hudes, Amanda Green, Eisa Davis, Jason Robert Brown, Eli Bolin, Nick Blaemire, Chad Beguelin, Phillipa Soo, Daphne Rubin-Vega, Chita Rivera, Phylicia Rashād, Bernadette Peters, Adam Pascal, Bebe Neuwirth, Brian Stokes Mitchell, Howard McGillin, Beth Malone, Wilson Jermaine Heredia, Joel Grey, Renée Elise Goldsberry, André De Shields, Chuck Cooper, Kelly Watson, Luis A. Miranda Jr., Chris Sullivan, Andrew Bancroft, Jelani Alladin, Christopher Jackson, Travis Patton, Ricardo Zayas, Sheila Tapia, Joanna Adler, Ryan Vasquez, Jared Loftin, Eddy Lee, Kenita R. Miller, Black Thought, Richard Kind, Lauren Marcus, Danny Burstein, Judy Kuhn, Robyn Goodman, Anna A. Louizos, Joel Perez, Aneesa Folds, Kate Rockwell, Gizel Jimenez, Utkarsh Ambudkar, Micaela Diamond, Danielle Ferland, Laura Benanti, Bradley Whitford, Judith Light, Ben Levi Ross, MJ Rodriguez, Jonathan Marc Sherman, Joshua Henry, Vanessa Hudgens, Robin de Jesús, Alexandra Shipp, Andrew Garfield, DIRECTOR -> Lin-Manuel Miranda)</td></tr><tr><td>ts41975</td><td>Shooter</td><td>2007</td><td>124</td><td>tt4181172</td><td>7.5</td><td>329417</td><td>['war', 'drama', 'action']</td><td>US</td><td>TV-14</td><td>Map(ACTOR -> Jesse Bradford, Lexy Kolker, Omar Epps, Cynthia Addai-Robinson, Shantel VanSanten, Ryan Phillippe)</td></tr><tr><td>tm100688</td><td>Even the Rain</td><td>2010</td><td>104</td><td>tt1422032</td><td>7.4</td><td>13446</td><td>['drama', 'european', 'history']</td><td>ES</td><td>null</td><td>Map(ACTOR -> Javier B. Suarez, Najwa Nimri, Alejandra Lanza, Diego Ortiz, Andrea Camponovo, Ivan Candia, Oscar-Ricardo Encinas, Fernando Cervantes, Alejandro Lanza, Bernardo Arancibia Flores, Luis Bredow, Jorge Ortiz, Sonia Ovando, Daniel Currás, Antonio Mora, Vicente Romero, Pau Cólera, Ezequiel Díaz, Leónidas Chiri, Milena Soliz, Carlos Santos, Cassandra Ciangherotti, Raúl Arévalo, Karra Elejalde, Juan Carlos Aduviri, Gael García Bernal, Luis Tosar, DIRECTOR -> Icíar Bollaín)</td></tr><tr><td>tm102848</td><td>Peepli Live</td><td>2010</td><td>104</td><td>tt1447508</td><td>7.4</td><td>12265</td><td>['drama', 'comedy']</td><td>IN</td><td>PG</td><td>Map(ACTOR -> Sandeep Yadav, Vishal O. Sharma, Farrukh Jaffar, Avijit Dutt, Girish Karnad, Indira Tiwari, Ishita Vyas, Pravin Singh Sisodia, Anoop Trevedi, Aamir Bashir, Naseeruddin Shah, Shalini Vatsa, Sitaram Panchal, Nawazuddin Siddiqui, Malaika Shenoy, Raghubir Yadav, Omkar Das Manikpuri, DIRECTOR -> Anusha Rizvi)</td></tr><tr><td>tm1030241</td><td>Kurup</td><td>2021</td><td>155</td><td>tt7026666</td><td>7.4</td><td>11582</td><td>['crime', 'thriller']</td><td>IN</td><td>null</td><td>Map(ACTOR -> Mathew Varghese, Krrish S. Kumar, Kalabhavan Shaju, Nayana Elza, Hareesh Perumanna, Saiju Kurup, Anupama Parameswaran, Maya Menon, Shivajith Padmanabhan, Suresh Oberoi, Bharath Srinivasan, Vijayaraghavan, Surabhi Lakshmi, Sudheesh, M R Gopakumar, P Balachandran, Sunny Wayne, Shine Tom Chacko, Tovino Thomas, Indrajith Sukumaran, Sobhita Dhulipala, Dulquer Salmaan, DIRECTOR -> Srinath Rajendran)</td></tr><tr><td>tm1109843</td><td>Meenakshi Sundareshwar</td><td>2021</td><td>141</td><td>tt13529034</td><td>7.4</td><td>17141</td><td>['comedy', 'romance']</td><td>IN</td><td>null</td><td>Map(ACTOR -> Kalp Shah, Archana Iyer, Manoj Mani Mathew, Komal Chhabria, Nivedita Bhargava, Ritika Shrotri, Sonali Sachdev, Mahesh Pillai, Shivkumar Subramaniam, Purnendu Bhattacharya, Abhimanyu Dasani, Sanya Malhotra, DIRECTOR -> Vivek Soni)</td></tr><tr><td>tm143227</td><td>Begin Again</td><td>2013</td><td>104</td><td>tt1980929</td><td>7.4</td><td>154049</td><td>['comedy', 'music', 'romance', 'drama']</td><td>US</td><td>R</td><td>Map(ACTOR -> Sama Fernands, Stacey Maltin, Julia Bruskin, Alexis Sykes, Erin Benin, Emily Yarbourgh, Curtis Fowlkes, Emilie Cardinaux, Rich Mercurio, Erik Detusch, Joanna Mauer, Madison Love, David Pendleton, Nicholas Daniel Gonzalez, Melissa Maria Gonzalez, Keen Ruffalo, Danielle Brisebois, Simon Delaney, Jimmy Palumbo, Colin Love, Terry Lewis, Harvey Morris, Kena Onyenjekwe, Cee Lo Green, Ron Voz, Ann McGowan, David Abeles, Shannon Maree Walsh, Ian Brodsky, Jennifer Li Jackson, Rob Morrow, Jen Jacob, Mary Catherine Garrison, Marco Assante, Eric Burton, Ed Renninger, Andrew Sellon, Paul Romero, Karen Pittman, Maddie Corman, Aya Cash, Yasiin Bey, James Corden, Catherine Keener, Hailee Steinfeld, Adam Levine, Keira Knightley, Mark Ruffalo, DIRECTOR -> John Carney)</td></tr><tr><td>tm149209</td><td>Kaminey</td><td>2009</td><td>135</td><td>tt1274295</td><td>7.4</td><td>17136</td><td>['drama', 'crime', 'action', 'thriller']</td><td>IN</td><td>PG-13</td><td>Map(ACTOR -> Rajatava Dutta, Eric Santos, Patrícia Bull, Adil Hussain, Hrishikesh Joshi, Chandan Roy Sanyal, Shivkumar Subramaniam, Deb Mukherjee, Amole Gupte, Priyanka Chopra Jonas, Shahid Kapoor, DIRECTOR -> Vishal Bhardwaj)</td></tr><tr><td>tm161904</td><td>Bully</td><td>2011</td><td>92</td><td>tt1682181</td><td>7.4</td><td>10266</td><td>['drama', 'documentation']</td><td>US</td><td>PG-13</td><td>Map(DIRECTOR -> Lee Hirsch)</td></tr><tr><td>tm166064</td><td>Crazy, Stupid, Love.</td><td>2011</td><td>118</td><td>tt1570728</td><td>7.4</td><td>507878</td><td>['romance', 'comedy', 'drama']</td><td>US</td><td>PG-13</td><td>Map(ACTOR -> Brian Patrick Butler, Michael John Long, Jasen Salvatore, Joshua Sternlicht, Rasika Mathur, Laurel Coppock, Tiara Parker, Dan Butler, Wendy Worthington, Algerita Wynn Lewis, Charlie Hartsock, Reggie Lee, Olga Fonda, Jessica Diz, Jenny Mollen, Janine Barris, Katerina Mikailenko, Tracy Mulholland, Karolina Wydra, Caitlin Thompson, Joanne Brooks, Zayne Emory, Crystal Reed, Julianna Guill, Mekia Cox, Josh Groban, Liza Lapira, John Carroll Lynch, Beth Littleford, Joey King, Jonah Bobo, Lio Tipton, Kevin Bacon, Marisa Tomei, Ryan Gosling, Emma Stone, Julianne Moore, Steve Carell, DIRECTOR -> Glenn Ficarra, John Requa)</td></tr><tr><td>tm178201</td><td>Sherlock Holmes: A Game of Shadows</td><td>2011</td><td>129</td><td>tt1515091</td><td>7.4</td><td>446531</td><td>['crime', 'thriller', 'action']</td><td>US</td><td>PG-13</td><td>Map(ACTOR -> Clive Russell, Joe Egan, Maitland Chandler, Laurentiu Possa, James McNeill, Jonathan Christie, Carsten Hayes, Fredrick Ruth, Roman Jankovič, Peter Stark, Laurence Dobiesz, Pamela Hay, Ian Wilson-Pope, Anthony Inglis, Mark Llewelyn-Evans, Martin Nelson, Thierry Neuvic, Stanley Kaye, Fatima Adoum, Alexander Devrient, Vladimir Furdik, Lancelot Weaver, Daniel Naprous, Affif Ben Badra, Thorston Manderlay, Victor Carril, Alexandre Carril, Mike Grady, Michael Webber, George Taylor, Mark Sheals, Marcus Shakesheff, Richard Cunningham, Karima McAdams, Patricia Slater, Jack Laskey, Iain Mitchell, Wolf Kahler, William Houston, Geraldine James, Paul Anderson, Stephen Fry, Kelly Reilly, Eddie Marsan, Rachel McAdams, Jared Harris, Noomi Rapace, Jude Law, Robert Downey Jr., DIRECTOR -> Guy Ritchie)</td></tr><tr><td>tm211478</td><td>Tamasha</td><td>2015</td><td>139</td><td>tt3148502</td><td>7.4</td><td>26790</td><td>['drama', 'comedy', 'romance']</td><td>IN</td><td>PG</td><td>Map(ACTOR -> Himanshu Sharma, Punam Singh, Nikhil Bhagat, Faraaz Servaia, Yash Sehgal, Teddy Maurya, Ishtiyak Khan, Javed Sheikh, Vivek Mushran, Piyush Mishra, Deepika Padukone, Ranbir Kapoor, DIRECTOR -> Imtiaz Ali)</td></tr><tr><td>tm2386</td><td>A Nightmare on Elm Street</td><td>1984</td><td>91</td><td>tt0087800</td><td>7.4</td><td>230543</td><td>['horror']</td><td>US</td><td>R</td><td>Map(ACTOR -> Robert Shaye, John Richard Petersen, Antonia Yannouli, Chris Tashima, Kathi Gibbs, Paul Grenier, Leslie Hoffman, Don Hannah, Ash Adams, Brian Reise, Carol Pritikin, Shashawnee Hall, Donna Woodrum, Jeff Levine, David Andrews, Sandy Lipton, Ed Call, Jack Shea, Mimi Craven, Joe Unger, Lin Shaye, Joseph Whipp, Charles Fleischer, Johnny Depp, Jsu Garcia, Amanda Wyss, Ronee Blakley, John Saxon, Robert Englund, Heather Langenkamp, DIRECTOR -> Wes Craven)</td></tr><tr><td>tm239739</td><td>Raman Raghav 2.0</td><td>2016</td><td>134</td><td>tt5662932</td><td>7.4</td><td>14380</td><td>['thriller', 'crime', 'drama']</td><td>IN</td><td>null</td><td>Map(ACTOR -> Rhea Pagar, Kalidas Parthitan, Vipin Sharma, Hitesh Dave, Rajesh Jais, Harssh A. Singh, Ashok Lokhande, Deepali Suryakant Badekar, Anuschka Sawhney, Mukesh Chhabra, Amruta Subhash, Sobhita Dhulipala, Vicky Kaushal, Nawazuddin Siddiqui, DIRECTOR -> Anurag Kashyap)</td></tr><tr><td>tm244220</td><td>Darkest Hour</td><td>2017</td><td>125</td><td>tt4555426</td><td>7.4</td><td>193208</td><td>['drama', 'war', 'history', 'thriller', 'family']</td><td>GB</td><td>PG-13</td><td>Map(ACTOR -> Johnny Otto, Adolf Hitler, Kieran Buckeridge, Joshua James, James Harkness, John Locke, Patsy Ferran, Bronte Carmichael, Pip Torrens, Tom Ashley, Eric MacLennan, Paul Leonard, Richard Glover, Flora Nicholson, Joanna Neary, Roisin O'Neill, James Eeles, Anna Burnett, Bethany Muir, Mary Antony, Jordan Waller, Faye Marsay, Nia Gwynne, Philip Martin Brown, Hannah Steele, Charley Palmer Rothwell, John Atterbury, Michael Gould, Brian Pettifer, Jeremy Child, David Strathairn, David Bamber, Adrian Rawlins, Joe Armstrong, Benjamin Whitrow, Hilton McRae, Malcolm Storry, Richard Lumsden, David Schofield, Samuel West, Nicholas Jones, Ben Mendelsohn, Ronald Pickup, Stephen Dillane, Lily James, Kristin Scott Thomas, Gary Oldman, DIRECTOR -> Joe Wright)</td></tr><tr><td>tm27168</td><td>Felon</td><td>2008</td><td>103</td><td>tt1117385</td><td>7.4</td><td>78039</td><td>['crime', 'thriller', 'drama', 'action']</td><td>US</td><td>R</td><td>Map(ACTOR -> Mike Smith, Jesus Jr., Tommy Truez, Steve Ulibarri, Shawn Rosales, Jermaine Washington, John Koyama, Antonio Leyba, Joey Villasenor, Ben James Roybal, Adrian Ponce, Tait Fletcher, Elton Walker, Erik Gomez, Richard Caruso, Richard Caruso, Esodie Geiger, Christopher Dempsey, Christien Tinsley, Cynthia Ruffin, John Trejo, Ivan Brutsche, Rosalia de Aragon, Brian Keith Gamble, Kevin Wiggins, Harry Zimmerman, Brittany Perrineau, Adam Taylor, Roman Mitichyan, Carrie Fleming, Mara Holguin, Mark Sivertsen, Gabriel Merendon, Louie Pescador, Mike Seal, Nate Parker, Jake Walker, Greg Serano, Chris Browning, Shawn Prince, Vincent Miller, Sam Shepard, Larnell Stovall, Anne Archer, Nick Chinlund, Johnny Lewis, Marisol Nichols, Harold Perrineau, Val Kilmer, Stephen Dorff, DIRECTOR -> Ric Roman Waugh)</td></tr><tr><td>tm300615</td><td>Mudbound</td><td>2017</td><td>120</td><td>tt2396589</td><td>7.4</td><td>47676</td><td>['drama', 'war']</td><td>US</td><td>R</td><td>Map(ACTOR -> Roderick Hill, Frankie Smith, Rebecca Chulew, Piper Blair, Joshua J. Williams, Elizabeth Windley, Jason Kirkpatrick, Henry Frost, Lucy Faust, Dylan Arnold, Kennedy Derosin, Claudio Laniado, Kerry Cahill, Kelvin Harrison Jr., Jonathan Banks, Rob Morgan, Garrett Hedlund, Mary J. Blige, Jason Mitchell, Jason Clarke, Carey Mulligan, DIRECTOR -> Dee Rees)</td></tr><tr><td>tm307910</td><td>What the Health</td><td>2017</td><td>97</td><td>tt5541848</td><td>7.4</td><td>28911</td><td>['documentation']</td><td>US</td><td>null</td><td>Map(ACTOR -> Steve-O, Mark Kennedy, Joel Kahn, Jaydee Hanson, Mu Jin Han, Michael Greger, Alan Goldhamer, Mike Ewall, Caldwell Esselstyn Jr., Jake Conroy, Tia Blanco, Neal Barnard, DIRECTOR -> Keegan Kuhn)</td></tr><tr><td>tm315174</td><td>Phantom Thread</td><td>2017</td><td>130</td><td>tt5776858</td><td>7.4</td><td>128600</td><td>['romance', 'drama']</td><td>US</td><td>R</td><td>Map(ACTOR -> Joshua Tomkins, Jack Tyson, Cécile van Dijk, Jonathan Wayre, Evie Wray, Louis Hannan, Michael Gabbitas, David Charles-Cully, Dave Simon, Charlotte Melen, Jane Perry, Michael Stevenson, Jordon Stevens, Nicholas Mander, Sarah Lamesch, Emma Clandon, Alice Grenier, Delia Remy, Leopoldine Hugo, Tim Ahern, James Thomson, Martin Dew, Silas Carson, Richard Graham, Phyllis MacMahon, Eric Sigmundsson, Pauline Moriarty, Zarene Dallas, Ellie Blackwell, Ingrid Sophie Schram, Nick Ashley, Georgia Kemball, Niki Angus-Campbell, George Glasgow, Steven F. Thompson, Tony Hansford, Philip Franks, Juliet Glaves, Amber Brabant, Amy Cunningham, Elli Banks, Maryanne Frost, Julie Duck, Dinah Nicholson, Harriet Leitch, Joan Brown, Sue Clark, Julie Vollono, Julia Davis, Lujza Richter, Harriet Sansom Harris, Brian Gleeson, Gina McKee, Camilla Rutherford, Lesley Manville, Vicky Krieps, Daniel Day-Lewis, DIRECTOR -> Paul Thomas Anderson)</td></tr><tr><td>tm315344</td><td>Molly's Game</td><td>2017</td><td>140</td><td>tt4209788</td><td>7.4</td><td>165817</td><td>['drama', 'crime', 'sport']</td><td>CA</td><td>R</td><td>Map(ACTOR -> Mariah Owen, Gregory Falatek, Brian Cranstone, Dave Alaimo, Robin Read, Alyssa Veniece, Maria Lerinman, Daoud Heidami, Karl Danhoffer, Michael Cohen, Nicholas Banks, Dennis Drummond, Vladimir Tsyglian, Dan Duran, Gurdeep Ahluwalia, Phil Primmer, Steve Brandes, Amy Stewart, Laura Cilevitz, Catherine Burdon, Lizzy DeClement, Mary Ashton, Rico Tudico, Bruno Verdoni, Jeffrey Parazzo, David Gingrich, David Lafontaine, Ari Cohen, Thomas Hauff, George Tchortov, Alanna Macaulay, Rae Anne Stroeder, Vasilios Pappas, Shane Harbison, John Krpan, James Hurlburt, Jason Pithawalla, Tommy Julien, Tony Stellisano, Zachary Goodbaum, Ken Linton, Tom Black, Gary Brennan, Chris Owens, Todd Thomas Dark, Jake Goldsbie, David Reale, Jonathan Purdon, Kris Siddiqi, Frank Falcone, Amy Rutherford, Bo Martyn, Dov Tiefenbach, Alan C. Peterson, Elisa Moolecherry, Morgan David Jones, Robert B. Kennedy, Linette Doherty, Rachel Skarsten, Jason Weinberg, John Nelles, Leo Vernik, Moti Yona, Timothy Mooney, Dan Lett, Jeff Kassel, Duane Murray, Chris Boyle, Jacob Blair, Matthew D. Matteo, Chris Hoffman, Khalid Klein, Kjartan Hewitt, Piper Howell, Samantha Isler, Joseph Brooks, Jon Bass, Whitney Peak, Victor Serfaty, Claire Rankin, Michael Kostroff, Joe Keery, Madison McKinley, Stephanie Herfield, Natalie Krill, Angela Gots, Justin Kirk, Graham Greene, Bill Camp, Brian d'Arcy James, J. C. MacKenzie, Chris O'Dowd, Jeremy Strong, Michael Cera, Kevin Costner, Idris Elba, Jessica Chastain, DIRECTOR -> Aaron Sorkin)</td></tr><tr><td>tm344989</td><td>Lady Bird</td><td>2017</td><td>94</td><td>tt4925292</td><td>7.4</td><td>277165</td><td>['drama', 'comedy']</td><td>US</td><td>R</td><td>Map(ACTOR -> Janet Song, Rebecca Light, Bonnie Jean Shelton, Adam Brock, Danielle Macdonald, Luisa Lee, Ithamar Enriquez, Giselle Grams, Cynthia Cales, Erik Daniells, Connor Mickiewicz, Sabrina Schloss, Christina Offley, Shaelan O'Connor, London Thor, Derek Butler, Georgia Leva, Debra Miller, Anita Kalathara, Matthew Maher, Monique Edwards, Roman Arabia, Carla Valentine, Robert Figueroa, Joan Patricia O'Neil, Richard Jin Namkung, Gurpreet Gill, Ben Konigsberg, Chris Witaske, Abhimanyu Katyal, Bob Stephenson, Myra Turley, Kathryn Newton, Paul Keller, Andy Buckley, Kristen Cloke, Daniel Zovatto, Marietta DePrima, Laura Marano, Bayne Gibby, Jake McDorman, John Karna, Marielle Scott, Jordan Rodrigues, Odeya Rush, Stephen McKinley Henderson, Lois Smith, Timothée Chalamet, Lucas Hedges, Beanie Feldstein, Tracy Letts, Laurie Metcalf, Saoirse Ronan, DIRECTOR -> Greta Gerwig)</td></tr><tr><td>tm359978</td><td>Forgotten</td><td>2017</td><td>109</td><td>tt4236484</td><td>7.4</td><td>29804</td><td>['thriller', 'horror', 'crime', 'scifi']</td><td>KR</td><td>null</td><td>Map(ACTOR -> Kim Young-sam, Melania Trump, Donald Trump, Moon Jae-in, Chung Taek-hyun, An Min-yeong, Lee Seung-yong, Im Jeong-min, Jo Hong-woo, Kang Hak-soo, Kim Hyeon-chang, Yoo In-soo, Kim Hyun-mok, Yeon Je-hyung, Lee Dong-jin, Lee Sung-woo, Han Da-eun, Jo Han-na, Ahn Yoo-jin, Han Tae-eun, Lee Dong-geun, Park Kyeong-chan, Oh Hyeon-soo, Eom In-woo, Moon Seong-pil, Kwon Jae-hwan, Park Chae-ik, Jeong Taek-hyeon, Park Jae-yeong, Kang Sin-goo, Choi Go, Jung Chan-bi, Byeon Dong-joon, Lee Soon-won, Bae Seong-il, Lee Na-ra, Nam Myung-ryeol, Na Young-hee, Moon Sung-keun, Kim Moo-yul, Kang Ha-neul, DIRECTOR -> Jang Hang-jun)</td></tr><tr><td>tm36475</td><td>Kabhi Khushi Kabhie Gham</td><td>2001</td><td>210</td><td>tt0248126</td><td>7.4</td><td>48818</td><td>['drama', 'romance']</td><td>IN</td><td>G</td><td>Map(ACTOR -> Samir Shah, Bharat Mistri, Ali Haji, Amith Rahman, Jessey Lever, Kavesh Majmudar, Holly Holdsworth, Malvika Raaj, Vikas Sethi, Jeroo Writer, Ramona Sunavala, Tamzin Griffin, Shashikala, Sushma Seth, Himani Shivpuri, Achala Sachdev, Jibraan Khan, Johnny Lever, Aryan Khan, Simone Singh, Jugal Hansraj, Parzaan Dastur, Alok Nath, Farida Jalal, Rani Mukerji, Kareena Kapoor Khan, Hrithik Roshan, Kajol, Shah Rukh Khan, Jaya Bachchan, Amitabh Bachchan, DIRECTOR -> Karan Johar)</td></tr><tr><td>tm366227</td><td>Uncut Gems</td><td>2019</td><td>130</td><td>tt5727208</td><td>7.4</td><td>261956</td><td>['drama', 'thriller', 'comedy', 'crime']</td><td>US</td><td>R</td><td>Map(ACTOR -> Ursula Triplett, Cassie Prusiensky, Paige Neuenschwander, Erika Wachter, Glenn 'Doc' Rivers, Ara Daglian, Chad Neves, Debbie DeLisi, Jennifer Sacks, Alexander Gilkes, Conor Coyne, Marty Tendler, Ralph Colucci, Brad Davidorf, Izra Malakov, Jessica Mullayev, Roza Babekova, Svetlana B. Levitin, Benjy Kleiner, Larry Sloman, Jennifer Venditti, Ricky Barksdale, Victor Plajas, Greg Yuna, William Sappe, La Mar Taylor, Kerwin Frost, Shiv Pai, Lino Eisenberg, Aren Topian, Louis Anthony Arias, Max Bartos, Keren Shemel, Raleem Moses, Habtunu Africho, Daneke Muhugeta, Liang Wei-Hui-Duncan, Sunny Wu Jin Zahao, Sun Zhi Hua-Hilton, Mesfin Lamengo, Stuart Wenig, Arthur Borukhov, Shemsi Selimaj, Jacob Igielski, Damany Eastman, Sean Ringgold, Michael A. Sollecito, Todd Vulpio, Jonathan Aranbayev, Darien Howard, \"Gerard \"\"Dash\"\" McQuiller\", Pom Klementieff, Paloma Elsesser, Roman Persits, Andrea Linsky, Ca$h Out, Maksud Agadjani, Warren Finkelstein, Robbie DeRaffele, Josh Ostrovsky, Sahar Bibiyan, Natasha Lyonne, Anthony Mecca, Jake Ryan, Jeremy Sample, Marcia DeBonis, Trinidad James, John Amos, Tilda Swinton, Hailey Gates, Mitchell Wenig, Marshall Greenberg, Ronald Greenberg, Thomas Kominik, Noa Fisher, Mike Francesa, Wayne Diamond, Keith Williams Richards, The Weeknd, Judd Hirsch, Eric Bogosian, Kevin Garnett, Idina Menzel, Lakeith Stanfield, Julia Fox, Adam Sandler, DIRECTOR -> Benny Safdie, Josh Safdie)</td></tr><tr><td>tm39557</td><td>Jaane Tu... Ya Jaane Na</td><td>2008</td><td>155</td><td>tt0473367</td><td>7.4</td><td>26738</td><td>['drama', 'comedy', 'romance']</td><td>IN</td><td>null</td><td>Map(ACTOR -> Omprakash, Murali Sharma, Deepak Dhadwal, Uditanshu Mehta, Ayaz Khan, Kitu Gidwani, Rajat Kapoor, Paresh Rawal, Sohail Khan, Arbaaz Khan, Pratiek Babbar, Jerrit John, Anooradha Patel, Jayant Kripalani, Shakun Batra, Padam Bhola, Renuka Kunzru, Karan Makhija, Ratna Pathak, Naseeruddin Shah, Ayaz Khan, Alishka Varde, Nirav Mehta, Sugandha Garg, Prateik Babbar, Manjari Phadnis, Genelia D'Souza, Imran Khan, DIRECTOR -> Abbas Tyrewala)</td></tr><tr><td>tm433381</td><td>Mirage</td><td>2018</td><td>129</td><td>tt7919356</td><td>7.4</td><td>52657</td><td>['thriller', 'drama', 'documentation', 'fantasy', 'music', 'romance', 'european']</td><td>ES</td><td>R</td><td>Map(ACTOR -> Aleida Torrent, Borja Texeira, José Umpiérrez, Maykol Hernández, Toni Báez, Pep Papell, Mónica Lleó, Marta Falcón, Sigrid Cañas, Vicente Ayala, Joel Illescas, Ruth Llopis, Belén Rueda, Silvia Alonso, Ana Wagener, Francesc Orella, Marco de Francisco, Luna Fulgencio, Julio Bohigas, Albert Pérez, Aina Clotet, Mima Riera, Clara Segura, Miquel Fernández, Nora Navas, Álvaro Morte, Javier Gutiérrez, Chino Darín, Adriana Ugarte, DIRECTOR -> Oriol Paulo)</td></tr><tr><td>tm446176</td><td>American Factory</td><td>2019</td><td>110</td><td>tt9351980</td><td>7.4</td><td>21415</td><td>['documentation']</td><td>US</td><td>null</td><td>Map(ACTOR -> Rebecca Ruan-O'Shaughnessy, Shawnea Rosser, Jeff Daochuan Liu, Jill Lamantia, Wong He, Cynthia Harper, Rob Haerr, John Gauthier, Dave Burrows, Sherrod Brown, Junming 'Jimmy' Wang, DIRECTOR -> Julia Reichert, Steven Bognar)</td></tr><tr><td>tm473502</td><td>83</td><td>2021</td><td>163</td><td>tt7518786</td><td>7.4</td><td>23781</td><td>['drama', 'history', 'sport']</td><td>IN</td><td>null</td><td>Map(ACTOR -> Kapil Dev, David Burton, Adam Brown, Munyaradzi Mlambo, Ruel Brathwaite, Orson Nurse, Jason Clive Lloyd, Mali Marshall, Zeeshan Nadaf, Veer Batheja, Avantika Akerkar, Jacques Taylor, Happy Singh, Anjum Batra, Mohinder Amarnath, Satish Alekar, Aditi Arya, Samreen Kaur, Sheryl Bennett, Parvatii Nair, Neeraj Sood, Brijendra Kala, Rajiv Gupta, Wamiqa Gabbi, Neena Gupta, Boman Irani, R. Badree, Dinker Sharma, Chirag Patil, Adinath Kothare, Jatin Sarna, Nishant Dahiya, Dhairya Karwa, Deepika Padukone, Harrdy Sandhu, Sahil Khattar, Jiiva, Ammy Virk, Saqib Saleem, Tahir Raj Bhasin, Pankaj Tripathi, Ranveer Singh, DIRECTOR -> Kabir Khan)</td></tr><tr><td>tm50018</td><td>Looper</td><td>2012</td><td>119</td><td>tt1276104</td><td>7.4</td><td>566791</td><td>['thriller', 'scifi', 'drama', 'crime', 'action']</td><td>US</td><td>R</td><td>Map(ACTOR -> Sam Medina, Brea Grant, D.J. Mills, Lauren Alexandra, Rachel Acuna, Sylvia Jefferies, Robert Harvey, Craig Johnson, Ian Patrick, Wayne Dehart, David Joseph Martinez, Josh Perry, Kamden Beauchamp, David Jensen, Ritchie Montgomery, Jeff Chase, Adam Boyer, Cody Wood, Kenneth Brown Jr., Thirl Haston, Kevin Stillwell, Jon Eyez, Marcus Hester, Frank Brennan, Xu Qing, Pierce Gagnon, James Landry Hébert, Tracie Thoms, Nick Gomez, Paul Dano, Garret Dillahunt, Jeff Daniels, Noah Segan, Piper Perabo, Emily Blunt, Bruce Willis, Joseph Gordon-Levitt, DIRECTOR -> Rian Johnson)</td></tr><tr><td>tm62210</td><td>Rurouni Kenshin Part I: Origins</td><td>2012</td><td>134</td><td>tt1979319</td><td>7.4</td><td>25793</td><td>['drama', 'war', 'action', 'history']</td><td>JP</td><td>PG-13</td><td>Map(ACTOR -> Yuta Kuba, Masashi Arifuku, Ryuhei Higashiyama, Ichirôta Miyakawa, Masataka Kubota, Ryôta Matsushima, Motoki Ochiai, Atsuko Anami, Toshihiro Yashiba, Kotaro Okamoto, Daisuke Honda, Motoki Fukami, Yusuke Hirayama, Mei Nagano, Kaoru Hirata, Teruyuki Kagawa, Yosuke Eguchi, Eiji Okuda, Taketo Tanaka, Genki Sudo, Go Ayano, Munetaka Aoki, Yu Aoi, Koji Kikkawa, Emi Takei, Takeru Satoh, DIRECTOR -> Keishi Ōtomo)</td></tr><tr><td>tm673809</td><td>Schumacher</td><td>2021</td><td>112</td><td>tt10322274</td><td>7.4</td><td>21558</td><td>['sport', 'documentation']</td><td>DE</td><td>null</td><td>Map(ACTOR -> Richard Williams, Gianluca Pilot, Gerhard Noack, James Allen, Ross Brawn, Piero Ferrari, Eddie Irvine, Mark Webber, Sabine Kehm, Luca Cordero di Montezemolo, Willi Weber, David Coulthard, Flavio Briatore, Damon Hill, Mika Häkkinen, Sebastian Vettel, Bernie Ecclestone, Jean Todt, Gina Schumacher, Rolf Schumacher, Ralf Schumacher, Corinna Schumacher, Mick Schumacher, Michael Schumacher, DIRECTOR -> Hanns-Bruno Kammertöns, Michael Wech, Vanessa Nöcker)</td></tr><tr><td>tm74780</td><td>The Bucket List</td><td>2007</td><td>97</td><td>tt0825232</td><td>7.4</td><td>242733</td><td>['drama', 'comedy', 'european']</td><td>US</td><td>PG-13</td><td>Map(ACTOR -> Alex Trebek, Taylor Ann Thompson, Christopher Stapleton, Serena Reeder, Amber Mead, Karen Maruyama, Jonathan Hernandez, Noel Gugliemi, Angela Gardner, Jennifer Defrancisco, Ian Anthony Dale, Brian Copeland, Verda Bridges, Annton Berry Jr., Rowena King, Dawn Lewis, Rob Morrow, Destiny Brownridge, Alfonso Freeman, Beverly Todd, Sean Hayes, Morgan Freeman, Jack Nicholson, DIRECTOR -> Rob Reiner)</td></tr><tr><td>tm77348</td><td>Life in a Metro</td><td>2007</td><td>124</td><td>tt0800956</td><td>7.4</td><td>11934</td><td>['drama', 'comedy', 'romance']</td><td>IN</td><td>null</td><td>Map(ACTOR -> Pritam Chakraborty, Ashwin Mushran, Vicky Ahuja, Nafisa Ali, Manoj Pahwa, Gautami Kapoor, Dharmendra, Shilpa Shetty Kundra, Kangana Ranaut, Shiney Ahuja, Sharman Joshi, Konkona Sen Sharma, Kay Kay Menon, Irrfan Khan, DIRECTOR -> Anurag Basu)</td></tr><tr><td>tm845415</td><td>Miss Americana</td><td>2020</td><td>85</td><td>tt11388580</td><td>7.4</td><td>19151</td><td>['documentation', 'music']</td><td>US</td><td>R</td><td>Map(ACTOR -> Abigail Anderson, Robert G. Allen, Riley Knoxx, Paul Sidoti, Dave Meyers, Melanie Nyema, Kamilah Marshall, Tree Paine, Joel Little, Scott Swift, Andrea Swift, Max Martin, Antoni Porowski, Karamo Brown, Jonathan van Ness, Bobby Berk, Jack Antonoff, Brendon Urie, Todrick Hall, Joe Alwyn, Taylor Swift, DIRECTOR -> Lana Wilson)</td></tr><tr><td>tm96168</td><td>Once Upon a Time in Mumbaai</td><td>2010</td><td>132</td><td>tt1395054</td><td>7.4</td><td>17494</td><td>['thriller', 'crime', 'drama', 'romance', 'action']</td><td>IN</td><td>PG-13</td><td>Map(ACTOR -> Raaj Gopal, Prashant Barot, Sanjay Roy, Prithvi Zutshi, Gyan Prakash, Pankaj Sharma, Vikas Shrivastav, Anjum Sharma, Sanjeev Wilson, Imran Hasnee, Ravi Khanwilkar, Avtar Gill, Asif Basra, Naved Aslam, Gauahar Khan, Randeep Hooda, Prachi Desai, Kangana Ranaut, Emraan Hashmi, Ajay Devgn, DIRECTOR -> Milan Luthria)</td></tr><tr><td>tm98975</td><td>Guzaarish</td><td>2010</td><td>126</td><td>tt1438298</td><td>7.4</td><td>18466</td><td>['drama', 'romance']</td><td>IN</td><td>PG</td><td>Map(ACTOR -> Olivier Lafont, Achint Kaur, Priyanka Bose, Nafisa Ali, Monikangana Dutta, Rajit Kapoor, Makrand Deshpande, Suhel Seth, Swara Bhaskar, Aditya Roy Kapur, Shernaz Patel, Aishwarya Rai Bachchan, Hrithik Roshan, DIRECTOR -> Sanjay Leela Bhansali)</td></tr><tr><td>tm991529</td><td>The Hand of God</td><td>2021</td><td>130</td><td>tt12680684</td><td>7.4</td><td>30235</td><td>['drama']</td><td>IT</td><td>R</td><td>Map(ACTOR -> Daniele Vicorito, Marina Viro, Alfonso Perugini, Cristiana Dell'Anna, Monica Nappo, Dora Romano, Birte Berg, Alessandro Bressanello, Ciro Capano, Biagio Manna, Lino Musella, Sofya Gershevich, Enzo De Caro, Renato Carpentieri, Betti Pedrazzi, Massimiliano Gallo, Marlon Joubert, Luisa Ranieri, Teresa Saponangelo, Toni Servillo, Filippo Scotti, DIRECTOR -> Paolo Sorrentino)</td></tr><tr><td>tm113576</td><td>Little Women</td><td>1994</td><td>115</td><td>tt0110367</td><td>7.3</td><td>57621</td><td>['drama', 'family', 'romance']</td><td>US</td><td>PG</td><td>Map(ACTOR -> Matthew Walker, Florence Paterson, Donal Logue, Mary Wickes, John Neville, Eric Stoltz, Gabriel Byrne, Christian Bale, Susan Sarandon, Samantha Mathis, Kirsten Dunst, Claire Danes, Trini Alvarado, Winona Ryder, DIRECTOR -> Gillian Armstrong)</td></tr><tr><td>tm1138870</td><td>Badhaai Do</td><td>2022</td><td>147</td><td>tt11934846</td><td>7.3</td><td>15032</td><td>['comedy', 'drama', 'crime']</td><td>IN</td><td>null</td><td>Map(ACTOR -> Apeksha Porwal, Durga Sharma, Abhay Joshi, Nidhi Bhati, Priyanka Charan, Gulshan Devaiah, Deepak Arora, Shashi Bhushan, Chum Darang, Loveleen Mishra, Nitesh Pandey, Sheeba Chaddha, Seema Pahwa, Bhumi Pednekar, Rajkummar Rao, DIRECTOR -> Harshavardhan Kulkarni)</td></tr><tr><td>tm136308</td><td>Monster</td><td>2003</td><td>110</td><td>tt0340855</td><td>7.3</td><td>149218</td><td>['crime', 'drama', 'thriller', 'european']</td><td>US</td><td>R</td><td>Map(ACTOR -> Chandra Leigh, Jim R. Coleman, Billy Boylan, Jesse Stern, Gene R. Stephenson, Chad Vaccarino, Cannonball, Al, Bubba Baker, Nonalee Davis, Lyllian Barcaski, Christian Stokes, Kane Hodder, Elaine Stebbins, Glenn R. Wilder, Romonda Shaver, T. Robert Pigott, Magdalena Manville, Catherine Mangan, Cree Ivey, Kaitlin Riley, Brett Rice, Stephan Jones, Tim Ware, Rus Blackwell, Scott Wilson, Marc Macaulay, Marco St. John, Pruitt Taylor Vince, Annie Corley, Lee Tergesen, Bruce Dern, Christina Ricci, Charlize Theron, DIRECTOR -> Patty Jenkins)</td></tr><tr><td>tm136808</td><td>Identity</td><td>2003</td><td>90</td><td>tt0340770</td><td>7.3</td><td>240433</td><td>['thriller']</td><td>US</td><td>R</td><td>Map(ACTOR -> Stuart M. Besser, Terence Bernie Hines, Michael Hirsch, Joe Hart, Frederick Coffin, Holmes Osborne, Bret Loehr, Matt Letscher, Leila Kenzle, Marshall Bell, Carmen Argenziano, Rebecca De Mornay, Pruitt Taylor Vince, Jake Busey, William Lee Scott, John C. McGinley, Clea DuVall, Alfred Molina, John Hawkes, Amanda Peet, Ray Liotta, John Cusack, DIRECTOR -> James Mangold)</td></tr><tr><td>tm138297</td><td>The Conjuring 2</td><td>2016</td><td>134</td><td>tt3065204</td><td>7.3</td><td>260693</td><td>['thriller', 'horror', 'drama']</td><td>US</td><td>R</td><td>Map(ACTOR -> Jason Liles, Robin Atkin Downes, Nancy DeMars, Joseph Bishara, Javier Botet, Bonnie Aarons, Jennifer Collins, Thomas Harrison, Shannon Kook, Kate Cook, Emily Tasker, Cory English, Elliot Joseph, Annie Young, Daniel Wolfe, Abhi Sinha, Chris Royds, Steve Coulter, Bob Adrian, Franka Potente, Simon Delaney, Patrick McAuley, Benjamin Haigh, Maria Doyle Kennedy, Lauren Esposito, Sterling Jerins, Simon McBurney, Frances O'Connor, Madison Wolfe, Vera Farmiga, Patrick Wilson, DIRECTOR -> James Wan)</td></tr><tr><td>tm159310</td><td>Coach Carter</td><td>2005</td><td>130</td><td>tt0393162</td><td>7.3</td><td>143670</td><td>['drama', 'sport', 'european']</td><td>US</td><td>PG-13</td><td>Map(ACTOR -> Roger Lim, Ray Baker, Paul Rae, Mel Winkler, Debbi Morgan, Sonya Eddy, Dana Davis, Adrienne Bailon-Houghton, Cindy Chiu, Allison Kyler, Octavia Spencer, Lacey Beeman, Texas Battle, Ashanti, Channing Tatum, Antwon Tanner, Nana Gbewonyo, Rick Gonzalez, Robert Ri'chard, Rob Brown, Samuel L. Jackson, DIRECTOR -> Thomas Carter)</td></tr><tr><td>tm173551</td><td>Corpse Bride</td><td>2005</td><td>77</td><td>tt0121164</td><td>7.3</td><td>265023</td><td>['fantasy', 'romance', 'animation', 'drama', 'family']</td><td>US</td><td>PG</td><td>Map(ACTOR -> Lisa Kay, Stephen Ballantyne, Danny Elfman, Deep Roy, Enn Reitel, Jane Horrocks, Michael Gough, Christopher Lee, Richard E. Grant, Albert Finney, Joanna Lumley, Paul Whitehouse, Tracey Ullman, Emily Watson, Helena Bonham Carter, Johnny Depp, DIRECTOR -> Mike Johnson, Tim Burton)</td></tr><tr><td>tm176528</td><td>Memoirs of a Geisha</td><td>2005</td><td>145</td><td>tt0397535</td><td>7.3</td><td>146847</td><td>['drama', 'romance', 'european']</td><td>FR</td><td>PG-13</td><td>Map(ACTOR -> Joseph Steven Yang, Henry T. Yamada, Ray Tom, Aaron Takahashi, Clara Soyoung, Steve Sornbutnark, Cathy Shim, Austin Michael Scott, Jasper Salon, Osamu Saito, Catherine Kim Poon, Steffinnie Phrommany, Ricky Pak, Sophie Oda, Tam Nguyen, Skye Nakamura, Ryan Moriarty, Doug Ming, Danton Mew, Tohoru Masamune, Jia Mae, Julia Ling, Jon Liggett, Stacey Lee, Teddy Lau, Ruffy Landayan, Aurelie Kyinn, Branden Weslee Kong, Masa Kanome, James Huang, Maggie Hai-Uyen, Allen Dam, Michael Chen, Yuki Bird, Jennie Baek, Kazumi Aihara, Masakazu Yoshizawa, Tateo Takahashi, Etsuo Hongo, Shaye Uyematsu, Jordan Tambara, Miwa Tachibana, Stacy Suzuki, La Na Shi, Jade Refuerzo, Ayaka Oyama, Jacqueline Osaki, Kasey Okazaki, Michelle Obi, Melissa Morinishi, Teanna Lee, Stefani Lee, Amy Saki Kawakami, Emma Fusako Ishii, Hannah Hwang, Rosie Endow, Emilie Endow, Deziree Del Rosario, Allison Chan, Lena Ahn, Cassidy Adams, Addie Yungmee, Nikki Tuazon, Shelly Oto, Nao Nojima, Brooke Miyasaki, Kanako Miyamoto, Wendy Lam, Chieko Hidaka, Miki Fujitani, Kiyoko Ando, Shannon Abero, Mami Saito, Minae Noji, Shiho Miyazawa, Hikari, Ashia Meyers, Kim Hazel, Janelle Dote, Michelle Aguilar Camaya, Shizuko Hoshi, Paul Adelstein, Ted Levine, Faith Shin, Cameron Duncan, Chad Cleven, James Taku Leung, Nobu Matsuhisa, Clarissa Park, Asako Takasue, Takayo Fischer, Randall Duk Kim, Dino Rivera, Albert 'Sumo' Lee, Anthony Begonia, Ace Yonamine, Ren Urano, Daisuke Dewaarashi, Shûhei Mainoumi, Yasusuke Uike, Diane Mizota, Laura Miro, Steve Terada, Rick Mali, Koji Toyoda, Cary-Hiroyuki Tagawa, Fumi Akutagawa, Natsuo Tomita, Navia Nguyen, Kenneth Tsang, Yōko Narahashi, Eugenia Yuan, Karl Yune, Kotoko Kawamura, Miyako Tachibana, David Okihiro, Zoe Weizenbaum, Tsai Chin, Thomas Ikeda, Elizabeth Sung, Samantha Futerman, Mako, Togo Igawa, Youki Kudoh, Koji Yakusho, Kaori Momoi, Suzuka Ohgo, Ken Watanabe, Michelle Yeoh, Gong Li, Zhang Ziyi, DIRECTOR -> Rob Marshall)</td></tr><tr><td>tm192037</td><td>Starship Troopers</td><td>1997</td><td>129</td><td>tt0120201</td><td>7.3</td><td>288960</td><td>['scifi', 'thriller', 'action']</td><td>US</td><td>R</td><td>Map(ACTOR -> Mike Stokey, Aaron Stielstra, Mary Ann Schmidt, Julie Pinson, Brooke Morales, Edward Neumeier, Kai Lennox, Armand Darrius, Mylin Brooks, Rhiannon Vigil, Austin Sanderford, Stephanie Erb, Eric DaRe, Tyrone Tann, Mara Duronslet, Patrick Wolff, Travis Lowen, Hunter Bodine, Patrick Bishop, Timothy Omundson, Brad Kane, Robert David Hall, Timothy McNeil, John Cunningham, Greg Travis, Curnal Achilles Aulisio, Teo, Lenore Kasdorf, Christopher Curry, Brenda Strong, Anthony Ruivivar, Matt Levin, Eric Bruskotter, Marshall Bell, Dean Norris, Dale Dye, Julianna McCarthy, Tami-Adrian George, Amy Smart, Denise Dowse, Bruce Gray, Ungela Brockman, Steven Ford, Blake Lindsley, Rue McClanahan, Seth Gilliam, Patrick Muldoon, Michael Ironside, Clancy Brown, Neil Patrick Harris, Jake Busey, Denise Richards, Dina Meyer, Casper Van Dien, DIRECTOR -> Paul Verhoeven)</td></tr><tr><td>tm210043</td><td>Shot Caller</td><td>2017</td><td>120</td><td>tt4633690</td><td>7.3</td><td>83961</td><td>['thriller', 'crime', 'drama']</td><td>US</td><td>R</td><td>Map(ACTOR -> J.D. Herrera, Johnathan Paul Pena, Jonathan Lane, Fred Padilla, Dash Hamblin, Euphrates 'Tee' Arthur, Michael Benjamin Kirby, Alexander Daniel Pimentel, Jose B. Martinez, Rodger Larance, Cajardo Lindsey, Ivan Brutsche, Joseph P. Santillanes, Diana Gaitirira, David Miller, Marika Day, Jetto Dorsainville, Jacob Browne, Joshua R. Aragon, Howard Ferguson Jr., J. Nathan Simmons, Nathaniel Augustson, Mike Ostroski, Michael Sheets, Esodie Geiger, Chris Adams, John Christian Love, Mark Sivertsen, Matthew Page, Dylan Kenin, John Trejo, Brendan Kelly, Bobby Lee Osborn, Diego Joaquin Lopez, David House, Danny Winn, Cru Ennis, Monique Candelaria, Derek Dinniene, Jonathon McClendon, Sarah Minnich, Keith Jardine, Michael Landes, Matt Gerald, Juan Pablo Raba, Jessy Schram, Max Greenfield, Chris Browning, Benjamin Bratt, Evan Jones, Holt McCallany, Jon Bernthal, Jeffrey Donovan, Emory Cohen, Lake Bell, Omari Hardwick, Nikolaj Coster-Waldau, DIRECTOR -> Ric Roman Waugh)</td></tr><tr><td>tm219248</td><td>The Fundamentals of Caring</td><td>2016</td><td>97</td><td>tt2452386</td><td>7.3</td><td>70542</td><td>['drama', 'comedy']</td><td>US</td><td>R</td><td>Map(ACTOR -> Walter Hendrix III, Bobby Cannavale, Matt Mercurio, Ashley White, Donna Biscoe, James Donadio, Eric Singer, Robert Walker Branchaud, Alan Boell, Bill Murphey, Samantha Huskey, Alex Huff, Julia Denton, Frederick Weller, Megan Ferguson, Jennifer Ehle, Selena Gomez, Craig Roberts, Paul Rudd, DIRECTOR -> Rob Burnett)</td></tr><tr><td>tm232500</td><td>The Disaster Artist</td><td>2017</td><td>104</td><td>tt3521126</td><td>7.3</td><td>149604</td><td>['comedy', 'drama']</td><td>US</td><td>R</td><td>Map(ACTOR -> Max Valentine, Jordan Daem, Cynthia Natera, Dan Byelich, Eloho Josephine Okujeni, Danny Finneran, Ron Saylor, Cerra Angela Vallentine, Elena Cristiean, Adonis Simmons, Vincent Marinelli, Frankie Ponce, Ramona Tibrin, Jolie Mitnick Salter, Javi Sánchez-Blanco Boyer, Zhubin Rahbar, Mark Anthony Petrucelli, Bill Rojas, Frank Lui Geo, Tudor Munteanu, Resit Berker Enhos, Kara Gibson, Aidiye Aidarbekov, Krista West, Isaac Phillips, Vince Chavez, Tearra Oso, Johnny Meyer, Taylor DeVoe, Katherine Neff, Phillip E. Walker, Corey Weber, Slim Khezri, Adwin Brown, Frederick Keeve, Jenna Curtis, Elizabeth Hirsch-Tauber, Nicole Gordon-Levitt, Cameron Brinkman, Amechi Okocha, Cate Freedman, Tamzin Brown, Shane Ryan, Ricky Mabe, Michelle Arthur, Erin Cummings, Eliza Coupe, Greg Sestero, Jason Mitchell, Christopher Mintz-Plasse, Brett Gelman, Kate Upton, Dylan Minnette, David DeCoteau, Zach Braff, Judd Apatow, Bryan Cranston, Lizzy Caplan, J.J. Abrams, Kristen Bell, Danny McBride, Adam Scott, Keegan-Michael Key, Kevin Smith, Zoey Deutch, Tom Franco, Ike Barinholtz, Angelyne, Dree Hemingway, Kether Donohue, Kelly Oxford, Xosha Roquemore, Jerrod Carmichael, Casey Wilson, Tommy Wiseau, Steven Liu, Randall Park, Megan Ferguson, Brian Huskey, Bob Odenkirk, Sugar Lyn Beard, Karen Macarah, Lauren Ash, Peter Gilroy, Jessie Ennis, Charlyne Yi, Hannibal Buress, Melanie Griffith, John Early, Sharon Stone, Joe Mande, Nathan Fielder, Andrew Santino, Jason Mantzoukas, Megan Mullally, June Diane Raphael, Paul Scheer, Zac Efron, Josh Hutcherson, Jacki Weaver, Ari Graynor, Alison Brie, Seth Rogen, Dave Franco, James Franco, DIRECTOR -> James Franco)</td></tr><tr><td>tm233366</td><td>Te3n</td><td>2016</td><td>136</td><td>tt4814290</td><td>7.3</td><td>12816</td><td>['thriller', 'drama']</td><td>IN</td><td>PG-13</td><td>Map(ACTOR -> Sabyasachi Chakraborty, Tota Roy Chowdhury, Masood Akhtar, Prakash Belawadi, Mukesh Chhabra, Padmavati Rao, Vidya Balan, Nawazuddin Siddiqui, Amitabh Bachchan, DIRECTOR -> Ribhu Dasgupta)</td></tr><tr><td>tm233377</td><td>The Edge of Seventeen</td><td>2016</td><td>104</td><td>tt1878870</td><td>7.3</td><td>120488</td><td>['comedy', 'drama']</td><td>US</td><td>R</td><td>Map(ACTOR -> Laura Ward, Kirsten Robek, Christian Lagasse, Chris Shields, Lyle Reginald, Kavandeep Hayre, Daniel Bacon, Jena Skodje, Laine MacNeil, Ava Grace Cooper, Christian Michael Cooper, Lina Renna, Katie Stuart, Meredith Monroe, Nesta Cooper, Eric Keenleyside, Alexander Calvert, Hayden Szeto, Kyra Sedgwick, Woody Harrelson, Blake Jenner, Haley Lu Richardson, Hailee Steinfeld, DIRECTOR -> Kelly Fremon Craig)</td></tr><tr><td>tm233843</td><td>Pyaar Ka Punchnama 2</td><td>2015</td><td>159</td><td>tt4430136</td><td>7.3</td><td>14968</td><td>['comedy', 'drama', 'romance']</td><td>IN</td><td>PG-13</td><td>Map(ACTOR -> Manvir Singh, Prakhar Shukla, Karishma Sharma, Mona Ambegaonkar, Sonnalli Seygall, Ishita Raj Sharma, Rumana Molla, Joy Badlani, Sharat Saxena, Nushrratt Bharuccha, Sunny Singh Nijjar, Omkar Kapoor, Kartik Aaryan, DIRECTOR -> Luv Ranjan)</td></tr><tr><td>tm239927</td><td>Official Secrets</td><td>2019</td><td>112</td><td>tt5431890</td><td>7.3</td><td>45200</td><td>['thriller', 'crime', 'drama', 'war', 'romance']</td><td>GB</td><td>R</td><td>Map(ACTOR -> Michael James, Jessica Fostekew, Vinta Morgan, Patrick Moy, Brett Allen, Corinna Wilson, Raquel Cassidy, Simon Rogers, David Maybrick, Jodie McNee, Stuart Ramsay, Sophie Duval, Shaun Dooley, Martin Bright, Will Barton, Janie Dee, Lindy Whiteford, Gabrielle Downey, Niccy Lin, Katharine Gun, Andrew Marr, George W. Bush, Tony Blair, Fiona Skinner, Raad Rawi, Katherine Kelly, Jeremy Northam, Angus Wright, Hanako Footman, Katherine Kelly, Jeremy Northam, Kenneth Cranham, Hattie Morahan, Tamsin Greig, Clive Francis, Monica Dolan, Chris Larkin, Ray Panthaki, Shaun Dooley, Chris Reilly, Peter Guinness, MyAnna Buring, Jack Farthing, Conleth Hill, John Heffernan, Indira Varma, Rhys Ifans, Matthew Goode, Adam Bakri, Ralph Fiennes, Matt Smith, Keira Knightley, DIRECTOR -> Gavin Hood)</td></tr><tr><td>tm244174</td><td>Okja</td><td>2017</td><td>122</td><td>tt3967856</td><td>7.3</td><td>116305</td><td>['drama', 'scifi', 'action']</td><td>KR</td><td>PG-13</td><td>Map(ACTOR -> David Bloom, Jack Lyons, Lynn Marocola, Michelle Clarke-Brown, Rickland Powell, Ann Evans, Amber Snow, Martin Lo Rimorin, Carl Montoya, Pavla Tan, Zachary Belgard, Rebecca Husain, Eha Urbsalu, Michael D. Joseph, Jamar Greene, Lena Avgust, Kristoffe Brodeur, Bettina Skye, Myles Humphus, Andreas Fronk, Phillip Garcia, Elizabeth Urrea, Alex Kabel, Lorne Edward Oliver, Hye-Jo Yu, J. C. Williams, T. Sahara Meer, Waris Ahluwalia, Adam Auslander, Conor Reeves, Marian Volk, Niall Cunningham, Boyd Ferguson, Frans Weterrings IV, Barbara Wallace, Cory Gruter-Andrew, Steven Garr, Timmo Polajev, Ahn Seong-bong, Lucas Körmer, David Congourdeau Nicolas, Pavel Hajek, Stephen Clee, Yerin Shin, Seo Woo-sik, Kim Chul-moo, Kim Woo-hyun, Yoon Jung-ro, Park Jeong-gi, Bae Young-ran, Sangyoon Lee, Mikaela Kingsbury, Milo Shandel, Dylan Ratigan, Hyunzun Yu, Wonjin Jang, Gwangjae Woo, Daehyun Kim, Park Keun-rok, Kim Moon-hak, Hyunwoo Choi, Byeonghee Lee, Seungchang Lee, Kyungwook Lim, Jooman Hong, Jungsook Park, Seoyoung Lim, Clayton Elliot Jones, Lee Jae-Hyeok, Park Ji-hoon, Kwak Jin-seok, Han Yi-jin, Cho Wan-ki, Yoon Kyung-ho, Park Ki-seon, Lee Bong-ryeon, Jang Ji-woong, Choi Hee-seo, Kim Jae-in, Lee Jung-eun, Nancy Amelia Bell, Jose Carias, Kathryn Kirkpatrick, Colm Hill, Michael Mitton, Choi Woo-shik, Giancarlo Esposito, Daniel Henshall, Shirley Henderson, Yoon Je-moon, Byun Hee-bong, Devon Bostick, Steven Yeun, Lily Collins, Jake Gyllenhaal, Paul Dano, Tilda Swinton, Ahn Seo-hyun, DIRECTOR -> Bong Joon-ho)</td></tr><tr><td>tm244364</td><td>The Nightingale</td><td>2018</td><td>136</td><td>tt4068576</td><td>7.3</td><td>28196</td><td>['thriller', 'drama', 'horror']</td><td>AU</td><td>R</td><td>Map(ACTOR -> James O'Connell, Alan Faulkner, Maggie Blinco, Anthony Phelan, Ben McIvor, Sam Smith, Dallas Mugarra, Luke Carroll, Claire Jones, Nathaniel Dean, Christopher Stollery, Magnolia Maymuru, Matthew Sunderland, Michael Sheasby, Charlie Shotwell, Ewen Leslie, Harry Greenwood, Damon Herriman, Baykali Ganambarr, Sam Claflin, Aisling Franciosi, DIRECTOR -> Jennifer Kent)</td></tr><tr><td>tm253083</td><td>Blue Jay</td><td>2016</td><td>81</td><td>tt5912454</td><td>7.3</td><td>17033</td><td>['romance', 'drama']</td><td>US</td><td>null</td><td>Map(ACTOR -> Clu Gulager, Sarah Paulson, Mark Duplass, DIRECTOR -> Alexandre Lehmann)</td></tr><tr><td>tm357589</td><td>The Guernsey Literary & Potato Peel Pie Society</td><td>2018</td><td>124</td><td>tt1289403</td><td>7.3</td><td>44917</td><td>['romance', 'drama', 'history', 'war']</td><td>GB</td><td>null</td><td>Map(ACTOR -> Joanna Hole, Steve Morphew, Alexa Povah, Rachal Olivant, Emily Patrick, Pippa Rathborne, Stephanie Schonfield, Jack Morris, Marek Oravec, Philip Ridout, Madeleine Domries, Dilyana Bouklieva, Richard Derrington, Gregory Mann, Tom Owen, Andy Gathergood, Florence Keen, Nicolo Pasetti, Clive Merrison, Bernice Stegers, Bronagh Gallagher, Penelope Wilton, Kit Connor, Tom Courtenay, Glen Powell, Katherine Parkinson, Michiel Huisman, Matthew Goode, Jessica Brown Findlay, Lily James, DIRECTOR -> Mike Newell)</td></tr><tr><td>tm417392</td><td>The King</td><td>2019</td><td>140</td><td>tt7984766</td><td>7.3</td><td>119020</td><td>['drama', 'history', 'romance', 'war']</td><td>AU</td><td>R</td><td>Map(ACTOR -> Oscar Bennett, Thibault de Montalembert, Jeremy Chevillotte, Laurent Winkler, Harry Trevaldwyn, Henry Dent, Bardó Fenyvesi, Bence Bakti, Vincent Latorre, Kristóf Widder, Jack Bandeira, Cedric Cirotteau, Tom Lacroix, Lucas Hansen, Philip Rosch, Nicholas Wittman, Kurta Niké, Roderick Hill, Josef Davies, Gábor Czap, Ivan Kaye, Tom Lawrence, Tom Fisher, Tara Fitzgerald, Stephen Fewell, Edward Ashley, Steven Elder, Dean-Charles Chapman, Andrew Havill, Ben Mendelsohn, Robert Pattinson, Thomasin McKenzie, Lily-Rose Depp, Tom Glynn-Carney, Sean Harris, Joel Edgerton, Timothée Chalamet, DIRECTOR -> David Michôd)</td></tr><tr><td>tm425889</td><td>The Ballad of Buster Scruggs</td><td>2018</td><td>132</td><td>tt6412452</td><td>7.3</td><td>141528</td><td>['western', 'comedy', 'drama', 'romance']</td><td>US</td><td>R</td><td>Map(ACTOR -> Grace LeSueur, Stephen R. Estler, Austin Rising, Jiji Hise, Katy Bodenhamer, J. Nathan Simmons, Jackamoe Buzzell, Billy Lockwood, Danny McCarthy, Martin Palmer, Tim DeZarn, Paul Rae, Matthew Willig, Ethan Dubin, Jefferson Mays, Grainger Hines, Sam Dillon, Jesse Luken, Ralph Ineson, Stephen Root, Clancy Brown, Tom Proctor, David Krumholtz, E.E. Bell, Willie Watson, Harry Melling, Bill Heck, Chelcie Ross, Saul Rubinek, Jonjo O'Neill, Brendan Gleeson, Tyne Daly, Tom Waits, Liam Neeson, Zoe Kazan, James Franco, Tim Blake Nelson, DIRECTOR -> Joel Coen, Ethan Coen)</td></tr><tr><td>tm436778</td><td>The Best of Enemies</td><td>2019</td><td>133</td><td>tt4807408</td><td>7.3</td><td>16441</td><td>['drama', 'history']</td><td>US</td><td>PG-13</td><td>Map(ACTOR -> Timothy Carr, Milton Saul, Lindsey Moser, Rachel Marie Lewis, Annie Cook, Shane Biseell, Michael Hyland Cole, Chanel Young, Shane Jackson, Wilbur Fitzgerald, Rhoda Griffis, Chanté Bowser, Jack Montague, Afemo Omilami, Cranston Johnson, Robert Harvey, Morgan Brown, Jeremy Daniel Madden, Bart Hansard, Hope Leigh, Aaron K Smalls, Charles Black, Kameron Kierce, Elizabeth Omilami, Coley Campany, Sope Aluko, Dawntavia Bullard, Ned Vaughn, Jill Jane Clements, Tim Ware, Charles Orr, Rachel Bagley, Jessica Miesel, Jeanette Branch, Lucius Baston, Susan Williams, Kevin Iannucci, Nadej k Bailey, Carson Holmes, Brody Rose, McKenzie Applegate, Al Hamacher, David Plunkett, Bethany DeZelle, Najah Jackson, Ryan Dinning, Malerie Grady, Chris Cavalier, Kendall Ryan Sanders, Morgan Mackey, Dolan Wilson, Caitlin Mehner, Gilbert Glenn Brown, Nicholas Logan, John Gallagher Jr., Bruce McGill, Nick Searcy, Wes Bentley, Anne Heche, Babou Ceesay, Sam Rockwell, Taraji P. Henson, DIRECTOR -> Robin Bissell)</td></tr><tr><td>tm44402</td><td>Girl, Interrupted</td><td>1999</td><td>127</td><td>tt0172493</td><td>7.3</td><td>180532</td><td>['drama', 'european']</td><td>US</td><td>R</td><td>Map(ACTOR -> Katie Rimmer, Janet Greer, Joanna Kerns, David Scott Taylor, Kurtwood Smith, Misha Collins, KaDee Strickland, Mary Kay Place, Christina Myers, Drucie McDaniel, Jillian Armenante, Angela Bettis, Travis Fine, Jeffrey Tambor, Jared Leto, Vanessa Redgrave, Whoopi Goldberg, Elisabeth Moss, Clea DuVall, Brittany Murphy, Angelina Jolie, Winona Ryder, DIRECTOR -> James Mangold)</td></tr><tr><td>tm57610</td><td>Talaash</td><td>2012</td><td>149</td><td>tt1787988</td><td>7.3</td><td>41752</td><td>['thriller', 'crime', 'fantasy', 'drama']</td><td>IN</td><td>null</td><td>Map(ACTOR -> Suhaas Ahuja, Izabelle Leite, Pariva Pranati, Vivan Bhatena, Aditi Vasudev, Gulfam Khan, Shernaz Patel, Subrat Dutta, Rajkummar Rao, Nawazuddin Siddiqui, Rani Mukerji, Kareena Kapoor Khan, Aamir Khan, DIRECTOR -> Reema Kagti)</td></tr><tr><td>tm67378</td><td>The Professionals</td><td>1966</td><td>117</td><td>tt0060862</td><td>7.3</td><td>16168</td><td>['western', 'action', 'european']</td><td>US</td><td>PG-13</td><td>Map(ACTOR -> Ron Veto, Philip L. Parslow, John McKee, John Lopez, Eddie Little Sky, Darwin Lamb, Dirk Evans, Roberto Contreras, Leigh Chapman, Don Carlos, Elizabeth Campbell, Vaughn Taylor, Carlos Romero, José Chávez, Marie Gomez, Jorge Martínez de Hoyos, Rafael Bertrand, Joe De Santis, Ralph Bellamy, Claudia Cardinale, Jack Palance, Woody Strode, Robert Ryan, Lee Marvin, Burt Lancaster, DIRECTOR -> Richard Brooks)</td></tr><tr><td>tm827648</td><td>El Camino: A Breaking Bad Movie</td><td>2019</td><td>123</td><td>tt10819010</td><td>7.3</td><td>216847</td><td>['thriller', 'drama', 'crime', 'action']</td><td>US</td><td>R</td><td>Map(ACTOR -> Gabriela Alicia Ortega, Alison Law, Simon Drobik, Danielle Todesco, Gregory Steven Soliz, Cody Renee Cameron, David Mattey, Chris Bylsma, Matthew Van Wettering, Carlos Sepulveda, Gloria Sandoval, Julie Pearl, Todd Terry, Johnny Ortiz, Brendan Sexton III, Marla Gibbs, Michael Bofshever, Tess Harper, Kevin Rankin, Krysten Ritter, Bryan Cranston, Jonathan Banks, Robert Forster, Tom Bower, Scott Shepherd, Larry Hankin, Scott MacArthur, Matt Jones, Charles Baker, Jesse Plemons, Aaron Paul, DIRECTOR -> Vince Gilligan)</td></tr><tr><td>tm918043</td><td>Raat Akeli Hai</td><td>2020</td><td>149</td><td>tt12567088</td><td>7.3</td><td>17570</td><td>['thriller', 'crime', 'drama']</td><td>IN</td><td>null</td><td>Map(ACTOR -> Shreedhar Dubey, Gyanendra Tripathi, Swanand Kirkire, Ila Arun, Tigmanshu Dhulia, Khalid Tyabji, Shivani Raghuvanshi, Nishant Dahiya, Aditya Srivastava, Shweta Tripathi, Padmavati Rao, Radhika Apte, Nawazuddin Siddiqui)</td></tr><tr><td>tm92977</td><td>Ishqiya</td><td>2010</td><td>115</td><td>tt1345777</td><td>7.3</td><td>10415</td><td>['comedy', 'thriller', 'romance', 'drama']</td><td>IN</td><td>R</td><td>Map(ACTOR -> Gauri Malla, Alok Kumar, Anupama Kumar, Adil Hussain, Salman Shahid, Arshad Warsi, Vidya Balan, Naseeruddin Shah, DIRECTOR -> Abhishek Chaubey)</td></tr><tr><td>tm1003034</td><td>The Witcher: Nightmare of the Wolf</td><td>2021</td><td>83</td><td>tt11657662</td><td>7.2</td><td>41508</td><td>['fantasy', 'scifi', 'animation', 'action', 'drama']</td><td>PL</td><td>null</td><td>Map(ACTOR -> Abby Trott, Courtenay Taylor, Fred Tatasciore, Andrew Morgado, JP Karliak, Sara Cravens, Dee Bradley Baker, Steve Blum, Ry Chase, Luke Youngblood, Samia Mounts, Nolan North, Adam Croasdell, Harry Hissrich, Michaela Dietz, A.J. LoCascio, Jennie Kwan, Keith Ferguson, Darryl Kurylo, Matthew Yang King, Kari Wahlgren, Jennifer Hale, David Errigo Jr., Tom Canton, Graham McTavish, Lara Pulver, Mary McDonnell, Theo James, DIRECTOR -> Han Kwang-il)</td></tr><tr><td>tm1150385</td><td>The Tinder Swindler</td><td>2022</td><td>114</td><td>tt14992922</td><td>7.2</td><td>57606</td><td>['crime', 'documentation']</td><td>GB</td><td>null</td><td>Map(ACTOR -> Natalie Remøe Hansen, Ayleen Charlotte, Cecilie Fjellhøy, Erlend Ofte Arntsen, Pernilla Sjöholm, Kristoffer Kumar, Shimon Yehuda Hayut, DIRECTOR -> Felicity Morris)</td></tr><tr><td>tm121879</td><td>A River Runs Through It</td><td>1992</td><td>123</td><td>tt0105265</td><td>7.2</td><td>59086</td><td>['drama']</td><td>US</td><td>PG</td><td>Map(ACTOR -> Robert Redford, Joseph Gordon-Levitt, William Hootkins, Emily Lloyd, Nicole Burdette, Susan Traylor, Vann Gravage, Stephen Shellen, Edie McClurg, Brenda Blethyn, Tom Skerritt, Brad Pitt, Craig Sheffer, DIRECTOR -> Robert Redford)</td></tr><tr><td>tm140389</td><td>Paddington</td><td>2014</td><td>96</td><td>tt1109624</td><td>7.2</td><td>111092</td><td>['comedy', 'animation', 'family', 'fantasy', 'european']</td><td>FR</td><td>PG</td><td>Map(ACTOR -> Vic Waghorn, Jim Lawrence, Nigel Genis, Asim Chaudhry, Bern Collaço, Jack Philips, Denis Khoroshko, Kornelia Horvath, Matthew David McCarthy, Julie Vollono, Fabio Vollono, Stuart Matthews, Barrie Martin, Faith Elizabeth, Ancuta Breaban, Alexander Bracq, George Newton, Eddie Nestor, Ross Boatman, Theresa Watson, Daniel Westwood, Tarik Blake, Dominic Coleman, Hamish McColl, Tom Meeten, Steve Oram, Steve Edge, Michael Bond, Barry Ashton, Iain Mitchell, Justin Edwards, Llewella Gideon, Javier Marzan, James Bachman, David McKail, Kenneth Hadley, Rufus Jones, Gus Brown, Geoffrey Palmer, Cleo Sylvestre, Sean Bridgeman, Catherine Shepherd, Toby Williams, William Smith, Alice Lowe, Lottie Steer, Jude Wright, Mary Roscoe, Jonathan Derbyshire, Matt Lucas, Kayvan Novak, Simon Farnaby, Matt King, Tim Downie, Madeleine Worrall, Michael Gambon, Imelda Staunton, Peter Capaldi, Jim Broadbent, Nicole Kidman, Julie Walters, Madeleine Harris, Samuel Joslin, Sally Hawkins, Hugh Bonneville, Ben Whishaw, DIRECTOR -> Paul King)</td></tr><tr><td>tm145655</td><td>St. Vincent</td><td>2014</td><td>102</td><td>tt2170593</td><td>7.2</td><td>102103</td><td>['comedy', 'drama']</td><td>US</td><td>PG-13</td><td>Map(ACTOR -> Alyssa Ruland, Josh Elliott Pickel, Addison Rose Melfi, Richard Ford, Tim Durkin, David Filippi, J. Elaine Marcos, Tim Wilson, Fred Evanko, Amber Clayton, Jeff Bowser, Katharina Damm, Kerry Flanagan, Joann Lamneck, Larry Gray, Orlagh Cassidy, Frank Wood, Brenda Wehle, Brian Berrebbi, James Andrew O'Connor, Maria-Christina Oliveras, Portia, Melanie Nicholls-King, Elliot Santiago, Gabe Hernandez, Sade Demorcy, Alexandra Fong, David Iacono, Emma Fisher, Niles Fitch, Ron McLarty, Maria Elena Ramirez, Greta Lee, Ray Iannicelli, Deirdre O'Connell, Reg E. Cathey, Scott Adsit, Ann Dowd, Donna Mitchell, Kimberly Quinn, Dario Barosso, Nate Corddry, Lenny Venito, Jaeden Martell, Terrence Howard, Chris O'Dowd, Naomi Watts, Melissa McCarthy, Bill Murray, DIRECTOR -> Theodore Melfi)</td></tr><tr><td>tm159593</td><td>No One Killed Jessica</td><td>2011</td><td>136</td><td>tt1734110</td><td>7.2</td><td>11665</td><td>['crime', 'drama', 'thriller']</td><td>IN</td><td>PG-13</td><td>Map(ACTOR -> Purnendu Bhattacharya, Yogendra Tiku, Satyadeep Misra, Mohammed Zeeshan Ayyub, Neil Bhoopalam, Myra Karn, Vidya Balan, Rani Mukerji, DIRECTOR -> Raj Kumar Gupta)</td></tr><tr><td>tm176630</td><td>The Butler</td><td>2013</td><td>132</td><td>tt1327773</td><td>7.2</td><td>114013</td><td>['drama', 'european']</td><td>US</td><td>PG-13</td><td>Map(ACTOR -> Joe Chrest, Colman Domingo, Barack Obama, Gerald Ford, Rosalynn Carter, Jimmy Carter, Duane Cothren, Rusty Robertson, Nealla Gordon, Stephen Rider, Jim Gleason, John P. Fertitta, Ami Ameen, LaJessie Smith, Michael Rainey Jr., Yaya DaCosta, Clarence Williams III, Vanessa Redgrave, Alex Pettyfer, Mariah Carey, Jesse Williams, Elijah Kelley, David Banner, John Cusack, Jane Fonda, Alan Rickman, Liev Schreiber, Minka Kelly, James Marsden, Robin Williams, Terrence Howard, Cuba Gooding Jr., Lenny Kravitz, David Oyelowo, Oprah Winfrey, Forest Whitaker, DIRECTOR -> Lee Daniels)</td></tr><tr><td>tm187791</td><td>In the Line of Fire</td><td>1993</td><td>128</td><td>tt0107206</td><td>7.2</td><td>101939</td><td>['drama', 'thriller', 'action', 'crime']</td><td>US</td><td>R</td><td>Map(ACTOR -> William Shipman, Steve Railsback, Aaron Michael Lacey, Michael Graziano, Ian Paul Cassidy, Lena Banks, Kirk Jordan, Jeffrey Kurt Miller, Rich DiDonato, Michael Zurich, Cylk Cozart, Donna Hamilton, Susan Lee Hoffman, Robert Alan Beuth, Marlan Clarke, Michael Kirk, William G. Schilling, Joshua Malina, Robert Sandoval, Doris E. McMillon, Rick Hurst, Anthony Peck, Tyde Kierney, Robert Peters, Walt MacPherson, Carl Ciarfalio, Alan Toy, John Heard, Patrick Caddell, Eric Bruskotter, Brian Libby, Lawrence Lowe, Ryan Cutrona, Mary Van Arsdel, Patrika Darbo, Arthur Senzy, Elsa Raven, Juan A. Riojas, Bob Schott, Tobin Bell, Steve Hytner, Clyde Kusatsu, Sally Hughes, Jim Curley, Gregory Alan Williams, John Mahoney, Fred Dalton Thompson, Gary Cole, Dylan McDermott, Rene Russo, John Malkovich, Clint Eastwood, DIRECTOR -> Wolfgang Petersen)</td></tr><tr><td>tm193769</td><td>Steve Jobs</td><td>2015</td><td>122</td><td>tt3565344</td><td>7.2</td><td>166288</td><td>['drama']</td><td>GB</td><td>R</td><td>Map(ACTOR -> Ed Moy, John Lobato, Stephanie Johnston, Alan Chu, Javier Chavarin, Brian Castellanos, Bryan Casserly, John Edward Cabrera, David Blount-Porter, Andy Arness, AnnaCorey, Moises Amaya, Natalie Stephany Aguilar, Derek W. Adam, Alex Phillip, Diogo Hausen, Lena Avgust, Tony Toste, Steven Wiig, Derrin Horton, Mark Mester, Bill Seward, Kristina Guerrero, Carlo Cecchetto, Marc Istook, Sara Welch, Rick Chambers, Melissa Etezadi, Greg Mills, Anita Bennett, Colm O'Riain, Lora Oliver, Daniel Liddle, John Chovanec, Chris Tomasso, Dylan Freitas-D'Louhy, Lana Palmer, Marika Casteel, Damara Reilly, Lily Tung Crystal, Rachel Caproni, Karen Kahn, Gail Fenton, Noreen Lee, Robert Anthony Peters, Mihran Slougian, Stan Roth, John Steen, Adam Shapiro, John Ortiz, Sarah Snook, Makenzie Moss, Ripley Sobo, Perla Haney-Jardine, Katherine Waterston, Michael Stuhlbarg, Jeff Daniels, Seth Rogen, Kate Winslet, Michael Fassbender, DIRECTOR -> Danny Boyle)</td></tr><tr><td>tm19673</td><td>The Patriot</td><td>2000</td><td>165</td><td>tt0187393</td><td>7.2</td><td>270231</td><td>['drama', 'action', 'history', 'war']</td><td>DE</td><td>R</td><td>Map(ACTOR -> Patrick Tatopoulos, Braima Moiwai, Lillie L. Harris, Samuel Brown Sr., Samuel Brown Jr., Le Roy Seabrook, Derrick B. Young, Scott Miles, Gil Johnson, John H. Bush, Tyler Long, P. Dion Moore, Roy McCrerey, Dara Coleman, John Curran, John Bennes, Kyle Richard Engels, John F. Dzencelowcz II, Greg Good, John Storey, Randell Haynes, Zach Hanner, Mark Jeffrey Miller, Kanin Howell, Kristian Truelsen, Andy Stahl, Charles Black, Bill Roberson, Shannon Eubanks, Terry Layman, Colt Romberger, Mark Twogood, Jack Moore, Kirk Fox, Hank Stone, Shan Omar Huey, Shane Ayon, Grahame Wood, Peter Woodward, Jamieson Price, Mary Jo Deschanel, Logan Lerman, Bryan Chafin, Trevor Morgan, Skye McCole Bartusiak, Mika Boorem, Gregory Smith, Joey D. Vieira, Jay Arlen Jones, Adam Baldwin, Leon Rippy, Donal Logue, Tom Wilkinson, Lisa Brenner, René Auberjonois, Tchéky Karyo, Chris Cooper, Jason Isaacs, Joely Richardson, Heath Ledger, Mel Gibson, DIRECTOR -> Roland Emmerich)</td></tr><tr><td>tm205812</td><td>The Siege of Jadotville</td><td>2016</td><td>108</td><td>tt3922798</td><td>7.2</td><td>38308</td><td>['thriller', 'war', 'drama', 'action', 'history', 'european']</td><td>IE</td><td>null</td><td>Map(ACTOR -> Andrew Stock, Richard Lukunku, Ashish Gangapersad, Gérard Rudolf, Ronan Raftery, Mike Noble, Charlie Kelly, Jordan Mifsud, Luc Van Gunderbeeck, Conor MacNeill, Sam Keeley, Conor Quinlan, Emmanuelle Seigner, Fiona Glascott, Fionn O'Shea, Danny Sapani, Mikael Persbrandt, Michael McElhatton, Jason O'Mara, Mark Strong, Guillaume Canet, Jamie Dornan, DIRECTOR -> Richie Smyth)</td></tr><tr><td>tm208713</td><td>Gabbar Is Back</td><td>2015</td><td>130</td><td>tt2424988</td><td>7.2</td><td>24676</td><td>['drama', 'action', 'crime', 'comedy']</td><td>IN</td><td>PG-13</td><td>Map(ACTOR -> Rajiv Kachroo, Jagdish Rajpurohit, Chitrangda Singh, Saanvi Talwar, Ninad Kamat, Manoj Chandila, Ravi Prakash, Kareena Kapoor Khan, Shruti Bapna, Ishita Vyas, Sunil Grover, Jaideep Ahlawat, Suman Talwar, Shruti Haasan, Akshay Kumar, DIRECTOR -> Radha Krishna Jagarlamudi)</td></tr><tr><td>tm285356</td><td>First They Killed My Father</td><td>2017</td><td>136</td><td>tt4882376</td><td>7.2</td><td>17871</td><td>['drama', 'history', 'war']</td><td>KH</td><td>R</td><td>Map(ACTOR -> Mony Rous, Tharoth Sam, Nout Sophal, Horm Chhora, Oun Srey Neang, Run Malyna, Sarun Nika, Khoun Sothea, Heng Dara, Mun Kimhak, Sveng Socheata, Phoeung Kompheak, Sareum Srey Moch, DIRECTOR -> Angelina Jolie)</td></tr><tr><td>tm307761</td><td>Toilet: A Love Story</td><td>2017</td><td>155</td><td>tt5785170</td><td>7.2</td><td>20675</td><td>['comedy', 'drama', 'romance']</td><td>IN</td><td>null</td><td>Map(ACTOR -> Ayesha Raza, Sana Khaan, Sachin Khedekar, Shubha Khote, Rajesh Sharma, Sudhir Pandey, Anupam Kher, Bhumi Pednekar, Akshay Kumar, DIRECTOR -> Shree Narayan Singh)</td></tr><tr><td>tm313712</td><td>Mom</td><td>2017</td><td>147</td><td>tt8771030</td><td>7.2</td><td>10320</td><td>['crime', 'thriller', 'drama']</td><td>IN</td><td>null</td><td>Map(ACTOR -> Suparna Moitra, Riva Arora, Ivan Rodrigues, Joy Badlani, Pitobash, Vikas Verma, Abhimanyu Singh, Adarsh Gourav, Akshaye Khanna, Nawazuddin Siddiqui, Adnan Siddiqui, Sajal Ali, Sridevi, DIRECTOR -> Ravi Udyawar)</td></tr><tr><td>tm319470</td><td>The Professor and the Madman</td><td>2019</td><td>124</td><td>tt5932728</td><td>7.2</td><td>44418</td><td>['thriller', 'drama', 'history', 'european']</td><td>US</td><td>null</td><td>Map(ACTOR -> Lars Brygmann, Laurence Fox, David O'Hara, Stephen Dillane, Lucas Browne, Paul Gough, Abigail Coburn, John Morton, Ronan O'Connor, Robert McCormack, Shane Noone, Olivia McKevitt, Joe McKinney, Malcolm Freeman, Steve Gunn, Bryan Quinn, Sean Duggan, Christopher Maleki, Oengus MacNamara, Bryan Murray, Kieran O'Reilly, David Crowley, Aidan McArdle, Brian Fortune, Jennifer Ehle, Adam Fergus, Brendan Patricks, Jeremy Irvine, Steve Coogan, Ioan Gruffudd, Natalie Dormer, Eddie Marsan, Sean Penn, Mel Gibson, DIRECTOR -> Farhad Safinia)</td></tr><tr><td>tm340587</td><td>Ittefaq</td><td>2017</td><td>107</td><td>tt6692354</td><td>7.2</td><td>12095</td><td>['thriller', 'crime']</td><td>IN</td><td>PG</td><td>Map(ACTOR -> Hitesh Arora, Trupti Khamkar, Ajay Jadhav, Himanshu Kohli, Mir Sarwar, Mandira Bedi, Sonakshi Sinha, Sidharth Malhotra, Akshaye Khanna)</td></tr><tr><td>tm368449</td><td>Private Life</td><td>2018</td><td>123</td><td>tt6394284</td><td>7.2</td><td>19023</td><td>['drama', 'comedy']</td><td>US</td><td>R</td><td>Map(ACTOR -> Katrine Hoyt, Maddie Corman, Hettienne Park, Caroline Martin, Gabrielle Reidy, Fenton Lawless, Kelly Miller, Alyssa Cheatham, Danny Deferrari, Kerry Flanagan, Samantha Buck, Amaya Press, Tracee Chimo, Emily Robinson, Siobhan Fallon Hogan, Denis O'Hare, Desmin Borges, John Carroll Lynch, Molly Shannon, Kayli Carter, Paul Giamatti, Kathryn Hahn, DIRECTOR -> Tamara Jenkins)</td></tr><tr><td>tm417416</td><td>Five Feet Apart</td><td>2019</td><td>116</td><td>tt6472976</td><td>7.2</td><td>61878</td><td>['romance', 'drama']</td><td>US</td><td>PG-13</td><td>Map(ACTOR -> Johnny Otto, Todd Terry, Maxwell Baldoni, Phillip Mullings Jr., Jim Gleason, Armando Leduc, Keianna Nutley, Demi Castro, Kristopher Perez, Ivy Dubreuil, Evangeline Hill, Brett Austin Johnson, Sophia Bernard, Trina LaFargue, Cynthia Evans, Cecilia Leal, Ariana Guerra, Sue-Lynn Ansari, Rebecca Chulew, Gary Weeks, Emily Baldoni, Claire Forlani, Parminder Nagra, Kimberly Hebert Gregory, Moisés Arias, Cole Sprouse, Haley Lu Richardson, DIRECTOR -> Justin Baldoni)</td></tr><tr><td>tm434625</td><td>Wish Dragon</td><td>2021</td><td>99</td><td>tt5562070</td><td>7.2</td><td>24712</td><td>['fantasy', 'comedy', 'family', 'romance', 'animation']</td><td>CN</td><td>PG</td><td>Map(ACTOR -> Alexandre Chen, Gustav Lindquist, David So, Sumalee Montano, Ian Chen, Ronny Chieng, Nico Santos, Bobby Lee, Will Yun Lee, Aaron Yoo, Jimmy O. Yang, Natasha Liu Bordizzo, Constance Wu, John Cho, Jimmy Wong, DIRECTOR -> Chris Appelhans)</td></tr><tr><td>tm446581</td><td>The Edge of Democracy</td><td>2019</td><td>121</td><td>tt6016744</td><td>7.2</td><td>14605</td><td>['documentation', 'history']</td><td>BR</td><td>null</td><td>Map(ACTOR -> Elena Andrade, Li An, Nelson Mandela, Queen Elizabeth II of the United Kingdom, Barack Obama, Petra Costa, Gilberto Carvalho, Aécio Neves, Jean Wyllys, Paulo Maluf, Sérgio Moro, Jair Bolsonaro, Eduardo Cunha, Michel Temer, Luiz Inácio Lula da Silva, Dilma Rousseff, DIRECTOR -> Petra Costa)</td></tr><tr><td>tm447788</td><td>Fyre</td><td>2019</td><td>98</td><td>tt9412098</td><td>7.2</td><td>44715</td><td>['documentation', 'crime', 'music']</td><td>US</td><td>null</td><td>Map(ACTOR -> Andy Richter, Conan O'Brien, Ron Funches, Alessandra Ambrosio, Emily Ratajkowski, Gizele Oliveira, Shanina Shaik, Lais Ribeiro, Kendall Jenner, Chanel Iman, Elsa Hosk, Bella Hadid, Hailey Baldwin, Rose Bertram, C.C. Clarke, Alyssa Lynch, Carola Jain, Kindo, Ben Meiselas, Seth Crossno, Mary Ann Rolle, Marc Weinstein, Keith van der Linde, Grant Margolin, J.R., Andy King, Samuel Krost, Mdavid Low, Michael Ciccarelli, Shiyuan Deng, Gabrielle Bluestone, Jason Bell, Ja Rule, Billy McFarland, DIRECTOR -> Chris Smith)</td></tr><tr><td>tm455197</td><td>Kabir Singh</td><td>2019</td><td>172</td><td>tt8983202</td><td>7.2</td><td>30949</td><td>['drama', 'crime', 'action', 'romance']</td><td>IN</td><td>null</td><td>Map(ACTOR -> Teena Singh, Aanchal Chauhan, Swati Seth, Anusha Sampath, Kunal Thakur, Amit Sharma, Soham Majumdar, Adil Hussain, Nikita Dutta, Suresh Oberoi, Arjan Bajwa, Kiara Advani, Shahid Kapoor, DIRECTOR -> Sandeep Reddy Vanga)</td></tr><tr><td>tm458585</td><td>Dolemite Is My Name</td><td>2019</td><td>118</td><td>tt8526872</td><td>7.2</td><td>59836</td><td>['comedy', 'drama']</td><td>US</td><td>R</td><td>Map(ACTOR -> A.J. Tannen, Bob Odenkirk, Jamaal Lewis, Li Eubanks, Aaron Craven, Leonel Claude, Tommie Earl Jenkins, David B. Lyons, Rob Smith, Myles Williamson, Erik Kilpatrick, Catrina Gaston, Sidney Hopson, Justin Campbell, Megan McEwen, Taylor Ellington, Yena Kim, Robert Amerson, Budda Foster, Brandon Stewart, Eric Reed, Demetrius Hodges, Dorothy Schock, Alfonso Christian Lover, Bubba Ganter, Nikol Davis, Gina Lohman, Jimmie Kirkpatrick, Damon Wilson, Edwin Livingston, Lyndon Rochelle, James Cornelison, Bobby Rush, Quartay Denaya, Phil Abrams, Dale Gibson, Saudia Rashed, Cole McKay, Garland Whitt, Toni Duclottni, Cheryl Francis Harrington, Chelsea Gilson, Sade E. Moore, Krystian Alexander Lyttle, Kezii Curtis, deMann, Milan Carter, Akono Dixon, Lamar Usher, John Fluker, Edward Rudell Johnson, Nayanna Holley, Maiya Sykes, Amy Keys, Wendell Kelly, Johnny Britt, James Ford III, Chucc Hamilton, Brandon Owens, Carlos McSwain, Lamar Edwards, Bobby Milhouse, Bernadine Durham, Gerald Downey, Allen Rueckert, Monique StaTeena, Jernard Burks, John Michael Herndon, Henry Monfries, Baker Chase Powell, Jill Savel, Arthur Fuller, Claude Phillips, B.J. Bingham, Kazy Tauginas, Michael Peter Bolus, Ivo Nandi, Aleksandar Filimonović, Chris Rock, Wesley Snipes, Tasha Smith, Luenell, T.I., Barry Shabaka Henley, Ron Cephas Jones, Snoop Dogg, Kodi Smit-McPhee, Da'Vine Joy Randolph, Tituss Burgess, Craig Robinson, Mike Epps, Keegan-Michael Key, Eddie Murphy, DIRECTOR -> Craig Brewer)</td></tr><tr><td>tm66466</td><td>Wazir</td><td>2016</td><td>103</td><td>tt0315642</td><td>7.2</td><td>18681</td><td>['thriller', 'crime', 'action', 'drama']</td><td>IN</td><td>PG-13</td><td>Map(ACTOR -> Vaidehi Parshurami, Seema Pahwa, Avtar Gill, Nishigandha Wad, Murali Sharma, Prakash Belawadi, Manav Kaul, Neil Nitin Mukesh, John Abraham, Aditi Rao Hydari, Farhan Akhtar, Amitabh Bachchan, DIRECTOR -> Bejoy Nambiar)</td></tr><tr><td>tm78592</td><td>Michael Clayton</td><td>2007</td><td>120</td><td>tt0465538</td><td>7.2</td><td>163878</td><td>['thriller', 'crime', 'drama']</td><td>US</td><td>R</td><td>Map(ACTOR -> Steven Weisz, Kimmy Suzuki, Josh Mowery, Emelie Jeffries, Tony Gilroy, Clem Cheung, Kevin Cannon, Angelo Bonsignore, Patrick Askin, Paul Juhn, Neal Huff, Jordan Lage, Susan McBrien, Maggie Siff, Sam Gilroy, Gregory Dann, Douglas McGrath, David Zayas, David Lansbury, Susan Egbert, Sean Cullen, Julia Gibson, Kevin Hagan, Andrew Hunter Sherman, Pamela Gray, Heidi Armbruster, Terry Serpico, Paul Oquist, Robert Prescott, Jason Strong, Pun Bandhu, Remy Auberjonois, John Gerard Franklin, Katherine Waterston, Christopher Mann, Brian Poteat, Merritt Wever, John Douglas Thompson, Matthew Detmer, Rachel Black, Susan Pellegrino, Amy Hargreaves, Ken Howard, Michael Countryman, Cynthia Mace, Sharon Washington, Jonathan Walker, Bill Raymond, Frank Wood, Jennifer Van Dyck, Austin Williams, Julie White, Denis O'Hare, Tom McCarthy, Brian Koppelman, Alberto Vazquez, Wai Chan, Danielle Skraastad, Sydney Pollack, Michael O'Keefe, Tilda Swinton, Tom Wilkinson, George Clooney, DIRECTOR -> Tony Gilroy)</td></tr><tr><td>tm84371</td><td>Shooter</td><td>2007</td><td>124</td><td>tt0822854</td><td>7.2</td><td>329417</td><td>['thriller', 'action', 'drama']</td><td>US</td><td>R</td><td>Map(ACTOR -> Brad Kelly, Jonathan Eusebio, Roberto Lombardi, Michael-Ann Connor, Zak Santiago, Lane Garrison, Ned Beatty, Alan C. Peterson, Rade Šerbedžija, Tate Donovan, Louis Ferreira, Jonathan Walker, Rhona Mitra, Elias Koteas, Kate Mara, Danny Glover, Michael Peña, Mark Wahlberg, DIRECTOR -> Antoine Fuqua)</td></tr><tr><td>tm856378</td><td>Don't Look Up</td><td>2021</td><td>138</td><td>tt11286314</td><td>7.2</td><td>498447</td><td>['scifi', 'drama', 'comedy']</td><td>US</td><td>R</td><td>Map(ACTOR -> Caroline Bergwall, Zach Holmes, Lewis D. Wheeler, André Silva, Chris Evans, Odis Spencer Jr., Dorothy Dwyer, Jon Glaser, Jeffrey Smith, Danielle Waxman, Darryl Wooten, Richard Snee, Sarah Silverman, Ashleigh Banfield, Meghan Leathers, Jody O'Neil, Omar Ghonim, Therese Plaehn, Ben Sidell, Patricia DeHaney, Georgia Lyman, Gary Tanguay, Natalie Rebenkoff, Aimee Doherty, Stephen Thorne, Annette Miller, Chris Everett, Mishka Yarovoy, Wendy Bellevue, Staci Roberts Steele, Jaden Onwuakor, Meara Mahoney-Gross, Samsara Yett, Liev Schreiber, Richard Donelly, Ross Partridge, Conor Sweeney, Robert Hurst Radochia, Rena Maliszewski, Barbara Douglass, Homa Sarabi Daunis, Lonnie Farmer, Rafael Silva, Hettienne Park, Shimali de Silva, Lance A. Williams, Ting Lik, Jack Alberts, Robert Joy, Paul Guilfoyle, Tomer Sisley, Michael Chiklis, Melanie Lynskey, Himesh Patel, Kid Cudi, Ariana Grande, Ron Perlman, Timothée Chalamet, Tyler Perry, Mark Rylance, Cate Blanchett, Jonah Hill, Rob Morgan, Meryl Streep, Leonardo DiCaprio, Jennifer Lawrence, DIRECTOR -> Adam McKay)</td></tr><tr><td>tm88738</td><td>Closer</td><td>2004</td><td>94</td><td>tt0376541</td><td>7.2</td><td>215678</td><td>['drama', 'romance']</td><td>GB</td><td>R</td><td>Map(ACTOR -> Jacqui-Lee Pryce, Robert Stone, Peter Rnic, Steve Morphew, Selena Mars, Michael Haley, Antony Gabriel, Rrenford Junior Fagan, Daniel Dresner, Ray Donn, Elizabeth Bower, Steve Benham, Nick Hobbs, Colin Stinton, Clive Owen, Natalie Portman, Jude Law, Julia Roberts, DIRECTOR -> Mike Nichols)</td></tr><tr><td>tm934040</td><td>American Murder: The Family Next Door</td><td>2020</td><td>83</td><td>tt12987894</td><td>7.2</td><td>26355</td><td>['crime', 'documentation']</td><td>US</td><td>R</td><td>Map(ACTOR -> Shanann Watts, Ronnie Watts, Cindy Watts, Chris Watts, Celeste Watts, Bella Watts, Sandi Rzucek, Frankie Rzucek, Frank Rzucek, Michael Rourke, Tom Mustin, Theresa Marchetta, Karen Leigh, Marcelo Kopcow, Nichol Kessinger, Mark Jamieson, Luke Epple, Jim Benemann, Nickole Atkinson, DIRECTOR -> Jenny Popplewell)</td></tr><tr><td>tm101609</td><td>Raajneeti</td><td>2010</td><td>167</td><td>tt1291465</td><td>7.1</td><td>17555</td><td>['drama', 'thriller', 'crime']</td><td>IN</td><td>PG</td><td>Map(ACTOR -> Daya Shankar Pandey, Kiran Karmarkar, Shruti Seth, Darshan Jariwala, Vinay Apte, Chetan Pandit, Sarah Thompson, Naseeruddin Shah, Nana Patekar, Arjun Rampal, Katrina Kaif, Manoj Bajpayee, Ranbir Kapoor, Ajay Devgn, DIRECTOR -> Prakash Jha)</td></tr><tr><td>tm103133</td><td>Karthik Calling Karthik</td><td>2010</td><td>135</td><td>tt1373156</td><td>7.1</td><td>11944</td><td>['thriller', 'drama', 'romance']</td><td>IN</td><td>PG</td><td>Map(ACTOR -> Shefali Shah, Suresh Tope, Yatin Karyekar, Vipin Sharma, Vivan Bhatena, Ram Kapoor, Deepika Padukone, Farhan Akhtar, DIRECTOR -> Vijay Lalwani)</td></tr><tr><td>tm1092864</td><td>The Unforgivable</td><td>2021</td><td>112</td><td>tt11233960</td><td>7.1</td><td>101975</td><td>['drama', 'crime']</td><td>DE</td><td>R</td><td>Map(ACTOR -> Janet Walmsley, Aaron Pearl, Art Kitching, Julie Tao, Flossie McKnight, Kelly-Ruth Mercier, Sarah Kelley, Cynthia Loewen, Simon Chin, Angela Moore, Michelle Choi-Lee, Joyanna Tonge, Carolyn Field, Bobbi Charlton, Toby Hargrave, Viv Leacock, William Belleau, Patti Kim, Donavon Stinson, Alistair Abell, Craig March, Paul Moniz de Sa, Jude Wilson, Orlando Lucas, W. Earl Brown, Andrew Francis, Rob Morgan, Jessica McLeod, Tom Guiry, Will Pullen, Emma Nelson, Aisling Franciosi, Linda Emond, Richard Thomas, Jon Bernthal, Vincent D'Onofrio, Viola Davis, Sandra Bullock, DIRECTOR -> Nora Fingscheidt)</td></tr><tr><td>tm109304</td><td>The Ring</td><td>2002</td><td>111</td><td>tt0298130</td><td>7.1</td><td>341888</td><td>['horror', 'european']</td><td>JP</td><td>PG-13</td><td>Map(ACTOR -> Chuck Hicks, Gary Carlos Cervantes, David Povall, Maura McNamara, Catherine Paolone, Coleen Maloney, Aixa Clemente, Joe Sabatino, Lindsey Stoddart, Ronald William Lawrence, Keith Campbell, Sara Rue, Billy Lloyd, Art Frankel, Michael Spound, Joanna Lin Black, Stephanie Erb, Joe Chrest, Pauley Perrette, Alan Blumenfeld, Adam Brody, Tess Hall, Sasha Barrese, Richard Lineback, Sandra Thigpen, Shannon Cochran, Daveigh Chase, Rachael Bella, Amber Tamblyn, Lindsay Frost, Jane Alexander, Brian Cox, David Dorfman, Martin Henderson, Naomi Watts, DIRECTOR -> Gore Verbinski)</td></tr><tr><td>tm120108</td><td>Kung Fu Panda 3</td><td>2016</td><td>95</td><td>tt2267968</td><td>7.1</td><td>152791</td><td>['comedy', 'animation', 'action', 'family', 'fantasy', 'drama']</td><td>US</td><td>PG</td><td>Map(ACTOR -> Mike Mitchell, Gus Culligan, Lena Golia, Joseph Izzo, Lindsey Russell, Radzi Chinyanganya, Jean-Claude Van Damme, Shiloh Jolie-Pitt, Zahara Jolie-Pitt, Knox Jolie-Pitt, April Hong, Ming Tsai, Mick Wingert, Stephen Kearin, Kelly Cooney, Pax Jolie-Pitt, Fred Tatasciore, Willie Geist, Al Roker, Barbara Dirickson, Wayne Knight, Liam Knight, Steele Gagnon, Randall Duk Kim, James Hong, Kate Hudson, David Cross, Lucy Liu, Seth Rogen, Jackie Chan, J.K. Simmons, Angelina Jolie, Dustin Hoffman, Bryan Cranston, Jack Black, DIRECTOR -> Alessandro Carloni, Jennifer Yuh Nelson)</td></tr><tr><td>tm129971</td><td>Luck by Chance</td><td>2009</td><td>155</td><td>tt0886539</td><td>7.1</td><td>10206</td><td>['romance', 'drama']</td><td>IN</td><td>null</td><td>Map(ACTOR -> Arjun Mathur, Abdul Quadir Amin, Javed Akhtar, Manish Acharya, Ronit Roy, Rajkumar Hirani, Mac Mohan, Manish Malhotra, Shabana Azmi, Mushtaq Sheikh, Anurag Kashyap, Dia Mirza, Rani Mukerji, Kareena Kapoor Khan, Vivek Oberoi, Akshaye Khanna, Ranbir Kapoor, Karan Johar, John Abraham, Abhishek Bachchan, Shah Rukh Khan, Aamir Khan, Mohsin Akhtar, Boman Irani, Alyy Khan, Saurabh Shukla, Isha Sharvani, Sanjay Kapoor, Juhi Chawla, Dimple Kapadia, Rishi Kapoor, Hrithik Roshan, Konkona Sen Sharma, Farhan Akhtar, DIRECTOR -> Zoya Akhtar)</td></tr><tr><td>tm136465</td><td>Tangerine</td><td>2015</td><td>87</td><td>tt3824458</td><td>7.1</td><td>31385</td><td>['comedy', 'drama', 'crime']</td><td>US</td><td>R</td><td>Map(ACTOR -> Chris Bergoch, Graham Mackie, John Gulager, Jason Stuart, Chelcie Lynn, Ana Foxxx, Josh Sussman, Shih-Ching Tsou, Clu Gulager, Scott Krinsky, Ian Edwards, Arsen Grigoryan, Luiza Nersisyan, Alla Tumanian, James Ransone, Mickey O'Hagen, Karren Karagulian, Mya Taylor, Kitana Kiki Rodriguez, DIRECTOR -> Sean Baker)</td></tr><tr><td>tm161562</td><td>Copenhagen</td><td>2014</td><td>98</td><td>tt2459156</td><td>7.1</td><td>13135</td><td>['drama', 'romance']</td><td>US</td><td>null</td><td>Map(ACTOR -> Sebastian Bull Sarning, Preben Ravn, Zaki Nobel Mehabil, Asbjørn Krogh Nissen, Hélène Kuhn, Gordon Kennedy, Silja Eriksen Jensen, Martin Hestbæk, Mille Dinesen, Tamzin Merchant, Baard Owe, Olivia Grant, Sebastian Armesto, Frederikke Dahl Hansen, Gethin Anthony, DIRECTOR -> Mark Raso)</td></tr><tr><td>tm170442</td><td>Margin Call</td><td>2011</td><td>107</td><td>tt1615147</td><td>7.1</td><td>125883</td><td>['thriller', 'drama']</td><td>US</td><td>R</td><td>Map(ACTOR -> Grace Gummer, Peter Y. Kim, Al Sapienza, Jimmy Palumbo, Maria Dizzia, Susan Blackwell, Aasif Mandvi, Stanley Tucci, Mary McDonnell, Jeremy Irons, Penn Badgley, Demi Moore, Ashley Williams, Paul Bettany, Simon Baker, Zachary Quinto, Kevin Spacey, DIRECTOR -> J.C. Chandor)</td></tr><tr><td>tm171228</td><td>Metallica: Through the Never</td><td>2013</td><td>93</td><td>tt2172935</td><td>7.1</td><td>17433</td><td>['music']</td><td>US</td><td>R</td><td>Map(DIRECTOR -> Nimród Antal, ACTOR -> Robert Trujillo, Toby Hargrave, Kirk Hammett, Lars Ulrich, James Hetfield, Mackenzie Gray, Dane DeHaan)</td></tr><tr><td>tm174683</td><td>Arthur Christmas</td><td>2011</td><td>97</td><td>tt1430607</td><td>7.1</td><td>58296</td><td>['drama', 'animation', 'family', 'comedy', 'fantasy']</td><td>GB</td><td>PG</td><td>Map(ACTOR -> Alistair McGowan, Tamsin Greig, Kerry Shale, Julia Davis, Ian Ashpitel, David Schneider, Deborah Findlay, Jerry Lambert, Donnie Long, Clint Dyer, Rich Hall, Finlay Duff, Ryan Patrick Donahoe, Adam Tandy, Sarah Smith, Alan Short, Kris Pearn, Stewart Lee, Emma Kennedy, Danny John-Jules, Pete Jack, Bronagh Gallagher, Rich Fulcher, Kevin Eldon, Kevin Cecil, Cody Cameron, Peter Baynham, Dominic West, Andy Serkis, Iain McKee, Jane Horrocks, Rhys Darby, Joan Cusack, Robbie Coltrane, Sanjeev Bhaskar, Michael Palin, Ramona Marquez, Eva Longoria, Laura Linney, Marc Wootton, Ashley Jensen, Imelda Staunton, Jim Broadbent, Bill Nighy, Hugh Laurie, James McAvoy, DIRECTOR -> Sarah Smith)</td></tr><tr><td>tm177645</td><td>Wedding Association</td><td>2013</td><td>106</td><td>tt3726104</td><td>7.1</td><td>22186</td><td>['comedy']</td><td>XX</td><td>PG-13</td><td>Map(ACTOR -> Bayram Önal, Zeynel Ozan Çabuk, Ayhan Yildiz, Kadir Yazici, Erol Yavan, Vedat Uyar, Ahmet Ugurluer, Nazlı Tosunoğlu, Zehra Tosun, Özgür Marius Toma, Kebire Tokur, Olgun Toker, Feramuz Tanriverdi, Muhammet Süt, Juris Strenga, Burak Satibol, Cemil Şahin, Berat Efe Parlar, Semih Olgunöz, Tom J. Benedict, Rihards Lepers, Yeliz Kuvancı, Tuğçe Kurşunoğlu, Binnur Kaya, Adem Kaya, Murat Karakoç, Ali Kabalak, Korhan Herduran, Cafer S. Hadimioglu, Sait Gür, Ertugrul Gültekin, Muhammet Burak Erdogan, Ezgi Duman, Lelde Dreimane, Açalya Samyeli Danoglu, Osman Cemcir, Jelena Božić, Ender Balkir, Selçuk Aydemir, Toygun Ateş, Adem Atbas, Basri Albayrak, Ahmet Akyavuz, Arda Aktolga, Emel Sayın, Reyhan İlhan, Kemal İnci, Sırrı Süreyya Önder, Erol Aksoy, Zerrin Sümer, Şinasi Yurtsever, İnan Ulaş Torun, Barış Yıldız, Devrim Yakut, Rasim Öztekin, Murat Cemcir, Ahmet Kural, DIRECTOR -> Selçuk Aydemir)</td></tr><tr><td>tm181081</td><td>The Railway Man</td><td>2013</td><td>116</td><td>tt2058107</td><td>7.1</td><td>39743</td><td>['drama', 'european', 'war', 'romance']</td><td>GB</td><td>R</td><td>Map(ACTOR -> Kate Rutter, Charlie Ruedpokanon, Marta Dusseldorp, Byron J. Brochmann, Therese Bradley, Sarah McVicar, Jack McTaggart, Shinji Ikefuji, Ewen Leslie, Masa Yamaguchi, Keiichi Enomoto, Yasuhiko Miyauchi, Ben Warren, Shogo Tanikawa, Peter Tuinstra, Shoota Tanahshi, Micheal Doonan, Louis Toshio Okada, Yutaka Izumihara, Ben Aldridge, Keith Fleming, Takato Kitamoto, Akos Armont, Sam Reid, Tom Hobbs, Bryan Probets, Tom Stokes, Jeffrey Daunton, Michael MacKenzie, Tanroh Ishida, Hiroyuki Sanada, Jeremy Irvine, Stellan Skarsgård, Nicole Kidman, Colin Firth, DIRECTOR -> Jonathan Teplitzky)</td></tr><tr><td>tm183037</td><td>Don 2</td><td>2011</td><td>139</td><td>tt1285241</td><td>7.1</td><td>52338</td><td>['action', 'thriller', 'crime', 'european']</td><td>DE</td><td>null</td><td>Map(ACTOR -> Alyy Khan, Adi Putra, Rike Schmid, Klaus Schindler, Martin Goeres, Christian Goebel, Florian Fitz, Florian Lukas, Hrithik Roshan, Nawab Shah, Om Puri, Kunal Kapoor, Lara Dutta, Boman Irani, Priyanka Chopra Jonas, Shah Rukh Khan, DIRECTOR -> Farhan Akhtar)</td></tr><tr><td>tm191772</td><td>Seven Years in Tibet</td><td>1997</td><td>136</td><td>tt0120102</td><td>7.1</td><td>141308</td><td>['drama', 'history', 'war']</td><td>US</td><td>PG-13</td><td>Map(ACTOR -> Zongra Tulku Rinpoche, Sharpa Tulku Rinpoche, Tenzin Gyaltsen Rinpoche, Lobsang Gendun Rinpoche, Philipp Kriechbaum, Sebastian Zevalia, Lama Thupten Nugdup, Lama Jampa Lekshe, Choeden Tsering, Ngawang Tenzingyatso, Karma Apo-Tsang, Pemba Norbu Sherpa, Lama Champa Chandu, Geshe Yeshi Tsultrim, Geshe Lobsang Nyma, Lama Champa Tsondu, Sonam Bidhartsang, Kalsang Dhundop Lungtok, Yama Ngudup Cheshatsang, Tsering Wangdue, Angphurba Sherpa, Tenzin Jangchub, Chemchok, Samdup Dhargyal, Wolfgang Tonninger, Tom Raudaschl, Benedick Blythe, Ngawang Chojor, Ric Young, Sonam Wangchuk, Ama Ashe Dongtse, Jetsun Pema, Victor Wong, Danny Denzongpa, Duncan Fraser, Ingeborga Dapkūnaitė, Lhakpa Tsamchoe, Mako, BD Wong, David Thewlis, Jamyang Jamtsho Wangchuk, Brad Pitt, DIRECTOR -> Jean-Jacques Annaud)</td></tr><tr><td>tm199700</td><td>The Danish Girl</td><td>2015</td><td>119</td><td>tt0810819</td><td>7.1</td><td>180805</td><td>['drama', 'romance', 'european']</td><td>DE</td><td>R</td><td>Map(ACTOR -> Philip Arditti, Erich Redman, Rebecca Clay, Maya Lindh, Eleanor Hafner, Holly Weston, Aisha Fabienne Ross, Issy van Randwyck, Rebecca Root, Cosima Shaw, Alexander Devrient, Raphael Acloque, Victoria Emslie, Clare Fettarappa, Sonya Cullingford, Nicola Sloane, Nancy Crane, Paul Bigley, Richard Dixon, Pixie, Angela Curran, Peter Krag, Claus Bue, Tusse Silberg, Jake Graf, Miltos Yerolemou, Sophie Kennedy Clark, Henry Pettigrew, Adrian Schiller, Emerald Fennell, Amber Heard, Nicholas Woodeson, Pip Torrens, Sebastian Koch, Ben Whishaw, Matthias Schoenaerts, Alicia Vikander, Eddie Redmayne, DIRECTOR -> Tom Hooper)</td></tr><tr><td>tm204163</td><td>War Dogs</td><td>2016</td><td>114</td><td>tt2005151</td><td>7.1</td><td>208185</td><td>['crime', 'drama', 'comedy', 'war']</td><td>US</td><td>R</td><td>Map(ACTOR -> Christopher Cho, Jonathan Yaskoff, André B. Walker, Maegan Vogel, Zachary Vazquez, Courtney Hope Turner, Alan Trujillo, Holly Traister, Rene Toledo, Jeffry Tamara, Leland Smith, Eric Shackelford, Hassan Said, Efren John Rowan, Mark Roman, Daniel E. Rodriguez, Brittney Rae, Lisa Nygard-Pugh, Ryan Morgan, Roman Mitichyan, Chiko Mendez, Andrei Mateiu, Rob Marchitti, Tracy Lee, David W. LeBlanc, Steven Krasner, Brenda Koo, Trevor Keveloh, Frederick Keeve, Gregory Kasyan, Michaelanthony Jeffers, Avo Jabourian, Sidmar Holloman, Phillip Allen Hall III, Nicole Ilene Greensher, Jasmine Golden, Adam E. Ginsberg, Robert J. Fox, Ely Feldman, Marquest Douglass, Maxwell Acee Donovan, Lucas Di Medio, Christopher De Stefano, Ellen Marguerite Cullivan, Tom Crisp, Xavier Cortes, Bryan Chesters, Nicole Chauvet, Gina Beatriz Castro, Santos Caraballo, Brian Blu, Maria F. Blanco, Jimmy Badstibner, Vincent Teixeira, Lita Lopez, Caroline Lowe, Liliana Cristina Circei, Bogdan Albulescu, Petre Marin, Alin Georgiou Popa, Benny Figgins, Ben Wise, Ira Kay, Richard Coley, Roy Jenkins, Wallace Langham, Stoney Westmoreland, Randy Jay Burrell, Bahram Khosraviani, Mohammed Omari, Mansour Badri, Mosa Omari, Tucker Merrick, Alisa Allapach, Ali Chen, Dan Bilzerian, Gabriela Alvarez, Bethuel Fletcher, Daimion Johnson, Edson Jean, Eddie Jemison, Gregg Weiner, Steve Lantz, Daniel Berson, Max Daniels, Ashli Haynes, Aaron Lustig, Mehdi Merali, Ashley Spillers, Said Faraj, Jeff Pierre, Barry Livingston, Jeremy Tardy, Andrei Finți, Julian Sergi, Gabriel Spahiu, J. B. Blanc, Shaun Toub, Patrick St. Esprit, Kevin Pollak, Bradley Cooper, Ana de Armas, Jonah Hill, Miles Teller, DIRECTOR -> Todd Phillips)</td></tr><tr><td>tm22540</td><td>Phir Hera Pheri</td><td>2006</td><td>155</td><td>tt0419058</td><td>7.1</td><td>22505</td><td>['comedy', 'crime']</td><td>IN</td><td>null</td><td>Map(ACTOR -> Javed Khan, Kiku Sharda, Dia Mirza, Nana Patekar, Dinesh Hingoo, Suresh Menon, Sharat Saxena, Rajpal Yadav, Manoj Joshi, Johnny Lever, Rimi Sen, Bipasha Basu, Paresh Rawal, Suniel Shetty, Akshay Kumar, DIRECTOR -> Neeraj Vora)</td></tr><tr><td>tm22636</td><td>Trailer Park Boys: The Movie</td><td>2006</td><td>95</td><td>tt0425601</td><td>7.1</td><td>12831</td><td>['comedy', 'crime']</td><td>CA</td><td>R</td><td>Map(ACTOR -> Nichole Hiltz, Patrick Roach, Hugh Dillon, Barrie Dunn, Eugene A. Clark, Glen Grant, Gerry Dee, Alex Lifeson, Gord Downie, Michael Jackson, Cory Bowles, Lydia Lawson-Baird, Sarah Dunsworth, Lucy Decoutere, Patrick Roach, John Dunsworth, Mike Smith, John Paul Tremblay, Robb Wells, DIRECTOR -> Mike Clattenburg)</td></tr><tr><td>tm245271</td><td>Gantz:O</td><td>2016</td><td>95</td><td>tt5923962</td><td>7.1</td><td>14501</td><td>['animation', 'scifi', 'action', 'drama', 'fantasy', 'thriller', 'horror']</td><td>JP</td><td>NC-17</td><td>Map(ACTOR -> Masane Tsukayama, Tomohiro Kaku, Teruaki Ogawa, Shuuichi Ikeda, Kenjiro Tsuda, Masaya Onosaka, Mao Ichimichi, Saori Hayami, Daisuke Ono, Yuki Kaji, DIRECTOR -> Yasushi Kawamura, Keiichi Sato)</td></tr><tr><td>tm30170</td><td>Don</td><td>2006</td><td>178</td><td>tt0461936</td><td>7.1</td><td>36836</td><td>['thriller', 'crime', 'action', 'european']</td><td>IN</td><td>PG-13</td><td>Map(ACTOR -> Pavan Malhotra, Chunky Pandey, Sushma Reddy, Tanay Chheda, Kareena Kapoor Khan, Rajesh Khattar, Diwakar Pundir, Om Puri, Boman Irani, Isha Koppikar, Arjun Rampal, Priyanka Chopra Jonas, Shah Rukh Khan, DIRECTOR -> Farhan Akhtar)</td></tr><tr><td>tm33545</td><td>Forgetting Sarah Marshall</td><td>2008</td><td>111</td><td>tt0800039</td><td>7.1</td><td>280121</td><td>['comedy', 'drama', 'romance']</td><td>US</td><td>R</td><td>Map(ACTOR -> Jesse Heiman, Peter Salett, Michael Oosterom, Carla Alapont, Max Alexander, Cynthia Lamontagne, Carla Gallo, Tanisha Harper, Ahna O'Reilly, June Diane Raphael, Kirk Fox, Trula M. Marcus, Peter Lewis, Billy Bush, Branscombe Richmond, Francesca Delbanco, Kala Alexander, Taylor Wily, Murray Miller, Kalani Robb, Steve Landesberg, Da'Vone McDonald, Kristen Wiig, William Baldwin, Jason Bateman, Paul Rudd, Maria Thayer, Jack McBrayer, Liz Cackowski, Jonah Hill, Bill Hader, Russell Brand, Mila Kunis, Kristen Bell, Jason Segel, DIRECTOR -> Nicholas Stoller)</td></tr><tr><td>tm36188</td><td>Body of Lies</td><td>2008</td><td>128</td><td>tt0758774</td><td>7.1</td><td>224896</td><td>['drama', 'action', 'thriller']</td><td>GB</td><td>R</td><td>Map(ACTOR -> Aaron lee Wright, Jameel Khoury, Michael Stuhlbarg, Xanthe Elbrick, Annabelle Wallis, Giannina Facio, Clara Khoury, Ghali Benlafkih, Lubna Azabal, Kais Nashif, Vince Colosimo, Alon Aboutboul, Oscar Isaac, Golshifteh Farahani, Mehdi Nebbou, Michael Gaston, Simon McBurney, Ali Suliman, Mark Strong, Russell Crowe, Leonardo DiCaprio, DIRECTOR -> Ridley Scott)</td></tr><tr><td>tm368699</td><td>The Devil All the Time</td><td>2020</td><td>138</td><td>tt8956406</td><td>7.1</td><td>122321</td><td>['drama', 'thriller', 'crime', 'horror']</td><td>US</td><td>R</td><td>Map(ACTOR -> Andrew Young, Jason Charles Hill, Jeff McKinney, Morgan Monroe, Matt Powell, Katie Flaherty, Leslie Sides, Rebecca Douglas, Myles Phillips, Kacey Hayes, Beth Scott, Ben Bailey, Meagan Bown, Emily Towles, Kyle Sawyer, Lawrence Hinkle, Scott Rapp, James H. Keating, Shannon Frye, Sarah Hamff, Kevin Waterman, Phillip DeVona, John Rue, Santino Fontana, Jeff McCarthy, Edward Hall, Daniel James Vaughn, Bruce Cooper, Cort Chandler, Michael H. Cole, Teddy Cole, Eric Mendenhall, Jason Collett, Madelyn Wall, Cody Jones, Emma Coulter, Cory Scott Allen, Given Sharp, Ever Eloise Landrum, Caleb J. Thaggard, Drew Starkey, Zack Shires, Ivan Hoey Jr., Karson Kern, Morganna Bridgers, Adam Fristoe, Cotton Yancey, Kelly Lind, Abby Glover, Lucy Faust, Michael Harding, Todd Barnett, Wes Robinson, Ryan Anthony Williams, Mark Jeffrey Miller, David Maldonado, Gregory Kelly, Billy Joe Bradshaw, Matthew Vaughn, David Atkinson, Emilio Subercaseaux Campos, Michael Banks Repeta, Donald Ray Pollock, Pokey LaFarge, Kristin Griffith, Douglas Hodge, Mia Wasikowska, Eliza Scanlen, Harry Melling, Robert Pattinson, Haley Bennett, Sebastian Stan, Jason Clarke, Riley Keough, Bill Skarsgård, Tom Holland, DIRECTOR -> Antonio Campos)</td></tr><tr><td>tm407827</td><td>Girl</td><td>2018</td><td>105</td><td>tt8254556</td><td>7.1</td><td>14046</td><td>['drama', 'european']</td><td>NL</td><td>R</td><td>Map(ACTOR -> Pieter Piron, Annelies Moens, Sophie Huygens, Naomi Velissariou, Rilke Eyckermans, William Banu, Anthime Breyne, Ingrid Heiderscheidt, Steve Driesen, Alexia Depicker, Hélène Theunissen, Els Olaerts, Daniel Nicodème, Virginia Hendricksen, Marie-Louise Wilderijckx, Angelo Tijssens, Alain Honorez, Alice de Broqueville, Magali Elali, Valentijn Dhaenens, Katelijne Damen, Nele Hardiman, Chris Thys, Tijmen Govaerts, Oliver Bodart, Arieh Worthalter, Victor Polster, DIRECTOR -> Lukas Dhont)</td></tr><tr><td>tm410435</td><td>To All the Boys I've Loved Before</td><td>2018</td><td>100</td><td>tt3846674</td><td>7.1</td><td>101175</td><td>['romance', 'comedy', 'drama']</td><td>US</td><td>PG-13</td><td>Map(ACTOR -> Yael Yurman, Cameron Crosby, Jeb Beach, Pavel Piddocke, Rhys Fleming, Christian Michael Cooper, Hunter Dillon, Isabelle Beech, June B. Wilde, Jordan Burtchett, Edward Kewin, Joey Pacheco, Julia Benson, Kelcey Mawema, John Corbett, Israel Broussard, Madeleine Arthur, Emilija Baranac, Trezzo Mahoro, Andrew Bachelor, Anna Cathcart, Janel Parrish, Noah Centineo, Lana Condor, DIRECTOR -> Susan Johnson)</td></tr><tr><td>tm446609</td><td>The Great Hack</td><td>2019</td><td>114</td><td>tt9358204</td><td>7.1</td><td>22838</td><td>['documentation', 'history']</td><td>US</td><td>null</td><td>Map(ACTOR -> Muneeb Ibni Usuf, Nigel Farage, Hillary Clinton, Ted Cruz, Donald Trump, Mark Zuckerberg, Steve Bannon, Alexander Nix, Roger McNamee, Sarah Donaldson, Gill Phillips, Emma Graham-Harrison, Paul Hilder, Christopher Wiley, Carole Cadwalladr, Julian Wheatland, Ravi Naik, Paul-Olivier Dehaye, David Carroll, Brittany Kaiser, DIRECTOR -> Jehane Noujaim, Karim Amer)</td></tr><tr><td>tm448767</td><td>Knock Down the House</td><td>2019</td><td>86</td><td>tt9358052</td><td>7.1</td><td>12418</td><td>['documentation']</td><td>US</td><td>PG</td><td>Map(ACTOR -> Ilhan Omar, Nancy Pelosi, Joe Crowley, Amy Vilela, Paula Jean Swearingen, Cori Bush, Alexandria Ocasio-Cortez, DIRECTOR -> Rachel Lears)</td></tr><tr><td>tm449070</td><td>Black Mirror: Bandersnatch</td><td>2018</td><td>90</td><td>tt9495224</td><td>7.1</td><td>123377</td><td>['scifi', 'thriller', 'fantasy', 'drama']</td><td>GB</td><td>R</td><td>Map(ACTOR -> Rochenda Sandall, Jeff Minter, Suzanne Burden, Laura Evelyn, Fleur Keith, A.J. Houghton, Jonathan Aris, Paul Bradley, Catriona Knox, Alan Asaad, Tallulah Haddon, Asim Chaudhry, Will Poulter, Alice Lowe, Craig Parkinson, Fionn Whitehead, DIRECTOR -> David Slade)</td></tr><tr><td>tm453862</td><td>The Call</td><td>2020</td><td>112</td><td>tt10530176</td><td>7.1</td><td>29450</td><td>['thriller', 'scifi', 'drama', 'crime', 'horror']</td><td>KR</td><td>null</td><td>Map(ACTOR -> Park Hyoung-soo, Lee Joo-young, Song Yo-sep, Ryu Kyung-soo, Moon Chang-gil, Kim Min-ha, Jo Kyung-sook, Um Chae-young, Lee Dong-hwi, Oh Jung-se, Park Ho-san, Lee El, Kim Sung-ryung, Jeon Jong-seo, Park Shin-hye, DIRECTOR -> Lee Chung-hyun)</td></tr><tr><td>tm455568</td><td>Paddleton</td><td>2019</td><td>89</td><td>tt8041276</td><td>7.1</td><td>13419</td><td>['drama', 'comedy']</td><td>US</td><td>R</td><td>Map(ACTOR -> Matt Bush, Marguerite Moreau, Jack McGraw, Carlos A. Salazar, Lynnann Gartner, Holly Griswold, Dendrie Taylor, Kadeem Hardison, Alexandra Billings, Sam Ly, Hiroo Minami, Lu Junchang, Alana Carithers, Sierra Fisk, Harry Dej, Bjorn Johnson, Stephen Oyoung, Jen Sung, Christine Woods, Ray Romano, Mark Duplass, DIRECTOR -> Alexandre Lehmann)</td></tr><tr><td>tm55553</td><td>Blade</td><td>1998</td><td>120</td><td>tt0120611</td><td>7.1</td><td>267181</td><td>['action', 'scifi', 'horror']</td><td>US</td><td>R</td><td>Map(ACTOR -> Al Goto, Will Leong, Steven Ho, Ted King, Beth Theriac, Carrie Seeley, Frankie Ray, Gerald Okamura, Stephen Norrington, Elliott James, Jeff Imada, Ryan Glorioso, Nikki DiSanto, Richard 'Dr.' Baily, Levani, Jenya Lano, Irena Stepić, Yvette Ocampo, Lennox Brown, Matt Schulze, Erl Van Douglas, Esau McKnight Jr., Marcus Salgado, D.V. DeVincentis, Freeman White, Lyle Conway, Eboni 'Chrystal' Adams, John Enos III, Marcus Aurelius, Stephen R. Peluso, Andray Johnson, Keith Leon Williams, Sidney S. Liufau, Judson Scott, Clint Curtis, Kenny Johnson, Shannon Lee, Carmen Thomas, Donna Wong, Eric Edwards, Sanaa Lathan, Tim Guinee, Kevin Patrick Walls, Traci Lords, Arly Jover, Udo Kier, Donal Logue, N'Bushe Wright, Kris Kristofferson, Stephen Dorff, Wesley Snipes, DIRECTOR -> Stephen Norrington)</td></tr><tr><td>tm78790</td><td>Namastey London</td><td>2007</td><td>131</td><td>tt0795434</td><td>7.1</td><td>21745</td><td>['comedy', 'drama', 'romance']</td><td>IN</td><td>PG</td><td>Map(ACTOR -> Vir Das, Shaana Diya, Nina Wadia, Ritesh Deshmukh, Tiffany Mulheron, Javed Sheikh, Upen Patel, Clive Standen, Rishi Kapoor, Katrina Kaif, Akshay Kumar, DIRECTOR -> Vipul Amrutlal Shah)</td></tr><tr><td>tm818266</td><td>The Forgotten Battle</td><td>2020</td><td>124</td><td>tt10521092</td><td>7.1</td><td>26368</td><td>['drama', 'war', 'history', 'documentation', 'european']</td><td>LT</td><td>null</td><td>Map(ACTOR -> Margarita Žiemelytė, Diana Valiušaitienė, Vincent Linthorst, Astrid van Eck, Maximilian Jaenisch, Maximilian Beck, Ilja Roßbander, Vito Sack, Jelmer Ouwerkerk, Marius Mensink, Karl Heortweard, Bart Harder, Jan Fassbender, Frederik Bott, Arnas Sliesoraitis, Dylan Smith, Joseph Hazell, Mathijs Scheepers, Simon Lee Phillips, Marcus Coenen, Jakob Diehl, Stephan Schäfer, Laimutis Sėdžius, Richard Dillane, Adomas Stančikas, Jan Andreesen, Lutz Schleisner, Gordon Morris, Rogier Schippers, Pit Bukowski, Lewis Conway, Ariane van Vliet, Koen De Sutter, Owen Kaat, Bianca Krijgsman, Rutger de Bekker, Sytse Faber, Vincent van den Berg, Joep Paddenburg, Hajo Bruins, Mark van Eeuwen, Justus von Dohnányi, Ronald Kalter, Coen Bril, Tom Felton, Robert Naylor, Scott Reid, Marthe Schneider, Jan Bijvoet, Theo Barklem-Biggs, Susan Radder, Jamie Flatters, Gijs Blom, DIRECTOR -> Matthijs van Heijningen Jr.)</td></tr><tr><td>tm84316</td><td>Shootout at Lokhandwala</td><td>2007</td><td>145</td><td>tt0811066</td><td>7.1</td><td>10139</td><td>['crime', 'action', 'history']</td><td>IN</td><td>PG-13</td><td>Map(ACTOR -> Abhishek Bachchan, Amitabh Bachchan, Rakhi Sawant, Shri Vallabh Vyas, Amrita Singh, Aarti Chabria, Akhilendra Mishra, Ravi Gossain, Neha Dhupia, Aditya Lakhia, Dia Mirza, Shabbir Ahluwalia, Rohit Roy, Arbaaz Khan, Tusshar Kapoor, Suniel Shetty, Sanjay Dutt, Vivek Oberoi, DIRECTOR -> Apoorva Lakhia)</td></tr><tr><td>tm9323</td><td>Desperado</td><td>1995</td><td>104</td><td>tt0112851</td><td>7.1</td><td>183638</td><td>['thriller', 'action', 'crime', 'western', 'european']</td><td>US</td><td>R</td><td>Map(ACTOR -> Julio Oscar Mechoso, Mark Dalton, Elizabeth Rodriguez, Patricia Vonne, Tommy Nix, Richie Gaona, Cristos, Jaime de Hoyos, Consuelo Gómez, Peter Marquardt, Gerardo Moscoso, Robert Arevalo, Mike Moroff, Angela Lanza, David Alvarado, Albert Michel Jr., Carlos Gallardo, Abraham Verduzco, Danny Trejo, Angel Aviles, Tito Larriva, Quentin Tarantino, Carlos Gómez, Cheech Marin, Steve Buscemi, Joaquim de Almeida, Salma Hayek, Antonio Banderas, DIRECTOR -> Robert Rodriguez)</td></tr><tr><td>tm94606</td><td>Let Me In</td><td>2010</td><td>116</td><td>tt1228987</td><td>7.1</td><td>120208</td><td>['horror', 'drama', 'fantasy', 'thriller', 'european']</td><td>GB</td><td>R</td><td>Map(ACTOR -> Rachel Hroncich, Deborah L. Mazor, Dean Satriano, Galen Hutchison, Brenda Wehle, Rowbie Orsatti, Colin Moretz, Brett DelBuono, Gwendolyn Apple, Ashton Moio, Rebekah Wiggins, Chris Browning, Cara Buono, Ritchie Coster, Seth Adkins, Nicolai Dorian, Jimmy 'Jax' Pinchak, Dylan Minnette, Dylan Kenin, Sasha Barrese, Elias Koteas, Richard Jenkins, Chloë Grace Moretz, Kodi Smit-McPhee, DIRECTOR -> Matt Reeves)</td></tr><tr><td>tm949309</td><td>The White Tiger</td><td>2021</td><td>125</td><td>tt6571548</td><td>7.1</td><td>58190</td><td>['drama', 'crime']</td><td>IN</td><td>R</td><td>Map(ACTOR -> Sanket Shanware, Harshit Mahawar, Ram Naresh Diwakar, Solanki Diwakar, Abhishek Khandekar, Vedant Sinha, Aaron Wan, Nalneesh Neel, Mahesh Pillai, Vijay Maurya, Mahesh Manjrekar, Priyanka Chopra Jonas, Rajkummar Rao, Adarsh Gourav, DIRECTOR -> Ramin Bahrani)</td></tr><tr><td>tm992844</td><td>The Dig</td><td>2021</td><td>112</td><td>tt3661210</td><td>7.1</td><td>71915</td><td>['drama', 'history']</td><td>GB</td><td>PG-13</td><td>Map(ACTOR -> Amelia Stephenson, Arsher Ali, John Macmillan, Jack Bennett, Jonah Rzeskiewicz, Des Kaliszewski, Bronwyn James, Ellie Piercy, Christopher Godwin, Joe Hurst, James Dryden, Robert Wilfort, Danny Webb, Stephen Worrall, Peter McDonald, Paul Ready, Eamon Farren, Monica Dolan, Archie Barnes, Ken Stott, Ben Chaplin, Johnny Flynn, Lily James, Ralph Fiennes, Carey Mulligan, DIRECTOR -> Simon Stone)</td></tr><tr><td>tm1029256</td><td>Ferry</td><td>2021</td><td>106</td><td>tt14217100</td><td>7.0</td><td>10748</td><td>['drama', 'thriller', 'action', 'crime']</td><td>NL</td><td>null</td><td>Map(ACTOR -> Tim Haars, Huub Smit, Marius Mensink, Benny Claessens, Ergun Simsek, Bram Blankestijn, Mike Weerts, Juliette van Ardenne, Bob Stoop, Adison dos Reis, Olaf Ait Tami, Tim Linde, Yannick van de Velde, Maarten Heijmans, Raymond Thiry, Monic Hendrickx, Huub Stapel, Elise Schaap, Frank Lammers, DIRECTOR -> Cecilia Verheyden)</td></tr><tr><td>tm106462</td><td>Happy Gilmore</td><td>1996</td><td>92</td><td>tt0116483</td><td>7.0</td><td>217534</td><td>['comedy', 'sport']</td><td>US</td><td>PG-13</td><td>Map(ACTOR -> Jessica Gunn, Ben Stiller, Ian Boothby, Ellie Harvie, Dee Jay Jackson, Will Sasso, Helena Yea, Carl Weathers, Ken Camroux-Taylor, Jared Van Snellenberg, Verne Lundquist, Kevin Nealon, Lee Trevino, Joe Flaherty, Dennis Dugan, Richard Kiel, Bob Barker, Robert Smigel, Allen Covert, Frances Bay, Julie Bowen, Christopher McDonald, Adam Sandler, DIRECTOR -> Dennis Dugan)</td></tr><tr><td>tm118637</td><td>John Q</td><td>2002</td><td>116</td><td>tt0251160</td><td>7.0</td><td>131999</td><td>['drama', 'thriller', 'crime']</td><td>US</td><td>PG-13</td><td>Map(ACTOR -> Gerry Quigley, Philip Craig, Claire Rankin, Bill Maher, Nas, Ted Demme, Arianna Huffington, Larry King, Gloria Allred, Jay Leno, Malcolm Nefsky, Andrew Schaff, Vijay Mehta, Marcia Johnson, Angelo Tsarouchas, Colin Evans, Frank Cassavetes, Nigel Shawn Williams, Philip Williams, Keram Malicki-Sánchez, Jeff Douglas, Simon Sinn, Joe Duer, Carlos Diaz, Dina Spybey-Waters, Scott Bloom, Rick Sood, Kirsta Teague, Shera Danese, Darrin Brown, Allegra Fulton, Noam Jenkins, Lester Mathews, Linda Massad, Yanna McIntosh, Michael Jaye, James Finnerty, Stephanie Moore, Vanessa Branch, Larissa Laskin, Barry G. King, Gabriela Oltean, Martha Chaves, Troy Winbush, Troy Byer, Obba Babatundé, Paul Johansson, Heather Wahlquist, Laura Harring, David Thornton, Daniel E. Smith, Anne Heche, Ray Liotta, Ethan Suplee, Kevin Connolly, Eddie Griffin, Shawn Hatosy, Robert Duvall, Kimberly Elise, James Woods, Denzel Washington, DIRECTOR -> Nick Cassavetes)</td></tr><tr><td>tm131038</td><td>Public Enemies</td><td>2009</td><td>143</td><td>tt1152836</td><td>7.0</td><td>297525</td><td>['crime', 'drama', 'history', 'action', 'european']</td><td>US</td><td>R</td><td>Map(ACTOR -> Joel Thingvall, Chandler Williams, Peter Gerety, David Warshofsky, Spencer Garrett, Rick Uecker, Stephen Spencer, Lili Taylor, Shanyn Leigh, Diana Krall, John Hoogenakker, Kurt Naebig, Randy Ryan, Richard Short, Robyn LeAnn Scott, Jeff Shannon, Jonathan Macchi, Peter DeFaria, John Michael Bolger, Casey Siemaszko, Madison Dirks, Michael Sassone, Don Frye, William Nero Jr., Elena Kenney, John Scherp, Wesley Walker, John Kishline, Michael Vieau, Bill Camp, James Russo, John Judd, Matt Craven, Adam Mucci, Domenick Lombardozzi, Christian Stolte, Carey Mulligan, Leelee Sobieski, Emilie de Ravin, Channing Tatum, Shawn Hatosy, Michael Bentt, Rebecca Spence, Branka Katić, Stephen Graham, David Wenham, Giovanni Ribisi, John Ortiz, Stephen Lang, Stephen Dorff, Billy Crudup, Rory Cochrane, Jason Clarke, Marion Cotillard, Christian Bale, Johnny Depp, DIRECTOR -> Michael Mann)</td></tr><tr><td>tm160132</td><td>Soul Surfer</td><td>2011</td><td>112</td><td>tt1596346</td><td>7.0</td><td>49101</td><td>['drama', 'family', 'sport']</td><td>US</td><td>PG</td><td>Map(ACTOR -> Joseph Wilson, Roy Vongtama, Joe Toro, Christopher Simms, Ingrid Seid, Stephen Meyers, Josh Margulies, Troy Manandic, Jordan Kirkwood, Eric James, Sean Douglas Hoban, Massi Furlan, Christian Franklin, Davo Coria, Lauren Beach, Kristen Steiner, Leilani Gryde, Bailey Nagy, Arlene Newman, Shelley Trotter, Kim Morgan Greene, Mark Kubr, Rocky Canon, Kaipo Guerrero, Michael Coots, Beau Hodge, David Stanfield, David Chokachi, Faith Fay, Irie Driscoll, Kaleo Relator, Kimberly-Rose Wolter, Patrick Richwood, Wesley Mann, David Tice, Moon Otteman, Cayla Moore, Christie Brooke, Yasmin Dar, Sean McNamara, Annie Gerstenberger, Dylan Slater, Kelly Crean, Tiffany Hofstetter, Bridget Tully, Tahini Bartolome, John Philbin, Titus Kinimaka, Branscombe Richmond, Cody Gomes, Craig T. Nelson, Sonya Balmores, Jeremy Sumpter, Lorraine Nicholson, Chris Brochu, Ross Thomas, Kevin Sorbo, Carrie Underwood, Dennis Quaid, Helen Hunt, AnnaSophia Robb, DIRECTOR -> Sean McNamara)</td></tr><tr><td>tm208628</td><td>Dil Dhadakne Do</td><td>2015</td><td>170</td><td>tt4110568</td><td>7.0</td><td>17149</td><td>['drama', 'comedy', 'romance']</td><td>IN</td><td>PG-13</td><td>Map(ACTOR -> Ridhima Sud, Shireesh Sharma , K.C. Shankar, Parmeet Sethi, Vandana Sajnani, Ivan Rodrigues, Manoj Pahwa, Dolly Minhas, Ikhlaq Khan, Sarah Hashmi, Pawan Chopra, Zarina Wahab, Ayesha Raza, Abdul Quadir Amin, Vikrant Massey, Aamir Khan, Farhan Akhtar, Rahul Bose, Anushka Sharma, Ranveer Singh, Shefali Shah, Priyanka Chopra Jonas, Anil Kapoor, DIRECTOR -> Zoya Akhtar)</td></tr><tr><td>tm219233</td><td>Loving</td><td>2016</td><td>123</td><td>tt4669986</td><td>7.0</td><td>34139</td><td>['drama', 'romance']</td><td>GB</td><td>PG-13</td><td>Map(ACTOR -> Jason Alan Cook, Keith Flippen, A. Smith Harrison, Michael Abbott Jr., Greg Cooper, Mike Shiflett, Rebecca Turner, Dean Mumford, Raymond H. Johnson, Darrick Claiborne, Victoria Chavatel Jimison, Robert Furner, Kenneth William Clarke, Miles Hopkins, Derick Newson, Jim D. Johnston, James Atticus Abebayehu, Tyrell Ford, Jay SanGiovanni, Marc Anthony Lowe, Terry Menefee Gau, Ken Holliday, Brian Thomas Wise, Lonnie M Henderson, Tom Lancaster, W. Keith Scott, James Nevins, Keith Tyree, Robert Haulbrook, Logan J. Woolfolk, Chris Condetti, Coby Batty, Jordan Dickey, Sheri Lahris, Coley Campany, James Matthew Poole, Mark Huber, Bridget Gethins, Benjamin Loeh, Scott Wichmann, Karen Vicks, Pryor Ferguson, Devin Cleckley, Micah Claiborne, Georgia Crawford, Jevin Crochrell, Quinn McPherson, Dalyn Cleckley, Brenan Young, Lance Lemon, Jennifer Joyner, D.L. Hopkins, Andrene Ward-Hammond, Matt Malloy, Will Dalton, Chris Greene, Michael Abbott Jr., Winter-Lee Holland, Christopher Mann, Jon Bass, David Jensen, Terri Abney, Alano Miller, Sharon Blackwood, Bill Camp, Nick Kroll, Marton Csokas, Michael Shannon, Ruth Negga, Joel Edgerton, DIRECTOR -> Jeff Nichols)</td></tr><tr><td>tm230551</td><td>Ip Man 3</td><td>2015</td><td>105</td><td>tt2888046</td><td>7.0</td><td>54128</td><td>['drama', 'action', 'history']</td><td>HK</td><td>PG-13</td><td>Map(ACTOR -> Ibrahim Shahoot, Simon Kook, Lê Y Lan, Chan Chiu, Yu Kang, Tony Leung Siu-Hung, Lau Yee Tat, Lo Meng, Baby John Choi, Danny Chan Kwok-kwan, Mike Tyson, Leung Kar-yan, Louis Cheung, Kent Cheng, Karena Ng, Patrick Tam, Zhang Jin, Lynn Hung, Donnie Yen, DIRECTOR -> Wilson Yip)</td></tr><tr><td>tm233482</td><td>The Foreigner</td><td>2017</td><td>113</td><td>tt4759848</td><td>7.0</td><td>112487</td><td>['thriller', 'action', 'crime', 'drama', 'european']</td><td>IN</td><td>R</td><td>Map(ACTOR -> Kevin Hudson, Roberto Gomez Martin, Neal Beagley, Bill Buckhurst, Charlie Bewley, Aden Gillett, Robin Oakley, Julian Druker, Stuart Graham, Grainne Keenan, Jonathan Cullen, Thusitha Jayasundera, Seán Gleeson, Scott Sparrow, David Pearse, Aaron Monaghan, Donna Bernard, John Cronin, Pamela Betsy Cooper, Alexander Cooper, Emma Jerrold, Nicolas Savidis-Macris, Mark Windham, Tim Baros, Edward Scott-Clarke, Bron James, Shaun Lucas, Jane Thorne, Chris Groundsell, Gerald Tomkinson, Pete Meads, Glen Stanway, Adrian McGaw, Rohan Mehra, Paul A Munday, Garry Marriott, Michael Billington, Mike Ray, Ekran Mustafa, Caolan Byrne, Simon Lenagan, Joe Watts, Kornelia Horvath, David Annen, Ryan Early, Ilan Goodman, Kevin Hudson, Sean Campion, James O'Donnell, Glenn Webster, Dolly Jagdeo, Branwell Donaghey, Lee Nicholas Harris, Dino Fazzani, Paul Terry, Mark Tandy, Dilyana Bouklieva, Jorge Leon Martinez, Rufus Jones, Roberta Taylor, Pippa Bennett-Warner, Simon Kunz, Manolo Cardona, Katie Leung, Liu Tao, Stephen Hogan, Dermot Crowley, Lia Williams, Michael McElhatton, Orla Brady, Charlie Murphy, Ray Fearon, Rory Fleck-Byrne, Jackie Chan, Pierce Brosnan, DIRECTOR -> Martin Campbell)</td></tr><tr><td>tm242705</td><td>Raw</td><td>2016</td><td>98</td><td>tt4954522</td><td>7.0</td><td>72460</td><td>['horror', 'drama', 'fantasy', 'european']</td><td>BE</td><td>R</td><td>Map(ACTOR -> Julianne Binard, Christophe Menier, Charlotte Sandersen, Helena Coppejans, Lich Jass, Alexis Julemont, Denis Mpunga, Sibylle du Plessy, Amandine Hinnekens, Maïté Katinka Lonne, Pierre Nisse, Alice D'Hauwe, Morgan Politi, Bérangère Mc Neese, Daniel Utegenova, Sophie Breyer, Anna Solomin, Virgil Leclaire, Benjamin Boutboul, Jean-Louis Sbille, Marouan Iddoub, Thomas Mustin, Marion Vernoux, Bouli Lanners, Joana Preiss, Laurent Lucas, Rabah Nait Oufella, Ella Rumpf, Garance Marillier, DIRECTOR -> Julia Ducournau)</td></tr><tr><td>tm244175</td><td>The Zookeeper's Wife</td><td>2017</td><td>122</td><td>tt1730768</td><td>7.0</td><td>42808</td><td>['drama', 'war', 'history']</td><td>GB</td><td>PG-13</td><td>Map(ACTOR -> Diego Delpiano, Patricia Kalis, Josef Guruncz, Gabriel Cohen, Jakub Šmíd, Roman Horák, Ester Kočičková, Brian Caspe, Václav Neužil, Ladislav Hampl, Roman Vejdovec, Petra Bučková, Magdaléna Sidonová, Vilma Frantová, Magdalena Lamparska, Hana Frejková, Nataša Burger, Alena Mihulová, Slavko Sobin, Hana Pindurová, Adira B. Cole Abbett, Viktorie Jenicková, Waldemar Kobus, Jitka Smutná, Martin Hofmann, Marián Mitaš, Arnošt Goldflam, Viktoria Zakharyanova, Theo Preston, Daniel Ratimorský, Anna Rust, Goran Kostić, Frederick Preston, Martha Issová, Val Maloku, Shira Haas, Iddo Goldberg, Efrat Dor, Timothy Radford, Michael McElhatton, Johan Heldenbergh, Daniel Brühl, Jessica Chastain, DIRECTOR -> Niki Caro)</td></tr><tr><td>tm29737</td><td>Rambo</td><td>2008</td><td>92</td><td>tt0462499</td><td>7.0</td><td>228799</td><td>['thriller', 'action', 'war', 'european']</td><td>US</td><td>R</td><td>Map(ACTOR -> Matthew Wolf, Richard Crenna, George Cheung, May Kung, Rapimpa Dibu, Watcharentr Sedtho, Saiwan Lungta, Toole Khan Kham, Mana Sen-Mi, Surachai Muangdee, Somsak Wongsa, Moan Adisak, Yupin Mu Pae, Nee Lungjai, Tip Tiya, Han Pik, Pan Dokngam, Aun Lung Su, Kjam Saen, Noa 'Arunee Prijareonsuk' Jei, Sornram Patchimtasanakarn, Kammul Kawtep, Wasawat Panyarat, Pornpop 'Tor' Kampusiri, Aung Theng, Ken Howard, Aung Aay Noi, Supakorn Kitsuwon, Shaliew 'Lek' Bamrungbun, Kasikorn Niyompattana, James With, Tony Skarberg, Thomas Peterson, Cameron Pearson, Paul Schulze, Maung Maung Khin, Jake La Botz, Tim Kang, Reynaldo Gallegos, Graham McTavish, Matthew Marsden, Julie Benz, Sylvester Stallone, DIRECTOR -> Sylvester Stallone)</td></tr><tr><td>tm298339</td><td>Handsome Devil</td><td>2017</td><td>95</td><td>tt5016946</td><td>7.0</td><td>13708</td><td>['drama', 'comedy', 'sport', 'european']</td><td>IE</td><td>null</td><td>Map(ACTOR -> Jay Duffy, Patrick McDonnell, Stephen Hogan, Norma Sheahan, Hugh O'Conor, Mark Doherty, Moe Dunford, Michael McElhatton, Ruairi O'Connor, Amy Huberman, Ardal O'Hanlon, Andrew Scott, Nicholas Galitzine, Fionn O'Shea, DIRECTOR -> John Butler)</td></tr><tr><td>tm315255</td><td>Ip Man 4: The Finale</td><td>2019</td><td>107</td><td>tt2076298</td><td>7.0</td><td>30694</td><td>['drama', 'history', 'action']</td><td>CN</td><td>PG</td><td>Map(ACTOR -> Chan Siu-Wah, Nico Amedeo, Cao Shi-Ping, Li Di, Zhou Xiaofei, Nicola Stuart-Hill, Grace Englert, Lo Meng, Lynn Hung, Mark Strange, Ngo Ka-nin, Kent Cheng, Chris Collins, Vanda Lee, Danny Chan Kwok-kwan, Scott Adkins, Vanness Wu, Wu Yue, Donnie Yen, DIRECTOR -> Wilson Yip)</td></tr><tr><td>tm318206</td><td>Den of Thieves</td><td>2018</td><td>140</td><td>tt1259528</td><td>7.0</td><td>107701</td><td>['thriller', 'action', 'crime', 'drama']</td><td>US</td><td>R</td><td>Map(ACTOR -> Michael Papajohn, Madelyn Lazar, Matthew Cornwell, Scott Hunter, Stefanos Miltsakakis, Michael Bisping, Raven Wynn, Lewis Tan, Alix Lapri, Elle Whitfield, Steve Eifert, Jay Dobyns, Max Holloway, Brian Van Holt, Eric Braeden, Meadow Williams, Mo McRae, Kaiwi Lyman, Maurice Compte, Cooper Andrews, Evan Jones, 50 Cent, Pablo Schreiber, O'Shea Jackson Jr., Dawn Olivieri, Gerard Butler, DIRECTOR -> Christian Gudegast)</td></tr><tr><td>tm347530</td><td>Gaga: Five Foot Two</td><td>2017</td><td>100</td><td>tt7291268</td><td>7.0</td><td>12825</td><td>['music', 'documentation']</td><td>US</td><td>null</td><td>Map(ACTOR -> George H. W. Bush, Tony Bennett, Barbara Bush, Joe Germanotta, Donatella Versace, Florence Welch, Mark Ronson, Bobby Campbell, Lady Gaga, DIRECTOR -> Chris Moukarbel)</td></tr><tr><td>tm362881</td><td>Mirai</td><td>2018</td><td>98</td><td>tt6900448</td><td>7.0</td><td>14983</td><td>['fantasy', 'animation', 'drama', 'family']</td><td>JP</td><td>PG</td><td>Map(ACTOR -> Kaede Hondo, Masaharu Fukuyama, Koji Yakusho, Yoshiko Miyazaki, Mitsuo Yoshihara, Kumiko Aso, Gen Hoshino, Haru Kuroki, Moka Kamishiraishi, DIRECTOR -> Mamoru Hosoda)</td></tr><tr><td>tm371952</td><td>Sarkar</td><td>2018</td><td>164</td><td>tt8591968</td><td>7.0</td><td>18453</td><td>['drama', 'action']</td><td>IN</td><td>null</td><td>Map(ACTOR -> Lallu Prasath, Anitha Sampath, MV. Tamil Selvi, Pazha Karuppaiah, Elyssa Erhardt, Jayaditya Kang, A.R. Murugadoss, Ashwanth Thilak, Sivashankar Master, Papri Ghosh, Yuvina Parthavi, Livingston, Rajesh, Tulasi, Radha Ravi, Yogi Babu, Prem, Varalaxmi Sarathkumar, Keerthy Suresh, Vijay, DIRECTOR -> A.R. Murugadoss)</td></tr><tr><td>tm436844</td><td>The Christmas Chronicles</td><td>2018</td><td>104</td><td>tt2990140</td><td>7.0</td><td>71182</td><td>['fantasy', 'family', 'comedy']</td><td>US</td><td>PG</td><td>Map(ACTOR -> Jesse Gervasi, Elena Khan, Andrew Morgado, Elizabeth Phoenix Caro, Jeff Teravainen, Jessica Lowe, Michael Yurchak, Debi Derryberry, Kari Wahlgren, Debra Wilson, Chris Leblanc, Jeremy Raymond, Ishan Morris, John Koo, Jonathan Kim, Chai Valladares, Danielle Bourgon, Glen McDonald, Kayla Lakhani, Seth Mohan, Solla Park, Jameson Kraemer, Paskal Vaklev, Jack Bona, David Kohlsmith, Tom Kane, Goldie Hawn, Steven Van Zandt, Lauren Collins, Vella Lovell, Tony Nappo, Oliver Hudson, Kimberly Williams-Paisley, Lamorne Morris, Martin Roach, Judah Lewis, Darby Camp, Kurt Russell, DIRECTOR -> Clay Kaytis)</td></tr><tr><td>tm56033</td><td>Croupier</td><td>1998</td><td>94</td><td>tt0159382</td><td>7.0</td><td>21382</td><td>['thriller', 'european', 'crime', 'drama']</td><td>FR</td><td>R</td><td>Map(ACTOR -> Sheila Whitfield, John Radcliffe, Ozzie Yue, Rhona Mitra, Barnaby Kay, Nick Reding, Paul Reynolds, Alexander Morton, Nicholas Ball, Gina McKee, Alex Kingston, Kate Hardie, Clive Owen, DIRECTOR -> Mike Hodges)</td></tr><tr><td>tm674099</td><td>Rose Island</td><td>2020</td><td>117</td><td>tt10287954</td><td>7.0</td><td>20019</td><td>['drama', 'comedy']</td><td>IT</td><td>null</td><td>Map(ACTOR -> Riccardo Marzi, Vincent Frost, Marco Sincini, Luca Della Bianca, Giulio Farnese, Ascanio Balbo, Christian Stamm, Frank Gerrish, Christian Ginepro, Violetta Zironi, Alberto Astorri, Andrea Pennacchi, Marco Pancrazi, Fabrizio Rongione, Leonardo Lidi, Luca Zingaretti, Tom Wlaschiha, François Cluzet, Fabrizio Bentivoglio, Matilda De Angelis, Elio Germano, DIRECTOR -> Sydney Sibilia)</td></tr><tr><td>tm824398</td><td>The Platform</td><td>2019</td><td>94</td><td>tt8228288</td><td>7.0</td><td>207877</td><td>['horror', 'scifi', 'thriller', 'european']</td><td>ES</td><td>null</td><td>Map(ACTOR -> Lian Xushao, Juan Dopico, Álvaro Orellana, Javier Mediavilla, Braulio Cortés, Miren Gaztañaga, Miriam K. Martxante, Gorka Zufiaurre, Miriam Martín, Chema Trujillo, Óscar Oliver, Eric Goode, Txubio Fernández de Jáuregui, Algis Arlauskas, Mario Pardo, Zihara Llana, Alexandra Masangkay, Emilio Buale, Zorion Eguileor, Antonia San Juan, Iván Massagué, DIRECTOR -> Galder Gaztelu-Urrutia)</td></tr><tr><td>tm857461</td><td>Gangubai Kathiawadi</td><td>2022</td><td>157</td><td>tt10083340</td><td>7.0</td><td>44045</td><td>['drama', 'crime']</td><td>IN</td><td>null</td><td>Map(ACTOR -> Faiz Khan, Jahangir Khan, Baldev Trehan, Sonal Sagore, Kruti Saxena, Pallavi Jadhav, Mitali Jagtap, Prashant Kumar, Raza Murad, Chum Darang, Varun Kapoor, Huma Qureshi, Rahul Vohra, Anmol Kajani, Chhaya Kadam, Jim Sarbh, Vijay Raaz, Seema Pahwa, Indira Tiwari, Shantanu Maheshwari, Ajay Devgn, Alia Bhatt, DIRECTOR -> Sanjay Leela Bhansali)</td></tr><tr><td>tm859143</td><td>Torbaaz</td><td>2020</td><td>132</td><td>tt7805960</td><td>7.0</td><td>17828</td><td>['drama', 'thriller', 'action', 'sport']</td><td>IN</td><td>null</td><td>Map(ACTOR -> Gavie Chahal, Nargis Fakhri, Rahul Dev, Sanjay Dutt, DIRECTOR -> Girish Malik)</td></tr><tr><td>tm867681</td><td>Haseen Dillruba</td><td>2021</td><td>135</td><td>tt11027830</td><td>7.0</td><td>25771</td><td>['drama', 'romance', 'thriller', 'crime']</td><td>IN</td><td>null</td><td>Map(ACTOR -> Kunj Anand, Alka Kaushal, Puja Sarup, Ashique Hussain, Deepesh Sumitra Jagdish, Ashish Verma, Daya Shankar Pandey, Yamini Das, Aditya Srivastava, Harshvardhan Rane, Vikrant Massey, Taapsee Pannu, DIRECTOR -> Vinil Mathew)</td></tr><tr><td>tm88366</td><td>Main Hoon Na</td><td>2004</td><td>179</td><td>tt0347473</td><td>7.0</td><td>35142</td><td>['drama', 'romance', 'thriller', 'action', 'comedy']</td><td>IN</td><td>PG</td><td>Map(ACTOR -> Rajeev Punjabi, Praveen Sirohi, Bindu, Kabir Bedi, Uday Chopra, Tabu, Murali Sharma, Satish Shah, Boman Irani, Rakhi Sawant, Kirron Kher, Naseeruddin Shah, Suniel Shetty, Sushmita Sen, Zayed Khan, Amrita Rao, Shah Rukh Khan, DIRECTOR -> Farah Khan)</td></tr><tr><td>tm89036</td><td>Harold & Kumar Go to White Castle</td><td>2004</td><td>88</td><td>tt0366551</td><td>7.0</td><td>193053</td><td>['comedy']</td><td>US</td><td>R</td><td>Map(ACTOR -> Hayden Schlossberg, Jon Hurwitz, Gary Anthony Williams, Siu Ta, Jamie Kennedy, Boyd Banks, Christopher Meloni, Ryan Reynolds, Eddie Kaye Thomas, Ethan Embry, Anthony Anderson, Bobby Lee, Rob Tinkler, Fred Willard, Steve Braun, Brooke D'Orsay, Malin Åkerman, David Krumholtz, Neil Patrick Harris, Paula Garcés, Kal Penn, John Cho, DIRECTOR -> Danny Leiner)</td></tr><tr><td>tm919961</td><td>Pieces of a Woman</td><td>2020</td><td>127</td><td>tt11161474</td><td>7.0</td><td>47795</td><td>['drama']</td><td>HU</td><td>R</td><td>Map(ACTOR -> Leisa Reid, Joelle Jérémie, Alain Dahan, Sean Tucker, Nick Walker, Vanessa Smythe, Gayle Garfinkle, Juliette Casagrande, Jimmie Fails, Domenic Di Rosa, Harry Standjofski, Frank Schorpion, Tyrone Benskin, Steven McCarthy, Molly Parker, Sarah Snook, Benny Safdie, Iliza Shlesinger, Ellen Burstyn, Shia LaBeouf, Vanessa Kirby, DIRECTOR -> Kornél Mundruczó)</td></tr><tr><td>tm1000619</td><td>Radhe Shyam</td><td>2022</td><td>138</td><td>tt8960382</td><td>6.9</td><td>21328</td><td>['romance', 'drama']</td><td>IN</td><td>null</td><td>Map(ACTOR -> Surya Bhagawan Das, Mahati Bikshu, Sasha Chettri, Thalaivasal Vijay, Jayaram, Sathyan Sivakumar, Riddhi Kumar, Sachin Khedekar, Kunaal Roy Kapur, Murali Sharma, Priyadarshi Pullikonda, Jagapati Babu, Krishnam Raju, Sathyaraj, Bhagyashree, Pooja Hegde, Prabhas, DIRECTOR -> Radha Krishna Kumar)</td></tr><tr><td>tm1046026</td><td>The Trip</td><td>2021</td><td>113</td><td>tt13109952</td><td>6.9</td><td>19706</td><td>['comedy', 'thriller', 'horror', 'action']</td><td>NO</td><td>null</td><td>Map(ACTOR -> J.V. Martin, Ailo Gaup, Fredrik Skavlan, Jonas Hoff Oftebro, Kristoffer Jørgensen, Jeppe Beck Laursen, Harald Dal, Evy Kasseth Røsten, Galvan Mehidi, Selome Emnetu, Tor Erik Gunstrøm, Nils Ole Oftebro, Stig Frode Henriksen, André Eriksen, Christian Rubeck, Atle Antonsen, Aksel Hennie, Noomi Rapace, DIRECTOR -> Tommy Wirkola)</td></tr><tr><td>tm119776</td><td>Top Gun</td><td>1986</td><td>110</td><td>tt0092099</td><td>6.9</td><td>329656</td><td>['drama', 'action']</td><td>US</td><td>PG</td><td>Map(ACTOR -> T.J. Cassidy, Troy Hunter, Pete Pettigrew, Frank Pesce, Ron Clark, Duke Stroud, Randall Brady, Clarence Gilyard Jr., James Tolkan, Adrian Pasdar, Whip Hubley, Meg Ryan, Tim Robbins, Rick Rossovich, Barry Tubb, John Stockwell, Michael Ironside, Tom Skerritt, Anthony Edwards, Val Kilmer, Kelly McGillis, Tom Cruise, DIRECTOR -> Tony Scott)</td></tr><tr><td>tm136061</td><td>Suffragette</td><td>2015</td><td>106</td><td>tt3077214</td><td>6.9</td><td>41529</td><td>['drama', 'history']</td><td>FR</td><td>PG-13</td><td>Map(ACTOR -> Susie Baxter, Joyce Henderson, Lee Nicholas Harris, Adam Nagaitis, Drew Edwards, Sarah Finigan, Shelley Longworth, Nick Hendrix, Finbar Lynch, Morgan Watkins, Lorraine Stanley, Grace Stottor, Adam Michael Dodd, Amanda Lawrence, Adrian Schiller, Natalie Press, Geoff Bell, Samuel West, Romola Garai, Ben Whishaw, Meryl Streep, Anne-Marie Duff, Brendan Gleeson, Helena Bonham Carter, Carey Mulligan, DIRECTOR -> Sarah Gavron)</td></tr><tr><td>tm143363</td><td>2 States</td><td>2014</td><td>149</td><td>tt2372678</td><td>6.9</td><td>25344</td><td>['comedy', 'drama', 'romance']</td><td>IN</td><td>PG</td><td>Map(ACTOR -> Madhu Anand Chandhock, Bikramjeet Kanwarpal, Achint Kaur, Amit Bhargav, Aru Krishansh Verma, Shivkumar Subramaniam, Ronit Roy, Revathi, Amrita Singh, Arjun Kapoor, Alia Bhatt, DIRECTOR -> Abhishek Varman)</td></tr><tr><td>tm144121</td><td>Get on Up</td><td>2014</td><td>139</td><td>tt2473602</td><td>6.9</td><td>24456</td><td>['drama', 'music']</td><td>US</td><td>PG-13</td><td>Map(ACTOR -> Aaron J. Brooks, Dominic Thigpen, David Carzell, Justin Hall, Jason Davis, Jamell Richardson, Elliott June Rogers, Adrien Scott Robinson, Alvin Edney II, Randy Smith, Joe T. Blankenship, Mario J. Radford, Sheldon Frett, Sandra DeNise, Jacinte Blankenship, Cariella Smith, Kirk Bovill, Taura Cherne, Phyllis Montana LeBlanc, Denzel Reed, Michael Papajohn, Clyde Jones, Atkins Estimond, Aaron Jay Rome, George Quinones, Aakomon Jones, Rena DeAngelo, Jordan Scott, Jamarion Scott, Hunter Burke, Corey Sorenson, Donald Watkins, Antonius Charles, Ahna O'Reilly, Jim Gleason, Cleta Elaine Ellington, Carol Lee, J.D. Evermore, John Benjamin Hickey, Allison Janney, Julius Tennon, Liz Mikel, Stacey Scowley, Keith D. Robinson, Black Thought, Aunjanue Ellis, Josh Hopkins, Aloe Blacc, Brandon Mychal Smith, Craig Robinson, Ritchie Montgomery, Billy Slaughter, James DuMont, Tika Sumpter, Nick Eversman, Octavia Spencer, Jill Scott, Fred Melamed, Lennie James, Viola Davis, Dan Aykroyd, Nelsan Ellis, Chadwick Boseman, DIRECTOR -> Tate Taylor)</td></tr><tr><td>tm150260</td><td>Cloudy with a Chance of Meatballs</td><td>2009</td><td>90</td><td>tt0844471</td><td>6.9</td><td>226225</td><td>['animation', 'drama', 'romance', 'comedy', 'family', 'fantasy', 'scifi']</td><td>US</td><td>PG</td><td>Map(ACTOR -> Ariel Winter, Melissa Sturm, Will Shadley, Jeremy Shada, Grace Rolek, Jan Rabson, Laraine Newman, Christopher Miller, Mickie McGowan, Mona Marshall, Danny Mann, Sherry Lynn, Phil Lord, Gary A. Hecker, Jess Harnell, Paul Eiding, Ann Dominic, John Cygan, Marsha Clark, Cody Cameron, Bob Bergen, Shane Baumel, Lori Alan, Isabella Acres, Liz Cackowski, Neil Flynn, Peter Siragusa, Angela Shelton, Will Forte, Lauren Graham, Al Roker, Max Neuwirth, Neil Patrick Harris, Benjamin Bratt, Mr. T, Bobb'e J. Thompson, Bruce Campbell, Andy Samberg, James Caan, Anna Faris, Bill Hader, DIRECTOR -> Christopher Miller, Phil Lord)</td></tr><tr><td>tm151927</td><td>Mary Kom</td><td>2014</td><td>122</td><td>tt3001638</td><td>6.9</td><td>10656</td><td>['drama', 'sport', 'action']</td><td>IN</td><td>PG-13</td><td>Map(ACTOR -> Lin Laishram, Shiva Dagar, Zachary Coffin, Robin Das, Sunil Thapa, Shishir Sharma, Darshan Kumaar, Priyanka Chopra Jonas, DIRECTOR -> Omung Kumar)</td></tr><tr><td>tm185797</td><td>Fukrey</td><td>2013</td><td>137</td><td>tt2806788</td><td>6.9</td><td>11656</td><td>['romance', 'comedy', 'drama']</td><td>IN</td><td>PG-13</td><td>Map(ACTOR -> Mehak Manwani, Pankaj Tripathi, Varun Sharma, Vishakha Singh, Manjot Singh, Pulkit Samrat, Ali Fazal, Priya Anand, Richa Chadha, DIRECTOR -> Mrigdeep Singh Lamba)</td></tr><tr><td>tm195209</td><td>Legend</td><td>2015</td><td>132</td><td>tt3569230</td><td>6.9</td><td>175273</td><td>['thriller', 'crime', 'drama', 'european']</td><td>US</td><td>R</td><td>Map(ACTOR -> Jefferson King, Daniel Westwood, Julia Papp, John Carr, Robin Hooper, John Sears, Ashley Byam, Nick Hendrix, Lara Cazalet, Christopher Adamson, MAJOR., Joshua Hill, Sam Hoare, Frankie Fitzgerald, Chris Mason, Tim Woodward, Stephen Lord, Shane Attwooll, Lorraine Stanley, Adam Fogerty, Mel Raido, Jane Wood, Martin McCreadie, Samantha Pearl, Bob Cryer, Charley Palmer Rothwell, Millie Brady, Sam Spruell, John Sessions, Kevin McNally, Duffy, Nicholas Farrell, Paul Anderson, Aneurin Barnard, Tara Fitzgerald, Paul Bettany, Colin Morgan, Chazz Palminteri, Taron Egerton, David Thewlis, Christopher Eccleston, Emily Browning, Tom Hardy, DIRECTOR -> Brian Helgeland)</td></tr><tr><td>tm209987</td><td>Christine</td><td>2016</td><td>115</td><td>tt4666726</td><td>6.9</td><td>14977</td><td>['drama']</td><td>US</td><td>R</td><td>Map(ACTOR -> Wayne Hughes, Bernie Ask, Stacy Hall, Angela Ray, Carl Palmer, Eric McCrea, Lindsay Ayliffe, John Newberg, Masey McLain, Jayson Warner Smith, Ritchie Montgomery, Susan Pourfar, John Cullum, Morgan Spector, Kimberley Drummond, Rachel Hendrix, Timothy Simons, Kim Shaw, J. Smith-Cameron, Tracy Letts, Maria Dizzia, Michael C. Hall, Rebecca Hall, DIRECTOR -> Antonio Campos)</td></tr><tr><td>tm244206</td><td>The Meyerowitz Stories (New and Selected)</td><td>2017</td><td>112</td><td>tt5536736</td><td>6.9</td><td>47971</td><td>['drama', 'comedy']</td><td>US</td><td>null</td><td>Map(ACTOR -> Jarrett Winters Morley, Hannah Elizabeth Alexander, Jake Perlin, Greta Gerwig, Barbara Danicka, Teniel Humeston, Jason Daunno, Michael Birnberg, Jared Sandler, Marquis Rodriguez, Annabelle Dexter-Jones, McManus Woodend, Nico Baumbach, Carlos Jacott, Kareem Williams, Justin Winley, Mickey Sumner, Germar Terrell Gardner, Jerry Matz, Joel Bernstein, Victor Cruz, Mandy Siegfried, Cindy Cheung, Michael Chernus, Gayle Rankin, Sakina Jaffrey, Lyne Renee, Benjamin Thys, Jordan Carlos, Gibson Frazier, Josh Hamilton, James Hamilton, David Cromer, Sigourney Weaver, Hannah Mitchell, Ronald Peet, Adam David Thompson, Danny Flaherty, Matthew Shear, Rebecca Miller, Judd Hirsch, Adam Driver, Candice Bergen, Grace Van Patten, Elizabeth Marvel, Emma Thompson, Dustin Hoffman, Ben Stiller, Adam Sandler, DIRECTOR -> Noah Baumbach)</td></tr><tr><td>tm244229</td><td>Everybody Knows</td><td>2018</td><td>132</td><td>tt4964788</td><td>6.9</td><td>34009</td><td>['drama', 'crime', 'thriller', 'european']</td><td>IT</td><td>R</td><td>Map(ACTOR -> Esteban Ciudad, Nella Rojas, Jordi Bosch, Iván Chavero, Paco Pastor Gómez, Jaime Lorente, Sergio Castellanos, José Ángel Egido, Roger Casamajor, Carla Campra, Sara Sálamo, Ramón Barea, Eduard Fernández, Elvira Mínguez, Inma Cuesta, Bárbara Lennie, Ricardo Darín, Javier Bardem, Penélope Cruz, DIRECTOR -> Asghar Farhadi)</td></tr><tr><td>tm247642</td><td>Amanda Knox</td><td>2016</td><td>92</td><td>tt5952332</td><td>6.9</td><td>23969</td><td>['crime', 'documentation', 'european']</td><td>DK</td><td>null</td><td>Map(ACTOR -> Rudy Guede, Donald Trump, Curt Knox, Arline Kercher, Anderson Cooper, Carla Vecchiotti, Stefano Conti, Valter Biscotti, Nick Pisa, Giuliano Mignini, Raffaele Sollecito, Amanda Knox, DIRECTOR -> Rod Blackhurst, Brian McGinn)</td></tr><tr><td>tm273294</td><td>I Don't Feel at Home in This World Anymore</td><td>2017</td><td>93</td><td>tt6149822</td><td>6.9</td><td>55549</td><td>['drama', 'thriller', 'comedy', 'crime', 'european']</td><td>US</td><td>null</td><td>Map(ACTOR -> Dagoberto Rodriguez, Asha Sawyer, Lenka Becvar, Ray Buckley, Dana Millican, Jana Lee Hamblin, Bill Blair, Josie Seid, Buck Eddy-Blair, Robin Blair, Chris Sharp, Audrey Walker, Kayla Dixon, Taylor Tunes, J.J. Green, Lana Dieterich, Kale Willis, Xander Willis, Jeb Berrier, Wrick Jones, Cristi Miles, Macon Blair, Marilyn Faith Hickey, Chris Doubek, Michelle Moreno, Lee Eddy, Jason Manuel Olazabal, Derek Mears, Myron Natwick, Gary Anthony Williams, Robert Longstreet, Christine Woods, Devon Graye, Jane Levy, David Yow, Elijah Wood, Melanie Lynskey, DIRECTOR -> Macon Blair)</td></tr><tr><td>tm285295</td><td>Our Souls at Night</td><td>2017</td><td>101</td><td>tt5034266</td><td>6.9</td><td>13360</td><td>['drama', 'romance']</td><td>US</td><td>null</td><td>Map(ACTOR -> Maetrix Fitten, Ted Maritz, Jerry Middleton, Constance Freeman, Jordan Leigh, Laurence Anthony Curry, Myra Warren, Chantal Bushell, Audrey Walters, Randy Moore, John C. Ashton, Bruce Dern, Phyllis Somerville, Judy Greer, Iain Armitage, Matthias Schoenaerts, Jane Fonda, Robert Redford, DIRECTOR -> Ritesh Batra)</td></tr><tr><td>tm29731</td><td>Chup Chup Ke</td><td>2006</td><td>165</td><td>tt0464160</td><td>6.9</td><td>10528</td><td>['comedy', 'drama', 'romance']</td><td>IN</td><td>G</td><td>Map(ACTOR -> Manoj Joshi, Amita Nangia, Om Puri, Anupam Kher, Shakti Kapoor, Sushma Reddy, Paresh Rawal, Rajpal Yadav, Suniel Shetty, Neha Dhupia, Kareena Kapoor Khan, Shahid Kapoor, DIRECTOR -> Priyadarshan)</td></tr><tr><td>tm310953</td><td>Sorry to Bother You</td><td>2018</td><td>111</td><td>tt5688932</td><td>6.9</td><td>75653</td><td>['fantasy', 'scifi', 'drama', 'comedy']</td><td>US</td><td>R</td><td>Map(ACTOR -> Ed Moy, Indigo Jackson, Shelley Mitchell, James D. Weston II, Marcella Bragio, William W. Barbour, John Ozuna, Omie Garba, Tony Toste, Teresa Navarro, Dawayne Jordan, Molly Brady, Tom Woodruff Jr., Rosario Dawson, Forest Whitaker, Robert Longstreet, Michael X. Sommers, Kate Berlant, Lily James, Mahari Crown, Armie Hammer, Steven Yeun, Danny Glover, David Cross, Patton Oswalt, Terry Crews, Omari Hardwick, Jermaine Fowler, Tessa Thompson, Lakeith Stanfield, DIRECTOR -> Boots Riley)</td></tr><tr><td>tm315340</td><td>The Night Comes for Us</td><td>2018</td><td>121</td><td>tt6116856</td><td>6.9</td><td>25500</td><td>['thriller', 'action']</td><td>ID</td><td>R</td><td>Map(ACTOR -> Asta Nurcahya, Revaldo, Epy Kusnandar, Morgan Oey, Ronny P. Tjandra, Shareefa Daanish, Hannah Al Rashid, Dian Sastro, Julie Estelle, Dimas Anggara, Zack Lee, Abimana Aryasatya, Salvita Decorte, Sunny Pang, Asha Kenyeri Bermudez, Iko Uwais, Joe Taslim, DIRECTOR -> Timo Tjahjanto)</td></tr><tr><td>tm319818</td><td>Outlaw King</td><td>2018</td><td>121</td><td>tt6679794</td><td>6.9</td><td>69834</td><td>['drama', 'action', 'history', 'war']</td><td>GB</td><td>R</td><td>Map(ACTOR -> Gary McCormack, Tommy Jay Brennan, Daisy Littlefield, Arthur Mackenzie, Luke Mackenzie, Ben Cuveller, Gerry Lynch, Barnaby Brown, Frank Gilhooley, Jamie Pigott, Margaret Fraser, Jenny Hulse, Clive Russell, Benny Young, Tam Dean Burn, Gavin Mitchell, Kim Allan, Rab Affleck, Niall Greig Fulton, Ron Donachie, Ferosa Mackenzie, Matt Stokoe, Laurie Ventry, Robin Laing, George Docherty, Elaine McKergow, Meg Fraser, Josie O'Brien, Stephen McCole, Stephen McMillan, Gemma McElhinney, Vicki Liddelle, Philip Kingscott, Duncan Airlie James, Daniel Jackson, Gilly Gilchrist, Jamie Michie, Kevin Mains, Duncan Lacroix, Jamie Maclachlan, Ben Clifford, Jonny Phillips, Paul Blair, Rebecca Robin, Jack Greenlees, Lorne MacFadyen, Chris Fulton, Alastair Mackenzie, Steven Cree, Stephen Dillane, James Cosmo, Callan Mulvey, Tony Curran, Sam Spruell, Billy Howle, Florence Pugh, Aaron Taylor-Johnson, Chris Pine, DIRECTOR -> David Mackenzie)</td></tr><tr><td>tm361998</td><td>The Wolf's Call</td><td>2019</td><td>115</td><td>tt7458762</td><td>6.9</td><td>17236</td><td>['thriller', 'war', 'drama', 'action', 'scifi', 'european']</td><td>FR</td><td>null</td><td>Map(ACTOR -> Jonathan Devred, Philippe Maymat, Stefan Godin, Guillaume Clement, Brice Ormain, Arnaud Churin, Léopold Bara, Arthur Choisnet, Sylvain Loreau, Sébastien Landry, Nicolas Van Beveren, Marc Ruchmann, Bastien Ughetto, Simon Thomas, Guillaume Duhesme, Etienne Guillou-Kervern, Paul Granier, Sébastien Libessart, Pierre Cévaër, Damien Bonnard, Jean-Yves Berteloot, Alexis Michalik, Paula Beer, Reda Kateb, Mathieu Kassovitz, Omar Sy, François Civil, DIRECTOR -> Antonin Baudry)</td></tr><tr><td>tm420826</td><td>The Highwaymen</td><td>2019</td><td>132</td><td>tt1860242</td><td>6.9</td><td>88714</td><td>['thriller', 'crime', 'drama']</td><td>US</td><td>R</td><td>Map(ACTOR -> David Zyler, Jon Briddell, Skip Stellrecht, Teddy Orr, Collins Tuohy, Leigh Anne Tuohy, Mikey Kelley, Samantha Hunter Ogan, Makani Ravello, Lynden Orr, Brad Napp, Donald Robert Mohr, Robert E. Streeck, Troy Anthony Hogan, Todd Barnett, Matthew Paul Martinez, Mitch Eakins, Savanna Renee, Izzy G., Billy 4 Johnston, Ian Pitre, Luke Loveless, Timothy McKinney, Michael Draper, Josh Ventura, Alan Wells, Cullen Moss, Justin Matthew Smith, David Dwyer, Don Stallings, Dean J. West, Brandon O'Dell, Billy Slaughter, Joe Knezevich, Arvin Combs, Jeff Pope, Silas Cooper, Johnny McPhail, Luray Cooper, Robert Bryan Davis, Kevin Sangston, Jesse C. Boyd, Karson Kern, Jane McNeill, Jake Dashnaw, Edward Bossert, Emily Brobst, Alex Elder, Kaley Wheless, Brian F. Durkin, David Born, Josh Caras, Jason Davis, David Furr, W. Earl Brown, William Sadler, Kim Dickens, Dean Denton, Thomas Mann, John Carroll Lynch, Kathy Bates, Woody Harrelson, Kevin Costner, DIRECTOR -> John Lee Hancock)</td></tr><tr><td>tm424074</td><td>Then Came You</td><td>2019</td><td>93</td><td>tt4859168</td><td>6.9</td><td>12356</td><td>['comedy', 'drama']</td><td>US</td><td>PG-13</td><td>Map(ACTOR -> Billy Thomas Myott, Ashlyn Alessi, Crystal Tweed, Ann Osmond, Francesca Noel, L. Steven Taylor, Angel Valle Jr., Ron Simons, Briana Venskus, Colin Moss, Ken Jeong, Margot Bingham, Sonya Walger, Tituss Burgess, Peyton List, David Koechner, Tyler Hoechlin, Nina Dobrev, Asa Butterfield, Maisie Williams, DIRECTOR -> Peter Hutchings)</td></tr><tr><td>tm44530</td><td>Fashion</td><td>2008</td><td>167</td><td>tt0964516</td><td>6.9</td><td>12468</td><td>['romance', 'drama']</td><td>IN</td><td>PG-13</td><td>Map(ACTOR -> Rohit Verma, Sheena Bajaj, Atul Kasbekar, Rakshanda Khan, Aanchal Kumar, Pooja Chopra, Diandra Soares, Madhur Bhandarkar, Karan Johar, Manish Malhotra, Ranvir Shorey, Konkona Sen Sharma, Harsh Chhaya, Manini Mishra, Chitrashi Rawat, Kiran Juneja, Raj Babbar, Rohit Roy, Suchitra Pillai, Arbaaz Khan, Kitu Gidwani, Ashwin Mushran, Samir Soni, Arjan Bajwa, Mugdha Godse, Kangana Ranaut, Priyanka Chopra Jonas, DIRECTOR -> Madhur Bhandarkar)</td></tr><tr><td>tm455636</td><td>The Dirt</td><td>2019</td><td>108</td><td>tt0800325</td><td>6.9</td><td>47603</td><td>['drama', 'music', 'comedy']</td><td>US</td><td>R</td><td>Map(ACTOR -> Alyssa Marie Stilwell, Lyra D'Aquin, Iris D'Aquin, Jordan Lane Price, Carol Ann Scruggs, Matthew Underwood, Brittany Furlan, Alexanne Wagner, Anthony Vincent Valbiro, Kathryn Morris, Mike R. Moreau, Martin Covert, Michael Hodson, David Costabile, Vince Mattis, Katherine Neff, Leven Rambin, Courtney Dietz, Joe Chrest, Elena Evangelo, Christian Gehring, Pete Davidson, Rebekah Graf, Tony Cavalero, Daniel Webber, Iwan Rheon, Machine Gun Kelly, Douglas Booth, DIRECTOR -> Jeff Tremaine)</td></tr><tr><td>tm470240</td><td>The Half of It</td><td>2020</td><td>104</td><td>tt9683478</td><td>6.9</td><td>34959</td><td>['comedy', 'romance', 'drama']</td><td>US</td><td>PG-13</td><td>Map(ACTOR -> Joan Jaffe, Lucas Kane, Abigail Donaghy, Logan Riley Bruner, Alexandre Bagot, Emma Diner, Joe Lanza, Matt Meinsen, Billy Thomas Myott, Kathryn Ainsley Grant, Cronin Cullen, Dean Tierney, Patrick Noonan, Haley Murphy, Gabi Samels, Patrick T. Johnson, Spencer Wawak, Tyler Crozier, Bonnie Flannery, Alec Tincher, MacIntyre Dixon, Collin Chou, Becky Ann Baker, Catherine Curtin, Wolfgang Novogratz, Enrique Murciano, Alexxis Lemire, Daniel Diemer, Leah Lewis, DIRECTOR -> Alice Wu)</td></tr><tr><td>tm53419</td><td>Any Given Sunday</td><td>1999</td><td>162</td><td>tt0146838</td><td>6.9</td><td>118479</td><td>['drama', 'sport']</td><td>US</td><td>R</td><td>Map(ACTOR -> Allan Graf, Dita de Leon, Nichole Robinson, Rick Johnson, Tucker Brown, Eva Tamargo, Tyler Cravens, Joe Schmidt, Irving Fryar, Terrell Owens, Christy Tummond, Micah West, Carin Abnathy, Catherine Stone, Lisa Ann Phillips, Michelle Bernard, Nikki Novak, Sacha Voski, Kathy Alzado Murray, Sarah Penman, Amy Dorris, Tonya Oliver, Joanna Theobalds, Kirsten Krueger, Lester Speight, Liz Petterson, Antares Davis, Margaret Betts, Joseph A. Wilson, Mark Robert Ellis, Barry Switzer, Phil Latzman, Oliver Stone, Kevin Reid, Eric Miller, Derrick Lassic, Skip McClendon, Robert L. Goff, Pete Ohnegian, Matt Martinez, Bjorn Nittmo, Greg Orvis, Craig Thomson, Jamie Williams, Todd Smith, Mazio Royster, Marty Wright, Jerry A. Sharp, Patrick O'Hara, John Daniel, Clifton Davis, Gianni Russo, James Karen, Mary Fanaro, Delia Sheppard, Charlton Heston, Elizabeth Berkley, Ron Madoff, Lela Rochon, Duane Martin, Ann-Margret, Andrew Bryniarski, John C. McGinley, Bill Bellamy, Lawrence Taylor, Lauren Holly, Jim Brown, Matthew Modine, Aaron Eckhart, LL Cool J, James Woods, Dennis Quaid, Jamie Foxx, Cameron Diaz, Al Pacino, DIRECTOR -> Oliver Stone)</td></tr><tr><td>tm674063</td><td>The Power of the Dog</td><td>2021</td><td>126</td><td>tt10293406</td><td>6.9</td><td>158487</td><td>['drama', 'romance', 'western']</td><td>CA</td><td>R</td><td>Map(ACTOR -> Ian Harcourt, Maeson Stone Skuggedal, David T. Lim, Karl Willetts, Alison Bruce, Julie Forsyth, Vadim Ledogorov, Edith Poor, Piimio Mei, Ella Hope-Higginson, Stephen Bain, Stephen Lovatt, Alice May Connolly, Yvette Reid, Tatum Warren-Ngata, Richard Falkner, Daniel Cleary, Aislinn Furlong, Bryony Skillington, Yvette Parsons, Jacque Drew, Alice Englert, Eddie Campbell, Alistair Sewell, Josh Owen, Max Mata, Cohen Holloway, David Denis, Ramontay McConnell, George Mason, Ken Radley, Sean Keenan, Peter Carroll, Adam Beach, Genevieve Lemon, Keith Carradine, Frances Conroy, Thomasin McKenzie, Kodi Smit-McPhee, Jesse Plemons, Kirsten Dunst, Benedict Cumberbatch, DIRECTOR -> Jane Campion)</td></tr><tr><td>tm6859</td><td>My Girl</td><td>1991</td><td>103</td><td>tt0102492</td><td>6.9</td><td>79800</td><td>['comedy', 'drama', 'family', 'romance', 'european']</td><td>US</td><td>PG</td><td>Map(ACTOR -> Shane Obedzinski, Ray Buktenica, Bill Cordell, Glenda Chism, Nancy L. Chlumsky, Linda Perri, Jody Wilson, David Caprita, Kristian Truelsen, Lara Steinick, Tom Villard, Anthony R. Jones, Jane Hallaren, Peter Michael Goetz, Ann Nelson, Griffin Dunne, Richard Masur, Jamie Lee Curtis, Dan Aykroyd, Macaulay Culkin, Anna Chlumsky, DIRECTOR -> Howard Zieff)</td></tr><tr><td>tm821143</td><td>Ma Rainey's Black Bottom</td><td>2020</td><td>94</td><td>tt10514222</td><td>6.9</td><td>50275</td><td>['music', 'drama']</td><td>US</td><td>R</td><td>Map(ACTOR -> Roger Petan, Antonio Fierro, Quinn VanAntwerp, Joshua Harto, Dusan Brown, Jeremy Shamos, Taylour Paige, Jonny Coyne, Michael Potts, Colman Domingo, Glynn Turman, Chadwick Boseman, Viola Davis, DIRECTOR -> George C. Wolfe)</td></tr><tr><td>tm83175</td><td>Welcome</td><td>2007</td><td>160</td><td>tt0488798</td><td>6.9</td><td>21799</td><td>['romance', 'crime', 'comedy']</td><td>IN</td><td>null</td><td>Map(ACTOR -> Ruslaan Mumtaz, Sherveer Vakil, Suniel Shetty, Om Puri, Sanjay Mishra, Asrani, Malaika Arora, Mallika Sherawat, Paresh Rawal, Feroz Khan, Nana Patekar, Anil Kapoor, Katrina Kaif, Akshay Kumar, DIRECTOR -> Anees Bazmee)</td></tr><tr><td>tm926528</td><td>AK vs AK</td><td>2020</td><td>108</td><td>tt11651796</td><td>6.9</td><td>14048</td><td>['drama', 'action', 'thriller', 'comedy', 'crime']</td><td>IN</td><td>null</td><td>Map(ACTOR -> Pawan Kumar Singh, Yogita Bihani, Nawazuddin Siddiqui, Sucharita Tyagi, Boney Kapoor, Harshvardhan Kapoor, Sonam Kapoor, Anurag Kashyap, Anil Kapoor, DIRECTOR -> Vikramaditya Motwane)</td></tr><tr><td>tm93225</td><td>Legend of the Guardians: The Owls of Ga'Hoole</td><td>2010</td><td>100</td><td>tt1219342</td><td>6.9</td><td>82623</td><td>['fantasy', 'family', 'action', 'war', 'drama', 'thriller', 'animation']</td><td>US</td><td>PG</td><td>Map(ACTOR -> Gareth Young, Leigh Whannell, Angus Sampson, Barry Otto, Bill Hunter, Sacha Horler, Adrienne DeFaria, Deborra-Lee Furness, Essie Davis, David Wenham, Richard Roxburgh, Sam Neill, Miriam Margolyes, Joel Edgerton, Anthony LaPaglia, Abbie Cornish, Emily Barclay, Geoffrey Rush, Helen Mirren, Hugo Weaving, Ryan Kwanten, Jim Sturgess, DIRECTOR -> Zack Snyder)</td></tr><tr><td>tm963023</td><td>Chandigarh Kare Aashiqui</td><td>2021</td><td>117</td><td>tt12861850</td><td>6.9</td><td>12303</td><td>['crime', 'drama', 'romance', 'comedy']</td><td>IN</td><td>null</td><td>Map(ACTOR -> Sawan Rupowali, Tanya Abrol, Girish Dhamija, Karishma Singh, Abhishek Bajaj, Aanjjan Srivastav, Yograj Singh, Goutam Sharma, Gourav Sharma, Kanwaljit Singh, Vaani Kapoor, Ayushmann Khurrana, DIRECTOR -> Abhishek Kapoor)</td></tr><tr><td>tm96649</td><td>The Long Riders</td><td>1980</td><td>99</td><td>tt0081071</td><td>6.9</td><td>11329</td><td>['western', 'crime']</td><td>US</td><td>R</td><td>Map(ACTOR -> Bill Rampley, George D. Miklos, Ry Cooder, R.B. Thrift, Kalen Keach, Luis Contreras, Edgar McLeod, Jimmy Medearis, Tom Sauber, Bill Bryson, Mitch Greenhill, Michael Lackey, Stuart Mossman, Prentiss Rowe, Hugh McGraw, J. Don Ferguson, William Traylor, Steven Chambers, Duke Stroud, Peter Jason, Gary Watkins, Lin Shaye, Tim Rossovich, Glenn Robards, Marlise Karlin, Thomas Myers, Chris Mulkey, Allan Graf, Martina Deignan, Edward Bunker, West Buchanan, John Bottoms, James Whitmore Jr., Amy Stryker, Savannah Smith Boucher, Fran Ryan, James Remar, Pamela Reed, Felice Orlandi, Shelby Leverington, Nicholas Guest, Christopher Guest, Harry Carey, Jr., Kevin Brophy, Randy Quaid, Dennis Quaid, Stacy Keach, James Keach, Robert Carradine, Keith Carradine, David Carradine, DIRECTOR -> Walter Hill)</td></tr><tr><td>tm171042</td><td>The Call</td><td>2020</td><td>112</td><td>tt1911644</td><td>6.7</td><td>29450</td><td>['crime', 'thriller', 'drama', 'horror', 'european']</td><td>KR</td><td>R</td><td>Map(ACTOR -> Ruth Zalduondo, Mark Sussman, Michael Ralph, Maria Nicolacakis, Jonathan Nichols, David Michie, Terence Mathews, Jacqueline Pinol, Donna Lynn Leavy, Nicholas Guest, Elisa Gabrielli, Eddie Frierson, Vicki Davis, Patty Connolly, Michael James Clark, Kirk Baily, Kimberly Bailey, Alisa Hensley, Thomas Rosales Jr., Steven Williams, Frankie Louis Mulcahy, Yolanda Arroyo, Teresa Jelks-Kirkley, Jay Potter, Rakefet Abergel, Lisa Grady, Michael Linstroth, Sammy Busby, Tara Platt, Ross Gallo, Jenna Lamia, Ella Rae Peck, Denise Dowse, Evie Thompson, Roma Maffia, José Zúñiga, Justina Machado, Michael Imperioli, David Otunga, Michael Eklund, Morris Chestnut, Abigail Breslin, Halle Berry, DIRECTOR -> Brad Anderson)</td></tr><tr><td>tm54450</td><td>Christine</td><td>2016</td><td>115</td><td>tt0085333</td><td>6.7</td><td>14977</td><td>['horror', 'thriller', 'european']</td><td>US</td><td>R</td><td>Map(ACTOR -> John Richard Petersen, Art Evans, Charles Steak, Jan Burrell, Keri Montgomery, Bruce French, Richard Collier, Douglas Warhit, Robert Darnell, Marc Poppel, Kelly Preston, Stuart Charno, Steven Tash, Malcolm Danare, David Spielberg, William Ostrander, Roberts Blossom, Christine Belford, Harry Dean Stanton, Robert Prosky, Alexandra Paul, John Stockwell, Keith Gordon, DIRECTOR -> John Carpenter)</td></tr><tr><td>ts84646</td><td>Warrior</td><td>2011</td><td>140</td><td>tt9249090</td><td>6.7</td><td>463276</td><td>['action', 'drama', 'crime']</td><td>US</td><td>TV-MA</td><td>Map(ACTOR -> Kasper Leisner, Marco Ilsø, Jakob Oftebro, Lars Ranthe, Danica Ćurčić, Dar Salim, DIRECTOR -> Christoffer Boe)</td></tr><tr><td>tm362072</td><td>Monster</td><td>2003</td><td>110</td><td>tt10229074</td><td>6.5</td><td>149218</td><td>['drama', 'crime']</td><td>US</td><td>R</td><td>Map(ACTOR -> Roberto Lopez, Jonny Coyne, Adriana DeGirolami, Danny Henriquez, Nyleek Moore, Rege Lewis, Liam Obergfoll, Dorian Missick, Paul Ben-Victor, Mikey Madison, Jharrel Jerome, Nas, Lovie Simone, A$AP Rocky, John David Washington, Tim Blake Nelson, Jennifer Ehle, Jennifer Hudson, Jeffrey Wright, Kelvin Harrison Jr., DIRECTOR -> Anthony Mandler)</td></tr><tr><td>tm248010</td><td>Taxi Driver</td><td>1976</td><td>113</td><td>tt5112438</td><td>6.0</td><td>795222</td><td>['crime', 'drama', 'comedy']</td><td>US</td><td>null</td><td>Map(ACTOR -> Ijeoma Grace Agu, Odunlade Adekola, DIRECTOR -> Daniel Emeke Oriahi)</td></tr><tr><td>tm102337</td><td>A Nightmare on Elm Street</td><td>1984</td><td>91</td><td>tt1179056</td><td>5.2</td><td>230543</td><td>['horror', 'thriller', 'crime', 'drama']</td><td>US</td><td>R</td><td>Map(ACTOR -> Christine Crawley, Eric Ami, Aaron Yoo, Christopher Woods, Logan Stalzer, Tania Randall, Jennifer Robers, Parker Bagley, Dominick Coviello, Scott Lindvall, Rob Riley, Pete A. Kelly, Bob Kizer, Andrew Fiscella, Max Holt, Brayden Coyer, Kyra Krumins, Kurt Naebig, Don Robert Cass, Leah Uteg, Hailey Schooping Knight, Katie Schooping Knight, Christian Stolte, Julianna Damm, Lia D. Mortensen, Connie Britton, Clancy Brown, Kellan Lutz, Thomas Dekker, Katie Cassidy, Rooney Mara, Kyle Gallner, Jackie Earle Haley, DIRECTOR -> Samuel Bayer)</td></tr><tr><td>ts56201</td><td>Cloudy with a Chance of Meatballs</td><td>2009</td><td>90</td><td>tt4123482</td><td>3.4</td><td>226225</td><td>['action', 'fantasy', 'scifi', 'animation', 'comedy', 'family']</td><td>US</td><td>TV-Y7</td><td>Map(ACTOR -> Clé Bennett, Seán Cullen, Katie Griffin, Patrick McKenna, David Berni, Mark Robert Edwards)</td></tr><tr><td>tm215911</td><td>Ludo</td><td>2020</td><td>150</td><td>tt3724898</td><td>2.8</td><td>37528</td><td>['horror', 'thriller', 'fantasy']</td><td>IN</td><td>null</td><td>Map(ACTOR -> Tillotama Shome, Subholina Sen, Rii Sen, Murari Mukherjee, Ranodeep Bose, Ananya Biswas, Soumendra Bhattacharya, Joyraj Bhattacharya, Kamalika Banerjee, DIRECTOR -> Qaushiq Mukherjee, Nikon Basu)</td></tr></tbody></table></div>"
      ]
     },
     "metadata": {
      "application/vnd.databricks.v1+output": {
       "addedWidgets": {},
       "aggData": [],
       "aggError": "",
       "aggOverflow": false,
       "aggSchema": [],
       "aggSeriesLimitReached": false,
       "aggType": "",
       "arguments": {},
       "columnCustomDisplayInfos": {},
       "data": [
        [
         "tm853783",
         "David Attenborough: A Life on Our Planet",
         2020,
         83,
         "tt11989890",
         "9.0",
         31180,
         "['documentation']",
         "GB",
         "PG",
         {
          "ACTOR": "Max Hughes, David Attenborough",
          "DIRECTOR": "Alastair Fothergill, Jonathan Hughes, Keith Scholey"
         }
        ],
        [
         "tm122434",
         "Forrest Gump",
         1994,
         142,
         "tt0109830",
         "8.8",
         1994599,
         "['drama', 'romance', 'comedy']",
         "US",
         "PG-13",
         {
          "ACTOR": "Michael Oliver, Jim Hanks, Tyler Long, W. Benson Terry, Bob Harks, Jeffrey Winner, Kurt Russell, Mary Ellen Trainor, Robb Skyler, William Shipman, Brendan Shanahan, Jacqueline Lovell, Aaron Michael Lacey, Zach Hanner, Bryan Hanna, Troy Christian, Greg Brown, Bob Penny, Timothy McNeil, Charles Boswell, Michael Mattison, Hallie D'Amore, Nora Dunfee, Matt Rebenkoff, Lazarus Jackson, Joe Alaskey, Marla Sucharetza, Tiffany Salerno, Dick Cavett, Emily Carey, Vanessa Roth, Geoffrey Blake, Michael Jace, Kevin Davis, Richard D'Alessandro, Isabel Rose, John William Galt, Stephen Bridgewater, Steve DeRelian, Byron Minns, Michael McFall, Steven Griffith, Michael Burgess, Daniel J. Gillooly, John Voldstad, Michael Kemmerling, Mike Jolly, Matt Wallace, Don Fischer, Jed Gillin, Joe Washington, Al Harrington, Mark Matheisen, Kitty K. Green, Marlena Smalls, Kirk Ward, David Brisbin, Daniel C. Striepeke, Brett Rice, Kevin Mangan, Christopher Jones, Margo Moorer, Sam Anderson, George Kelly, Sonny Shroyer, Peter Dobson, Afemo Omilami, Siobhan Fallon Hogan, Haley Joel Osment, Hanna Hall, Michael Conner Humphreys, Sally Field, Mykelti Williamson, Gary Sinise, Robin Wright, Tom Hanks",
          "DIRECTOR": "Robert Zemeckis"
         }
        ],
        [
         "tm92641",
         "Inception",
         2010,
         148,
         "tt1375666",
         "8.8",
         2268288,
         "['scifi', 'music', 'thriller', 'action']",
         "GB",
         "PG-13",
         {
          "ACTOR": "Daniel Girondeaud, Shannon Welles, Lisa Reynolds, Andrew Pleavin, Felix Scott, Michael Gaston, Peter Basham, Nicole Pulliam, Alex Lombard, Jill Maddrell, Carl Gilliard, Natasha Beaumont, Jack Murray, Adam Cole, Mark Fleischmann, Helena Cullinan, Magnus Nolan, Tai-Li Lee, Marc Raducci, Jean-Michel Dagory, Nicolas Clerc, Virgile Bramly, Silvie Laguna, Coralie Dedykere, Tim Kelleher, Russ Fega, Miranda Nolan, Ryan Hayward, Earl Cameron, Yuji Okumoto, Johnathan Geare, Claire Geare, Taylor Geare, Tohoru Masamune, Talulah Riley, Lukas Haas, Michael Caine, Pete Postlethwaite, Marion Cotillard, Tom Berenger, Cillian Murphy, Dileep Rao, Elliot Page, Tom Hardy, Ken Watanabe, Joseph Gordon-Levitt, Leonardo DiCaprio",
          "DIRECTOR": "Christopher Nolan"
         }
        ],
        [
         "tm1038686",
         "Bo Burnham: Inside",
         2021,
         87,
         "tt14545352",
         "8.7",
         44074,
         "['comedy', 'drama', 'music', 'reality']",
         "US",
         "R",
         {
          "ACTOR": "Bo Burnham",
          "DIRECTOR": "Bo Burnham"
         }
        ],
        [
         "tm129763",
         "Anbe Sivam",
         2003,
         160,
         "tt0367495",
         "8.7",
         20595,
         "['comedy', 'drama']",
         "IN",
         null,
         {
          "ACTOR": "Madhan, Krishnamoorthy, Kalairani, Poovilangu Mohan, Benjamin, Nellai Siva, Pasi Sathya, Uma Riyaz Khan, Muthukalai, Ilavarasu, Balu Anand, Vichu Vishwanath, R.S. Shivaji, Yugi Sethu, Seema, Santhana Bharathi, Kiran Rathod, Nassar, R. Madhavan, Kamal Haasan",
          "DIRECTOR": "Sundar C"
         }
        ],
        [
         "tm57554",
         "Saving Private Ryan",
         1998,
         169,
         "tt0120815",
         "8.6",
         1346020,
         "['drama', 'war']",
         "US",
         "R",
         {
          "ACTOR": "Vincent Ventresca, Leo Stransky, Derek Lea, Mac Steinmeier, Nina Muschallik, Thomas Gizbert, Rob Freeman, Kathleen Byron, Harrison Young, Amanda Boxer, Valerie Colgan, Eric Loren, David Wohl, Bryan Cranston, Dale Dye, Harve Presnell, Dorothy Grumbar, John Walters, Nick Brooks, Ryan Hurst, David Vegh, Leland Orser, Nathan Fillion, Anna Maguire, Stephane Cornicard, Stephan Grothgar, Tilo Keiner, Erich Redman, Sam Ellis, Nigel Whitmey, Raffaello Degruttola, Martin Hub, Crofton Hardester, Glenn Wrage, John Sharian, Grahame Wood, Vincent Walsh, Matthew Sharp, Andrew Scott, Lee Aaron Rosen, Mark Phillips, Martin McDougall, Laird Macintosh, Shane Johnson, Paul Hickey, Paschal Friel, Aiden Condron, Maclean Burke, John Barnett, Loclann Aiken, Corey Johnson, Rolf Saxon, Adam Shaw, Ronald Longridge, Seamus McQuade, Paul Garcia, Peter Miles, Neil Finnighan, Markus Napier, Marc Cass, William Marsh, Steve Griffin, Julian Spencer, Gary Sefton, Ian Porter, Demetri Goritsas, Daniel Cerqueira, Dylan Bruno, Max Martini, Joerg Stadler, Dennis Farina, Paul Giamatti, Jeremy Davies, Ted Danson, Giovanni Ribisi, Vin Diesel, Adam Goldberg, Barry Pepper, Matt Damon, Edward Burns, Tom Sizemore, Tom Hanks",
          "DIRECTOR": "Steven Spielberg"
         }
        ],
        [
         "tm104880",
         "Louis C.K.: Hilarious",
         2010,
         84,
         "tt1421373",
         "8.4",
         11973,
         "['comedy']",
         "US",
         null,
         {
          "ACTOR": "Louis C.K.",
          "DIRECTOR": "Louis C.K."
         }
        ],
        [
         "tm142564",
         "3 Idiots",
         2009,
         170,
         "tt1187043",
         "8.4",
         385782,
         "['comedy', 'drama']",
         "IN",
         "PG-13",
         {
          "ACTOR": "Arun Bali, Ali Fazal, Javed Jaffrey, Rahul Kumar, Supriya Shukla, Rajeev Ravindranathan, Atul Tiwari, Akhil Mishra, Jayant Kripalani, Chaitali Bose, Achyut Potdar, Olivier Lafont, Mona Singh, Mukund Bhatt, Amardeep Jha, Parikshat Sahni, Farida Dadi, Omi Vaidya, Boman Irani, Kareena Kapoor Khan, R. Madhavan, Sharman Joshi, Aamir Khan",
          "DIRECTOR": "Rajkumar Hirani"
         }
        ],
        [
         "tm242736",
         "Bo Burnham: Make Happy",
         2016,
         60,
         "tt5777636",
         "8.4",
         14356,
         "['comedy', 'music', 'documentation']",
         "US",
         null,
         {
          "ACTOR": "Lorene Scafaria, Bo Burnham",
          "DIRECTOR": "Bo Burnham, Christopher Storer"
         }
        ],
        [
         "tm245671",
         "Dangal",
         2016,
         161,
         "tt5074352",
         "8.4",
         180247,
         "['action', 'drama', 'sport']",
         "IN",
         "PG",
         {
          "ACTOR": "Gurpreet Toti, Shishir Sharma, Ansh Rathore, Meenu Prajapati, Sumit Khanna, Olamilekan Akanbi Jason, Jagbir, Badrul Islam, Ishika Gagneja, Karamveer Choudhary, Anmol Charan, Mahesh Balraj, Anurag Arora, Ravi Aneja, Ritwik Sahore, Vivan Bhatena, Girish Kulkarni, Suhani Bhatnagar, Zaira Wasim, Aparshakti Khurana, Sakshi Tanwar, Sanya Malhotra, Fatima Sana Shaikh, Aamir Khan",
          "DIRECTOR": "Nitesh Tiwari"
         }
        ],
        [
         "tm283581",
         "Super Deluxe",
         2019,
         176,
         "tt7019942",
         "8.4",
         13680,
         "['thriller', 'action', 'comedy', 'crime', 'drama']",
         "IN",
         "NC-17",
         {
          "ACTOR": "Abdool Lee, Kavin Jay Babu, Mirnalini Ravi, Jayanth, Noble K. James, Vijay Ram, Ashwanth Ashokkumar, Manushyaputhiran, Bagavathi Perumal, Gayathrie Shankar, Mysskin, Ramya Krishnan, Samantha Ruth Prabhu, Fahadh Faasil, Vijay Sethupathi",
          "DIRECTOR": "Thiagarajan Kumararaja"
         }
        ],
        [
         "tm41792",
         "Django Unchained",
         2012,
         165,
         "tt1853728",
         "8.4",
         1472668,
         "['western', 'drama']",
         "US",
         "R",
         {
          "ACTOR": "Fatimah Taliah, Russ Tamblyn, Misty Upham, Mark Ulano, Belinda Owino, Johnny Otto, Cindy Mah, Elton LeBlanc, Skipper Landry, Kasey James, Sandra Linz, Justin Hall, Gary Grubbs, Mike DeMille, Jordon Michael Corbin, Edward J. Clare, Kesha Bullard, Glen Warner, Richie J. Ladner, David G. Baker, Seth Bailey, Gregory Allen Gabroy, Ross P. Cook, Carl Bailey, Tenaj L. Jackson, Kimberley Drummond, Takara Clark, Deborah Ayorinde, Catherine Lambert, Marsha Stephanie Blake, Monica Rene'e Anderson, Mark Amos, John McConnell, Ashley Toman, Carl Singleton, Jakel Marshall, Keniaryn Mitchell, Lewis Smith, Todd Allen, Jamal Duff, Kerry Sims, Edrick Browne, Jarrod Bunch, Nicholas Dashnaw, Ritchie Montgomery, Brian Brown, Craig Stark, Evan Parke, Omar J. Dorsey, Jon Eyez, Danièle Watts, Dave Coennen, Ned Bellamy, Ronan Hice, Michael Bacall, Rex Linn, J.D. Evermore, Dane Rhodes, Kim Collins, Christopher Berry, Sharon Pierre-Louis, Grace Collins, Victoria Thomas, Jack Lucarelli, Shannon Hazlett, Shana Stein, Kim Robillard, Louise Stratten, Kinetic, Lil Chuuch, Marcus Henderson, Keith Jefferson, Amari Cheatom, Quentin Tarantino, John Jarratt, Michael Parks, Tom Savini, James Parks, Ted Neeley, Jake Garber, Robert Carradine, Michael Bowen, Zoë Bell, Lee Horsley, Jonah Hill, Doc Duhame, Cooper Huckabee, M.C. Gainey, Bruce Dern, Amber Tamblyn, Don Stroud, Tom Wopat, James Russo, Franco Nero, Don Johnson, Miriam F. Glover, Escalante Lundy, Clay Donahue Fontenot, Sammi Rotibi, Ato Essandoh, Laura Cayouette, Nichole Galicia, Dana Gourrier, David Steen, James Remar, Dennis Christopher, Walton Goggins, Samuel L. Jackson, Kerry Washington, Leonardo DiCaprio, Christoph Waltz, Jamie Foxx",
          "DIRECTOR": "Quentin Tarantino"
         }
        ],
        [
         "tm827142",
         "Dave Chappelle: Sticks & Stones",
         2019,
         65,
         "tt10810424",
         "8.4",
         25687,
         "['comedy']",
         "US",
         "R",
         {
          "ACTOR": "Dave Chappelle",
          "DIRECTOR": "Stan Lathan"
         }
        ],
        [
         "tm86051",
         "Black Friday",
         2004,
         143,
         "tt0400234",
         "8.4",
         20611,
         "['crime', 'action', 'drama', 'history']",
         "IN",
         "R",
         {
          "ACTOR": "Anurag Kashyap, Asif Basra, Savi Sidhu, Aliya Curmally, Sharad Ponkshe, Goutam Maitra, Prakash Jais, Pranay Narayan, Sujata Sehgal, Anil Yadav, Murali Sharma, Ashraf Ul Haq, Raj Singh Chaudhary, Ragesh Asthana, Vijay Maurya, Nawazuddin Siddiqui, Pratima Kazmi, Pankaj Jha, Imtiaz Ali, Zakir Hussain, Gajraj Rao, Kishore Kadam, Dibyendu Bhattacharya, Aditya Srivastava, Pavan Malhotra, Kay Kay Menon",
          "DIRECTOR": "Anurag Kashyap"
         }
        ],
        [
         "tm162271",
         "Bo Burnham: What.",
         2013,
         60,
         "tt3210258",
         "8.3",
         11488,
         "['comedy', 'music', 'documentation']",
         "US",
         null,
         {
          "ACTOR": "Bo Burnham",
          "DIRECTOR": "Bo Burnham, Christopher Storer"
         }
        ],
        [
         "tm180542",
         "Once Upon a Time in America",
         1984,
         229,
         "tt0087843",
         "8.3",
         342335,
         "['drama', 'crime', 'european']",
         "US",
         "R",
         {
          "ACTOR": "Louise Fletcher, Maria Pia Monicelli, Mark Frazer, Susan Spafford, Alex Serra, Gianni Sanjust, Nicola Roberto, Ryan Paris, Ron Nummi, Chuck Low, Francesca Leone, Ole Jorgensen, Dario Iori, Nelson Camp, Nunzio Giuliani, Matteo Cafiso, Scott Coffey, Greg Anthony, Salvatore Billa, Jay Zeely, Massimo Liti, Mort Freeman, Bruce Bahrenburg, Paul Farentino, Cliff Cudney, Alexander Godfrey, Gerritt Debeer, Estelle Harris, Marty Licata, Arnon Milchan, Baxter Harris, Richard Zobel, Tandy Cronyn, Linda Ipanema, Joey Faye, Ann Neville, Marvin Scott, Joey Marzella, Frankie Caserta, Karen Shallo, Amy Ryder, Robert Harper, Dutch Miller, Gerard Murphy, Marcia Jean Kurtz, Angelo Florio, Mario Brega, Richard Foronjy, Ray Dittrich, Bruno Bilotta, Bruno Iannone, Paul Herman, Margherita Pace, Sandra Solberg, Mike Gendel, Jerry Strivelli, Frank Sisto, Clem Caserta, James Russo, Noah Moazezi, Julie Cohen, Adrian Curran, Mike Monetti, Brian Bloom, Rusty Jacobs, Scott Schutzman Tiler, Jennifer Connelly, Frank Gio, Olga Karlatos, Larry Rapp, Darlanne Fluegel, William Forsythe, James Hayden, Richard Bright, Danny Aiello, Treat Williams, Burt Young, Tuesday Weld, Joe Pesci, Elizabeth McGovern, James Woods, Robert De Niro",
          "DIRECTOR": "Sergio Leone"
         }
        ],
        [
         "tm220594",
         "Winter on Fire: Ukraine's Fight for Freedom",
         2015,
         98,
         "tt4908644",
         "8.3",
         17710,
         "['documentation']",
         "UA",
         null,
         {
          "ACTOR": "Said Ismagilov, Timur Ibragimov, Dmytro Holubnychy, Natan Hazin, Mykhailo Havryliuk, Kurganskyi Eduard, Bogdan Dubas, Valery Dovgiy, Pavlo Dobryanskyy, Kristina Berdinskikh, Serhii Averchenko, Catherine Ashton, Bishop Agapit, Cissy Jones",
          "DIRECTOR": "Evgeny Afineevsky"
         }
        ],
        [
         "tm22327",
         "Full Metal Jacket",
         1987,
         116,
         "tt0093058",
         "8.3",
         723306,
         "['drama', 'war']",
         "GB",
         "R",
         {
          "ACTOR": "David George, John Ward, David Palffy, Stanley Kubrick, Vivian Kubrick, Tony Carey, John Wilson, Michael Anthony Williams, Gary Smith, Chris Maybach, John Curtis, Steve Hudson, Robert E. Hartenberger, Philip Bailey, Gil Kopel, Herbert Norville, Peter Merrill, Keith Hodiak, Costas Dino Chimona, Marcus D'Amico, Tan Hung Francione, Ngoc Le, Papillon Soo, Sal Lopez, Gary Landon Mills, Ian Tyler, Kirk Taylor, Peter Edmund, Tim Colceri, Jon Stafford, Kieron Jecchinis, Bruce Boa, John Terry, Ed O'Ross, Kevyn Major Howard, Arliss Howard, Dorian Harewood, R. Lee Ermey, Vincent D'Onofrio, Adam Baldwin, Matthew Modine",
          "DIRECTOR": "Stanley Kubrick"
         }
        ],
        [
         "tm83786",
         "Like Stars on Earth",
         2007,
         165,
         "tt0986264",
         "8.3",
         188234,
         "['drama', 'family']",
         "IN",
         "PG",
         {
          "ACTOR": "M. K. Raina, Meghna Malik, Ravi Khanvilkar, Lalita Lajmi, Shankar Sachdev, Bugs Bhargava, Girija Oak, Sachet Engineer, Tanay Chheda, Vipin Sharma, Tisca Chopra, Aamir Khan, Darsheel Safary",
          "DIRECTOR": "Aamir Khan"
         }
        ],
        [
         "tm84618",
         "Taxi Driver",
         1976,
         113,
         "tt0075314",
         "8.3",
         795222,
         "['crime', 'drama']",
         "US",
         "R",
         {
          "ACTOR": "Charles Scorsese, Catherine Scorsese, Billie Perkins, Nat Grant, Garth Avery, Copper Cunningham, Don Stroud, Debbi Morgan, Mary-Pat Green, Carson Grant, Annie Gagen, Ralph S. Singleton, Nicholas Shields, Peter Savage, Steven Prince, Harlan Cary Poe, Harry Northup, Norman Matlock, Brenda Dickson, Robinson Frank Adu, Joe Spinell, Victor Argo, Bob Maroff, Bill Minkin, Richard Higgs, Murray Moston, Martin Scorsese, Gino Ardito, Diahnne Abbott, Leonard Harris, Peter Boyle, Cybill Shepherd, Harvey Keitel, Albert Brooks, Jodie Foster, Robert De Niro",
          "DIRECTOR": "Martin Scorsese"
         }
        ],
        [
         "tm127384",
         "Monty Python and the Holy Grail",
         1975,
         91,
         "tt0071853",
         "8.2",
         530877,
         "['comedy', 'fantasy']",
         "GB",
         "PG",
         {
          "ACTOR": "Maggie Weston, John Thornton, Roy Forge Smith, Brian Ross, Tom Raeburn, Terry Jones, William Palin, Scott Mike, Zack Matalon, Margarita Doyle, Julian Doyle, Sylvia Taylor, Gloria Graham, Mary Allen, Joyce Pollner, Tracy Sneddon, Judy Lamb, Fiona Gordon, Daphne Darling, Yvonne Dick, Vivienne MacDonald, Sally Coombe, Anna Lanski, Loraine Ward, Alison Walker, Joni Flynn, Romilly Squire, Sandy Rose, Sandy Johnson, Mitsuko Forstater, Elspeth Cameron, Mark Zycon, Sally Kinghorn, Avril Stewart, Rita Davies, John Young, Bee Duffell, Neil Innes, Carol Cleveland, Connie Booth, Michael Palin, Terry Jones, Terry Gilliam, Eric Idle, John Cleese, Graham Chapman",
          "DIRECTOR": "Terry Gilliam, Terry Jones"
         }
        ],
        [
         "tm138431",
         "Virunga",
         2014,
         90,
         "tt3455224",
         "8.2",
         11403,
         "['war', 'documentation']",
         "CD",
         null,
         {
          "ACTOR": "Vianney Kazarama, Rodrigue Mugaruka Katembo, Mélanie Gouby, Emmanuel de Merode, André Bauma",
          "DIRECTOR": "Orlando von Einsiedel"
         }
        ],
        [
         "tm147913",
         "PK",
         2014,
         153,
         "tt2338151",
         "8.2",
         178012,
         "['comedy', 'drama', 'romance', 'fantasy', 'scifi']",
         "IN",
         "PG-13",
         {
          "ACTOR": "Rajiv Gupta, Plabita Borthakur, Amardeep Jha, Anil Mange, Maanvi Gagroo, Karim Hajee, Sai Gundewar, Ranbir Kapoor, Rohitash Gaud, Ram Sethi, Brijendra Kala, Sachin Parikh, Rukhsar Rehman, Reema Debnath, Saurabh Shukla, Parikshat Sahni, Sanjay Dutt, Boman Irani, Sushant Singh Rajput, Anushka Sharma, Aamir Khan",
          "DIRECTOR": "Rajkumar Hirani"
         }
        ],
        [
         "tm151716",
         "Cowspiracy: The Sustainability Secret",
         2014,
         90,
         "tt4344904",
         "8.2",
         24845,
         "['documentation']",
         "US",
         null,
         {
          "DIRECTOR": "Keegan Kuhn"
         }
        ],
        [
         "tm156811",
         "Queen",
         2014,
         146,
         "tt3322420",
         "8.2",
         64805,
         "['drama', 'comedy']",
         "IN",
         "PG-13",
         {
          "ACTOR": "Marco Canadea, Alka Badola Kaushal, Yogendra Tiku, Jeffrey Ho, Mish Boyko, Lisa Haydon, Rajkummar Rao, Kangana Ranaut",
          "DIRECTOR": "Vikas Bahl"
         }
        ],
        [
         "tm166548",
         "Warrior",
         2011,
         140,
         "tt1291584",
         "8.2",
         463276,
         "['drama', 'action', 'sport']",
         "US",
         "PG-13",
         {
          "ACTOR": "Gavin O'Connor, Thomas McCue, Tracy Campbell, Jaime Sinue Aguirre, Francesca Ortenzio, Sandy Notaro, Etta Cox, Tammy Townsend, Kevin P. Hanley, James Dreussi, Adam Christian Stanley, Armon York Williams, Jeff Hochendoner, Jack Fisher, Tim Bickel, Michelle Dawn Mooney, Stephan Bonnar, Rashad Evans, Jonathan Matthew Anik, Roman Vasylyshyn, Lambert R. Strayer, Raymond Rowe, Aaron Kleiber, James Houk, Andre' Mason, Richard Fike, Jake Digman, Jace Jeanes, Jimmy Cvetic, Anthony Tambakis, Amir Perets, Yves Edwards, Hans Marrero, Panuvat Anthony Nanakornpanom, Daniel Stevens, Roan Carneiro, Nate Marquardt, Anthony Johnson, Erik Apple, Kurt Angle, Josh Rosenthal, Julia Stockstad, \"Timothy \"\"Skyskrape\"\" Katz\", Dan Caldwell, Noah Emmerich, Lexi Cowan, Capri Thomas, Laura Chinn, Nick Lehane, Carlos Miranda, Vanessa Martinez, Jake McLaughlin, Fernando Chien, Sam Sheridan, Maximiliano Hernández, Kevin Dunn, Bryan Callen, Denzel Whitaker, Nick Nolte, Frank Grillo, Jennifer Morrison, Tom Hardy, Joel Edgerton",
          "DIRECTOR": "Gavin O'Connor"
         }
        ],
        [
         "tm218052",
         "Drishyam",
         2015,
         163,
         "tt4430212",
         "8.2",
         79075,
         "['thriller', 'crime', 'drama']",
         "IN",
         "R",
         {
          "ACTOR": "Sandeep Pandey, Prasanna Ketkar, Rishab Chadha, Prathamesh Parab, Kamlesh Sawant, Mrunal Jadhav, Ishita Dutta, Rajat Kapoor, Shriya Saran, Tabu, Ajay Devgn",
          "DIRECTOR": "Nishikant Kamat"
         }
        ],
        [
         "tm221953",
         "Bāhubali 2: The Conclusion",
         2017,
         168,
         "tt4849438",
         "8.2",
         91560,
         "['fantasy', 'action', 'drama']",
         "IN",
         null,
         {
          "ACTOR": "Kalpalatha, Bharani Shankar, Tanikella Bharani, Ashrita Vemuganti, Rohini, Prudhviraj, Tamanna Bhatia, Subbaraju, Ramya Krishnan, Nassar, Anushka Shetty, Sathyaraj, Rana Daggubati, Prabhas",
          "DIRECTOR": "S.S. Rajamouli"
         }
        ],
        [
         "tm244788",
         "13th",
         2016,
         100,
         "tt5895028",
         "8.2",
         34914,
         "['documentation', 'history', 'crime']",
         "US",
         null,
         {
          "ACTOR": "Assata Shakur, Bernie Sanders, Michael Dukakis, Gerald Ford, Ronald Reagan, Nancy Reagan, Richard Nixon, Lyndon B. Johnson, Malcolm X, Martin Luther King Jr., Hillary Clinton, George H. W. Bush, Donald Trump, George W. Bush, Jimmy Carter, Bill Clinton, Barack Obama, Van Jones, John Hagan, Nicholas Turner, Bryan Stevenson, James Kilgore, David Keene, Gina Clayton, Michael Hough, Marie Gottschalk, Cory Booker, Michelle Alexander, Henry Louis Gates, Jr., Angela Davis, Jelani Cobb",
          "DIRECTOR": "Ava DuVernay"
         }
        ],
        [
         "tm35700",
         "Paan Singh Tomar",
         2012,
         135,
         "tt1620933",
         "8.2",
         35888,
         "['drama', 'sport', 'thriller', 'action', 'crime']",
         "IN",
         "PG",
         {
          "ACTOR": "Rajiv Gupta, Sitaram Panchal, Ravi Sah, Ashraf Ul Haq, Khan Jahangir Khan, Brijendra Kala, Rajendra Gupta, Zakir Hussain, Imran Hasnee, Nawazuddin Siddiqui, Vipin Sharma, Mahie Gill, Irrfan Khan",
          "DIRECTOR": "Tigmanshu Dhulia"
         }
        ],
        [
         "tm423373",
         "Andhadhun",
         2018,
         139,
         "tt8303792",
         "8.2",
         88359,
         "['thriller', 'music', 'drama', 'comedy', 'crime']",
         "IN",
         "R",
         {
          "ACTOR": "Raash Pabri, Chhaya Kadam, Gopal Singh, Manav Vij, Ashwini Kalsekar, Zakir Hussain, Rashmi Agdekar, Anil Dhawan, Tabu, Radhika Apte, Ayushmann Khurrana",
          "DIRECTOR": "Sriram Raghavan"
         }
        ],
        [
         "tm678851",
         "Article 15",
         2019,
         130,
         "tt10324144",
         "8.2",
         32336,
         "['crime', 'drama', 'thriller']",
         "IN",
         null,
         {
          "ACTOR": "Shankar Yadav, Shashank Shende, Namashi Chakraborty, Prarthana Behere, Ashish Verma, Mohammed Zeeshan Ayyub, Ronjini Chakraborty, Nassar, Manoj Pahwa, Kumud Mishra, Sayani Gupta, Isha Talwar, Ayushmann Khurrana",
          "DIRECTOR": "Anubhav Sinha"
         }
        ],
        [
         "tm812998",
         "Miracle in Cell No. 7",
         2019,
         132,
         "tt10431500",
         "8.2",
         46939,
         "['drama']",
         "TR",
         null,
         {
          "ACTOR": "Botan Aslan, Mustafa Dok, Celile Toyon Uysal, Mert Zaim, Özgür Avşar, Basri Albayrak, Serhat Üstündağ, Cankat Aydos, Özgür Dereli, Nadi Güler, Hayal Köseoğlu, Serdar Akülker, Gülçin Kültür Şahin, Serhan Onat, Emre Yetim, Doğukan Polat, Ferit Kaya, Deniz Celiloğlu, Deniz Baysal, Sarp Akkaya, Yurdaer Okur, Yıldıray Şahinler, Mesut Akusta, İlker Aksum, Nisa Sofiya Aksongur, Aras Bulut İynemli",
          "DIRECTOR": "Mehmet Ada Öztekin"
         }
        ],
        [
         "tm1018890",
         "Seaspiracy",
         2021,
         80,
         "tt14152756",
         "8.1",
         29604,
         "['documentation']",
         "US",
         null,
         {
          "ACTOR": "Michael Klaper, George Monbiot, Jonathan Balcombe, Lucy Tabrizi, Paul de Gelder, Richard O'Barry, Sylvia Earle, Ali Tabrizi",
          "DIRECTOR": "Ali Tabrizi"
         }
        ],
        [
         "tm103732",
         "Udaan",
         2010,
         138,
         "tt1639426",
         "8.1",
         44556,
         "['drama']",
         "IN",
         "R",
         {
          "ACTOR": "Anand Tiwari, Manjot Singh, Ram Kapoor, Aayan Boradia, Rajat Barmecha, Ronit Roy",
          "DIRECTOR": "Vikramaditya Motwane"
         }
        ],
        [
         "tm1086874",
         "Minnal Murali",
         2021,
         158,
         "tt7268738",
         "8.1",
         24681,
         "['action', 'comedy', 'drama', 'fantasy', 'scifi']",
         "IN",
         null,
         {
          "ACTOR": "Geethi Sangeetha, Aliyar, Thennal Abhilash, Arya Salim, Sudheesh, Devi Chandana, Shelly Kishore, Vasisht Umesh, Rajesh Madhavan, Mamukkoya, P Balachandran, Jude Anthany Joseph, Bijukuttan, Sneha Babu, Femina George, Baiju Santhosh, Aju Varghese, Harisree Ashokan, Guru Somasundaram, Tovino Thomas",
          "DIRECTOR": "Basil Joseph"
         }
        ],
        [
         "tm111075",
         "Stand by Me",
         1986,
         89,
         "tt0092005",
         "8.1",
         392790,
         "['drama']",
         "US",
         "R",
         {
          "ACTOR": "Jason Naylor, Chance Quinn, Kent W. Luttrell, Rick Elliott, Korey Scott Pollard, Susan Thorpe, John Hodges, Kenneth Hodges, Charlie Owens, O.B. Babbs, Dick Durock, Andy Lindberg, Matt Williams, Art Burke, Geanette Bobst, Popeye, Madeleine Swift, John Cusack, Richard Dreyfuss, Scott Beach, William Bronder, Bruce Kirby, Frances Lee McCain, Marshall Bell, Jason Oliver, Bradley Gregg, Gary Riley, Casey Siemaszko, Kiefer Sutherland, Jerry O'Connell, Corey Feldman, River Phoenix, Wil Wheaton",
          "DIRECTOR": "Rob Reiner"
         }
        ],
        [
         "tm114504",
         "The Legend of Bhagat Singh",
         2002,
         155,
         "tt0319736",
         "8.1",
         16225,
         "['drama', 'history', 'action']",
         "IN",
         null,
         {
          "ACTOR": "Swaroop Kumar, Santosh Dhanoa, Sitaram Panchal, Mukesh Tiwari, Farida Jalal, Raj Babbar, D. Santosh, Akhilendra Mishra, Sushant Singh, Amrita Rao, Ajay Devgn",
          "DIRECTOR": "Rajkumar Santoshi"
         }
        ],
        [
         "tm12876",
         "Bombay",
         1995,
         141,
         "tt0112553",
         "8.1",
         12512,
         "['romance', 'drama']",
         "IN",
         null,
         {
          "ACTOR": "Priya, M. V. Vasudeva Rao, Rohini, Nagendra Prasad, Sonali Bendre, Master Hridhay, Master Harsha, Tinnu Anand, Kitty, Nassar, Prakash Raj, Manisha Koirala, Arvind Swamy",
          "DIRECTOR": "Mani Ratnam"
         }
        ],
        [
         "tm148910",
         "Haider",
         2014,
         150,
         "tt3390572",
         "8.1",
         54001,
         "['drama', 'action', 'crime', 'thriller']",
         "IN",
         "PG-13",
         {
          "ACTOR": "Mohommed Ali Shah, Ashwath Bhatt, Aamir Bashir, Ashish Vidhyarthi, Lalit Parimoo, Kulbhushan Kharbanda, Narendra Jha, Irrfan Khan, Kay Kay Menon, Shraddha Kapoor, Tabu, Shahid Kapoor",
          "DIRECTOR": "Vishal Bhardwaj"
         }
        ],
        [
         "tm176864",
         "Rush",
         2013,
         123,
         "tt1979320",
         "8.1",
         465254,
         "['drama', 'action', 'sport', 'european']",
         "US",
         "R",
         {
          "ACTOR": "Daniel Chapple, Joanna Finata, Niki Lauda, Michael Vardian, Lee Nicholas Harris, Eddie Bagayawa, Mark Wright, Jeremy Wolfe, Anthony Wolfe, Matthew Watkinson, Scott Hopkins, Cristian Stelluti, Marco Napoli, Luca Naddeo, Morris Morrison, Francesco Fronte, Paulo Barone, Rob Cavazos, Masashi Fujimoto, Marcello Walton, Erich Redman, Philippe Spall, Jay Simpson, Demetri Goritsas, Eiji Mihara, Marco Canadea, Christian Feist, Bob Constanduros, Joe Ferrera, Alan Bayer, Alastair Caldwell, Luca Zizzari, Raffaello Degruttola, Vanda Dadras, Roger Nevares, Jochen Kolenda, Andreas Engelmann, Folker Banik, Klaus D. Mund, Akira Koieyama, Zack Eisaku Niizato, Val Jobara, Xavier Laurent, Vanessa Zachos, Hans-Eckart Eckhardt, Lisa McAllister, Hannah Britland, Brooke Johnston, Polly Furnival, Douglas Reith, Julien Vialon, Geoffrey Streatfeild, Joséphine de la Baume, James Norton, Cristian Solimeno, Tom Wlaschiha, Rob Austin, Simon Taylor, Jamie Sives, Martin Savage, Vincent Riotta, Patrick Baladi, Ilario Calvo, Augusto Dall'Ara, Jamie de Courcey, Julian Rhind-Tutt, Colin Stinton, Alistair Petrie, Christian McKay, Stephen Mangan, Natalie Dormer, David Calder, Pierfrancesco Favino, Alexandra Maria Lara, Olivia Wilde, Daniel Brühl, Chris Hemsworth",
          "DIRECTOR": "Ron Howard"
         }
        ],
        [
         "tm182125",
         "Zindagi Na Milegi Dobara",
         2011,
         166,
         "tt1562872",
         "8.1",
         75801,
         "['comedy', 'drama']",
         "IN",
         "PG",
         {
          "ACTOR": "Suhel Seth, Anisa, Deepti Naval, Ariadna Cabrol, Naseeruddin Shah, Kalki Koechlin, Katrina Kaif, Abhay Deol, Farhan Akhtar, Hrithik Roshan",
          "DIRECTOR": "Zoya Akhtar"
         }
        ],
        [
         "tm190788",
         "The Exorcist",
         1973,
         133,
         "tt0070047",
         "8.1",
         391942,
         "['horror']",
         "US",
         "R",
         {
          "ACTOR": "Gerard F. Yates, Vincent Russell, John Nicola, Ann Miles, Barton Lane, Don LaBonte, Yvonne Jones, Beatrice Hunter, Bernard Eismann, Joanne Dusseau, Eileen Dietz, Toni Darnay, Mason Curry, Mary Boylan, William Peter Blatty, Elinore Blair, Paul Bateson, Mercedes McCambridge, Robert Gerringer, Roy Cooper, Donna Mitchell, Ron Faber, Wallace Rooney, John Mahon, Titos Vandis, Vasiliki Maliaros, Thomas Bermingham, Arthur Storch, Robert Symonds, Gina Petrushka, Rudolf Schündler, Peter Masterson, Barton Heyman, William O'Malley, Jason Miller, Jack MacGowran, Kitty Winn, Lee J. Cobb, Max von Sydow, Linda Blair, Ellen Burstyn",
          "DIRECTOR": "William Friedkin"
         }
        ],
        [
         "tm219817",
         "Talvar",
         2015,
         132,
         "tt4934950",
         "8.1",
         34659,
         "['thriller', 'crime', 'drama']",
         "IN",
         "PG",
         {
          "ACTOR": "Kiran Khoje, Shishir Sharma, Prakash Belawadi, Sumit Gulati, Tabu, Ayesha Parveen, Gajraj Rao, Atul Kumar, Sohum Shah, Neeraj Kabi, Konkona Sen Sharma, Irrfan Khan",
          "DIRECTOR": "Meghna Gulzar"
         }
        ],
        [
         "tm233425",
         "A Silent Voice: The Movie",
         2016,
         130,
         "tt5323662",
         "8.1",
         75132,
         "['romance', 'animation', 'drama', 'family']",
         "JP",
         "PG-13",
         {
          "ACTOR": "Akiko Hiramatsu, Satsuki Yukino, Takuya Masumoto, Ryo Nishitani, Ryunosuke Watanuki, Ayano Hamaguchi, Erena Kamata, Ikuko Tani, Fuminori Komatsu, Hana Takeda, Sachiko Kojima, Mayu Matsuoka, Toshiyuki Toyonaga, Megumi Han, Yui Ishikawa, Yuki Kaneko, Kensho Ono, Aoi Yuki, Saori Hayami, Miyu Irino",
          "DIRECTOR": "Naoko Yamada"
         }
        ],
        [
         "tm320817",
         "Mersal",
         2017,
         169,
         "tt6485666",
         "8.1",
         32573,
         "['thriller', 'action']",
         "IN",
         null,
         {
          "ACTOR": "Abdool Lee, Senthikumari, Kaali Venkat, Mamilla Shailaja Priya, M.Kamaraj, Boxer Dheena, Sangili Murugan, Surekha Vani, Devadarshini, Kaali Venkat, Rajendran, Yogi Babu, Misha Ghoshal, Hareesh Peradi, Kovai Sarala, Sathyan Sivakumar, Vadivelu, Sathyaraj, S. J. Suryah, Kajal Agarwal, Nithya Menen, Samantha Ruth Prabhu, Vijay",
          "DIRECTOR": "Atlee"
         }
        ],
        [
         "tm32885",
         "Rang De Basanti",
         2006,
         157,
         "tt0460895",
         "8.1",
         118092,
         "['comedy', 'drama', 'history', 'crime']",
         "IN",
         "PG-13",
         {
          "ACTOR": "Mohan Agashe, Lekh Tandon, Chandan Roy Sanyal, Mohan Agashe, Cyrus Sahukar, Om Puri, Anupam Kher, Steven Mackintosh, Kirron Kher, Sharman Joshi, Waheeda Rehman, R. Madhavan, Alice Patten, Soha Ali Khan, Kunal Kapoor, Atul Kulkarni, Siddharth, Aamir Khan",
          "DIRECTOR": "Rakeysh Omprakash Mehra"
         }
        ],
        [
         "tm375883",
         "Klaus",
         2019,
         97,
         "tt4729430",
         "8.1",
         141480,
         "['comedy', 'family', 'animation', 'european']",
         "ES",
         "PG",
         {
          "ACTOR": "Hudson West, Matthew McCann, Reiulf Aleksandersen, Ayden Soria, Bailey Rae Fenderson, Leo Miller, Evan Agos, Jaeden Bettencourt, Emma Yarovinsky, Lucian Perez, Finn Carr, Amanda Philipson, Tucker Meek, Sky Alexis, Kendall Joy Hall, Emma Shannon, Julian Zane, Teddy Blum, Sydney Brower, Neda Margrethe Labba, Mila Brener, Sergio Pablos, Will Sasso, Norm Macdonald, Joan Cusack, Rashida Jones, J.K. Simmons, Jason Schwartzman",
          "DIRECTOR": "Sergio Pablos"
         }
        ],
        [
         "tm420274",
         "Hannah Gadsby: Nanette",
         2018,
         69,
         "tt8465676",
         "8.1",
         12035,
         "['comedy', 'documentation']",
         "AU",
         null,
         {
          "ACTOR": "Hannah Gadsby",
          "DIRECTOR": "Jon Olb, Madeleine Parry"
         }
        ],
        [
         "tm43399",
         "Lagaan: Once Upon a Time in India",
         2001,
         224,
         "tt0169102",
         "8.1",
         111053,
         "['drama', 'romance', 'sport']",
         "IN",
         "PG",
         {
          "ACTOR": "Jon House, Simon Holmes, Chris England, Pramatesh Mehta, Amin Gazi, Raja Awasthi, Daya Shankar Pandey, Suhasini Mulay, Ben Nealon, Amitabh Bachchan, David Gant, Pradeep Ram Singh Rawat, Howard Lee, Jeremy Child, John Rowe, Anupam Shyam, A.K. Hangal, Javed Khan, Raghubir Yadav, Shri Vallabh Vyas, Rajendra Gupta, Akhilendra Mishra, Aditya Lakhia, Amin Hajee, Yashpal Sharma, Rajesh Vivek, Rajendranath Zutshi, Kulbhushan Kharbanda, Paul Blackthorne, Rachel Shelley, Gracy Singh, Aamir Khan",
          "DIRECTOR": "Ashutosh Gowariker"
         }
        ],
        [
         "tm47171",
         "OMG: Oh My God!",
         2012,
         125,
         "tt2283748",
         "8.1",
         57449,
         "['fantasy', 'drama', 'comedy']",
         "IN",
         "G",
         {
          "ACTOR": "Poonam Jhawer, Apoorva Arora, Puja Gupta, Mahesh Manjrekar, Om Puri, Mithun Chakraborty, Akshay Kumar, Paresh Rawal",
          "DIRECTOR": "Umesh Shukla"
         }
        ],
        [
         "tm61056",
         "Dil Chahta Hai",
         2001,
         183,
         "tt0292490",
         "8.1",
         71167,
         "['drama', 'comedy', 'romance']",
         "IN",
         "G",
         {
          "ACTOR": "Suhasini Mulay, Rakesh Pandey, Mandala Tayde, Samantha Tremayne, Ayub Khan, Suchitra Pillai, Rajat Kapoor, Dimple Kapadia, Sonali Kulkarni, Preity Zinta, Akshaye Khanna, Saif Ali Khan, Aamir Khan",
          "DIRECTOR": "Farhan Akhtar"
         }
        ],
        [
         "tm68436",
         "Barfi!",
         2012,
         151,
         "tt2082197",
         "8.1",
         80643,
         "['drama', 'comedy', 'romance']",
         "IN",
         "G",
         {
          "ACTOR": "Archana Dani, Purva Parag, Subhankar Ghosh, Bhagyashree Dembla, Rahul Malhothra, Apurva Pranjape, Nirmala D. Thappa, Rajeev Mishra, Neeraj Khetrapal, Kenneth Desai, Preiti Mamgain, Uday Tikekar, Arun Bali, Jisshu Sengupta, Bholaraj Sapkota, Shreya Ghoshal, Haradhan Bandopadhyay, Roopa Ganguly, Ashish Vidhyarthi, Sujata Sehgal, Akash Khurana, Sumona Chakravarti, Saurabh Shukla, Ileana D'Cruz, Priyanka Chopra Jonas, Ranbir Kapoor",
          "DIRECTOR": "Anurag Basu"
         }
        ],
        [
         "tm76066",
         "Into the Wild",
         2007,
         140,
         "tt0758758",
         "8.1",
         611379,
         "['drama']",
         "US",
         "R",
         {
          "ACTOR": "Bart the Bear II, Haley Sweet, Timothy Levine, Parris Mosteller, J. Nathan Simmons, Carine McCandless, Sharon Olds, Denise Sitton, Matt Contreras, Leonard Knight, John Jabaley, \"Everett \"\"Insane Wayne\"\" Smith\", Merritt Wever, Haley Ramm, R. D. Call, Cheryl Francis Harrington, Jim Davis, Bryce Walters, Floyd Wall, Steven Wiig, Candice Campos, Robin Mathews, Terry Waldner, Jerry Hofer, John Hofer, John Decker, Jim Beidler, Craig Mutsch, Zach Galifianakis, Paul Knauls, Malinda McCollum, James J. O'Neill, Jim Gallien, Signe Egholm Olsen, Thure Lindhardt, Hal Holbrook, Kristen Stewart, Vince Vaughn, Catherine Keener, Brian H. Dierker, Jena Malone, William Hurt, Marcia Gay Harden, Emile Hirsch",
          "DIRECTOR": "Sean Penn"
         }
        ],
        [
         "tm827216",
         "Bill Burr: Paper Tiger",
         2019,
         67,
         "tt10847306",
         "8.1",
         10649,
         "['comedy']",
         "GB",
         null,
         {
          "ACTOR": "Bill Burr",
          "DIRECTOR": "Mike Binder"
         }
        ],
        [
         "tm82765",
         "Swades",
         2004,
         189,
         "tt0367110",
         "8.1",
         89085,
         "['drama', 'european']",
         "IN",
         "G",
         {
          "ACTOR": "Makrand Deshpande, Peter Rawley, Shreyas Pandit, Bachan Pachera, Rajesh Balwani, Rahul Vohra, Bhim Vakani, Vishwa S. Badola, Raja Awasthi, Vishnudutt Gaur, Farrukh Jaffar, Daya Shankar Pandey, Rajesh Vivek, Lekh Tandon, Smith Seth, Kishori Balal, Gayatri Joshi, Shah Rukh Khan",
          "DIRECTOR": "Ashutosh Gowariker"
         }
        ],
        [
         "tm863808",
         "My Octopus Teacher",
         2020,
         84,
         "tt12888462",
         "8.1",
         51232,
         "['documentation']",
         "ZA",
         null,
         {
          "ACTOR": "Tom Foster, Craig Foster",
          "DIRECTOR": "James Reed, Philippa Ehrlich"
         }
        ],
        [
         "tm87484",
         "How to Train Your Dragon",
         2010,
         98,
         "tt0892769",
         "8.1",
         719717,
         "['fantasy', 'animation', 'action', 'comedy', 'family', 'drama']",
         "US",
         "PG",
         {
          "ACTOR": "Kieron Elliott, Philip McGrade, Robin Atkin Downes, Ashley Jensen, David Tennant, Kristen Wiig, T. J. Miller, Christopher Mintz-Plasse, Jonah Hill, America Ferrera, Craig Ferguson, Gerard Butler, Jay Baruchel",
          "DIRECTOR": "Dean DeBlois, Chris Sanders"
         }
        ],
        [
         "tm1025493",
         "Dasvi",
         2022,
         125,
         "tt14107554",
         "8.0",
         13140,
         "['drama', 'comedy']",
         "IN",
         null,
         {
          "ACTOR": "Sumit Shekhar Rai, Aditi Vats, Sarthak Gambhir, Shrikant Verma, Sachin Shroff, Rohit Tiwari, Abhimanyu Yadav, Dhanveer Singh, Arun Kushwah, Shivankit Singh Parihar, Danish Husain, Chittaranjan Tripathy, Manu Rishi Chadha, Nimrat Kaur, Yami Gautam, Abhishek Bachchan",
          "DIRECTOR": "Tushar Jalota"
         }
        ],
        [
         "tm1108321",
         "Dave Chappelle: The Closer",
         2021,
         72,
         "tt15523010",
         "8.0",
         24903,
         "['comedy']",
         "US",
         null,
         {
          "ACTOR": "Dave Chappelle",
          "DIRECTOR": "Stan Lathan"
         }
        ],
        [
         "tm137002",
         "Bāhubali: The Beginning",
         2015,
         159,
         "tt2631186",
         "8.0",
         117333,
         "['drama', 'action', 'fantasy']",
         "IN",
         "PG-13",
         {
          "ACTOR": "John Kokken, Kalpalatha, Bharani Shankar, Gabriela Bertante, Nora Fatehi, Scarlett Mellish Wilson, Charandeep, S.S. Rajamouli, Ramakrishna Meka, Rakesh Varre, Rohini, Prabhakar, Tanikella Bharani, Adivi Sesh, Sudeep, Sathyaraj, Nassar, Ramya Krishnan, Anushka Shetty, Tamanna Bhatia, Rana Daggubati, Prabhas",
          "DIRECTOR": "S.S. Rajamouli"
         }
        ],
        [
         "tm139658",
         "Big Fish",
         2003,
         125,
         "tt0319061",
         "8.0",
         435503,
         "['drama', 'fantasy', 'romance']",
         "US",
         "PG-13",
         {
          "ACTOR": "Will Thomas, L.C. Holt, Jake Brake, Daniel Wallace, Trevor Gagnon, Joanne Pankow, Bonnie Johnson, Jeff Campbell, Zach Hanner, Greg Hohn, David Ramsey, Don Young, Charles McLawhorn, Sallie Hedrick, Russell Hodgkinson, James DeForest Parker, Billy Redden, Frank Hoyt Taylor, John Lowell, Zac Gardner, Karla Droege, Miley Cyrus, Grayson Stone, R. Keith Harris, Hailey Anne Nelson, Perry Walston, Ada Tai, Arlene Tai, Matthew McGrory, Deep Roy, Loudon Wainwright III, Missi Pyle, David Denman, Danny DeVito, Steve Buscemi, Marion Cotillard, Robert Guillaume, Alison Lohman, Helena Bonham Carter, Jessica Lange, Billy Crudup, Albert Finney, Ewan McGregor",
          "DIRECTOR": "Tim Burton"
         }
        ],
        [
         "tm140877",
         "The Imitation Game",
         2014,
         113,
         "tt2084970",
         "8.0",
         748654,
         "['thriller', 'drama', 'war']",
         "US",
         "PG-13",
         {
          "ACTOR": "Lee Asquith-Coe, Josh Wichard, Nicola-Jayne Wells, Mark Underwood, Alice Tapfield, David G. Robinson, John Redmann, Harry Leonard Parkinson, Joseph Oliveira, Adam Nowell, Samantha Moran, Amber-Rose May, Stuart Matthews, Debra Leigh-Taylor, Denis Koroshko, Vincent Idearson, Vera Horton, Luke Hope, Oscar Hatton, Benjamin Hardie, Guna Gultniece, James Gard, Hannah Flynn, Mike Firth, Ben Farrow, Sam Exley, Esther Eden, Leigh Dent, Alexander Cooper, Lisa Colquhoun, Daniel Chapple, Richard Campbell, Grace Calder, Alex Corbet Burcher, Ancuta Breaban, Jack Brash, Nicholas Blatt, Ingrid Benussi, Hayley Joanne Bacon, Bartosz Wandrykow, Tim Steed, Miranda Bell, Viv Weatherall, Tim van Eyken, Laurence Kennedy, Andrew Havill, Victoria Wicks, David Charkham, Charlie Manton, James G. Nunn, Dominik Charman, Tuppence Middleton, Jack Bannon, Alex Lawther, Jack Tarlton, Ilan Goodman, Steven Waddington, Tom Goodman-Hill, James Northcote, Mark Strong, Charles Dance, Matthew Beard, Allen Leech, Rory Kinnear, Matthew Goode, Keira Knightley, Benedict Cumberbatch",
          "DIRECTOR": "Morten Tyldum"
         }
        ],
        [
         "tm158302",
         "Ankhon Dekhi",
         2014,
         104,
         "tt3620858",
         "8.0",
         11330,
         "['drama', 'comedy']",
         "IN",
         null,
         {
          "ACTOR": "Ranvir Shorey, Shrikant Varma, Mansi Nirmal Jain, Bitoo Chhabra, Majid Khan, Vidya Bhushan, Sohan Kumar Jha, Pratik Chandarana, Yadvinder Singh Brar, Javed Khan, Mukesh Kumar, Jiya Bhardwaj, Munish Bhardwaj, Sandip Chowdry, Suman Chowdry, Naresh Gosain, Shivam Sethi, Chetan Sharma, Chaitanya Mahawar, Yogendra Tiku, Danish Hussain, Saurabh Shukla, Dhruv Uday Singh, Manish Karnatak, Anil Chaudhary, Mahesh Sharma, Manu Rishi Chadha, Alka Chawla, Brijendra Kala, Namit Das, Chandrachoor Rai, Maya Sarao, Taranjit Kaur, Rajat Kapoor, Seema Pahwa, Sanjay Mishra",
          "DIRECTOR": "Rajat Kapoor"
         }
        ],
        [
         "tm169422",
         "Her",
         2013,
         126,
         "tt1798709",
         "8.0",
         586679,
         "['drama', 'romance', 'scifi']",
         "US",
         "R",
         {
          "ACTOR": "Samantha Morton, Wendy Leon, Laura Kai Chen, Claudia Choi, Gracie Prewitt, Samantha Sarakanti, James Ozasky, Nicole Grother, Dane White, Steve Zissis, Melanie Seacat, Guy Lewis, David Azar, May Lindstrom, Gabe Gomez, Lisa Renee Pitts, Lynn Adrianna, Lil Buck, Evelyn Edwards, Pramod Kumar, Sam Jaeger, Luka Jones, Brian Cox, SoKo, Artt Butler, Kristen Wiig, Bill Hader, Spike Jonze, Portia Doubleday, Matt Letscher, Chris Pratt, Olivia Wilde, Rooney Mara, Amy Adams, Scarlett Johansson, Joaquin Phoenix",
          "DIRECTOR": "Spike Jonze"
         }
        ],
        [
         "tm175812",
         "Special 26",
         2013,
         144,
         "tt2377938",
         "8.0",
         55489,
         "['thriller', 'crime', 'drama']",
         "IN",
         null,
         {
          "ACTOR": "Mukesh Bhatt, Vikas Shrivastav, Gurpal Singh, Tiku Talsania, Bhagwan Tiwari, Ujjwal Chopra, Rajesh Sharma, Divya Dutta, Kishore Kadam, Neeru Bajwa, Kajal Agarwal, Anupam Kher, Manoj Bajpayee, Jimmy Shergill, Akshay Kumar",
          "DIRECTOR": "Neeraj Pandey"
         }
        ],
        [
         "tm182586",
         "Silenced",
         2011,
         125,
         "tt2070649",
         "8.0",
         15889,
         "['drama']",
         "KR",
         null,
         {
          "ACTOR": "Heo Jae-ho, Hong Suk-youn, Jang So-yeon, Park Kyoung-hee, Nam Myung-ryeol, Jong-goo Lee, Uhm Ji-sung, Kim Ji-young, Kim Ji-young, Park Hye-jin, Uhm Hyo-seop, Kwon Hong-suk, Choi Jin-ho, Jeon Kuk-hwan, Lim Hyun-sung, Kim Min-sang, Kim Joo-ryoung, Jang Gwang, Baek Seung-hwan, Jung In-seo, Kim Hyun-soo, Jung Yu-mi, Gong Yoo",
          "DIRECTOR": "Hwang Dong-hyuk"
         }
        ],
        [
         "tm190835",
         "Neon Genesis Evangelion: The End of Evangelion",
         1997,
         87,
         "tt0169858",
         "8.0",
         51938,
         "['scifi', 'action', 'drama', 'fantasy', 'animation']",
         "JP",
         null,
         {
          "ACTOR": "Mugihito, Akira Ishida, Motomu Kiyokawa, Yuriko Yamaguchi, Hiro Yuuki, Takehito Koyasu, Miki Nagasawa, Fumihiko Tachiki, Yuko Miyamura, Kotono Mitsuishi, Megumi Hayashibara, Megumi Ogata",
          "DIRECTOR": "Kazuya Tsurumaki, Hideaki Anno"
         }
        ],
        [
         "tm239091",
         "Blade Runner 2049",
         2017,
         164,
         "tt1856101",
         "8.0",
         539864,
         "['scifi', 'thriller', 'action', 'drama']",
         "CA",
         "R",
         {
          "ACTOR": "Samuel Brown, Ferenc Györgyi, Konstantin Pál, Zoltán Béres, Joshua Tersoo Allagh, Pál Nyári, István Göz, André Lukács Molnár, Kincsö Sánta, Vilma Szécsi, Stephen Triffitt, Suzie Kennedy, Ellie Wright, Kingston Taylor, David Benson, Elarica Johnson, Krista Kosonen, Mark Arnold, Loren Peta, Sean Young, Sallie Harmsen, Tómas Lemarquis, Edward James Olmos, Wood Harris, Hiam Abbass, Barkhad Abdi, David Dastmalchian, Dave Bautista, Lennie James, Carla Juri, Jared Leto, Mackenzie Davis, Robin Wright, Sylvia Hoeks, Ana de Armas, Harrison Ford, Ryan Gosling",
          "DIRECTOR": "Denis Villeneuve"
         }
        ],
        [
         "tm267401",
         "The Invisible Guest",
         2017,
         107,
         "tt4857264",
         "8.0",
         170351,
         "['thriller', 'crime', 'drama', 'european']",
         "ES",
         "R",
         {
          "ACTOR": "Helena Resano, Susana Molina, Sandra Golpe, Betsy Túrnez, Cristian Valencia, Laia Alberch, Annick Weerts, Jordi Llordella, Ruth Llopis, Martina Hurtado, Robert González, Jordi Brunet, Pere Brasó, Blanca Martínez, Manel Dueso, San Yélamos, Iñigo Gastesi, David Selvas, Paco Tous, Francesc Orella, Bárbara Lennie, Jose Coronado, Ana Wagener, Mario Casas",
          "DIRECTOR": "Oriol Paulo"
         }
        ],
        [
         "tm30205",
         "Ip Man",
         2008,
         108,
         "tt1220719",
         "8.0",
         221095,
         "['drama', 'fantasy', 'action', 'history']",
         "HK",
         "R",
         {
          "ACTOR": "Li Peize, Xu-Feng Yang, Wang Zheng, Mei-Fang Lu, Li Qi-Long, Zhong Han-Hao, Liu Ming-Zhe, Tony Leung Siu-Hung, Lu Kai, Jin Gang, Zhang Bo, Zhou Zhong, Shi De Quiang, Li Ze, Tenma Shibuya, Chen Zhihui, Calvin Cheng, Dennis To Yue-Hong, You-Nam Wong, Xing Yu, Siu-Wong Fan, Gordon Lam, Hiroyuki Ikeuchi, Lynn Hung, Simon Yam, Donnie Yen",
          "DIRECTOR": "Wilson Yip"
         }
        ],
        [
         "tm32919",
         "Blood Diamond",
         2006,
         143,
         "tt0450259",
         "8.0",
         536858,
         "['thriller', 'drama']",
         "US",
         "R",
         {
          "ACTOR": "Vanessa Haywood, Zenzo Ngqobe, Nathaniel Ramabulana, Mduduzi Mabaso, Tyrone Keogh, Adetokumboh M'Cormack, Grant Swanby, Klemens Becker, Percy Matsemela, David S. Lee, Ato Essandoh, Ntare Guma Mbaho Mwine, Stephen Collins, Marius Weyers, Michael Sheen, Jimi Mistry, Basil Wallace, David Harewood, Anointing Lukola, Benu Mabhena, Antony Coleman, Arnold Vosloo, Kagiso Kuypers, Jennifer Connelly, Djimon Hounsou, Leonardo DiCaprio",
          "DIRECTOR": "Edward Zwick"
         }
        ],
        [
         "tm39030",
         "Casino Royale",
         2006,
         139,
         "tt0381061",
         "8.0",
         644336,
         "['thriller', 'action', 'european']",
         "GB",
         null,
         {
          "ACTOR": "Alexander Hathaway, Greg Bennett, Simona Roman, Ben Cooke, Tara Cardinal, Martin Campbell, Richard Branson, Ivan G'Vera, Vlastina Svátková, Alessandra Ambrosio, Phil Meheux, Valentine Nonyela, Michael G. Wilson, Michaela Ochotská, Félicité Du Jeu, Robert G. Slade, Peter Brooke, Rebecca Gethings, Crispin Bonham-Carter, Paul Bhattacharjee, Leo Stransky, Diane Hartford, John Gold, Jürgen Tarrach, Christina Cole, Carlos Leal, Andreas Daniel, Tom So, Charlie Levi Leroy, Veruschka von Lehndorff, Lazar Ristovski, Tsai Chin, Urbano Barberini, Ade, Tom Chadbon, Emmanuel Avena, Clemens Schick, Darwin Shaw, Joseph Millson, Ludger Pistor, Richard Sammel, Malcolm Sinclair, Sébastien Foucan, Claudio Santamaria, Tobias Menzies, Ivana Miličević, Jesper Christensen, Isaach De Bankolé, Simon Abkarian, Caterina Murino, Giancarlo Giannini, Jeffrey Wright, Judi Dench, Mads Mikkelsen, Eva Green, Daniel Craig",
          "DIRECTOR": "Martin Campbell"
         }
        ],
        [
         "tm51493",
         "Vizontele",
         2001,
         110,
         "tt0270053",
         "8.0",
         36291,
         "['comedy', 'drama']",
         "TR",
         null,
         {
          "ACTOR": "Erkan Can, Mesut Çakarlı, Tuncer Salman, Erdal Tosun, Zeynep Tokuş, Cezmi Baskın, Tolga Çevik, Şafak Sezer, Cem Yılmaz, Altan Erkekli, Demet Akbağ, Yılmaz Erdoğan",
          "DIRECTOR": "Yılmaz Erdoğan"
         }
        ],
        [
         "tm70993",
         "Life of Brian",
         1979,
         94,
         "tt0079470",
         "8.0",
         392419,
         "['comedy']",
         "GB",
         "R",
         {
          "ACTOR": "George Harrison, Spike Milligan, Bernard McKenna, Andrew MacLachlan, Chris Langham, John Case, Peter Brett, Sue Jones-Davies, Gwen Taylor, John Young, Charles McKeown, Neil Innes, Kenneth Colley, Carol Cleveland, Terence Bayler, Michael Palin, Terry Jones, Eric Idle, Terry Gilliam, John Cleese, Graham Chapman",
          "DIRECTOR": "Terry Jones"
         }
        ],
        [
         "tm79442",
         "The Bourne Ultimatum",
         2007,
         115,
         "tt0440963",
         "8.0",
         627009,
         "['thriller', 'action']",
         "DE",
         "PG-13",
         {
          "ACTOR": "Ben Youcef, Chris Wilson, John Warman, Paul Thornton, Brian Smyj, James Schram, Mark Mottram, Luis Mottola, Sebastian Feldman, James Ciccone, Glynis Brooks, Michael Ahl, Kai Martin, Michael Wildman, William H. Burns, Omar Hernandez, Uriel Emil Pollack, Jeffrey Lee Gibson, Albert Jones, Trevor St. John, Laurentiu Possa, Branko Tomović, Scott Adkins, Charles Venn, Sinead O'Keefe, Mark Bazeley, Russ Huards, John Roberson, Arkie Reece, Bryan Reents, Lucy Liemann, Dan Fredenburgh, Colin Stinton, Joey Ansah, Daniel Brühl, Corey Johnson, Tom Gallop, Joan Allen, Albert Finney, Edgar Ramírez, Paddy Considine, Scott Glenn, David Strathairn, Julia Stiles, Matt Damon",
          "DIRECTOR": "Paul Greengrass"
         }
        ],
        [
         "tm82718",
         "G.O.R.A.",
         2004,
         127,
         "tt0384116",
         "8.0",
         61797,
         "['scifi', 'comedy']",
         "TR",
         "PG-13",
         {
          "ACTOR": "Ayumi Takano, Engin Günaydın, Erdem Uygan, Cenk Durmazel, Muhittin Korkmaz, İdil Fırat, Cezmi Baskın, Erdal Tosun, Şafak Sezer, Rasim Öztekin, Ozan Güven, Özkan Uğur, Özge Özberk, Cem Yılmaz",
          "DIRECTOR": "Ömer Faruk Sorak"
         }
        ],
        [
         "tm1115392",
         "Shyam Singha Roy",
         2021,
         157,
         "tt13349716",
         "7.9",
         10903,
         "['drama', 'romance', 'horror', 'thriller']",
         "IN",
         null,
         {
          "ACTOR": "Manish Wadhwa, Anurag Kulkarni, Subhalekha Sudhakar, Jisshu Sengupta, Leela Samson, Ankith Koyya, Abhinav Gomatam, Rahul Ravindran, Murali Sharma, Madonna Sebastian, Krithi Shetty, Sai Pallavi, Nani",
          "DIRECTOR": "Rahul Sankrityan"
         }
        ],
        [
         "tm134407",
         "Dev.D",
         2009,
         144,
         "tt1327035",
         "7.9",
         30389,
         "['drama', 'romance', 'comedy']",
         "IN",
         "PG-13",
         {
          "ACTOR": "Binnu Dhillon, Sunil Grover, Nawazuddin Siddiqui, Shena Gamat, Satwant Kaur, Aseem Sharma, Sanjay Kumar, Gurkirtan, Kuldeep Singh, Parakh Madan, Kalki Koechlin, Mahie Gill, Abhay Deol",
          "DIRECTOR": "Anurag Kashyap"
         }
        ],
        [
         "tm144345",
         "Kal Ho Naa Ho",
         2003,
         186,
         "tt0347304",
         "7.9",
         68028,
         "['drama', 'comedy', 'romance']",
         "IN",
         "PG",
         {
          "ACTOR": "Uday Chopra, Rani Mukerji, Kajol, Sanjay Kapoor, Sonali Bendre, Farah Khan, Sulabha Arya, Anaita Shroff Adajania, Dara Singh, Kamini Khanna, Jhanak Shukla, Athit Naik, Sushma Seth, Ketki Dave, Shoma Anand, Satish Shah, Rajpal Yadav, Simone Singh, Lillete Dubey, Delnaaz Irani, Reema Lagoo, Sonali Bendre, Jaya Bachchan, Saif Ali Khan, Preity Zinta, Shah Rukh Khan",
          "DIRECTOR": "Nikkhil Advani"
         }
        ],
        [
         "tm151860",
         "Free to Play",
         2014,
         75,
         "tt3203290",
         "7.9",
         13308,
         "['documentation', 'action']",
         "UA",
         null,
         {
          "ACTOR": "Clinton Loomis, Danil Ishutin, Benedict Lim",
          "DIRECTOR": "Valve Company"
         }
        ],
        [
         "tm270895",
         "I Am Not Your Negro",
         2017,
         93,
         "tt5804038",
         "7.9",
         21632,
         "['documentation', 'history', 'european']",
         "BE",
         "R",
         {
          "ACTOR": "Ray Charles, Sidney Poitier, Leander Perez, Bob Dylan, H. Rap Brown, Dick Cavett, Paul Weiss, Harry Belafonte, Robert F. Kennedy, Medgar Evers, Malcolm X, Martin Luther King Jr., James Baldwin, Samuel L. Jackson",
          "DIRECTOR": "Raoul Peck"
         }
        ],
        [
         "tm307776",
         "Secret Superstar",
         2017,
         150,
         "tt6108090",
         "7.9",
         24046,
         "['drama', 'music']",
         "IN",
         null,
         {
          "ACTOR": "Manuj Sharma, Shaan Mukherjee, Monali Thakur, Tirth Sharma, Raj Arjun, Meher Vij, Aamir Khan, Zaira Wasim"
         }
        ],
        [
         "tm311815",
         "Icarus",
         2017,
         121,
         "tt6333060",
         "7.9",
         48672,
         "['documentation', 'thriller', 'sport']",
         "US",
         null,
         {
          "ACTOR": "Jim Walden, Jacques Rogge, David Howman, Dan Cogan, Vitaliy Mutko, Sebastian Coe, Thomas Bach, Nikita Kamaev, Richard McLaren, Richard Pound, Ben Stone, Scott Brandt, Grigory Rodchenkov, Don Catlin, Dave Zabriskie, Bryan Fogel",
          "DIRECTOR": "Bryan Fogel"
         }
        ],
        [
         "tm313424",
         "Pad Man",
         2018,
         140,
         "tt7218518",
         "7.9",
         25269,
         "['comedy', 'drama']",
         "IN",
         "PG-13",
         {
          "ACTOR": "Suneel Sinha, Amitabh Bachchan, Urmila Mahanta, Soumya Vyas, Mrinmayee Godbole, Jyoti Subhash, Sonam Kapoor, Radhika Apte, Akshay Kumar",
          "DIRECTOR": "R. Balki"
         }
        ],
        [
         "tm375912",
         "Ricky Gervais: Humanity",
         2018,
         79,
         "tt7830574",
         "7.9",
         18523,
         "['comedy']",
         "GB",
         "R",
         {
          "ACTOR": "Ricky Gervais",
          "DIRECTOR": "John L. Spencer"
         }
        ],
        [
         "tm403709",
         "Marriage Story",
         2019,
         136,
         "tt7653254",
         "7.9",
         290643,
         "['drama', 'romance', 'comedy']",
         "GB",
         "R",
         {
          "ACTOR": "Bill Blair, Peter Oliver, Mary Hollis Inboden, Rich Fulcher, Jeremy Barber, Connie Marie Flores, Juan Alfonso, Amir Talai, Andrew Steven Hernandez, Emily Cass McDonnell, Pilar Holland, Kyle Bornheimer, Justin Claiborne, Jordyn Curet, Tunde Adebimpe, Annie Hamilton, Lucas Neff, Erin Evans, Ayden Mayeri, Vinny Chhibber, Bashir Salahuddin, Dean Wareham, Sarah Jones, Carlos Jacott, Amanda Rovner, Robert Smigel, Santiago Mallan, Roslyn Ruff, McKinley Belcher III, Hannah Dunne, Brooke Bloom, Becca Blackwell, Matthew Shear, Irene Choi, Pete Simpson, Mary Wiseman, Raymond J. Lee, David Turner, Motell Gyn Foster, Gideon Glick, Jasmine Cephas Jones, Mickey Sumner, Eric Berryman, Matthew Maher, Julia Greer, Mark O'Brien, Martha Kelly, Wallace Shawn, Azhy Robertson, Merritt Wever, Julie Hagerty, Ray Liotta, Alan Alda, Laura Dern, Scarlett Johansson, Adam Driver",
          "DIRECTOR": "Noah Baumbach"
         }
        ],
        [
         "tm62924",
         "Monty Python Live at the Hollywood Bowl",
         1982,
         77,
         "tt0084352",
         "7.9",
         15186,
         "['comedy', 'documentation']",
         "GB",
         "R",
         {
          "ACTOR": "Carol Cleveland, Neil Innes, Michael Palin, Terry Jones, Eric Idle, Graham Chapman, John Cleese, Terry Gilliam",
          "DIRECTOR": "Ian MacNaughton, Terry Hughes"
         }
        ],
        [
         "tm76835",
         "Jab We Met",
         2007,
         138,
         "tt1093370",
         "7.9",
         51945,
         "['comedy', 'drama', 'romance']",
         "IN",
         "PG-13",
         {
          "ACTOR": "Asif Basra, Brijendra Kala, Wamiqa Gabbi, Saumya Tandon, Divya Shah, Kiran Juneja, Pavan Malhotra, Dara Singh, Tarun Arora, Kareena Kapoor Khan, Shahid Kapoor",
          "DIRECTOR": "Imtiaz Ali"
         }
        ],
        [
         "tm1119272",
         "14 Peaks: Nothing Is Impossible",
         2021,
         101,
         "tt14079374",
         "7.8",
         22858,
         "['documentation', 'sport']",
         "US",
         null,
         {
          "ACTOR": "Conrad Anker, Klára Kolouchová, Reinhold Messner, Jimmy Chin, Nirmal Purja",
          "DIRECTOR": "Torquil Jones"
         }
        ],
        [
         "tm130301",
         "Gangaajal",
         2003,
         157,
         "tt0373856",
         "7.8",
         17029,
         "['drama', 'crime', 'action']",
         "IN",
         null,
         {
          "ACTOR": "Manyata Dutt, Mohan Agashe, Ayub Khan, Mukesh Tiwari, Akhilendra Mishra, Yashpal Sharma, Mohan Joshi, Gracy Singh, Ajay Devgn",
          "DIRECTOR": "Prakash Jha"
         }
        ],
        [
         "tm134967",
         "How to Train Your Dragon 2",
         2014,
         102,
         "tt1646971",
         "7.8",
         327565,
         "['fantasy', 'comedy', 'family', 'animation', 'action']",
         "US",
         "PG",
         {
          "ACTOR": "Julian Stone, Randy Thom, Simon Kassianides, Gideon Emery, Andrew Ableson, Philip McGrade, Kieron Elliott, Kit Harington, Djimon Hounsou, Kristen Wiig, T. J. Miller, Christopher Mintz-Plasse, Jonah Hill, America Ferrera, Craig Ferguson, Gerard Butler, Cate Blanchett, Jay Baruchel",
          "DIRECTOR": "Dean DeBlois"
         }
        ],
        [
         "tm138905",
         "The Hateful Eight",
         2015,
         188,
         "tt3460252",
         "7.8",
         570138,
         "['western', 'crime', 'drama', 'thriller']",
         "US",
         "R",
         {
          "ACTOR": "Quentin Tarantino, Channing Tatum, Belinda Owino, Craig Stark, Keith Jefferson, Gene Jones, Lee Horsley, Zoë Bell, Dana Gourrier, James Parks, Bruce Dern, Michael Madsen, Tim Roth, Demián Bichir, Walton Goggins, Jennifer Jason Leigh, Kurt Russell, Samuel L. Jackson",
          "DIRECTOR": "Quentin Tarantino"
         }
        ],
        [
         "tm142086",
         "The Last Samurai",
         2003,
         154,
         "tt0325710",
         "7.8",
         429097,
         "['drama', 'history', 'war', 'action']",
         "NZ",
         "R",
         {
          "ACTOR": "Ryoichi Noguchi, Ryoichiro Yonekura, Hisao Takeda, Shinji Suzuki, Takeru Shimizu, Lee Murayama, Seiji Morita, Takeshi Maya, Shane Kosugi, Takashi Kora, Shimpei Horinouchi, Makoto Hashiba, Koji Fujii, Kenta Daibo, Hiroaki Amano, Yusuke Myochin, Hiroshi Watanabe, Jiro Wada, Mitsuyuki Oishi, Yuki Matsuzaki, Sven Toorvald, Noguchi Takayuki, Takashi Noguchi, Kosaburo Nomura IV, Shoji Yoshihara, Seizô Fukumoto, Aoi Minato, Sosuke Ikematsu, Shun Sugata, Shintaro Wada, Satoshi Nikaido, John Koyama, Masashi Odate, Ray Godshall Sr., Scott Wilson, Chad Lindberg, William Atherton, Masato Harada, Shichinosuke Nakamura, Togo Igawa, Billy Connolly, Shin Koyamada, Koyuki, Hiroyuki Sanada, Tony Goldwyn, Timothy Spall, Ken Watanabe, Tom Cruise",
          "DIRECTOR": "Edward Zwick"
         }
        ],
        [
         "tm145608",
         "Awakenings",
         1990,
         120,
         "tt0099077",
         "7.8",
         137549,
         "['drama', 'european']",
         "US",
         "PG-13",
         {
          "ACTOR": "Jack Mulcahy, Harry L. Seddon, Joan E. MacIntosh, Buck Smith, Oliver Block, Anthony J. Nici, Adam Bryant, Tomislav Novakovic, Michael Hyde, Libby Titus, Howard Feller, Vincent Pastore, Leonard Tepper, Paul Montgomery, Anthony McGowen, Byron Utley, Max Rabinowitz, Vin Diesel, Debra Kovner-Zaks, Chris Carolan, Mel Gorham, Rico Elias, Gary Tacon, Judy Jacksina, Linda Burns, Christina Huertes, Charles Keating, Waheedah Ahmad, Shane Fistell, Peter Stormare, Tanya Berezin, Harvey Miller, Tiger Haynes, Steve Vinovich, Gwyllum Evans, Gloria Harper, Steven Randazzo, Yusef Bulos, Le Clanché du Rand, Jayne Haynes, Mary Catherine Wright, John Christopher Jones, Bradley Whitford, Keith Diamond, Mary Alice, Judith Malina, Barton Heyman, Laura Esterman, Richard Libertini, Alice Drummond, George Martin, Dexter Gordon, Anne Meara, Max von Sydow, Ruth Nelson, Penelope Ann Miller, Julie Kavner, John Heard, Robin Williams, Robert De Niro",
          "DIRECTOR": "Penny Marshall"
         }
        ],
        [
         "tm151663",
         "Nightcrawler",
         2014,
         118,
         "tt2872718",
         "7.8",
         523686,
         "['crime', 'thriller', 'drama']",
         "US",
         "R",
         {
          "ACTOR": "Bill Blair, Emily Dahm, Stephanie D'Abruzzo, Viviana Chavez, Myra Turley, Kathleen York, Dale Shane, Christopher Wolfe, Manuel Lujan, Lisa Remillard, Juan Fernandez, Merritt Bailey, Dig Wayne, Jamie McShane, Christina De Leon, Kiff VandenHeuvel, Eric Lange, Kevin Dunigan, Nick Chacon, Holly Hannula, Bill Seward, Leah Fredkin, James Huang, Rick Garcia, Pat Harvey, Rick Chambers, Jonny Coyne, Michael Papajohn, Marco Rodríguez, Carolyn Gilroy, Ann Cusack, Sharon Tay, Kent Shocknek, Price Carson, Michael Hyatt, Kevin Rahm, Bill Paxton, Riz Ahmed, Rene Russo, Jake Gyllenhaal",
          "DIRECTOR": "Dan Gilroy"
         }
        ],
        [
         "tm161802",
         "The Girl with the Dragon Tattoo",
         2011,
         158,
         "tt1568346",
         "7.8",
         454917,
         "['crime', 'thriller', 'drama']",
         "NO",
         "R",
         {
          "ACTOR": "Mike Zehr, Yasmine Vine, Britt Soderberg, Annica Bejhed, Ian Kitzmiller, Shaun R.L. King, Maja Kin, Patrick Holland, Bern Collaço, Mitcho Batalov, Lennart B. Sandelin, Denise Wessman, Malin Toverud, Sahlima, Christopher Maleki, Darri Ingolfsson, Henry Hereford, Laurence Fuller, Jenifer Brougham, George Gerdes, Leah Shaw, Karen E. Wright, Joel Kinnaman, Embeth Davidtz, Andreas Björklund, Anna Charlotta Gunnarson, Élodie Yung, Bengt Wallgren, Joyce Giraud, Peter Hottinger, Christine Adams, Werner Biermeier, Christian Heller, Fredrik Dolk, Yvonne Åstrand, Anna Carlson, Martina Lotun, Marco Albrecht, Leo Bill, Anne-Li Norberg, Matthew Wolf, Lena Strömdahl, Jan Abramson, Peter Carlberg, Julia Rose, Alan Dale, Alastair Duncan, Tess Panzer, Pierre Sjö Östergren, Arly Jover, Sandra Andreis, Kalle Josephson, Jürgen Klein, Anders Jansson, Mats Andersson, Anders Berg, Reza Dehban, Inga Landgré, Martin Jarvis, Mathias Palmér, Mathilda von Essen, Marcus Johansson, David Dencik, Simon Reithner, Gustaf Hammarsten, Anna Björk, Julian Sands, Sarah Appelberg, Maya Hansson-Bergqvist, Moa Garpendal, Eva Fritjofson, Josefin Asplund, Per Myrberg, Tony Way, Bengt C.W. Carlsson, Ulf Friberg, Donald Sumpter, Goran Visnjic, Geraldine James, Joely Richardson, Yorick van Wageningen, Robin Wright, Steven Berkoff, Stellan Skarsgård, Christopher Plummer, Rooney Mara, Daniel Craig",
          "DIRECTOR": "David Fincher"
         }
        ],
        [
         "tm172027",
         "The Butterfly's Dream",
         2013,
         138,
         "tt2882532",
         "7.8",
         21882,
         "['drama', 'history', 'romance']",
         "TR",
         "PG-13",
         {
          "ACTOR": "Oğuz Okul, Salih Kalyon, İpek Bilgin, Taner Birsel, Ahmet Mümtaz Taylan, Yılmaz Erdoğan, Farah Zeynep Abdullah, Belçim Bilgin, Mert Fırat, Kıvanç Tatlıtuğ",
          "DIRECTOR": "Yılmaz Erdoğan"
         }
        ],
        [
         "tm182322",
         "Kai Po Che!",
         2013,
         126,
         "tt2213054",
         "7.8",
         36512,
         "['drama', 'sport']",
         "IN",
         null,
         {
          "ACTOR": "Ajay Jadeja, Tahir Raj Bhasin, Manav Kaul, Asif Basra, Amrita Puri, Amit Sadh, Rajkummar Rao, Sushant Singh Rajput",
          "DIRECTOR": "Abhishek Kapoor"
         }
        ],
        [
         "tm185072",
         "My Fair Lady",
         1964,
         170,
         "tt0058385",
         "7.8",
         94121,
         "['drama', 'music', 'romance', 'family']",
         "US",
         "G",
         {
          "ACTOR": "Brendan Dillon, Henry Daniell, Lillian Kemble-Cooper, William Beckley, Al Bain, Marni Nixon, Arthur Tovey, Betty Blythe, Marjorie Bennett, Frank Baker, Bert Stevens, Colin Kenny, John Holland, Isobel Elsom, Mona Washbourne, Theodore Bikel, Jeremy Brett, Gladys Cooper, Wilfrid Hyde-White, Stanley Holloway, Rex Harrison, Audrey Hepburn",
          "DIRECTOR": "George Cukor"
         }
        ],
        [
         "tm192405",
         "Gattaca",
         1997,
         106,
         "tt0119177",
         "7.8",
         298168,
         "['thriller', 'drama', 'scifi']",
         "US",
         "PG-13",
         {
          "ACTOR": "Greg Sestero, Lindsey Ginter, Steve Bessen, George Marshall Ruge, Russell Milton, Dean Norris, Gabrielle Reece, Cynthia Martells, Ken Marino, Grace Sullivan, Carlton Benbry, Clarence Graham, Chad Christ, Vincent Nielson, Mason Gamble, Elizabeth Dennehy, Maya Rudolph, Elias Koteas, Una Damon, William Lee Scott, Jayne Brook, Xander Berkeley, Blair Underwood, Ernest Borgnine, Tony Shalhoub, Gore Vidal, Loren Dean, Alan Arkin, Jude Law, Uma Thurman, Ethan Hawke",
          "DIRECTOR": "Andrew Niccol"
         }
        ],
        [
         "tm232579",
         "Hunt for the Wilderpeople",
         2016,
         101,
         "tt4698684",
         "7.8",
         125720,
         "['comedy', 'drama', 'action']",
         "NZ",
         "PG-13",
         {
          "ACTOR": "Finn, Tuss, Selina Woulfe, Stu Giles, Timothy Herbert, Sonia Spyve, Mabelle Dennison, Selena Wolfe, Lloyd Scott, Taika Waititi, Hamish Parkinson, Mike Minogue, Stan Walker, Cohen Holloway, Troy Kingi, Tioreore Ngatai-Melbourne, Oscar Kightley, Rhys Darby, Rachel House, Rima Te Wiata, Julian Dennison, Sam Neill",
          "DIRECTOR": "Taika Waititi"
         }
        ],
        [
         "tm232797",
         "Dunkirk",
         2017,
         107,
         "tt5013056",
         "7.8",
         619645,
         "['drama', 'history', 'thriller', 'war', 'action', 'european']",
         "US",
         "PG-13",
         {
          "ACTOR": "Johnny Otto, Michael Caine, Eric Richard, Harry Collett, Jack Riddiford, Bill Milner, John Nolan, Tom Gill, Charley Palmer Rothwell, Calam Lynch, Kim Hartman, Richard Sanderson, Johnny Gibbon, Jochum ten Haaf, Harry Richardson, Kevin Guthrie, Elliott Tittensor, Brian Vernel, Michael Fox, Brett Lorenzini, Jack Cutmore-Scott, Bradley Hall, Miranda Nolan, Adam Long, Matthew Marsh, James D'Arcy, Tom Nolan, Will Attenborough, Bobby Lockwood, Dean Ridge, Callum Blake, Mikey Collins, Billy Howle, Constantin Balsan, Michel Biel, Luke Thompson, Jack Lowden, Tom Glynn-Carney, James Bloor, Lee Armstrong, Damien Bonnard, Aneurin Barnard, Harry Styles, Barry Keoghan, Cillian Murphy, Kenneth Branagh, Mark Rylance, Tom Hardy, Fionn Whitehead",
          "DIRECTOR": "Christopher Nolan"
         }
        ],
        [
         "tm233544",
         "Marco Polo: One Hundred Eyes",
         2015,
         28,
         "tt5248968",
         "7.8",
         10742,
         "['action', 'history', 'drama']",
         "US",
         null,
         {
          "ACTOR": "Michelle Yeoh, Benedict Wong, Masayoshi Haneda, Tom Wu",
          "DIRECTOR": "Alik Sakharov"
         }
        ],
        [
         "tm240162",
         "Udta Punjab",
         2016,
         148,
         "tt4434004",
         "7.8",
         29819,
         "['crime', 'action', 'drama']",
         "IN",
         "R",
         {
          "ACTOR": "Harrdy Sandhu, Ishaan Khattar, Mahabir Bhullar, Prabhjhyot Singh, Suhail Nayyar, Vansh Bhardwaj, Manav Vij, Satish Kaushik, Diljit Dosanjh, Alia Bhatt, Kareena Kapoor Khan, Shahid Kapoor",
          "DIRECTOR": "Abhishek Chaubey"
         }
        ],
        [
         "tm244149",
         "The Irishman",
         2019,
         209,
         "tt1302006",
         "7.8",
         371209,
         "['drama', 'crime', 'history', 'thriller']",
         "US",
         "R",
         {
          "ACTOR": "Rick Bolander, Michael Cullum, Tommy Bayiokos, Vanessa Mitchell, Dean Ciallella, Michael Iacono, Fidel Castro, John F. Kennedy, Jacqueline Kennedy, Craig 'Radioman' Castaldo, Amelia Brain, Kevin Kane, Bill McHugh, Ernest L. Sanders Jr., Thomas J. McDonald, Bill Timoney, Stanley Burns, David Aaron Baker, Alfred Nittoli, Patrick Borriello, Joe Passaro, Johnny Potenza, Mario Corry, Saint Marino, Tracy J. Everitt, Barbara Eyland, Jeremy Luke, Joseph Russo, Clark Carmichael, Nina Lafarga, Anne Horak, Michael Romeo Ruocco, Lucia Giannetta, Robin Kerbis, Gino Cafarelli, Stephen Mailer, Peter J. Fernandez, Matt Walton, Tim Neff, Jill Brown, Blaise Corrigan, Mark Fairchild, Jeff DeHart, Logan Crawford, Samantha Coppola, Nicholas Chrysan, Lori Arkin, Siena Marino, Margaret Anne Florence, John Bianco, Michael Bottari, Lou Martini Jr., Erick Zamora, Dominick LaRuffa Jr., Cilda Shaur, Paul Pearlman, Giacomino J. Matra, James D. Forsha, Brent Langdon, Luke Smith, Steve Witting, Thomas J. Jenkins, John Scurti, Jack Caruso, John Garrett Greer, Kelley Rae O'Donnell, Lauren Aparicio, Diana Agostini, Joe Giorgio, Alfred Sauchelli Jr., Steve Beauchamp, Vincenzo DelRiccio, Cliff Moylan, Matthew F. O'Connor, Eugene Bunge, Michael Gongora, Charles DelGatto, Peter Claymore, Fernando Vera, Steve Routman, John Rue, Ken Wulf Clark, Rebecca Faulkenberry, Lawrence Smith, Vince Maritato, Robert C. Kirk, Jeffrey Paul, James Lorinz, Aldo Sergi, Meghan Rafferty, Marco Greco, Ron Castellano, James Ciccone, Mike Massimino, Veronica Alicino, James Licata, Steven Maglio, Paul Borghese, Jon Bruno, Ira Drukier, Craig DiFrancia, Larry Mazza, Vito Picone, Richard V. Licata, Samantha Soule, Patrick Murney, Johnny T. Sollitto, Frank Aquilino, Frank Pietrangolare, Garry Pastore, Al Linea, James P. Harkins, Michael C. Brennan, Jason A. Iannacone, Tony Suriano, Philip Suriano, Bernie Martin, Kate Arrington, Jordyn DiNatale, India Ennenga, Jennifer Mudge, Tess Price, Robert Funaro, Rich Reilly, Robert Mladinich, John Cenatiempo, Thomas E. Sullivan, Vinny Vella, Joseph Riccobene, John Polce, Craig Vincent, Louis Vanaria, Jamil Antonio Stefan, Joseph Bono, J. C. MacKenzie, Anthony J. Gallo, Danny A. Abeckaser, Barry Primus, Jake Hoffman, James Martin, Patrick Gallo, Paul Ben-Victor, Glenn Cunningham, Action Bronson, Kevin O'Rourke, Billy Smith, Jim Norton, Daniel Jenkins, Aleksa Palladino, Bo Dietl, Dascha Polanco, Jonathan Morris, Lucy Gallina, Steven Van Zandt, Sebastian Maniscalco, Marin Ireland, Gary Basaraba, Louis Cancelmi, Paul Herman, Domenick Lombardozzi, Jack Huston, Jesse Plemons, Welker White, Kathrine Narducci, Stephanie Kurtzuba, Anna Paquin, Bobby Cannavale, Harvey Keitel, Ray Romano, Stephen Graham, Joe Pesci, Al Pacino, Robert De Niro",
          "DIRECTOR": "Martin Scorsese"
         }
        ],
        [
         "tm325325",
         "The Game Changers",
         2019,
         88,
         "tt7455754",
         "7.8",
         19708,
         "['documentation']",
         "US",
         null,
         {
          "ACTOR": "Tia Blanco, Dotsie Bausch, Scott Jurek, Patrik Baboumian, Arnold Schwarzenegger, James Wilks",
          "DIRECTOR": "Louie Psihoyos"
         }
        ],
        [
         "tm441050",
         "The Gentlemen",
         2019,
         113,
         "tt8367814",
         "7.8",
         314049,
         "['comedy', 'crime', 'action']",
         "US",
         "R",
         {
          "ACTOR": "Bugzy Malone, Jason Lines, Geraldine Somerville, Tom Wu, Elle Black, James Warren, Lyne Renee, Eugenia Kuzmina, Jack Jones, Togo Igawa, Danny Griffin, Bruce Chong, Max Bennett, Jordan Long, Steve Barnett, Russell Balogh, Chloe Arrowsmith, Eliot Sumner, Christopher Evangelou, Mike Bodnar, Jordan Long, Jason Wong, Brittany Ashworth, Simon R. Barker, Chidi Ajufo, Eddie Marsan, Hugh Grant, Colin Farrell, Jeremy Strong, Michelle Dockery, Henry Golding, Charlie Hunnam, Matthew McConaughey",
          "DIRECTOR": "Guy Ritchie"
         }
        ],
        [
         "tm447439",
         "System Crasher",
         2019,
         118,
         "tt8535968",
         "7.8",
         12699,
         "['drama', 'european']",
         "DE",
         null,
         {
          "ACTOR": "Sashiko Hara, Samantha Hanses, Louis von Klipstein, Asad Schwarz, Fine Belger, Helena Gutscha, Marie von der Groeben, Mathilda Florczyk, Moritz Thiel, Jannes Kupsch, Noah Lakmes, Cederic Mardon, Gennaro Trama, Ida Goetzev, Bruno Thiel, Stella Brückner, Julia Becker, Till Butterbach, Bärbel Schwarz, Steffi Kühnert, Hanife Sylejmani, Barbara Philipp, Roland Bonjour, Peter Schneider, Jana Julia Roth, Victoria Trauttmansdorff, Imke Büchel, Axel Werner, Gisa Flake, Tedros Teclebrhan, Matthias Brenner, Melanie Straub, Maryam Zaree, Lisa Hagmeister, Gabriela Maria Schmeide, Albrecht Schuch, Helena Zengel",
          "DIRECTOR": "Nora Fingscheidt"
         }
        ],
        [
         "tm458328",
         "Badla",
         2019,
         120,
         "tt8130968",
         "7.8",
         27130,
         "['thriller', 'crime', 'drama']",
         "IN",
         "PG-13",
         {
          "ACTOR": "Tariqsafdar Hussain, Paul Ellard, Begonia Villalba, Shome Makhija, Maram Kamal, Selina Hotwani, Jason Hetherington, Rachel Flynn, April Agarwal-Aplin, Denzil Smith, Tanveer Ghani, Manav Kaul, Amrita Singh, Tony Luke, Taapsee Pannu, Amitabh Bachchan",
          "DIRECTOR": "Sujoy Ghosh"
         }
        ],
        [
         "tm86803",
         "The Social Network",
         2010,
         121,
         "tt1285016",
         "7.8",
         681286,
         "['drama']",
         "US",
         "PG-13",
         {
          "ACTOR": "Cooper Conley-Currier, Georgina Tolentino, Rebecca Tilney, Adrienne Rusk, Alexandra Ruddy, Jeff Rosick, Tia Robinson, Miriam Pultro, Riley Voelkel, Naina Michaud, Eric La Barr, Kandis Mak, Sara Murphy, Eli Jane, Jessica Franz, Bryan Forrest, Carlos Foglia, Jason Flemyng, Vincent Rivera, Tony DeSean, Calvin Dean, Chad Davis, Tatum Miranda, Kristen Clement, Patrick Michael Strange, Nathan Dean Snyder, Brett A. Newton, Elliott Ehlers, Tony Calle, Mike Bash, David Broyles, Jesse Heiman, Noah Baron, Inbal Amirav, Andrew Thacher, Franco Vega, Caleb Landry Jones, Jeff Martineau, Cherilyn Wilson, Lacey Beeman, Darin Cooper, Cayman Grant, Monique Edwards, Alex Reznik, Christopher Khai, Kyle Fain, Aaron Sorkin, Nancy Linari, Cali Fredrichs, Brett Leigh, Brian Palermo, Pamela Roylance, Carrie Armstrong, Randy Evans, Marcella Lentz-Pope, Scotty Crowe, Robert Dastoli, James Dastoli, Toby Meuli, Chris Gouchoe, Dustin Fitzsimons, Trevor Wright, Peter Holden, Amy Ferguson, Felisha Terrell, Adina Porter, Jared Hillman, Caitlin Gerard, Scott Lawrence, Oliver Muirhead, James Shanklin, John Hayden, Emma Fitzpatrick, Inger Tudor, Cedric Sanders, Mark Saul, Mariah Bonner, Abhi Sinha, Shelby Young, Barry Livingston, Bryan Barter, Melise, Dakota Johnson, Patrick Mapel, Wallace Langham, Joseph Mazzello, Douglas Urbanski, Josh Pence, Denise Grayson, David Selby, John Getz, Rashida Jones, Brenda Song, Rooney Mara, Max Minghella, Armie Hammer, Justin Timberlake, Andrew Garfield, Jesse Eisenberg",
          "DIRECTOR": "David Fincher"
         }
        ],
        [
         "tm96595",
         "Lakshya",
         2004,
         186,
         "tt0323013",
         "7.8",
         23076,
         "['drama', 'romance', 'war', 'action']",
         "IN",
         "G",
         {
          "ACTOR": "M. K. Raina, Amit Behl, Aditya Srivastava, Arav Chowdhary, Nawab Shah, Vipul Gupta, Vishal Vijay Kumar, Surendra Pal, Amrish Puri, Abhimanyu Singh, Kushal Punjabi, Abir Goswami, Lillete Dubey, Parmeet Sethi, Ranvir Shorey, Boman Irani, Rajendranath Zutshi, Om Puri, Sushant Singh, Amitabh Bachchan, Preity Zinta, Hrithik Roshan",
          "DIRECTOR": "Farhan Akhtar"
         }
        ],
        [
         "tm105329",
         "Road to Perdition",
         2002,
         117,
         "tt0257044",
         "7.7",
         263212,
         "['thriller', 'documentation', 'crime', 'drama']",
         "US",
         "R",
         {
          "ACTOR": "Paul Turner, Anthony LaPaglia, James Greene, Peggy Roeder, Harry Groener, Diane Dorsey, Maureen Gallagher, Rob Maxey, Ian Barford, Kerry Rossall, John Judd, Nicolas Cade, Lance Baker, Heidi Jayne Netzley, Mina Badie, Lara Phillips, Keith Kupferer, Roderick Peeples, Michael Sassone, Duane Sharp, Kurt Naebig, Doug Spinuzza, Kevin Chamberlin, David Darlow, Ciarán Hinds, Dylan Baker, Liam Aiken, Tyler Hoechlin, Daniel Craig, Stanley Tucci, Jennifer Jason Leigh, Jude Law, Paul Newman, Tom Hanks",
          "DIRECTOR": "Sam Mendes"
         }
        ],
        [
         "tm119281",
         "Bonnie and Clyde",
         1967,
         110,
         "tt0061418",
         "7.7",
         111189,
         "['drama', 'crime', 'action']",
         "US",
         "R",
         {
          "ACTOR": "Ken Mayer, Ann Palmer, Russ Marker, Clyde Howdy, Owen Bush, Patrick Cranshaw, Mabel Cavitt, Gene Wilder, Evans Evans, Dub Taylor, Denver Pyle, Estelle Parsons, Gene Hackman, Michael J. Pollard, Faye Dunaway, Warren Beatty",
          "DIRECTOR": "Arthur Penn"
         }
        ],
        [
         "tm136257",
         "Beasts of No Nation",
         2015,
         137,
         "tt1365050",
         "7.7",
         80129,
         "['war', 'drama']",
         "US",
         "R",
         {
          "ACTOR": "David Dontoh, Nataliah Andoh, Emmary Brown, Grace Nortey, Fred Nii Amugi, Francis Weddey, Andrew Adote, Nana Mensah, Ernest Abbeyquaye, Ricky Adelayitor, Jude Akuwudike, Kurt Egyiawan, John Arthur, Kobina Amissah-Sam, Ama K. Abebrese, Richard Pepple, Emmanuel Affadzi, Opeyemi Fagbohungbe, Emmanuel Nii Adom Quaye, Idris Elba, Abraham Attah",
          "DIRECTOR": "Cary Joji Fukunaga"
         }
        ],
        [
         "tm138875",
         "When Harry Met Sally...",
         1989,
         96,
         "tt0098635",
         "7.7",
         212913,
         "['romance', 'comedy', 'drama']",
         "US",
         "R",
         {
          "ACTOR": "Anthony Welch, Terry Vaughan, John Speredakos, Marilyn Spanier, Larry Sherman, Stanley Moore, Randy James, Nicholas Glaeser, Jeff Dlugolecki, Bob Ader, Jane Chung, Peter Pan, Dona Hardy, Aldo Rossi, Rose Wright, Bernie Hern, Frances Chaney, Katherine Squire, Kuno Sponholz, Connie Sawyer, John Arceri, Estelle Reiner, Stacey Katzin, Kimberley LaMarque, Kyle T. Heffner, Tracy Reiner, Franc Luz, Kevin Rooney, Joseph Hunt, Harley Jane Kozak, Joe Viviani, David Burdick, Robert Alan Beuth, Gretchen Palmer, Michelle Nicastro, Lisa Jane Persky, Steven Ford, Bruno Kirby, Carrie Fisher, Meg Ryan, Billy Crystal",
          "DIRECTOR": "Rob Reiner"
         }
        ],
        [
         "tm14873",
         "Dirty Harry",
         1971,
         102,
         "tt0066999",
         "7.7",
         153463,
         "['thriller', 'crime', 'action']",
         "US",
         "R",
         {
          "ACTOR": "Diane Darnell, Sean Maley, Derek Jue, Richard Samuelson, Pamela Tanimura, Janet Wisely, Gordon Chapli, Marc Hertsens, Tony Dario, Kristoffer Tabori, Don Siegel, Debralee Scott, Victor Paul, Angela Paton, Kathleen O'Malley, Ann Noland, Laurie Mock, Richard Lawson, Raymond Johnson, Chuck Hicks, Bob Harris, Kate Harper, Scott Hale, Don Haggerty, David Gilliam, James W. Gavin, Eddie Garrett, Christopher Pray, John Garber, Max Gail, Lois Foraker, George Fargo, Larry Duran, Al Dunlap, Chuck Dorsett, Vince Deadrick Sr., Diana Davidson, Bill Couch, Joy Carlin, Albert Popwell, Craig Kelly, Jo De Winter, Maurice Argent, James Nolan, William Paterson, Josef Sommer, Woodrow Parfrey, Ruth Kobart, Lyn Edgington, Mae Mercer, John Mitchum, John Larch, Andrew Robinson, John Vernon, Reni Santoni, Harry Guardino, Clint Eastwood",
          "DIRECTOR": "Don Siegel"
         }
        ],
        [
         "tm164877",
         "Midnight in Paris",
         2011,
         94,
         "tt1605783",
         "7.7",
         413541,
         "['fantasy', 'romance', 'comedy']",
         "US",
         "PG-13",
         {
          "ACTOR": "Kenneth Edelson, Michel Vuillermoz, Marianne Basler, François Rostain, Olivier Rabourdin, Vincent Menjou Cortes, Catherine Benguigui, Karine Vanasse, Sava Lolov, Laurent Claret, Yves-Antoine Spoto, Atmen Kelif, David Lowe, Gad Elmaleh, Serge Bagdassarian, Adrien de Van, Tom Cordier, Adrien Brody, Emmanuelle Uzan, Marcial Di Fonzo Bo, Kathy Bates, Thérèse Bourou-Rubinsztein, Laurent Spielvogel, Daniel Lundh, Corey Stoll, Sonia Rolland, Tom Hiddleston, Alison Pill, Yves Heck, Marie-Sohna Conde, Audrey Fleurot, Guillaume Gouix, Thierry Hancisse, Maurice Sonnenberg, Carla Bruni, Léa Seydoux, Marion Cotillard, Nina Arianda, Michael Sheen, Mimi Kennedy, Kurt Fuller, Rachel McAdams, Owen Wilson",
          "DIRECTOR": "Woody Allen"
         }
        ],
        [
         "tm177958",
         "Pyaar Ka Punchnama",
         2011,
         149,
         "tt1926313",
         "7.7",
         21204,
         "['romance', 'comedy', 'drama', 'european']",
         "IN",
         "PG-13",
         {
          "DIRECTOR": "Esen Işık"
         }
        ],
        [
         "tm183002",
         "Madras Cafe",
         2013,
         130,
         "tt2855648",
         "7.7",
         24319,
         "['thriller', 'action', 'drama']",
         "IN",
         "PG-13",
         {
          "ACTOR": "Swaroopa Ghosh, Malini Sathappan, Kanan Arunachalam, Udhayabanu Mageswaran, Leena Maria Paul, Dinesh Prabhakar, Avijit Dutt, Piyush Pandey, Prakash Belawadi, Ajay Rathnam, Siddhartha Basu, Raashii Khanna, Nargis Fakhri, John Abraham",
          "DIRECTOR": "Shoojit Sircar"
         }
        ],
        [
         "tm191989",
         "Donnie Brasco",
         1997,
         127,
         "tt0119008",
         "7.7",
         300073,
         "['thriller', 'drama', 'crime']",
         "US",
         "R",
         {
          "ACTOR": "Larry Tobias, Dale Resteghini, Garry Pastore, Antone Pagán, Peter O'Hara, Jim Lavin, Barry Hirschberg, Teresa Giudice, Mark Todd Bruner, Frank Bonsangue, Flint Beverage, Caleb, Pat Vecchio, Carmelo Musacchia, Gaetano LoGiudice, Edward Black, Tony Ray Rossi, Richard Zavaglia, John Di Benedetto, Randy Jurgensen, Frank Pesce, Joyce Stovall, Sandy Barber, LaJuan Carter, Dan Brennan, John Horton, Elaine del Valle, Denise Faye, Elle Alexander, Doreen Murphy, Laura Cahill, Billy Capucilli, Sal Jenco, Joe Francis, Rocco Musacchia, Keenan Shimizu, Andrew Parks, James Bulleit, James McCauley, Larry Romano, Sara Gold, Katie Sagona, Delanie Fitzpatrick, Madison Arnold, Val Avery, George Angelica, Tony Lip, Terry Serpico, Ronnie Farer, Walt MacPherson, Tim Blake Nelson, Gretchen Mol, Paul Giamatti, Robert Miano, Gerry Becker, Zach Grenier, Rocco Sisto, Brian Tarantina, Zeljko Ivanek, Anne Heche, James Russo, Bruno Kirby, Michael Madsen, Al Pacino, Johnny Depp",
          "DIRECTOR": "Mike Newell"
         }
        ],
        [
         "tm193211",
         "Mucize",
         2015,
         136,
         "tt6876670",
         "7.7",
         12395,
         "['drama', 'comedy', 'romance', 'documentation', 'european']",
         "TR",
         "PG-13",
         {
          "ACTOR": "Billur Yılmaz, Berivan Karaman, Talat Bulut, Serpil Gül, Erol Demiröz, Büşra Pekin, Ali Sürmeli, Seda Tosun, Meral Çetinkaya, Mahsun Kırmızıgül, Mert Turak",
          "DIRECTOR": "Mahsun Kırmızıgül"
         }
        ],
        [
         "tm233344",
         "Kapoor & Sons",
         2016,
         132,
         "tt4900716",
         "7.7",
         25792,
         "['romance', 'comedy', 'drama', 'family']",
         "IN",
         "PG-13",
         {
          "ACTOR": "Edward Sonnenblick, Rupa Kamath, Arbaaz Kadwani, Elena Roxana Maria Fernandes, Aakriti Dobhal, Anuradha Chandan, Aditya Gunavanthe, Sukant Goel, Aalekh Kapoor, Niti Apurva Patel, Vikram Kapadia, Anahita Oberoi, Rajat Kapoor, Rishi Kapoor, Ratna Pathak, Alia Bhatt, Fawad Khan, Sidharth Malhotra",
          "DIRECTOR": "Shakun Batra"
         }
        ],
        [
         "tm244259",
         "Wind River",
         2017,
         106,
         "tt6185846",
         "7.7",
         240408,
         "['thriller', 'crime', 'drama', 'western']",
         "FR",
         "R",
         {
          "ACTOR": "Tara Karsian, Teresa Duran-Norvick, David Cardona, Dana Anquoe, Ian Roylance, Norman Lehnert, Blake Robbins, Chris Romrell, Mason D. Davis, Gabe Casdorph, Ian Bohen, Austin R. Grant, Dallin Tusieseina, Shayne J. Cullen, Tyler Laracca, Tokala Black Elk, Althea Sam, Apesanahkwat, Graham Greene, Jon Bernthal, Martin Sensmeier, Eric Lange, James Jordan, Julia Jones, Hugh Dillon, Matthew Del Negro, Tantoo Cardinal, Teo Briones, Kelsey Asbille, Gil Birmingham, Elizabeth Olsen, Jeremy Renner",
          "DIRECTOR": "Taylor Sheridan"
         }
        ],
        [
         "tm288499",
         "Roma",
         2018,
         135,
         "tt6155172",
         "7.7",
         153508,
         "['drama', 'european']",
         "MX",
         "R",
         {
          "ACTOR": "Kjartan Halvorsen, Nicolás Peréz Taylor Félix, Enoc Leaño, Clementina Guadarrama, Edwin Mendoza Ramírez, José Luis López Gómez, Zarela Lizbeth Chinolla Arellano, Victor Manuel Resendiz Ruiz, Andy Cortés, José Manuel Guerrero Mendoza, Jorge Antonio Guerrero, Fernando Grediaga, Verónica García, Nancy García García, Daniela Demesa, Marco Graf, Carlos Peralta, Diego Cortina Autrey, Marina de Tavira, Yalitza Aparicio",
          "DIRECTOR": "Alfonso Cuarón"
         }
        ],
        [
         "tm349803",
         "Jim & Andy: The Great Beyond - Featuring a Very Special, Contractually Obligated Mention of Tony Clifton",
         2017,
         94,
         "tt7214762",
         "7.7",
         25593,
         "['comedy', 'documentation']",
         "US",
         null,
         {
          "ACTOR": "Andy Kaufman, Bob Zmuda, Michael Stipe, George Shapiro, Courtney Love, Carol Kane, Lynne Margulies, Jon Lovitz, David Letterman, Jerry Lawler, Carol Kane, Elton John, Hugh Hefner, Paul Giamatti, Andy Dick, Randall Carver, Peter Bonerz, Judd Hirsch, Miloš Forman, Danny DeVito, Jim Carrey",
          "DIRECTOR": "Chris Smith"
         }
        ],
        [
         "tm351201",
         "In the Family",
         2017,
         124,
         "tt7642818",
         "7.7",
         23297,
         "['comedy']",
         "TR",
         "PG-13",
         {
          "ACTOR": "Erdal Cindoruk, Ünal Yeter, Arif Erkin Güzelbeyoğlu, Rıza Akın, Devin Özgür Çınar, Deniz Hamzaoğlu, Ayta Sözeri, Su Kutlu, Derya Karadaş, Gülse Birsel, Şevket Çoruh, Fatih Artman, Devrim Yakut, Erdal Özyağcılar, Demet Evgar, Engin Günaydın",
          "DIRECTOR": "Ozan Açıktan"
         }
        ],
        [
         "tm366590",
         "Sanju",
         2018,
         161,
         "tt6452574",
         "7.7",
         52227,
         "['drama', 'comedy']",
         "IN",
         null,
         {
          "ACTOR": "Ashnoor Kaur, Sanjay Dutt, Arshad Warsi, Tabu, Sayaji Shinde, Jim Sarbh, Karishma Tanna, Boman Irani, Sonam Kapoor, Manisha Koirala, Dia Mirza, Anushka Sharma, Vicky Kaushal, Paresh Rawal, Ranbir Kapoor",
          "DIRECTOR": "Rajkumar Hirani"
         }
        ],
        [
         "tm37945",
         "Rock On!!",
         2008,
         144,
         "tt1230165",
         "7.7",
         21963,
         "['drama', 'music']",
         "IN",
         null,
         {
          "ACTOR": "Anu Malik, Suraj Jagan, Dalip Tahil, Monica Dogra, Nicolette Bird, Koel Purie, Shahana Goswami, Prachi Desai, Luke Kenny, Purab Kohli, Arjun Rampal, Farhan Akhtar",
          "DIRECTOR": "Abhishek Kapoor"
         }
        ],
        [
         "tm38064",
         "Berserk: The Golden Age Arc II - The Battle for Doldrey",
         2012,
         80,
         "tt2358911",
         "7.7",
         10257,
         "['fantasy', 'drama', 'horror', 'animation', 'action']",
         "JP",
         "R",
         {
          "ACTOR": "Kazuki Yao, Kenta Miyake, Yoshiro Matsumoto, Rikiya Koyama, Minako Kotobuki, Yuki Kaji, Takahiro Fujiwara, Toa Yukinari, Takahiro Sakurai, Hiroaki Iwanaga",
          "DIRECTOR": "Toshiyuki Kubooka"
         }
        ],
        [
         "tm43179",
         "Oye Lucky! Lucky Oye!",
         2008,
         126,
         "tt1292703",
         "7.7",
         17411,
         "['comedy', 'drama', 'action', 'crime']",
         "IN",
         null,
         {
          "ACTOR": "Rajendra Sethi, Kamlesh Gill, Manjot Singh, Vishal Malhotra, Rajeev Khandelwal, Manu Rishi Chadha, Richa Chadha, Archana Puran Singh, Neetu Chandra, Paresh Rawal, Abhay Deol",
          "DIRECTOR": "Dibakar Banerjee"
         }
        ],
        [
         "tm59428",
         "Silver Linings Playbook",
         2012,
         122,
         "tt1045658",
         "7.7",
         697481,
         "['drama', 'romance', 'comedy']",
         "US",
         "R",
         {
          "ACTOR": "Carsen Warner, Mike Wilson, Brian Anthony Wilson, Jen Weissenberg, Ryan Tygh, Ryan Shank, Thomas Walton, Vincent Riviezzo, Charles Pendelton, Jeni Miller, Montana Marks, Raymond Mamrak, David Kneeream, Andrea Havens, Matthew James Gulbranson, Marty Krzywonos, Jae Greene, Shawn Gonzalez, Liam Ferguson, Luisa Diaz, Lindsay Schnebly, Joe Cappelletti, Jeffrey Mowery, Robert Bizik, Lavonne Nichols, Carol Anne Mueller, Jaclyn McHugh, Traci Law, Todd Anthony, Lana Rossi, Dicky Eklund Jr., Tiffany E. Green, Mihir Pathak, Sanjay Shende, Pete Postiglione, Madhu Narula, Ted Barba, Samantha Gelnaw, Jeff Reim, Patsy Meck, Anthony Lawton, Mary Regency Boies, Phillip Chorba, Patrick McDade, Cheryl Williams, Matthew Russell, Paul Herman, Brea Bee, Bonnie Aarons, John Ortiz, Anupam Kher, Dash Mihok, Shea Whigham, Julia Stiles, Chris Tucker, Jacki Weaver, Robert De Niro, Jennifer Lawrence, Bradley Cooper",
          "DIRECTOR": "David O. Russell"
         }
        ],
        [
         "tm60292",
         "Argo",
         2012,
         120,
         "tt1024648",
         "7.7",
         600392,
         "['drama', 'thriller']",
         "US",
         "R",
         {
          "ACTOR": "Jimmy Carter, Philip Baker Hall, Matt McColm, Taylor Schilling, Michael Chieffo, Deborah Deimel Bean, Ken Edling, Maz Siam, Nancy Stelle, Yan Feldman, Alex Schemmer, John Hans Tester, Brandon Tabassi, Fahim Fazli, Annie Little, Puya Abbassi, Saba Sarem, Sam Sheikholeslami, Bahram Khosraviani, Cas Anvar, Baris Deli, Amir K, Tehmina Sunny, Fanshen Cox, Danilo Di Julio, Larry Sullivan, Tim Quill, Lindsey Ginter, Leyla Beysulen, Asghar Allah Veirdi Zadeh, Muhammed Cangören, Sahm McGlynn, Ali Farkhonde, Peter Henry Schroeder, Houshang Touzie, Dorianne Pahlavan, Hovik Gharibian, Soheil Tasbihchi, Mehrdad Sarlak, Ray Haratian, Bobby Naderi, Allegra Carpenter, Rafi Pitts, Taies Farzan, Ali Fiori, Amitis Frances Ariano, Andrew Varenhorst, Joseph S. Griffo, Daston Kalili, Bill Blair, Scott Elrod, Mark Rhino Smith, Kelly Curran, Nelson Franklin, Tom Lenk, Adrienne Barbeau, Eric Scott Cooper, Michael Parks, Danielle Barbosa, Stephen J. Lattanzi, Ray Porter, Rob Tepper, Ashley Wood, Scott Anthony Leet, Araz Vahid Ebrahim Nia, Ali Saam, Barry Livingston, Aidan Sussman, Nikka Far, Yuriy Sardarov, John Boyd, Michael Cassidy, Jean Carol, David Sullivan, Rob Brownstein, Bill Kalmenson, J.R. Cacia, Matt Nolan, Victor McCay, Bobby Zegar, Sharareh Sedghi, Michael Woolston, Ruty Rutenberg, Alborz Basiratmand, Jon Woodward Kirby, Christopher Stanley, Roberto Garcia, Matthew Glave, Jamie McShane, Bill Tangradi, Ryan Ahern, Karina Logue, Sheila Vand, Farshad Farahat, Page Leong, Omid Abtahi, Richard Dillane, Richard Kind, Bob Gunton, Keith Szarabajka, Titus Welliver, Zeljko Ivanek, Chris Messina, Kyle Chandler, Kerry Bishé, Christopher Denham, Rory Cochrane, Scoot McNairy, Clea DuVall, Tate Donovan, Victor Garber, John Goodman, Alan Arkin, Bryan Cranston, Ben Affleck",
          "DIRECTOR": "Ben Affleck"
         }
        ],
        [
         "tm72587",
         "Guru",
         2007,
         166,
         "tt0499375",
         "7.7",
         23541,
         "['romance', 'documentation', 'drama', 'european']",
         "IN",
         "PG-13",
         {
          "ACTOR": "Elina Wadiwala, Sudhir Pandey, Sanjay Mishra, Sarita Joshi, Darshan Jariwala, Rajendra Gupta, Mukesh Bhatt, Arjan Bajwa, Roshan Seth, Nina Kulkarni, Dhritiman Chatterjee, Manoj Joshi, Sachin Khedekar, Prathap Pothan, Mallika Sherawat, Arya Babbar, Vidya Balan, R. Madhavan, Mithun Chakraborty, Aishwarya Rai Bachchan, Abhishek Bachchan",
          "DIRECTOR": "Mani Ratnam"
         }
        ],
        [
         "tm840196",
         "The Trial of the Chicago 7",
         2020,
         130,
         "tt1070874",
         "7.7",
         170728,
         "['drama', 'history', 'thriller']",
         "US",
         "R",
         {
          "ACTOR": "Lex Elle, Elizabeth Holder, Michael A. Dean, Thomas John Gallagher, Keeley Morris, Dan MacDonald, Brendan Brown, Maria Jacobson, Jeffrey Yonkus, Shane Skidmore, Allison Trumbo, Ashley Trumbo, Hana Chew, Marlee Mendelson, Sam Nelson Harris, David Fierro, Alex Henderson, Ed Flynn, Gabriel Franken, Ben Kass, Marco Lama, Steven Komito, Jessica Wood, Blair Lewin, Edward Fletcher, Kate Miller, John Quilty, Julian Hester, Shawn Parsons, Michael Bassett, Max Adler, Christian Litke, Matt LeFevour, Kathleen Garrett, Tony Lawry, Michelle Hurst, Gabrielle Perrea, Calvin Ticknor-Swanson, Brandon Fierro, Vic Kuligoski, James Pravasilis, Mike Brunlieb, Mike Geraghty, Larry Mitchell, John F. Carpenter, Madison Nichols, Steve Routman, Tiffany Denise Hobbs, Gavin Haag, Kevin O'Donnell, John Gawlik, Alan Metoskie, Tah von Allmen, Brendan Burke, Juliette Angelo, Meghan Rafferty, Brady Jenness, C.J. Wilson, Damian Young, Wayne Duvall, John Doman, J. C. MacKenzie, Alice Kremelberg, Caitlin Fitzgerald, Kelvin Harrison Jr., Ben Shenkman, Danny Flaherty, Noah Robbins, Jeremy Strong, Yahya Abdul-Mateen II, Alex Sharp, Mark Rylance, John Carroll Lynch, Frank Langella, Michael Keaton, Joseph Gordon-Levitt, Sacha Baron Cohen, Eddie Redmayne",
          "DIRECTOR": "Aaron Sorkin"
         }
        ],
        [
         "tm133374",
         "The Blind Side",
         2009,
         129,
         "tt0878804",
         "7.6",
         323939,
         "['drama', 'sport']",
         "US",
         "PG-13",
         {
          "ACTOR": "Tommy Tuberville, Nick Saban, \"Franklin \"\"Pepper\"\" Rodgers\", Ed Orgeron, Houston Nutt, Tom Lemming, Lou Holtz, Phillip Fulmer, Lamont Koonce, Michael Fisher, Joe Chrest, John Henry Hancock, John Newberg, Ben Keen, Jaye Tyroff, April Rich, Destiny Long, Omid Soltani, Trey Best, Matthew Atkinson, Preston Wigasi Brant, Kevin Nichols, Brett Rice, L. Warren Young, James Donadio, Jody Thompson, Brandon Rivers, Rachel St. Gelais, Brian Sutherin, Whitney Branan, Robert Pralgo, Kelly Johns, Catherine Combs, David Dwyer, Eric Benson, Patrick G. Keenan, Maria Howell, Afemo Omilami, Elizabeth Omilami, Stacey Turner, Ashley LeConte Campbell, Eaddy Mays, Rhoda Griffis, Hampton Fluker, Irone Singleton, Paul Amadi, Omar J. Dorsey, Sharon Conley, Melody Weintraub, Brian Hollan, Libby Whittemore, Tom Nowicki, Andy Stahl, Catherine Dyer, Kathy Bates, Adriane Lenox, Kim Dickens, Ray McKinnon, Lily Collins, Jae Head, Quinton Aaron, Tim McGraw, Sandra Bullock",
          "DIRECTOR": "John Lee Hancock"
         }
        ],
        [
         "tm133767",
         "Love Actually",
         2003,
         139,
         "tt0314331",
         "7.6",
         474176,
         "['drama', 'comedy', 'romance']",
         "GB",
         "R",
         {
          "ACTOR": "Richard Wills-Cotton, Anne Reid, Richard Curtis, Frances de la Tour, Jeanne Moreau, Emma Buckley, Raul Atalaia, Arturo Venegas, Ruby Turner, Margery Mason, Colin Coull, William Wadham, Michael FitzGerald, Meg Wynn Owen, Michael Parkinson, Brian Bovell, Jo Whiley, Elisabeth Margoni, Nancy Sorrell, Laura Rees, Bill Moody, Joanna Bacon, Declan Donnelly, Anthony McPartlin, Marcus Brigstocke, Ivana Miličević, Richard Hawley, Caroline John, Edward Hardwicke, Julia Davis, Jont Whittington, Lynden David Hall, Jill Raymond, Frank Moorey, Tim Hatwell, Carla Vasconcelos, Rory MacGregor, Sheila Allen, Dan Fredenburgh, Sienna Guillory, Olivia Olson, Lulu Popplewell, Claudia Schiffer, Billy Bob Thornton, Nina Sosanya, Denise Richards, Shannon Elizabeth, January Jones, Elisha Cuthbert, Adam Godley, Kris Marshall, Joanna Page, Gregor Fisher, Lúcia Moniz, Heike Makatsch, Rodrigo Santoro, Thomas Brodie-Sangster, Rowan Atkinson, Martin Freeman, Chiwetel Ejiofor, Andrew Lincoln, Keira Knightley, Martine McCutcheon, Colin Firth, Laura Linney, Bill Nighy, Emma Thompson, Alan Rickman, Liam Neeson, Hugh Grant",
          "DIRECTOR": "Richard Curtis"
         }
        ],
        [
         "tm135451",
         "Gifted Hands: The Ben Carson Story",
         2009,
         86,
         "tt1295085",
         "7.6",
         10210,
         "['drama']",
         "US",
         null,
         {
          "ACTOR": "Matthew Winne, Armon York Williams, Alan Wilder, Joseph Victor, Sarana VerLin, Steve Swanson, Morris Lee Sullivan, Tom Stewart, Joe Sacksteder, Grace Anne Rowan, Ray Daniel Rogers, Steven Proehl, Mark Nunez, Kathi J. Moore, Curtis Matzke, Michael Marx, McKenna Martin, Alisa Martin, Runako Marshall, Lawrence W. Leach, Diane M. Leach, Candace M. Laferle, Doug Kolbicz, Dave Kilgore, David Gibson, Penny Gibbs, Lisa Gaulzetti, William C. Fox, Ryan Falcheck, Shawntay Dalon, Courtney Benjamin, Reuben Yabuku, Matthew Elijah Webb, Guy Van Swearingen, Aileen Uytuico, Rick Uecker, Casey Tutton, Danielle Teasley-Bailey, Emily Sutton-Smith, Alan Stefan, Scott Stangland, Jacquelyn Ritz, Ashley L. Richardson, Jimmy Rhoades, Asanté Ramone, Jacqueline Pruder, Cheyenne Pinson, Yasen Peyankov, Dennis North, Gordon Michaels, Erick Michael, Mary Mac, Alondra Lozano, Ellington King, Sam Logan Khaleghi, Duncan Hursley, John Hoogenakker, Gus Hoffman, John Hickman, Maestro Harrell, Alecia Hamilton, Danny Goldring, Erin Renee Frankfort, Michael Fitch, Jaishon Fisher, Ithamar Enriquez, Zac Douglass, Gregory Dockery, Angela Dawe, Ron Coden, Jesse Christian, Lesley Bevan, Tajh Bellow, Geoffrey Beauchamp, Loren Bass, Ele Bardha, Harron Atkins, Aunjanue Ellis, Kimberly Elise, Cuba Gooding Jr.",
          "DIRECTOR": "Thomas Carter"
         }
        ],
        [
         "tm145243",
         "Wake Up Sid",
         2009,
         138,
         "tt1324059",
         "7.6",
         30818,
         "['comedy', 'drama', 'romance']",
         "IN",
         null,
         {
          "ACTOR": "Kainaz Motivala, Shruti Bapna, Kashmira Shah, Shikha Talsania, Namit Das, Supriya Pathak, Anupam Kher, Rahul Khanna, Konkona Sen Sharma, Ranbir Kapoor",
          "DIRECTOR": "Ayan Mukerji"
         }
        ],
        [
         "tm147082",
         "What Happened, Miss Simone?",
         2015,
         101,
         "tt5108670",
         "7.6",
         13703,
         "['music', 'documentation']",
         "US",
         null,
         {
          "ACTOR": "Ilyasah Shabazz, Elisabeth Henry-Macari, Stanley Crouch, Dick Gregory, Lisa Simone, Nina Simone",
          "DIRECTOR": "Liz Garbus"
         }
        ],
        [
         "tm154187",
         "Sherlock Holmes",
         2009,
         129,
         "tt0988045",
         "7.6",
         620154,
         "['crime', 'action', 'thriller']",
         "GB",
         "PG-13",
         {
          "ACTOR": "Rocco Ritchie, Peter Miles, Guy Williams, Timothy O'Hara, Michael Jenn, Chris Sunley, Ben Cartwright, David Emmings, James Greene, Amanda Grace Johnson, Martin Ewens, Ned Dennehy, Andrew Greenough, Marn Davies, Miles Jupp, Jefferson Hall, Joe Egan, Ed Tolputt, Bronagh Gallagher, Terence Taplin, James A. Stephens, Jonathan Gabriel Robbins, Sebastian Abineri, John Kearney, Tom Watt, Andrew Brooke, Ky Discala, David Garrick, Oran Gurel, Clive Russell, William Hope, James Fox, Hans Matheson, William Houston, Kelly Reilly, Geraldine James, Robert Maillet, Eddie Marsan, Mark Strong, Rachel McAdams, Jude Law, Robert Downey Jr.",
          "DIRECTOR": "Guy Ritchie"
         }
        ],
        [
         "tm155291",
         "Highway",
         2014,
         133,
         "tt2980794",
         "7.6",
         28370,
         "['drama', 'crime', 'romance']",
         "IN",
         "PG-13",
         {
          "ACTOR": "Hemant Mahaur, Mohit Choudhary, Shakeel Khan, Saharsh Kumar Shukla, Pradeep Nagar, Durgesh Kumar, Alia Bhatt, Randeep Hooda",
          "DIRECTOR": "Imtiaz Ali"
         }
        ],
        [
         "tm177258",
         "Delhi Belly",
         2011,
         102,
         "tt1934231",
         "7.6",
         29578,
         "['comedy', 'action', 'crime', 'thriller']",
         "IN",
         null,
         {
          "ACTOR": "Aamir Khan, Anusha Dhandekar, Kim Bodnia, Rajendra Sethi, Rahul Singh, Paresh Ganatra, Vijay Raaz, Raju Kher, Poorna Jagannathan, Shenaz Treasury, Vir Das, Kunaal Roy Kapur, Imran Khan",
          "DIRECTOR": "Abhinay Deo"
         }
        ],
        [
         "tm184502",
         "Kabhi Haan Kabhi Naa",
         1994,
         158,
         "tt0110222",
         "7.6",
         18224,
         "['comedy', 'drama', 'music', 'romance']",
         "IN",
         "G",
         {
          "ACTOR": "Juhi Chawla, Aanjjan Srivastav, Veerendra Saxena, Goga Kapoor, Kurush Deboo, Aditya Lakhia, Sadiya Siddiqui, Anita Kanwal, Shashi Sahay, Ravi Baswani, Rita Bhaduri, Ajit Vachani, Tiku Talsania, Naseeruddin Shah, Satish Shah, Deepak Tijori, Suchitra Krishnamoorthi, Shah Rukh Khan",
          "DIRECTOR": "Kundan Shah"
         }
        ],
        [
         "tm20712",
         "Eddie Murphy Raw",
         1987,
         93,
         "tt0092948",
         "7.6",
         19646,
         "['comedy', 'documentation']",
         "US",
         "R",
         {
          "ACTOR": "Geri Gibson, Michelle Davison, Jody Jones, Leonard Jackson, Clebert Ford, Birdie M. Hale, Eyde Byrde, Tiger Haynes, James Brown III, J. D. Hall, Barbara Harris, Deon Richmond, Samuel L. Jackson, Billie Allen, Tatyana Ali, Eddie Murphy",
          "DIRECTOR": "Robert Townsend"
         }
        ],
        [
         "tm243100",
         "Hell or High Water",
         2016,
         102,
         "tt2582782",
         "7.6",
         224900,
         "['western', 'thriller', 'action', 'crime', 'drama']",
         "US",
         "R",
         {
          "ACTOR": "Danny Winn, J. Nathan Simmons, Terry Dale Parks, Martin Palmer, Lora Martinez-Cunningham, Ricky Lee, Crystal Gonzales, Richard Beal, Christopher W. Garcia, Heidi Sulzman, Dick Christie, Nicole Brady, Dylan Kenin, Kevin Wiggins, John-Paul Howard, Ivan Brutsche, Margaret Bowman, Alma Sisneros, Kim Gleason, Melanie Papalia, Gregory Cruz, Jim Burleson, Marie A. Kohl, Ariel Holmes, Nathaniel Augustson, Paul Howard Smith, Debrianna Mansini, Howard Ferguson Jr., Taylor Sheridan, Joe Berryman, Jackamoe Buzzell, Amber Midthunder, Keith Meriweather, Buck Taylor, Katy Mixon, Kristen Berg, William Sterchi, Dale Dickey, Kevin Rankin, Marin Ireland, Gil Birmingham, Ben Foster, Chris Pine, Jeff Bridges",
          "DIRECTOR": "David Mackenzie"
         }
        ],
        [
         "tm320255",
         "Bad Genius",
         2017,
         130,
         "tt6788942",
         "7.6",
         20430,
         "['thriller', 'comedy', 'crime', 'drama']",
         "TH",
         "PG-13",
         {
          "ACTOR": "Suquan Bulakul, Sahajak Boonthanakit, Sarinrat Thomas, Ego Mikitas, Pasin Kuansataporn, Thaneth Warakulnukroh, Chanon Santinatornkul, Teeradon Supapunpinyo, Eisaya Hosuwan, Chutimon Chuengcharoensukying",
          "DIRECTOR": "Nattawut Poonpiriya"
         }
        ],
        [
         "tm326704",
         "Parmanu: The Story of Pokhran",
         2018,
         129,
         "tt6826438",
         "7.6",
         23771,
         "['drama', 'history', 'action']",
         "IN",
         null,
         {
          "ACTOR": "Anuja Sathe, Vikas Kumar, Yogendra Tiku, Mark Bennington, Zachary Coffin, Boman Irani, Diana Penty, John Abraham",
          "DIRECTOR": "Abhishek Sharma"
         }
        ],
        [
         "tm363488",
         "RBG",
         2018,
         98,
         "tt7689964",
         "7.6",
         14037,
         "['documentation']",
         "US",
         "PG",
         {
          "ACTOR": "Joseph McCarthy, Samuel Alito, John G. Roberts Jr., Harry A. Blackmun, Stephen Breyer, John Paul Stevens, Clarence Thomas, David H. Souter, Sandra Day O'Connor, Jimmy Carter, Anthony M. Kennedy, George W. Bush, Barack Obama, Donald Trump, Joe Biden, Stephen Wiesenfeld, Lilly Ledbetter, Orrin Hatch, Sharron Frontiero, Bill Clinton, Gloria Steinem, Clara Spera, Nina Totenberg, James Steven Ginsburg, Jane C. Ginsburg, Ruth Bader Ginsburg",
          "DIRECTOR": "Betsy West, Julie Cohen"
         }
        ],
        [
         "tm370144",
         "The Mitchells vs. the Machines",
         2021,
         113,
         "tt7979580",
         "7.6",
         100787,
         "['animation', 'comedy', 'family', 'scifi']",
         "US",
         "PG",
         {
          "ACTOR": "Lisa Wilhoit, Juan Pacheco, Jim Pirri, Justin Shenkarow, Michelle Ruff, Ashley Peldon, Illya Owens, Lex Lang, Griffin McElroy, Doug the Pug, Madeleine McGraw, Alison Rich, Will Allegra, Grey DeLisle, Zeno Robinson, Jeff Rowe, Natalie Canizares, Jay Pharoah, Alex Hirsch, Elle Mills, Sasheer Zamata, Ellen Wightman, Doug Nicholas, Melissa Sturm, Conan O'Brien, Blake Griffin, Charlyne Yi, John Legend, Chrissy Teigen, Beck Bennett, Fred Armisen, Eric André, Michael Rianda, Olivia Colman, Maya Rudolph, Danny McBride, Abbi Jacobson",
          "DIRECTOR": "Michael Rianda"
         }
        ],
        [
         "tm422715",
         "Stree",
         2018,
         128,
         "tt8108202",
         "7.6",
         32814,
         "['horror', 'comedy']",
         "IN",
         null,
         {
          "ACTOR": "Yury Nikolaenko, Aleksey Matoshin, Anna Zaytseva",
          "DIRECTOR": "Anna Zaytseva"
         }
        ],
        [
         "tm435520",
         "The Two Popes",
         2019,
         125,
         "tt8404614",
         "7.6",
         120871,
         "['drama', 'comedy', 'history']",
         "US",
         "PG-13",
         {
          "ACTOR": "Pope Francis, Pope Benedict XVI, Miguel Ángel Tarditti, Marcela Serli, Matthew T. Reynolds, Katherine Wilson, Alessandro Piavani, Lorenzo Vigevano, Simon Hempe, Joaquin Rotzait, Alan Nicolás Gómez, Lucas Posse, Pablo Trimarchi, Ramiro Vayo, Juan Manuel Correa, Leon Barra, Ricardo Larrama, Rafael Fernandez, Federico Falasco, Facundo Cardosi, Luciano Borges, Daniel Hernandez, Sergio Nicolai, Bonilla Del Valle, Adalid Paredes Blanco, Olivia Sandy Torres, Cristobal Mamani, Thomas D. Williams, Roberto Olivieri, Natalia Constanza Salmoral, Walter Fabian Andrade, Francesco di Teodoro, Luciano Kaczer, Abril Chiara Castelli, Hernan Acentares, Maria Florencia Larrea Arias, Cecilia Dazzi, Sergio Santana, Nicola Acunzo, Guido Nicolas Losantos, Andres Carlos Zurita, Luis Alfredo Huerga Reyna, Josello Bella, Daniel Juan di Cocco, Juan Miguel Arias, Martina Sammarco, Vincent Riotta, Sofia Mayra Cessak, Willie Jonah, Libero De Rienzo, Lisandro Fiks, Germán de Silva, Federico Torre, Achille Brugnini, Sidney Cole, Renato Scarpa, María Ucedo, Cristina Banegas, Luis Gnecco, Juan Minujín, Jonathan Pryce, Anthony Hopkins",
          "DIRECTOR": "Fernando Meirelles"
         }
        ],
        [
         "tm449195",
         "The Boy Who Harnessed the Wind",
         2019,
         113,
         "tt7533152",
         "7.6",
         36805,
         "['drama', 'history']",
         "MW",
         null,
         {
          "ACTOR": "Grace Msiska, Rodgers Wagawa, Edward Khomamphero, Gospel Thawale, Owen Chikanken, Ian Chisekula, Beatus Ble Msamange, Fiskan Makawa, Kelvin Maxwell Ngoma, Rophium Banda, Raymond Ofula, Felix Lemburgo, Robert Agengo, Noma Dumezweni, Philbert Falakeza, Lemogang Tsipa, Joseph Marcell, Lily Banda, Aïssa Maïga, Chiwetel Ejiofor, Maxwell Simba",
          "DIRECTOR": "Chiwetel Ejiofor"
         }
        ],
        [
         "tm49865",
         "Aamir",
         2008,
         99,
         "tt1241195",
         "7.6",
         11241,
         "['thriller', 'action', 'crime', 'drama']",
         "IN",
         "NC-17",
         {
          "ACTOR": "Aishwarya Bhaskar, Rohitash Gaud, Gajraj Rao, Vasan Bala, Amar Kaushik, Rajeev Khandelwal",
          "DIRECTOR": "Raj Kumar Gupta"
         }
        ],
        [
         "tm55303",
         "I Am Sam",
         2001,
         132,
         "tt0277027",
         "7.6",
         149082,
         "['drama']",
         "US",
         "PG-13",
         {
          "ACTOR": "Molly Gordon, Russ Fega, Elle Fanning, R. D. Call, David Poynter, Dennis Fanning, Steven Maines, Katie McGloin, Janet Adderley, Kathleen Robertson, David Nathan Schwartz, Brent Spiner, Pamela Dunlap, Emiko Parise, Rafer Weigel, Chase MacKenzie Bebak, Kimberly Scott, Kit McDonough, Scott Paulin, Mason Lucero, Wendy Phillips, Ken Jenkins, Rosalind Chao, Michael B. Silver, Eileen Ryan, Mary Steenburgen, Bobby Cooper, Doug Hutchison, Stanley DeSantis, Joseph Rosenberg, Brad Silverman, Laura Dern, Marin Hinkle, Loretta Devine, Richard Schiff, Dakota Fanning, Dianne Wiest, Michelle Pfeiffer, Sean Penn",
          "DIRECTOR": "Jessie Nelson"
         }
        ],
        [
         "tm67635",
         "Kuch Kuch Hota Hai",
         1998,
         185,
         "tt0172684",
         "7.6",
         51640,
         "['drama', 'romance', 'comedy']",
         "IN",
         "G",
         {
          "ACTOR": "Nikkhil Advani, Manish Malhotra, Farah Khan, Geeta Kapoor, Neelam Kothari, Parzaan Dastur, Sana Saeed, Reema Lagoo, Anupam Kher, Johnny Lever, Himani Shivpuri, Archana Puran Singh, Farida Jalal, Salman Khan, Rani Mukerji, Kajol, Shah Rukh Khan",
          "DIRECTOR": "Karan Johar"
         }
        ],
        [
         "tm69778",
         "Lupin the Third: The Castle of Cagliostro",
         1979,
         100,
         "tt0079833",
         "7.6",
         30277,
         "['comedy', 'animation', 'action', 'fantasy', 'family']",
         "JP",
         "PG",
         {
          "ACTOR": "Makio Inoue, Yoko Yamaoka, Tadamichi Tsuneizumi, Shozo Hirabayashi, Shigeharu Matsuda, Osamu Saka, Minoru Midorikawa, Mikio Terashima, Kōhei Miyauchi, Kinpei Azusa, Junkichi Yarita, Ichirō Nagai, Eken Mine, Akio Nojima, Tarô Ishida, Sumi Shimamoto, Gorō Naya, Kiyoshi Kobayashi, Eiko Masuyama, Yasuo Yamada",
          "DIRECTOR": "Hayao Miyazaki"
         }
        ],
        [
         "tm828317",
         "Tell Me Who I Am",
         2019,
         85,
         "tt10915286",
         "7.6",
         14215,
         "['thriller', 'drama', 'documentation']",
         "GB",
         null,
         {
          "ACTOR": "Evan Milton, Luke Mulhurn, Thomas Mulhurn, Andrew Caley, Marcus Lewis, Alex Lewis, Laura Obiols",
          "DIRECTOR": "Ed Perkins"
         }
        ],
        [
         "tm847085",
         "The Social Dilemma",
         2020,
         94,
         "tt11464826",
         "7.6",
         79674,
         "['drama', 'documentation']",
         "US",
         "PG-13",
         {
          "ACTOR": "Jaron Lanier, Laura Obiols, Vic Alejandro, Chris Grundy, Barbara Gehring, Catalina Garayoa, Sophia Hammons, Tristan Harris, Vincent Kartheiser, Kara Hayward, Skyler Gisondo",
          "DIRECTOR": "Jeff Orlowski"
         }
        ],
        [
         "tm847805",
         "Ludo",
         2020,
         150,
         "tt7212754",
         "7.6",
         37528,
         "['crime', 'action', 'comedy', 'drama']",
         "IN",
         "PG-13",
         {
          "ACTOR": "Anurag Basu, Amitabh Bachchan, Ishtiyak Khan, Shalini Vatsa, Bhanu Uday, Asha Negi, Inayat Verma, Pearle Maaney, Rohit Saraf, Sanya Malhotra, Fatima Sana Shaikh, Pankaj Tripathi, Rajkummar Rao, Aditya Roy Kapur, Abhishek Bachchan",
          "DIRECTOR": "Anurag Basu"
         }
        ],
        [
         "tm84906",
         "Stardust",
         2007,
         122,
         "tt0486655",
         "7.6",
         269043,
         "['fantasy', 'romance', 'family']",
         "US",
         "PG-13",
         {
          "ACTOR": "Spencer Wilding, Jordan Long, Adam Fogerty, Elwin 'Chopper' David, Carlos Besse Peres, Rab Affleck, Mark Burns, Geoff Bell, Terry Murphy, Eliot Sumner, Olivia Grant, Grant Burgin, Jake Curran, George Innes, Julian Rhind-Tutt, Struan Rodger, Frank Ellis, Darby Hawker, Ben Barnes, Alastair MacIntosh, Bimbo Hart, Adam Buxton, Mark Williams, Mark Heap, David Walliams, Henry Cavill, Dexter Fletcher, Nathaniel Parker, David Kelly, Kate Magowan, Joanna Scanlan, Melanie Hill, Sarah Alexander, Rupert Everett, Peter O'Toole, Ian McKellen, Mark Strong, Jason Flemyng, Ricky Gervais, Sienna Miller, Robert De Niro, Michelle Pfeiffer, Charlie Cox, Claire Danes",
          "DIRECTOR": "Matthew Vaughn"
         }
        ],
        [
         "tm881162",
         "Athlete A",
         2020,
         104,
         "tt11905462",
         "7.6",
         10544,
         "['documentation', 'crime', 'sport']",
         "US",
         "PG-13",
         {
          "ACTOR": "Jen Sey, Tracee Talavera, Géza Poszar, Rachael Denhollander, Mark Alesia, Jamie Dantzscher, Maggie Nichols",
          "DIRECTOR": "Jon Shenk, Bonni Cohen"
         }
        ],
        [
         "tm90190",
         "True Grit",
         2010,
         110,
         "tt1403865",
         "7.6",
         333378,
         "['western', 'drama']",
         "US",
         "PG-13",
         {
          "ACTOR": "Ruben Nakai Campana, Brandon Sanderson, Maggie A. Goodman, Jonathan Joss, Scott Sowers, Ty Mitchell, Orlando Smart, David Lipman, Joe Stevens, Peter Leung, Candyce Hinkle, J.K. Simmons, Jarlath Conroy, James Brolin, Don Pirl, Jake Walker, Leon Russom, Ruth Morris, Elizabeth Marvel, Ed Corbin, Dakin Matthews, Nicholas Sadler, Paul Rae, Bruce Green, Domhnall Gleeson, Barry Pepper, Josh Brolin, Matt Damon, Jeff Bridges, Hailee Steinfeld",
          "DIRECTOR": "Joel Coen, Ethan Coen"
         }
        ],
        [
         "tm998033",
         "Doctor",
         2021,
         150,
         "tt11374902",
         "7.6",
         14590,
         "['thriller', 'comedy', 'crime', 'action']",
         "IN",
         null,
         {
          "ACTOR": "Bjorn Surrao, Sreeja Ravi, Zaara Vineeth, Raghu Ram, Rajiv Laxman, Shiva Aravind, Sunil Reddy, Redin Kingsley, Deepa Shankar, Arun Alexander, Milind Soman, Ilavarasu, Archana Chandhoke, Yogi Babu, Priyanka Arul Mohan, Vinay Rai, Sivakarthikeyan",
          "DIRECTOR": "Nelson Dilipkumar"
         }
        ],
        [
         "tm103095",
         "Ip Man 2",
         2010,
         108,
         "tt1386932",
         "7.5",
         103673,
         "['drama', 'history', 'sport', 'action']",
         "CN",
         "R",
         {
          "ACTOR": "Charles Mayer, Mei-Fang Lu, Stefan Morawietz, Tian Rui, Tomer Oz, Hark-On Fung, Ashton Chen, Christian Kang Bachini, Xiaoming Huang, Lo Meng, Siu-Wong Fan, Dennis To Yue-Hong, Darren Shahlavi, Kent Cheng, Lynn Hung, Simon Yam, Sammo Hung, Donnie Yen",
          "DIRECTOR": "Wilson Yip"
         }
        ],
        [
         "tm1031976",
         "Dhamaka",
         2021,
         104,
         "tt13510660",
         "7.5",
         39620,
         "['thriller', 'crime', 'drama', 'action']",
         "IN",
         null,
         {
          "ACTOR": "Aeklavya Tomer, Priya Tandon, Anuj Gurwara, Vishwajeet Pradhan, Vikas Kumar, Soham Majumdar, Mrunal Thakur, Amruta Subhash, Kartik Aaryan",
          "DIRECTOR": "Ram Madhvani"
         }
        ],
        [
         "tm117873",
         "Hum Aapke Hain Koun..!",
         1994,
         206,
         "tt0110076",
         "7.5",
         20986,
         "['romance', 'comedy', 'drama']",
         "IN",
         null,
         {
          "ACTOR": "Dinesh Hingoo, Dilip Joshi, Ajit Vachani, Himani Shivpuri, Bindu, Satish Shah, Alok Nath, Priya Arun, Laxmikant Berde, Reema Lagoo, Anupam Kher, Renuka Shahane, Mohnish Behl, Madhuri Dixit, Salman Khan",
          "DIRECTOR": "Sooraj Barjatya"
         }
        ],
        [
         "tm143642",
         "Who Am I",
         2014,
         105,
         "tt4426376",
         "7.5",
         55044,
         "['thriller', 'european', 'drama', 'scifi', 'crime']",
         "DE",
         null,
         {
          "ACTOR": "Harald Geil, Stephanie Puls, Marc Bator, Barbara Hahlweg, Katja Wagner, Björn Susen, Max Hopp, Alexander Hauff, Nils Borghardt, Matthias Neukirch, Rosa Schrehardt, Alica Hubiak, Mike Davies, David Masterson, Lena Dörrie, Agnes Thi-Mai, Antonia Putiloff, Leonard Carow, Marten Borgwardt, Katharina Matz, Leopold Hornung, Stephan Kampwirth, Trine Dyrholm, Hannah Herzsprung, Antoine Monot Jr., Wotan Wilke Möhring, Elyas M'Barek, Tom Schilling",
          "DIRECTOR": "Baran bo Odar"
         }
        ],
        [
         "tm157461",
         "Coming Soon",
         2014,
         134,
         "tt3698408",
         "7.5",
         33714,
         "['drama', 'comedy', 'romance']",
         "TR",
         "PG",
         {
          "ACTOR": "Muhittin Korkmaz, Tansu Biçer, Nurgül Yeşilçay, Bahtiyar Engin, Mazhar Alanson, Yılmaz Erdoğan, Sunay Akın, Sarp Akkaya, Orçun Iynemli, Ata Berk Mutlu, Metin Coşkun, Emin Gürsoy, Can Yılmaz, Tuğrul Tülek, Ülkü Duru, Ayşen Gruda, Zerrin Tekindor, Cengiz Bozkurt, Hare Sürel, Çağlar Çorumlu, Zafer Algöz, Özkan Uğur, Ozan Güven, Tülin Özen, Cem Yılmaz",
          "DIRECTOR": "Cem Yılmaz"
         }
        ],
        [
         "tm160621",
         "The Conjuring",
         2013,
         107,
         "tt1457767",
         "7.5",
         491048,
         "['thriller', 'horror']",
         "US",
         "R",
         {
          "ACTOR": "Tony Spera, Arnell Powell, Lorraine Warren, Nate Seman, Desi Domo, George T. Zervos, Sean Flynn, Kymoura Kennedy, Ashley White, Steve Coulter, Carmella Gioio, Christof Veillon, James D. Nelson, Rose Bachtel, Zach Pappas, Amy Tipton, Morganna Bridgers, Marion Guyot, Joseph Bishara, John Brotherton, Shannon Kook, Shanley Caswell, Kyla Deaver, Sterling Jerins, Hayley McFarland, Joey King, Mackenzie Foy, Ron Livingston, Lili Taylor, Patrick Wilson, Vera Farmiga",
          "DIRECTOR": "James Wan"
         }
        ],
        [
         "tm16479",
         "White Christmas",
         1954,
         115,
         "tt0047673",
         "7.5",
         42373,
         "['romance', 'comedy', 'music']",
         "US",
         null,
         {
          "ACTOR": "Robert Crosson, Herb Vigran, Grady Sutton, Sig Ruman, I. Stanford Jolley, Percy Helton, Johnny Grant, Gavin Gordon, Bess Flowers, Franklyn Farnum, Lorinne Crawford, Barrie Chase, George Chakiris, Glen Cargyle, Frank Baker, Bea Allen, Anne Whitfield, John Brascia, Mary Wickes, Dean Jagger, Vera-Ellen, Rosemary Clooney, Danny Kaye, Bing Crosby",
          "DIRECTOR": "Michael Curtiz"
         }
        ],
        [
         "tm169719",
         "42",
         2013,
         128,
         "tt0453562",
         "7.5",
         93314,
         "['drama', 'sport']",
         "US",
         "PG-13",
         {
          "ACTOR": "Hunter Clowdus, Richard Tavernaro, David Thoms, Todd Wilson, Gary Miller, Dennis A. Spears, Andrew C. Mullins, Wayne Hickey, Steve Hicks, Jimmie L. Coleman, Andrew B. Roberts, Barry Suttle, Dwight Houser, Ercell A. Grimes Jr., Tobias Michael Finn, Jud Tylor, Kelley Jakle, Christopher Harvey, Jeremy Ray Taylor, Jayson Warner Smith, Dax Griffin, Janet Metzger, Michael H. Cole, Peter Jurasik, Denise Moyé, William Flaman, Ari Blinder, Danny Vinson, Jackson Walker, Marc Gowan, Jon Kohler, Dan Mengini, Holden Hansen, Henry Friedman, Maury Covington, Daniel Fenlon, Rhoda Griffis, David Sweeney, Kenny Cook, Mark Harelik, Joe Knezevich, Ross Hughes, Lou Criscuolo, Anthony S. Goolsby, Aaron Farb, James Rackley, Scott Callaway, C.J. Nitkowski, Karole Foreman, Monnae Michaell, Joe Inscoe, Peter MacKenzie, Matt Clark, Thomas Helgeland, Linc Hand, Friedel Pinkston, Cherise Boothe, Dusan Brown, Clint O'Brien, Johnny Knight, Blake Sanders, Jamie Ruehling, Derek Phillips, Jamey Holliday, Jesse Luken, Brett Cullen, Gino Anthony Pesi, James Pickens Jr., Brad Beyer, Max Gail, Toby Huss, John C. McGinley, T.R. Knight, Hamish Linklater, Alan Tudyk, André Holland, Lucas Black, Ryan Merriman, Christopher Meloni, Nicole Beharie, Harrison Ford, Chadwick Boseman",
          "DIRECTOR": "Brian Helgeland"
         }
        ],
        [
         "tm182275",
         "Omar",
         2013,
         96,
         "tt2852406",
         "7.5",
         14230,
         "['thriller', 'war', 'crime', 'drama', 'romance']",
         "PS",
         null,
         {
          "ACTOR": "Doraid Liddawi, Eyad Hourani, Samer Bisharat, Leem Lubany, Waleed Zuaiter, Adam Bakri",
          "DIRECTOR": "Hany Abu-Assad"
         }
        ],
        [
         "tm189764",
         "Menace II Society",
         1993,
         97,
         "tt0107554",
         "7.5",
         57399,
         "['drama', 'crime', 'thriller']",
         "US",
         "R",
         {
          "ACTOR": "Anthony Johnson, Yolanda Whittaker, Daniel Villarreal, Samuel Monroe Jr., Tony Valentino, Clifton Collins Jr., Rolando Molina, Charles J. Grube, Charles S. Dutton, Erin Wiley Sands, Martin Davis, Robert Gonzales, Bill Duke, Alvin Mears, Ian Davids, Dwayne L. Barnes, Stacy Arnell, Christopher M. Brown, Too $hort, Clifton Powell, Joy Matthews, Garen Holman, Cynthia Calhoun, Ryan Williams, Vonte Sweet, MC Eiht, Pooh Man, Saafir, Arnold Johnson, Marilyn Coleman, Nancy Cheryll Davis, James Pickens Jr., Eugene Lee, Brandon Hammond, Jullian Roy Doster, Khandi Alexander, Reginald Ballard, Toshi Toda, June Kyoto Lu, Samuel L. Jackson, Jada Pinkett Smith, Glenn Plummer, Larenz Tate, Tyrin Turner",
          "DIRECTOR": "Allen Hughes, Albert Hughes"
         }
        ],
        [
         "tm191848",
         "The Devil's Advocate",
         1997,
         144,
         "tt0118971",
         "7.5",
         361422,
         "['horror', 'thriller', 'drama']",
         "DE",
         null,
         {
          "ACTOR": "Delroy Lindo, Paul Benedict, Gloria Lynne Henry, Monica Keena, Franci Leary, Benny Nieves, Vincent Laresca, Novella Nelson, Gino Lucci, Fenja Klaus, Nicki Cochrane, Mohammed Ghaffari, Harsh Nayyar, James Saito, Susan Kellermann, Rocco Musacchia, Ray Garvey, Don King, Caprice Benedetti, Kim Chan, Daniel Oreskes, Brian Poteat, Alan Manson, George O. Gore II, Rony Clanton, Mark Deakins, Eddie Aldridge, Neal Jones, Bill Moor, Leo Burmester, Murphy Guyer, Heather Matarazzo, Jonathan Cavallary, Connie Embesi, Chris Bauer, George Wyner, Pamela Gray, Laura Harrington, Vyto Ruginis, Debra Monk, Ruben Santiago-Hudson, Tamara Tunie, Craig T. Nelson, Connie Nielsen, Judith Ivey, Jeffrey Jones, Charlize Theron, Al Pacino, Keanu Reeves",
          "DIRECTOR": "Taylor Hackford"
         }
        ],
        [
         "tm196296",
         "A Monster Calls",
         2016,
         108,
         "tt3416532",
         "7.5",
         86614,
         "['fantasy', 'drama', 'thriller', 'animation', 'family', 'european']",
         "ES",
         "PG-13",
         {
          "ACTOR": "Tessa Wood, Witney White, John Leader, Jonathan Holby, Georgia Frost, Matt Costain, Selina Cadell, Nandi Bhebhe, Hammed Animashaun, Felix Hayes, Stuart Goodwin, Marianne Oldham, Matthew Tennyson",
          "DIRECTOR": "Sally Cookson"
         }
        ],
        [
         "tm239727",
         "Nocturnal Animals",
         2016,
         115,
         "tt4551306",
         "7.5",
         264884,
         "['drama', 'thriller']",
         "US",
         "R",
         {
          "ACTOR": "Maria Zyrianova, Jackie Zane, Jack Wallace, Chelsea Taylor, Brian Stivale, Errol Sack, Tonia Marie Rosée, Christopher Pinkalla, Carson Nicely, Kerstin Lechner, Nick Hounslow, Alizee Gaillard, Jonathan Fredrick, Joshua D. Eads, Amanda Fields, Brianna Barnes, Moose Ali Khan, Piper Major, Peggy Fields Richardson, Lori Jean Wilson, Michele Dunn, Janet Song, Evan Bittencourt, Sydney Schafer, Kristin Bauer van Straten, Lee Benton, Jena Malone, Neil Jackson, Graham Beckel, Beth Ditto, Evie Pree, Zawe Ashton, Franco Vega, Imogen Waterhouse, Bobbi Salvör Menuez, Michael Sheen, Andrea Riseborough, Laura Linney, Robert Aramayo, Karl Glusman, Armie Hammer, Ellie Bamber, Isla Fisher, Aaron Taylor-Johnson, Michael Shannon, Jake Gyllenhaal, Amy Adams",
          "DIRECTOR": "Tom Ford"
         }
        ],
        [
         "tm244507",
         "The Distinguished Citizen",
         2016,
         118,
         "tt4562518",
         "7.5",
         11495,
         "['comedy', 'drama', 'european']",
         "AR",
         null,
         {
          "ACTOR": "Francisco Cortes, Patricia March, Juan Travnik, Franco Peralta, Ariel Fiorenza, Pilar Dutari, Pedro Roth, Leonardo Murija, Alexis López Costa, Daniel Kargieman, Nicolás de Tracy, Emma Rivera, Julián Larquier Tellarini, Gustavo Garzón, Marcelo D'Andrea, Iván Steinhardt, Manuel Vicente, Nora Navas, Belén Chavanne, Andrea Frigerio, Dady Brieva, Oscar Martínez",
          "DIRECTOR": "Gastón Duprat, Mariano Cohn"
         }
        ],
        [
         "tm29269",
         "Jodhaa Akbar",
         2008,
         213,
         "tt0449994",
         "7.5",
         32188,
         "['romance', 'history', 'war', 'action', 'drama']",
         "IN",
         "PG-13",
         {
          "ACTOR": "Rucha Vaidya, Manava Naik, Surendra Pal, Yuri Suri, Digvijay Purohit, Poonam Sinha, Nikitin Dheer, Disha Vakani, Amitabh Bachchan, Surendra Pal, Ila Arun, Pramod Moutho, Rajesh Vivek, Raza Murad, Suhasini Mulay, Kulbhushan Kharbanda, Sonu Sood, Aishwarya Rai Bachchan, Hrithik Roshan",
          "DIRECTOR": "Ashutosh Gowariker"
         }
        ],
        [
         "tm298084",
         "On Body and Soul",
         2017,
         116,
         "tt5607714",
         "7.5",
         27003,
         "['fantasy', 'drama', 'romance']",
         "HU",
         null,
         {
          "ACTOR": "Júlia Nyakó, Nóra Rainer-Micsinyei, Zsuzsa Járó, Pál Mácsai, Éva Bata, Itala Békés, Tamás Jordán, Zoltán Schneider, Ervin Nagy, Réka Tenki, Morcsányi Géza, Alexandra Borbély",
          "DIRECTOR": "Ildikó Enyedi"
         }
        ],
        [
         "tm327708",
         "Bareilly Ki Barfi",
         2017,
         123,
         "tt6967980",
         "7.5",
         23011,
         "['romance', 'comedy']",
         "IN",
         null,
         {
          "ACTOR": "Sapna Sand, Naila Grewal, Javed Akhtar, Semwal Swati, Rohit Choudhary, Seema Pahwa, Pankaj Tripathi, Rajkummar Rao, Kriti Sanon, Ayushmann Khurrana",
          "DIRECTOR": "Ashwiny Iyer Tiwari"
         }
        ],
        [
         "tm32982",
         "Les Misérables",
         2012,
         157,
         "tt1707386",
         "7.5",
         325132,
         "['drama', 'romance', 'history', 'war']",
         "GB",
         "PG-13",
         {
          "ACTOR": "Ian Waller, Aaron Sillis, Claire Piquemal, Clinten Pearce, Gemma Payne, Ian Parsons, Vanessa Lee Hicks, Steve Kirkham, Nicholas Keegan, Lynn Jezzard, Nigel Garton, Edward Lewis French, Vicky Evans, Jennifer Essex, Josephine Darvill-Mills, Annette Yeo, Mischa Purnell, Brenda Moore, Claire Machin, Ella Hunt, Sophie Huchinson, Samuel J. Weir, Jos Slovick, Matt Seadon Young, Jonny Purchase, Stevee Davies, David Roberts, Joseph Peters, Jamie Muscato, Chris Milford, Rhidian Marc, Jonathan Dudley, Andy Coxon, Matthew Corner, Dominic Applewhite, Julie Stark, Joyce Springer, Phil Philmar, Perry Millward, Georgina Jackson, Matt Harrop, Spike Grimsey, Valerie Cutko, Sean Buckley, Juliet Alderice, Simon Shorten, Adam Searles, Jeff Nicholson, Sally Mates, Martin Marquez, Terence Keely, Alison Jiear, Chris Howell, Nick Holder, James Greene, Kelly-Anne Gower, Sarah Flind, Simon Fisher-Becker, Kerry Ellis, Richard Colson, Michael Cahill, Tony Bignell, Gerard Bentall, Tabitha Webb, Rebecca Sutherland, Nancy Sullivan, Rachel Stanley, Robyn Miranda Simpson, Olivia Rose-Aaron, Amy Ellen Richardson, Gemma O'Duffy, Luisa Lazzaro, Alexia Khadime, Amanda Henderson, Fania Grigoriou, Amy Griffiths, Holly Dale Spencer, Sonya Cullingford, Mary Cormack, Antonia Clarke, Lorna Brown, Rachael Archer, Caroline Sheen, Amelia Scaramucci, Mary Roscoe, Sara Pelosi, Jackie Marks, Charlotte Hope, Mandy Holliday, Tricia Deighton, Helen Cotterill, Bessie Carter, Phil Zimmerman, Sebastian Sykes, Peter Saracen, Stephen Matthews, Emma Dukes, Eleanor Bruce, Alexander Brooks, Richard Bremmer, Freya Parks, Mike Sarne, John Warnaby, Kerry Ingram, Jessica Duncan, Andrea Deck, Lisa Hull, Katie Hall, Gina Beck, Gemma Wardle, Linzi Hateley, Hadley Fraser, Katy Secombe, Iwan Lewis, Alistair Brammer, Stuart Neal, Hugh Skinner, George Blagden, Gabriel Vick, Fra Fee, Killian Donnelly, Richard Cordery, Chris Barnes, Amelia Jefford, Jacqueline Dankworth, Joel Phillimore, Joseph West, Alfie Davis, Cameron Strefford, Miles Roughley, Paul Leonard, Mark Roper, Patrick Godfrey, Norma Atallah, Robyn North, Dianne Pilkington, Jack Chissick, Peter Mair, Leighton Rafferty, Lewis Kirk, Mark Donovan, Sam Parks, Lottie Steer, Hadrian Delacey, Phil Snowden, Natalya Wallace, Isabelle Allen, Marc Pickering, Julian Bleach, Adam Pearce, Ian Pirie, Polly Kemp, James Simmons, David Cann, John Surman, Ashley Artus, Keith Dunphy, Julia Worsley, Charlotte Spencer, Lynne Wilmot, Frances Ruffelle, Adrian Scarborough, Jaygann Ayeh, Ross McCormack, David Stoller, Daniel Evans, Nicola Sloane, Dick Ward, Andrew Havill, Tim Downie, Bertie Carvel, John Albasiny, Cathy Breeze, Marilyn Cutts, Alison Tennant, Alice Fearn, Jenna Boyd, Kirsty Hoiles, Clare Foster, Hannah Waddingham, Kate Fleetwood, Michael Jibson, Stephen Tate, Paul Howell, Paul Thornley, Heather Chasen, Georgie Glen, Colm Wilkinson, Stephen Bent, Andy Beckwith, Richard Dixon, Tony Rohr, John Barr, Adam Jones, David Hawley, Josef Altin, Cavin Cornwall, Daniel Huttlestone, Samantha Barks, Aaron Tveit, Eddie Redmayne, Helena Bonham Carter, Sacha Baron Cohen, Amanda Seyfried, Anne Hathaway, Russell Crowe, Hugh Jackman",
          "DIRECTOR": "Tom Hooper"
         }
        ],
        [
         "tm35463",
         "Blow",
         2001,
         124,
         "tt0221027",
         "7.5",
         255099,
         "['drama', 'crime']",
         "US",
         "R",
         {
          "ACTOR": "Anna de Cardi, Jo Price, Janine Foster, Nick Cassavetes, Greg Bronson, Twyla Banks, Pamela Walker, Santiago Verdu, Julia Vera, Dale Snowberger, Leslie Schirrmacher, Bert Rosario, Elizabeth Rodriguez, Matt Robinson, Raoul N. Rizik, Michael Ralph, Jack Polick, Tony Perez, Randy Mulkey, Alan James Morgan, Carlos Mendoza, Mauricio Mendoza, Gonzalo Menendez, Jodie Mann, Lydell M. Cheshier, Roberto Lopez, Richard LaGravenese, Skip O'Brien, Ajgie Kirkland, Ralph Kampshoff, Patrick Husted, Brad Hunt, Josh Herman, Brian Goodman, Lazaro Galarraga, Jean-Carlos Felix, Crystal Erickson, The Dawk, Sophie Tsimel, Meriah Nelson, Kathleen Mullan, Genevieve Maylam, Dorothy Lyman, Kristina Jung, Faith Hoover, Elif Guertin, Vanessa Grayson, Tracy Falco, Daniel Escobar, Ted Demme, Kevin Chapman, Brantley Bush, Jimmy Burke, John Harrington Bland, Pamela Abdy, Charles Noland, Jaime King, Jennifer Gimenez, Lola Glaudini, Monet Mazur, Michael Tucci, Miguel Pérez, Bobcat Goldthwait, Dan Ferro, Emma Roberts, Jesse James, Tony Amendola, Kevin Gage, Ray Liotta, Ethan Suplee, Miguel Sandoval, Max Perlich, Cliff Curtis, Jordi Mollà, Paul Reubens, Rachel Griffiths, Franka Potente, Penélope Cruz, Johnny Depp",
          "DIRECTOR": "Ted Demme"
         }
        ],
        [
         "tm410742",
         "Happy as Lazzaro",
         2018,
         125,
         "tt6752992",
         "7.5",
         17716,
         "['fantasy', 'drama', 'european']",
         "IT",
         "PG-13",
         {
          "ACTOR": "Antonio Salines, David Bennent, Anita Crucitti, Lucia Centoscudi, Cinzia de Luca, Silvia Lucarini, Sofia Stangherlin, Nicola Sorci, Marco Donno, Marcello Duranti, Giuseppe Corsini, Annibale De Luca, Luciano Vergaro, Elisabetta Rocchetti, Daria Deflorian, Carlo Tarmati, Pasqualina Scuncia, Leonardo Nigro, Davide Denci, Alessandro Genovesi, Annunziata Capretto, Giulia Caccavello, Maddalena Baiocco, Daria Pascal Attolini, Carlo Massimino, Nicoletta Braschi, Natalino Balasso, Tommaso Ragno, Sergi López, Alba Rohrwacher, Luca Chikovani, Agnese Graziani, Adriano Tardiolo",
          "DIRECTOR": "Alice Rohrwacher"
         }
        ],
        [
         "tm44204",
         "The Guns of Navarone",
         1961,
         158,
         "tt0054953",
         "7.5",
         50150,
         "['war', 'action', 'drama']",
         "US",
         null,
         {
          "ACTOR": "William Hoehne Jr., Christopher Rhodes, Nicholas Papakonstantinou, Kleo Skouloudi, Norman Wooland, Albert Lieven, Tutte Lemkow, Walter Gotell, George Mikell, Percy Herbert, Michael Trubshawe, Allan Cuthbertson, Bryan Forbes, Richard Harris, James Robertson Justice, Gia Scala, Irene Papas, James Darren, Anthony Quayle, Stanley Baker, Anthony Quinn, David Niven, Gregory Peck",
          "DIRECTOR": "J. Lee Thompson"
         }
        ],
        [
         "tm469991",
         "I Lost My Body",
         2019,
         81,
         "tt9806192",
         "7.5",
         31531,
         "['fantasy', 'drama', 'animation', 'romance', 'european']",
         "FR",
         null,
         {
          "ACTOR": "Guillaume Desmarchellier, Raymond Hosni, Jocelyn Veluire, Bruno Hausler, Pascal Rocher, Deborah Grall, Céline Ronté, Quentin Baillot, Nicole Favart, Maud Le Guenedal, Bellamine Abdelmalek, Myriam Loucif, Hichem Mesbah, Alfonso Arfi, Patrick d'Assumçao, Victoire Du Bois, Hakim Faris",
          "DIRECTOR": "Jérémy Clapin"
         }
        ],
        [
         "tm55100",
         "Dil Se..",
         1998,
         163,
         "tt0164538",
         "7.5",
         28409,
         "['drama', 'romance']",
         "IN",
         "PG-13",
         {
          "ACTOR": "Ishitha, Suhail Nayyar, Avtar Sahani, Rajiv Gupta, Alka, R K Nair, Karan Nath, B Chintu Mohapatra, Sameer Chanda, Vanitha Malik, Hemant Mishra, Raza Murad, Mohan Joshi, Deepak Shirke, Vikram Gokhale, Wasiq Khan, Shaad Ali, Tigmanshu Dhulia, Malaika Arora, Priya Parulekar, Gajraj Rao, Piyush Mishra, Sheeba Chaddha, Manjit Bawa, Krisn Kant, Anupam Shyam, Sanjay Mishra, Aditya Srivastava, Sabyasachi Chakraborty, Janagaraj, Zohra Sehgal, Raghubir Yadav, Arundathi Nag, Mita Vasisht, Preity Zinta, Manisha Koirala, Shah Rukh Khan",
          "DIRECTOR": "Mani Ratnam"
         }
        ],
        [
         "tm60844",
         "Berserk: The Golden Age Arc I - The Egg of the King",
         2012,
         76,
         "tt2311238",
         "7.5",
         12278,
         "['fantasy', 'war', 'animation', 'action', 'drama', 'horror']",
         "JP",
         "NC-17",
         {
          "ACTOR": "Kendo Kobayashi, Hochu Otsuka, Hiroshi Arikawa, Rikiya Koyama, Nobuyuki Katsube, Kenta Miyake, Aki Toyosaki, Kazuki Yao, Minako Kotobuki, Yoshiro Matsumoto, Toa Yukinari, Takahiro Fujiwara, Yuki Kaji, Takahiro Sakurai, Hiroaki Iwanaga",
          "DIRECTOR": "Toshiyuki Kubooka"
         }
        ],
        [
         "tm70222",
         "Sivaji: The Boss",
         2007,
         189,
         "tt0479751",
         "7.5",
         19556,
         "['drama', 'crime', 'thriller', 'action']",
         "IN",
         "PG-13",
         {
          "ACTOR": "Kaniha, Andreanne Nouyrigat, Livingston, Ilavarasu, Kanal Kannan, Dhamu, Chinni Jayanth, Mayilsamy, Nayanthara, Swaminathan, Bose Venkat, A. C. Murali Mohan, Pyramid Natarajan, Pithamagan Mahadevan, Pattimandram Raja, Uma Padmanabhan, M. S. Bhaskar, Vadivukarasi, Solomon Pappaiah, Manivannan, Cochin Haneefa, Raghuvaran, Vivek, Shriya Saran, Suman Talwar, Rajinikanth",
          "DIRECTOR": "Shankar"
         }
        ],
        [
         "tm844250",
         "Ala Vaikunthapurramuloo",
         2020,
         165,
         "tt9537292",
         "7.5",
         14839,
         "['drama', 'action', 'comedy']",
         "IN",
         "PG-13",
         {
          "ACTOR": "Easwari Rao, Hyper Adhi, Sirisha, Kalyani Natarajan, Ananth Babu, Pammi Sai, Tarzan, Vaishnavi Chaitanya, Chammak Chandra, Govind Padmasoorya, Rohini, Tanikella Bharani, Ajay, Brahmanandam, Vennela Kishore, Sachin Khedekar, Harshavardhan, Brahmaji, Rahul Ramakrishna, Rajendra Prasad, Sunil Varma, Navdeep, Tabu, Samuthirakani, Nivetha Pethuraj, Sushanth, Jayaram, Murali Sharma, Pooja Hegde, Allu Arjun",
          "DIRECTOR": "Trivikram Srinivas"
         }
        ],
        [
         "tm979026",
         "tick, tick... BOOM!",
         2021,
         121,
         "tt8721424",
         "7.5",
         96418,
         "['drama']",
         "US",
         "PG-13",
         {
          "ACTOR": "Jonathan Larson, Ken Holmes, Stephen Sondheim, Lin-Manuel Miranda, Alexia Belrose, Melody Rose, Victoria Caban, Dwany Guzman, Adriel Flete, Jacob Patrick Wasson, Noah Lentini, Erin Monteleone, Purdie Baumann, Christine Seinicki, Maira Barriga Toyama, Chloe N. Crade, Ehizoje Azike, Spencer Clark, Taeler Cyrus, Erin N. Moore, Kyle Richard Robinson, Callan Bergmann, Carlos Gonzalez, Austin Goodwin, Christopher Grant, Sean Ryan, Kyle McIntire, Lane Napper, Keisha 'Sparkle' Hughes, Marie Rose Baramoski, Ilia Jessica Castro, Gaby Diaz, Stephanie Crousillat, Lucy Struever, Ayo Janeen Jackson, Lauren Yalango-Grant, Jennifer Laroche, Emily Juean Stillings, Roger Bart, James C. Nicola, Barbara Ames, Javiel Sellas, Mason Versaw, Derrick Delgado, Charles Conforti, Debbie Tjong, Bryndon Cook, Victoria Theodore, Sean McDaniel, Stephen Trask, Jeanine Tesori, Shaina Taub, Georgia Stitt, Matthew Sklar, Marc Shaiman, Stephen Schwartz, Helen Park, Grace McLean, Matthew McCollum, Dave Malloy, Jaime Lozano, Steven Levenson, Alex Lacamoire, Tom Kitt, Joe Iconis, Quiara Alegría Hudes, Amanda Green, Eisa Davis, Jason Robert Brown, Eli Bolin, Nick Blaemire, Chad Beguelin, Phillipa Soo, Daphne Rubin-Vega, Chita Rivera, Phylicia Rashād, Bernadette Peters, Adam Pascal, Bebe Neuwirth, Brian Stokes Mitchell, Howard McGillin, Beth Malone, Wilson Jermaine Heredia, Joel Grey, Renée Elise Goldsberry, André De Shields, Chuck Cooper, Kelly Watson, Luis A. Miranda Jr., Chris Sullivan, Andrew Bancroft, Jelani Alladin, Christopher Jackson, Travis Patton, Ricardo Zayas, Sheila Tapia, Joanna Adler, Ryan Vasquez, Jared Loftin, Eddy Lee, Kenita R. Miller, Black Thought, Richard Kind, Lauren Marcus, Danny Burstein, Judy Kuhn, Robyn Goodman, Anna A. Louizos, Joel Perez, Aneesa Folds, Kate Rockwell, Gizel Jimenez, Utkarsh Ambudkar, Micaela Diamond, Danielle Ferland, Laura Benanti, Bradley Whitford, Judith Light, Ben Levi Ross, MJ Rodriguez, Jonathan Marc Sherman, Joshua Henry, Vanessa Hudgens, Robin de Jesús, Alexandra Shipp, Andrew Garfield",
          "DIRECTOR": "Lin-Manuel Miranda"
         }
        ],
        [
         "ts41975",
         "Shooter",
         2007,
         124,
         "tt4181172",
         "7.5",
         329417,
         "['war', 'drama', 'action']",
         "US",
         "TV-14",
         {
          "ACTOR": "Jesse Bradford, Lexy Kolker, Omar Epps, Cynthia Addai-Robinson, Shantel VanSanten, Ryan Phillippe"
         }
        ],
        [
         "tm100688",
         "Even the Rain",
         2010,
         104,
         "tt1422032",
         "7.4",
         13446,
         "['drama', 'european', 'history']",
         "ES",
         null,
         {
          "ACTOR": "Javier B. Suarez, Najwa Nimri, Alejandra Lanza, Diego Ortiz, Andrea Camponovo, Ivan Candia, Oscar-Ricardo Encinas, Fernando Cervantes, Alejandro Lanza, Bernardo Arancibia Flores, Luis Bredow, Jorge Ortiz, Sonia Ovando, Daniel Currás, Antonio Mora, Vicente Romero, Pau Cólera, Ezequiel Díaz, Leónidas Chiri, Milena Soliz, Carlos Santos, Cassandra Ciangherotti, Raúl Arévalo, Karra Elejalde, Juan Carlos Aduviri, Gael García Bernal, Luis Tosar",
          "DIRECTOR": "Icíar Bollaín"
         }
        ],
        [
         "tm102848",
         "Peepli Live",
         2010,
         104,
         "tt1447508",
         "7.4",
         12265,
         "['drama', 'comedy']",
         "IN",
         "PG",
         {
          "ACTOR": "Sandeep Yadav, Vishal O. Sharma, Farrukh Jaffar, Avijit Dutt, Girish Karnad, Indira Tiwari, Ishita Vyas, Pravin Singh Sisodia, Anoop Trevedi, Aamir Bashir, Naseeruddin Shah, Shalini Vatsa, Sitaram Panchal, Nawazuddin Siddiqui, Malaika Shenoy, Raghubir Yadav, Omkar Das Manikpuri",
          "DIRECTOR": "Anusha Rizvi"
         }
        ],
        [
         "tm1030241",
         "Kurup",
         2021,
         155,
         "tt7026666",
         "7.4",
         11582,
         "['crime', 'thriller']",
         "IN",
         null,
         {
          "ACTOR": "Mathew Varghese, Krrish S. Kumar, Kalabhavan Shaju, Nayana Elza, Hareesh Perumanna, Saiju Kurup, Anupama Parameswaran, Maya Menon, Shivajith Padmanabhan, Suresh Oberoi, Bharath Srinivasan, Vijayaraghavan, Surabhi Lakshmi, Sudheesh, M R Gopakumar, P Balachandran, Sunny Wayne, Shine Tom Chacko, Tovino Thomas, Indrajith Sukumaran, Sobhita Dhulipala, Dulquer Salmaan",
          "DIRECTOR": "Srinath Rajendran"
         }
        ],
        [
         "tm1109843",
         "Meenakshi Sundareshwar",
         2021,
         141,
         "tt13529034",
         "7.4",
         17141,
         "['comedy', 'romance']",
         "IN",
         null,
         {
          "ACTOR": "Kalp Shah, Archana Iyer, Manoj Mani Mathew, Komal Chhabria, Nivedita Bhargava, Ritika Shrotri, Sonali Sachdev, Mahesh Pillai, Shivkumar Subramaniam, Purnendu Bhattacharya, Abhimanyu Dasani, Sanya Malhotra",
          "DIRECTOR": "Vivek Soni"
         }
        ],
        [
         "tm143227",
         "Begin Again",
         2013,
         104,
         "tt1980929",
         "7.4",
         154049,
         "['comedy', 'music', 'romance', 'drama']",
         "US",
         "R",
         {
          "ACTOR": "Sama Fernands, Stacey Maltin, Julia Bruskin, Alexis Sykes, Erin Benin, Emily Yarbourgh, Curtis Fowlkes, Emilie Cardinaux, Rich Mercurio, Erik Detusch, Joanna Mauer, Madison Love, David Pendleton, Nicholas Daniel Gonzalez, Melissa Maria Gonzalez, Keen Ruffalo, Danielle Brisebois, Simon Delaney, Jimmy Palumbo, Colin Love, Terry Lewis, Harvey Morris, Kena Onyenjekwe, Cee Lo Green, Ron Voz, Ann McGowan, David Abeles, Shannon Maree Walsh, Ian Brodsky, Jennifer Li Jackson, Rob Morrow, Jen Jacob, Mary Catherine Garrison, Marco Assante, Eric Burton, Ed Renninger, Andrew Sellon, Paul Romero, Karen Pittman, Maddie Corman, Aya Cash, Yasiin Bey, James Corden, Catherine Keener, Hailee Steinfeld, Adam Levine, Keira Knightley, Mark Ruffalo",
          "DIRECTOR": "John Carney"
         }
        ],
        [
         "tm149209",
         "Kaminey",
         2009,
         135,
         "tt1274295",
         "7.4",
         17136,
         "['drama', 'crime', 'action', 'thriller']",
         "IN",
         "PG-13",
         {
          "ACTOR": "Rajatava Dutta, Eric Santos, Patrícia Bull, Adil Hussain, Hrishikesh Joshi, Chandan Roy Sanyal, Shivkumar Subramaniam, Deb Mukherjee, Amole Gupte, Priyanka Chopra Jonas, Shahid Kapoor",
          "DIRECTOR": "Vishal Bhardwaj"
         }
        ],
        [
         "tm161904",
         "Bully",
         2011,
         92,
         "tt1682181",
         "7.4",
         10266,
         "['drama', 'documentation']",
         "US",
         "PG-13",
         {
          "DIRECTOR": "Lee Hirsch"
         }
        ],
        [
         "tm166064",
         "Crazy, Stupid, Love.",
         2011,
         118,
         "tt1570728",
         "7.4",
         507878,
         "['romance', 'comedy', 'drama']",
         "US",
         "PG-13",
         {
          "ACTOR": "Brian Patrick Butler, Michael John Long, Jasen Salvatore, Joshua Sternlicht, Rasika Mathur, Laurel Coppock, Tiara Parker, Dan Butler, Wendy Worthington, Algerita Wynn Lewis, Charlie Hartsock, Reggie Lee, Olga Fonda, Jessica Diz, Jenny Mollen, Janine Barris, Katerina Mikailenko, Tracy Mulholland, Karolina Wydra, Caitlin Thompson, Joanne Brooks, Zayne Emory, Crystal Reed, Julianna Guill, Mekia Cox, Josh Groban, Liza Lapira, John Carroll Lynch, Beth Littleford, Joey King, Jonah Bobo, Lio Tipton, Kevin Bacon, Marisa Tomei, Ryan Gosling, Emma Stone, Julianne Moore, Steve Carell",
          "DIRECTOR": "Glenn Ficarra, John Requa"
         }
        ],
        [
         "tm178201",
         "Sherlock Holmes: A Game of Shadows",
         2011,
         129,
         "tt1515091",
         "7.4",
         446531,
         "['crime', 'thriller', 'action']",
         "US",
         "PG-13",
         {
          "ACTOR": "Clive Russell, Joe Egan, Maitland Chandler, Laurentiu Possa, James McNeill, Jonathan Christie, Carsten Hayes, Fredrick Ruth, Roman Jankovič, Peter Stark, Laurence Dobiesz, Pamela Hay, Ian Wilson-Pope, Anthony Inglis, Mark Llewelyn-Evans, Martin Nelson, Thierry Neuvic, Stanley Kaye, Fatima Adoum, Alexander Devrient, Vladimir Furdik, Lancelot Weaver, Daniel Naprous, Affif Ben Badra, Thorston Manderlay, Victor Carril, Alexandre Carril, Mike Grady, Michael Webber, George Taylor, Mark Sheals, Marcus Shakesheff, Richard Cunningham, Karima McAdams, Patricia Slater, Jack Laskey, Iain Mitchell, Wolf Kahler, William Houston, Geraldine James, Paul Anderson, Stephen Fry, Kelly Reilly, Eddie Marsan, Rachel McAdams, Jared Harris, Noomi Rapace, Jude Law, Robert Downey Jr.",
          "DIRECTOR": "Guy Ritchie"
         }
        ],
        [
         "tm211478",
         "Tamasha",
         2015,
         139,
         "tt3148502",
         "7.4",
         26790,
         "['drama', 'comedy', 'romance']",
         "IN",
         "PG",
         {
          "ACTOR": "Himanshu Sharma, Punam Singh, Nikhil Bhagat, Faraaz Servaia, Yash Sehgal, Teddy Maurya, Ishtiyak Khan, Javed Sheikh, Vivek Mushran, Piyush Mishra, Deepika Padukone, Ranbir Kapoor",
          "DIRECTOR": "Imtiaz Ali"
         }
        ],
        [
         "tm2386",
         "A Nightmare on Elm Street",
         1984,
         91,
         "tt0087800",
         "7.4",
         230543,
         "['horror']",
         "US",
         "R",
         {
          "ACTOR": "Robert Shaye, John Richard Petersen, Antonia Yannouli, Chris Tashima, Kathi Gibbs, Paul Grenier, Leslie Hoffman, Don Hannah, Ash Adams, Brian Reise, Carol Pritikin, Shashawnee Hall, Donna Woodrum, Jeff Levine, David Andrews, Sandy Lipton, Ed Call, Jack Shea, Mimi Craven, Joe Unger, Lin Shaye, Joseph Whipp, Charles Fleischer, Johnny Depp, Jsu Garcia, Amanda Wyss, Ronee Blakley, John Saxon, Robert Englund, Heather Langenkamp",
          "DIRECTOR": "Wes Craven"
         }
        ],
        [
         "tm239739",
         "Raman Raghav 2.0",
         2016,
         134,
         "tt5662932",
         "7.4",
         14380,
         "['thriller', 'crime', 'drama']",
         "IN",
         null,
         {
          "ACTOR": "Rhea Pagar, Kalidas Parthitan, Vipin Sharma, Hitesh Dave, Rajesh Jais, Harssh A. Singh, Ashok Lokhande, Deepali Suryakant Badekar, Anuschka Sawhney, Mukesh Chhabra, Amruta Subhash, Sobhita Dhulipala, Vicky Kaushal, Nawazuddin Siddiqui",
          "DIRECTOR": "Anurag Kashyap"
         }
        ],
        [
         "tm244220",
         "Darkest Hour",
         2017,
         125,
         "tt4555426",
         "7.4",
         193208,
         "['drama', 'war', 'history', 'thriller', 'family']",
         "GB",
         "PG-13",
         {
          "ACTOR": "Johnny Otto, Adolf Hitler, Kieran Buckeridge, Joshua James, James Harkness, John Locke, Patsy Ferran, Bronte Carmichael, Pip Torrens, Tom Ashley, Eric MacLennan, Paul Leonard, Richard Glover, Flora Nicholson, Joanna Neary, Roisin O'Neill, James Eeles, Anna Burnett, Bethany Muir, Mary Antony, Jordan Waller, Faye Marsay, Nia Gwynne, Philip Martin Brown, Hannah Steele, Charley Palmer Rothwell, John Atterbury, Michael Gould, Brian Pettifer, Jeremy Child, David Strathairn, David Bamber, Adrian Rawlins, Joe Armstrong, Benjamin Whitrow, Hilton McRae, Malcolm Storry, Richard Lumsden, David Schofield, Samuel West, Nicholas Jones, Ben Mendelsohn, Ronald Pickup, Stephen Dillane, Lily James, Kristin Scott Thomas, Gary Oldman",
          "DIRECTOR": "Joe Wright"
         }
        ],
        [
         "tm27168",
         "Felon",
         2008,
         103,
         "tt1117385",
         "7.4",
         78039,
         "['crime', 'thriller', 'drama', 'action']",
         "US",
         "R",
         {
          "ACTOR": "Mike Smith, Jesus Jr., Tommy Truez, Steve Ulibarri, Shawn Rosales, Jermaine Washington, John Koyama, Antonio Leyba, Joey Villasenor, Ben James Roybal, Adrian Ponce, Tait Fletcher, Elton Walker, Erik Gomez, Richard Caruso, Richard Caruso, Esodie Geiger, Christopher Dempsey, Christien Tinsley, Cynthia Ruffin, John Trejo, Ivan Brutsche, Rosalia de Aragon, Brian Keith Gamble, Kevin Wiggins, Harry Zimmerman, Brittany Perrineau, Adam Taylor, Roman Mitichyan, Carrie Fleming, Mara Holguin, Mark Sivertsen, Gabriel Merendon, Louie Pescador, Mike Seal, Nate Parker, Jake Walker, Greg Serano, Chris Browning, Shawn Prince, Vincent Miller, Sam Shepard, Larnell Stovall, Anne Archer, Nick Chinlund, Johnny Lewis, Marisol Nichols, Harold Perrineau, Val Kilmer, Stephen Dorff",
          "DIRECTOR": "Ric Roman Waugh"
         }
        ],
        [
         "tm300615",
         "Mudbound",
         2017,
         120,
         "tt2396589",
         "7.4",
         47676,
         "['drama', 'war']",
         "US",
         "R",
         {
          "ACTOR": "Roderick Hill, Frankie Smith, Rebecca Chulew, Piper Blair, Joshua J. Williams, Elizabeth Windley, Jason Kirkpatrick, Henry Frost, Lucy Faust, Dylan Arnold, Kennedy Derosin, Claudio Laniado, Kerry Cahill, Kelvin Harrison Jr., Jonathan Banks, Rob Morgan, Garrett Hedlund, Mary J. Blige, Jason Mitchell, Jason Clarke, Carey Mulligan",
          "DIRECTOR": "Dee Rees"
         }
        ],
        [
         "tm307910",
         "What the Health",
         2017,
         97,
         "tt5541848",
         "7.4",
         28911,
         "['documentation']",
         "US",
         null,
         {
          "ACTOR": "Steve-O, Mark Kennedy, Joel Kahn, Jaydee Hanson, Mu Jin Han, Michael Greger, Alan Goldhamer, Mike Ewall, Caldwell Esselstyn Jr., Jake Conroy, Tia Blanco, Neal Barnard",
          "DIRECTOR": "Keegan Kuhn"
         }
        ],
        [
         "tm315174",
         "Phantom Thread",
         2017,
         130,
         "tt5776858",
         "7.4",
         128600,
         "['romance', 'drama']",
         "US",
         "R",
         {
          "ACTOR": "Joshua Tomkins, Jack Tyson, Cécile van Dijk, Jonathan Wayre, Evie Wray, Louis Hannan, Michael Gabbitas, David Charles-Cully, Dave Simon, Charlotte Melen, Jane Perry, Michael Stevenson, Jordon Stevens, Nicholas Mander, Sarah Lamesch, Emma Clandon, Alice Grenier, Delia Remy, Leopoldine Hugo, Tim Ahern, James Thomson, Martin Dew, Silas Carson, Richard Graham, Phyllis MacMahon, Eric Sigmundsson, Pauline Moriarty, Zarene Dallas, Ellie Blackwell, Ingrid Sophie Schram, Nick Ashley, Georgia Kemball, Niki Angus-Campbell, George Glasgow, Steven F. Thompson, Tony Hansford, Philip Franks, Juliet Glaves, Amber Brabant, Amy Cunningham, Elli Banks, Maryanne Frost, Julie Duck, Dinah Nicholson, Harriet Leitch, Joan Brown, Sue Clark, Julie Vollono, Julia Davis, Lujza Richter, Harriet Sansom Harris, Brian Gleeson, Gina McKee, Camilla Rutherford, Lesley Manville, Vicky Krieps, Daniel Day-Lewis",
          "DIRECTOR": "Paul Thomas Anderson"
         }
        ],
        [
         "tm315344",
         "Molly's Game",
         2017,
         140,
         "tt4209788",
         "7.4",
         165817,
         "['drama', 'crime', 'sport']",
         "CA",
         "R",
         {
          "ACTOR": "Mariah Owen, Gregory Falatek, Brian Cranstone, Dave Alaimo, Robin Read, Alyssa Veniece, Maria Lerinman, Daoud Heidami, Karl Danhoffer, Michael Cohen, Nicholas Banks, Dennis Drummond, Vladimir Tsyglian, Dan Duran, Gurdeep Ahluwalia, Phil Primmer, Steve Brandes, Amy Stewart, Laura Cilevitz, Catherine Burdon, Lizzy DeClement, Mary Ashton, Rico Tudico, Bruno Verdoni, Jeffrey Parazzo, David Gingrich, David Lafontaine, Ari Cohen, Thomas Hauff, George Tchortov, Alanna Macaulay, Rae Anne Stroeder, Vasilios Pappas, Shane Harbison, John Krpan, James Hurlburt, Jason Pithawalla, Tommy Julien, Tony Stellisano, Zachary Goodbaum, Ken Linton, Tom Black, Gary Brennan, Chris Owens, Todd Thomas Dark, Jake Goldsbie, David Reale, Jonathan Purdon, Kris Siddiqi, Frank Falcone, Amy Rutherford, Bo Martyn, Dov Tiefenbach, Alan C. Peterson, Elisa Moolecherry, Morgan David Jones, Robert B. Kennedy, Linette Doherty, Rachel Skarsten, Jason Weinberg, John Nelles, Leo Vernik, Moti Yona, Timothy Mooney, Dan Lett, Jeff Kassel, Duane Murray, Chris Boyle, Jacob Blair, Matthew D. Matteo, Chris Hoffman, Khalid Klein, Kjartan Hewitt, Piper Howell, Samantha Isler, Joseph Brooks, Jon Bass, Whitney Peak, Victor Serfaty, Claire Rankin, Michael Kostroff, Joe Keery, Madison McKinley, Stephanie Herfield, Natalie Krill, Angela Gots, Justin Kirk, Graham Greene, Bill Camp, Brian d'Arcy James, J. C. MacKenzie, Chris O'Dowd, Jeremy Strong, Michael Cera, Kevin Costner, Idris Elba, Jessica Chastain",
          "DIRECTOR": "Aaron Sorkin"
         }
        ],
        [
         "tm344989",
         "Lady Bird",
         2017,
         94,
         "tt4925292",
         "7.4",
         277165,
         "['drama', 'comedy']",
         "US",
         "R",
         {
          "ACTOR": "Janet Song, Rebecca Light, Bonnie Jean Shelton, Adam Brock, Danielle Macdonald, Luisa Lee, Ithamar Enriquez, Giselle Grams, Cynthia Cales, Erik Daniells, Connor Mickiewicz, Sabrina Schloss, Christina Offley, Shaelan O'Connor, London Thor, Derek Butler, Georgia Leva, Debra Miller, Anita Kalathara, Matthew Maher, Monique Edwards, Roman Arabia, Carla Valentine, Robert Figueroa, Joan Patricia O'Neil, Richard Jin Namkung, Gurpreet Gill, Ben Konigsberg, Chris Witaske, Abhimanyu Katyal, Bob Stephenson, Myra Turley, Kathryn Newton, Paul Keller, Andy Buckley, Kristen Cloke, Daniel Zovatto, Marietta DePrima, Laura Marano, Bayne Gibby, Jake McDorman, John Karna, Marielle Scott, Jordan Rodrigues, Odeya Rush, Stephen McKinley Henderson, Lois Smith, Timothée Chalamet, Lucas Hedges, Beanie Feldstein, Tracy Letts, Laurie Metcalf, Saoirse Ronan",
          "DIRECTOR": "Greta Gerwig"
         }
        ],
        [
         "tm359978",
         "Forgotten",
         2017,
         109,
         "tt4236484",
         "7.4",
         29804,
         "['thriller', 'horror', 'crime', 'scifi']",
         "KR",
         null,
         {
          "ACTOR": "Kim Young-sam, Melania Trump, Donald Trump, Moon Jae-in, Chung Taek-hyun, An Min-yeong, Lee Seung-yong, Im Jeong-min, Jo Hong-woo, Kang Hak-soo, Kim Hyeon-chang, Yoo In-soo, Kim Hyun-mok, Yeon Je-hyung, Lee Dong-jin, Lee Sung-woo, Han Da-eun, Jo Han-na, Ahn Yoo-jin, Han Tae-eun, Lee Dong-geun, Park Kyeong-chan, Oh Hyeon-soo, Eom In-woo, Moon Seong-pil, Kwon Jae-hwan, Park Chae-ik, Jeong Taek-hyeon, Park Jae-yeong, Kang Sin-goo, Choi Go, Jung Chan-bi, Byeon Dong-joon, Lee Soon-won, Bae Seong-il, Lee Na-ra, Nam Myung-ryeol, Na Young-hee, Moon Sung-keun, Kim Moo-yul, Kang Ha-neul",
          "DIRECTOR": "Jang Hang-jun"
         }
        ],
        [
         "tm36475",
         "Kabhi Khushi Kabhie Gham",
         2001,
         210,
         "tt0248126",
         "7.4",
         48818,
         "['drama', 'romance']",
         "IN",
         "G",
         {
          "ACTOR": "Samir Shah, Bharat Mistri, Ali Haji, Amith Rahman, Jessey Lever, Kavesh Majmudar, Holly Holdsworth, Malvika Raaj, Vikas Sethi, Jeroo Writer, Ramona Sunavala, Tamzin Griffin, Shashikala, Sushma Seth, Himani Shivpuri, Achala Sachdev, Jibraan Khan, Johnny Lever, Aryan Khan, Simone Singh, Jugal Hansraj, Parzaan Dastur, Alok Nath, Farida Jalal, Rani Mukerji, Kareena Kapoor Khan, Hrithik Roshan, Kajol, Shah Rukh Khan, Jaya Bachchan, Amitabh Bachchan",
          "DIRECTOR": "Karan Johar"
         }
        ],
        [
         "tm366227",
         "Uncut Gems",
         2019,
         130,
         "tt5727208",
         "7.4",
         261956,
         "['drama', 'thriller', 'comedy', 'crime']",
         "US",
         "R",
         {
          "ACTOR": "Ursula Triplett, Cassie Prusiensky, Paige Neuenschwander, Erika Wachter, Glenn 'Doc' Rivers, Ara Daglian, Chad Neves, Debbie DeLisi, Jennifer Sacks, Alexander Gilkes, Conor Coyne, Marty Tendler, Ralph Colucci, Brad Davidorf, Izra Malakov, Jessica Mullayev, Roza Babekova, Svetlana B. Levitin, Benjy Kleiner, Larry Sloman, Jennifer Venditti, Ricky Barksdale, Victor Plajas, Greg Yuna, William Sappe, La Mar Taylor, Kerwin Frost, Shiv Pai, Lino Eisenberg, Aren Topian, Louis Anthony Arias, Max Bartos, Keren Shemel, Raleem Moses, Habtunu Africho, Daneke Muhugeta, Liang Wei-Hui-Duncan, Sunny Wu Jin Zahao, Sun Zhi Hua-Hilton, Mesfin Lamengo, Stuart Wenig, Arthur Borukhov, Shemsi Selimaj, Jacob Igielski, Damany Eastman, Sean Ringgold, Michael A. Sollecito, Todd Vulpio, Jonathan Aranbayev, Darien Howard, \"Gerard \"\"Dash\"\" McQuiller\", Pom Klementieff, Paloma Elsesser, Roman Persits, Andrea Linsky, Ca$h Out, Maksud Agadjani, Warren Finkelstein, Robbie DeRaffele, Josh Ostrovsky, Sahar Bibiyan, Natasha Lyonne, Anthony Mecca, Jake Ryan, Jeremy Sample, Marcia DeBonis, Trinidad James, John Amos, Tilda Swinton, Hailey Gates, Mitchell Wenig, Marshall Greenberg, Ronald Greenberg, Thomas Kominik, Noa Fisher, Mike Francesa, Wayne Diamond, Keith Williams Richards, The Weeknd, Judd Hirsch, Eric Bogosian, Kevin Garnett, Idina Menzel, Lakeith Stanfield, Julia Fox, Adam Sandler",
          "DIRECTOR": "Benny Safdie, Josh Safdie"
         }
        ],
        [
         "tm39557",
         "Jaane Tu... Ya Jaane Na",
         2008,
         155,
         "tt0473367",
         "7.4",
         26738,
         "['drama', 'comedy', 'romance']",
         "IN",
         null,
         {
          "ACTOR": "Omprakash, Murali Sharma, Deepak Dhadwal, Uditanshu Mehta, Ayaz Khan, Kitu Gidwani, Rajat Kapoor, Paresh Rawal, Sohail Khan, Arbaaz Khan, Pratiek Babbar, Jerrit John, Anooradha Patel, Jayant Kripalani, Shakun Batra, Padam Bhola, Renuka Kunzru, Karan Makhija, Ratna Pathak, Naseeruddin Shah, Ayaz Khan, Alishka Varde, Nirav Mehta, Sugandha Garg, Prateik Babbar, Manjari Phadnis, Genelia D'Souza, Imran Khan",
          "DIRECTOR": "Abbas Tyrewala"
         }
        ],
        [
         "tm433381",
         "Mirage",
         2018,
         129,
         "tt7919356",
         "7.4",
         52657,
         "['thriller', 'drama', 'documentation', 'fantasy', 'music', 'romance', 'european']",
         "ES",
         "R",
         {
          "ACTOR": "Aleida Torrent, Borja Texeira, José Umpiérrez, Maykol Hernández, Toni Báez, Pep Papell, Mónica Lleó, Marta Falcón, Sigrid Cañas, Vicente Ayala, Joel Illescas, Ruth Llopis, Belén Rueda, Silvia Alonso, Ana Wagener, Francesc Orella, Marco de Francisco, Luna Fulgencio, Julio Bohigas, Albert Pérez, Aina Clotet, Mima Riera, Clara Segura, Miquel Fernández, Nora Navas, Álvaro Morte, Javier Gutiérrez, Chino Darín, Adriana Ugarte",
          "DIRECTOR": "Oriol Paulo"
         }
        ],
        [
         "tm446176",
         "American Factory",
         2019,
         110,
         "tt9351980",
         "7.4",
         21415,
         "['documentation']",
         "US",
         null,
         {
          "ACTOR": "Rebecca Ruan-O'Shaughnessy, Shawnea Rosser, Jeff Daochuan Liu, Jill Lamantia, Wong He, Cynthia Harper, Rob Haerr, John Gauthier, Dave Burrows, Sherrod Brown, Junming 'Jimmy' Wang",
          "DIRECTOR": "Julia Reichert, Steven Bognar"
         }
        ],
        [
         "tm473502",
         "83",
         2021,
         163,
         "tt7518786",
         "7.4",
         23781,
         "['drama', 'history', 'sport']",
         "IN",
         null,
         {
          "ACTOR": "Kapil Dev, David Burton, Adam Brown, Munyaradzi Mlambo, Ruel Brathwaite, Orson Nurse, Jason Clive Lloyd, Mali Marshall, Zeeshan Nadaf, Veer Batheja, Avantika Akerkar, Jacques Taylor, Happy Singh, Anjum Batra, Mohinder Amarnath, Satish Alekar, Aditi Arya, Samreen Kaur, Sheryl Bennett, Parvatii Nair, Neeraj Sood, Brijendra Kala, Rajiv Gupta, Wamiqa Gabbi, Neena Gupta, Boman Irani, R. Badree, Dinker Sharma, Chirag Patil, Adinath Kothare, Jatin Sarna, Nishant Dahiya, Dhairya Karwa, Deepika Padukone, Harrdy Sandhu, Sahil Khattar, Jiiva, Ammy Virk, Saqib Saleem, Tahir Raj Bhasin, Pankaj Tripathi, Ranveer Singh",
          "DIRECTOR": "Kabir Khan"
         }
        ],
        [
         "tm50018",
         "Looper",
         2012,
         119,
         "tt1276104",
         "7.4",
         566791,
         "['thriller', 'scifi', 'drama', 'crime', 'action']",
         "US",
         "R",
         {
          "ACTOR": "Sam Medina, Brea Grant, D.J. Mills, Lauren Alexandra, Rachel Acuna, Sylvia Jefferies, Robert Harvey, Craig Johnson, Ian Patrick, Wayne Dehart, David Joseph Martinez, Josh Perry, Kamden Beauchamp, David Jensen, Ritchie Montgomery, Jeff Chase, Adam Boyer, Cody Wood, Kenneth Brown Jr., Thirl Haston, Kevin Stillwell, Jon Eyez, Marcus Hester, Frank Brennan, Xu Qing, Pierce Gagnon, James Landry Hébert, Tracie Thoms, Nick Gomez, Paul Dano, Garret Dillahunt, Jeff Daniels, Noah Segan, Piper Perabo, Emily Blunt, Bruce Willis, Joseph Gordon-Levitt",
          "DIRECTOR": "Rian Johnson"
         }
        ],
        [
         "tm62210",
         "Rurouni Kenshin Part I: Origins",
         2012,
         134,
         "tt1979319",
         "7.4",
         25793,
         "['drama', 'war', 'action', 'history']",
         "JP",
         "PG-13",
         {
          "ACTOR": "Yuta Kuba, Masashi Arifuku, Ryuhei Higashiyama, Ichirôta Miyakawa, Masataka Kubota, Ryôta Matsushima, Motoki Ochiai, Atsuko Anami, Toshihiro Yashiba, Kotaro Okamoto, Daisuke Honda, Motoki Fukami, Yusuke Hirayama, Mei Nagano, Kaoru Hirata, Teruyuki Kagawa, Yosuke Eguchi, Eiji Okuda, Taketo Tanaka, Genki Sudo, Go Ayano, Munetaka Aoki, Yu Aoi, Koji Kikkawa, Emi Takei, Takeru Satoh",
          "DIRECTOR": "Keishi Ōtomo"
         }
        ],
        [
         "tm673809",
         "Schumacher",
         2021,
         112,
         "tt10322274",
         "7.4",
         21558,
         "['sport', 'documentation']",
         "DE",
         null,
         {
          "ACTOR": "Richard Williams, Gianluca Pilot, Gerhard Noack, James Allen, Ross Brawn, Piero Ferrari, Eddie Irvine, Mark Webber, Sabine Kehm, Luca Cordero di Montezemolo, Willi Weber, David Coulthard, Flavio Briatore, Damon Hill, Mika Häkkinen, Sebastian Vettel, Bernie Ecclestone, Jean Todt, Gina Schumacher, Rolf Schumacher, Ralf Schumacher, Corinna Schumacher, Mick Schumacher, Michael Schumacher",
          "DIRECTOR": "Hanns-Bruno Kammertöns, Michael Wech, Vanessa Nöcker"
         }
        ],
        [
         "tm74780",
         "The Bucket List",
         2007,
         97,
         "tt0825232",
         "7.4",
         242733,
         "['drama', 'comedy', 'european']",
         "US",
         "PG-13",
         {
          "ACTOR": "Alex Trebek, Taylor Ann Thompson, Christopher Stapleton, Serena Reeder, Amber Mead, Karen Maruyama, Jonathan Hernandez, Noel Gugliemi, Angela Gardner, Jennifer Defrancisco, Ian Anthony Dale, Brian Copeland, Verda Bridges, Annton Berry Jr., Rowena King, Dawn Lewis, Rob Morrow, Destiny Brownridge, Alfonso Freeman, Beverly Todd, Sean Hayes, Morgan Freeman, Jack Nicholson",
          "DIRECTOR": "Rob Reiner"
         }
        ],
        [
         "tm77348",
         "Life in a Metro",
         2007,
         124,
         "tt0800956",
         "7.4",
         11934,
         "['drama', 'comedy', 'romance']",
         "IN",
         null,
         {
          "ACTOR": "Pritam Chakraborty, Ashwin Mushran, Vicky Ahuja, Nafisa Ali, Manoj Pahwa, Gautami Kapoor, Dharmendra, Shilpa Shetty Kundra, Kangana Ranaut, Shiney Ahuja, Sharman Joshi, Konkona Sen Sharma, Kay Kay Menon, Irrfan Khan",
          "DIRECTOR": "Anurag Basu"
         }
        ],
        [
         "tm845415",
         "Miss Americana",
         2020,
         85,
         "tt11388580",
         "7.4",
         19151,
         "['documentation', 'music']",
         "US",
         "R",
         {
          "ACTOR": "Abigail Anderson, Robert G. Allen, Riley Knoxx, Paul Sidoti, Dave Meyers, Melanie Nyema, Kamilah Marshall, Tree Paine, Joel Little, Scott Swift, Andrea Swift, Max Martin, Antoni Porowski, Karamo Brown, Jonathan van Ness, Bobby Berk, Jack Antonoff, Brendon Urie, Todrick Hall, Joe Alwyn, Taylor Swift",
          "DIRECTOR": "Lana Wilson"
         }
        ],
        [
         "tm96168",
         "Once Upon a Time in Mumbaai",
         2010,
         132,
         "tt1395054",
         "7.4",
         17494,
         "['thriller', 'crime', 'drama', 'romance', 'action']",
         "IN",
         "PG-13",
         {
          "ACTOR": "Raaj Gopal, Prashant Barot, Sanjay Roy, Prithvi Zutshi, Gyan Prakash, Pankaj Sharma, Vikas Shrivastav, Anjum Sharma, Sanjeev Wilson, Imran Hasnee, Ravi Khanwilkar, Avtar Gill, Asif Basra, Naved Aslam, Gauahar Khan, Randeep Hooda, Prachi Desai, Kangana Ranaut, Emraan Hashmi, Ajay Devgn",
          "DIRECTOR": "Milan Luthria"
         }
        ],
        [
         "tm98975",
         "Guzaarish",
         2010,
         126,
         "tt1438298",
         "7.4",
         18466,
         "['drama', 'romance']",
         "IN",
         "PG",
         {
          "ACTOR": "Olivier Lafont, Achint Kaur, Priyanka Bose, Nafisa Ali, Monikangana Dutta, Rajit Kapoor, Makrand Deshpande, Suhel Seth, Swara Bhaskar, Aditya Roy Kapur, Shernaz Patel, Aishwarya Rai Bachchan, Hrithik Roshan",
          "DIRECTOR": "Sanjay Leela Bhansali"
         }
        ],
        [
         "tm991529",
         "The Hand of God",
         2021,
         130,
         "tt12680684",
         "7.4",
         30235,
         "['drama']",
         "IT",
         "R",
         {
          "ACTOR": "Daniele Vicorito, Marina Viro, Alfonso Perugini, Cristiana Dell'Anna, Monica Nappo, Dora Romano, Birte Berg, Alessandro Bressanello, Ciro Capano, Biagio Manna, Lino Musella, Sofya Gershevich, Enzo De Caro, Renato Carpentieri, Betti Pedrazzi, Massimiliano Gallo, Marlon Joubert, Luisa Ranieri, Teresa Saponangelo, Toni Servillo, Filippo Scotti",
          "DIRECTOR": "Paolo Sorrentino"
         }
        ],
        [
         "tm113576",
         "Little Women",
         1994,
         115,
         "tt0110367",
         "7.3",
         57621,
         "['drama', 'family', 'romance']",
         "US",
         "PG",
         {
          "ACTOR": "Matthew Walker, Florence Paterson, Donal Logue, Mary Wickes, John Neville, Eric Stoltz, Gabriel Byrne, Christian Bale, Susan Sarandon, Samantha Mathis, Kirsten Dunst, Claire Danes, Trini Alvarado, Winona Ryder",
          "DIRECTOR": "Gillian Armstrong"
         }
        ],
        [
         "tm1138870",
         "Badhaai Do",
         2022,
         147,
         "tt11934846",
         "7.3",
         15032,
         "['comedy', 'drama', 'crime']",
         "IN",
         null,
         {
          "ACTOR": "Apeksha Porwal, Durga Sharma, Abhay Joshi, Nidhi Bhati, Priyanka Charan, Gulshan Devaiah, Deepak Arora, Shashi Bhushan, Chum Darang, Loveleen Mishra, Nitesh Pandey, Sheeba Chaddha, Seema Pahwa, Bhumi Pednekar, Rajkummar Rao",
          "DIRECTOR": "Harshavardhan Kulkarni"
         }
        ],
        [
         "tm136308",
         "Monster",
         2003,
         110,
         "tt0340855",
         "7.3",
         149218,
         "['crime', 'drama', 'thriller', 'european']",
         "US",
         "R",
         {
          "ACTOR": "Chandra Leigh, Jim R. Coleman, Billy Boylan, Jesse Stern, Gene R. Stephenson, Chad Vaccarino, Cannonball, Al, Bubba Baker, Nonalee Davis, Lyllian Barcaski, Christian Stokes, Kane Hodder, Elaine Stebbins, Glenn R. Wilder, Romonda Shaver, T. Robert Pigott, Magdalena Manville, Catherine Mangan, Cree Ivey, Kaitlin Riley, Brett Rice, Stephan Jones, Tim Ware, Rus Blackwell, Scott Wilson, Marc Macaulay, Marco St. John, Pruitt Taylor Vince, Annie Corley, Lee Tergesen, Bruce Dern, Christina Ricci, Charlize Theron",
          "DIRECTOR": "Patty Jenkins"
         }
        ],
        [
         "tm136808",
         "Identity",
         2003,
         90,
         "tt0340770",
         "7.3",
         240433,
         "['thriller']",
         "US",
         "R",
         {
          "ACTOR": "Stuart M. Besser, Terence Bernie Hines, Michael Hirsch, Joe Hart, Frederick Coffin, Holmes Osborne, Bret Loehr, Matt Letscher, Leila Kenzle, Marshall Bell, Carmen Argenziano, Rebecca De Mornay, Pruitt Taylor Vince, Jake Busey, William Lee Scott, John C. McGinley, Clea DuVall, Alfred Molina, John Hawkes, Amanda Peet, Ray Liotta, John Cusack",
          "DIRECTOR": "James Mangold"
         }
        ],
        [
         "tm138297",
         "The Conjuring 2",
         2016,
         134,
         "tt3065204",
         "7.3",
         260693,
         "['thriller', 'horror', 'drama']",
         "US",
         "R",
         {
          "ACTOR": "Jason Liles, Robin Atkin Downes, Nancy DeMars, Joseph Bishara, Javier Botet, Bonnie Aarons, Jennifer Collins, Thomas Harrison, Shannon Kook, Kate Cook, Emily Tasker, Cory English, Elliot Joseph, Annie Young, Daniel Wolfe, Abhi Sinha, Chris Royds, Steve Coulter, Bob Adrian, Franka Potente, Simon Delaney, Patrick McAuley, Benjamin Haigh, Maria Doyle Kennedy, Lauren Esposito, Sterling Jerins, Simon McBurney, Frances O'Connor, Madison Wolfe, Vera Farmiga, Patrick Wilson",
          "DIRECTOR": "James Wan"
         }
        ],
        [
         "tm159310",
         "Coach Carter",
         2005,
         130,
         "tt0393162",
         "7.3",
         143670,
         "['drama', 'sport', 'european']",
         "US",
         "PG-13",
         {
          "ACTOR": "Roger Lim, Ray Baker, Paul Rae, Mel Winkler, Debbi Morgan, Sonya Eddy, Dana Davis, Adrienne Bailon-Houghton, Cindy Chiu, Allison Kyler, Octavia Spencer, Lacey Beeman, Texas Battle, Ashanti, Channing Tatum, Antwon Tanner, Nana Gbewonyo, Rick Gonzalez, Robert Ri'chard, Rob Brown, Samuel L. Jackson",
          "DIRECTOR": "Thomas Carter"
         }
        ],
        [
         "tm173551",
         "Corpse Bride",
         2005,
         77,
         "tt0121164",
         "7.3",
         265023,
         "['fantasy', 'romance', 'animation', 'drama', 'family']",
         "US",
         "PG",
         {
          "ACTOR": "Lisa Kay, Stephen Ballantyne, Danny Elfman, Deep Roy, Enn Reitel, Jane Horrocks, Michael Gough, Christopher Lee, Richard E. Grant, Albert Finney, Joanna Lumley, Paul Whitehouse, Tracey Ullman, Emily Watson, Helena Bonham Carter, Johnny Depp",
          "DIRECTOR": "Mike Johnson, Tim Burton"
         }
        ],
        [
         "tm176528",
         "Memoirs of a Geisha",
         2005,
         145,
         "tt0397535",
         "7.3",
         146847,
         "['drama', 'romance', 'european']",
         "FR",
         "PG-13",
         {
          "ACTOR": "Joseph Steven Yang, Henry T. Yamada, Ray Tom, Aaron Takahashi, Clara Soyoung, Steve Sornbutnark, Cathy Shim, Austin Michael Scott, Jasper Salon, Osamu Saito, Catherine Kim Poon, Steffinnie Phrommany, Ricky Pak, Sophie Oda, Tam Nguyen, Skye Nakamura, Ryan Moriarty, Doug Ming, Danton Mew, Tohoru Masamune, Jia Mae, Julia Ling, Jon Liggett, Stacey Lee, Teddy Lau, Ruffy Landayan, Aurelie Kyinn, Branden Weslee Kong, Masa Kanome, James Huang, Maggie Hai-Uyen, Allen Dam, Michael Chen, Yuki Bird, Jennie Baek, Kazumi Aihara, Masakazu Yoshizawa, Tateo Takahashi, Etsuo Hongo, Shaye Uyematsu, Jordan Tambara, Miwa Tachibana, Stacy Suzuki, La Na Shi, Jade Refuerzo, Ayaka Oyama, Jacqueline Osaki, Kasey Okazaki, Michelle Obi, Melissa Morinishi, Teanna Lee, Stefani Lee, Amy Saki Kawakami, Emma Fusako Ishii, Hannah Hwang, Rosie Endow, Emilie Endow, Deziree Del Rosario, Allison Chan, Lena Ahn, Cassidy Adams, Addie Yungmee, Nikki Tuazon, Shelly Oto, Nao Nojima, Brooke Miyasaki, Kanako Miyamoto, Wendy Lam, Chieko Hidaka, Miki Fujitani, Kiyoko Ando, Shannon Abero, Mami Saito, Minae Noji, Shiho Miyazawa, Hikari, Ashia Meyers, Kim Hazel, Janelle Dote, Michelle Aguilar Camaya, Shizuko Hoshi, Paul Adelstein, Ted Levine, Faith Shin, Cameron Duncan, Chad Cleven, James Taku Leung, Nobu Matsuhisa, Clarissa Park, Asako Takasue, Takayo Fischer, Randall Duk Kim, Dino Rivera, Albert 'Sumo' Lee, Anthony Begonia, Ace Yonamine, Ren Urano, Daisuke Dewaarashi, Shûhei Mainoumi, Yasusuke Uike, Diane Mizota, Laura Miro, Steve Terada, Rick Mali, Koji Toyoda, Cary-Hiroyuki Tagawa, Fumi Akutagawa, Natsuo Tomita, Navia Nguyen, Kenneth Tsang, Yōko Narahashi, Eugenia Yuan, Karl Yune, Kotoko Kawamura, Miyako Tachibana, David Okihiro, Zoe Weizenbaum, Tsai Chin, Thomas Ikeda, Elizabeth Sung, Samantha Futerman, Mako, Togo Igawa, Youki Kudoh, Koji Yakusho, Kaori Momoi, Suzuka Ohgo, Ken Watanabe, Michelle Yeoh, Gong Li, Zhang Ziyi",
          "DIRECTOR": "Rob Marshall"
         }
        ],
        [
         "tm192037",
         "Starship Troopers",
         1997,
         129,
         "tt0120201",
         "7.3",
         288960,
         "['scifi', 'thriller', 'action']",
         "US",
         "R",
         {
          "ACTOR": "Mike Stokey, Aaron Stielstra, Mary Ann Schmidt, Julie Pinson, Brooke Morales, Edward Neumeier, Kai Lennox, Armand Darrius, Mylin Brooks, Rhiannon Vigil, Austin Sanderford, Stephanie Erb, Eric DaRe, Tyrone Tann, Mara Duronslet, Patrick Wolff, Travis Lowen, Hunter Bodine, Patrick Bishop, Timothy Omundson, Brad Kane, Robert David Hall, Timothy McNeil, John Cunningham, Greg Travis, Curnal Achilles Aulisio, Teo, Lenore Kasdorf, Christopher Curry, Brenda Strong, Anthony Ruivivar, Matt Levin, Eric Bruskotter, Marshall Bell, Dean Norris, Dale Dye, Julianna McCarthy, Tami-Adrian George, Amy Smart, Denise Dowse, Bruce Gray, Ungela Brockman, Steven Ford, Blake Lindsley, Rue McClanahan, Seth Gilliam, Patrick Muldoon, Michael Ironside, Clancy Brown, Neil Patrick Harris, Jake Busey, Denise Richards, Dina Meyer, Casper Van Dien",
          "DIRECTOR": "Paul Verhoeven"
         }
        ],
        [
         "tm210043",
         "Shot Caller",
         2017,
         120,
         "tt4633690",
         "7.3",
         83961,
         "['thriller', 'crime', 'drama']",
         "US",
         "R",
         {
          "ACTOR": "J.D. Herrera, Johnathan Paul Pena, Jonathan Lane, Fred Padilla, Dash Hamblin, Euphrates 'Tee' Arthur, Michael Benjamin Kirby, Alexander Daniel Pimentel, Jose B. Martinez, Rodger Larance, Cajardo Lindsey, Ivan Brutsche, Joseph P. Santillanes, Diana Gaitirira, David Miller, Marika Day, Jetto Dorsainville, Jacob Browne, Joshua R. Aragon, Howard Ferguson Jr., J. Nathan Simmons, Nathaniel Augustson, Mike Ostroski, Michael Sheets, Esodie Geiger, Chris Adams, John Christian Love, Mark Sivertsen, Matthew Page, Dylan Kenin, John Trejo, Brendan Kelly, Bobby Lee Osborn, Diego Joaquin Lopez, David House, Danny Winn, Cru Ennis, Monique Candelaria, Derek Dinniene, Jonathon McClendon, Sarah Minnich, Keith Jardine, Michael Landes, Matt Gerald, Juan Pablo Raba, Jessy Schram, Max Greenfield, Chris Browning, Benjamin Bratt, Evan Jones, Holt McCallany, Jon Bernthal, Jeffrey Donovan, Emory Cohen, Lake Bell, Omari Hardwick, Nikolaj Coster-Waldau",
          "DIRECTOR": "Ric Roman Waugh"
         }
        ],
        [
         "tm219248",
         "The Fundamentals of Caring",
         2016,
         97,
         "tt2452386",
         "7.3",
         70542,
         "['drama', 'comedy']",
         "US",
         "R",
         {
          "ACTOR": "Walter Hendrix III, Bobby Cannavale, Matt Mercurio, Ashley White, Donna Biscoe, James Donadio, Eric Singer, Robert Walker Branchaud, Alan Boell, Bill Murphey, Samantha Huskey, Alex Huff, Julia Denton, Frederick Weller, Megan Ferguson, Jennifer Ehle, Selena Gomez, Craig Roberts, Paul Rudd",
          "DIRECTOR": "Rob Burnett"
         }
        ],
        [
         "tm232500",
         "The Disaster Artist",
         2017,
         104,
         "tt3521126",
         "7.3",
         149604,
         "['comedy', 'drama']",
         "US",
         "R",
         {
          "ACTOR": "Max Valentine, Jordan Daem, Cynthia Natera, Dan Byelich, Eloho Josephine Okujeni, Danny Finneran, Ron Saylor, Cerra Angela Vallentine, Elena Cristiean, Adonis Simmons, Vincent Marinelli, Frankie Ponce, Ramona Tibrin, Jolie Mitnick Salter, Javi Sánchez-Blanco Boyer, Zhubin Rahbar, Mark Anthony Petrucelli, Bill Rojas, Frank Lui Geo, Tudor Munteanu, Resit Berker Enhos, Kara Gibson, Aidiye Aidarbekov, Krista West, Isaac Phillips, Vince Chavez, Tearra Oso, Johnny Meyer, Taylor DeVoe, Katherine Neff, Phillip E. Walker, Corey Weber, Slim Khezri, Adwin Brown, Frederick Keeve, Jenna Curtis, Elizabeth Hirsch-Tauber, Nicole Gordon-Levitt, Cameron Brinkman, Amechi Okocha, Cate Freedman, Tamzin Brown, Shane Ryan, Ricky Mabe, Michelle Arthur, Erin Cummings, Eliza Coupe, Greg Sestero, Jason Mitchell, Christopher Mintz-Plasse, Brett Gelman, Kate Upton, Dylan Minnette, David DeCoteau, Zach Braff, Judd Apatow, Bryan Cranston, Lizzy Caplan, J.J. Abrams, Kristen Bell, Danny McBride, Adam Scott, Keegan-Michael Key, Kevin Smith, Zoey Deutch, Tom Franco, Ike Barinholtz, Angelyne, Dree Hemingway, Kether Donohue, Kelly Oxford, Xosha Roquemore, Jerrod Carmichael, Casey Wilson, Tommy Wiseau, Steven Liu, Randall Park, Megan Ferguson, Brian Huskey, Bob Odenkirk, Sugar Lyn Beard, Karen Macarah, Lauren Ash, Peter Gilroy, Jessie Ennis, Charlyne Yi, Hannibal Buress, Melanie Griffith, John Early, Sharon Stone, Joe Mande, Nathan Fielder, Andrew Santino, Jason Mantzoukas, Megan Mullally, June Diane Raphael, Paul Scheer, Zac Efron, Josh Hutcherson, Jacki Weaver, Ari Graynor, Alison Brie, Seth Rogen, Dave Franco, James Franco",
          "DIRECTOR": "James Franco"
         }
        ],
        [
         "tm233366",
         "Te3n",
         2016,
         136,
         "tt4814290",
         "7.3",
         12816,
         "['thriller', 'drama']",
         "IN",
         "PG-13",
         {
          "ACTOR": "Sabyasachi Chakraborty, Tota Roy Chowdhury, Masood Akhtar, Prakash Belawadi, Mukesh Chhabra, Padmavati Rao, Vidya Balan, Nawazuddin Siddiqui, Amitabh Bachchan",
          "DIRECTOR": "Ribhu Dasgupta"
         }
        ],
        [
         "tm233377",
         "The Edge of Seventeen",
         2016,
         104,
         "tt1878870",
         "7.3",
         120488,
         "['comedy', 'drama']",
         "US",
         "R",
         {
          "ACTOR": "Laura Ward, Kirsten Robek, Christian Lagasse, Chris Shields, Lyle Reginald, Kavandeep Hayre, Daniel Bacon, Jena Skodje, Laine MacNeil, Ava Grace Cooper, Christian Michael Cooper, Lina Renna, Katie Stuart, Meredith Monroe, Nesta Cooper, Eric Keenleyside, Alexander Calvert, Hayden Szeto, Kyra Sedgwick, Woody Harrelson, Blake Jenner, Haley Lu Richardson, Hailee Steinfeld",
          "DIRECTOR": "Kelly Fremon Craig"
         }
        ],
        [
         "tm233843",
         "Pyaar Ka Punchnama 2",
         2015,
         159,
         "tt4430136",
         "7.3",
         14968,
         "['comedy', 'drama', 'romance']",
         "IN",
         "PG-13",
         {
          "ACTOR": "Manvir Singh, Prakhar Shukla, Karishma Sharma, Mona Ambegaonkar, Sonnalli Seygall, Ishita Raj Sharma, Rumana Molla, Joy Badlani, Sharat Saxena, Nushrratt Bharuccha, Sunny Singh Nijjar, Omkar Kapoor, Kartik Aaryan",
          "DIRECTOR": "Luv Ranjan"
         }
        ],
        [
         "tm239927",
         "Official Secrets",
         2019,
         112,
         "tt5431890",
         "7.3",
         45200,
         "['thriller', 'crime', 'drama', 'war', 'romance']",
         "GB",
         "R",
         {
          "ACTOR": "Michael James, Jessica Fostekew, Vinta Morgan, Patrick Moy, Brett Allen, Corinna Wilson, Raquel Cassidy, Simon Rogers, David Maybrick, Jodie McNee, Stuart Ramsay, Sophie Duval, Shaun Dooley, Martin Bright, Will Barton, Janie Dee, Lindy Whiteford, Gabrielle Downey, Niccy Lin, Katharine Gun, Andrew Marr, George W. Bush, Tony Blair, Fiona Skinner, Raad Rawi, Katherine Kelly, Jeremy Northam, Angus Wright, Hanako Footman, Katherine Kelly, Jeremy Northam, Kenneth Cranham, Hattie Morahan, Tamsin Greig, Clive Francis, Monica Dolan, Chris Larkin, Ray Panthaki, Shaun Dooley, Chris Reilly, Peter Guinness, MyAnna Buring, Jack Farthing, Conleth Hill, John Heffernan, Indira Varma, Rhys Ifans, Matthew Goode, Adam Bakri, Ralph Fiennes, Matt Smith, Keira Knightley",
          "DIRECTOR": "Gavin Hood"
         }
        ],
        [
         "tm244174",
         "Okja",
         2017,
         122,
         "tt3967856",
         "7.3",
         116305,
         "['drama', 'scifi', 'action']",
         "KR",
         "PG-13",
         {
          "ACTOR": "David Bloom, Jack Lyons, Lynn Marocola, Michelle Clarke-Brown, Rickland Powell, Ann Evans, Amber Snow, Martin Lo Rimorin, Carl Montoya, Pavla Tan, Zachary Belgard, Rebecca Husain, Eha Urbsalu, Michael D. Joseph, Jamar Greene, Lena Avgust, Kristoffe Brodeur, Bettina Skye, Myles Humphus, Andreas Fronk, Phillip Garcia, Elizabeth Urrea, Alex Kabel, Lorne Edward Oliver, Hye-Jo Yu, J. C. Williams, T. Sahara Meer, Waris Ahluwalia, Adam Auslander, Conor Reeves, Marian Volk, Niall Cunningham, Boyd Ferguson, Frans Weterrings IV, Barbara Wallace, Cory Gruter-Andrew, Steven Garr, Timmo Polajev, Ahn Seong-bong, Lucas Körmer, David Congourdeau Nicolas, Pavel Hajek, Stephen Clee, Yerin Shin, Seo Woo-sik, Kim Chul-moo, Kim Woo-hyun, Yoon Jung-ro, Park Jeong-gi, Bae Young-ran, Sangyoon Lee, Mikaela Kingsbury, Milo Shandel, Dylan Ratigan, Hyunzun Yu, Wonjin Jang, Gwangjae Woo, Daehyun Kim, Park Keun-rok, Kim Moon-hak, Hyunwoo Choi, Byeonghee Lee, Seungchang Lee, Kyungwook Lim, Jooman Hong, Jungsook Park, Seoyoung Lim, Clayton Elliot Jones, Lee Jae-Hyeok, Park Ji-hoon, Kwak Jin-seok, Han Yi-jin, Cho Wan-ki, Yoon Kyung-ho, Park Ki-seon, Lee Bong-ryeon, Jang Ji-woong, Choi Hee-seo, Kim Jae-in, Lee Jung-eun, Nancy Amelia Bell, Jose Carias, Kathryn Kirkpatrick, Colm Hill, Michael Mitton, Choi Woo-shik, Giancarlo Esposito, Daniel Henshall, Shirley Henderson, Yoon Je-moon, Byun Hee-bong, Devon Bostick, Steven Yeun, Lily Collins, Jake Gyllenhaal, Paul Dano, Tilda Swinton, Ahn Seo-hyun",
          "DIRECTOR": "Bong Joon-ho"
         }
        ],
        [
         "tm244364",
         "The Nightingale",
         2018,
         136,
         "tt4068576",
         "7.3",
         28196,
         "['thriller', 'drama', 'horror']",
         "AU",
         "R",
         {
          "ACTOR": "James O'Connell, Alan Faulkner, Maggie Blinco, Anthony Phelan, Ben McIvor, Sam Smith, Dallas Mugarra, Luke Carroll, Claire Jones, Nathaniel Dean, Christopher Stollery, Magnolia Maymuru, Matthew Sunderland, Michael Sheasby, Charlie Shotwell, Ewen Leslie, Harry Greenwood, Damon Herriman, Baykali Ganambarr, Sam Claflin, Aisling Franciosi",
          "DIRECTOR": "Jennifer Kent"
         }
        ],
        [
         "tm253083",
         "Blue Jay",
         2016,
         81,
         "tt5912454",
         "7.3",
         17033,
         "['romance', 'drama']",
         "US",
         null,
         {
          "ACTOR": "Clu Gulager, Sarah Paulson, Mark Duplass",
          "DIRECTOR": "Alexandre Lehmann"
         }
        ],
        [
         "tm357589",
         "The Guernsey Literary & Potato Peel Pie Society",
         2018,
         124,
         "tt1289403",
         "7.3",
         44917,
         "['romance', 'drama', 'history', 'war']",
         "GB",
         null,
         {
          "ACTOR": "Joanna Hole, Steve Morphew, Alexa Povah, Rachal Olivant, Emily Patrick, Pippa Rathborne, Stephanie Schonfield, Jack Morris, Marek Oravec, Philip Ridout, Madeleine Domries, Dilyana Bouklieva, Richard Derrington, Gregory Mann, Tom Owen, Andy Gathergood, Florence Keen, Nicolo Pasetti, Clive Merrison, Bernice Stegers, Bronagh Gallagher, Penelope Wilton, Kit Connor, Tom Courtenay, Glen Powell, Katherine Parkinson, Michiel Huisman, Matthew Goode, Jessica Brown Findlay, Lily James",
          "DIRECTOR": "Mike Newell"
         }
        ],
        [
         "tm417392",
         "The King",
         2019,
         140,
         "tt7984766",
         "7.3",
         119020,
         "['drama', 'history', 'romance', 'war']",
         "AU",
         "R",
         {
          "ACTOR": "Oscar Bennett, Thibault de Montalembert, Jeremy Chevillotte, Laurent Winkler, Harry Trevaldwyn, Henry Dent, Bardó Fenyvesi, Bence Bakti, Vincent Latorre, Kristóf Widder, Jack Bandeira, Cedric Cirotteau, Tom Lacroix, Lucas Hansen, Philip Rosch, Nicholas Wittman, Kurta Niké, Roderick Hill, Josef Davies, Gábor Czap, Ivan Kaye, Tom Lawrence, Tom Fisher, Tara Fitzgerald, Stephen Fewell, Edward Ashley, Steven Elder, Dean-Charles Chapman, Andrew Havill, Ben Mendelsohn, Robert Pattinson, Thomasin McKenzie, Lily-Rose Depp, Tom Glynn-Carney, Sean Harris, Joel Edgerton, Timothée Chalamet",
          "DIRECTOR": "David Michôd"
         }
        ],
        [
         "tm425889",
         "The Ballad of Buster Scruggs",
         2018,
         132,
         "tt6412452",
         "7.3",
         141528,
         "['western', 'comedy', 'drama', 'romance']",
         "US",
         "R",
         {
          "ACTOR": "Grace LeSueur, Stephen R. Estler, Austin Rising, Jiji Hise, Katy Bodenhamer, J. Nathan Simmons, Jackamoe Buzzell, Billy Lockwood, Danny McCarthy, Martin Palmer, Tim DeZarn, Paul Rae, Matthew Willig, Ethan Dubin, Jefferson Mays, Grainger Hines, Sam Dillon, Jesse Luken, Ralph Ineson, Stephen Root, Clancy Brown, Tom Proctor, David Krumholtz, E.E. Bell, Willie Watson, Harry Melling, Bill Heck, Chelcie Ross, Saul Rubinek, Jonjo O'Neill, Brendan Gleeson, Tyne Daly, Tom Waits, Liam Neeson, Zoe Kazan, James Franco, Tim Blake Nelson",
          "DIRECTOR": "Joel Coen, Ethan Coen"
         }
        ],
        [
         "tm436778",
         "The Best of Enemies",
         2019,
         133,
         "tt4807408",
         "7.3",
         16441,
         "['drama', 'history']",
         "US",
         "PG-13",
         {
          "ACTOR": "Timothy Carr, Milton Saul, Lindsey Moser, Rachel Marie Lewis, Annie Cook, Shane Biseell, Michael Hyland Cole, Chanel Young, Shane Jackson, Wilbur Fitzgerald, Rhoda Griffis, Chanté Bowser, Jack Montague, Afemo Omilami, Cranston Johnson, Robert Harvey, Morgan Brown, Jeremy Daniel Madden, Bart Hansard, Hope Leigh, Aaron K Smalls, Charles Black, Kameron Kierce, Elizabeth Omilami, Coley Campany, Sope Aluko, Dawntavia Bullard, Ned Vaughn, Jill Jane Clements, Tim Ware, Charles Orr, Rachel Bagley, Jessica Miesel, Jeanette Branch, Lucius Baston, Susan Williams, Kevin Iannucci, Nadej k Bailey, Carson Holmes, Brody Rose, McKenzie Applegate, Al Hamacher, David Plunkett, Bethany DeZelle, Najah Jackson, Ryan Dinning, Malerie Grady, Chris Cavalier, Kendall Ryan Sanders, Morgan Mackey, Dolan Wilson, Caitlin Mehner, Gilbert Glenn Brown, Nicholas Logan, John Gallagher Jr., Bruce McGill, Nick Searcy, Wes Bentley, Anne Heche, Babou Ceesay, Sam Rockwell, Taraji P. Henson",
          "DIRECTOR": "Robin Bissell"
         }
        ],
        [
         "tm44402",
         "Girl, Interrupted",
         1999,
         127,
         "tt0172493",
         "7.3",
         180532,
         "['drama', 'european']",
         "US",
         "R",
         {
          "ACTOR": "Katie Rimmer, Janet Greer, Joanna Kerns, David Scott Taylor, Kurtwood Smith, Misha Collins, KaDee Strickland, Mary Kay Place, Christina Myers, Drucie McDaniel, Jillian Armenante, Angela Bettis, Travis Fine, Jeffrey Tambor, Jared Leto, Vanessa Redgrave, Whoopi Goldberg, Elisabeth Moss, Clea DuVall, Brittany Murphy, Angelina Jolie, Winona Ryder",
          "DIRECTOR": "James Mangold"
         }
        ],
        [
         "tm57610",
         "Talaash",
         2012,
         149,
         "tt1787988",
         "7.3",
         41752,
         "['thriller', 'crime', 'fantasy', 'drama']",
         "IN",
         null,
         {
          "ACTOR": "Suhaas Ahuja, Izabelle Leite, Pariva Pranati, Vivan Bhatena, Aditi Vasudev, Gulfam Khan, Shernaz Patel, Subrat Dutta, Rajkummar Rao, Nawazuddin Siddiqui, Rani Mukerji, Kareena Kapoor Khan, Aamir Khan",
          "DIRECTOR": "Reema Kagti"
         }
        ],
        [
         "tm67378",
         "The Professionals",
         1966,
         117,
         "tt0060862",
         "7.3",
         16168,
         "['western', 'action', 'european']",
         "US",
         "PG-13",
         {
          "ACTOR": "Ron Veto, Philip L. Parslow, John McKee, John Lopez, Eddie Little Sky, Darwin Lamb, Dirk Evans, Roberto Contreras, Leigh Chapman, Don Carlos, Elizabeth Campbell, Vaughn Taylor, Carlos Romero, José Chávez, Marie Gomez, Jorge Martínez de Hoyos, Rafael Bertrand, Joe De Santis, Ralph Bellamy, Claudia Cardinale, Jack Palance, Woody Strode, Robert Ryan, Lee Marvin, Burt Lancaster",
          "DIRECTOR": "Richard Brooks"
         }
        ],
        [
         "tm827648",
         "El Camino: A Breaking Bad Movie",
         2019,
         123,
         "tt10819010",
         "7.3",
         216847,
         "['thriller', 'drama', 'crime', 'action']",
         "US",
         "R",
         {
          "ACTOR": "Gabriela Alicia Ortega, Alison Law, Simon Drobik, Danielle Todesco, Gregory Steven Soliz, Cody Renee Cameron, David Mattey, Chris Bylsma, Matthew Van Wettering, Carlos Sepulveda, Gloria Sandoval, Julie Pearl, Todd Terry, Johnny Ortiz, Brendan Sexton III, Marla Gibbs, Michael Bofshever, Tess Harper, Kevin Rankin, Krysten Ritter, Bryan Cranston, Jonathan Banks, Robert Forster, Tom Bower, Scott Shepherd, Larry Hankin, Scott MacArthur, Matt Jones, Charles Baker, Jesse Plemons, Aaron Paul",
          "DIRECTOR": "Vince Gilligan"
         }
        ],
        [
         "tm918043",
         "Raat Akeli Hai",
         2020,
         149,
         "tt12567088",
         "7.3",
         17570,
         "['thriller', 'crime', 'drama']",
         "IN",
         null,
         {
          "ACTOR": "Shreedhar Dubey, Gyanendra Tripathi, Swanand Kirkire, Ila Arun, Tigmanshu Dhulia, Khalid Tyabji, Shivani Raghuvanshi, Nishant Dahiya, Aditya Srivastava, Shweta Tripathi, Padmavati Rao, Radhika Apte, Nawazuddin Siddiqui"
         }
        ],
        [
         "tm92977",
         "Ishqiya",
         2010,
         115,
         "tt1345777",
         "7.3",
         10415,
         "['comedy', 'thriller', 'romance', 'drama']",
         "IN",
         "R",
         {
          "ACTOR": "Gauri Malla, Alok Kumar, Anupama Kumar, Adil Hussain, Salman Shahid, Arshad Warsi, Vidya Balan, Naseeruddin Shah",
          "DIRECTOR": "Abhishek Chaubey"
         }
        ],
        [
         "tm1003034",
         "The Witcher: Nightmare of the Wolf",
         2021,
         83,
         "tt11657662",
         "7.2",
         41508,
         "['fantasy', 'scifi', 'animation', 'action', 'drama']",
         "PL",
         null,
         {
          "ACTOR": "Abby Trott, Courtenay Taylor, Fred Tatasciore, Andrew Morgado, JP Karliak, Sara Cravens, Dee Bradley Baker, Steve Blum, Ry Chase, Luke Youngblood, Samia Mounts, Nolan North, Adam Croasdell, Harry Hissrich, Michaela Dietz, A.J. LoCascio, Jennie Kwan, Keith Ferguson, Darryl Kurylo, Matthew Yang King, Kari Wahlgren, Jennifer Hale, David Errigo Jr., Tom Canton, Graham McTavish, Lara Pulver, Mary McDonnell, Theo James",
          "DIRECTOR": "Han Kwang-il"
         }
        ],
        [
         "tm1150385",
         "The Tinder Swindler",
         2022,
         114,
         "tt14992922",
         "7.2",
         57606,
         "['crime', 'documentation']",
         "GB",
         null,
         {
          "ACTOR": "Natalie Remøe Hansen, Ayleen Charlotte, Cecilie Fjellhøy, Erlend Ofte Arntsen, Pernilla Sjöholm, Kristoffer Kumar, Shimon Yehuda Hayut",
          "DIRECTOR": "Felicity Morris"
         }
        ],
        [
         "tm121879",
         "A River Runs Through It",
         1992,
         123,
         "tt0105265",
         "7.2",
         59086,
         "['drama']",
         "US",
         "PG",
         {
          "ACTOR": "Robert Redford, Joseph Gordon-Levitt, William Hootkins, Emily Lloyd, Nicole Burdette, Susan Traylor, Vann Gravage, Stephen Shellen, Edie McClurg, Brenda Blethyn, Tom Skerritt, Brad Pitt, Craig Sheffer",
          "DIRECTOR": "Robert Redford"
         }
        ],
        [
         "tm140389",
         "Paddington",
         2014,
         96,
         "tt1109624",
         "7.2",
         111092,
         "['comedy', 'animation', 'family', 'fantasy', 'european']",
         "FR",
         "PG",
         {
          "ACTOR": "Vic Waghorn, Jim Lawrence, Nigel Genis, Asim Chaudhry, Bern Collaço, Jack Philips, Denis Khoroshko, Kornelia Horvath, Matthew David McCarthy, Julie Vollono, Fabio Vollono, Stuart Matthews, Barrie Martin, Faith Elizabeth, Ancuta Breaban, Alexander Bracq, George Newton, Eddie Nestor, Ross Boatman, Theresa Watson, Daniel Westwood, Tarik Blake, Dominic Coleman, Hamish McColl, Tom Meeten, Steve Oram, Steve Edge, Michael Bond, Barry Ashton, Iain Mitchell, Justin Edwards, Llewella Gideon, Javier Marzan, James Bachman, David McKail, Kenneth Hadley, Rufus Jones, Gus Brown, Geoffrey Palmer, Cleo Sylvestre, Sean Bridgeman, Catherine Shepherd, Toby Williams, William Smith, Alice Lowe, Lottie Steer, Jude Wright, Mary Roscoe, Jonathan Derbyshire, Matt Lucas, Kayvan Novak, Simon Farnaby, Matt King, Tim Downie, Madeleine Worrall, Michael Gambon, Imelda Staunton, Peter Capaldi, Jim Broadbent, Nicole Kidman, Julie Walters, Madeleine Harris, Samuel Joslin, Sally Hawkins, Hugh Bonneville, Ben Whishaw",
          "DIRECTOR": "Paul King"
         }
        ],
        [
         "tm145655",
         "St. Vincent",
         2014,
         102,
         "tt2170593",
         "7.2",
         102103,
         "['comedy', 'drama']",
         "US",
         "PG-13",
         {
          "ACTOR": "Alyssa Ruland, Josh Elliott Pickel, Addison Rose Melfi, Richard Ford, Tim Durkin, David Filippi, J. Elaine Marcos, Tim Wilson, Fred Evanko, Amber Clayton, Jeff Bowser, Katharina Damm, Kerry Flanagan, Joann Lamneck, Larry Gray, Orlagh Cassidy, Frank Wood, Brenda Wehle, Brian Berrebbi, James Andrew O'Connor, Maria-Christina Oliveras, Portia, Melanie Nicholls-King, Elliot Santiago, Gabe Hernandez, Sade Demorcy, Alexandra Fong, David Iacono, Emma Fisher, Niles Fitch, Ron McLarty, Maria Elena Ramirez, Greta Lee, Ray Iannicelli, Deirdre O'Connell, Reg E. Cathey, Scott Adsit, Ann Dowd, Donna Mitchell, Kimberly Quinn, Dario Barosso, Nate Corddry, Lenny Venito, Jaeden Martell, Terrence Howard, Chris O'Dowd, Naomi Watts, Melissa McCarthy, Bill Murray",
          "DIRECTOR": "Theodore Melfi"
         }
        ],
        [
         "tm159593",
         "No One Killed Jessica",
         2011,
         136,
         "tt1734110",
         "7.2",
         11665,
         "['crime', 'drama', 'thriller']",
         "IN",
         "PG-13",
         {
          "ACTOR": "Purnendu Bhattacharya, Yogendra Tiku, Satyadeep Misra, Mohammed Zeeshan Ayyub, Neil Bhoopalam, Myra Karn, Vidya Balan, Rani Mukerji",
          "DIRECTOR": "Raj Kumar Gupta"
         }
        ],
        [
         "tm176630",
         "The Butler",
         2013,
         132,
         "tt1327773",
         "7.2",
         114013,
         "['drama', 'european']",
         "US",
         "PG-13",
         {
          "ACTOR": "Joe Chrest, Colman Domingo, Barack Obama, Gerald Ford, Rosalynn Carter, Jimmy Carter, Duane Cothren, Rusty Robertson, Nealla Gordon, Stephen Rider, Jim Gleason, John P. Fertitta, Ami Ameen, LaJessie Smith, Michael Rainey Jr., Yaya DaCosta, Clarence Williams III, Vanessa Redgrave, Alex Pettyfer, Mariah Carey, Jesse Williams, Elijah Kelley, David Banner, John Cusack, Jane Fonda, Alan Rickman, Liev Schreiber, Minka Kelly, James Marsden, Robin Williams, Terrence Howard, Cuba Gooding Jr., Lenny Kravitz, David Oyelowo, Oprah Winfrey, Forest Whitaker",
          "DIRECTOR": "Lee Daniels"
         }
        ],
        [
         "tm187791",
         "In the Line of Fire",
         1993,
         128,
         "tt0107206",
         "7.2",
         101939,
         "['drama', 'thriller', 'action', 'crime']",
         "US",
         "R",
         {
          "ACTOR": "William Shipman, Steve Railsback, Aaron Michael Lacey, Michael Graziano, Ian Paul Cassidy, Lena Banks, Kirk Jordan, Jeffrey Kurt Miller, Rich DiDonato, Michael Zurich, Cylk Cozart, Donna Hamilton, Susan Lee Hoffman, Robert Alan Beuth, Marlan Clarke, Michael Kirk, William G. Schilling, Joshua Malina, Robert Sandoval, Doris E. McMillon, Rick Hurst, Anthony Peck, Tyde Kierney, Robert Peters, Walt MacPherson, Carl Ciarfalio, Alan Toy, John Heard, Patrick Caddell, Eric Bruskotter, Brian Libby, Lawrence Lowe, Ryan Cutrona, Mary Van Arsdel, Patrika Darbo, Arthur Senzy, Elsa Raven, Juan A. Riojas, Bob Schott, Tobin Bell, Steve Hytner, Clyde Kusatsu, Sally Hughes, Jim Curley, Gregory Alan Williams, John Mahoney, Fred Dalton Thompson, Gary Cole, Dylan McDermott, Rene Russo, John Malkovich, Clint Eastwood",
          "DIRECTOR": "Wolfgang Petersen"
         }
        ],
        [
         "tm193769",
         "Steve Jobs",
         2015,
         122,
         "tt3565344",
         "7.2",
         166288,
         "['drama']",
         "GB",
         "R",
         {
          "ACTOR": "Ed Moy, John Lobato, Stephanie Johnston, Alan Chu, Javier Chavarin, Brian Castellanos, Bryan Casserly, John Edward Cabrera, David Blount-Porter, Andy Arness, AnnaCorey, Moises Amaya, Natalie Stephany Aguilar, Derek W. Adam, Alex Phillip, Diogo Hausen, Lena Avgust, Tony Toste, Steven Wiig, Derrin Horton, Mark Mester, Bill Seward, Kristina Guerrero, Carlo Cecchetto, Marc Istook, Sara Welch, Rick Chambers, Melissa Etezadi, Greg Mills, Anita Bennett, Colm O'Riain, Lora Oliver, Daniel Liddle, John Chovanec, Chris Tomasso, Dylan Freitas-D'Louhy, Lana Palmer, Marika Casteel, Damara Reilly, Lily Tung Crystal, Rachel Caproni, Karen Kahn, Gail Fenton, Noreen Lee, Robert Anthony Peters, Mihran Slougian, Stan Roth, John Steen, Adam Shapiro, John Ortiz, Sarah Snook, Makenzie Moss, Ripley Sobo, Perla Haney-Jardine, Katherine Waterston, Michael Stuhlbarg, Jeff Daniels, Seth Rogen, Kate Winslet, Michael Fassbender",
          "DIRECTOR": "Danny Boyle"
         }
        ],
        [
         "tm19673",
         "The Patriot",
         2000,
         165,
         "tt0187393",
         "7.2",
         270231,
         "['drama', 'action', 'history', 'war']",
         "DE",
         "R",
         {
          "ACTOR": "Patrick Tatopoulos, Braima Moiwai, Lillie L. Harris, Samuel Brown Sr., Samuel Brown Jr., Le Roy Seabrook, Derrick B. Young, Scott Miles, Gil Johnson, John H. Bush, Tyler Long, P. Dion Moore, Roy McCrerey, Dara Coleman, John Curran, John Bennes, Kyle Richard Engels, John F. Dzencelowcz II, Greg Good, John Storey, Randell Haynes, Zach Hanner, Mark Jeffrey Miller, Kanin Howell, Kristian Truelsen, Andy Stahl, Charles Black, Bill Roberson, Shannon Eubanks, Terry Layman, Colt Romberger, Mark Twogood, Jack Moore, Kirk Fox, Hank Stone, Shan Omar Huey, Shane Ayon, Grahame Wood, Peter Woodward, Jamieson Price, Mary Jo Deschanel, Logan Lerman, Bryan Chafin, Trevor Morgan, Skye McCole Bartusiak, Mika Boorem, Gregory Smith, Joey D. Vieira, Jay Arlen Jones, Adam Baldwin, Leon Rippy, Donal Logue, Tom Wilkinson, Lisa Brenner, René Auberjonois, Tchéky Karyo, Chris Cooper, Jason Isaacs, Joely Richardson, Heath Ledger, Mel Gibson",
          "DIRECTOR": "Roland Emmerich"
         }
        ],
        [
         "tm205812",
         "The Siege of Jadotville",
         2016,
         108,
         "tt3922798",
         "7.2",
         38308,
         "['thriller', 'war', 'drama', 'action', 'history', 'european']",
         "IE",
         null,
         {
          "ACTOR": "Andrew Stock, Richard Lukunku, Ashish Gangapersad, Gérard Rudolf, Ronan Raftery, Mike Noble, Charlie Kelly, Jordan Mifsud, Luc Van Gunderbeeck, Conor MacNeill, Sam Keeley, Conor Quinlan, Emmanuelle Seigner, Fiona Glascott, Fionn O'Shea, Danny Sapani, Mikael Persbrandt, Michael McElhatton, Jason O'Mara, Mark Strong, Guillaume Canet, Jamie Dornan",
          "DIRECTOR": "Richie Smyth"
         }
        ],
        [
         "tm208713",
         "Gabbar Is Back",
         2015,
         130,
         "tt2424988",
         "7.2",
         24676,
         "['drama', 'action', 'crime', 'comedy']",
         "IN",
         "PG-13",
         {
          "ACTOR": "Rajiv Kachroo, Jagdish Rajpurohit, Chitrangda Singh, Saanvi Talwar, Ninad Kamat, Manoj Chandila, Ravi Prakash, Kareena Kapoor Khan, Shruti Bapna, Ishita Vyas, Sunil Grover, Jaideep Ahlawat, Suman Talwar, Shruti Haasan, Akshay Kumar",
          "DIRECTOR": "Radha Krishna Jagarlamudi"
         }
        ],
        [
         "tm285356",
         "First They Killed My Father",
         2017,
         136,
         "tt4882376",
         "7.2",
         17871,
         "['drama', 'history', 'war']",
         "KH",
         "R",
         {
          "ACTOR": "Mony Rous, Tharoth Sam, Nout Sophal, Horm Chhora, Oun Srey Neang, Run Malyna, Sarun Nika, Khoun Sothea, Heng Dara, Mun Kimhak, Sveng Socheata, Phoeung Kompheak, Sareum Srey Moch",
          "DIRECTOR": "Angelina Jolie"
         }
        ],
        [
         "tm307761",
         "Toilet: A Love Story",
         2017,
         155,
         "tt5785170",
         "7.2",
         20675,
         "['comedy', 'drama', 'romance']",
         "IN",
         null,
         {
          "ACTOR": "Ayesha Raza, Sana Khaan, Sachin Khedekar, Shubha Khote, Rajesh Sharma, Sudhir Pandey, Anupam Kher, Bhumi Pednekar, Akshay Kumar",
          "DIRECTOR": "Shree Narayan Singh"
         }
        ],
        [
         "tm313712",
         "Mom",
         2017,
         147,
         "tt8771030",
         "7.2",
         10320,
         "['crime', 'thriller', 'drama']",
         "IN",
         null,
         {
          "ACTOR": "Suparna Moitra, Riva Arora, Ivan Rodrigues, Joy Badlani, Pitobash, Vikas Verma, Abhimanyu Singh, Adarsh Gourav, Akshaye Khanna, Nawazuddin Siddiqui, Adnan Siddiqui, Sajal Ali, Sridevi",
          "DIRECTOR": "Ravi Udyawar"
         }
        ],
        [
         "tm319470",
         "The Professor and the Madman",
         2019,
         124,
         "tt5932728",
         "7.2",
         44418,
         "['thriller', 'drama', 'history', 'european']",
         "US",
         null,
         {
          "ACTOR": "Lars Brygmann, Laurence Fox, David O'Hara, Stephen Dillane, Lucas Browne, Paul Gough, Abigail Coburn, John Morton, Ronan O'Connor, Robert McCormack, Shane Noone, Olivia McKevitt, Joe McKinney, Malcolm Freeman, Steve Gunn, Bryan Quinn, Sean Duggan, Christopher Maleki, Oengus MacNamara, Bryan Murray, Kieran O'Reilly, David Crowley, Aidan McArdle, Brian Fortune, Jennifer Ehle, Adam Fergus, Brendan Patricks, Jeremy Irvine, Steve Coogan, Ioan Gruffudd, Natalie Dormer, Eddie Marsan, Sean Penn, Mel Gibson",
          "DIRECTOR": "Farhad Safinia"
         }
        ],
        [
         "tm340587",
         "Ittefaq",
         2017,
         107,
         "tt6692354",
         "7.2",
         12095,
         "['thriller', 'crime']",
         "IN",
         "PG",
         {
          "ACTOR": "Hitesh Arora, Trupti Khamkar, Ajay Jadhav, Himanshu Kohli, Mir Sarwar, Mandira Bedi, Sonakshi Sinha, Sidharth Malhotra, Akshaye Khanna"
         }
        ],
        [
         "tm368449",
         "Private Life",
         2018,
         123,
         "tt6394284",
         "7.2",
         19023,
         "['drama', 'comedy']",
         "US",
         "R",
         {
          "ACTOR": "Katrine Hoyt, Maddie Corman, Hettienne Park, Caroline Martin, Gabrielle Reidy, Fenton Lawless, Kelly Miller, Alyssa Cheatham, Danny Deferrari, Kerry Flanagan, Samantha Buck, Amaya Press, Tracee Chimo, Emily Robinson, Siobhan Fallon Hogan, Denis O'Hare, Desmin Borges, John Carroll Lynch, Molly Shannon, Kayli Carter, Paul Giamatti, Kathryn Hahn",
          "DIRECTOR": "Tamara Jenkins"
         }
        ],
        [
         "tm417416",
         "Five Feet Apart",
         2019,
         116,
         "tt6472976",
         "7.2",
         61878,
         "['romance', 'drama']",
         "US",
         "PG-13",
         {
          "ACTOR": "Johnny Otto, Todd Terry, Maxwell Baldoni, Phillip Mullings Jr., Jim Gleason, Armando Leduc, Keianna Nutley, Demi Castro, Kristopher Perez, Ivy Dubreuil, Evangeline Hill, Brett Austin Johnson, Sophia Bernard, Trina LaFargue, Cynthia Evans, Cecilia Leal, Ariana Guerra, Sue-Lynn Ansari, Rebecca Chulew, Gary Weeks, Emily Baldoni, Claire Forlani, Parminder Nagra, Kimberly Hebert Gregory, Moisés Arias, Cole Sprouse, Haley Lu Richardson",
          "DIRECTOR": "Justin Baldoni"
         }
        ],
        [
         "tm434625",
         "Wish Dragon",
         2021,
         99,
         "tt5562070",
         "7.2",
         24712,
         "['fantasy', 'comedy', 'family', 'romance', 'animation']",
         "CN",
         "PG",
         {
          "ACTOR": "Alexandre Chen, Gustav Lindquist, David So, Sumalee Montano, Ian Chen, Ronny Chieng, Nico Santos, Bobby Lee, Will Yun Lee, Aaron Yoo, Jimmy O. Yang, Natasha Liu Bordizzo, Constance Wu, John Cho, Jimmy Wong",
          "DIRECTOR": "Chris Appelhans"
         }
        ],
        [
         "tm446581",
         "The Edge of Democracy",
         2019,
         121,
         "tt6016744",
         "7.2",
         14605,
         "['documentation', 'history']",
         "BR",
         null,
         {
          "ACTOR": "Elena Andrade, Li An, Nelson Mandela, Queen Elizabeth II of the United Kingdom, Barack Obama, Petra Costa, Gilberto Carvalho, Aécio Neves, Jean Wyllys, Paulo Maluf, Sérgio Moro, Jair Bolsonaro, Eduardo Cunha, Michel Temer, Luiz Inácio Lula da Silva, Dilma Rousseff",
          "DIRECTOR": "Petra Costa"
         }
        ],
        [
         "tm447788",
         "Fyre",
         2019,
         98,
         "tt9412098",
         "7.2",
         44715,
         "['documentation', 'crime', 'music']",
         "US",
         null,
         {
          "ACTOR": "Andy Richter, Conan O'Brien, Ron Funches, Alessandra Ambrosio, Emily Ratajkowski, Gizele Oliveira, Shanina Shaik, Lais Ribeiro, Kendall Jenner, Chanel Iman, Elsa Hosk, Bella Hadid, Hailey Baldwin, Rose Bertram, C.C. Clarke, Alyssa Lynch, Carola Jain, Kindo, Ben Meiselas, Seth Crossno, Mary Ann Rolle, Marc Weinstein, Keith van der Linde, Grant Margolin, J.R., Andy King, Samuel Krost, Mdavid Low, Michael Ciccarelli, Shiyuan Deng, Gabrielle Bluestone, Jason Bell, Ja Rule, Billy McFarland",
          "DIRECTOR": "Chris Smith"
         }
        ],
        [
         "tm455197",
         "Kabir Singh",
         2019,
         172,
         "tt8983202",
         "7.2",
         30949,
         "['drama', 'crime', 'action', 'romance']",
         "IN",
         null,
         {
          "ACTOR": "Teena Singh, Aanchal Chauhan, Swati Seth, Anusha Sampath, Kunal Thakur, Amit Sharma, Soham Majumdar, Adil Hussain, Nikita Dutta, Suresh Oberoi, Arjan Bajwa, Kiara Advani, Shahid Kapoor",
          "DIRECTOR": "Sandeep Reddy Vanga"
         }
        ],
        [
         "tm458585",
         "Dolemite Is My Name",
         2019,
         118,
         "tt8526872",
         "7.2",
         59836,
         "['comedy', 'drama']",
         "US",
         "R",
         {
          "ACTOR": "A.J. Tannen, Bob Odenkirk, Jamaal Lewis, Li Eubanks, Aaron Craven, Leonel Claude, Tommie Earl Jenkins, David B. Lyons, Rob Smith, Myles Williamson, Erik Kilpatrick, Catrina Gaston, Sidney Hopson, Justin Campbell, Megan McEwen, Taylor Ellington, Yena Kim, Robert Amerson, Budda Foster, Brandon Stewart, Eric Reed, Demetrius Hodges, Dorothy Schock, Alfonso Christian Lover, Bubba Ganter, Nikol Davis, Gina Lohman, Jimmie Kirkpatrick, Damon Wilson, Edwin Livingston, Lyndon Rochelle, James Cornelison, Bobby Rush, Quartay Denaya, Phil Abrams, Dale Gibson, Saudia Rashed, Cole McKay, Garland Whitt, Toni Duclottni, Cheryl Francis Harrington, Chelsea Gilson, Sade E. Moore, Krystian Alexander Lyttle, Kezii Curtis, deMann, Milan Carter, Akono Dixon, Lamar Usher, John Fluker, Edward Rudell Johnson, Nayanna Holley, Maiya Sykes, Amy Keys, Wendell Kelly, Johnny Britt, James Ford III, Chucc Hamilton, Brandon Owens, Carlos McSwain, Lamar Edwards, Bobby Milhouse, Bernadine Durham, Gerald Downey, Allen Rueckert, Monique StaTeena, Jernard Burks, John Michael Herndon, Henry Monfries, Baker Chase Powell, Jill Savel, Arthur Fuller, Claude Phillips, B.J. Bingham, Kazy Tauginas, Michael Peter Bolus, Ivo Nandi, Aleksandar Filimonović, Chris Rock, Wesley Snipes, Tasha Smith, Luenell, T.I., Barry Shabaka Henley, Ron Cephas Jones, Snoop Dogg, Kodi Smit-McPhee, Da'Vine Joy Randolph, Tituss Burgess, Craig Robinson, Mike Epps, Keegan-Michael Key, Eddie Murphy",
          "DIRECTOR": "Craig Brewer"
         }
        ],
        [
         "tm66466",
         "Wazir",
         2016,
         103,
         "tt0315642",
         "7.2",
         18681,
         "['thriller', 'crime', 'action', 'drama']",
         "IN",
         "PG-13",
         {
          "ACTOR": "Vaidehi Parshurami, Seema Pahwa, Avtar Gill, Nishigandha Wad, Murali Sharma, Prakash Belawadi, Manav Kaul, Neil Nitin Mukesh, John Abraham, Aditi Rao Hydari, Farhan Akhtar, Amitabh Bachchan",
          "DIRECTOR": "Bejoy Nambiar"
         }
        ],
        [
         "tm78592",
         "Michael Clayton",
         2007,
         120,
         "tt0465538",
         "7.2",
         163878,
         "['thriller', 'crime', 'drama']",
         "US",
         "R",
         {
          "ACTOR": "Steven Weisz, Kimmy Suzuki, Josh Mowery, Emelie Jeffries, Tony Gilroy, Clem Cheung, Kevin Cannon, Angelo Bonsignore, Patrick Askin, Paul Juhn, Neal Huff, Jordan Lage, Susan McBrien, Maggie Siff, Sam Gilroy, Gregory Dann, Douglas McGrath, David Zayas, David Lansbury, Susan Egbert, Sean Cullen, Julia Gibson, Kevin Hagan, Andrew Hunter Sherman, Pamela Gray, Heidi Armbruster, Terry Serpico, Paul Oquist, Robert Prescott, Jason Strong, Pun Bandhu, Remy Auberjonois, John Gerard Franklin, Katherine Waterston, Christopher Mann, Brian Poteat, Merritt Wever, John Douglas Thompson, Matthew Detmer, Rachel Black, Susan Pellegrino, Amy Hargreaves, Ken Howard, Michael Countryman, Cynthia Mace, Sharon Washington, Jonathan Walker, Bill Raymond, Frank Wood, Jennifer Van Dyck, Austin Williams, Julie White, Denis O'Hare, Tom McCarthy, Brian Koppelman, Alberto Vazquez, Wai Chan, Danielle Skraastad, Sydney Pollack, Michael O'Keefe, Tilda Swinton, Tom Wilkinson, George Clooney",
          "DIRECTOR": "Tony Gilroy"
         }
        ],
        [
         "tm84371",
         "Shooter",
         2007,
         124,
         "tt0822854",
         "7.2",
         329417,
         "['thriller', 'action', 'drama']",
         "US",
         "R",
         {
          "ACTOR": "Brad Kelly, Jonathan Eusebio, Roberto Lombardi, Michael-Ann Connor, Zak Santiago, Lane Garrison, Ned Beatty, Alan C. Peterson, Rade Šerbedžija, Tate Donovan, Louis Ferreira, Jonathan Walker, Rhona Mitra, Elias Koteas, Kate Mara, Danny Glover, Michael Peña, Mark Wahlberg",
          "DIRECTOR": "Antoine Fuqua"
         }
        ],
        [
         "tm856378",
         "Don't Look Up",
         2021,
         138,
         "tt11286314",
         "7.2",
         498447,
         "['scifi', 'drama', 'comedy']",
         "US",
         "R",
         {
          "ACTOR": "Caroline Bergwall, Zach Holmes, Lewis D. Wheeler, André Silva, Chris Evans, Odis Spencer Jr., Dorothy Dwyer, Jon Glaser, Jeffrey Smith, Danielle Waxman, Darryl Wooten, Richard Snee, Sarah Silverman, Ashleigh Banfield, Meghan Leathers, Jody O'Neil, Omar Ghonim, Therese Plaehn, Ben Sidell, Patricia DeHaney, Georgia Lyman, Gary Tanguay, Natalie Rebenkoff, Aimee Doherty, Stephen Thorne, Annette Miller, Chris Everett, Mishka Yarovoy, Wendy Bellevue, Staci Roberts Steele, Jaden Onwuakor, Meara Mahoney-Gross, Samsara Yett, Liev Schreiber, Richard Donelly, Ross Partridge, Conor Sweeney, Robert Hurst Radochia, Rena Maliszewski, Barbara Douglass, Homa Sarabi Daunis, Lonnie Farmer, Rafael Silva, Hettienne Park, Shimali de Silva, Lance A. Williams, Ting Lik, Jack Alberts, Robert Joy, Paul Guilfoyle, Tomer Sisley, Michael Chiklis, Melanie Lynskey, Himesh Patel, Kid Cudi, Ariana Grande, Ron Perlman, Timothée Chalamet, Tyler Perry, Mark Rylance, Cate Blanchett, Jonah Hill, Rob Morgan, Meryl Streep, Leonardo DiCaprio, Jennifer Lawrence",
          "DIRECTOR": "Adam McKay"
         }
        ],
        [
         "tm88738",
         "Closer",
         2004,
         94,
         "tt0376541",
         "7.2",
         215678,
         "['drama', 'romance']",
         "GB",
         "R",
         {
          "ACTOR": "Jacqui-Lee Pryce, Robert Stone, Peter Rnic, Steve Morphew, Selena Mars, Michael Haley, Antony Gabriel, Rrenford Junior Fagan, Daniel Dresner, Ray Donn, Elizabeth Bower, Steve Benham, Nick Hobbs, Colin Stinton, Clive Owen, Natalie Portman, Jude Law, Julia Roberts",
          "DIRECTOR": "Mike Nichols"
         }
        ],
        [
         "tm934040",
         "American Murder: The Family Next Door",
         2020,
         83,
         "tt12987894",
         "7.2",
         26355,
         "['crime', 'documentation']",
         "US",
         "R",
         {
          "ACTOR": "Shanann Watts, Ronnie Watts, Cindy Watts, Chris Watts, Celeste Watts, Bella Watts, Sandi Rzucek, Frankie Rzucek, Frank Rzucek, Michael Rourke, Tom Mustin, Theresa Marchetta, Karen Leigh, Marcelo Kopcow, Nichol Kessinger, Mark Jamieson, Luke Epple, Jim Benemann, Nickole Atkinson",
          "DIRECTOR": "Jenny Popplewell"
         }
        ],
        [
         "tm101609",
         "Raajneeti",
         2010,
         167,
         "tt1291465",
         "7.1",
         17555,
         "['drama', 'thriller', 'crime']",
         "IN",
         "PG",
         {
          "ACTOR": "Daya Shankar Pandey, Kiran Karmarkar, Shruti Seth, Darshan Jariwala, Vinay Apte, Chetan Pandit, Sarah Thompson, Naseeruddin Shah, Nana Patekar, Arjun Rampal, Katrina Kaif, Manoj Bajpayee, Ranbir Kapoor, Ajay Devgn",
          "DIRECTOR": "Prakash Jha"
         }
        ],
        [
         "tm103133",
         "Karthik Calling Karthik",
         2010,
         135,
         "tt1373156",
         "7.1",
         11944,
         "['thriller', 'drama', 'romance']",
         "IN",
         "PG",
         {
          "ACTOR": "Shefali Shah, Suresh Tope, Yatin Karyekar, Vipin Sharma, Vivan Bhatena, Ram Kapoor, Deepika Padukone, Farhan Akhtar",
          "DIRECTOR": "Vijay Lalwani"
         }
        ],
        [
         "tm1092864",
         "The Unforgivable",
         2021,
         112,
         "tt11233960",
         "7.1",
         101975,
         "['drama', 'crime']",
         "DE",
         "R",
         {
          "ACTOR": "Janet Walmsley, Aaron Pearl, Art Kitching, Julie Tao, Flossie McKnight, Kelly-Ruth Mercier, Sarah Kelley, Cynthia Loewen, Simon Chin, Angela Moore, Michelle Choi-Lee, Joyanna Tonge, Carolyn Field, Bobbi Charlton, Toby Hargrave, Viv Leacock, William Belleau, Patti Kim, Donavon Stinson, Alistair Abell, Craig March, Paul Moniz de Sa, Jude Wilson, Orlando Lucas, W. Earl Brown, Andrew Francis, Rob Morgan, Jessica McLeod, Tom Guiry, Will Pullen, Emma Nelson, Aisling Franciosi, Linda Emond, Richard Thomas, Jon Bernthal, Vincent D'Onofrio, Viola Davis, Sandra Bullock",
          "DIRECTOR": "Nora Fingscheidt"
         }
        ],
        [
         "tm109304",
         "The Ring",
         2002,
         111,
         "tt0298130",
         "7.1",
         341888,
         "['horror', 'european']",
         "JP",
         "PG-13",
         {
          "ACTOR": "Chuck Hicks, Gary Carlos Cervantes, David Povall, Maura McNamara, Catherine Paolone, Coleen Maloney, Aixa Clemente, Joe Sabatino, Lindsey Stoddart, Ronald William Lawrence, Keith Campbell, Sara Rue, Billy Lloyd, Art Frankel, Michael Spound, Joanna Lin Black, Stephanie Erb, Joe Chrest, Pauley Perrette, Alan Blumenfeld, Adam Brody, Tess Hall, Sasha Barrese, Richard Lineback, Sandra Thigpen, Shannon Cochran, Daveigh Chase, Rachael Bella, Amber Tamblyn, Lindsay Frost, Jane Alexander, Brian Cox, David Dorfman, Martin Henderson, Naomi Watts",
          "DIRECTOR": "Gore Verbinski"
         }
        ],
        [
         "tm120108",
         "Kung Fu Panda 3",
         2016,
         95,
         "tt2267968",
         "7.1",
         152791,
         "['comedy', 'animation', 'action', 'family', 'fantasy', 'drama']",
         "US",
         "PG",
         {
          "ACTOR": "Mike Mitchell, Gus Culligan, Lena Golia, Joseph Izzo, Lindsey Russell, Radzi Chinyanganya, Jean-Claude Van Damme, Shiloh Jolie-Pitt, Zahara Jolie-Pitt, Knox Jolie-Pitt, April Hong, Ming Tsai, Mick Wingert, Stephen Kearin, Kelly Cooney, Pax Jolie-Pitt, Fred Tatasciore, Willie Geist, Al Roker, Barbara Dirickson, Wayne Knight, Liam Knight, Steele Gagnon, Randall Duk Kim, James Hong, Kate Hudson, David Cross, Lucy Liu, Seth Rogen, Jackie Chan, J.K. Simmons, Angelina Jolie, Dustin Hoffman, Bryan Cranston, Jack Black",
          "DIRECTOR": "Alessandro Carloni, Jennifer Yuh Nelson"
         }
        ],
        [
         "tm129971",
         "Luck by Chance",
         2009,
         155,
         "tt0886539",
         "7.1",
         10206,
         "['romance', 'drama']",
         "IN",
         null,
         {
          "ACTOR": "Arjun Mathur, Abdul Quadir Amin, Javed Akhtar, Manish Acharya, Ronit Roy, Rajkumar Hirani, Mac Mohan, Manish Malhotra, Shabana Azmi, Mushtaq Sheikh, Anurag Kashyap, Dia Mirza, Rani Mukerji, Kareena Kapoor Khan, Vivek Oberoi, Akshaye Khanna, Ranbir Kapoor, Karan Johar, John Abraham, Abhishek Bachchan, Shah Rukh Khan, Aamir Khan, Mohsin Akhtar, Boman Irani, Alyy Khan, Saurabh Shukla, Isha Sharvani, Sanjay Kapoor, Juhi Chawla, Dimple Kapadia, Rishi Kapoor, Hrithik Roshan, Konkona Sen Sharma, Farhan Akhtar",
          "DIRECTOR": "Zoya Akhtar"
         }
        ],
        [
         "tm136465",
         "Tangerine",
         2015,
         87,
         "tt3824458",
         "7.1",
         31385,
         "['comedy', 'drama', 'crime']",
         "US",
         "R",
         {
          "ACTOR": "Chris Bergoch, Graham Mackie, John Gulager, Jason Stuart, Chelcie Lynn, Ana Foxxx, Josh Sussman, Shih-Ching Tsou, Clu Gulager, Scott Krinsky, Ian Edwards, Arsen Grigoryan, Luiza Nersisyan, Alla Tumanian, James Ransone, Mickey O'Hagen, Karren Karagulian, Mya Taylor, Kitana Kiki Rodriguez",
          "DIRECTOR": "Sean Baker"
         }
        ],
        [
         "tm161562",
         "Copenhagen",
         2014,
         98,
         "tt2459156",
         "7.1",
         13135,
         "['drama', 'romance']",
         "US",
         null,
         {
          "ACTOR": "Sebastian Bull Sarning, Preben Ravn, Zaki Nobel Mehabil, Asbjørn Krogh Nissen, Hélène Kuhn, Gordon Kennedy, Silja Eriksen Jensen, Martin Hestbæk, Mille Dinesen, Tamzin Merchant, Baard Owe, Olivia Grant, Sebastian Armesto, Frederikke Dahl Hansen, Gethin Anthony",
          "DIRECTOR": "Mark Raso"
         }
        ],
        [
         "tm170442",
         "Margin Call",
         2011,
         107,
         "tt1615147",
         "7.1",
         125883,
         "['thriller', 'drama']",
         "US",
         "R",
         {
          "ACTOR": "Grace Gummer, Peter Y. Kim, Al Sapienza, Jimmy Palumbo, Maria Dizzia, Susan Blackwell, Aasif Mandvi, Stanley Tucci, Mary McDonnell, Jeremy Irons, Penn Badgley, Demi Moore, Ashley Williams, Paul Bettany, Simon Baker, Zachary Quinto, Kevin Spacey",
          "DIRECTOR": "J.C. Chandor"
         }
        ],
        [
         "tm171228",
         "Metallica: Through the Never",
         2013,
         93,
         "tt2172935",
         "7.1",
         17433,
         "['music']",
         "US",
         "R",
         {
          "ACTOR": "Robert Trujillo, Toby Hargrave, Kirk Hammett, Lars Ulrich, James Hetfield, Mackenzie Gray, Dane DeHaan",
          "DIRECTOR": "Nimród Antal"
         }
        ],
        [
         "tm174683",
         "Arthur Christmas",
         2011,
         97,
         "tt1430607",
         "7.1",
         58296,
         "['drama', 'animation', 'family', 'comedy', 'fantasy']",
         "GB",
         "PG",
         {
          "ACTOR": "Alistair McGowan, Tamsin Greig, Kerry Shale, Julia Davis, Ian Ashpitel, David Schneider, Deborah Findlay, Jerry Lambert, Donnie Long, Clint Dyer, Rich Hall, Finlay Duff, Ryan Patrick Donahoe, Adam Tandy, Sarah Smith, Alan Short, Kris Pearn, Stewart Lee, Emma Kennedy, Danny John-Jules, Pete Jack, Bronagh Gallagher, Rich Fulcher, Kevin Eldon, Kevin Cecil, Cody Cameron, Peter Baynham, Dominic West, Andy Serkis, Iain McKee, Jane Horrocks, Rhys Darby, Joan Cusack, Robbie Coltrane, Sanjeev Bhaskar, Michael Palin, Ramona Marquez, Eva Longoria, Laura Linney, Marc Wootton, Ashley Jensen, Imelda Staunton, Jim Broadbent, Bill Nighy, Hugh Laurie, James McAvoy",
          "DIRECTOR": "Sarah Smith"
         }
        ],
        [
         "tm177645",
         "Wedding Association",
         2013,
         106,
         "tt3726104",
         "7.1",
         22186,
         "['comedy']",
         "XX",
         "PG-13",
         {
          "ACTOR": "Bayram Önal, Zeynel Ozan Çabuk, Ayhan Yildiz, Kadir Yazici, Erol Yavan, Vedat Uyar, Ahmet Ugurluer, Nazlı Tosunoğlu, Zehra Tosun, Özgür Marius Toma, Kebire Tokur, Olgun Toker, Feramuz Tanriverdi, Muhammet Süt, Juris Strenga, Burak Satibol, Cemil Şahin, Berat Efe Parlar, Semih Olgunöz, Tom J. Benedict, Rihards Lepers, Yeliz Kuvancı, Tuğçe Kurşunoğlu, Binnur Kaya, Adem Kaya, Murat Karakoç, Ali Kabalak, Korhan Herduran, Cafer S. Hadimioglu, Sait Gür, Ertugrul Gültekin, Muhammet Burak Erdogan, Ezgi Duman, Lelde Dreimane, Açalya Samyeli Danoglu, Osman Cemcir, Jelena Božić, Ender Balkir, Selçuk Aydemir, Toygun Ateş, Adem Atbas, Basri Albayrak, Ahmet Akyavuz, Arda Aktolga, Emel Sayın, Reyhan İlhan, Kemal İnci, Sırrı Süreyya Önder, Erol Aksoy, Zerrin Sümer, Şinasi Yurtsever, İnan Ulaş Torun, Barış Yıldız, Devrim Yakut, Rasim Öztekin, Murat Cemcir, Ahmet Kural",
          "DIRECTOR": "Selçuk Aydemir"
         }
        ],
        [
         "tm181081",
         "The Railway Man",
         2013,
         116,
         "tt2058107",
         "7.1",
         39743,
         "['drama', 'european', 'war', 'romance']",
         "GB",
         "R",
         {
          "ACTOR": "Kate Rutter, Charlie Ruedpokanon, Marta Dusseldorp, Byron J. Brochmann, Therese Bradley, Sarah McVicar, Jack McTaggart, Shinji Ikefuji, Ewen Leslie, Masa Yamaguchi, Keiichi Enomoto, Yasuhiko Miyauchi, Ben Warren, Shogo Tanikawa, Peter Tuinstra, Shoota Tanahshi, Micheal Doonan, Louis Toshio Okada, Yutaka Izumihara, Ben Aldridge, Keith Fleming, Takato Kitamoto, Akos Armont, Sam Reid, Tom Hobbs, Bryan Probets, Tom Stokes, Jeffrey Daunton, Michael MacKenzie, Tanroh Ishida, Hiroyuki Sanada, Jeremy Irvine, Stellan Skarsgård, Nicole Kidman, Colin Firth",
          "DIRECTOR": "Jonathan Teplitzky"
         }
        ],
        [
         "tm183037",
         "Don 2",
         2011,
         139,
         "tt1285241",
         "7.1",
         52338,
         "['action', 'thriller', 'crime', 'european']",
         "DE",
         null,
         {
          "ACTOR": "Alyy Khan, Adi Putra, Rike Schmid, Klaus Schindler, Martin Goeres, Christian Goebel, Florian Fitz, Florian Lukas, Hrithik Roshan, Nawab Shah, Om Puri, Kunal Kapoor, Lara Dutta, Boman Irani, Priyanka Chopra Jonas, Shah Rukh Khan",
          "DIRECTOR": "Farhan Akhtar"
         }
        ],
        [
         "tm191772",
         "Seven Years in Tibet",
         1997,
         136,
         "tt0120102",
         "7.1",
         141308,
         "['drama', 'history', 'war']",
         "US",
         "PG-13",
         {
          "ACTOR": "Zongra Tulku Rinpoche, Sharpa Tulku Rinpoche, Tenzin Gyaltsen Rinpoche, Lobsang Gendun Rinpoche, Philipp Kriechbaum, Sebastian Zevalia, Lama Thupten Nugdup, Lama Jampa Lekshe, Choeden Tsering, Ngawang Tenzingyatso, Karma Apo-Tsang, Pemba Norbu Sherpa, Lama Champa Chandu, Geshe Yeshi Tsultrim, Geshe Lobsang Nyma, Lama Champa Tsondu, Sonam Bidhartsang, Kalsang Dhundop Lungtok, Yama Ngudup Cheshatsang, Tsering Wangdue, Angphurba Sherpa, Tenzin Jangchub, Chemchok, Samdup Dhargyal, Wolfgang Tonninger, Tom Raudaschl, Benedick Blythe, Ngawang Chojor, Ric Young, Sonam Wangchuk, Ama Ashe Dongtse, Jetsun Pema, Victor Wong, Danny Denzongpa, Duncan Fraser, Ingeborga Dapkūnaitė, Lhakpa Tsamchoe, Mako, BD Wong, David Thewlis, Jamyang Jamtsho Wangchuk, Brad Pitt",
          "DIRECTOR": "Jean-Jacques Annaud"
         }
        ],
        [
         "tm199700",
         "The Danish Girl",
         2015,
         119,
         "tt0810819",
         "7.1",
         180805,
         "['drama', 'romance', 'european']",
         "DE",
         "R",
         {
          "ACTOR": "Philip Arditti, Erich Redman, Rebecca Clay, Maya Lindh, Eleanor Hafner, Holly Weston, Aisha Fabienne Ross, Issy van Randwyck, Rebecca Root, Cosima Shaw, Alexander Devrient, Raphael Acloque, Victoria Emslie, Clare Fettarappa, Sonya Cullingford, Nicola Sloane, Nancy Crane, Paul Bigley, Richard Dixon, Pixie, Angela Curran, Peter Krag, Claus Bue, Tusse Silberg, Jake Graf, Miltos Yerolemou, Sophie Kennedy Clark, Henry Pettigrew, Adrian Schiller, Emerald Fennell, Amber Heard, Nicholas Woodeson, Pip Torrens, Sebastian Koch, Ben Whishaw, Matthias Schoenaerts, Alicia Vikander, Eddie Redmayne",
          "DIRECTOR": "Tom Hooper"
         }
        ],
        [
         "tm204163",
         "War Dogs",
         2016,
         114,
         "tt2005151",
         "7.1",
         208185,
         "['crime', 'drama', 'comedy', 'war']",
         "US",
         "R",
         {
          "ACTOR": "Christopher Cho, Jonathan Yaskoff, André B. Walker, Maegan Vogel, Zachary Vazquez, Courtney Hope Turner, Alan Trujillo, Holly Traister, Rene Toledo, Jeffry Tamara, Leland Smith, Eric Shackelford, Hassan Said, Efren John Rowan, Mark Roman, Daniel E. Rodriguez, Brittney Rae, Lisa Nygard-Pugh, Ryan Morgan, Roman Mitichyan, Chiko Mendez, Andrei Mateiu, Rob Marchitti, Tracy Lee, David W. LeBlanc, Steven Krasner, Brenda Koo, Trevor Keveloh, Frederick Keeve, Gregory Kasyan, Michaelanthony Jeffers, Avo Jabourian, Sidmar Holloman, Phillip Allen Hall III, Nicole Ilene Greensher, Jasmine Golden, Adam E. Ginsberg, Robert J. Fox, Ely Feldman, Marquest Douglass, Maxwell Acee Donovan, Lucas Di Medio, Christopher De Stefano, Ellen Marguerite Cullivan, Tom Crisp, Xavier Cortes, Bryan Chesters, Nicole Chauvet, Gina Beatriz Castro, Santos Caraballo, Brian Blu, Maria F. Blanco, Jimmy Badstibner, Vincent Teixeira, Lita Lopez, Caroline Lowe, Liliana Cristina Circei, Bogdan Albulescu, Petre Marin, Alin Georgiou Popa, Benny Figgins, Ben Wise, Ira Kay, Richard Coley, Roy Jenkins, Wallace Langham, Stoney Westmoreland, Randy Jay Burrell, Bahram Khosraviani, Mohammed Omari, Mansour Badri, Mosa Omari, Tucker Merrick, Alisa Allapach, Ali Chen, Dan Bilzerian, Gabriela Alvarez, Bethuel Fletcher, Daimion Johnson, Edson Jean, Eddie Jemison, Gregg Weiner, Steve Lantz, Daniel Berson, Max Daniels, Ashli Haynes, Aaron Lustig, Mehdi Merali, Ashley Spillers, Said Faraj, Jeff Pierre, Barry Livingston, Jeremy Tardy, Andrei Finți, Julian Sergi, Gabriel Spahiu, J. B. Blanc, Shaun Toub, Patrick St. Esprit, Kevin Pollak, Bradley Cooper, Ana de Armas, Jonah Hill, Miles Teller",
          "DIRECTOR": "Todd Phillips"
         }
        ],
        [
         "tm22540",
         "Phir Hera Pheri",
         2006,
         155,
         "tt0419058",
         "7.1",
         22505,
         "['comedy', 'crime']",
         "IN",
         null,
         {
          "ACTOR": "Javed Khan, Kiku Sharda, Dia Mirza, Nana Patekar, Dinesh Hingoo, Suresh Menon, Sharat Saxena, Rajpal Yadav, Manoj Joshi, Johnny Lever, Rimi Sen, Bipasha Basu, Paresh Rawal, Suniel Shetty, Akshay Kumar",
          "DIRECTOR": "Neeraj Vora"
         }
        ],
        [
         "tm22636",
         "Trailer Park Boys: The Movie",
         2006,
         95,
         "tt0425601",
         "7.1",
         12831,
         "['comedy', 'crime']",
         "CA",
         "R",
         {
          "ACTOR": "Nichole Hiltz, Patrick Roach, Hugh Dillon, Barrie Dunn, Eugene A. Clark, Glen Grant, Gerry Dee, Alex Lifeson, Gord Downie, Michael Jackson, Cory Bowles, Lydia Lawson-Baird, Sarah Dunsworth, Lucy Decoutere, Patrick Roach, John Dunsworth, Mike Smith, John Paul Tremblay, Robb Wells",
          "DIRECTOR": "Mike Clattenburg"
         }
        ],
        [
         "tm245271",
         "Gantz:O",
         2016,
         95,
         "tt5923962",
         "7.1",
         14501,
         "['animation', 'scifi', 'action', 'drama', 'fantasy', 'thriller', 'horror']",
         "JP",
         "NC-17",
         {
          "ACTOR": "Masane Tsukayama, Tomohiro Kaku, Teruaki Ogawa, Shuuichi Ikeda, Kenjiro Tsuda, Masaya Onosaka, Mao Ichimichi, Saori Hayami, Daisuke Ono, Yuki Kaji",
          "DIRECTOR": "Yasushi Kawamura, Keiichi Sato"
         }
        ],
        [
         "tm30170",
         "Don",
         2006,
         178,
         "tt0461936",
         "7.1",
         36836,
         "['thriller', 'crime', 'action', 'european']",
         "IN",
         "PG-13",
         {
          "ACTOR": "Pavan Malhotra, Chunky Pandey, Sushma Reddy, Tanay Chheda, Kareena Kapoor Khan, Rajesh Khattar, Diwakar Pundir, Om Puri, Boman Irani, Isha Koppikar, Arjun Rampal, Priyanka Chopra Jonas, Shah Rukh Khan",
          "DIRECTOR": "Farhan Akhtar"
         }
        ],
        [
         "tm33545",
         "Forgetting Sarah Marshall",
         2008,
         111,
         "tt0800039",
         "7.1",
         280121,
         "['comedy', 'drama', 'romance']",
         "US",
         "R",
         {
          "ACTOR": "Jesse Heiman, Peter Salett, Michael Oosterom, Carla Alapont, Max Alexander, Cynthia Lamontagne, Carla Gallo, Tanisha Harper, Ahna O'Reilly, June Diane Raphael, Kirk Fox, Trula M. Marcus, Peter Lewis, Billy Bush, Branscombe Richmond, Francesca Delbanco, Kala Alexander, Taylor Wily, Murray Miller, Kalani Robb, Steve Landesberg, Da'Vone McDonald, Kristen Wiig, William Baldwin, Jason Bateman, Paul Rudd, Maria Thayer, Jack McBrayer, Liz Cackowski, Jonah Hill, Bill Hader, Russell Brand, Mila Kunis, Kristen Bell, Jason Segel",
          "DIRECTOR": "Nicholas Stoller"
         }
        ],
        [
         "tm36188",
         "Body of Lies",
         2008,
         128,
         "tt0758774",
         "7.1",
         224896,
         "['drama', 'action', 'thriller']",
         "GB",
         "R",
         {
          "ACTOR": "Aaron lee Wright, Jameel Khoury, Michael Stuhlbarg, Xanthe Elbrick, Annabelle Wallis, Giannina Facio, Clara Khoury, Ghali Benlafkih, Lubna Azabal, Kais Nashif, Vince Colosimo, Alon Aboutboul, Oscar Isaac, Golshifteh Farahani, Mehdi Nebbou, Michael Gaston, Simon McBurney, Ali Suliman, Mark Strong, Russell Crowe, Leonardo DiCaprio",
          "DIRECTOR": "Ridley Scott"
         }
        ],
        [
         "tm368699",
         "The Devil All the Time",
         2020,
         138,
         "tt8956406",
         "7.1",
         122321,
         "['drama', 'thriller', 'crime', 'horror']",
         "US",
         "R",
         {
          "ACTOR": "Andrew Young, Jason Charles Hill, Jeff McKinney, Morgan Monroe, Matt Powell, Katie Flaherty, Leslie Sides, Rebecca Douglas, Myles Phillips, Kacey Hayes, Beth Scott, Ben Bailey, Meagan Bown, Emily Towles, Kyle Sawyer, Lawrence Hinkle, Scott Rapp, James H. Keating, Shannon Frye, Sarah Hamff, Kevin Waterman, Phillip DeVona, John Rue, Santino Fontana, Jeff McCarthy, Edward Hall, Daniel James Vaughn, Bruce Cooper, Cort Chandler, Michael H. Cole, Teddy Cole, Eric Mendenhall, Jason Collett, Madelyn Wall, Cody Jones, Emma Coulter, Cory Scott Allen, Given Sharp, Ever Eloise Landrum, Caleb J. Thaggard, Drew Starkey, Zack Shires, Ivan Hoey Jr., Karson Kern, Morganna Bridgers, Adam Fristoe, Cotton Yancey, Kelly Lind, Abby Glover, Lucy Faust, Michael Harding, Todd Barnett, Wes Robinson, Ryan Anthony Williams, Mark Jeffrey Miller, David Maldonado, Gregory Kelly, Billy Joe Bradshaw, Matthew Vaughn, David Atkinson, Emilio Subercaseaux Campos, Michael Banks Repeta, Donald Ray Pollock, Pokey LaFarge, Kristin Griffith, Douglas Hodge, Mia Wasikowska, Eliza Scanlen, Harry Melling, Robert Pattinson, Haley Bennett, Sebastian Stan, Jason Clarke, Riley Keough, Bill Skarsgård, Tom Holland",
          "DIRECTOR": "Antonio Campos"
         }
        ],
        [
         "tm407827",
         "Girl",
         2018,
         105,
         "tt8254556",
         "7.1",
         14046,
         "['drama', 'european']",
         "NL",
         "R",
         {
          "ACTOR": "Pieter Piron, Annelies Moens, Sophie Huygens, Naomi Velissariou, Rilke Eyckermans, William Banu, Anthime Breyne, Ingrid Heiderscheidt, Steve Driesen, Alexia Depicker, Hélène Theunissen, Els Olaerts, Daniel Nicodème, Virginia Hendricksen, Marie-Louise Wilderijckx, Angelo Tijssens, Alain Honorez, Alice de Broqueville, Magali Elali, Valentijn Dhaenens, Katelijne Damen, Nele Hardiman, Chris Thys, Tijmen Govaerts, Oliver Bodart, Arieh Worthalter, Victor Polster",
          "DIRECTOR": "Lukas Dhont"
         }
        ],
        [
         "tm410435",
         "To All the Boys I've Loved Before",
         2018,
         100,
         "tt3846674",
         "7.1",
         101175,
         "['romance', 'comedy', 'drama']",
         "US",
         "PG-13",
         {
          "ACTOR": "Yael Yurman, Cameron Crosby, Jeb Beach, Pavel Piddocke, Rhys Fleming, Christian Michael Cooper, Hunter Dillon, Isabelle Beech, June B. Wilde, Jordan Burtchett, Edward Kewin, Joey Pacheco, Julia Benson, Kelcey Mawema, John Corbett, Israel Broussard, Madeleine Arthur, Emilija Baranac, Trezzo Mahoro, Andrew Bachelor, Anna Cathcart, Janel Parrish, Noah Centineo, Lana Condor",
          "DIRECTOR": "Susan Johnson"
         }
        ],
        [
         "tm446609",
         "The Great Hack",
         2019,
         114,
         "tt9358204",
         "7.1",
         22838,
         "['documentation', 'history']",
         "US",
         null,
         {
          "ACTOR": "Muneeb Ibni Usuf, Nigel Farage, Hillary Clinton, Ted Cruz, Donald Trump, Mark Zuckerberg, Steve Bannon, Alexander Nix, Roger McNamee, Sarah Donaldson, Gill Phillips, Emma Graham-Harrison, Paul Hilder, Christopher Wiley, Carole Cadwalladr, Julian Wheatland, Ravi Naik, Paul-Olivier Dehaye, David Carroll, Brittany Kaiser",
          "DIRECTOR": "Jehane Noujaim, Karim Amer"
         }
        ],
        [
         "tm448767",
         "Knock Down the House",
         2019,
         86,
         "tt9358052",
         "7.1",
         12418,
         "['documentation']",
         "US",
         "PG",
         {
          "ACTOR": "Ilhan Omar, Nancy Pelosi, Joe Crowley, Amy Vilela, Paula Jean Swearingen, Cori Bush, Alexandria Ocasio-Cortez",
          "DIRECTOR": "Rachel Lears"
         }
        ],
        [
         "tm449070",
         "Black Mirror: Bandersnatch",
         2018,
         90,
         "tt9495224",
         "7.1",
         123377,
         "['scifi', 'thriller', 'fantasy', 'drama']",
         "GB",
         "R",
         {
          "ACTOR": "Rochenda Sandall, Jeff Minter, Suzanne Burden, Laura Evelyn, Fleur Keith, A.J. Houghton, Jonathan Aris, Paul Bradley, Catriona Knox, Alan Asaad, Tallulah Haddon, Asim Chaudhry, Will Poulter, Alice Lowe, Craig Parkinson, Fionn Whitehead",
          "DIRECTOR": "David Slade"
         }
        ],
        [
         "tm453862",
         "The Call",
         2020,
         112,
         "tt10530176",
         "7.1",
         29450,
         "['thriller', 'scifi', 'drama', 'crime', 'horror']",
         "KR",
         null,
         {
          "ACTOR": "Park Hyoung-soo, Lee Joo-young, Song Yo-sep, Ryu Kyung-soo, Moon Chang-gil, Kim Min-ha, Jo Kyung-sook, Um Chae-young, Lee Dong-hwi, Oh Jung-se, Park Ho-san, Lee El, Kim Sung-ryung, Jeon Jong-seo, Park Shin-hye",
          "DIRECTOR": "Lee Chung-hyun"
         }
        ],
        [
         "tm455568",
         "Paddleton",
         2019,
         89,
         "tt8041276",
         "7.1",
         13419,
         "['drama', 'comedy']",
         "US",
         "R",
         {
          "ACTOR": "Matt Bush, Marguerite Moreau, Jack McGraw, Carlos A. Salazar, Lynnann Gartner, Holly Griswold, Dendrie Taylor, Kadeem Hardison, Alexandra Billings, Sam Ly, Hiroo Minami, Lu Junchang, Alana Carithers, Sierra Fisk, Harry Dej, Bjorn Johnson, Stephen Oyoung, Jen Sung, Christine Woods, Ray Romano, Mark Duplass",
          "DIRECTOR": "Alexandre Lehmann"
         }
        ],
        [
         "tm55553",
         "Blade",
         1998,
         120,
         "tt0120611",
         "7.1",
         267181,
         "['action', 'scifi', 'horror']",
         "US",
         "R",
         {
          "ACTOR": "Al Goto, Will Leong, Steven Ho, Ted King, Beth Theriac, Carrie Seeley, Frankie Ray, Gerald Okamura, Stephen Norrington, Elliott James, Jeff Imada, Ryan Glorioso, Nikki DiSanto, Richard 'Dr.' Baily, Levani, Jenya Lano, Irena Stepić, Yvette Ocampo, Lennox Brown, Matt Schulze, Erl Van Douglas, Esau McKnight Jr., Marcus Salgado, D.V. DeVincentis, Freeman White, Lyle Conway, Eboni 'Chrystal' Adams, John Enos III, Marcus Aurelius, Stephen R. Peluso, Andray Johnson, Keith Leon Williams, Sidney S. Liufau, Judson Scott, Clint Curtis, Kenny Johnson, Shannon Lee, Carmen Thomas, Donna Wong, Eric Edwards, Sanaa Lathan, Tim Guinee, Kevin Patrick Walls, Traci Lords, Arly Jover, Udo Kier, Donal Logue, N'Bushe Wright, Kris Kristofferson, Stephen Dorff, Wesley Snipes",
          "DIRECTOR": "Stephen Norrington"
         }
        ],
        [
         "tm78790",
         "Namastey London",
         2007,
         131,
         "tt0795434",
         "7.1",
         21745,
         "['comedy', 'drama', 'romance']",
         "IN",
         "PG",
         {
          "ACTOR": "Vir Das, Shaana Diya, Nina Wadia, Ritesh Deshmukh, Tiffany Mulheron, Javed Sheikh, Upen Patel, Clive Standen, Rishi Kapoor, Katrina Kaif, Akshay Kumar",
          "DIRECTOR": "Vipul Amrutlal Shah"
         }
        ],
        [
         "tm818266",
         "The Forgotten Battle",
         2020,
         124,
         "tt10521092",
         "7.1",
         26368,
         "['drama', 'war', 'history', 'documentation', 'european']",
         "LT",
         null,
         {
          "ACTOR": "Margarita Žiemelytė, Diana Valiušaitienė, Vincent Linthorst, Astrid van Eck, Maximilian Jaenisch, Maximilian Beck, Ilja Roßbander, Vito Sack, Jelmer Ouwerkerk, Marius Mensink, Karl Heortweard, Bart Harder, Jan Fassbender, Frederik Bott, Arnas Sliesoraitis, Dylan Smith, Joseph Hazell, Mathijs Scheepers, Simon Lee Phillips, Marcus Coenen, Jakob Diehl, Stephan Schäfer, Laimutis Sėdžius, Richard Dillane, Adomas Stančikas, Jan Andreesen, Lutz Schleisner, Gordon Morris, Rogier Schippers, Pit Bukowski, Lewis Conway, Ariane van Vliet, Koen De Sutter, Owen Kaat, Bianca Krijgsman, Rutger de Bekker, Sytse Faber, Vincent van den Berg, Joep Paddenburg, Hajo Bruins, Mark van Eeuwen, Justus von Dohnányi, Ronald Kalter, Coen Bril, Tom Felton, Robert Naylor, Scott Reid, Marthe Schneider, Jan Bijvoet, Theo Barklem-Biggs, Susan Radder, Jamie Flatters, Gijs Blom",
          "DIRECTOR": "Matthijs van Heijningen Jr."
         }
        ],
        [
         "tm84316",
         "Shootout at Lokhandwala",
         2007,
         145,
         "tt0811066",
         "7.1",
         10139,
         "['crime', 'action', 'history']",
         "IN",
         "PG-13",
         {
          "ACTOR": "Abhishek Bachchan, Amitabh Bachchan, Rakhi Sawant, Shri Vallabh Vyas, Amrita Singh, Aarti Chabria, Akhilendra Mishra, Ravi Gossain, Neha Dhupia, Aditya Lakhia, Dia Mirza, Shabbir Ahluwalia, Rohit Roy, Arbaaz Khan, Tusshar Kapoor, Suniel Shetty, Sanjay Dutt, Vivek Oberoi",
          "DIRECTOR": "Apoorva Lakhia"
         }
        ],
        [
         "tm9323",
         "Desperado",
         1995,
         104,
         "tt0112851",
         "7.1",
         183638,
         "['thriller', 'action', 'crime', 'western', 'european']",
         "US",
         "R",
         {
          "ACTOR": "Julio Oscar Mechoso, Mark Dalton, Elizabeth Rodriguez, Patricia Vonne, Tommy Nix, Richie Gaona, Cristos, Jaime de Hoyos, Consuelo Gómez, Peter Marquardt, Gerardo Moscoso, Robert Arevalo, Mike Moroff, Angela Lanza, David Alvarado, Albert Michel Jr., Carlos Gallardo, Abraham Verduzco, Danny Trejo, Angel Aviles, Tito Larriva, Quentin Tarantino, Carlos Gómez, Cheech Marin, Steve Buscemi, Joaquim de Almeida, Salma Hayek, Antonio Banderas",
          "DIRECTOR": "Robert Rodriguez"
         }
        ],
        [
         "tm94606",
         "Let Me In",
         2010,
         116,
         "tt1228987",
         "7.1",
         120208,
         "['horror', 'drama', 'fantasy', 'thriller', 'european']",
         "GB",
         "R",
         {
          "ACTOR": "Rachel Hroncich, Deborah L. Mazor, Dean Satriano, Galen Hutchison, Brenda Wehle, Rowbie Orsatti, Colin Moretz, Brett DelBuono, Gwendolyn Apple, Ashton Moio, Rebekah Wiggins, Chris Browning, Cara Buono, Ritchie Coster, Seth Adkins, Nicolai Dorian, Jimmy 'Jax' Pinchak, Dylan Minnette, Dylan Kenin, Sasha Barrese, Elias Koteas, Richard Jenkins, Chloë Grace Moretz, Kodi Smit-McPhee",
          "DIRECTOR": "Matt Reeves"
         }
        ],
        [
         "tm949309",
         "The White Tiger",
         2021,
         125,
         "tt6571548",
         "7.1",
         58190,
         "['drama', 'crime']",
         "IN",
         "R",
         {
          "ACTOR": "Sanket Shanware, Harshit Mahawar, Ram Naresh Diwakar, Solanki Diwakar, Abhishek Khandekar, Vedant Sinha, Aaron Wan, Nalneesh Neel, Mahesh Pillai, Vijay Maurya, Mahesh Manjrekar, Priyanka Chopra Jonas, Rajkummar Rao, Adarsh Gourav",
          "DIRECTOR": "Ramin Bahrani"
         }
        ],
        [
         "tm992844",
         "The Dig",
         2021,
         112,
         "tt3661210",
         "7.1",
         71915,
         "['drama', 'history']",
         "GB",
         "PG-13",
         {
          "ACTOR": "Amelia Stephenson, Arsher Ali, John Macmillan, Jack Bennett, Jonah Rzeskiewicz, Des Kaliszewski, Bronwyn James, Ellie Piercy, Christopher Godwin, Joe Hurst, James Dryden, Robert Wilfort, Danny Webb, Stephen Worrall, Peter McDonald, Paul Ready, Eamon Farren, Monica Dolan, Archie Barnes, Ken Stott, Ben Chaplin, Johnny Flynn, Lily James, Ralph Fiennes, Carey Mulligan",
          "DIRECTOR": "Simon Stone"
         }
        ],
        [
         "tm1029256",
         "Ferry",
         2021,
         106,
         "tt14217100",
         "7.0",
         10748,
         "['drama', 'thriller', 'action', 'crime']",
         "NL",
         null,
         {
          "ACTOR": "Tim Haars, Huub Smit, Marius Mensink, Benny Claessens, Ergun Simsek, Bram Blankestijn, Mike Weerts, Juliette van Ardenne, Bob Stoop, Adison dos Reis, Olaf Ait Tami, Tim Linde, Yannick van de Velde, Maarten Heijmans, Raymond Thiry, Monic Hendrickx, Huub Stapel, Elise Schaap, Frank Lammers",
          "DIRECTOR": "Cecilia Verheyden"
         }
        ],
        [
         "tm106462",
         "Happy Gilmore",
         1996,
         92,
         "tt0116483",
         "7.0",
         217534,
         "['comedy', 'sport']",
         "US",
         "PG-13",
         {
          "ACTOR": "Jessica Gunn, Ben Stiller, Ian Boothby, Ellie Harvie, Dee Jay Jackson, Will Sasso, Helena Yea, Carl Weathers, Ken Camroux-Taylor, Jared Van Snellenberg, Verne Lundquist, Kevin Nealon, Lee Trevino, Joe Flaherty, Dennis Dugan, Richard Kiel, Bob Barker, Robert Smigel, Allen Covert, Frances Bay, Julie Bowen, Christopher McDonald, Adam Sandler",
          "DIRECTOR": "Dennis Dugan"
         }
        ],
        [
         "tm118637",
         "John Q",
         2002,
         116,
         "tt0251160",
         "7.0",
         131999,
         "['drama', 'thriller', 'crime']",
         "US",
         "PG-13",
         {
          "ACTOR": "Gerry Quigley, Philip Craig, Claire Rankin, Bill Maher, Nas, Ted Demme, Arianna Huffington, Larry King, Gloria Allred, Jay Leno, Malcolm Nefsky, Andrew Schaff, Vijay Mehta, Marcia Johnson, Angelo Tsarouchas, Colin Evans, Frank Cassavetes, Nigel Shawn Williams, Philip Williams, Keram Malicki-Sánchez, Jeff Douglas, Simon Sinn, Joe Duer, Carlos Diaz, Dina Spybey-Waters, Scott Bloom, Rick Sood, Kirsta Teague, Shera Danese, Darrin Brown, Allegra Fulton, Noam Jenkins, Lester Mathews, Linda Massad, Yanna McIntosh, Michael Jaye, James Finnerty, Stephanie Moore, Vanessa Branch, Larissa Laskin, Barry G. King, Gabriela Oltean, Martha Chaves, Troy Winbush, Troy Byer, Obba Babatundé, Paul Johansson, Heather Wahlquist, Laura Harring, David Thornton, Daniel E. Smith, Anne Heche, Ray Liotta, Ethan Suplee, Kevin Connolly, Eddie Griffin, Shawn Hatosy, Robert Duvall, Kimberly Elise, James Woods, Denzel Washington",
          "DIRECTOR": "Nick Cassavetes"
         }
        ],
        [
         "tm131038",
         "Public Enemies",
         2009,
         143,
         "tt1152836",
         "7.0",
         297525,
         "['crime', 'drama', 'history', 'action', 'european']",
         "US",
         "R",
         {
          "ACTOR": "Joel Thingvall, Chandler Williams, Peter Gerety, David Warshofsky, Spencer Garrett, Rick Uecker, Stephen Spencer, Lili Taylor, Shanyn Leigh, Diana Krall, John Hoogenakker, Kurt Naebig, Randy Ryan, Richard Short, Robyn LeAnn Scott, Jeff Shannon, Jonathan Macchi, Peter DeFaria, John Michael Bolger, Casey Siemaszko, Madison Dirks, Michael Sassone, Don Frye, William Nero Jr., Elena Kenney, John Scherp, Wesley Walker, John Kishline, Michael Vieau, Bill Camp, James Russo, John Judd, Matt Craven, Adam Mucci, Domenick Lombardozzi, Christian Stolte, Carey Mulligan, Leelee Sobieski, Emilie de Ravin, Channing Tatum, Shawn Hatosy, Michael Bentt, Rebecca Spence, Branka Katić, Stephen Graham, David Wenham, Giovanni Ribisi, John Ortiz, Stephen Lang, Stephen Dorff, Billy Crudup, Rory Cochrane, Jason Clarke, Marion Cotillard, Christian Bale, Johnny Depp",
          "DIRECTOR": "Michael Mann"
         }
        ],
        [
         "tm160132",
         "Soul Surfer",
         2011,
         112,
         "tt1596346",
         "7.0",
         49101,
         "['drama', 'family', 'sport']",
         "US",
         "PG",
         {
          "ACTOR": "Joseph Wilson, Roy Vongtama, Joe Toro, Christopher Simms, Ingrid Seid, Stephen Meyers, Josh Margulies, Troy Manandic, Jordan Kirkwood, Eric James, Sean Douglas Hoban, Massi Furlan, Christian Franklin, Davo Coria, Lauren Beach, Kristen Steiner, Leilani Gryde, Bailey Nagy, Arlene Newman, Shelley Trotter, Kim Morgan Greene, Mark Kubr, Rocky Canon, Kaipo Guerrero, Michael Coots, Beau Hodge, David Stanfield, David Chokachi, Faith Fay, Irie Driscoll, Kaleo Relator, Kimberly-Rose Wolter, Patrick Richwood, Wesley Mann, David Tice, Moon Otteman, Cayla Moore, Christie Brooke, Yasmin Dar, Sean McNamara, Annie Gerstenberger, Dylan Slater, Kelly Crean, Tiffany Hofstetter, Bridget Tully, Tahini Bartolome, John Philbin, Titus Kinimaka, Branscombe Richmond, Cody Gomes, Craig T. Nelson, Sonya Balmores, Jeremy Sumpter, Lorraine Nicholson, Chris Brochu, Ross Thomas, Kevin Sorbo, Carrie Underwood, Dennis Quaid, Helen Hunt, AnnaSophia Robb",
          "DIRECTOR": "Sean McNamara"
         }
        ],
        [
         "tm208628",
         "Dil Dhadakne Do",
         2015,
         170,
         "tt4110568",
         "7.0",
         17149,
         "['drama', 'comedy', 'romance']",
         "IN",
         "PG-13",
         {
          "ACTOR": "Ridhima Sud, Shireesh Sharma , K.C. Shankar, Parmeet Sethi, Vandana Sajnani, Ivan Rodrigues, Manoj Pahwa, Dolly Minhas, Ikhlaq Khan, Sarah Hashmi, Pawan Chopra, Zarina Wahab, Ayesha Raza, Abdul Quadir Amin, Vikrant Massey, Aamir Khan, Farhan Akhtar, Rahul Bose, Anushka Sharma, Ranveer Singh, Shefali Shah, Priyanka Chopra Jonas, Anil Kapoor",
          "DIRECTOR": "Zoya Akhtar"
         }
        ],
        [
         "tm219233",
         "Loving",
         2016,
         123,
         "tt4669986",
         "7.0",
         34139,
         "['drama', 'romance']",
         "GB",
         "PG-13",
         {
          "ACTOR": "Jason Alan Cook, Keith Flippen, A. Smith Harrison, Michael Abbott Jr., Greg Cooper, Mike Shiflett, Rebecca Turner, Dean Mumford, Raymond H. Johnson, Darrick Claiborne, Victoria Chavatel Jimison, Robert Furner, Kenneth William Clarke, Miles Hopkins, Derick Newson, Jim D. Johnston, James Atticus Abebayehu, Tyrell Ford, Jay SanGiovanni, Marc Anthony Lowe, Terry Menefee Gau, Ken Holliday, Brian Thomas Wise, Lonnie M Henderson, Tom Lancaster, W. Keith Scott, James Nevins, Keith Tyree, Robert Haulbrook, Logan J. Woolfolk, Chris Condetti, Coby Batty, Jordan Dickey, Sheri Lahris, Coley Campany, James Matthew Poole, Mark Huber, Bridget Gethins, Benjamin Loeh, Scott Wichmann, Karen Vicks, Pryor Ferguson, Devin Cleckley, Micah Claiborne, Georgia Crawford, Jevin Crochrell, Quinn McPherson, Dalyn Cleckley, Brenan Young, Lance Lemon, Jennifer Joyner, D.L. Hopkins, Andrene Ward-Hammond, Matt Malloy, Will Dalton, Chris Greene, Michael Abbott Jr., Winter-Lee Holland, Christopher Mann, Jon Bass, David Jensen, Terri Abney, Alano Miller, Sharon Blackwood, Bill Camp, Nick Kroll, Marton Csokas, Michael Shannon, Ruth Negga, Joel Edgerton",
          "DIRECTOR": "Jeff Nichols"
         }
        ],
        [
         "tm230551",
         "Ip Man 3",
         2015,
         105,
         "tt2888046",
         "7.0",
         54128,
         "['drama', 'action', 'history']",
         "HK",
         "PG-13",
         {
          "ACTOR": "Ibrahim Shahoot, Simon Kook, Lê Y Lan, Chan Chiu, Yu Kang, Tony Leung Siu-Hung, Lau Yee Tat, Lo Meng, Baby John Choi, Danny Chan Kwok-kwan, Mike Tyson, Leung Kar-yan, Louis Cheung, Kent Cheng, Karena Ng, Patrick Tam, Zhang Jin, Lynn Hung, Donnie Yen",
          "DIRECTOR": "Wilson Yip"
         }
        ],
        [
         "tm233482",
         "The Foreigner",
         2017,
         113,
         "tt4759848",
         "7.0",
         112487,
         "['thriller', 'action', 'crime', 'drama', 'european']",
         "IN",
         "R",
         {
          "ACTOR": "Kevin Hudson, Roberto Gomez Martin, Neal Beagley, Bill Buckhurst, Charlie Bewley, Aden Gillett, Robin Oakley, Julian Druker, Stuart Graham, Grainne Keenan, Jonathan Cullen, Thusitha Jayasundera, Seán Gleeson, Scott Sparrow, David Pearse, Aaron Monaghan, Donna Bernard, John Cronin, Pamela Betsy Cooper, Alexander Cooper, Emma Jerrold, Nicolas Savidis-Macris, Mark Windham, Tim Baros, Edward Scott-Clarke, Bron James, Shaun Lucas, Jane Thorne, Chris Groundsell, Gerald Tomkinson, Pete Meads, Glen Stanway, Adrian McGaw, Rohan Mehra, Paul A Munday, Garry Marriott, Michael Billington, Mike Ray, Ekran Mustafa, Caolan Byrne, Simon Lenagan, Joe Watts, Kornelia Horvath, David Annen, Ryan Early, Ilan Goodman, Kevin Hudson, Sean Campion, James O'Donnell, Glenn Webster, Dolly Jagdeo, Branwell Donaghey, Lee Nicholas Harris, Dino Fazzani, Paul Terry, Mark Tandy, Dilyana Bouklieva, Jorge Leon Martinez, Rufus Jones, Roberta Taylor, Pippa Bennett-Warner, Simon Kunz, Manolo Cardona, Katie Leung, Liu Tao, Stephen Hogan, Dermot Crowley, Lia Williams, Michael McElhatton, Orla Brady, Charlie Murphy, Ray Fearon, Rory Fleck-Byrne, Jackie Chan, Pierce Brosnan",
          "DIRECTOR": "Martin Campbell"
         }
        ],
        [
         "tm242705",
         "Raw",
         2016,
         98,
         "tt4954522",
         "7.0",
         72460,
         "['horror', 'drama', 'fantasy', 'european']",
         "BE",
         "R",
         {
          "ACTOR": "Julianne Binard, Christophe Menier, Charlotte Sandersen, Helena Coppejans, Lich Jass, Alexis Julemont, Denis Mpunga, Sibylle du Plessy, Amandine Hinnekens, Maïté Katinka Lonne, Pierre Nisse, Alice D'Hauwe, Morgan Politi, Bérangère Mc Neese, Daniel Utegenova, Sophie Breyer, Anna Solomin, Virgil Leclaire, Benjamin Boutboul, Jean-Louis Sbille, Marouan Iddoub, Thomas Mustin, Marion Vernoux, Bouli Lanners, Joana Preiss, Laurent Lucas, Rabah Nait Oufella, Ella Rumpf, Garance Marillier",
          "DIRECTOR": "Julia Ducournau"
         }
        ],
        [
         "tm244175",
         "The Zookeeper's Wife",
         2017,
         122,
         "tt1730768",
         "7.0",
         42808,
         "['drama', 'war', 'history']",
         "GB",
         "PG-13",
         {
          "ACTOR": "Diego Delpiano, Patricia Kalis, Josef Guruncz, Gabriel Cohen, Jakub Šmíd, Roman Horák, Ester Kočičková, Brian Caspe, Václav Neužil, Ladislav Hampl, Roman Vejdovec, Petra Bučková, Magdaléna Sidonová, Vilma Frantová, Magdalena Lamparska, Hana Frejková, Nataša Burger, Alena Mihulová, Slavko Sobin, Hana Pindurová, Adira B. Cole Abbett, Viktorie Jenicková, Waldemar Kobus, Jitka Smutná, Martin Hofmann, Marián Mitaš, Arnošt Goldflam, Viktoria Zakharyanova, Theo Preston, Daniel Ratimorský, Anna Rust, Goran Kostić, Frederick Preston, Martha Issová, Val Maloku, Shira Haas, Iddo Goldberg, Efrat Dor, Timothy Radford, Michael McElhatton, Johan Heldenbergh, Daniel Brühl, Jessica Chastain",
          "DIRECTOR": "Niki Caro"
         }
        ],
        [
         "tm29737",
         "Rambo",
         2008,
         92,
         "tt0462499",
         "7.0",
         228799,
         "['thriller', 'action', 'war', 'european']",
         "US",
         "R",
         {
          "ACTOR": "Matthew Wolf, Richard Crenna, George Cheung, May Kung, Rapimpa Dibu, Watcharentr Sedtho, Saiwan Lungta, Toole Khan Kham, Mana Sen-Mi, Surachai Muangdee, Somsak Wongsa, Moan Adisak, Yupin Mu Pae, Nee Lungjai, Tip Tiya, Han Pik, Pan Dokngam, Aun Lung Su, Kjam Saen, Noa 'Arunee Prijareonsuk' Jei, Sornram Patchimtasanakarn, Kammul Kawtep, Wasawat Panyarat, Pornpop 'Tor' Kampusiri, Aung Theng, Ken Howard, Aung Aay Noi, Supakorn Kitsuwon, Shaliew 'Lek' Bamrungbun, Kasikorn Niyompattana, James With, Tony Skarberg, Thomas Peterson, Cameron Pearson, Paul Schulze, Maung Maung Khin, Jake La Botz, Tim Kang, Reynaldo Gallegos, Graham McTavish, Matthew Marsden, Julie Benz, Sylvester Stallone",
          "DIRECTOR": "Sylvester Stallone"
         }
        ],
        [
         "tm298339",
         "Handsome Devil",
         2017,
         95,
         "tt5016946",
         "7.0",
         13708,
         "['drama', 'comedy', 'sport', 'european']",
         "IE",
         null,
         {
          "ACTOR": "Jay Duffy, Patrick McDonnell, Stephen Hogan, Norma Sheahan, Hugh O'Conor, Mark Doherty, Moe Dunford, Michael McElhatton, Ruairi O'Connor, Amy Huberman, Ardal O'Hanlon, Andrew Scott, Nicholas Galitzine, Fionn O'Shea",
          "DIRECTOR": "John Butler"
         }
        ],
        [
         "tm315255",
         "Ip Man 4: The Finale",
         2019,
         107,
         "tt2076298",
         "7.0",
         30694,
         "['drama', 'history', 'action']",
         "CN",
         "PG",
         {
          "ACTOR": "Chan Siu-Wah, Nico Amedeo, Cao Shi-Ping, Li Di, Zhou Xiaofei, Nicola Stuart-Hill, Grace Englert, Lo Meng, Lynn Hung, Mark Strange, Ngo Ka-nin, Kent Cheng, Chris Collins, Vanda Lee, Danny Chan Kwok-kwan, Scott Adkins, Vanness Wu, Wu Yue, Donnie Yen",
          "DIRECTOR": "Wilson Yip"
         }
        ],
        [
         "tm318206",
         "Den of Thieves",
         2018,
         140,
         "tt1259528",
         "7.0",
         107701,
         "['thriller', 'action', 'crime', 'drama']",
         "US",
         "R",
         {
          "ACTOR": "Michael Papajohn, Madelyn Lazar, Matthew Cornwell, Scott Hunter, Stefanos Miltsakakis, Michael Bisping, Raven Wynn, Lewis Tan, Alix Lapri, Elle Whitfield, Steve Eifert, Jay Dobyns, Max Holloway, Brian Van Holt, Eric Braeden, Meadow Williams, Mo McRae, Kaiwi Lyman, Maurice Compte, Cooper Andrews, Evan Jones, 50 Cent, Pablo Schreiber, O'Shea Jackson Jr., Dawn Olivieri, Gerard Butler",
          "DIRECTOR": "Christian Gudegast"
         }
        ],
        [
         "tm347530",
         "Gaga: Five Foot Two",
         2017,
         100,
         "tt7291268",
         "7.0",
         12825,
         "['music', 'documentation']",
         "US",
         null,
         {
          "ACTOR": "George H. W. Bush, Tony Bennett, Barbara Bush, Joe Germanotta, Donatella Versace, Florence Welch, Mark Ronson, Bobby Campbell, Lady Gaga",
          "DIRECTOR": "Chris Moukarbel"
         }
        ],
        [
         "tm362881",
         "Mirai",
         2018,
         98,
         "tt6900448",
         "7.0",
         14983,
         "['fantasy', 'animation', 'drama', 'family']",
         "JP",
         "PG",
         {
          "ACTOR": "Kaede Hondo, Masaharu Fukuyama, Koji Yakusho, Yoshiko Miyazaki, Mitsuo Yoshihara, Kumiko Aso, Gen Hoshino, Haru Kuroki, Moka Kamishiraishi",
          "DIRECTOR": "Mamoru Hosoda"
         }
        ],
        [
         "tm371952",
         "Sarkar",
         2018,
         164,
         "tt8591968",
         "7.0",
         18453,
         "['drama', 'action']",
         "IN",
         null,
         {
          "ACTOR": "Lallu Prasath, Anitha Sampath, MV. Tamil Selvi, Pazha Karuppaiah, Elyssa Erhardt, Jayaditya Kang, A.R. Murugadoss, Ashwanth Thilak, Sivashankar Master, Papri Ghosh, Yuvina Parthavi, Livingston, Rajesh, Tulasi, Radha Ravi, Yogi Babu, Prem, Varalaxmi Sarathkumar, Keerthy Suresh, Vijay",
          "DIRECTOR": "A.R. Murugadoss"
         }
        ],
        [
         "tm436844",
         "The Christmas Chronicles",
         2018,
         104,
         "tt2990140",
         "7.0",
         71182,
         "['fantasy', 'family', 'comedy']",
         "US",
         "PG",
         {
          "ACTOR": "Jesse Gervasi, Elena Khan, Andrew Morgado, Elizabeth Phoenix Caro, Jeff Teravainen, Jessica Lowe, Michael Yurchak, Debi Derryberry, Kari Wahlgren, Debra Wilson, Chris Leblanc, Jeremy Raymond, Ishan Morris, John Koo, Jonathan Kim, Chai Valladares, Danielle Bourgon, Glen McDonald, Kayla Lakhani, Seth Mohan, Solla Park, Jameson Kraemer, Paskal Vaklev, Jack Bona, David Kohlsmith, Tom Kane, Goldie Hawn, Steven Van Zandt, Lauren Collins, Vella Lovell, Tony Nappo, Oliver Hudson, Kimberly Williams-Paisley, Lamorne Morris, Martin Roach, Judah Lewis, Darby Camp, Kurt Russell",
          "DIRECTOR": "Clay Kaytis"
         }
        ],
        [
         "tm56033",
         "Croupier",
         1998,
         94,
         "tt0159382",
         "7.0",
         21382,
         "['thriller', 'european', 'crime', 'drama']",
         "FR",
         "R",
         {
          "ACTOR": "Sheila Whitfield, John Radcliffe, Ozzie Yue, Rhona Mitra, Barnaby Kay, Nick Reding, Paul Reynolds, Alexander Morton, Nicholas Ball, Gina McKee, Alex Kingston, Kate Hardie, Clive Owen",
          "DIRECTOR": "Mike Hodges"
         }
        ],
        [
         "tm674099",
         "Rose Island",
         2020,
         117,
         "tt10287954",
         "7.0",
         20019,
         "['drama', 'comedy']",
         "IT",
         null,
         {
          "ACTOR": "Riccardo Marzi, Vincent Frost, Marco Sincini, Luca Della Bianca, Giulio Farnese, Ascanio Balbo, Christian Stamm, Frank Gerrish, Christian Ginepro, Violetta Zironi, Alberto Astorri, Andrea Pennacchi, Marco Pancrazi, Fabrizio Rongione, Leonardo Lidi, Luca Zingaretti, Tom Wlaschiha, François Cluzet, Fabrizio Bentivoglio, Matilda De Angelis, Elio Germano",
          "DIRECTOR": "Sydney Sibilia"
         }
        ],
        [
         "tm824398",
         "The Platform",
         2019,
         94,
         "tt8228288",
         "7.0",
         207877,
         "['horror', 'scifi', 'thriller', 'european']",
         "ES",
         null,
         {
          "ACTOR": "Lian Xushao, Juan Dopico, Álvaro Orellana, Javier Mediavilla, Braulio Cortés, Miren Gaztañaga, Miriam K. Martxante, Gorka Zufiaurre, Miriam Martín, Chema Trujillo, Óscar Oliver, Eric Goode, Txubio Fernández de Jáuregui, Algis Arlauskas, Mario Pardo, Zihara Llana, Alexandra Masangkay, Emilio Buale, Zorion Eguileor, Antonia San Juan, Iván Massagué",
          "DIRECTOR": "Galder Gaztelu-Urrutia"
         }
        ],
        [
         "tm857461",
         "Gangubai Kathiawadi",
         2022,
         157,
         "tt10083340",
         "7.0",
         44045,
         "['drama', 'crime']",
         "IN",
         null,
         {
          "ACTOR": "Faiz Khan, Jahangir Khan, Baldev Trehan, Sonal Sagore, Kruti Saxena, Pallavi Jadhav, Mitali Jagtap, Prashant Kumar, Raza Murad, Chum Darang, Varun Kapoor, Huma Qureshi, Rahul Vohra, Anmol Kajani, Chhaya Kadam, Jim Sarbh, Vijay Raaz, Seema Pahwa, Indira Tiwari, Shantanu Maheshwari, Ajay Devgn, Alia Bhatt",
          "DIRECTOR": "Sanjay Leela Bhansali"
         }
        ],
        [
         "tm859143",
         "Torbaaz",
         2020,
         132,
         "tt7805960",
         "7.0",
         17828,
         "['drama', 'thriller', 'action', 'sport']",
         "IN",
         null,
         {
          "ACTOR": "Gavie Chahal, Nargis Fakhri, Rahul Dev, Sanjay Dutt",
          "DIRECTOR": "Girish Malik"
         }
        ],
        [
         "tm867681",
         "Haseen Dillruba",
         2021,
         135,
         "tt11027830",
         "7.0",
         25771,
         "['drama', 'romance', 'thriller', 'crime']",
         "IN",
         null,
         {
          "ACTOR": "Kunj Anand, Alka Kaushal, Puja Sarup, Ashique Hussain, Deepesh Sumitra Jagdish, Ashish Verma, Daya Shankar Pandey, Yamini Das, Aditya Srivastava, Harshvardhan Rane, Vikrant Massey, Taapsee Pannu",
          "DIRECTOR": "Vinil Mathew"
         }
        ],
        [
         "tm88366",
         "Main Hoon Na",
         2004,
         179,
         "tt0347473",
         "7.0",
         35142,
         "['drama', 'romance', 'thriller', 'action', 'comedy']",
         "IN",
         "PG",
         {
          "ACTOR": "Rajeev Punjabi, Praveen Sirohi, Bindu, Kabir Bedi, Uday Chopra, Tabu, Murali Sharma, Satish Shah, Boman Irani, Rakhi Sawant, Kirron Kher, Naseeruddin Shah, Suniel Shetty, Sushmita Sen, Zayed Khan, Amrita Rao, Shah Rukh Khan",
          "DIRECTOR": "Farah Khan"
         }
        ],
        [
         "tm89036",
         "Harold & Kumar Go to White Castle",
         2004,
         88,
         "tt0366551",
         "7.0",
         193053,
         "['comedy']",
         "US",
         "R",
         {
          "ACTOR": "Hayden Schlossberg, Jon Hurwitz, Gary Anthony Williams, Siu Ta, Jamie Kennedy, Boyd Banks, Christopher Meloni, Ryan Reynolds, Eddie Kaye Thomas, Ethan Embry, Anthony Anderson, Bobby Lee, Rob Tinkler, Fred Willard, Steve Braun, Brooke D'Orsay, Malin Åkerman, David Krumholtz, Neil Patrick Harris, Paula Garcés, Kal Penn, John Cho",
          "DIRECTOR": "Danny Leiner"
         }
        ],
        [
         "tm919961",
         "Pieces of a Woman",
         2020,
         127,
         "tt11161474",
         "7.0",
         47795,
         "['drama']",
         "HU",
         "R",
         {
          "ACTOR": "Leisa Reid, Joelle Jérémie, Alain Dahan, Sean Tucker, Nick Walker, Vanessa Smythe, Gayle Garfinkle, Juliette Casagrande, Jimmie Fails, Domenic Di Rosa, Harry Standjofski, Frank Schorpion, Tyrone Benskin, Steven McCarthy, Molly Parker, Sarah Snook, Benny Safdie, Iliza Shlesinger, Ellen Burstyn, Shia LaBeouf, Vanessa Kirby",
          "DIRECTOR": "Kornél Mundruczó"
         }
        ],
        [
         "tm1000619",
         "Radhe Shyam",
         2022,
         138,
         "tt8960382",
         "6.9",
         21328,
         "['romance', 'drama']",
         "IN",
         null,
         {
          "ACTOR": "Surya Bhagawan Das, Mahati Bikshu, Sasha Chettri, Thalaivasal Vijay, Jayaram, Sathyan Sivakumar, Riddhi Kumar, Sachin Khedekar, Kunaal Roy Kapur, Murali Sharma, Priyadarshi Pullikonda, Jagapati Babu, Krishnam Raju, Sathyaraj, Bhagyashree, Pooja Hegde, Prabhas",
          "DIRECTOR": "Radha Krishna Kumar"
         }
        ],
        [
         "tm1046026",
         "The Trip",
         2021,
         113,
         "tt13109952",
         "6.9",
         19706,
         "['comedy', 'thriller', 'horror', 'action']",
         "NO",
         null,
         {
          "ACTOR": "J.V. Martin, Ailo Gaup, Fredrik Skavlan, Jonas Hoff Oftebro, Kristoffer Jørgensen, Jeppe Beck Laursen, Harald Dal, Evy Kasseth Røsten, Galvan Mehidi, Selome Emnetu, Tor Erik Gunstrøm, Nils Ole Oftebro, Stig Frode Henriksen, André Eriksen, Christian Rubeck, Atle Antonsen, Aksel Hennie, Noomi Rapace",
          "DIRECTOR": "Tommy Wirkola"
         }
        ],
        [
         "tm119776",
         "Top Gun",
         1986,
         110,
         "tt0092099",
         "6.9",
         329656,
         "['drama', 'action']",
         "US",
         "PG",
         {
          "ACTOR": "T.J. Cassidy, Troy Hunter, Pete Pettigrew, Frank Pesce, Ron Clark, Duke Stroud, Randall Brady, Clarence Gilyard Jr., James Tolkan, Adrian Pasdar, Whip Hubley, Meg Ryan, Tim Robbins, Rick Rossovich, Barry Tubb, John Stockwell, Michael Ironside, Tom Skerritt, Anthony Edwards, Val Kilmer, Kelly McGillis, Tom Cruise",
          "DIRECTOR": "Tony Scott"
         }
        ],
        [
         "tm136061",
         "Suffragette",
         2015,
         106,
         "tt3077214",
         "6.9",
         41529,
         "['drama', 'history']",
         "FR",
         "PG-13",
         {
          "ACTOR": "Susie Baxter, Joyce Henderson, Lee Nicholas Harris, Adam Nagaitis, Drew Edwards, Sarah Finigan, Shelley Longworth, Nick Hendrix, Finbar Lynch, Morgan Watkins, Lorraine Stanley, Grace Stottor, Adam Michael Dodd, Amanda Lawrence, Adrian Schiller, Natalie Press, Geoff Bell, Samuel West, Romola Garai, Ben Whishaw, Meryl Streep, Anne-Marie Duff, Brendan Gleeson, Helena Bonham Carter, Carey Mulligan",
          "DIRECTOR": "Sarah Gavron"
         }
        ],
        [
         "tm143363",
         "2 States",
         2014,
         149,
         "tt2372678",
         "6.9",
         25344,
         "['comedy', 'drama', 'romance']",
         "IN",
         "PG",
         {
          "ACTOR": "Madhu Anand Chandhock, Bikramjeet Kanwarpal, Achint Kaur, Amit Bhargav, Aru Krishansh Verma, Shivkumar Subramaniam, Ronit Roy, Revathi, Amrita Singh, Arjun Kapoor, Alia Bhatt",
          "DIRECTOR": "Abhishek Varman"
         }
        ],
        [
         "tm144121",
         "Get on Up",
         2014,
         139,
         "tt2473602",
         "6.9",
         24456,
         "['drama', 'music']",
         "US",
         "PG-13",
         {
          "ACTOR": "Aaron J. Brooks, Dominic Thigpen, David Carzell, Justin Hall, Jason Davis, Jamell Richardson, Elliott June Rogers, Adrien Scott Robinson, Alvin Edney II, Randy Smith, Joe T. Blankenship, Mario J. Radford, Sheldon Frett, Sandra DeNise, Jacinte Blankenship, Cariella Smith, Kirk Bovill, Taura Cherne, Phyllis Montana LeBlanc, Denzel Reed, Michael Papajohn, Clyde Jones, Atkins Estimond, Aaron Jay Rome, George Quinones, Aakomon Jones, Rena DeAngelo, Jordan Scott, Jamarion Scott, Hunter Burke, Corey Sorenson, Donald Watkins, Antonius Charles, Ahna O'Reilly, Jim Gleason, Cleta Elaine Ellington, Carol Lee, J.D. Evermore, John Benjamin Hickey, Allison Janney, Julius Tennon, Liz Mikel, Stacey Scowley, Keith D. Robinson, Black Thought, Aunjanue Ellis, Josh Hopkins, Aloe Blacc, Brandon Mychal Smith, Craig Robinson, Ritchie Montgomery, Billy Slaughter, James DuMont, Tika Sumpter, Nick Eversman, Octavia Spencer, Jill Scott, Fred Melamed, Lennie James, Viola Davis, Dan Aykroyd, Nelsan Ellis, Chadwick Boseman",
          "DIRECTOR": "Tate Taylor"
         }
        ],
        [
         "tm150260",
         "Cloudy with a Chance of Meatballs",
         2009,
         90,
         "tt0844471",
         "6.9",
         226225,
         "['animation', 'drama', 'romance', 'comedy', 'family', 'fantasy', 'scifi']",
         "US",
         "PG",
         {
          "ACTOR": "Ariel Winter, Melissa Sturm, Will Shadley, Jeremy Shada, Grace Rolek, Jan Rabson, Laraine Newman, Christopher Miller, Mickie McGowan, Mona Marshall, Danny Mann, Sherry Lynn, Phil Lord, Gary A. Hecker, Jess Harnell, Paul Eiding, Ann Dominic, John Cygan, Marsha Clark, Cody Cameron, Bob Bergen, Shane Baumel, Lori Alan, Isabella Acres, Liz Cackowski, Neil Flynn, Peter Siragusa, Angela Shelton, Will Forte, Lauren Graham, Al Roker, Max Neuwirth, Neil Patrick Harris, Benjamin Bratt, Mr. T, Bobb'e J. Thompson, Bruce Campbell, Andy Samberg, James Caan, Anna Faris, Bill Hader",
          "DIRECTOR": "Christopher Miller, Phil Lord"
         }
        ],
        [
         "tm151927",
         "Mary Kom",
         2014,
         122,
         "tt3001638",
         "6.9",
         10656,
         "['drama', 'sport', 'action']",
         "IN",
         "PG-13",
         {
          "ACTOR": "Lin Laishram, Shiva Dagar, Zachary Coffin, Robin Das, Sunil Thapa, Shishir Sharma, Darshan Kumaar, Priyanka Chopra Jonas",
          "DIRECTOR": "Omung Kumar"
         }
        ],
        [
         "tm185797",
         "Fukrey",
         2013,
         137,
         "tt2806788",
         "6.9",
         11656,
         "['romance', 'comedy', 'drama']",
         "IN",
         "PG-13",
         {
          "ACTOR": "Mehak Manwani, Pankaj Tripathi, Varun Sharma, Vishakha Singh, Manjot Singh, Pulkit Samrat, Ali Fazal, Priya Anand, Richa Chadha",
          "DIRECTOR": "Mrigdeep Singh Lamba"
         }
        ],
        [
         "tm195209",
         "Legend",
         2015,
         132,
         "tt3569230",
         "6.9",
         175273,
         "['thriller', 'crime', 'drama', 'european']",
         "US",
         "R",
         {
          "ACTOR": "Jefferson King, Daniel Westwood, Julia Papp, John Carr, Robin Hooper, John Sears, Ashley Byam, Nick Hendrix, Lara Cazalet, Christopher Adamson, MAJOR., Joshua Hill, Sam Hoare, Frankie Fitzgerald, Chris Mason, Tim Woodward, Stephen Lord, Shane Attwooll, Lorraine Stanley, Adam Fogerty, Mel Raido, Jane Wood, Martin McCreadie, Samantha Pearl, Bob Cryer, Charley Palmer Rothwell, Millie Brady, Sam Spruell, John Sessions, Kevin McNally, Duffy, Nicholas Farrell, Paul Anderson, Aneurin Barnard, Tara Fitzgerald, Paul Bettany, Colin Morgan, Chazz Palminteri, Taron Egerton, David Thewlis, Christopher Eccleston, Emily Browning, Tom Hardy",
          "DIRECTOR": "Brian Helgeland"
         }
        ],
        [
         "tm209987",
         "Christine",
         2016,
         115,
         "tt4666726",
         "6.9",
         14977,
         "['drama']",
         "US",
         "R",
         {
          "ACTOR": "Wayne Hughes, Bernie Ask, Stacy Hall, Angela Ray, Carl Palmer, Eric McCrea, Lindsay Ayliffe, John Newberg, Masey McLain, Jayson Warner Smith, Ritchie Montgomery, Susan Pourfar, John Cullum, Morgan Spector, Kimberley Drummond, Rachel Hendrix, Timothy Simons, Kim Shaw, J. Smith-Cameron, Tracy Letts, Maria Dizzia, Michael C. Hall, Rebecca Hall",
          "DIRECTOR": "Antonio Campos"
         }
        ],
        [
         "tm244206",
         "The Meyerowitz Stories (New and Selected)",
         2017,
         112,
         "tt5536736",
         "6.9",
         47971,
         "['drama', 'comedy']",
         "US",
         null,
         {
          "ACTOR": "Jarrett Winters Morley, Hannah Elizabeth Alexander, Jake Perlin, Greta Gerwig, Barbara Danicka, Teniel Humeston, Jason Daunno, Michael Birnberg, Jared Sandler, Marquis Rodriguez, Annabelle Dexter-Jones, McManus Woodend, Nico Baumbach, Carlos Jacott, Kareem Williams, Justin Winley, Mickey Sumner, Germar Terrell Gardner, Jerry Matz, Joel Bernstein, Victor Cruz, Mandy Siegfried, Cindy Cheung, Michael Chernus, Gayle Rankin, Sakina Jaffrey, Lyne Renee, Benjamin Thys, Jordan Carlos, Gibson Frazier, Josh Hamilton, James Hamilton, David Cromer, Sigourney Weaver, Hannah Mitchell, Ronald Peet, Adam David Thompson, Danny Flaherty, Matthew Shear, Rebecca Miller, Judd Hirsch, Adam Driver, Candice Bergen, Grace Van Patten, Elizabeth Marvel, Emma Thompson, Dustin Hoffman, Ben Stiller, Adam Sandler",
          "DIRECTOR": "Noah Baumbach"
         }
        ],
        [
         "tm244229",
         "Everybody Knows",
         2018,
         132,
         "tt4964788",
         "6.9",
         34009,
         "['drama', 'crime', 'thriller', 'european']",
         "IT",
         "R",
         {
          "ACTOR": "Esteban Ciudad, Nella Rojas, Jordi Bosch, Iván Chavero, Paco Pastor Gómez, Jaime Lorente, Sergio Castellanos, José Ángel Egido, Roger Casamajor, Carla Campra, Sara Sálamo, Ramón Barea, Eduard Fernández, Elvira Mínguez, Inma Cuesta, Bárbara Lennie, Ricardo Darín, Javier Bardem, Penélope Cruz",
          "DIRECTOR": "Asghar Farhadi"
         }
        ],
        [
         "tm247642",
         "Amanda Knox",
         2016,
         92,
         "tt5952332",
         "6.9",
         23969,
         "['crime', 'documentation', 'european']",
         "DK",
         null,
         {
          "ACTOR": "Rudy Guede, Donald Trump, Curt Knox, Arline Kercher, Anderson Cooper, Carla Vecchiotti, Stefano Conti, Valter Biscotti, Nick Pisa, Giuliano Mignini, Raffaele Sollecito, Amanda Knox",
          "DIRECTOR": "Rod Blackhurst, Brian McGinn"
         }
        ],
        [
         "tm273294",
         "I Don't Feel at Home in This World Anymore",
         2017,
         93,
         "tt6149822",
         "6.9",
         55549,
         "['drama', 'thriller', 'comedy', 'crime', 'european']",
         "US",
         null,
         {
          "ACTOR": "Dagoberto Rodriguez, Asha Sawyer, Lenka Becvar, Ray Buckley, Dana Millican, Jana Lee Hamblin, Bill Blair, Josie Seid, Buck Eddy-Blair, Robin Blair, Chris Sharp, Audrey Walker, Kayla Dixon, Taylor Tunes, J.J. Green, Lana Dieterich, Kale Willis, Xander Willis, Jeb Berrier, Wrick Jones, Cristi Miles, Macon Blair, Marilyn Faith Hickey, Chris Doubek, Michelle Moreno, Lee Eddy, Jason Manuel Olazabal, Derek Mears, Myron Natwick, Gary Anthony Williams, Robert Longstreet, Christine Woods, Devon Graye, Jane Levy, David Yow, Elijah Wood, Melanie Lynskey",
          "DIRECTOR": "Macon Blair"
         }
        ],
        [
         "tm285295",
         "Our Souls at Night",
         2017,
         101,
         "tt5034266",
         "6.9",
         13360,
         "['drama', 'romance']",
         "US",
         null,
         {
          "ACTOR": "Maetrix Fitten, Ted Maritz, Jerry Middleton, Constance Freeman, Jordan Leigh, Laurence Anthony Curry, Myra Warren, Chantal Bushell, Audrey Walters, Randy Moore, John C. Ashton, Bruce Dern, Phyllis Somerville, Judy Greer, Iain Armitage, Matthias Schoenaerts, Jane Fonda, Robert Redford",
          "DIRECTOR": "Ritesh Batra"
         }
        ],
        [
         "tm29731",
         "Chup Chup Ke",
         2006,
         165,
         "tt0464160",
         "6.9",
         10528,
         "['comedy', 'drama', 'romance']",
         "IN",
         "G",
         {
          "ACTOR": "Manoj Joshi, Amita Nangia, Om Puri, Anupam Kher, Shakti Kapoor, Sushma Reddy, Paresh Rawal, Rajpal Yadav, Suniel Shetty, Neha Dhupia, Kareena Kapoor Khan, Shahid Kapoor",
          "DIRECTOR": "Priyadarshan"
         }
        ],
        [
         "tm310953",
         "Sorry to Bother You",
         2018,
         111,
         "tt5688932",
         "6.9",
         75653,
         "['fantasy', 'scifi', 'drama', 'comedy']",
         "US",
         "R",
         {
          "ACTOR": "Ed Moy, Indigo Jackson, Shelley Mitchell, James D. Weston II, Marcella Bragio, William W. Barbour, John Ozuna, Omie Garba, Tony Toste, Teresa Navarro, Dawayne Jordan, Molly Brady, Tom Woodruff Jr., Rosario Dawson, Forest Whitaker, Robert Longstreet, Michael X. Sommers, Kate Berlant, Lily James, Mahari Crown, Armie Hammer, Steven Yeun, Danny Glover, David Cross, Patton Oswalt, Terry Crews, Omari Hardwick, Jermaine Fowler, Tessa Thompson, Lakeith Stanfield",
          "DIRECTOR": "Boots Riley"
         }
        ],
        [
         "tm315340",
         "The Night Comes for Us",
         2018,
         121,
         "tt6116856",
         "6.9",
         25500,
         "['thriller', 'action']",
         "ID",
         "R",
         {
          "ACTOR": "Asta Nurcahya, Revaldo, Epy Kusnandar, Morgan Oey, Ronny P. Tjandra, Shareefa Daanish, Hannah Al Rashid, Dian Sastro, Julie Estelle, Dimas Anggara, Zack Lee, Abimana Aryasatya, Salvita Decorte, Sunny Pang, Asha Kenyeri Bermudez, Iko Uwais, Joe Taslim",
          "DIRECTOR": "Timo Tjahjanto"
         }
        ],
        [
         "tm319818",
         "Outlaw King",
         2018,
         121,
         "tt6679794",
         "6.9",
         69834,
         "['drama', 'action', 'history', 'war']",
         "GB",
         "R",
         {
          "ACTOR": "Gary McCormack, Tommy Jay Brennan, Daisy Littlefield, Arthur Mackenzie, Luke Mackenzie, Ben Cuveller, Gerry Lynch, Barnaby Brown, Frank Gilhooley, Jamie Pigott, Margaret Fraser, Jenny Hulse, Clive Russell, Benny Young, Tam Dean Burn, Gavin Mitchell, Kim Allan, Rab Affleck, Niall Greig Fulton, Ron Donachie, Ferosa Mackenzie, Matt Stokoe, Laurie Ventry, Robin Laing, George Docherty, Elaine McKergow, Meg Fraser, Josie O'Brien, Stephen McCole, Stephen McMillan, Gemma McElhinney, Vicki Liddelle, Philip Kingscott, Duncan Airlie James, Daniel Jackson, Gilly Gilchrist, Jamie Michie, Kevin Mains, Duncan Lacroix, Jamie Maclachlan, Ben Clifford, Jonny Phillips, Paul Blair, Rebecca Robin, Jack Greenlees, Lorne MacFadyen, Chris Fulton, Alastair Mackenzie, Steven Cree, Stephen Dillane, James Cosmo, Callan Mulvey, Tony Curran, Sam Spruell, Billy Howle, Florence Pugh, Aaron Taylor-Johnson, Chris Pine",
          "DIRECTOR": "David Mackenzie"
         }
        ],
        [
         "tm361998",
         "The Wolf's Call",
         2019,
         115,
         "tt7458762",
         "6.9",
         17236,
         "['thriller', 'war', 'drama', 'action', 'scifi', 'european']",
         "FR",
         null,
         {
          "ACTOR": "Jonathan Devred, Philippe Maymat, Stefan Godin, Guillaume Clement, Brice Ormain, Arnaud Churin, Léopold Bara, Arthur Choisnet, Sylvain Loreau, Sébastien Landry, Nicolas Van Beveren, Marc Ruchmann, Bastien Ughetto, Simon Thomas, Guillaume Duhesme, Etienne Guillou-Kervern, Paul Granier, Sébastien Libessart, Pierre Cévaër, Damien Bonnard, Jean-Yves Berteloot, Alexis Michalik, Paula Beer, Reda Kateb, Mathieu Kassovitz, Omar Sy, François Civil",
          "DIRECTOR": "Antonin Baudry"
         }
        ],
        [
         "tm420826",
         "The Highwaymen",
         2019,
         132,
         "tt1860242",
         "6.9",
         88714,
         "['thriller', 'crime', 'drama']",
         "US",
         "R",
         {
          "ACTOR": "David Zyler, Jon Briddell, Skip Stellrecht, Teddy Orr, Collins Tuohy, Leigh Anne Tuohy, Mikey Kelley, Samantha Hunter Ogan, Makani Ravello, Lynden Orr, Brad Napp, Donald Robert Mohr, Robert E. Streeck, Troy Anthony Hogan, Todd Barnett, Matthew Paul Martinez, Mitch Eakins, Savanna Renee, Izzy G., Billy 4 Johnston, Ian Pitre, Luke Loveless, Timothy McKinney, Michael Draper, Josh Ventura, Alan Wells, Cullen Moss, Justin Matthew Smith, David Dwyer, Don Stallings, Dean J. West, Brandon O'Dell, Billy Slaughter, Joe Knezevich, Arvin Combs, Jeff Pope, Silas Cooper, Johnny McPhail, Luray Cooper, Robert Bryan Davis, Kevin Sangston, Jesse C. Boyd, Karson Kern, Jane McNeill, Jake Dashnaw, Edward Bossert, Emily Brobst, Alex Elder, Kaley Wheless, Brian F. Durkin, David Born, Josh Caras, Jason Davis, David Furr, W. Earl Brown, William Sadler, Kim Dickens, Dean Denton, Thomas Mann, John Carroll Lynch, Kathy Bates, Woody Harrelson, Kevin Costner",
          "DIRECTOR": "John Lee Hancock"
         }
        ],
        [
         "tm424074",
         "Then Came You",
         2019,
         93,
         "tt4859168",
         "6.9",
         12356,
         "['comedy', 'drama']",
         "US",
         "PG-13",
         {
          "ACTOR": "Billy Thomas Myott, Ashlyn Alessi, Crystal Tweed, Ann Osmond, Francesca Noel, L. Steven Taylor, Angel Valle Jr., Ron Simons, Briana Venskus, Colin Moss, Ken Jeong, Margot Bingham, Sonya Walger, Tituss Burgess, Peyton List, David Koechner, Tyler Hoechlin, Nina Dobrev, Asa Butterfield, Maisie Williams",
          "DIRECTOR": "Peter Hutchings"
         }
        ],
        [
         "tm44530",
         "Fashion",
         2008,
         167,
         "tt0964516",
         "6.9",
         12468,
         "['romance', 'drama']",
         "IN",
         "PG-13",
         {
          "ACTOR": "Rohit Verma, Sheena Bajaj, Atul Kasbekar, Rakshanda Khan, Aanchal Kumar, Pooja Chopra, Diandra Soares, Madhur Bhandarkar, Karan Johar, Manish Malhotra, Ranvir Shorey, Konkona Sen Sharma, Harsh Chhaya, Manini Mishra, Chitrashi Rawat, Kiran Juneja, Raj Babbar, Rohit Roy, Suchitra Pillai, Arbaaz Khan, Kitu Gidwani, Ashwin Mushran, Samir Soni, Arjan Bajwa, Mugdha Godse, Kangana Ranaut, Priyanka Chopra Jonas",
          "DIRECTOR": "Madhur Bhandarkar"
         }
        ],
        [
         "tm455636",
         "The Dirt",
         2019,
         108,
         "tt0800325",
         "6.9",
         47603,
         "['drama', 'music', 'comedy']",
         "US",
         "R",
         {
          "ACTOR": "Alyssa Marie Stilwell, Lyra D'Aquin, Iris D'Aquin, Jordan Lane Price, Carol Ann Scruggs, Matthew Underwood, Brittany Furlan, Alexanne Wagner, Anthony Vincent Valbiro, Kathryn Morris, Mike R. Moreau, Martin Covert, Michael Hodson, David Costabile, Vince Mattis, Katherine Neff, Leven Rambin, Courtney Dietz, Joe Chrest, Elena Evangelo, Christian Gehring, Pete Davidson, Rebekah Graf, Tony Cavalero, Daniel Webber, Iwan Rheon, Machine Gun Kelly, Douglas Booth",
          "DIRECTOR": "Jeff Tremaine"
         }
        ],
        [
         "tm470240",
         "The Half of It",
         2020,
         104,
         "tt9683478",
         "6.9",
         34959,
         "['comedy', 'romance', 'drama']",
         "US",
         "PG-13",
         {
          "ACTOR": "Joan Jaffe, Lucas Kane, Abigail Donaghy, Logan Riley Bruner, Alexandre Bagot, Emma Diner, Joe Lanza, Matt Meinsen, Billy Thomas Myott, Kathryn Ainsley Grant, Cronin Cullen, Dean Tierney, Patrick Noonan, Haley Murphy, Gabi Samels, Patrick T. Johnson, Spencer Wawak, Tyler Crozier, Bonnie Flannery, Alec Tincher, MacIntyre Dixon, Collin Chou, Becky Ann Baker, Catherine Curtin, Wolfgang Novogratz, Enrique Murciano, Alexxis Lemire, Daniel Diemer, Leah Lewis",
          "DIRECTOR": "Alice Wu"
         }
        ],
        [
         "tm53419",
         "Any Given Sunday",
         1999,
         162,
         "tt0146838",
         "6.9",
         118479,
         "['drama', 'sport']",
         "US",
         "R",
         {
          "ACTOR": "Allan Graf, Dita de Leon, Nichole Robinson, Rick Johnson, Tucker Brown, Eva Tamargo, Tyler Cravens, Joe Schmidt, Irving Fryar, Terrell Owens, Christy Tummond, Micah West, Carin Abnathy, Catherine Stone, Lisa Ann Phillips, Michelle Bernard, Nikki Novak, Sacha Voski, Kathy Alzado Murray, Sarah Penman, Amy Dorris, Tonya Oliver, Joanna Theobalds, Kirsten Krueger, Lester Speight, Liz Petterson, Antares Davis, Margaret Betts, Joseph A. Wilson, Mark Robert Ellis, Barry Switzer, Phil Latzman, Oliver Stone, Kevin Reid, Eric Miller, Derrick Lassic, Skip McClendon, Robert L. Goff, Pete Ohnegian, Matt Martinez, Bjorn Nittmo, Greg Orvis, Craig Thomson, Jamie Williams, Todd Smith, Mazio Royster, Marty Wright, Jerry A. Sharp, Patrick O'Hara, John Daniel, Clifton Davis, Gianni Russo, James Karen, Mary Fanaro, Delia Sheppard, Charlton Heston, Elizabeth Berkley, Ron Madoff, Lela Rochon, Duane Martin, Ann-Margret, Andrew Bryniarski, John C. McGinley, Bill Bellamy, Lawrence Taylor, Lauren Holly, Jim Brown, Matthew Modine, Aaron Eckhart, LL Cool J, James Woods, Dennis Quaid, Jamie Foxx, Cameron Diaz, Al Pacino",
          "DIRECTOR": "Oliver Stone"
         }
        ],
        [
         "tm674063",
         "The Power of the Dog",
         2021,
         126,
         "tt10293406",
         "6.9",
         158487,
         "['drama', 'romance', 'western']",
         "CA",
         "R",
         {
          "ACTOR": "Ian Harcourt, Maeson Stone Skuggedal, David T. Lim, Karl Willetts, Alison Bruce, Julie Forsyth, Vadim Ledogorov, Edith Poor, Piimio Mei, Ella Hope-Higginson, Stephen Bain, Stephen Lovatt, Alice May Connolly, Yvette Reid, Tatum Warren-Ngata, Richard Falkner, Daniel Cleary, Aislinn Furlong, Bryony Skillington, Yvette Parsons, Jacque Drew, Alice Englert, Eddie Campbell, Alistair Sewell, Josh Owen, Max Mata, Cohen Holloway, David Denis, Ramontay McConnell, George Mason, Ken Radley, Sean Keenan, Peter Carroll, Adam Beach, Genevieve Lemon, Keith Carradine, Frances Conroy, Thomasin McKenzie, Kodi Smit-McPhee, Jesse Plemons, Kirsten Dunst, Benedict Cumberbatch",
          "DIRECTOR": "Jane Campion"
         }
        ],
        [
         "tm6859",
         "My Girl",
         1991,
         103,
         "tt0102492",
         "6.9",
         79800,
         "['comedy', 'drama', 'family', 'romance', 'european']",
         "US",
         "PG",
         {
          "ACTOR": "Shane Obedzinski, Ray Buktenica, Bill Cordell, Glenda Chism, Nancy L. Chlumsky, Linda Perri, Jody Wilson, David Caprita, Kristian Truelsen, Lara Steinick, Tom Villard, Anthony R. Jones, Jane Hallaren, Peter Michael Goetz, Ann Nelson, Griffin Dunne, Richard Masur, Jamie Lee Curtis, Dan Aykroyd, Macaulay Culkin, Anna Chlumsky",
          "DIRECTOR": "Howard Zieff"
         }
        ],
        [
         "tm821143",
         "Ma Rainey's Black Bottom",
         2020,
         94,
         "tt10514222",
         "6.9",
         50275,
         "['music', 'drama']",
         "US",
         "R",
         {
          "ACTOR": "Roger Petan, Antonio Fierro, Quinn VanAntwerp, Joshua Harto, Dusan Brown, Jeremy Shamos, Taylour Paige, Jonny Coyne, Michael Potts, Colman Domingo, Glynn Turman, Chadwick Boseman, Viola Davis",
          "DIRECTOR": "George C. Wolfe"
         }
        ],
        [
         "tm83175",
         "Welcome",
         2007,
         160,
         "tt0488798",
         "6.9",
         21799,
         "['romance', 'crime', 'comedy']",
         "IN",
         null,
         {
          "ACTOR": "Ruslaan Mumtaz, Sherveer Vakil, Suniel Shetty, Om Puri, Sanjay Mishra, Asrani, Malaika Arora, Mallika Sherawat, Paresh Rawal, Feroz Khan, Nana Patekar, Anil Kapoor, Katrina Kaif, Akshay Kumar",
          "DIRECTOR": "Anees Bazmee"
         }
        ],
        [
         "tm926528",
         "AK vs AK",
         2020,
         108,
         "tt11651796",
         "6.9",
         14048,
         "['drama', 'action', 'thriller', 'comedy', 'crime']",
         "IN",
         null,
         {
          "ACTOR": "Pawan Kumar Singh, Yogita Bihani, Nawazuddin Siddiqui, Sucharita Tyagi, Boney Kapoor, Harshvardhan Kapoor, Sonam Kapoor, Anurag Kashyap, Anil Kapoor",
          "DIRECTOR": "Vikramaditya Motwane"
         }
        ],
        [
         "tm93225",
         "Legend of the Guardians: The Owls of Ga'Hoole",
         2010,
         100,
         "tt1219342",
         "6.9",
         82623,
         "['fantasy', 'family', 'action', 'war', 'drama', 'thriller', 'animation']",
         "US",
         "PG",
         {
          "ACTOR": "Gareth Young, Leigh Whannell, Angus Sampson, Barry Otto, Bill Hunter, Sacha Horler, Adrienne DeFaria, Deborra-Lee Furness, Essie Davis, David Wenham, Richard Roxburgh, Sam Neill, Miriam Margolyes, Joel Edgerton, Anthony LaPaglia, Abbie Cornish, Emily Barclay, Geoffrey Rush, Helen Mirren, Hugo Weaving, Ryan Kwanten, Jim Sturgess",
          "DIRECTOR": "Zack Snyder"
         }
        ],
        [
         "tm963023",
         "Chandigarh Kare Aashiqui",
         2021,
         117,
         "tt12861850",
         "6.9",
         12303,
         "['crime', 'drama', 'romance', 'comedy']",
         "IN",
         null,
         {
          "ACTOR": "Sawan Rupowali, Tanya Abrol, Girish Dhamija, Karishma Singh, Abhishek Bajaj, Aanjjan Srivastav, Yograj Singh, Goutam Sharma, Gourav Sharma, Kanwaljit Singh, Vaani Kapoor, Ayushmann Khurrana",
          "DIRECTOR": "Abhishek Kapoor"
         }
        ],
        [
         "tm96649",
         "The Long Riders",
         1980,
         99,
         "tt0081071",
         "6.9",
         11329,
         "['western', 'crime']",
         "US",
         "R",
         {
          "ACTOR": "Bill Rampley, George D. Miklos, Ry Cooder, R.B. Thrift, Kalen Keach, Luis Contreras, Edgar McLeod, Jimmy Medearis, Tom Sauber, Bill Bryson, Mitch Greenhill, Michael Lackey, Stuart Mossman, Prentiss Rowe, Hugh McGraw, J. Don Ferguson, William Traylor, Steven Chambers, Duke Stroud, Peter Jason, Gary Watkins, Lin Shaye, Tim Rossovich, Glenn Robards, Marlise Karlin, Thomas Myers, Chris Mulkey, Allan Graf, Martina Deignan, Edward Bunker, West Buchanan, John Bottoms, James Whitmore Jr., Amy Stryker, Savannah Smith Boucher, Fran Ryan, James Remar, Pamela Reed, Felice Orlandi, Shelby Leverington, Nicholas Guest, Christopher Guest, Harry Carey, Jr., Kevin Brophy, Randy Quaid, Dennis Quaid, Stacy Keach, James Keach, Robert Carradine, Keith Carradine, David Carradine",
          "DIRECTOR": "Walter Hill"
         }
        ],
        [
         "tm171042",
         "The Call",
         2020,
         112,
         "tt1911644",
         "6.7",
         29450,
         "['crime', 'thriller', 'drama', 'horror', 'european']",
         "KR",
         "R",
         {
          "ACTOR": "Ruth Zalduondo, Mark Sussman, Michael Ralph, Maria Nicolacakis, Jonathan Nichols, David Michie, Terence Mathews, Jacqueline Pinol, Donna Lynn Leavy, Nicholas Guest, Elisa Gabrielli, Eddie Frierson, Vicki Davis, Patty Connolly, Michael James Clark, Kirk Baily, Kimberly Bailey, Alisa Hensley, Thomas Rosales Jr., Steven Williams, Frankie Louis Mulcahy, Yolanda Arroyo, Teresa Jelks-Kirkley, Jay Potter, Rakefet Abergel, Lisa Grady, Michael Linstroth, Sammy Busby, Tara Platt, Ross Gallo, Jenna Lamia, Ella Rae Peck, Denise Dowse, Evie Thompson, Roma Maffia, José Zúñiga, Justina Machado, Michael Imperioli, David Otunga, Michael Eklund, Morris Chestnut, Abigail Breslin, Halle Berry",
          "DIRECTOR": "Brad Anderson"
         }
        ],
        [
         "tm54450",
         "Christine",
         2016,
         115,
         "tt0085333",
         "6.7",
         14977,
         "['horror', 'thriller', 'european']",
         "US",
         "R",
         {
          "ACTOR": "John Richard Petersen, Art Evans, Charles Steak, Jan Burrell, Keri Montgomery, Bruce French, Richard Collier, Douglas Warhit, Robert Darnell, Marc Poppel, Kelly Preston, Stuart Charno, Steven Tash, Malcolm Danare, David Spielberg, William Ostrander, Roberts Blossom, Christine Belford, Harry Dean Stanton, Robert Prosky, Alexandra Paul, John Stockwell, Keith Gordon",
          "DIRECTOR": "John Carpenter"
         }
        ],
        [
         "ts84646",
         "Warrior",
         2011,
         140,
         "tt9249090",
         "6.7",
         463276,
         "['action', 'drama', 'crime']",
         "US",
         "TV-MA",
         {
          "ACTOR": "Kasper Leisner, Marco Ilsø, Jakob Oftebro, Lars Ranthe, Danica Ćurčić, Dar Salim",
          "DIRECTOR": "Christoffer Boe"
         }
        ],
        [
         "tm362072",
         "Monster",
         2003,
         110,
         "tt10229074",
         "6.5",
         149218,
         "['drama', 'crime']",
         "US",
         "R",
         {
          "ACTOR": "Roberto Lopez, Jonny Coyne, Adriana DeGirolami, Danny Henriquez, Nyleek Moore, Rege Lewis, Liam Obergfoll, Dorian Missick, Paul Ben-Victor, Mikey Madison, Jharrel Jerome, Nas, Lovie Simone, A$AP Rocky, John David Washington, Tim Blake Nelson, Jennifer Ehle, Jennifer Hudson, Jeffrey Wright, Kelvin Harrison Jr.",
          "DIRECTOR": "Anthony Mandler"
         }
        ],
        [
         "tm248010",
         "Taxi Driver",
         1976,
         113,
         "tt5112438",
         "6.0",
         795222,
         "['crime', 'drama', 'comedy']",
         "US",
         null,
         {
          "ACTOR": "Ijeoma Grace Agu, Odunlade Adekola",
          "DIRECTOR": "Daniel Emeke Oriahi"
         }
        ],
        [
         "tm102337",
         "A Nightmare on Elm Street",
         1984,
         91,
         "tt1179056",
         "5.2",
         230543,
         "['horror', 'thriller', 'crime', 'drama']",
         "US",
         "R",
         {
          "ACTOR": "Christine Crawley, Eric Ami, Aaron Yoo, Christopher Woods, Logan Stalzer, Tania Randall, Jennifer Robers, Parker Bagley, Dominick Coviello, Scott Lindvall, Rob Riley, Pete A. Kelly, Bob Kizer, Andrew Fiscella, Max Holt, Brayden Coyer, Kyra Krumins, Kurt Naebig, Don Robert Cass, Leah Uteg, Hailey Schooping Knight, Katie Schooping Knight, Christian Stolte, Julianna Damm, Lia D. Mortensen, Connie Britton, Clancy Brown, Kellan Lutz, Thomas Dekker, Katie Cassidy, Rooney Mara, Kyle Gallner, Jackie Earle Haley",
          "DIRECTOR": "Samuel Bayer"
         }
        ],
        [
         "ts56201",
         "Cloudy with a Chance of Meatballs",
         2009,
         90,
         "tt4123482",
         "3.4",
         226225,
         "['action', 'fantasy', 'scifi', 'animation', 'comedy', 'family']",
         "US",
         "TV-Y7",
         {
          "ACTOR": "Clé Bennett, Seán Cullen, Katie Griffin, Patrick McKenna, David Berni, Mark Robert Edwards"
         }
        ],
        [
         "tm215911",
         "Ludo",
         2020,
         150,
         "tt3724898",
         "2.8",
         37528,
         "['horror', 'thriller', 'fantasy']",
         "IN",
         null,
         {
          "ACTOR": "Tillotama Shome, Subholina Sen, Rii Sen, Murari Mukherjee, Ranodeep Bose, Ananya Biswas, Soumendra Bhattacharya, Joyraj Bhattacharya, Kamalika Banerjee",
          "DIRECTOR": "Qaushiq Mukherjee, Nikon Basu"
         }
        ]
       ],
       "datasetInfos": [],
       "dbfsResultPath": null,
       "isJsonSchema": true,
       "metadata": {},
       "overflow": false,
       "plotOptions": {
        "customPlotOptions": {},
        "displayType": "table",
        "pivotAggregation": null,
        "pivotColumns": null,
        "xColumns": null,
        "yColumns": null
       },
       "removedWidgets": [],
       "schema": [
        {
         "metadata": "{}",
         "name": "id",
         "type": "\"string\""
        },
        {
         "metadata": "{}",
         "name": "title",
         "type": "\"string\""
        },
        {
         "metadata": "{}",
         "name": "release_year",
         "type": "\"integer\""
        },
        {
         "metadata": "{}",
         "name": "duration",
         "type": "\"integer\""
        },
        {
         "metadata": "{}",
         "name": "imdb_id",
         "type": "\"string\""
        },
        {
         "metadata": "{}",
         "name": "imdb_score",
         "type": "\"decimal(3,1)\""
        },
        {
         "metadata": "{}",
         "name": "number_of_votes",
         "type": "\"integer\""
        },
        {
         "metadata": "{}",
         "name": "genres",
         "type": "\"string\""
        },
        {
         "metadata": "{}",
         "name": "main_production",
         "type": "\"string\""
        },
        {
         "metadata": "{}",
         "name": "age_certification",
         "type": "\"string\""
        },
        {
         "metadata": "{}",
         "name": "cast_&_crew",
         "type": "{\"type\":\"map\",\"keyType\":\"string\",\"valueType\":\"string\",\"valueContainsNull\":false}"
        }
       ],
       "type": "table"
      }
     },
     "output_type": "display_data"
    }
   ],
   "source": [
    "# movies information\n",
    "movies=best_movies_df.join(raw_titles_df,on='title',how='left')\n",
    "movies=movies.select(\"id\",\"title\",best_movies_df[\"release_year\"],\"duration\",\"imdb_id\",\"imdb_score\",\"number_of_votes\",\"genres\",\"main_production\",\"age_certification\")\n",
    "movies=movies.filter(col(\"id\").isNotNull())\n",
    "movies=movies.join(raw_credits_df,on='id',how='inner').select(\"id\",\"title\",\"release_year\",\"duration\",\"imdb_id\",\"imdb_score\",\"number_of_votes\",\"genres\",\"main_production\",\"age_certification\",\"name\",\"role\")\n",
    "\n",
    "movies_map=movies.groupBy(\"id\", \"role\").agg(\n",
    "    concat_ws(\", \", collect_list(\"name\")).alias(\"names\")\n",
    ")\n",
    "movies_map=movies_map.groupBy(\"id\").agg(map_from_arrays(collect_list(\"role\"),collect_list(\"names\")).alias(\"cast_&_crew\"))\n",
    "movies=movies.join(movies_map,on='id',how='inner').select(\"id\",\"title\",\"release_year\",\"duration\",\"imdb_id\",\"imdb_score\",\"number_of_votes\",\"genres\",\"main_production\",\"age_certification\",\"cast_&_crew\")\n",
    "movies=movies.dropDuplicates([\"id\"])\n",
    "display(movies.orderBy(col(\"imdb_score\").desc()))\n",
    "\n"
   ]
  },
  {
   "cell_type": "code",
   "execution_count": 0,
   "metadata": {
    "application/vnd.databricks.v1+cell": {
     "cellMetadata": {
      "byteLimit": 2048000,
      "rowLimit": 10000
     },
     "inputWidgets": {},
     "nuid": "4ead762d-2c9a-439f-9f33-d47ee6cc5df3",
     "showTitle": false,
     "tableResultSettingsMap": {},
     "title": ""
    }
   },
   "outputs": [
    {
     "output_type": "display_data",
     "data": {
      "text/html": [
       "<style scoped>\n",
       "  .table-result-container {\n",
       "    max-height: 300px;\n",
       "    overflow: auto;\n",
       "  }\n",
       "  table, th, td {\n",
       "    border: 1px solid black;\n",
       "    border-collapse: collapse;\n",
       "  }\n",
       "  th, td {\n",
       "    padding: 5px;\n",
       "  }\n",
       "  th {\n",
       "    text-align: left;\n",
       "  }\n",
       "</style><div class='table-result-container'><table class='table-result'><thead style='background-color: white'><tr><th>release_year</th><th>title</th><th>score</th><th>main_genre</th><th>main_production</th><th>top_movie_genre_of_the_year</th></tr></thead><tbody><tr><td>1954</td><td>White Christmas</td><td>7.50</td><td>romance</td><td>US</td><td>List(romance)</td></tr><tr><td>1961</td><td>The Guns of Navarone</td><td>7.50</td><td>war</td><td>US</td><td>List(war)</td></tr><tr><td>1964</td><td>My Fair Lady</td><td>7.80</td><td>drama</td><td>US</td><td>List(drama)</td></tr><tr><td>1966</td><td>null</td><td>null</td><td>null</td><td>null</td><td>List(western)</td></tr><tr><td>1967</td><td>Bonnie and Clyde</td><td>7.70</td><td>drama</td><td>US</td><td>List(drama)</td></tr><tr><td>1971</td><td>Dirty Harry</td><td>7.70</td><td>thriller</td><td>US</td><td>List(thriller)</td></tr><tr><td>1973</td><td>The Exorcist</td><td>8.10</td><td>horror</td><td>US</td><td>List(horror)</td></tr><tr><td>1975</td><td>Monty Python and the Holy Grail</td><td>8.20</td><td>comedy</td><td>GB</td><td>List(comedy)</td></tr><tr><td>1976</td><td>Taxi Driver</td><td>8.30</td><td>crime</td><td>US</td><td>List(crime)</td></tr><tr><td>1979</td><td>Life of Brian</td><td>8.00</td><td>comedy</td><td>GB</td><td>List(comedy)</td></tr><tr><td>1980</td><td>The Blue Lagoon</td><td>5.80</td><td>romance</td><td>US</td><td>List(western)</td></tr><tr><td>1982</td><td>Annie</td><td>6.60</td><td>drama</td><td>US</td><td>List(comedy)</td></tr><tr><td>1984</td><td>Once Upon a Time in America</td><td>8.30</td><td>drama</td><td>US</td><td>List(drama, horror)</td></tr><tr><td>1986</td><td>Stand by Me</td><td>8.10</td><td>drama</td><td>US</td><td>List(drama)</td></tr><tr><td>1987</td><td>Full Metal Jacket</td><td>8.30</td><td>drama</td><td>GB</td><td>List(comedy, drama)</td></tr><tr><td>1989</td><td>When Harry Met Sally...</td><td>7.70</td><td>romance</td><td>US</td><td>List(romance)</td></tr><tr><td>1990</td><td>Awakenings</td><td>7.80</td><td>drama</td><td>US</td><td>List(drama)</td></tr><tr><td>1991</td><td>My Girl</td><td>6.90</td><td>comedy</td><td>US</td><td>List(comedy)</td></tr><tr><td>1992</td><td>A River Runs Through It</td><td>7.20</td><td>drama</td><td>US</td><td>List(drama)</td></tr><tr><td>1993</td><td>Menace II Society</td><td>7.50</td><td>drama</td><td>US</td><td>List(drama)</td></tr><tr><td>1994</td><td>Forrest Gump</td><td>8.80</td><td>drama</td><td>US</td><td>List(comedy, drama, romance)</td></tr><tr><td>1995</td><td>Desperado</td><td>7.10</td><td>thriller</td><td>US</td><td>List(romance, thriller)</td></tr><tr><td>1996</td><td>Happy Gilmore</td><td>7.00</td><td>comedy</td><td>US</td><td>List(comedy)</td></tr><tr><td>1997</td><td>Neon Genesis Evangelion: The End of Evangelion</td><td>8.00</td><td>scifi</td><td>JP</td><td>List(drama, horror, scifi, thriller)</td></tr><tr><td>1998</td><td>Saving Private Ryan</td><td>8.60</td><td>drama</td><td>US</td><td>List(action, drama, thriller)</td></tr><tr><td>1999</td><td>Girl, Interrupted</td><td>7.30</td><td>drama</td><td>US</td><td>List(drama)</td></tr><tr><td>2000</td><td>The Patriot</td><td>7.20</td><td>drama</td><td>DE</td><td>List(drama)</td></tr><tr><td>2001</td><td>Lagaan: Once Upon a Time in India</td><td>8.10</td><td>drama</td><td>IN</td><td>List(comedy, drama)</td></tr><tr><td>2002</td><td>Road to Perdition</td><td>7.70</td><td>thriller</td><td>US</td><td>List(drama, horror, thriller)</td></tr><tr><td>2003</td><td>Big Fish</td><td>8.00</td><td>drama</td><td>US</td><td>List(comedy, crime, drama, thriller)</td></tr><tr><td>2004</td><td>Swades</td><td>8.10</td><td>drama</td><td>IN</td><td>List(comedy, crime, drama, scifi)</td></tr><tr><td>2005</td><td>Memoirs of a Geisha</td><td>7.30</td><td>drama</td><td>FR</td><td>List(drama, fantasy)</td></tr><tr><td>2006</td><td>Rang De Basanti</td><td>8.10</td><td>comedy</td><td>IN</td><td>List(comedy, thriller)</td></tr><tr><td>2007</td><td>Like Stars on Earth</td><td>8.30</td><td>drama</td><td>IN</td><td>List(comedy, crime, drama, fantasy, romance, thriller)</td></tr><tr><td>2008</td><td>Ip Man</td><td>8.00</td><td>drama</td><td>HK</td><td>List(comedy, crime, drama, romance, thriller)</td></tr><tr><td>2009</td><td>3 Idiots</td><td>8.40</td><td>comedy</td><td>IN</td><td>List(animation, comedy, crime, drama, romance)</td></tr><tr><td>2010</td><td>Inception</td><td>8.80</td><td>scifi</td><td>GB</td><td>List(comedy, drama, fantasy, horror, scifi, thriller, western)</td></tr><tr><td>2011</td><td>Warrior</td><td>8.20</td><td>drama</td><td>US</td><td>List(action, comedy, crime, drama, fantasy, romance, thriller)</td></tr><tr><td>2012</td><td>Django Unchained</td><td>8.40</td><td>western</td><td>US</td><td>List(drama, fantasy, thriller, western)</td></tr><tr><td>2013</td><td>Rush</td><td>8.10</td><td>drama</td><td>US</td><td>List(comedy, drama, musical, romance, thriller)</td></tr><tr><td>2014</td><td>Queen</td><td>8.20</td><td>drama</td><td>IN</td><td>List(comedy, crime, documentary, drama, fantasy, thriller, war)</td></tr><tr><td>2015</td><td>Drishyam</td><td>8.20</td><td>thriller</td><td>IN</td><td>List(action, comedy, documentary, drama, musical, thriller, war, western)</td></tr><tr><td>2016</td><td>Dangal</td><td>8.40</td><td>action</td><td>IN</td><td>List(action, animation, comedy, crime, documentary, drama, fantasy, horror, romance, thriller, western)</td></tr><tr><td>2017</td><td>Bāhubali 2: The Conclusion</td><td>8.20</td><td>fantasy</td><td>IN</td><td>List(comedy, crime, documentary, drama, fantasy, musical, romance, scifi, thriller)</td></tr><tr><td>2018</td><td>Andhadhun</td><td>8.20</td><td>thriller</td><td>IN</td><td>List(comedy, documentary, drama, fantasy, horror, romance, scifi, thriller, western)</td></tr><tr><td>2019</td><td>Dave Chappelle: Sticks & Stones</td><td>8.40</td><td>comedy</td><td>US</td><td>List(comedy, crime, documentary, drama, fantasy, horror, romance, thriller)</td></tr><tr><td>2020</td><td>David Attenborough: A Life on Our Planet</td><td>9.00</td><td>documentary</td><td>GB</td><td>List(comedy, crime, documentary, drama, musical, thriller)</td></tr><tr><td>2021</td><td>Bo Burnham: Inside</td><td>8.70</td><td>comedy</td><td>US</td><td>List(action, animation, comedy, crime, documentary, drama, fantasy, scifi, sports, thriller)</td></tr><tr><td>2022</td><td>The Tinder Swindler</td><td>7.20</td><td>crime</td><td>GB</td><td>List(comedy, crime, drama, romance)</td></tr></tbody></table></div>"
      ]
     },
     "metadata": {
      "application/vnd.databricks.v1+output": {
       "addedWidgets": {},
       "aggData": [],
       "aggError": "",
       "aggOverflow": false,
       "aggSchema": [],
       "aggSeriesLimitReached": false,
       "aggType": "",
       "arguments": {},
       "columnCustomDisplayInfos": {},
       "data": [
        [
         1954,
         "White Christmas",
         "7.50",
         "romance",
         "US",
         [
          "romance"
         ]
        ],
        [
         1961,
         "The Guns of Navarone",
         "7.50",
         "war",
         "US",
         [
          "war"
         ]
        ],
        [
         1964,
         "My Fair Lady",
         "7.80",
         "drama",
         "US",
         [
          "drama"
         ]
        ],
        [
         1966,
         null,
         null,
         null,
         null,
         [
          "western"
         ]
        ],
        [
         1967,
         "Bonnie and Clyde",
         "7.70",
         "drama",
         "US",
         [
          "drama"
         ]
        ],
        [
         1971,
         "Dirty Harry",
         "7.70",
         "thriller",
         "US",
         [
          "thriller"
         ]
        ],
        [
         1973,
         "The Exorcist",
         "8.10",
         "horror",
         "US",
         [
          "horror"
         ]
        ],
        [
         1975,
         "Monty Python and the Holy Grail",
         "8.20",
         "comedy",
         "GB",
         [
          "comedy"
         ]
        ],
        [
         1976,
         "Taxi Driver",
         "8.30",
         "crime",
         "US",
         [
          "crime"
         ]
        ],
        [
         1979,
         "Life of Brian",
         "8.00",
         "comedy",
         "GB",
         [
          "comedy"
         ]
        ],
        [
         1980,
         "The Blue Lagoon",
         "5.80",
         "romance",
         "US",
         [
          "western"
         ]
        ],
        [
         1982,
         "Annie",
         "6.60",
         "drama",
         "US",
         [
          "comedy"
         ]
        ],
        [
         1984,
         "Once Upon a Time in America",
         "8.30",
         "drama",
         "US",
         [
          "drama",
          "horror"
         ]
        ],
        [
         1986,
         "Stand by Me",
         "8.10",
         "drama",
         "US",
         [
          "drama"
         ]
        ],
        [
         1987,
         "Full Metal Jacket",
         "8.30",
         "drama",
         "GB",
         [
          "comedy",
          "drama"
         ]
        ],
        [
         1989,
         "When Harry Met Sally...",
         "7.70",
         "romance",
         "US",
         [
          "romance"
         ]
        ],
        [
         1990,
         "Awakenings",
         "7.80",
         "drama",
         "US",
         [
          "drama"
         ]
        ],
        [
         1991,
         "My Girl",
         "6.90",
         "comedy",
         "US",
         [
          "comedy"
         ]
        ],
        [
         1992,
         "A River Runs Through It",
         "7.20",
         "drama",
         "US",
         [
          "drama"
         ]
        ],
        [
         1993,
         "Menace II Society",
         "7.50",
         "drama",
         "US",
         [
          "drama"
         ]
        ],
        [
         1994,
         "Forrest Gump",
         "8.80",
         "drama",
         "US",
         [
          "comedy",
          "drama",
          "romance"
         ]
        ],
        [
         1995,
         "Desperado",
         "7.10",
         "thriller",
         "US",
         [
          "romance",
          "thriller"
         ]
        ],
        [
         1996,
         "Happy Gilmore",
         "7.00",
         "comedy",
         "US",
         [
          "comedy"
         ]
        ],
        [
         1997,
         "Neon Genesis Evangelion: The End of Evangelion",
         "8.00",
         "scifi",
         "JP",
         [
          "drama",
          "horror",
          "scifi",
          "thriller"
         ]
        ],
        [
         1998,
         "Saving Private Ryan",
         "8.60",
         "drama",
         "US",
         [
          "action",
          "drama",
          "thriller"
         ]
        ],
        [
         1999,
         "Girl, Interrupted",
         "7.30",
         "drama",
         "US",
         [
          "drama"
         ]
        ],
        [
         2000,
         "The Patriot",
         "7.20",
         "drama",
         "DE",
         [
          "drama"
         ]
        ],
        [
         2001,
         "Lagaan: Once Upon a Time in India",
         "8.10",
         "drama",
         "IN",
         [
          "comedy",
          "drama"
         ]
        ],
        [
         2002,
         "Road to Perdition",
         "7.70",
         "thriller",
         "US",
         [
          "drama",
          "horror",
          "thriller"
         ]
        ],
        [
         2003,
         "Big Fish",
         "8.00",
         "drama",
         "US",
         [
          "comedy",
          "crime",
          "drama",
          "thriller"
         ]
        ],
        [
         2004,
         "Swades",
         "8.10",
         "drama",
         "IN",
         [
          "comedy",
          "crime",
          "drama",
          "scifi"
         ]
        ],
        [
         2005,
         "Memoirs of a Geisha",
         "7.30",
         "drama",
         "FR",
         [
          "drama",
          "fantasy"
         ]
        ],
        [
         2006,
         "Rang De Basanti",
         "8.10",
         "comedy",
         "IN",
         [
          "comedy",
          "thriller"
         ]
        ],
        [
         2007,
         "Like Stars on Earth",
         "8.30",
         "drama",
         "IN",
         [
          "comedy",
          "crime",
          "drama",
          "fantasy",
          "romance",
          "thriller"
         ]
        ],
        [
         2008,
         "Ip Man",
         "8.00",
         "drama",
         "HK",
         [
          "comedy",
          "crime",
          "drama",
          "romance",
          "thriller"
         ]
        ],
        [
         2009,
         "3 Idiots",
         "8.40",
         "comedy",
         "IN",
         [
          "animation",
          "comedy",
          "crime",
          "drama",
          "romance"
         ]
        ],
        [
         2010,
         "Inception",
         "8.80",
         "scifi",
         "GB",
         [
          "comedy",
          "drama",
          "fantasy",
          "horror",
          "scifi",
          "thriller",
          "western"
         ]
        ],
        [
         2011,
         "Warrior",
         "8.20",
         "drama",
         "US",
         [
          "action",
          "comedy",
          "crime",
          "drama",
          "fantasy",
          "romance",
          "thriller"
         ]
        ],
        [
         2012,
         "Django Unchained",
         "8.40",
         "western",
         "US",
         [
          "drama",
          "fantasy",
          "thriller",
          "western"
         ]
        ],
        [
         2013,
         "Rush",
         "8.10",
         "drama",
         "US",
         [
          "comedy",
          "drama",
          "musical",
          "romance",
          "thriller"
         ]
        ],
        [
         2014,
         "Queen",
         "8.20",
         "drama",
         "IN",
         [
          "comedy",
          "crime",
          "documentary",
          "drama",
          "fantasy",
          "thriller",
          "war"
         ]
        ],
        [
         2015,
         "Drishyam",
         "8.20",
         "thriller",
         "IN",
         [
          "action",
          "comedy",
          "documentary",
          "drama",
          "musical",
          "thriller",
          "war",
          "western"
         ]
        ],
        [
         2016,
         "Dangal",
         "8.40",
         "action",
         "IN",
         [
          "action",
          "animation",
          "comedy",
          "crime",
          "documentary",
          "drama",
          "fantasy",
          "horror",
          "romance",
          "thriller",
          "western"
         ]
        ],
        [
         2017,
         "Bāhubali 2: The Conclusion",
         "8.20",
         "fantasy",
         "IN",
         [
          "comedy",
          "crime",
          "documentary",
          "drama",
          "fantasy",
          "musical",
          "romance",
          "scifi",
          "thriller"
         ]
        ],
        [
         2018,
         "Andhadhun",
         "8.20",
         "thriller",
         "IN",
         [
          "comedy",
          "documentary",
          "drama",
          "fantasy",
          "horror",
          "romance",
          "scifi",
          "thriller",
          "western"
         ]
        ],
        [
         2019,
         "Dave Chappelle: Sticks & Stones",
         "8.40",
         "comedy",
         "US",
         [
          "comedy",
          "crime",
          "documentary",
          "drama",
          "fantasy",
          "horror",
          "romance",
          "thriller"
         ]
        ],
        [
         2020,
         "David Attenborough: A Life on Our Planet",
         "9.00",
         "documentary",
         "GB",
         [
          "comedy",
          "crime",
          "documentary",
          "drama",
          "musical",
          "thriller"
         ]
        ],
        [
         2021,
         "Bo Burnham: Inside",
         "8.70",
         "comedy",
         "US",
         [
          "action",
          "animation",
          "comedy",
          "crime",
          "documentary",
          "drama",
          "fantasy",
          "scifi",
          "sports",
          "thriller"
         ]
        ],
        [
         2022,
         "The Tinder Swindler",
         "7.20",
         "crime",
         "GB",
         [
          "comedy",
          "crime",
          "drama",
          "romance"
         ]
        ]
       ],
       "datasetInfos": [],
       "dbfsResultPath": null,
       "isJsonSchema": true,
       "metadata": {},
       "overflow": false,
       "plotOptions": {
        "customPlotOptions": {},
        "displayType": "table",
        "pivotAggregation": null,
        "pivotColumns": null,
        "xColumns": null,
        "yColumns": null
       },
       "removedWidgets": [],
       "schema": [
        {
         "metadata": "{}",
         "name": "release_year",
         "type": "\"integer\""
        },
        {
         "metadata": "{}",
         "name": "title",
         "type": "\"string\""
        },
        {
         "metadata": "{}",
         "name": "score",
         "type": "\"decimal(4,2)\""
        },
        {
         "metadata": "{}",
         "name": "main_genre",
         "type": "\"string\""
        },
        {
         "metadata": "{}",
         "name": "main_production",
         "type": "\"string\""
        },
        {
         "metadata": "{}",
         "name": "top_movie_genre_of_the_year",
         "type": "{\"type\":\"array\",\"elementType\":\"string\",\"containsNull\":false}"
        }
       ],
       "type": "table"
      }
     },
     "output_type": "display_data"
    }
   ],
   "source": [
    "# getting highly apprecited movie genre trends across years\n",
    "\n",
    "window_genre=Window.partitionBy(\"release_year\",\"main_genre\").orderBy(\"release_year\")\n",
    "accepted_genere=best_movies_df.withColumn(\"no_of_best_movies\",count(\"main_genre\").over(window_genre)).orderBy(\"release_year\",col(\"no_of_best_movies\").desc())\n",
    "accepted_genere=accepted_genere.withColumn(\"rn\",row_number().over(window_genre)).filter(col(\"rn\")==1).select(\"release_year\",\"main_genre\")\n",
    "accepted_genere=accepted_genere.groupBy(\"release_year\").agg(collect_list(\"main_genre\").alias(\"top_movie_genre_of_the_year\")).orderBy(\"release_year\")\n",
    "\n",
    "year_wise_best_df=best_movie_by_year_df.join(accepted_genere,on=\"release_year\",how=\"right\").orderBy(\"release_year\")\n",
    "\n",
    "\n",
    "display(year_wise_best_df)\n",
    "\n"
   ]
  },
  {
   "cell_type": "code",
   "execution_count": 0,
   "metadata": {
    "application/vnd.databricks.v1+cell": {
     "cellMetadata": {
      "byteLimit": 2048000,
      "rowLimit": 10000
     },
     "inputWidgets": {},
     "nuid": "c2c770d6-f332-4583-a00f-808d4fcdff3c",
     "showTitle": false,
     "tableResultSettingsMap": {},
     "title": ""
    }
   },
   "outputs": [
    {
     "output_type": "display_data",
     "data": {
      "text/html": [
       "<style scoped>\n",
       "  .table-result-container {\n",
       "    max-height: 300px;\n",
       "    overflow: auto;\n",
       "  }\n",
       "  table, th, td {\n",
       "    border: 1px solid black;\n",
       "    border-collapse: collapse;\n",
       "  }\n",
       "  th, td {\n",
       "    padding: 5px;\n",
       "  }\n",
       "  th {\n",
       "    text-align: left;\n",
       "  }\n",
       "</style><div class='table-result-container'><table class='table-result'><thead style='background-color: white'><tr><th>release_year</th><th>title</th><th>score</th><th>number_of_seasons</th><th>main_genre</th><th>main_production</th><th>top_show_genre_of_the_year</th></tr></thead><tbody><tr><td>1969</td><td>Monty Python's Flying Circus</td><td>8.80</td><td>4</td><td>comedy</td><td>GB</td><td>List(comedy)</td></tr><tr><td>1989</td><td>Seinfeld</td><td>8.90</td><td>9</td><td>comedy</td><td>US</td><td>List(comedy)</td></tr><tr><td>1993</td><td>Star Trek: Deep Space Nine</td><td>8.10</td><td>7</td><td>scifi</td><td>US</td><td>List(scifi)</td></tr><tr><td>1995</td><td>Neon Genesis Evangelion</td><td>8.50</td><td>1</td><td>scifi</td><td>JP</td><td>List(scifi)</td></tr><tr><td>1997</td><td>Stargate SG-1</td><td>8.40</td><td>10</td><td>scifi</td><td>US</td><td>List(scifi)</td></tr><tr><td>1998</td><td>Cowboy Bebop</td><td>8.90</td><td>1</td><td>western</td><td>JP</td><td>List(western)</td></tr><tr><td>1999</td><td>One Piece</td><td>8.80</td><td>21</td><td>action</td><td>JP</td><td>List(action)</td></tr><tr><td>2000</td><td>Gilmore Girls</td><td>8.20</td><td>8</td><td>comedy</td><td>US</td><td>List(action, comedy)</td></tr><tr><td>2001</td><td>Trailer Park Boys</td><td>8.60</td><td>12</td><td>comedy</td><td>CA</td><td>List(comedy)</td></tr><tr><td>2002</td><td>Naruto</td><td>8.40</td><td>6</td><td>scifi</td><td>JP</td><td>List(scifi)</td></tr><tr><td>2003</td><td>Chappelle's Show</td><td>8.80</td><td>3</td><td>comedy</td><td>US</td><td>List(action, comedy)</td></tr><tr><td>2004</td><td>The 4400</td><td>7.30</td><td>4</td><td>scifi</td><td>US</td><td>List(crime)</td></tr><tr><td>2005</td><td>Avatar: The Last Airbender</td><td>9.30</td><td>3</td><td>scifi</td><td>US</td><td>List(drama, scifi, thriller)</td></tr><tr><td>2006</td><td>DEATH NOTE</td><td>9.00</td><td>1</td><td>scifi</td><td>JP</td><td>List(comedy, drama, scifi)</td></tr><tr><td>2007</td><td>iCarly</td><td>6.70</td><td>6</td><td>comedy</td><td>US</td><td>List(drama, scifi)</td></tr><tr><td>2008</td><td>Breaking Bad</td><td>9.50</td><td>5</td><td>drama</td><td>US</td><td>List(action, animation, drama, scifi)</td></tr><tr><td>2009</td><td>Community</td><td>8.50</td><td>6</td><td>comedy</td><td>US</td><td>List(comedy, scifi)</td></tr><tr><td>2010</td><td>Downton Abbey</td><td>8.70</td><td>6</td><td>drama</td><td>GB</td><td>List(action, drama, scifi)</td></tr><tr><td>2011</td><td>Hunter x Hunter</td><td>9.00</td><td>3</td><td>drama</td><td>JP</td><td>List(comedy, drama, scifi)</td></tr><tr><td>2012</td><td>Call the Midwife</td><td>8.50</td><td>11</td><td>drama</td><td>GB</td><td>List(action, comedy, crime, drama, scifi, western)</td></tr><tr><td>2013</td><td>Attack on Titan</td><td>9.00</td><td>4</td><td>scifi</td><td>JP</td><td>List(action, drama, scifi)</td></tr><tr><td>2014</td><td>BoJack Horseman</td><td>8.80</td><td>6</td><td>drama</td><td>US</td><td>List(action, comedy, drama, scifi, war)</td></tr><tr><td>2015</td><td>Better Call Saul</td><td>8.80</td><td>6</td><td>comedy</td><td>US</td><td>List(action, comedy, crime, drama, romance, scifi, war)</td></tr><tr><td>2016</td><td>Stranger Things</td><td>8.70</td><td>5</td><td>scifi</td><td>US</td><td>List(action, comedy, drama, scifi, war)</td></tr><tr><td>2017</td><td>Anne with an E</td><td>8.70</td><td>3</td><td>drama</td><td>CA</td><td>List(action, animation, comedy, crime, documentary, drama, scifi)</td></tr><tr><td>2018</td><td>Cobra Kai</td><td>8.60</td><td>5</td><td>action</td><td>US</td><td>List(action, animation, comedy, crime, drama, reality, scifi, thriller, war)</td></tr><tr><td>2019</td><td>Kota Factory</td><td>9.30</td><td>2</td><td>drama</td><td>IN</td><td>List(action, animation, comedy, crime, documentary, drama, scifi, thriller)</td></tr><tr><td>2020</td><td>The Last Dance</td><td>9.10</td><td>1</td><td>documentary</td><td>US</td><td>List(action, comedy, crime, documentary, drama, war)</td></tr><tr><td>2021</td><td>Arcane</td><td>9.10</td><td>1</td><td>action</td><td>US</td><td>List(action, comedy, crime, drama, scifi, thriller)</td></tr><tr><td>2022</td><td>Heartstopper</td><td>8.90</td><td>1</td><td>drama</td><td>GB</td><td>List(action, drama)</td></tr></tbody></table></div>"
      ]
     },
     "metadata": {
      "application/vnd.databricks.v1+output": {
       "addedWidgets": {},
       "aggData": [],
       "aggError": "",
       "aggOverflow": false,
       "aggSchema": [],
       "aggSeriesLimitReached": false,
       "aggType": "",
       "arguments": {},
       "columnCustomDisplayInfos": {},
       "data": [
        [
         1969,
         "Monty Python's Flying Circus",
         "8.80",
         4,
         "comedy",
         "GB",
         [
          "comedy"
         ]
        ],
        [
         1989,
         "Seinfeld",
         "8.90",
         9,
         "comedy",
         "US",
         [
          "comedy"
         ]
        ],
        [
         1993,
         "Star Trek: Deep Space Nine",
         "8.10",
         7,
         "scifi",
         "US",
         [
          "scifi"
         ]
        ],
        [
         1995,
         "Neon Genesis Evangelion",
         "8.50",
         1,
         "scifi",
         "JP",
         [
          "scifi"
         ]
        ],
        [
         1997,
         "Stargate SG-1",
         "8.40",
         10,
         "scifi",
         "US",
         [
          "scifi"
         ]
        ],
        [
         1998,
         "Cowboy Bebop",
         "8.90",
         1,
         "western",
         "JP",
         [
          "western"
         ]
        ],
        [
         1999,
         "One Piece",
         "8.80",
         21,
         "action",
         "JP",
         [
          "action"
         ]
        ],
        [
         2000,
         "Gilmore Girls",
         "8.20",
         8,
         "comedy",
         "US",
         [
          "action",
          "comedy"
         ]
        ],
        [
         2001,
         "Trailer Park Boys",
         "8.60",
         12,
         "comedy",
         "CA",
         [
          "comedy"
         ]
        ],
        [
         2002,
         "Naruto",
         "8.40",
         6,
         "scifi",
         "JP",
         [
          "scifi"
         ]
        ],
        [
         2003,
         "Chappelle's Show",
         "8.80",
         3,
         "comedy",
         "US",
         [
          "action",
          "comedy"
         ]
        ],
        [
         2004,
         "The 4400",
         "7.30",
         4,
         "scifi",
         "US",
         [
          "crime"
         ]
        ],
        [
         2005,
         "Avatar: The Last Airbender",
         "9.30",
         3,
         "scifi",
         "US",
         [
          "drama",
          "scifi",
          "thriller"
         ]
        ],
        [
         2006,
         "DEATH NOTE",
         "9.00",
         1,
         "scifi",
         "JP",
         [
          "comedy",
          "drama",
          "scifi"
         ]
        ],
        [
         2007,
         "iCarly",
         "6.70",
         6,
         "comedy",
         "US",
         [
          "drama",
          "scifi"
         ]
        ],
        [
         2008,
         "Breaking Bad",
         "9.50",
         5,
         "drama",
         "US",
         [
          "action",
          "animation",
          "drama",
          "scifi"
         ]
        ],
        [
         2009,
         "Community",
         "8.50",
         6,
         "comedy",
         "US",
         [
          "comedy",
          "scifi"
         ]
        ],
        [
         2010,
         "Downton Abbey",
         "8.70",
         6,
         "drama",
         "GB",
         [
          "action",
          "drama",
          "scifi"
         ]
        ],
        [
         2011,
         "Hunter x Hunter",
         "9.00",
         3,
         "drama",
         "JP",
         [
          "comedy",
          "drama",
          "scifi"
         ]
        ],
        [
         2012,
         "Call the Midwife",
         "8.50",
         11,
         "drama",
         "GB",
         [
          "action",
          "comedy",
          "crime",
          "drama",
          "scifi",
          "western"
         ]
        ],
        [
         2013,
         "Attack on Titan",
         "9.00",
         4,
         "scifi",
         "JP",
         [
          "action",
          "drama",
          "scifi"
         ]
        ],
        [
         2014,
         "BoJack Horseman",
         "8.80",
         6,
         "drama",
         "US",
         [
          "action",
          "comedy",
          "drama",
          "scifi",
          "war"
         ]
        ],
        [
         2015,
         "Better Call Saul",
         "8.80",
         6,
         "comedy",
         "US",
         [
          "action",
          "comedy",
          "crime",
          "drama",
          "romance",
          "scifi",
          "war"
         ]
        ],
        [
         2016,
         "Stranger Things",
         "8.70",
         5,
         "scifi",
         "US",
         [
          "action",
          "comedy",
          "drama",
          "scifi",
          "war"
         ]
        ],
        [
         2017,
         "Anne with an E",
         "8.70",
         3,
         "drama",
         "CA",
         [
          "action",
          "animation",
          "comedy",
          "crime",
          "documentary",
          "drama",
          "scifi"
         ]
        ],
        [
         2018,
         "Cobra Kai",
         "8.60",
         5,
         "action",
         "US",
         [
          "action",
          "animation",
          "comedy",
          "crime",
          "drama",
          "reality",
          "scifi",
          "thriller",
          "war"
         ]
        ],
        [
         2019,
         "Kota Factory",
         "9.30",
         2,
         "drama",
         "IN",
         [
          "action",
          "animation",
          "comedy",
          "crime",
          "documentary",
          "drama",
          "scifi",
          "thriller"
         ]
        ],
        [
         2020,
         "The Last Dance",
         "9.10",
         1,
         "documentary",
         "US",
         [
          "action",
          "comedy",
          "crime",
          "documentary",
          "drama",
          "war"
         ]
        ],
        [
         2021,
         "Arcane",
         "9.10",
         1,
         "action",
         "US",
         [
          "action",
          "comedy",
          "crime",
          "drama",
          "scifi",
          "thriller"
         ]
        ],
        [
         2022,
         "Heartstopper",
         "8.90",
         1,
         "drama",
         "GB",
         [
          "action",
          "drama"
         ]
        ]
       ],
       "datasetInfos": [],
       "dbfsResultPath": null,
       "isJsonSchema": true,
       "metadata": {},
       "overflow": false,
       "plotOptions": {
        "customPlotOptions": {},
        "displayType": "table",
        "pivotAggregation": null,
        "pivotColumns": null,
        "xColumns": null,
        "yColumns": null
       },
       "removedWidgets": [],
       "schema": [
        {
         "metadata": "{}",
         "name": "release_year",
         "type": "\"integer\""
        },
        {
         "metadata": "{}",
         "name": "title",
         "type": "\"string\""
        },
        {
         "metadata": "{}",
         "name": "score",
         "type": "\"decimal(4,2)\""
        },
        {
         "metadata": "{}",
         "name": "number_of_seasons",
         "type": "\"integer\""
        },
        {
         "metadata": "{}",
         "name": "main_genre",
         "type": "\"string\""
        },
        {
         "metadata": "{}",
         "name": "main_production",
         "type": "\"string\""
        },
        {
         "metadata": "{}",
         "name": "top_show_genre_of_the_year",
         "type": "{\"type\":\"array\",\"elementType\":\"string\",\"containsNull\":false}"
        }
       ],
       "type": "table"
      }
     },
     "output_type": "display_data"
    }
   ],
   "source": [
    "# getting highly apprecited show genre trends across years\n",
    "\n",
    "window_genre_shows=Window.partitionBy(\"release_year\",\"main_genre\").orderBy(\"release_year\")\n",
    "accepted_genere_shows=best_shows_df.withColumn(\"no_of_best_shows\",count(\"main_genre\").over(window_genre_shows)).orderBy(\"release_year\",col(\"no_of_best_shows\").desc())\n",
    "accepted_genere_shows=accepted_genere_shows.withColumn(\"rn\",row_number().over(window_genre_shows)).filter(col(\"rn\")==1).select(\"release_year\",\"main_genre\")\n",
    "accepted_genere_shows=accepted_genere_shows.groupBy(\"release_year\").agg(collect_list(\"main_genre\").alias(\"top_show_genre_of_the_year\")).orderBy(\"release_year\")\n",
    "\n",
    "year_wise_best_shows_df=best_show_by_year_df.join(accepted_genere_shows,on=\"release_year\",how=\"right\").orderBy(\"release_year\")\n",
    "\n",
    "\n",
    "display(year_wise_best_shows_df)\n",
    "\n"
   ]
  }
 ],
 "metadata": {
  "application/vnd.databricks.v1+notebook": {
   "computePreferences": null,
   "dashboards": [],
   "environmentMetadata": {
    "base_environment": "",
    "client": "1"
   },
   "language": "python",
   "notebookMetadata": {
    "pythonIndentUnit": 4
   },
   "notebookName": "Netflix_data_analysis",
   "widgets": {}
  }
 },
 "nbformat": 4,
 "nbformat_minor": 0
}
