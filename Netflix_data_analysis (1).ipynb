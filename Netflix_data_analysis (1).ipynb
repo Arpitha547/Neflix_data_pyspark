{
 "cells": [
  {
   "cell_type": "code",
   "execution_count": 0,
   "metadata": {
    "application/vnd.databricks.v1+cell": {
     "cellMetadata": {
      "byteLimit": 2048000,
      "rowLimit": 10000
     },
     "inputWidgets": {},
     "nuid": "d52de00a-eb66-4c6e-8b60-77b98c81e83c",
     "showTitle": false,
     "tableResultSettingsMap": {},
     "title": ""
    }
   },
   "outputs": [],
   "source": [
    "from pyspark.sql import SparkSession\n",
    "from pyspark.sql.types import*\n",
    "from pyspark.sql.window import Window\n",
    "from pyspark.sql.functions import*\n",
    "spark=SparkSession.builder.appName('Neflix_data').getOrCreate()\n"
   ]
  },
  {
   "cell_type": "code",
   "execution_count": 0,
   "metadata": {
    "application/vnd.databricks.v1+cell": {
     "cellMetadata": {
      "byteLimit": 2048000,
      "rowLimit": 10000
     },
     "inputWidgets": {},
     "nuid": "f11eb3e1-fe68-4dec-a611-84739f5c2104",
     "showTitle": false,
     "tableResultSettingsMap": {},
     "title": ""
    }
   },
   "outputs": [],
   "source": [
    "raw_titles_schema = StructType([\n",
    "    StructField(\"id\", StringType(), True),                    # Unique ID (String)\n",
    "    StructField(\"title\", StringType(), True),                 # Title of the media (String)\n",
    "    StructField(\"type\", StringType(), True),                  # Type of content (e.g., Movie, Series) (String)\n",
    "    StructField(\"release_year\", IntegerType(), True),         # Release year (Integer)\n",
    "    StructField(\"age_certification\", StringType(), True),     # Age rating (String)\n",
    "    StructField(\"runtime\", IntegerType(), True),              # Runtime in minutes (Integer)\n",
    "    StructField(\"genres\", StringType(), True),                # Genres as comma-separated values (String)\n",
    "    StructField(\"production_countries\", StringType(), True),  # Production countries as comma-separated values (String)\n",
    "    StructField(\"seasons\", IntegerType(), True),              # Number of seasons (Integer, for series)\n",
    "    StructField(\"imdb_id\", StringType(), True),               # IMDb ID (String)\n",
    "    StructField(\"imdb_score\", DecimalType(3, 1), True),       # IMDb score (Decimal with precision 3, scale 1)\n",
    "    StructField(\"imdb_votes\", IntegerType(), True)            # Number of IMDb votes (Integer)\n",
    "])\n",
    "raw_titles_df=spark.read.format(\"csv\").schema(raw_titles_schema).option(\"header\",True).load(\"/FileStore/tables/raw_titles.csv\")\n",
    "#raw_titles_df.show()\n",
    "\n"
   ]
  },
  {
   "cell_type": "code",
   "execution_count": 0,
   "metadata": {
    "application/vnd.databricks.v1+cell": {
     "cellMetadata": {
      "byteLimit": 2048000,
      "rowLimit": 10000
     },
     "inputWidgets": {},
     "nuid": "d19c4280-8915-4ddc-aa2a-3e555eaf72e8",
     "showTitle": false,
     "tableResultSettingsMap": {},
     "title": ""
    }
   },
   "outputs": [],
   "source": [
    "raw_credits_schema=StructType([\n",
    "    StructField(\"person_id\", IntegerType(), True),  # Unique person ID (Integer)\n",
    "    StructField(\"id\", StringType(), True),         # Associated content ID (String)\n",
    "    StructField(\"name\", StringType(), True),       # Person's name (String)\n",
    "    StructField(\"character\", StringType(), True),  # Character played (String)\n",
    "    StructField(\"role\", StringType(), True)        # Role (e.g., Actor, Director) (String)\n",
    "])\n",
    "\n",
    "raw_credits_df=spark.read.format(\"csv\").schema(raw_credits_schema).option(\"header\",True).load(\"/FileStore/tables/raw_credits.csv\")"
   ]
  },
  {
   "cell_type": "code",
   "execution_count": 0,
   "metadata": {
    "application/vnd.databricks.v1+cell": {
     "cellMetadata": {
      "byteLimit": 2048000,
      "rowLimit": 10000
     },
     "inputWidgets": {},
     "nuid": "3acd20ec-2e09-4fe7-84e0-df8cb1eb6f29",
     "showTitle": false,
     "tableResultSettingsMap": {},
     "title": ""
    }
   },
   "outputs": [],
   "source": [
    "best_shows_schema=StructType([\n",
    "    StructField(\"title\", StringType(), True),               # Title of the media (String)\n",
    "    StructField(\"release_year\", IntegerType(), True),       # Release year (Integer, used in place of YearType)\n",
    "    StructField(\"score\", DecimalType(4, 2), True),          # Score (Decimal with precision 4, scale 2)\n",
    "    StructField(\"number_of_votes\", IntegerType(), True),    # Number of votes (Integer)\n",
    "    StructField(\"duration\", IntegerType(), True),           # Duration in minutes (Integer)\n",
    "    StructField(\"number_of_seasons\", IntegerType(), True),  # Number of seasons (Integer, for series)\n",
    "    StructField(\"main_genre\", StringType(), True),          # Main genre (String)\n",
    "    StructField(\"main_production\", StringType(), True)      # Main production country (String)\n",
    "])\n",
    "\n",
    "best_shows_df=spark.read.format(\"csv\").schema(best_shows_schema).option(\"header\",True).load(\"/FileStore/tables/Best_Shows_Netflix.csv\")"
   ]
  },
  {
   "cell_type": "code",
   "execution_count": 0,
   "metadata": {
    "application/vnd.databricks.v1+cell": {
     "cellMetadata": {
      "byteLimit": 2048000,
      "rowLimit": 10000
     },
     "inputWidgets": {},
     "nuid": "18ffa5a7-edda-49af-9172-06aeff7a5ee4",
     "showTitle": false,
     "tableResultSettingsMap": {},
     "title": ""
    }
   },
   "outputs": [],
   "source": [
    "best_show_by_year_schema=StructType([\n",
    "    StructField(\"title\", StringType(), True),               # Title of the media (String)\n",
    "    StructField(\"release_year\", IntegerType(), True),       # Release year (Integer, used in place of YearType)\n",
    "    StructField(\"score\", DecimalType(4, 2), True),          # Score (Decimal with precision 4, scale 2)\n",
    "    StructField(\"number_of_seasons\", IntegerType(), True),  # Number of seasons (Integer, nullable for movies)\n",
    "    StructField(\"main_genre\", StringType(), True),          # Main genre (String)\n",
    "    StructField(\"main_production\", StringType(), True)      # Main production country (String)\n",
    "])\n",
    "\n",
    "best_show_by_year_df=spark.read.format(\"csv\").schema(best_show_by_year_schema).option(\"header\",True).load(\"/FileStore/tables/Best_Show_by_Year_Netflix.csv\")"
   ]
  },
  {
   "cell_type": "code",
   "execution_count": 0,
   "metadata": {
    "application/vnd.databricks.v1+cell": {
     "cellMetadata": {
      "byteLimit": 2048000,
      "rowLimit": 10000
     },
     "inputWidgets": {},
     "nuid": "2ab92e2c-5d3f-484e-a6ed-ebb80b28c1f5",
     "showTitle": false,
     "tableResultSettingsMap": {},
     "title": ""
    }
   },
   "outputs": [],
   "source": [
    "best_movies_schema=StructType([\n",
    "    StructField(\"title\", StringType(), True),               # Title of the media (String)\n",
    "    StructField(\"release_year\", IntegerType(), True),       # Release year (Integer, used in place of YearType)\n",
    "    StructField(\"score\", DecimalType(4, 2), True),          # Score (Decimal with precision 4, scale 2)\n",
    "    StructField(\"number_of_votes\", IntegerType(), True),    # Number of votes (Integer)\n",
    "    StructField(\"duration\", IntegerType(), True),           # Duration in minutes (Integer)\n",
    "    StructField(\"main_genre\", StringType(), True),          # Main genre (String)\n",
    "    StructField(\"main_production\", StringType(), True)      # Main production country (String)\n",
    "])\n",
    "best_movies_df=spark.read.format(\"csv\").schema(best_movies_schema).option(\"header\",True).load(\"/FileStore/tables/Best_Movies_Netflix.csv\")"
   ]
  },
  {
   "cell_type": "code",
   "execution_count": 0,
   "metadata": {
    "application/vnd.databricks.v1+cell": {
     "cellMetadata": {
      "byteLimit": 2048000,
      "rowLimit": 10000
     },
     "inputWidgets": {},
     "nuid": "fb070a2a-bac9-4957-8cc1-c2d6339ac712",
     "showTitle": false,
     "tableResultSettingsMap": {},
     "title": ""
    }
   },
   "outputs": [],
   "source": [
    "best_movie_by_year_schema=StructType([\n",
    "    StructField(\"title\", StringType(), True),               # Title of the media (String)\n",
    "    StructField(\"release_year\", IntegerType(), True),       # Release year (Integer, used in place of YearType)\n",
    "    StructField(\"score\", DecimalType(4, 2), True),          # Score (Decimal with precision 4, scale 2)\n",
    "    StructField(\"main_genre\", StringType(), True),          # Main genre (String)\n",
    "    StructField(\"main_production\", StringType(), True)      # Main production country (String)\n",
    "])\n",
    "\n",
    "best_movie_by_year_df=spark.read.format(\"csv\").schema(best_movie_by_year_schema).option(\"header\",True).load(\"/FileStore/tables/Best_Movie_by_Year_Netflix.csv\")"
   ]
  },
  {
   "cell_type": "code",
   "execution_count": 0,
   "metadata": {
    "application/vnd.databricks.v1+cell": {
     "cellMetadata": {
      "byteLimit": 2048000,
      "rowLimit": 10000
     },
     "inputWidgets": {},
     "nuid": "119f784a-93fe-4b88-9b12-d2e087e2fc38",
     "showTitle": false,
     "tableResultSettingsMap": {},
     "title": ""
    }
   },
   "outputs": [
    {
     "output_type": "stream",
     "name": "stdout",
     "output_type": "stream",
     "text": [
      "+---------------+----------+\n|main_production|main_genre|\n+---------------+----------+\n|             US|     drama|\n+---------------+----------+\n\n"
     ]
    }
   ],
   "source": [
    "best_movie_by_year_df=best_movie_by_year_df.dropDuplicates(['release_year'])\n",
    "# finding top production with best movies and top genre\n",
    "top_production_and_genre_df=best_movie_by_year_df.groupBy(\"main_production\").count().orderBy(col(\"count\").desc()).select(\"main_production\").limit(1)\n",
    "top_genre=best_movie_by_year_df.groupBy(\"main_genre\").count().orderBy(col(\"count\").desc()).select(\"main_genre\").limit(1)\n",
    "top_production_and_genre_df=top_production_and_genre_df.crossJoin(top_genre)\n",
    "\n",
    "top_production_and_genre_df.show()"
   ]
  },
  {
   "cell_type": "code",
   "execution_count": 0,
   "metadata": {
    "application/vnd.databricks.v1+cell": {
     "cellMetadata": {
      "byteLimit": 2048000,
      "rowLimit": 10000
     },
     "inputWidgets": {},
     "nuid": "fd75b3b7-4ce2-4ac4-8780-6ef7e54937ce",
     "showTitle": false,
     "tableResultSettingsMap": {},
     "title": ""
    }
   },
   "outputs": [
    {
     "output_type": "display_data",
     "data": {
      "text/html": [
       "<style scoped>\n",
       "  .table-result-container {\n",
       "    max-height: 300px;\n",
       "    overflow: auto;\n",
       "  }\n",
       "  table, th, td {\n",
       "    border: 1px solid black;\n",
       "    border-collapse: collapse;\n",
       "  }\n",
       "  th, td {\n",
       "    padding: 5px;\n",
       "  }\n",
       "  th {\n",
       "    text-align: left;\n",
       "  }\n",
       "</style><div class='table-result-container'><table class='table-result'><thead style='background-color: white'><tr><th>title</th><th>release_year</th><th>score</th><th>number_of_votes</th><th>duration</th><th>main_genre</th><th>main_production</th></tr></thead><tbody><tr><td>13th</td><td>2016</td><td>8.20</td><td>34914</td><td>100</td><td>documentary</td><td>US</td></tr><tr><td>14 Peaks: Nothing Is Impossible</td><td>2021</td><td>7.80</td><td>22858</td><td>101</td><td>documentary</td><td>US</td></tr></tbody></table></div>"
      ]
     },
     "metadata": {
      "application/vnd.databricks.v1+output": {
       "addedWidgets": {},
       "aggData": [],
       "aggError": "",
       "aggOverflow": false,
       "aggSchema": [],
       "aggSeriesLimitReached": false,
       "aggType": "",
       "arguments": {},
       "columnCustomDisplayInfos": {},
       "data": [
        [
         "13th",
         2016,
         "8.20",
         34914,
         100,
         "documentary",
         "US"
        ],
        [
         "14 Peaks: Nothing Is Impossible",
         2021,
         "7.80",
         22858,
         101,
         "documentary",
         "US"
        ]
       ],
       "datasetInfos": [],
       "dbfsResultPath": null,
       "isJsonSchema": true,
       "metadata": {},
       "overflow": false,
       "plotOptions": {
        "customPlotOptions": {},
        "displayType": "table",
        "pivotAggregation": null,
        "pivotColumns": null,
        "xColumns": null,
        "yColumns": null
       },
       "removedWidgets": [],
       "schema": [
        {
         "metadata": "{}",
         "name": "title",
         "type": "\"string\""
        },
        {
         "metadata": "{}",
         "name": "release_year",
         "type": "\"integer\""
        },
        {
         "metadata": "{}",
         "name": "score",
         "type": "\"decimal(4,2)\""
        },
        {
         "metadata": "{}",
         "name": "number_of_votes",
         "type": "\"integer\""
        },
        {
         "metadata": "{}",
         "name": "duration",
         "type": "\"integer\""
        },
        {
         "metadata": "{}",
         "name": "main_genre",
         "type": "\"string\""
        },
        {
         "metadata": "{}",
         "name": "main_production",
         "type": "\"string\""
        }
       ],
       "type": "table"
      }
     },
     "output_type": "display_data"
    }
   ],
   "source": [
    "# checking for duplicates and removing them\n",
    "window=Window.partitionBy(\"title\",\"release_year\").orderBy(\"release_year\")\n",
    "best_movies_check_duplicates_df=best_movies_df.withColumn(\"rn\",row_number().over(window))\n",
    "best_movies_df=best_movies_check_duplicates_df.select(\"title\",\"release_year\",\"score\",\"number_of_votes\",\"duration\",\"main_genre\",\"main_production\").filter(col(\"rn\")==1)\n",
    "display(best_movies_df.limit(2))"
   ]
  },
  {
   "cell_type": "code",
   "execution_count": 0,
   "metadata": {
    "application/vnd.databricks.v1+cell": {
     "cellMetadata": {
      "byteLimit": 2048000,
      "rowLimit": 10000
     },
     "inputWidgets": {},
     "nuid": "433ebee5-6d34-42bb-bfb4-59bbcb61f093",
     "showTitle": false,
     "tableResultSettingsMap": {},
     "title": ""
    }
   },
   "outputs": [
    {
     "output_type": "display_data",
     "data": {
      "text/html": [
       "<style scoped>\n",
       "  .table-result-container {\n",
       "    max-height: 300px;\n",
       "    overflow: auto;\n",
       "  }\n",
       "  table, th, td {\n",
       "    border: 1px solid black;\n",
       "    border-collapse: collapse;\n",
       "  }\n",
       "  th, td {\n",
       "    padding: 5px;\n",
       "  }\n",
       "  th {\n",
       "    text-align: left;\n",
       "  }\n",
       "</style><div class='table-result-container'><table class='table-result'><thead style='background-color: white'><tr><th>id</th><th>title</th><th>release_year</th><th>duration</th><th>imdb_id</th><th>imdb_score</th><th>number_of_votes</th><th>genres</th><th>main_production</th><th>age_certification</th><th>cast_&_crew</th></tr></thead><tbody><tr><td>tm853783</td><td>David Attenborough: A Life on Our Planet</td><td>2020</td><td>83</td><td>tt11989890</td><td>9.0</td><td>31180</td><td>['documentation']</td><td>GB</td><td>PG</td><td>Map(ACTOR -> Max Hughes, David Attenborough, DIRECTOR -> Alastair Fothergill, Jonathan Hughes, Keith Scholey)</td></tr><tr><td>tm92641</td><td>Inception</td><td>2010</td><td>148</td><td>tt1375666</td><td>8.8</td><td>2268288</td><td>['scifi', 'music', 'thriller', 'action']</td><td>GB</td><td>PG-13</td><td>Map(ACTOR -> Daniel Girondeaud, Shannon Welles, Lisa Reynolds, Andrew Pleavin, Felix Scott, Michael Gaston, Peter Basham, Nicole Pulliam, Alex Lombard, Jill Maddrell, Carl Gilliard, Natasha Beaumont, Jack Murray, Adam Cole, Mark Fleischmann, Helena Cullinan, Magnus Nolan, Tai-Li Lee, Marc Raducci, Jean-Michel Dagory, Nicolas Clerc, Virgile Bramly, Silvie Laguna, Coralie Dedykere, Tim Kelleher, Russ Fega, Miranda Nolan, Ryan Hayward, Earl Cameron, Yuji Okumoto, Johnathan Geare, Claire Geare, Taylor Geare, Tohoru Masamune, Talulah Riley, Lukas Haas, Michael Caine, Pete Postlethwaite, Marion Cotillard, Tom Berenger, Cillian Murphy, Dileep Rao, Elliot Page, Tom Hardy, Ken Watanabe, Joseph Gordon-Levitt, Leonardo DiCaprio, DIRECTOR -> Christopher Nolan)</td></tr></tbody></table></div>"
      ]
     },
     "metadata": {
      "application/vnd.databricks.v1+output": {
       "addedWidgets": {},
       "aggData": [],
       "aggError": "",
       "aggOverflow": false,
       "aggSchema": [],
       "aggSeriesLimitReached": false,
       "aggType": "",
       "arguments": {},
       "columnCustomDisplayInfos": {},
       "data": [
        [
         "tm853783",
         "David Attenborough: A Life on Our Planet",
         2020,
         83,
         "tt11989890",
         "9.0",
         31180,
         "['documentation']",
         "GB",
         "PG",
         {
          "ACTOR": "Max Hughes, David Attenborough",
          "DIRECTOR": "Alastair Fothergill, Jonathan Hughes, Keith Scholey"
         }
        ],
        [
         "tm92641",
         "Inception",
         2010,
         148,
         "tt1375666",
         "8.8",
         2268288,
         "['scifi', 'music', 'thriller', 'action']",
         "GB",
         "PG-13",
         {
          "ACTOR": "Daniel Girondeaud, Shannon Welles, Lisa Reynolds, Andrew Pleavin, Felix Scott, Michael Gaston, Peter Basham, Nicole Pulliam, Alex Lombard, Jill Maddrell, Carl Gilliard, Natasha Beaumont, Jack Murray, Adam Cole, Mark Fleischmann, Helena Cullinan, Magnus Nolan, Tai-Li Lee, Marc Raducci, Jean-Michel Dagory, Nicolas Clerc, Virgile Bramly, Silvie Laguna, Coralie Dedykere, Tim Kelleher, Russ Fega, Miranda Nolan, Ryan Hayward, Earl Cameron, Yuji Okumoto, Johnathan Geare, Claire Geare, Taylor Geare, Tohoru Masamune, Talulah Riley, Lukas Haas, Michael Caine, Pete Postlethwaite, Marion Cotillard, Tom Berenger, Cillian Murphy, Dileep Rao, Elliot Page, Tom Hardy, Ken Watanabe, Joseph Gordon-Levitt, Leonardo DiCaprio",
          "DIRECTOR": "Christopher Nolan"
         }
        ]
       ],
       "datasetInfos": [],
       "dbfsResultPath": null,
       "isJsonSchema": true,
       "metadata": {},
       "overflow": false,
       "plotOptions": {
        "customPlotOptions": {},
        "displayType": "table",
        "pivotAggregation": null,
        "pivotColumns": null,
        "xColumns": null,
        "yColumns": null
       },
       "removedWidgets": [],
       "schema": [
        {
         "metadata": "{}",
         "name": "id",
         "type": "\"string\""
        },
        {
         "metadata": "{}",
         "name": "title",
         "type": "\"string\""
        },
        {
         "metadata": "{}",
         "name": "release_year",
         "type": "\"integer\""
        },
        {
         "metadata": "{}",
         "name": "duration",
         "type": "\"integer\""
        },
        {
         "metadata": "{}",
         "name": "imdb_id",
         "type": "\"string\""
        },
        {
         "metadata": "{}",
         "name": "imdb_score",
         "type": "\"decimal(3,1)\""
        },
        {
         "metadata": "{}",
         "name": "number_of_votes",
         "type": "\"integer\""
        },
        {
         "metadata": "{}",
         "name": "genres",
         "type": "\"string\""
        },
        {
         "metadata": "{}",
         "name": "main_production",
         "type": "\"string\""
        },
        {
         "metadata": "{}",
         "name": "age_certification",
         "type": "\"string\""
        },
        {
         "metadata": "{}",
         "name": "cast_&_crew",
         "type": "{\"type\":\"map\",\"keyType\":\"string\",\"valueType\":\"string\",\"valueContainsNull\":false}"
        }
       ],
       "type": "table"
      }
     },
     "output_type": "display_data"
    }
   ],
   "source": [
    "# movies information\n",
    "movies=best_movies_df.join(raw_titles_df,on='title',how='left')\n",
    "movies=movies.select(\"id\",\"title\",best_movies_df[\"release_year\"],\"duration\",\"imdb_id\",\"imdb_score\",\"number_of_votes\",\"genres\",\"main_production\",\"age_certification\")\n",
    "movies=movies.filter(col(\"id\").isNotNull())\n",
    "movies=movies.join(raw_credits_df,on='id',how='inner').select(\"id\",\"title\",\"release_year\",\"duration\",\"imdb_id\",\"imdb_score\",\"number_of_votes\",\"genres\",\"main_production\",\"age_certification\",\"name\",\"role\")\n",
    "\n",
    "movies_map=movies.groupBy(\"id\", \"role\").agg(\n",
    "    concat_ws(\", \", collect_list(\"name\")).alias(\"names\")\n",
    ")\n",
    "movies_map=movies_map.groupBy(\"id\").agg(map_from_arrays(collect_list(\"role\"),collect_list(\"names\")).alias(\"cast_&_crew\"))\n",
    "movies=movies.join(movies_map,on='id',how='inner').select(\"id\",\"title\",\"release_year\",\"duration\",\"imdb_id\",\"imdb_score\",\"number_of_votes\",\"genres\",\"main_production\",\"age_certification\",\"cast_&_crew\")\n",
    "movies=movies.dropDuplicates([\"id\"])\n",
    "movies=movies.orderBy(col(\"imdb_score\").desc())\n",
    "display(movies.limit(2))\n",
    "\n"
   ]
  },
  {
   "cell_type": "code",
   "execution_count": 0,
   "metadata": {
    "application/vnd.databricks.v1+cell": {
     "cellMetadata": {
      "byteLimit": 2048000,
      "rowLimit": 10000
     },
     "inputWidgets": {},
     "nuid": "4ead762d-2c9a-439f-9f33-d47ee6cc5df3",
     "showTitle": false,
     "tableResultSettingsMap": {},
     "title": ""
    }
   },
   "outputs": [
    {
     "output_type": "display_data",
     "data": {
      "text/html": [
       "<style scoped>\n",
       "  .table-result-container {\n",
       "    max-height: 300px;\n",
       "    overflow: auto;\n",
       "  }\n",
       "  table, th, td {\n",
       "    border: 1px solid black;\n",
       "    border-collapse: collapse;\n",
       "  }\n",
       "  th, td {\n",
       "    padding: 5px;\n",
       "  }\n",
       "  th {\n",
       "    text-align: left;\n",
       "  }\n",
       "</style><div class='table-result-container'><table class='table-result'><thead style='background-color: white'><tr><th>release_year</th><th>title</th><th>score</th><th>main_genre</th><th>main_production</th><th>top_movie_genre_of_the_year</th></tr></thead><tbody><tr><td>1954</td><td>White Christmas</td><td>7.50</td><td>romance</td><td>US</td><td>List(romance)</td></tr><tr><td>1961</td><td>The Guns of Navarone</td><td>7.50</td><td>war</td><td>US</td><td>List(war)</td></tr></tbody></table></div>"
      ]
     },
     "metadata": {
      "application/vnd.databricks.v1+output": {
       "addedWidgets": {},
       "aggData": [],
       "aggError": "",
       "aggOverflow": false,
       "aggSchema": [],
       "aggSeriesLimitReached": false,
       "aggType": "",
       "arguments": {},
       "columnCustomDisplayInfos": {},
       "data": [
        [
         1954,
         "White Christmas",
         "7.50",
         "romance",
         "US",
         [
          "romance"
         ]
        ],
        [
         1961,
         "The Guns of Navarone",
         "7.50",
         "war",
         "US",
         [
          "war"
         ]
        ]
       ],
       "datasetInfos": [],
       "dbfsResultPath": null,
       "isJsonSchema": true,
       "metadata": {},
       "overflow": false,
       "plotOptions": {
        "customPlotOptions": {},
        "displayType": "table",
        "pivotAggregation": null,
        "pivotColumns": null,
        "xColumns": null,
        "yColumns": null
       },
       "removedWidgets": [],
       "schema": [
        {
         "metadata": "{}",
         "name": "release_year",
         "type": "\"integer\""
        },
        {
         "metadata": "{}",
         "name": "title",
         "type": "\"string\""
        },
        {
         "metadata": "{}",
         "name": "score",
         "type": "\"decimal(4,2)\""
        },
        {
         "metadata": "{}",
         "name": "main_genre",
         "type": "\"string\""
        },
        {
         "metadata": "{}",
         "name": "main_production",
         "type": "\"string\""
        },
        {
         "metadata": "{}",
         "name": "top_movie_genre_of_the_year",
         "type": "{\"type\":\"array\",\"elementType\":\"string\",\"containsNull\":false}"
        }
       ],
       "type": "table"
      }
     },
     "output_type": "display_data"
    }
   ],
   "source": [
    "# getting highly apprecited movie genre trends across years\n",
    "\n",
    "window_genre=Window.partitionBy(\"release_year\",\"main_genre\").orderBy(\"release_year\")\n",
    "accepted_genere=best_movies_df.withColumn(\"no_of_best_movies\",count(\"main_genre\").over(window_genre)).orderBy(\"release_year\",col(\"no_of_best_movies\").desc())\n",
    "accepted_genere=accepted_genere.withColumn(\"rn\",row_number().over(window_genre)).filter(col(\"rn\")==1).select(\"release_year\",\"main_genre\")\n",
    "accepted_genere=accepted_genere.groupBy(\"release_year\").agg(collect_list(\"main_genre\").alias(\"top_movie_genre_of_the_year\")).orderBy(\"release_year\")\n",
    "\n",
    "year_wise_best_df=best_movie_by_year_df.join(accepted_genere,on=\"release_year\",how=\"right\").orderBy(\"release_year\")\n",
    "\n",
    "\n",
    "display(year_wise_best_df.limit(2))\n",
    "\n"
   ]
  },
  {
   "cell_type": "code",
   "execution_count": 0,
   "metadata": {
    "application/vnd.databricks.v1+cell": {
     "cellMetadata": {
      "byteLimit": 2048000,
      "rowLimit": 10000
     },
     "inputWidgets": {},
     "nuid": "c2c770d6-f332-4583-a00f-808d4fcdff3c",
     "showTitle": false,
     "tableResultSettingsMap": {},
     "title": ""
    }
   },
   "outputs": [
    {
     "output_type": "display_data",
     "data": {
      "text/html": [
       "<style scoped>\n",
       "  .table-result-container {\n",
       "    max-height: 300px;\n",
       "    overflow: auto;\n",
       "  }\n",
       "  table, th, td {\n",
       "    border: 1px solid black;\n",
       "    border-collapse: collapse;\n",
       "  }\n",
       "  th, td {\n",
       "    padding: 5px;\n",
       "  }\n",
       "  th {\n",
       "    text-align: left;\n",
       "  }\n",
       "</style><div class='table-result-container'><table class='table-result'><thead style='background-color: white'><tr><th>release_year</th><th>title</th><th>score</th><th>number_of_seasons</th><th>main_genre</th><th>main_production</th><th>top_show_genre_of_the_year</th></tr></thead><tbody><tr><td>1969</td><td>Monty Python's Flying Circus</td><td>8.80</td><td>4</td><td>comedy</td><td>GB</td><td>List(comedy)</td></tr><tr><td>1989</td><td>Seinfeld</td><td>8.90</td><td>9</td><td>comedy</td><td>US</td><td>List(comedy)</td></tr></tbody></table></div>"
      ]
     },
     "metadata": {
      "application/vnd.databricks.v1+output": {
       "addedWidgets": {},
       "aggData": [],
       "aggError": "",
       "aggOverflow": false,
       "aggSchema": [],
       "aggSeriesLimitReached": false,
       "aggType": "",
       "arguments": {},
       "columnCustomDisplayInfos": {},
       "data": [
        [
         1969,
         "Monty Python's Flying Circus",
         "8.80",
         4,
         "comedy",
         "GB",
         [
          "comedy"
         ]
        ],
        [
         1989,
         "Seinfeld",
         "8.90",
         9,
         "comedy",
         "US",
         [
          "comedy"
         ]
        ]
       ],
       "datasetInfos": [],
       "dbfsResultPath": null,
       "isJsonSchema": true,
       "metadata": {},
       "overflow": false,
       "plotOptions": {
        "customPlotOptions": {},
        "displayType": "table",
        "pivotAggregation": null,
        "pivotColumns": null,
        "xColumns": null,
        "yColumns": null
       },
       "removedWidgets": [],
       "schema": [
        {
         "metadata": "{}",
         "name": "release_year",
         "type": "\"integer\""
        },
        {
         "metadata": "{}",
         "name": "title",
         "type": "\"string\""
        },
        {
         "metadata": "{}",
         "name": "score",
         "type": "\"decimal(4,2)\""
        },
        {
         "metadata": "{}",
         "name": "number_of_seasons",
         "type": "\"integer\""
        },
        {
         "metadata": "{}",
         "name": "main_genre",
         "type": "\"string\""
        },
        {
         "metadata": "{}",
         "name": "main_production",
         "type": "\"string\""
        },
        {
         "metadata": "{}",
         "name": "top_show_genre_of_the_year",
         "type": "{\"type\":\"array\",\"elementType\":\"string\",\"containsNull\":false}"
        }
       ],
       "type": "table"
      }
     },
     "output_type": "display_data"
    }
   ],
   "source": [
    "# getting highly apprecited show genre trends across years\n",
    "\n",
    "window_genre_shows=Window.partitionBy(\"release_year\",\"main_genre\").orderBy(\"release_year\")\n",
    "accepted_genere_shows=best_shows_df.withColumn(\"no_of_best_shows\",count(\"main_genre\").over(window_genre_shows)).orderBy(\"release_year\",col(\"no_of_best_shows\").desc())\n",
    "accepted_genere_shows=accepted_genere_shows.withColumn(\"rn\",row_number().over(window_genre_shows)).filter(col(\"rn\")==1).select(\"release_year\",\"main_genre\")\n",
    "accepted_genere_shows=accepted_genere_shows.groupBy(\"release_year\").agg(collect_list(\"main_genre\").alias(\"top_show_genre_of_the_year\")).orderBy(\"release_year\")\n",
    "\n",
    "year_wise_best_shows_df=best_show_by_year_df.join(accepted_genere_shows,on=\"release_year\",how=\"right\").orderBy(\"release_year\")\n",
    "\n",
    "\n",
    "display(year_wise_best_shows_df.limit(2))\n",
    "\n"
   ]
  }
 ],
 "metadata": {
  "application/vnd.databricks.v1+notebook": {
   "computePreferences": null,
   "dashboards": [],
   "environmentMetadata": {
    "base_environment": "",
    "client": "1"
   },
   "language": "python",
   "notebookMetadata": {
    "pythonIndentUnit": 4
   },
   "notebookName": "Netflix_data_analysis",
   "widgets": {}
  }
 },
 "nbformat": 4,
 "nbformat_minor": 0
}
